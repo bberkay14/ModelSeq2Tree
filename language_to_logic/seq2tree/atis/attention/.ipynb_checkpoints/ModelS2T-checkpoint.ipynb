{
 "cells": [
  {
   "cell_type": "code",
   "execution_count": 1,
   "metadata": {},
   "outputs": [
    {
     "name": "stderr",
     "output_type": "stream",
     "text": [
      "┌ Info: Precompiling Images [916415d5-f1e6-5110-898d-aaa5f9f070e0]\n",
      "└ @ Base loading.jl:1278\n",
      "┌ Warning: The call to compilecache failed to create a usable precompiled cache file for ImageAxes [2803e5a7-5153-5ecf-9a86-9b4c37f5f5ac]\n",
      "│   exception = Required dependency ArrayInterface [4fba245c-0d91-5ea0-9b3e-6abc04ee57a9] failed to load from a cache file.\n",
      "└ @ Base loading.jl:1042\n",
      "┌ Warning: Module ImageAxes with build ID 15701893875147853 is missing from the cache.\n",
      "│ This may mean ImageAxes [2803e5a7-5153-5ecf-9a86-9b4c37f5f5ac] does not support precompilation but is imported by a module that does.\n",
      "└ @ Base loading.jl:1017\n",
      "┌ Warning: The call to compilecache failed to create a usable precompiled cache file for Images [916415d5-f1e6-5110-898d-aaa5f9f070e0]\n",
      "│   exception = ErrorException(\"Required dependency ArrayInterface [4fba245c-0d91-5ea0-9b3e-6abc04ee57a9] failed to load from a cache file.\")\n",
      "└ @ Base loading.jl:1042\n",
      "┌ Info: Precompiling ImageAxes [2803e5a7-5153-5ecf-9a86-9b4c37f5f5ac]\n",
      "└ @ Base loading.jl:1278\n",
      "┌ Warning: The call to compilecache failed to create a usable precompiled cache file for ImageAxes [2803e5a7-5153-5ecf-9a86-9b4c37f5f5ac]\n",
      "│   exception = ErrorException(\"Required dependency ArrayInterface [4fba245c-0d91-5ea0-9b3e-6abc04ee57a9] failed to load from a cache file.\")\n",
      "└ @ Base loading.jl:1042\n",
      "┌ Info: Precompiling ImageMetadata [bc367c6b-8a6b-528e-b4bd-a4b897500b49]\n",
      "└ @ Base loading.jl:1278\n",
      "┌ Warning: Module ImageAxes with build ID 15701918086997501 is missing from the cache.\n",
      "│ This may mean ImageAxes [2803e5a7-5153-5ecf-9a86-9b4c37f5f5ac] does not support precompilation but is imported by a module that does.\n",
      "└ @ Base loading.jl:1017\n",
      "┌ Info: Skipping precompilation since __precompile__(false). Importing ImageMetadata [bc367c6b-8a6b-528e-b4bd-a4b897500b49].\n",
      "└ @ Base loading.jl:1034\n"
     ]
    }
   ],
   "source": [
    "using Knet , CUDA, IterTools\n",
    "using  Test, Base.Iterators, Printf, LinearAlgebra, Random\n",
    "include(\"../tree.jl\")\n",
    "Knet.atype() = KnetArray{Float32}\n",
    "using JLD2\n",
    "using ArgParse\n",
    "using Distributions\n",
    "using Statistics\n",
    "using Images"
   ]
  },
  {
   "cell_type": "code",
   "execution_count": 3,
   "metadata": {},
   "outputs": [
    {
     "data": {
      "text/plain": [
       "xavier (generic function with 1 method)"
      ]
     },
     "execution_count": 3,
     "metadata": {},
     "output_type": "execute_result"
    }
   ],
   "source": [
    "\n",
    "mutable struct RNN\n",
    "    w\n",
    "    h\n",
    "    c\n",
    "    inputSize::Cint\n",
    "    hiddenSize::Cint\n",
    "    numLayers::Cint\n",
    "    dropout::Float64\n",
    "    seed::Culonglong\n",
    "    inputMode::Cint    # CUDNN_LINEAR_INPUT = 0, CUDNN_SKIP_INPUT = 1\n",
    "    direction::Cint    # CUDNN_UNIDIRECTIONAL = 0, CUDNN_BIDIRECTIONAL = 1\n",
    "    mode::Cint         # CUDNN_RNN_RELU = 0, CUDNN_RNN_TANH = 1, CUDNN_LSTM = 2, CUDNN_GRU = 3\n",
    "    algo::Cint         # CUDNN_RNN_ALGO_STANDARD = 0, CUDNN_RNN_ALGO_PERSIST_STATIC = 1, CUDNN_RNN_ALGO_PERSIST_DYNAMIC = 2\n",
    "    dataType::DataType # CUDNN_DATA_FLOAT  = 0, CUDNN_DATA_DOUBLE = 1, CUDNN_DATA_HALF   = 2\n",
    "    rnnDesc\n",
    "    dropoutDesc\n",
    "    dx\n",
    "    dhx\n",
    "    dcx\n",
    "end\n",
    "\n",
    "function RNN(inputSize, hiddenSize; h=nothing, c=nothing,\n",
    "             rnnType=:lstm,       # CUDNN_RNN_RELU = 0, CUDNN_RNN_TANH = 1, CUDNN_LSTM = 2, CUDNN_GRU = 3\n",
    "             bidirectional=false, # CUDNN_UNIDIRECTIONAL = 0, CUDNN_BIDIRECTIONAL = 1\n",
    "             skipInput=false,     # CUDNN_LINEAR_INPUT = 0, CUDNN_SKIP_INPUT = 1\n",
    "             numLayers=1,\n",
    "             dropout=0.0,\n",
    "             winit=xavier,\n",
    "             binit=zeros,\n",
    "             finit=ones,          # forget bias for lstm\n",
    "             algo=0,              # CUDNN_RNN_ALGO_STANDARD = 0, CUDNN_RNN_ALGO_PERSIST_STATIC = 1, CUDNN_RNN_ALGO_PERSIST_DYNAMIC = 2\n",
    "             seed=0,              # seed=0 for random init, positive integer for replicability\n",
    "             atype=Knet.atype(),\n",
    "             # deprecated\n",
    "             dataType=nothing,    # CUDNN_DATA_FLOAT  = 0, CUDNN_DATA_DOUBLE = 1, CUDNN_DATA_HALF   = 2\n",
    "             usegpu=nothing,\n",
    "             handle=nothing,\n",
    "             )\n",
    "    if handle !== nothing\n",
    "        @warn \"The handle option is deprecated, GPU implementation using CUDNN.handle()\" maxlog=1\n",
    "    end\n",
    "    if dataType !== nothing || usegpu !== nothing\n",
    "        @warn \"dataType and usegpu options are deprecated, using atype=$atype\" maxlog=1\n",
    "    end\n",
    "    dataType = eltype(atype)\n",
    "    usegpu = !(atype <: Array)\n",
    "\n",
    "    w = dx = dhx = dcx = nothing\n",
    "    inputSize = Cint(inputSize)\n",
    "    hiddenSize = Cint(hiddenSize)\n",
    "    numLayers = Cint(numLayers)\n",
    "    dropout = Float64(dropout)\n",
    "    seed = Culonglong(seed)\n",
    "    inputMode = Cint(skipInput ? 1 : 0)\n",
    "    direction = Cint(bidirectional ? 1 : 0)\n",
    "    mode = findfirst(isequal(rnnType), (:relu,:tanh,:lstm,:gru))\n",
    "    @assert mode !== nothing \"RNN: Valid modes are :relu,:tanh,:lstm,:gru\"\n",
    "    mode = Cint(mode - 1)\n",
    "    algo = Cint(algo)\n",
    "    # These should be set by the gpu implementations during first rnnforw:\n",
    "    dropoutDesc = nothing # usegpu ? DD(handle=handle,dropout=dropout,seed=seed) : nothing # Need to keep dropoutDesc in RNN so it does not get gc'ed.\n",
    "    rnnDesc = nothing # usegpu ? RD(hiddenSize,numLayers,dropoutDesc,inputMode,direction,mode,algo,dataType) : nothing\n",
    "    r = RNN(w,h,c,inputSize,hiddenSize,numLayers,dropout,seed,inputMode,direction,mode,algo,dataType,rnnDesc,dropoutDesc,dx,dhx,dcx)\n",
    "\n",
    "    r.w = Array{dataType}(undef,1,1,getRNNParamsSize(r))\n",
    "    for a in rnnparams(r; useview=true)\n",
    "        if a == nothing\n",
    "            continue\n",
    "        elseif ndims(a) == 2\n",
    "            copyto!(a, winit(dataType, size(a)))\n",
    "        elseif ndims(a) == 1\n",
    "            copyto!(a, binit(dataType, size(a)))\n",
    "        else\n",
    "            error(\"Invalid RNN param $(summary(a))\")\n",
    "        end\n",
    "    end\n",
    "    if rnnType == :lstm         # separate initialization for lstm forget biases\n",
    "        for layer in 1:(numLayers*(bidirectional ? 2 : 1)), id in (2,6), param in (2,)\n",
    "            a = rnnparam(r, layer, id, param, useview=true)\n",
    "            if a != nothing\n",
    "                copyto!(a, finit(dataType, size(a)))\n",
    "            end\n",
    "        end\n",
    "    end\n",
    "    # get rid of dimension keeping array/element type in case someone hands us atype=typeof(x)=KnetArray{Float32,2}\n",
    "    if atype isa DataType; atype = (atype.name.wrapper){dataType}; end\n",
    "    # many copyto! ops to gpu is expensive (~20s), so we init on cpu and copy it over once here.\n",
    "    r.w = convert(atype, r.w)\n",
    "    r.w = Param(r.w)\n",
    "    return r\n",
    "end\n",
    "\n",
    "\"\"\"\n",
    "    rnnparam(r::RNN, layer, id, param)\n",
    "Return a single weight matrix or bias vector as a slice of RNN weights.\n",
    "Valid `layer` values:\n",
    "* For unidirectional RNNs 1:numLayers\n",
    "* For bidirectional RNNs 1:2*numLayers, forw and back layers alternate.\n",
    "Valid `id` values:\n",
    "* For RELU and TANH RNNs, input = 1, hidden = 2.\n",
    "* For GRU reset = 1,4; update = 2,5; newmem = 3,6; 1:3 for input, 4:6 for hidden\n",
    "* For LSTM inputgate = 1,5; forget = 2,6; newmem = 3,7; output = 4,8; 1:4 for input, 5:8 for hidden\n",
    "Valid `param` values:\n",
    "* Return the weight matrix (transposed!) if `param==1`.\n",
    "* Return the bias vector if `param==2`.\n",
    "The effect of skipInput: Let I=1 for RELU/TANH, 1:3 for GRU, 1:4 for LSTM\n",
    "* For skipInput=false (default), rnnparam(r,1,I,1) is a (inputSize,hiddenSize) matrix.\n",
    "* For skipInput=true, rnnparam(r,1,I,1) is `nothing`.\n",
    "* For bidirectional, the same applies to rnnparam(r,2,I,1): the first back layer.\n",
    "* The input biases (par=2) are returned even if skipInput=true.\n",
    "\"\"\"\n",
    "function rnnparam(r::RNN, layer::Integer, id::Integer, par::Integer; useview=true)\n",
    "    params_are_good = \n",
    "    ((1 <= par <= 2) &&\n",
    "     ((r.direction == 0 && 1 <= layer <= r.numLayers) ||\n",
    "      (r.direction == 1 && 1 <= layer <= 2*r.numLayers)) &&\n",
    "     ((r.mode == 0 && 1 <= id <= 2) ||\n",
    "      (r.mode == 1 && 1 <= id <= 2) ||\n",
    "      (r.mode == 2 && 1 <= id <= 8) ||\n",
    "      (r.mode == 3 && 1 <= id <= 6)))\n",
    "    params_are_good || throw(ArgumentError(\"Bad arguments for rnnparam, please see `@doc rnnparam`.\"))\n",
    "    should_return_nothing =\n",
    "        ((r.inputMode == 1) &&\n",
    "         (par == 1) &&\n",
    "         ((r.mode == 0 && id == 1) ||\n",
    "          (r.mode == 1 && id == 1) ||\n",
    "          (r.mode == 2 && 1 <= id <= 4) ||\n",
    "          (r.mode == 3 && 1 <= id <= 3)) &&\n",
    "         ((layer == 1) ||\n",
    "          (r.direction == 1 && layer == 2)))\n",
    "\n",
    "    i1 = i2 = len = 0\n",
    "    w = value(r.w)\n",
    "    # guess i1,i2,len from layer,id,par and rnn specs\n",
    "    ids = rnnids(r)\n",
    "    if par == 1 # matrix\n",
    "        # input matrices are (inputSize,hiddenSize) all others (hiddenSize,hiddenSize)\n",
    "        # if inputMode==1 then input matrices are empty\n",
    "        # I=1 for RELU/TANH, 1:3 for GRU, 1:4 for LSTM are input matrices with L=1 for uni and L=1,2 for bi\n",
    "        inputLayer(r,l)=(l==1 || (l==2 && r.direction==1))\n",
    "        X, H = r.inputSize, r.hiddenSize\n",
    "        XH, HH = X*H, H*H\n",
    "        inputIds = div(ids,2)\n",
    "        for l = 1:layer, i = 1:ids\n",
    "            if inputLayer(r,l) && i <= inputIds\n",
    "                len = (r.inputMode==0 ? XH : 0)\n",
    "            elseif l>2 && r.direction==1 && i <= div(ids, 2)\n",
    "                # bidirectional weight\n",
    "                len = 2HH\n",
    "            else\n",
    "                len = HH\n",
    "            end\n",
    "            i2 += len\n",
    "            if l==layer && i==id; break; end\n",
    "        end\n",
    "        i1 = i2 - len + 1\n",
    "    else # bias\n",
    "        # all biases are length=hidden and there are always numLayers * numIds of them\n",
    "        len = r.hiddenSize\n",
    "        layers = r.numLayers * (r.direction == 1 ? 2 : 1)\n",
    "        i1 = 1 + length(w) - layers * ids * len + ((id-1) + ids * (layer-1)) * len\n",
    "        i2 = i1 + len - 1\n",
    "    end\n",
    "    if i1 > i2\n",
    "        @assert should_return_nothing\n",
    "        nothing\n",
    "    elseif par == 1 # matrix; weights are transposed\n",
    "        h = Int(r.hiddenSize)\n",
    "        reshape(view(r.w, i1:i2),:,h)\n",
    "    else # bias\n",
    "        view(r.w, i1:i2)\n",
    "    end\n",
    "end\n",
    "\n",
    "\n",
    "function show(io::IO, r::RNN)\n",
    "    print(io, (\"RNNRELU\",\"RNNTANH\",\"LSTM\",\"GRU\")[r.mode+1], \"(input=\", r.inputSize, \",hidden=\", r.hiddenSize)\n",
    "    if r.direction == 1; print(io, \",bidirectional\"); end\n",
    "    if r.numLayers > 1; print(io, \",layers=\", r.numLayers); end\n",
    "    if r.dropout > 0; print(io, \",dropout=\", r.dropout); end\n",
    "    if r.inputMode == 1; print(io, \",skipinput\"); end\n",
    "    if r.dataType != Float32; print(io, ',', r.dataType); end\n",
    "    print(io, ')')\n",
    "end\n",
    "\n",
    "\"\"\"\n",
    "    rnnparams(r::RNN)\n",
    "Return the RNN parameters as an Array{Any}.\n",
    "The order of params returned (subject to change):\n",
    "* All weight matrices come before all bias vectors.\n",
    "* Matrices and biases are sorted lexically based on (layer,id).\n",
    "* See @doc rnnparam for valid layer and id values.\n",
    "* Input multiplying matrices are `nothing` if r.inputMode = 1.\n",
    "\"\"\"\n",
    "function rnnparams(r::RNN; useview=false)\n",
    "    layers = r.numLayers * (r.direction == 1 ? 2 : 1)\n",
    "    ids = rnnids(r)\n",
    "    ws = []\n",
    "    for m in (1,2)\n",
    "        for l in 1:layers\n",
    "            for i in 1:ids\n",
    "                push!(ws, rnnparam(r, l, i, m; useview=useview))\n",
    "            end\n",
    "        end\n",
    "    end\n",
    "    return ws\n",
    "end\n",
    "\n",
    "# TODO: instead of rnnparam, rnnparams, have the views represented inside the struct.\n",
    "\n",
    "rnnids(r) = (r.mode == 2 ? 8 : r.mode == 3 ? 6 : 2)\n",
    "\n",
    "function getRNNParamsSize(r::RNN)\n",
    "    whidden = r.hiddenSize * r.hiddenSize\n",
    "    winput =  r.inputMode == 1 ? 0 : r.hiddenSize * r.inputSize\n",
    "    bhidden = r.hiddenSize\n",
    "    binput =  bhidden\n",
    "    coef = (r.mode == 2 ? 4 : r.mode == 3 ? 3 : 1) * (1 + r.direction)\n",
    "    nparams = 0\n",
    "    for i = 1:r.numLayers\n",
    "        nparams += coef * (whidden + winput + bhidden + binput)\n",
    "        winput = (1 + r.direction) * whidden\n",
    "        binput = bhidden\n",
    "    end\n",
    "    # TODO: do this check on unit testing\n",
    "    # if r.rnnDesc != nothing\n",
    "    #     @assert nparams == cudnnGetRNNParamsSize(r)\n",
    "    # end\n",
    "    return nparams\n",
    "end\n",
    "\n",
    "function (r::RNN)(x; batchSizes=nothing)\n",
    "    # Check type/dims of inputs\n",
    "    XTYPE = typeof(vec(value(x)))\n",
    "    WTYPE = typeof(vec(value(r.w)))\n",
    "    # We initialize r.w to Array and then fix it during first rnnforw\n",
    "    @assert (WTYPE === XTYPE) || (r.rnnDesc === nothing && WTYPE <: Array)\n",
    "    @assert length(x) > 0\n",
    "    @assert ndims(x) <= 3\n",
    "    @assert size(x,1) == r.inputSize\n",
    "    HSIZE = (r.hiddenSize, batchSizes == nothing ? size(x,2) : batchSizes[1], r.numLayers * (r.direction + 1))\n",
    "    @assert r.h == nothing || r.h == 0 || (vec(value(r.h)) isa XTYPE && ndims(r.h) <= 3 && (size(r.h,1),size(r.h,2),size(r.h,3)) == HSIZE)\n",
    "    @assert r.c == nothing || r.c == 0 || (vec(value(r.c)) isa XTYPE && ndims(r.c) <= 3 && (size(r.c,1),size(r.c,2),size(r.c,3)) == HSIZE)\n",
    "    # apply dropout to input: rnnforw only applies it between layers.\n",
    "    # TODO: the cpu implementation does not respect the seed parameter.\n",
    "    # TODO: reconsider dropout for the input in next release.\n",
    "    # CHANGEx = dropout(x,r.dropout)\n",
    "    # use hidden inputs unless nothing or 0\n",
    "    hx = (r.h == 0 ? nothing : r.h)\n",
    "    cx = (r.c == 0 ? nothing : r.c)\n",
    "    # produce hidden outputs if hidden inputs != nothing\n",
    "    hy = (r.h != nothing)\n",
    "    cy = (r.mode == 2 && r.c != nothing)\n",
    "    (y, hyout, cyout, rs) = rnnforw(r, r.w, x, hx, cx; hy=hy, cy=cy, batchSizes=batchSizes)\n",
    "    # In a @diff context hyout and cyout will be Results\n",
    "    # This is necessary to keep dependencies if r is run several times during one forw pass\n",
    "    # However unless Results are cleared up before next iteration we will run out of memory\n",
    "    # I do the clearing in the back function when I know the iteration is done for sure.\n",
    "    if hy; r.h = hyout; end\n",
    "    if cy; r.c = cyout; end\n",
    "    return y\n",
    "end\n",
    "\n",
    "\n",
    "# CPU version: need to keep the name rnntest for unit testing\n",
    "rnnforw(r::RNN, w...; o...) = rnntest(r, w...; o...)\n",
    "\n",
    "# TODO: interface consistency, deprecate all r,w signatures, have r, signatures. Right now\n",
    "# rnninit, rnnparam, rnnparams have r,w deprecated. rnnforw is a more difficult case because\n",
    "# of the optional hx, cx parameters.\n",
    "\n",
    "function rnntest(r::RNN, ws, x, hx=nothing, cx=nothing;\n",
    "                 batchSizes=nothing,\n",
    "                 hy = (hx != nothing),\n",
    "                 cy = (cx != nothing && r.mode == 2))\n",
    "    @assert batchSizes == nothing \"batchSizes option has not been implemented for the CPU yet.\"\n",
    "    @assert value(r.w) === value(ws)\n",
    "    w = rnnparams(r)\n",
    "    X,B,T = (size(x,i) for i=1:3) # ndims(x) may be 1,2 or 3\n",
    "    @assert X == r.inputSize\n",
    "    Y = Int(r.hiddenSize * (r.direction == 1 ? 2 : 1))\n",
    "    ysize = ntuple(i->(i==1 ? Y : size(x,i)), ndims(x)) # to match ndims(y) to ndims(x)\n",
    "    H = Int(r.hiddenSize)\n",
    "    #@assert (r.inputMode == 0 || H == X)\n",
    "    L = Int(r.numLayers) * (r.direction == 1 ? 2 : 1)\n",
    "    hsize = (H, B, L)\n",
    "    @assert hx == nothing || eqsize(size(hx), hsize)\n",
    "    @assert cx == nothing || eqsize(size(cx), hsize)\n",
    "    h = hx==nothing ? fill!(similar(value(x),hsize),0) : hx\n",
    "    #  hs = Array{Any}[ h[:,:,l] for l=1:L ]\n",
    "    hs = Array{Any}(undef,L)\n",
    "    for l = 1:L\n",
    "        hs[l] = h[:,:,l]\n",
    "    end\n",
    "    ys = []\n",
    "    direction = r.direction\n",
    "    pdrop = r.dropout\n",
    "    #=\n",
    "    All complexity of bidirectional execution\n",
    "    is packed inside this inline function.\n",
    "    This causes code repetition, but  works w/o\n",
    "    touching the existing unidirectional test code\n",
    "    =#\n",
    "    @inline bidirect(update_h!) = begin\n",
    "        xl = x\n",
    "        for l = 1:(1+direction):L\n",
    "            skip = l==1 && r.inputMode==1\n",
    "            hts = []\n",
    "            if l>1; xl = dropout(xl, pdrop); end\n",
    "            for t = 1:T\n",
    "                for (i,ti) in zip([l, l+1], [t, T-t+1])\n",
    "                    # this function updates h[i]\n",
    "                    update_h!(xl, i, ti, skip)\n",
    "                    push!(hts, hs[i])\n",
    "                end\n",
    "            end\n",
    "            # construct the next layer input\n",
    "            yforw = Array{Any}(hts[1:2:end-1])\n",
    "            yback = Array{Any}(reverse(hts[2:2:end]))\n",
    "            ybs = []\n",
    "            for (yf, yb) in zip(yforw, yback)\n",
    "                push!(ybs, vcat(yf, yb))\n",
    "            end\n",
    "            # now ybs contans (2 * hiddenSize, batchSize) matrices\n",
    "            # so cat them to add time dimension\n",
    "            xl = reshape(hcat(ybs...), (2r.hiddenSize, size(x,2), length(ybs)))\n",
    "        end\n",
    "        ys = xl\n",
    "    end\n",
    "\n",
    "    if r.mode <= 1\n",
    "        #@assert r.inputMode == 0 || all(w[1:1+r.direction] .== nothing)\n",
    "        f = r.mode == 0 ? relu : tanh\n",
    "        if direction == 0\n",
    "            for t = 1:T\n",
    "                for l = 1:L\n",
    "                    xl = l>1 ? dropout(hs[l-1], pdrop) : nothing\n",
    "                    wx,wh,bx,bh = w[2l-1],w[2l],w[2L+2l-1],w[2L+2l]\n",
    "                    wxt = (l > 1 ? wx' * xl : r.inputMode==0 ? wx' * x[:,:,t] : x[:,:,t])\n",
    "                    hs[l] = f.(wxt .+ wh' * hs[l] .+ bx .+ bh)\n",
    "                end\n",
    "                push!(ys, hs[L])\n",
    "            end\n",
    "        else\n",
    "            bidirect() do xl, i, ti, skip\n",
    "                wx,wh,bx,bh = w[2i-1],w[2i],w[2L+2i-1],w[2L+2i]\n",
    "                wxt =  skip ? xl[:,:,ti] : wx' * xl[:,:,ti]\n",
    "                hs[i] = f.(wxt .+ wh' * hs[i] .+ bx .+ bh)\n",
    "            end\n",
    "        end\n",
    "    elseif r.mode == 2           # LSTM\n",
    "        #@assert r.inputMode == 0 || all(w[1:4*(1+r.direction)] .== nothing)\n",
    "        # it = σ(Wixt + Riht-1 + bWi + bRi)\n",
    "        # ft = σ(Wfxt + Rfht-1 + bWf + bRf)\n",
    "        # ot = σ(Woxt + Roht-1 + bWo + bRo)\n",
    "        # c't = tanh(Wcxt + Rcht-1 + bWc + bRc)\n",
    "        # ct = ft◦ct-1 + it◦c't\n",
    "        # ht = ot◦tanh(ct)\n",
    "        c = cx==nothing ? fill!(similar(value(x),hsize),0) : cx\n",
    "        cs = Array{Any}(undef,L)\n",
    "        for l = 1:L\n",
    "            cs[l] = c[:,:,l]\n",
    "        end\n",
    "        if direction == 0\n",
    "            for t = 1:T\n",
    "                for l = 1:L\n",
    "                    xl = l>1 ? dropout(hs[l-1], pdrop; seed=123) : nothing\n",
    "                    Wi,Wf,Wc,Wo,Ri,Rf,Rc,Ro = w[1+8*(l-1):8l]\n",
    "                    bWi,bWf,bWc,bWo,bRi,bRf,bRc,bRo = w[8L+1+8*(l-1):8L+8l]\n",
    "                    Wixt = (l > 1 ? Wi' * xl : r.inputMode==0 ? Wi' * x[:,:,t] : x[:,:,t])\n",
    "                    Wfxt = (l > 1 ? Wf' * xl : r.inputMode==0 ? Wf' * x[:,:,t] : x[:,:,t])\n",
    "                    Wcxt = (l > 1 ? Wc' * xl : r.inputMode==0 ? Wc' * x[:,:,t] : x[:,:,t])\n",
    "                    Woxt = (l > 1 ? Wo' * xl : r.inputMode==0 ? Wo' * x[:,:,t] : x[:,:,t])\n",
    "                    it = sigm.(Wixt .+ Ri' * hs[l] .+ bWi .+ bRi)\n",
    "                    ft = sigm.(Wfxt .+ Rf' * hs[l] .+ bWf .+ bRf)\n",
    "                    ot = sigm.(Woxt .+ Ro' * hs[l] .+ bWo .+ bRo)\n",
    "                    cn = tanh.(Wcxt .+ Rc' * hs[l] .+ bWc .+ bRc)\n",
    "                    cndd = dropout(cn, pdrop; seed=123)\n",
    "                    cs[l] = ft .* cs[l] .+ it .* cndd\n",
    "                    hs[l] = ot .* tanh.(cs[l])\n",
    "                end\n",
    "                push!(ys, hs[L])\n",
    "            end\n",
    "        else\n",
    "            bidirect() do xl, i, ti, skip\n",
    "                Wi,Wf,Wc,Wo,Ri,Rf,Rc,Ro = w[1+8*(i-1):8i]\n",
    "                bWi,bWf,bWc,bWo,bRi,bRf,bRc,bRo = w[8L+1+8*(i-1):8L+8i]\n",
    "                Wixt = skip ? xl[:,:,ti] : Wi' * xl[:,:,ti]\n",
    "                Wfxt = skip ? xl[:,:,ti] : Wf' * xl[:,:,ti]\n",
    "                Wcxt = skip ? xl[:,:,ti] : Wc' * xl[:,:,ti]\n",
    "                Woxt = skip ? xl[:,:,ti] : Wo' * xl[:,:,ti]\n",
    "                it = sigm.(Wixt .+ Ri' * hs[i] .+ bWi .+ bRi)\n",
    "                ft = sigm.(Wfxt .+ Rf' * hs[i] .+ bWf .+ bRf)\n",
    "                ot = sigm.(Woxt .+ Ro' * hs[i] .+ bWo .+ bRo)\n",
    "                cn = tanh.(Wcxt .+ Rc' * hs[i] .+ bWc .+ bRc)\n",
    "                cs[i] = ft .* cs[i] .+ it .* cn\n",
    "                hs[i] = ot .* tanh.(cs[i])\n",
    "            end\n",
    "        end\n",
    "    elseif r.mode == 3           # GRU\n",
    "        #@assert r.inputMode == 0 || all(w[1:3*(1+r.direction)] .== nothing)\n",
    "        # rt = σ(Wrxt + Rrht-1 + bWr + bRr)\n",
    "        # it = σ(Wixt + Riht-1 + bWi + bRu)\n",
    "        # h't = tanh(Whxt + rt◦(Rhht-1 + bRh) + bWh)\n",
    "        # ht = (1 - it)◦h't + it◦ht-1\n",
    "        if direction == 0\n",
    "            for t = 1:T\n",
    "                for l = 1:L\n",
    "                    xl = l>1 ? dropout(hs[l-1], pdrop) : nothing\n",
    "                    Wr,Wi,Wh,Rr,Ri,Rh = w[1+6*(l-1):6l]\n",
    "                    bWr,bWi,bWh,bRr,bRi,bRh = w[6L+1+6*(l-1):6L+6l]\n",
    "                    Wrxt = (l > 1 ? Wr' * xl : r.inputMode==0 ? Wr' * x[:,:,t] : x[:,:,t])\n",
    "                    Wixt = (l > 1 ? Wi' * xl : r.inputMode==0 ? Wi' * x[:,:,t] : x[:,:,t])\n",
    "                    Whxt = (l > 1 ? Wh' * xl : r.inputMode==0 ? Wh' * x[:,:,t] : x[:,:,t])\n",
    "                    rt = sigm.(Wrxt .+ Rr' * hs[l] .+ bWr .+ bRr)\n",
    "                    it = sigm.(Wixt .+ Ri' * hs[l] .+ bWi .+ bRi)\n",
    "                    ht = tanh.(Whxt .+ rt .* (Rh' * hs[l] .+ bRh) .+ bWh)\n",
    "                    hs[l] = (1 .- it) .* ht .+ it .* hs[l]\n",
    "                end\n",
    "                push!(ys, hs[L])\n",
    "            end\n",
    "        else\n",
    "            bidirect() do xl, i, ti, skip\n",
    "                Wr,Wi,Wh,Rr,Ri,Rh = w[1+6*(i-1):6i]\n",
    "                bWr,bWi,bWh,bRr,bRi,bRh = w[6L+1+6*(i-1):6L+6i]\n",
    "                Wrxt = skip ? xl[:, :, ti] : Wr' * xl[:, :, ti]\n",
    "                Wixt = skip ? xl[:, :, ti] : Wi' * xl[:, :, ti]\n",
    "                Whxt = skip ? xl[:, :, ti] : Wh' * xl[:, :, ti]\n",
    "                rt = sigm.(Wrxt .+ Rr' * hs[i] .+ bWr .+ bRr)\n",
    "                it = sigm.(Wixt .+ Ri' * hs[i] .+ bWi .+ bRi)\n",
    "                ht = tanh.(Whxt .+ rt .* (Rh' * hs[i] .+ bRh) .+ bWh)\n",
    "                hs[i] = (1 .- it) .* ht .+ it .* hs[i]\n",
    "            end\n",
    "        end\n",
    "    else\n",
    "        error(\"RNN not supported\")\n",
    "    end\n",
    "    y = r.direction == 0 ? reshape(hcat(ys...), ysize) : reshape(ys,ysize)\n",
    "    hyout = hy ? reshape(hcat(hs...), hsize) : nothing\n",
    "    cyout = cy && r.mode == 2 ? reshape(hcat(cs...), hsize) : nothing\n",
    "    return (y,hyout,cyout,nothing,nothing)\n",
    "end\n",
    "\n",
    "# compare sizes ignoring trailing ones\n",
    "function eqsize(a, b)\n",
    "    na = length(a)\n",
    "    nb = length(b)\n",
    "    (na == nb ? a == b : na > nb ? \n",
    "     a[1:nb] == b && all(a[nb+1:end] .== 1) :\n",
    "     b[1:na] == a && all(b[na+1:end] .== 1))\n",
    "end\n",
    "\n",
    "## TO BE DEPRECATED:\n",
    "function rnninit(x...; o...)\n",
    "    # @warn \"rnninit is deprecated, use RNN instead\" maxlog=1\n",
    "    r=RNN(x...; o...)\n",
    "    return (r,value(r.w))\n",
    "end\n",
    "\n",
    "function rnnparams(r,w;o...)\n",
    "    # @warn \"rnnparams(r,w) is deprecated, use rnnparams(r) instead\" maxlog=1\n",
    "    @assert value(w)===value(r.w)\n",
    "    rnnparams(r;o...)\n",
    "end\n",
    "\n",
    "function rnnparam(r,w,l,i,d;o...)\n",
    "    # @warn \"rnnparam(r,w,l,i,d) is deprecated, use rnnparam(r,l,i,d) instead\" maxlog=1\n",
    "    @assert value(w)===value(r.w)\n",
    "    rnnparam(r,l,i,d;o...)\n",
    "end\n",
    "\n",
    "function xavier(a...; gain=1)\n",
    "    w = rand(a...)\n",
    "    @assert ndims(w) == 2\n",
    "    fanout, fanin = size(w)\n",
    "    s = convert(eltype(w), gain*sqrt(6 / (fanin + fanout)))\n",
    "    return 2s .* w .- s\n",
    "end"
   ]
  },
  {
   "cell_type": "code",
   "execution_count": 4,
   "metadata": {},
   "outputs": [
    {
     "data": {
      "text/plain": [
       "get_symbol_idx_for_list (generic function with 1 method)"
      ]
     },
     "execution_count": 4,
     "metadata": {},
     "output_type": "execute_result"
    }
   ],
   "source": [
    "mutable struct SymbolsManager\n",
    "    symbol2idx#::Dict{String,Int}\n",
    "    idx2symbol#::Dict{Int,String}\n",
    "    vocab_size#::Int\n",
    "    whether_add_special_tags#::Bool\n",
    "end\n",
    "\n",
    "function SymbolsManager(whether_add_special_tags)\n",
    "    symbol2idx = Dict()\n",
    "    idx2symbol = Dict()\n",
    "    vocab_size = 0\n",
    "    symbols_manager = SymbolsManager(symbol2idx, idx2symbol, vocab_size, whether_add_special_tags)\n",
    "    if whether_add_special_tags\n",
    "        add_symbol(symbols_manager,\"<S>\")\n",
    "        add_symbol(symbols_manager, \"<E>\")\n",
    "        add_symbol(symbols_manager, \"<U>\")\n",
    "        # non-terminal symbol = 4\n",
    "        add_symbol(symbols_manager, \"<N>\")\n",
    "        \n",
    "    end\n",
    "    return symbols_manager\n",
    "end\n",
    "\n",
    "function add_symbol(m::SymbolsManager, s)\n",
    "    if s ∉ keys(m.symbol2idx)\n",
    "        m.vocab_size = m.vocab_size + 1\n",
    "        merge!(m.symbol2idx, Dict(s => m.vocab_size))\n",
    "        merge!(m.idx2symbol, Dict(m.vocab_size=>s))\n",
    "    end\n",
    "    return m.symbol2idx[s]\n",
    "end\n",
    "\n",
    "function get_symbol_idx(s_man::SymbolsManager, s)\n",
    "    if s ∉ keys(s_man.symbol2idx)\n",
    "        if s_man.whether_add_special_tags\n",
    "            return s_man.symbol2idx[\"<U>\"]\n",
    "        else\n",
    "            println(\"this should never be reached (always add <U>\")\n",
    "            return 0\n",
    "        end\n",
    "    end\n",
    "    return s_man.symbol2idx[s]\n",
    "end\n",
    "\n",
    "function get_idx_symbol(s_man::SymbolsManager, idx)\n",
    "    if idx ∉ keys(s_man.idx2symbol)\n",
    "        return \"<U>\"\n",
    "    end\n",
    "    return s_man.idx2symbol[idx]\n",
    "end\n",
    "\n",
    "function init_from_file(s_man::SymbolsManager, fn, min_freq, max_vocab_size)\n",
    "    open(fn) do file\n",
    "        for line in eachline(file)\n",
    "            l_list = split(strip(line), \"\\t\")\n",
    "            c = parse.(Int,l_list[2] )\n",
    "            if c >= min_freq\n",
    "                add_symbol(s_man, l_list[1])\n",
    "            end\n",
    "            if s_man.vocab_size >= max_vocab_size\n",
    "                break\n",
    "            end\n",
    "        end\n",
    "    end\n",
    "end\n",
    "\n",
    "function get_symbol_idx_for_list(s_man::SymbolsManager,l)\n",
    "    r = []\n",
    "    for i in 1:(length(l))\n",
    "        push!(r, get_symbol_idx(s_man, l[i]))\n",
    "    end\n",
    "    return r\n",
    "end"
   ]
  },
  {
   "cell_type": "code",
   "execution_count": 5,
   "metadata": {},
   "outputs": [
    {
     "data": {
      "text/plain": [
       "convert_to_tree (generic function with 1 method)"
      ]
     },
     "execution_count": 5,
     "metadata": {},
     "output_type": "execute_result"
    }
   ],
   "source": [
    "function convert_to_tree(r_list, i_left, i_right, form_manager)\n",
    "    t = Tree()\n",
    "    level = 0\n",
    "    left = -1\n",
    "    for i in range(i_left,stop=i_right)\n",
    "        if r_list[i] ==  get_symbol_idx(form_manager,\"(\")\n",
    "            if level == 0\n",
    "                left = i\n",
    "            end\n",
    "            level = level + 1\n",
    "        elseif r_list[i] == get_symbol_idx(form_manager ,\")\")\n",
    "            level = level - 1\n",
    "            if level == 0\n",
    "                c = convert_to_tree(r_list, left + 1, i - 1, form_manager)\n",
    "                add_child(t, c)\n",
    "            end\n",
    "        elseif level == 0\n",
    "            add_child(t, r_list[i])\n",
    "            \n",
    "        end\n",
    "    end\n",
    "    return t\n",
    "end"
   ]
  },
  {
   "cell_type": "code",
   "execution_count": 6,
   "metadata": {},
   "outputs": [],
   "source": [
    "function process_train_data()\n",
    "    word_manager = SymbolsManager(true)\n",
    "\n",
    "    init_from_file(word_manager, \"../data/vocab.q.txt\", 2, 15000)\n",
    "    form_manager = SymbolsManager(true)\n",
    "\n",
    "    init_from_file(form_manager,\"../data/vocab.f.txt\", 0, 15000)\n",
    "    data = []\n",
    "    open(\"../data/train.txt\", \"r\") do file\n",
    "        for line in eachline(file)\n",
    "            l_list = split(line, \"\\t\")\n",
    "            w_list = get_symbol_idx_for_list(word_manager, split(strip(l_list[1]), \" \"))\n",
    "            r_list = get_symbol_idx_for_list(form_manager, split(strip(l_list[2]), \" \"))\n",
    "            cur_tree = convert_to_tree(r_list, 1, length(r_list), form_manager)\n",
    "            push!(data, (w_list, r_list, cur_tree))\n",
    "        end\n",
    "    end\n",
    "    out_mapfile = \"../data/\" * \"/map.jld2\"\n",
    "    out_datafile = \"../data/\" * \"/train.jld2\"\n",
    "    managers = [word_manager, form_manager]\n",
    "\n",
    "    @save out_mapfile managers\n",
    "    @save out_datafile  data\n",
    "end\n",
    "\n",
    "\n",
    "function serialize_data( name)\n",
    "    data = []\n",
    "    @load  (\"../data/\" * \"/map.jld2\") managers\n",
    "    word_manager, form_manager = managers\n",
    "    open(\"../data/$name.txt\", \"r\") do file\n",
    "        for line in eachline(file)\n",
    "            l_list = split(line, \"\\t\")\n",
    "            w_list = get_symbol_idx_for_list(word_manager, split(strip(l_list[1]), \" \"))\n",
    "            r_list = get_symbol_idx_for_list(form_manager, split(strip(l_list[2]), \" \"))\n",
    "            cur_tree = convert_to_tree(r_list, 1, length(r_list), form_manager)\n",
    "            push!(data, (w_list, r_list, cur_tree))\n",
    "        end\n",
    "    end\n",
    "    out_datafile = \"../data/\" * \"/$name.jld2\"\n",
    "    @save out_datafile  data\n",
    "end\n",
    "\n",
    "\n",
    "process_train_data()\n",
    "serialize_data( \"test\")\n",
    "serialize_data( \"dev\")"
   ]
  },
  {
   "cell_type": "code",
   "execution_count": 7,
   "metadata": {},
   "outputs": [
    {
     "data": {
      "text/plain": [
       "all_batch (generic function with 1 method)"
      ]
     },
     "execution_count": 7,
     "metadata": {},
     "output_type": "execute_result"
    }
   ],
   "source": [
    "struct MinibatchLoader\n",
    "    enc_batch_list\n",
    "    enc_len_batch_list\n",
    "    dec_batch_list\n",
    "    num_batch\n",
    "    \n",
    "end\n",
    "\n",
    "function MinibatchLoader( mode, using_gpu)\n",
    "    path_data = \"../data/\" * \"/\" * string(mode) * \".jld2\"\n",
    "    @load  ( \"../data/\" * \"/\" * string(mode) * \".jld2\") data\n",
    "    \n",
    "    # -- batch padding\n",
    "    if length(data) % 20 != 0\n",
    "        n = length(data)\n",
    "        for i in 1:(length(data)%20) \n",
    "            insert!(data, n-i+1, data[n-i+1])\n",
    "        end\n",
    "    end\n",
    "    \n",
    "    enc_batch_list = []\n",
    "    enc_len_batch_list = []\n",
    "    dec_batch_list = []\n",
    "    \n",
    "    p = 0\n",
    "    while p + 20 <= length(data)\n",
    "        # -- build enc matrix\n",
    "        max_len = length(data[p + 20 ][1])\n",
    "        m_text = zeros(Int64, (20, max_len + 2))\n",
    "        enc_len_list = []\n",
    "        # -- add <S>\n",
    "        m_text[:,1] .= 1\n",
    "        for i in 1:20 \n",
    "            w_list = data[p + i][1]\n",
    "            for j in range(1, stop=length(w_list))\n",
    "                # -- reversed order\n",
    "                m_text[i,j+1] = w_list[length(w_list) - j + 1]\n",
    "            end\n",
    "            # -- add <E> (for encoder, we need dummy <E> at the end)\n",
    "            for j in range(length(w_list)+2,stop=max_len+2)\n",
    "                m_text[i, j] = 2\n",
    "            end\n",
    "            \n",
    "            push!(enc_len_list, length(w_list)+2)\n",
    "        end\n",
    "\n",
    "        push!(enc_batch_list, m_text)\n",
    "        push!(enc_len_batch_list, enc_len_list)\n",
    "        # -- build dec tree list\n",
    "        tree_batch = []\n",
    "        for i in range(1, stop=20)\n",
    "            push!(tree_batch, data[p+i][3])\n",
    "        end\n",
    "        push!(dec_batch_list, tree_batch)\n",
    "        \n",
    "        p = p + 20\n",
    "    end\n",
    "    num_batch = length(enc_batch_list)\n",
    "    return MinibatchLoader(enc_batch_list, enc_len_batch_list, dec_batch_list, num_batch)\n",
    "end\n",
    "\n",
    "Base.IteratorSize(::Type{MinibatchLoader}) = Base.SizeUnknown()\n",
    "Base.IteratorEltype(::Type{MinibatchLoader}) = Base.HasEltype()\n",
    "\n",
    "\n",
    "function Base.iterate(mbl::MinibatchLoader, state=nothing)\n",
    "    if (state == nothing) & (mbl.enc_batch_list != nothing)\n",
    "        next_enc_batch, state_a = iterate(mbl.enc_batch_list)\n",
    "        next_enc_len_batch, state_b = iterate(mbl.enc_len_batch_list)\n",
    "        next_sec_batch, state_c = iterate(mbl.dec_batch_list)\n",
    "    elseif (state > length(mbl.enc_batch_list))\n",
    "        return nothing\n",
    "    elseif (state <= length(mbl.enc_batch_list)) \n",
    "            next_enc_batch, state_a = iterate(mbl.enc_batch_list, state)\n",
    "            next_enc_len_batch, state_b = iterate(mbl.enc_len_batch_list, state)\n",
    "            next_sec_batch, state_c = iterate(mbl.dec_batch_list, state)\n",
    "    elseif (state == nothing) & (mbl.enc_batch_list == nothing)\n",
    "        return nothing\n",
    "    end\n",
    "    if next_enc_batch == nothing \n",
    "        return nothing\n",
    "    else\n",
    "        return (next_enc_batch, next_enc_len_batch, next_sec_batch) , state_a \n",
    "    end\n",
    "end\n",
    "Base.IteratorSize(::Type{MinibatchLoader}) = Base.SizeUnknown()\n",
    "Base.IteratorEltype(::Type{MinibatchLoader}) = Base.HasEltype()\n",
    "\n",
    "function random_batch(mbl::MinibatchLoader)\n",
    "    p = rand(1:mbl.num_batch,  1)\n",
    "    \n",
    "    return mbl.enc_batch_list[p], mbl.enc_len_batch_list[p][1], mbl.dec_batch_list[p][1]\n",
    "end\n",
    "\n",
    "function all_batch(mbl::MinibatchLoader)\n",
    "    r = []\n",
    "    for p in 1:(mbl.num_batch)\n",
    "        push!(r, [mbl.enc_batch_list[p], mbl.enc_len_batch_list[p], mbl.dec_batch_list[p]])\n",
    "    end\n",
    "    return r\n",
    "end\n",
    "\n"
   ]
  },
  {
   "cell_type": "code",
   "execution_count": 8,
   "metadata": {},
   "outputs": [
    {
     "data": {
      "text/plain": [
       "compute_tree_accuracy (generic function with 1 method)"
      ]
     },
     "execution_count": 8,
     "metadata": {},
     "output_type": "execute_result"
    }
   ],
   "source": [
    "function norm_tree(r_list, form_manager)\n",
    "    q = [convert_to_tree(r_list, 1, length(r_list), form_manager)]\n",
    "    head = 1\n",
    "    while head <= length(q)\n",
    "        t = q[head]\n",
    "        # if this level is ``and'' operator\n",
    "        if length(t.children) > 0\n",
    "                if (t.children[1] == get_symbol_idx(form_manager, \"and\")) || (t.children[1] == get_symbol_idx(form_manager, \"or\"))\n",
    "                    # sort the following subchildren\n",
    "                    k = Dict()\n",
    "                    for i in range(2, stop=length(t.children))\n",
    "                        if t.children[i] isa Tree\n",
    "                            k[to_string(t.children[i])] = i\n",
    "                        else\n",
    "                            k[string.(t.children[i])] = i\n",
    "                        end\n",
    "                    end\n",
    "                    sorted_t_dict = Dict()\n",
    "                    j = 2\n",
    "                    for keyd in sort(k; byvalue=true)\n",
    "                        sorted_t_dict[j] = t.children[keyd[2]]\n",
    "                        j=j+1\n",
    "                    end\n",
    "                    for i in range(2, stop=length(t.children))\n",
    "                        if i in keys(sorted_t_dict)\n",
    "                            t.children[i] = sorted_t_dict[i]\n",
    "                        else\n",
    "                            t.children[i] = []\n",
    "                        end\n",
    "                    end\n",
    "                end\n",
    "            \n",
    "        end\n",
    "        # add children to q\n",
    "        for i in range(1, stop=length(t.children))\n",
    "            if t.children[i] isa Tree\n",
    "                push!(q, t.children[i])\n",
    "            end\n",
    "        end\n",
    "        head = head + 1\n",
    "    end\n",
    "    return q[1]\n",
    "end\n",
    "\n",
    "#pairsByKeys function unnecessary\n",
    "\n",
    "function is_all_same(c1, c2)\n",
    "    if length(c1) == length(c2)\n",
    "        all_same = true\n",
    "        for j in 1:(length(c1))\n",
    "            if c1[j] != c2[j]\n",
    "                all_same = false\n",
    "                break\n",
    "            end\n",
    "        end\n",
    "        return all_same\n",
    "    else\n",
    "        return false\n",
    "    end\n",
    "end\n",
    "\n",
    "function compute_accuracy(candidate_list, reference_list)\n",
    "    if length(candidate_list) != length(reference_list)\n",
    "        #print(\"candidate list has length {}, reference list has length {}\\n\".format(len(candidate_list), len(reference_list)))\n",
    "    end\n",
    "    len_min = min(length(candidate_list), length(reference_list))\n",
    "    c = 0\n",
    "    for i in 1:(len_min)\n",
    "        if is_all_same(candidate_list[i], reference_list[i])\n",
    "            c = c+1\n",
    "        end\n",
    "    end\n",
    "    return c/float.(len_min)\n",
    "end\n",
    "\n",
    "function compute_tree_accuracy(candidate_list_, reference_list_, form_manager)\n",
    "    candidate_list = []\n",
    "    for i in 1:(length(candidate_list_))\n",
    "        push!(candidate_list, to_list(norm_tree(candidate_list_[i], form_manager), form_manager))  \n",
    "    end\n",
    "    reference_list = []\n",
    "    for i in 1:(length(reference_list_))\n",
    "        push!(reference_list, to_list(norm_tree(reference_list_[i], form_manager), form_manager))\n",
    "    end\n",
    "    return compute_accuracy(candidate_list, reference_list)\n",
    "end"
   ]
  },
  {
   "cell_type": "code",
   "execution_count": 9,
   "metadata": {},
   "outputs": [],
   "source": [
    "struct Attention; end\n",
    "\n",
    "struct Embed; w; end\n",
    "\n",
    "struct Linear; w; b; end\n",
    "\n",
    "\n",
    "\n",
    "struct L2L\n",
    "    enc_lstm\n",
    "    dec_lstm\n",
    "    attention\n",
    "    srcembed\n",
    "    tgtembed\n",
    "    dropout\n",
    "    projection_1\n",
    "    projection_2\n",
    "    opt\n",
    "    word_manager\n",
    "    form_manager\n",
    "end"
   ]
  },
  {
   "cell_type": "code",
   "execution_count": 10,
   "metadata": {},
   "outputs": [
    {
     "data": {
      "text/plain": [
       "add_dim (generic function with 1 method)"
      ]
     },
     "execution_count": 10,
     "metadata": {},
     "output_type": "execute_result"
    }
   ],
   "source": [
    "function uniform(Flo::Type{Float32}, dim)\n",
    "    return rand(MersenneTwister(123), Uniform(-0.08,0.08),dim)\n",
    "end\n",
    "\n",
    "# You can use the following helper function for scaling and linear transformations of 3-D tensors:\n",
    "mmul(w,x) = (w == 1 ? x : w == 0 ? 0 : reshape(w * reshape(x,size(x,1),:), (:, size(x)[2:end]...)))\n",
    "add_dim(x) = reshape(x, (size(x)...,1))"
   ]
  },
  {
   "cell_type": "code",
   "execution_count": 11,
   "metadata": {},
   "outputs": [
    {
     "data": {
      "text/plain": [
       "Linear"
      ]
     },
     "execution_count": 11,
     "metadata": {},
     "output_type": "execute_result"
    }
   ],
   "source": [
    "function Embed( opt, vocabsize::Int, embedsize::Int)\n",
    "    return Embed(param(uniform(Float32, (embedsize,vocabsize,1))))\n",
    "end\n",
    "\n",
    "function Linear(opt, inputsize::Int, outputsize::Int)\n",
    "    return Linear(param(uniform(Float32, (outputsize,inputsize))), param(uniform(Float32, (outputsize))))\n",
    "end"
   ]
  },
  {
   "cell_type": "code",
   "execution_count": 12,
   "metadata": {},
   "outputs": [],
   "source": [
    "function (l::Embed)(x)\n",
    "\n",
    "    x_copy = copy(x)\n",
    "    for i in 1:size(x_copy, 1)\n",
    "        if x_copy[i] == 0\n",
    "            x_copy[i] = 2\n",
    "        end\n",
    "    end\n",
    "\n",
    "    return l.w[:,x_copy]\n",
    "\n",
    "    #return l.w[:,x]\n",
    "end\n",
    "\n",
    "function (l::Linear)(x)\n",
    "    return (mmul(l.w , x) .+ l.b)\n",
    "end"
   ]
  },
  {
   "cell_type": "code",
   "execution_count": 13,
   "metadata": {},
   "outputs": [],
   "source": [
    "struct Embed2; w; end\n",
    "function Embed2(opt, vocabsize::Int, embedsize::Int)\n",
    "    return Embed2(param(uniform(Float32, (embedsize,vocabsize+1,1))))\n",
    "end\n",
    "\n",
    "function (l::Embed2)(x)\n",
    "\n",
    "    x_copy = copy(x)\n",
    "    for i in 1:size(x_copy, 1)\n",
    "        if x_copy[i] == 0\n",
    "            x_copy[i] = 171\n",
    "        end\n",
    "    end\n",
    "\n",
    "    return l.w[:,x_copy]\n",
    "end"
   ]
  },
  {
   "cell_type": "code",
   "execution_count": 14,
   "metadata": {},
   "outputs": [],
   "source": [
    "function L2L(src_input_size, tgt_input_size, opt, form_manager, word_manager)\n",
    "    srcembed = Embed(opt, src_input_size  , opt[\"rnn_size\"])\n",
    "    tgtembed = Embed2(opt, tgt_input_size , opt[\"rnn_size\"])\n",
    "    enc_lstm = RNN(opt[\"rnn_size\"], opt[\"rnn_size\"]; winit=uniform,  dropout=0.3,   rnnType=:lstm)\n",
    "    dec_lstm = RNN(2*opt[\"rnn_size\"], opt[\"rnn_size\"];   winit=uniform, dropout=0.3,   rnnType=:lstm)\n",
    "    attention = Attention()\n",
    "    dropout = opt[\"dropoutrec\"]\n",
    "    projection_1 = Linear(opt, 2*opt[\"rnn_size\"],  opt[\"rnn_size\"] )\n",
    "    projection_2 = Linear(opt, opt[\"rnn_size\"],  tgt_input_size  )\n",
    "    opt = opt\n",
    "    form_manager = form_manager\n",
    "    word_manager = word_manager\n",
    "    return L2L(enc_lstm, dec_lstm,  attention, srcembed, tgtembed, dropout, projection_1, projection_2, opt, word_manager,form_manager)\n",
    "end\n",
    "\n",
    "\n",
    "function encode(l::L2L, src)\n",
    "    \n",
    "    src_embedding_1 = l.srcembed(src)\n",
    "    src_embedding = dropout(src_embedding_1, 0.3; seed=123)\n",
    "    encoded = l.enc_lstm(src_embedding)\n",
    "    return  encoded\n",
    "end\n",
    "\n",
    "function (a::Attention)(src_encoded, decoder_output)\n",
    "    attention_scores = bmm(   src_encoded, permutedims(decoder_output, (1,3,2)))\n",
    "    attention = Knet.softmax(attention_scores, dims=1)\n",
    "    context_vector = bmm(permutedims(attention, (2,1,3)), src_encoded)\n",
    "    return vcat(permutedims(context_vector, (2,3,1)), decoder_output ) \n",
    "end\n",
    "\n",
    "function attention_decode(l::L2L, src_encoded, decoder_output)\n",
    "\n",
    "    attention_vector = l.attention(src_encoded, decoder_output)\n",
    "    projected_mid  = tanh.(l.projection_1(attention_vector))\n",
    "    dropped_mid = dropout(projected_mid, 0.3; seed=123)\n",
    "    return l.projection_2(dropped_mid)\n",
    "end\n",
    "     \n",
    "\n",
    "function decode(l::L2L, tgt, prev_c, prev_h, parent_h)\n",
    "\n",
    "    input_tgt = l.tgtembed(tgt)\n",
    "    inputd = dropout(input_tgt, 0.3; seed=123)\n",
    "    input = cat(inputd, parent_h, dims=1)\n",
    "    l.dec_lstm.h, l.dec_lstm.c = prev_h, prev_c\n",
    "    decoder_output = l.dec_lstm(input)\n",
    "    return   decoder_output\n",
    "end\n",
    "\n",
    "\n",
    "\n",
    "function (l::L2L)(enc_batch, enc_len_batch, dec_tree_batch )\n",
    "    enc_max_len =  size(enc_batch,2)\n",
    "    dec_s = Dict()\n",
    "    enc_s = Dict()\n",
    "    \n",
    "    \n",
    "    for i in range(0,stop=l.opt[\"enc_seq_length\"] )\n",
    "        enc_s[i] = Dict()\n",
    "        for j in range(1,stop=2)\n",
    "            enc_s[i][j] = KnetArray(zeros(Float32, l.opt[\"rnn_size\"],l.opt[\"batch_size\"],1))\n",
    "        end\n",
    "    end\n",
    "    \n",
    "    for i in range(0,stop=l.opt[\"dec_seq_length\"] )\n",
    "        dec_s[i] = Dict()\n",
    "        for j in range(0,stop=l.opt[\"dec_seq_length\"])\n",
    "            dec_s[i][j] = Dict()\n",
    "            for k in range(1,stop=2)\n",
    "                dec_s[i][j][k] = KnetArray(zeros(Float32, l.opt[\"rnn_size\"],l.opt[\"batch_size\"],1))\n",
    "            end\n",
    "        end\n",
    "    end\n",
    "\n",
    "\n",
    "    l.enc_lstm.c , l.enc_lstm.h = 0, 0\n",
    "    for i in range(1, stop=enc_max_len)\n",
    "        encdd = encode(l, enc_batch[:,i])\n",
    "        enc_s[i][1] =  l.enc_lstm.h\n",
    "        enc_s[i][2] =  l.enc_lstm.c\n",
    "    end\n",
    "    \n",
    "    enc_s_top = 0\n",
    "    for i in range(1,stop=enc_max_len)\n",
    "        if i == 1\n",
    "            enc_s_top = enc_s[i][1]\n",
    "        else\n",
    "            enc_s_top = cat(enc_s_top,enc_s[i][1], dims=3)\n",
    "        end\n",
    "    end\n",
    "    enc_s_top = permutedims(enc_s_top, (3,1,2))\n",
    "\n",
    "    \n",
    "    # tree decode\n",
    "    queue_tree = Dict()\n",
    "    for i in range(1, stop=l.opt[\"batch_size\"])\n",
    "        queue_tree[i] = []\n",
    "        push!(queue_tree[i],Dict(\"tree\"=>dec_tree_batch[i], \"parent\"=>0, \"child_index\"=>1))\n",
    "    end\n",
    "    loss = 0\n",
    "    cur_index, max_index = 1,1\n",
    "    dec_batch = Dict()\n",
    "    softmax_predictions = Dict()\n",
    "    while (cur_index <= max_index)\n",
    "        # build dec_batch for cur_index\n",
    "        max_w_len = -1\n",
    "        batch_w_list = []\n",
    "        for i in range(1, stop=l.opt[\"batch_size\"])\n",
    "            w_list = []\n",
    "            if (cur_index <= length(queue_tree[i]))\n",
    "                t = queue_tree[i][cur_index ][\"tree\"]\n",
    "                for ic in range(1, stop=t.num_children)\n",
    "                    if t.children[ic] isa Tree\n",
    "                        push!(w_list, 4)\n",
    "                        push!(queue_tree[i], Dict(\"tree\"=>t.children[ic], \"parent\"=>cur_index, \"child_index\"=>ic))\n",
    "                    else\n",
    "                        push!(w_list, t.children[ic])\n",
    "                    end\n",
    "                end\n",
    "                if length(queue_tree[i]) > max_index\n",
    "                    max_index = length(queue_tree[i])\n",
    "                end\n",
    "            end\n",
    "            if length(w_list) > max_w_len\n",
    "                max_w_len = length(w_list)\n",
    "            end\n",
    "            push!(batch_w_list, w_list)\n",
    "        end\n",
    "        dec_batch[cur_index] = zeros(Int64, l.opt[\"batch_size\"], max_w_len + 2)\n",
    "\n",
    "\n",
    "        for i in range(1, stop=l.opt[\"batch_size\"])\n",
    "            w_list = batch_w_list[i]\n",
    "            if length(w_list) > 0\n",
    "                for j in range(1, stop=length(w_list))\n",
    "                    dec_batch[cur_index][i,j+1] = w_list[j]\n",
    "                end\n",
    "                # add <S>, <E>\n",
    "                if cur_index == 1\n",
    "                    dec_batch[cur_index][i,1] = 1\n",
    "                else\n",
    "                    dec_batch[cur_index][i,1] = get_symbol_idx(l.form_manager, \"(\")\n",
    "                end    \n",
    "                dec_batch[cur_index][i,length(w_list) + 2] = 2\n",
    "            end\n",
    "        end\n",
    "\n",
    "        \n",
    "        if cur_index == 1\n",
    "            for i in range(1, stop=l.opt[\"batch_size\"])\n",
    "                if i == 1\n",
    "                    dec_s[1][0][1] = enc_s[enc_len_batch[i]][1][:,i,:]\n",
    "                    dec_s[1][0][2] = enc_s[enc_len_batch[i]][2][:,i,:]\n",
    "                else\n",
    "                    dec_s[1][0][1] = cat(dec_s[1][0][1], enc_s[enc_len_batch[i]][1][:,i,:], dims=2)\n",
    "                    dec_s[1][0][2] = cat(dec_s[1][0][2], enc_s[enc_len_batch[i]][2][:,i,:], dims=2)\n",
    "                end\n",
    "            end\n",
    "        else\n",
    "            for i in range(1, stop=l.opt[\"batch_size\"])\n",
    "                if (cur_index <= length(queue_tree[i]))\n",
    "                    par_index = queue_tree[i][cur_index ][\"parent\"]\n",
    "                    child_index = queue_tree[i][cur_index ][\"child_index\"]\n",
    "                    if i == 1\n",
    "                        dec_s[cur_index][0][1] = dec_s[par_index][child_index][1][:,i,:]\n",
    "                        dec_s[cur_index][0][2] = dec_s[par_index][child_index][2][:,i,:]\n",
    "                    else\n",
    "                        dec_s[cur_index][0][1] = cat(dec_s[cur_index][0][1],dec_s[par_index][child_index][1][:,i,:],dims=2)\n",
    "                        dec_s[cur_index][0][2]=cat(dec_s[cur_index][0][2],dec_s[par_index][child_index][2][:,i,:],dims=2)\n",
    "                    end\n",
    "                else\n",
    "                    if i==1\n",
    "                        dec_s[cur_index][0][1] = KnetArray(zeros(Float32, l.opt[\"rnn_size\"],1))\n",
    "                        dec_s[cur_index][0][2]= KnetArray(zeros(Float32, l.opt[\"rnn_size\"],1))\n",
    "                    else\n",
    "                        dec_s[cur_index][0][1] = cat(dec_s[cur_index][0][1],KnetArray(zeros(Float32, l.opt[\"rnn_size\"],1)),dims=2)\n",
    "                        dec_s[cur_index][0][2]=cat(dec_s[cur_index][0][2],KnetArray(zeros(Float32, l.opt[\"rnn_size\"],1)),dims=2)\n",
    "                    end\n",
    "                end\n",
    "            end\n",
    "        end\n",
    "        softmax_predictions[cur_index] = Dict()\n",
    "        parent_h = dec_s[cur_index][0][1]\n",
    "\n",
    "        for i in range(1, stop=size(dec_batch[cur_index], 2) - 1)\n",
    "            decd = decode(l, dec_batch[cur_index][:,i,:], dec_s[cur_index][i - 1][2], dec_s[cur_index][i - 1][1],  parent_h)\n",
    "            dec_s[cur_index][i][1], dec_s[cur_index][i][2] = l.dec_lstm.h, l.dec_lstm.c\n",
    "            softmax_predictions[cur_index][i] = attention_decode(l, enc_s_top, dec_s[cur_index][i][1])\n",
    "            loss = loss + Knet.nll(softmax_predictions[cur_index][i], dec_batch[cur_index][:,i+1,:]; dims=1, average=true)\n",
    "        end\n",
    "\n",
    "        \n",
    "        cur_index = cur_index + 1\n",
    "    end\n",
    "    println(loss)\n",
    "    return loss # / l.opt[\"batch_size\"]\n",
    "end\n"
   ]
  },
  {
   "cell_type": "code",
   "execution_count": 15,
   "metadata": {},
   "outputs": [
    {
     "data": {
      "text/plain": [
       "Dict{String,Any} with 15 entries:\n",
       "  \"rnn_size\"                  => 200\n",
       "  \"enc_seq_length\"            => 60\n",
       "  \"batch_size\"                => 20\n",
       "  \"data_dir\"                  => \"../data/\"\n",
       "  \"checkpoint_dir\"            => \"checkpoint_dir\"\n",
       "  \"learning_rate_decay\"       => 0.98\n",
       "  \"dropout\"                   => 0.3\n",
       "  \"init_weight\"               => 0.08\n",
       "  \"max_epochs\"                => 130\n",
       "  \"grad_clip\"                 => 5\n",
       "  \"learning_rate\"             => 0.007\n",
       "  \"decay_rate\"                => 0.95\n",
       "  \"dropoutrec\"                => 0.3\n",
       "  \"dec_seq_length\"            => 220\n",
       "  \"learning_rate_decay_after\" => 5"
      ]
     },
     "execution_count": 15,
     "metadata": {},
     "output_type": "execute_result"
    }
   ],
   "source": [
    "opt = Dict(\"data_dir\" => \"../data/\", \"checkpoint_dir\" => \"checkpoint_dir\", \"rnn_size\" => 200, \"dropout\" => 0.3,\n",
    "\"dropoutrec\" => 0.3, \"enc_seq_length\" => 60, \"dec_seq_length\" => 220, \"batch_size\"=>20, \"max_epochs\"=>130,\n",
    "\"learning_rate\" => 0.007, \"init_weight\"=> 0.08, \"learning_rate_decay\"=> 0.98, \"learning_rate_decay_after\"=>5,\n",
    "\"decay_rate\"=>0.95, \"grad_clip\"=>5)"
   ]
  },
  {
   "cell_type": "code",
   "execution_count": 16,
   "metadata": {},
   "outputs": [
    {
     "data": {
      "text/plain": [
       "do_generate (generic function with 1 method)"
      ]
     },
     "execution_count": 16,
     "metadata": {},
     "output_type": "execute_result"
    }
   ],
   "source": [
    "function convert_to_string(idx_list, form_manager)\n",
    "    w_list = []\n",
    "    for i in range(1, stop=length(idx_list))\n",
    "        push!(w_list, get_idx_symbol(form_manager, Int(idx_list[i])))\n",
    "    end\n",
    "    return join(w_list, \" \")\n",
    "end\n",
    "\n",
    "function do_generate(l::L2L,  enc_w_list, word_manager, form_manager)\n",
    "    enc_w_list_withSE = value(enc_w_list)\n",
    "    push!(enc_w_list_withSE, get_symbol_idx(word_manager,\"<S>\"))\n",
    "    insert!(enc_w_list_withSE, 1, get_symbol_idx(word_manager, \"<E>\"))\n",
    "    enc_s_top = KnetArray(zeros(Float32, opt[\"rnn_size\"], 1, length(enc_w_list_withSE)))\n",
    "    l.enc_lstm.c , l.enc_lstm.h = 0, 0\n",
    "    for i in range(length(enc_w_list_withSE), 1, step=-1)\n",
    "        enc_res = encode(l,  enc_w_list_withSE[i])\n",
    "        enc_s_top[:,:,length(enc_w_list_withSE)-i+1] = l.enc_lstm.h\n",
    "    end\n",
    "    \n",
    "    # decode\n",
    "    s = (l.enc_lstm.h , l.enc_lstm.c)\n",
    "    queue_decode = []\n",
    "    push!(queue_decode, Dict(\"s\"=> s, \"parent\"=>0, \"child_index\"=>1, \"t\"=> Tree()))\n",
    "    head = 1\n",
    "    enc_s_top = permutedims(enc_s_top, (3,1,2))\n",
    "    while (head <= length(queue_decode)) & ( head <= 100)\n",
    "        s = queue_decode[head][\"s\"]\n",
    "        parent_h = s[1]\n",
    "        t = queue_decode[head][\"t\"]\n",
    "        if head == 1\n",
    "            prev_word = get_symbol_idx(form_manager, \"<S>\")\n",
    "            \n",
    "        else\n",
    "            prev_word = get_symbol_idx(form_manager, \"(\")\n",
    "        end\n",
    "        i_child = 1\n",
    "        \n",
    "        while true\n",
    "            dec_res = decode(l, prev_word, s[2],s[1], parent_h)\n",
    "            s = (l.dec_lstm.h, l.dec_lstm.c)\n",
    "            prediction = attention_decode(l, enc_s_top, s[1])\n",
    "            pred = argmax(prediction, dims=1)\n",
    "            prev_word = pred[1][1]\n",
    "            \n",
    "            if (prev_word == get_symbol_idx(form_manager,\"<E>\")) || (t.num_children >= opt[\"dec_seq_length\"]) \n",
    "                break\n",
    "            elseif (prev_word == get_symbol_idx(form_manager, \"<N>\")) \n",
    "                push!(queue_decode, Dict(\"s\"=>s, \"parent\"=>head, \"child_index\"=>i_child, \"t\"=>Tree()))\n",
    "                add_child(t,prev_word)\n",
    "            else\n",
    "                add_child(t,prev_word)\n",
    "            end\n",
    "            i_child = i_child + 1\n",
    "        end\n",
    "        head = head + 1\n",
    "    end\n",
    "    # refine the root tree\n",
    "    for i in range(length(queue_decode), 2, step=-1)\n",
    "        cur = queue_decode[i]\n",
    "        queue_decode[cur[\"parent\"]][\"t\"].children[cur[\"child_index\"]] = cur[\"t\"]\n",
    "    end\n",
    "\n",
    "    return to_list(queue_decode[1][\"t\"], form_manager)\n",
    "end"
   ]
  },
  {
   "cell_type": "code",
   "execution_count": 17,
   "metadata": {},
   "outputs": [
    {
     "name": "stdout",
     "output_type": "stream",
     "text": [
      "R(86.78377)\n"
     ]
    },
    {
     "name": "stderr",
     "output_type": "stream",
     "text": [
      "\r",
      "┣                    ┫ [0.45%, 1/222, 00:55/03:24:01, 55.14s/i] "
     ]
    },
    {
     "name": "stdout",
     "output_type": "stream",
     "text": [
      "R(64.73666)\n"
     ]
    },
    {
     "name": "stderr",
     "output_type": "stream",
     "text": [
      "\r",
      "┣▏                   ┫ [0.90%, 2/222, 00:59/01:48:25, 3.47s/i] "
     ]
    },
    {
     "name": "stdout",
     "output_type": "stream",
     "text": [
      "R(54.4987)\n"
     ]
    },
    {
     "name": "stderr",
     "output_type": "stream",
     "text": [
      "\r",
      "┣▎                   ┫ [1.35%, 3/222, 01:02/01:15:52, 2.91s/i] "
     ]
    },
    {
     "name": "stdout",
     "output_type": "stream",
     "text": [
      "R(112.31884)\n"
     ]
    },
    {
     "name": "stderr",
     "output_type": "stream",
     "text": [
      "\r",
      "┣▎                   ┫ [1.80%, 4/222, 01:05/01:00:00, 3.34s/i] "
     ]
    },
    {
     "name": "stdout",
     "output_type": "stream",
     "text": [
      "R(75.559975)\n"
     ]
    },
    {
     "name": "stderr",
     "output_type": "stream",
     "text": [
      "\r",
      "┣▍                   ┫ [2.25%, 5/222, 01:09/50:47, 3.76s/i] "
     ]
    },
    {
     "name": "stdout",
     "output_type": "stream",
     "text": [
      "R(86.521835)\n"
     ]
    },
    {
     "name": "stderr",
     "output_type": "stream",
     "text": [
      "\r",
      "┣▌                   ┫ [2.70%, 6/222, 01:11/43:54, 2.57s/i] "
     ]
    },
    {
     "name": "stdout",
     "output_type": "stream",
     "text": [
      "R(73.22958)\n"
     ]
    },
    {
     "name": "stderr",
     "output_type": "stream",
     "text": [
      "\r",
      "┣▋                   ┫ [3.15%, 7/222, 01:14/39:01, 2.61s/i] "
     ]
    },
    {
     "name": "stdout",
     "output_type": "stream",
     "text": [
      "R(78.63404)\n"
     ]
    },
    {
     "name": "stderr",
     "output_type": "stream",
     "text": [
      "\r",
      "┣▋                   ┫ [3.60%, 8/222, 01:18/36:00, 4.04s/i] "
     ]
    },
    {
     "name": "stdout",
     "output_type": "stream",
     "text": [
      "R(64.044205)\n"
     ]
    },
    {
     "name": "stderr",
     "output_type": "stream",
     "text": [
      "\r",
      "┣▊                   ┫ [4.05%, 9/222, 01:20/33:05, 2.60s/i] "
     ]
    },
    {
     "name": "stdout",
     "output_type": "stream",
     "text": [
      "R(97.44199)\n"
     ]
    },
    {
     "name": "stderr",
     "output_type": "stream",
     "text": [
      "\r",
      "┣▉                   ┫ [4.50%, 10/222, 01:23/30:46, 2.70s/i] "
     ]
    },
    {
     "name": "stdout",
     "output_type": "stream",
     "text": [
      "R(90.742325)\n"
     ]
    },
    {
     "name": "stderr",
     "output_type": "stream",
     "text": [
      "\r",
      "┣▉                   ┫ [4.95%, 11/222, 01:26/28:56, 2.85s/i] "
     ]
    },
    {
     "name": "stdout",
     "output_type": "stream",
     "text": [
      "R(82.272736)\n"
     ]
    },
    {
     "name": "stderr",
     "output_type": "stream",
     "text": [
      "\r",
      "┣█                   ┫ [5.41%, 12/222, 01:30/27:38, 3.60s/i] "
     ]
    },
    {
     "name": "stdout",
     "output_type": "stream",
     "text": [
      "R(106.28086)\n"
     ]
    },
    {
     "name": "stderr",
     "output_type": "stream",
     "text": [
      "\r",
      "┣█▏                  ┫ [5.86%, 13/222, 01:35/26:55, 4.93s/i] "
     ]
    },
    {
     "name": "stdout",
     "output_type": "stream",
     "text": [
      "R(102.74581)\n"
     ]
    },
    {
     "name": "stderr",
     "output_type": "stream",
     "text": [
      "\r",
      "┣█▎                  ┫ [6.31%, 14/222, 01:37/25:44, 2.83s/i] "
     ]
    },
    {
     "name": "stdout",
     "output_type": "stream",
     "text": [
      "R(81.78902)\n"
     ]
    },
    {
     "name": "stderr",
     "output_type": "stream",
     "text": [
      "\r",
      "┣█▎                  ┫ [6.76%, 15/222, 01:40/24:41, 2.72s/i] "
     ]
    },
    {
     "name": "stdout",
     "output_type": "stream",
     "text": [
      "R(89.1024)\n"
     ]
    },
    {
     "name": "stderr",
     "output_type": "stream",
     "text": [
      "\r",
      "┣█▍                  ┫ [7.21%, 16/222, 01:43/23:51, 3.01s/i] "
     ]
    },
    {
     "name": "stdout",
     "output_type": "stream",
     "text": [
      "R(109.91304)\n"
     ]
    },
    {
     "name": "stderr",
     "output_type": "stream",
     "text": [
      "\r",
      "┣█▌                  ┫ [7.66%, 17/222, 01:47/23:20, 4.09s/i] "
     ]
    },
    {
     "name": "stdout",
     "output_type": "stream",
     "text": [
      "R(86.80689)\n"
     ]
    },
    {
     "name": "stderr",
     "output_type": "stream",
     "text": [
      "\r",
      "┣█▌                  ┫ [8.11%, 18/222, 01:50/22:37, 2.82s/i] "
     ]
    },
    {
     "name": "stdout",
     "output_type": "stream",
     "text": [
      "R(89.25209)\n"
     ]
    },
    {
     "name": "stderr",
     "output_type": "stream",
     "text": [
      "\r",
      "┣█▋                  ┫ [8.56%, 19/222, 01:53/21:58, 2.83s/i] "
     ]
    },
    {
     "name": "stdout",
     "output_type": "stream",
     "text": [
      "R(94.352066)\n"
     ]
    },
    {
     "name": "stderr",
     "output_type": "stream",
     "text": [
      "\r",
      "┣█▊                  ┫ [9.01%, 20/222, 01:56/21:26, 2.97s/i] "
     ]
    },
    {
     "name": "stdout",
     "output_type": "stream",
     "text": [
      "R(86.865654)\n"
     ]
    },
    {
     "name": "stderr",
     "output_type": "stream",
     "text": [
      "\r",
      "┣█▉                  ┫ [9.46%, 21/222, 01:59/20:55, 2.86s/i] "
     ]
    },
    {
     "name": "stdout",
     "output_type": "stream",
     "text": [
      "R(63.209877)\n"
     ]
    },
    {
     "name": "stderr",
     "output_type": "stream",
     "text": [
      "\r",
      "┣█▉                  ┫ [9.91%, 22/222, 02:03/20:44, 4.58s/i] "
     ]
    },
    {
     "name": "stdout",
     "output_type": "stream",
     "text": [
      "R(100.946846)\n"
     ]
    },
    {
     "name": "stderr",
     "output_type": "stream",
     "text": [
      "\r",
      "┣██                  ┫ [10.36%, 23/222, 02:06/20:19, 3.04s/i] "
     ]
    },
    {
     "name": "stdout",
     "output_type": "stream",
     "text": [
      "R(79.59163)\n"
     ]
    },
    {
     "name": "stderr",
     "output_type": "stream",
     "text": [
      "\r",
      "┣██▏                 ┫ [10.81%, 24/222, 02:09/19:54, 2.74s/i] "
     ]
    },
    {
     "name": "stdout",
     "output_type": "stream",
     "text": [
      "R(78.73256)\n"
     ]
    },
    {
     "name": "stderr",
     "output_type": "stream",
     "text": [
      "\r",
      "┣██▎                 ┫ [11.26%, 25/222, 02:12/19:32, 2.99s/i] "
     ]
    },
    {
     "name": "stdout",
     "output_type": "stream",
     "text": [
      "R(67.42318)\n"
     ]
    },
    {
     "name": "stderr",
     "output_type": "stream",
     "text": [
      "\r",
      "┣██▎                 ┫ [11.71%, 26/222, 02:15/19:11, 2.79s/i] "
     ]
    },
    {
     "name": "stdout",
     "output_type": "stream",
     "text": [
      "R(65.85464)\n"
     ]
    },
    {
     "name": "stderr",
     "output_type": "stream",
     "text": [
      "\r",
      "┣██▍                 ┫ [12.16%, 27/222, 02:19/19:04, 4.33s/i] "
     ]
    },
    {
     "name": "stdout",
     "output_type": "stream",
     "text": [
      "R(70.91457)\n"
     ]
    },
    {
     "name": "stderr",
     "output_type": "stream",
     "text": [
      "\r",
      "┣██▌                 ┫ [12.61%, 28/222, 02:22/18:45, 2.73s/i] "
     ]
    },
    {
     "name": "stdout",
     "output_type": "stream",
     "text": [
      "R(67.231766)\n"
     ]
    },
    {
     "name": "stderr",
     "output_type": "stream",
     "text": [
      "\r",
      "┣██▌                 ┫ [13.06%, 29/222, 02:25/18:29, 3.02s/i] "
     ]
    },
    {
     "name": "stdout",
     "output_type": "stream",
     "text": [
      "R(71.81404)\n"
     ]
    },
    {
     "name": "stderr",
     "output_type": "stream",
     "text": [
      "\r",
      "┣██▋                 ┫ [13.51%, 30/222, 02:28/18:13, 2.82s/i] "
     ]
    },
    {
     "name": "stdout",
     "output_type": "stream",
     "text": [
      "R(83.80905)\n"
     ]
    },
    {
     "name": "stderr",
     "output_type": "stream",
     "text": [
      "\r",
      "┣██▊                 ┫ [13.96%, 31/222, 02:31/18:00, 3.15s/i] "
     ]
    },
    {
     "name": "stdout",
     "output_type": "stream",
     "text": [
      "R(69.6581)\n"
     ]
    },
    {
     "name": "stderr",
     "output_type": "stream",
     "text": [
      "\r",
      "┣██▉                 ┫ [14.41%, 32/222, 02:35/17:57, 4.36s/i] "
     ]
    },
    {
     "name": "stdout",
     "output_type": "stream",
     "text": [
      "R(61.17406)\n"
     ]
    },
    {
     "name": "stderr",
     "output_type": "stream",
     "text": [
      "\r",
      "┣██▉                 ┫ [14.86%, 33/222, 02:38/17:45, 3.05s/i] "
     ]
    },
    {
     "name": "stdout",
     "output_type": "stream",
     "text": [
      "R(56.67508)\n"
     ]
    },
    {
     "name": "stderr",
     "output_type": "stream",
     "text": [
      "\r",
      "┣███                 ┫ [15.32%, 34/222, 02:41/17:32, 2.91s/i] "
     ]
    },
    {
     "name": "stdout",
     "output_type": "stream",
     "text": [
      "R(64.32584)\n"
     ]
    },
    {
     "name": "stderr",
     "output_type": "stream",
     "text": [
      "\r",
      "┣███▏                ┫ [15.77%, 35/222, 02:45/17:30, 4.28s/i] "
     ]
    },
    {
     "name": "stdout",
     "output_type": "stream",
     "text": [
      "R(53.3058)\n"
     ]
    },
    {
     "name": "stderr",
     "output_type": "stream",
     "text": [
      "\r",
      "┣███▏                ┫ [16.22%, 36/222, 02:48/17:19, 3.00s/i] "
     ]
    },
    {
     "name": "stdout",
     "output_type": "stream",
     "text": [
      "R(56.139915)\n"
     ]
    },
    {
     "name": "stderr",
     "output_type": "stream",
     "text": [
      "\r",
      "┣███▎                ┫ [16.67%, 37/222, 02:52/17:09, 3.06s/i] "
     ]
    },
    {
     "name": "stdout",
     "output_type": "stream",
     "text": [
      "R(46.80378)\n"
     ]
    },
    {
     "name": "stderr",
     "output_type": "stream",
     "text": [
      "\r",
      "┣███▍                ┫ [17.12%, 38/222, 02:54/16:59, 2.91s/i] "
     ]
    },
    {
     "name": "stdout",
     "output_type": "stream",
     "text": [
      "R(55.313988)\n"
     ]
    },
    {
     "name": "stderr",
     "output_type": "stream",
     "text": [
      "\r",
      "┣███▌                ┫ [17.57%, 39/222, 02:57/16:50, 3.05s/i] "
     ]
    },
    {
     "name": "stdout",
     "output_type": "stream",
     "text": [
      "R(41.17019)\n"
     ]
    },
    {
     "name": "stderr",
     "output_type": "stream",
     "text": [
      "\r",
      "┣███▌                ┫ [18.02%, 40/222, 03:00/16:41, 2.94s/i] "
     ]
    },
    {
     "name": "stdout",
     "output_type": "stream",
     "text": [
      "R(48.480267)\n"
     ]
    },
    {
     "name": "stderr",
     "output_type": "stream",
     "text": [
      "\r",
      "┣███▋                ┫ [18.47%, 41/222, 03:05/16:44, 4.98s/i] "
     ]
    },
    {
     "name": "stdout",
     "output_type": "stream",
     "text": [
      "R(38.16698)\n"
     ]
    },
    {
     "name": "stderr",
     "output_type": "stream",
     "text": [
      "\r",
      "┣███▊                ┫ [18.92%, 42/222, 03:08/16:36, 2.96s/i] "
     ]
    },
    {
     "name": "stdout",
     "output_type": "stream",
     "text": [
      "R(65.76485)\n"
     ]
    },
    {
     "name": "stderr",
     "output_type": "stream",
     "text": [
      "\r",
      "┣███▊                ┫ [19.37%, 43/222, 03:11/16:28, 2.92s/i] "
     ]
    },
    {
     "name": "stdout",
     "output_type": "stream",
     "text": [
      "R(41.71131)\n"
     ]
    },
    {
     "name": "stderr",
     "output_type": "stream",
     "text": [
      "\r",
      "┣███▉                ┫ [19.82%, 44/222, 03:15/16:26, 4.21s/i] "
     ]
    },
    {
     "name": "stdout",
     "output_type": "stream",
     "text": [
      "R(44.735863)\n"
     ]
    },
    {
     "name": "stderr",
     "output_type": "stream",
     "text": [
      "\r",
      "┣████                ┫ [20.27%, 45/222, 03:18/16:19, 2.91s/i] "
     ]
    },
    {
     "name": "stdout",
     "output_type": "stream",
     "text": [
      "R(35.31884)\n"
     ]
    },
    {
     "name": "stderr",
     "output_type": "stream",
     "text": [
      "\r",
      "┣████▏               ┫ [20.72%, 46/222, 03:21/16:11, 2.82s/i] "
     ]
    },
    {
     "name": "stdout",
     "output_type": "stream",
     "text": [
      "R(31.331902)\n"
     ]
    },
    {
     "name": "stderr",
     "output_type": "stream",
     "text": [
      "\r",
      "┣████▏               ┫ [21.17%, 47/222, 03:24/16:04, 2.82s/i] "
     ]
    },
    {
     "name": "stdout",
     "output_type": "stream",
     "text": [
      "R(33.770702)\n"
     ]
    },
    {
     "name": "stderr",
     "output_type": "stream",
     "text": [
      "\r",
      "┣████▎               ┫ [21.62%, 48/222, 03:27/15:57, 2.84s/i] "
     ]
    },
    {
     "name": "stdout",
     "output_type": "stream",
     "text": [
      "R(94.87078)\n"
     ]
    },
    {
     "name": "stderr",
     "output_type": "stream",
     "text": [
      "\r",
      "┣████▍               ┫ [22.07%, 49/222, 03:31/15:54, 3.69s/i] "
     ]
    },
    {
     "name": "stdout",
     "output_type": "stream",
     "text": [
      "R(52.76584)\n"
     ]
    },
    {
     "name": "stderr",
     "output_type": "stream",
     "text": [
      "\r",
      "┣████▌               ┫ [22.52%, 50/222, 03:35/15:56, 4.80s/i] "
     ]
    },
    {
     "name": "stdout",
     "output_type": "stream",
     "text": [
      "R(26.150457)\n"
     ]
    },
    {
     "name": "stderr",
     "output_type": "stream",
     "text": [
      "\r",
      "┣████▌               ┫ [22.97%, 51/222, 03:38/15:50, 2.81s/i] "
     ]
    },
    {
     "name": "stdout",
     "output_type": "stream",
     "text": [
      "R(39.12617)\n"
     ]
    },
    {
     "name": "stderr",
     "output_type": "stream",
     "text": [
      "\r",
      "┣████▋               ┫ [23.42%, 52/222, 03:41/15:44, 2.90s/i] "
     ]
    },
    {
     "name": "stdout",
     "output_type": "stream",
     "text": [
      "R(94.67732)\n"
     ]
    },
    {
     "name": "stderr",
     "output_type": "stream",
     "text": [
      "\r",
      "┣████▊               ┫ [23.87%, 53/222, 03:45/15:42, 3.71s/i] "
     ]
    },
    {
     "name": "stdout",
     "output_type": "stream",
     "text": [
      "R(69.439705)\n"
     ]
    },
    {
     "name": "stderr",
     "output_type": "stream",
     "text": [
      "\r",
      "┣████▊               ┫ [24.32%, 54/222, 03:49/15:43, 4.58s/i] "
     ]
    },
    {
     "name": "stdout",
     "output_type": "stream",
     "text": [
      "R(34.68861)\n"
     ]
    },
    {
     "name": "stderr",
     "output_type": "stream",
     "text": [
      "\r",
      "┣████▉               ┫ [24.77%, 55/222, 03:52/15:37, 2.80s/i] "
     ]
    },
    {
     "name": "stdout",
     "output_type": "stream",
     "text": [
      "R(38.715694)\n"
     ]
    },
    {
     "name": "stderr",
     "output_type": "stream",
     "text": [
      "\r",
      "┣█████               ┫ [25.23%, 56/222, 03:55/15:32, 2.96s/i] "
     ]
    },
    {
     "name": "stdout",
     "output_type": "stream",
     "text": [
      "R(46.237938)\n"
     ]
    },
    {
     "name": "stderr",
     "output_type": "stream",
     "text": [
      "\r",
      "┣█████▏              ┫ [25.68%, 57/222, 03:58/15:28, 3.03s/i] "
     ]
    },
    {
     "name": "stdout",
     "output_type": "stream",
     "text": [
      "R(21.24319)\n"
     ]
    },
    {
     "name": "stderr",
     "output_type": "stream",
     "text": [
      "\r",
      "┣█████▏              ┫ [26.13%, 58/222, 04:01/15:22, 2.81s/i] "
     ]
    },
    {
     "name": "stdout",
     "output_type": "stream",
     "text": [
      "R(35.877575)\n"
     ]
    },
    {
     "name": "stderr",
     "output_type": "stream",
     "text": [
      "\r",
      "┣█████▎              ┫ [26.58%, 59/222, 04:05/15:24, 4.49s/i] "
     ]
    },
    {
     "name": "stdout",
     "output_type": "stream",
     "text": [
      "R(46.902767)\n"
     ]
    },
    {
     "name": "stderr",
     "output_type": "stream",
     "text": [
      "\r",
      "┣█████▍              ┫ [27.03%, 60/222, 04:09/15:20, 3.06s/i] "
     ]
    },
    {
     "name": "stdout",
     "output_type": "stream",
     "text": [
      "R(30.24238)\n"
     ]
    },
    {
     "name": "stderr",
     "output_type": "stream",
     "text": [
      "\r",
      "┣█████▍              ┫ [27.48%, 61/222, 04:11/15:15, 2.91s/i] "
     ]
    },
    {
     "name": "stdout",
     "output_type": "stream",
     "text": [
      "R(22.165344)\n"
     ]
    },
    {
     "name": "stderr",
     "output_type": "stream",
     "text": [
      "\r",
      "┣█████▌              ┫ [27.93%, 62/222, 04:14/15:11, 3.00s/i] "
     ]
    },
    {
     "name": "stdout",
     "output_type": "stream",
     "text": [
      "R(74.88674)\n"
     ]
    },
    {
     "name": "stderr",
     "output_type": "stream",
     "text": [
      "\r",
      "┣█████▋              ┫ [28.38%, 63/222, 04:19/15:13, 4.58s/i] "
     ]
    },
    {
     "name": "stdout",
     "output_type": "stream",
     "text": [
      "R(19.08826)\n"
     ]
    },
    {
     "name": "stderr",
     "output_type": "stream",
     "text": [
      "\r",
      "┣█████▊              ┫ [28.83%, 64/222, 04:22/15:08, 2.88s/i] "
     ]
    },
    {
     "name": "stdout",
     "output_type": "stream",
     "text": [
      "R(53.71566)\n"
     ]
    },
    {
     "name": "stderr",
     "output_type": "stream",
     "text": [
      "\r",
      "┣█████▊              ┫ [29.28%, 65/222, 04:25/15:05, 3.07s/i] "
     ]
    },
    {
     "name": "stdout",
     "output_type": "stream",
     "text": [
      "R(37.712875)\n"
     ]
    },
    {
     "name": "stderr",
     "output_type": "stream",
     "text": [
      "\r",
      "┣█████▉              ┫ [29.73%, 66/222, 04:28/15:01, 3.04s/i] "
     ]
    },
    {
     "name": "stdout",
     "output_type": "stream",
     "text": [
      "R(22.521551)\n"
     ]
    },
    {
     "name": "stderr",
     "output_type": "stream",
     "text": [
      "\r",
      "┣██████              ┫ [30.18%, 67/222, 04:31/14:58, 2.90s/i] "
     ]
    },
    {
     "name": "stdout",
     "output_type": "stream",
     "text": [
      "R(14.759552)\n"
     ]
    },
    {
     "name": "stderr",
     "output_type": "stream",
     "text": [
      "\r",
      "┣██████▏             ┫ [30.63%, 68/222, 04:34/14:53, 2.78s/i] "
     ]
    },
    {
     "name": "stdout",
     "output_type": "stream",
     "text": [
      "R(25.283895)\n"
     ]
    },
    {
     "name": "stderr",
     "output_type": "stream",
     "text": [
      "\r",
      "┣██████▏             ┫ [31.08%, 69/222, 04:38/14:55, 4.62s/i] "
     ]
    },
    {
     "name": "stdout",
     "output_type": "stream",
     "text": [
      "R(21.732779)\n"
     ]
    },
    {
     "name": "stderr",
     "output_type": "stream",
     "text": [
      "\r",
      "┣██████▎             ┫ [31.53%, 70/222, 04:41/14:52, 3.03s/i] "
     ]
    },
    {
     "name": "stdout",
     "output_type": "stream",
     "text": [
      "R(50.080673)\n"
     ]
    },
    {
     "name": "stderr",
     "output_type": "stream",
     "text": [
      "\r",
      "┣██████▍             ┫ [31.98%, 71/222, 04:44/14:49, 2.97s/i] "
     ]
    },
    {
     "name": "stdout",
     "output_type": "stream",
     "text": [
      "R(39.70439)\n"
     ]
    },
    {
     "name": "stderr",
     "output_type": "stream",
     "text": [
      "\r",
      "┣██████▍             ┫ [32.43%, 72/222, 04:48/14:47, 3.26s/i] "
     ]
    },
    {
     "name": "stdout",
     "output_type": "stream",
     "text": [
      "R(38.358826)\n"
     ]
    },
    {
     "name": "stderr",
     "output_type": "stream",
     "text": [
      "\r",
      "┣██████▌             ┫ [32.88%, 73/222, 04:52/14:48, 4.36s/i] "
     ]
    },
    {
     "name": "stdout",
     "output_type": "stream",
     "text": [
      "R(44.45643)\n"
     ]
    },
    {
     "name": "stderr",
     "output_type": "stream",
     "text": [
      "\r",
      "┣██████▋             ┫ [33.33%, 74/222, 04:55/14:45, 3.08s/i] "
     ]
    },
    {
     "name": "stdout",
     "output_type": "stream",
     "text": [
      "R(34.247032)\n"
     ]
    },
    {
     "name": "stderr",
     "output_type": "stream",
     "text": [
      "\r",
      "┣██████▊             ┫ [33.78%, 75/222, 04:58/14:43, 3.18s/i] "
     ]
    },
    {
     "name": "stdout",
     "output_type": "stream",
     "text": [
      "R(39.694553)\n"
     ]
    },
    {
     "name": "stderr",
     "output_type": "stream",
     "text": [
      "\r",
      "┣██████▊             ┫ [34.23%, 76/222, 05:01/14:40, 2.97s/i] "
     ]
    },
    {
     "name": "stdout",
     "output_type": "stream",
     "text": [
      "R(25.983576)\n"
     ]
    },
    {
     "name": "stderr",
     "output_type": "stream",
     "text": [
      "\r",
      "┣██████▉             ┫ [34.68%, 77/222, 05:04/14:37, 3.01s/i] "
     ]
    },
    {
     "name": "stdout",
     "output_type": "stream",
     "text": [
      "R(26.846338)\n"
     ]
    },
    {
     "name": "stderr",
     "output_type": "stream",
     "text": [
      "\r",
      "┣███████             ┫ [35.14%, 78/222, 05:09/14:38, 4.41s/i] "
     ]
    },
    {
     "name": "stdout",
     "output_type": "stream",
     "text": [
      "R(49.63623)\n"
     ]
    },
    {
     "name": "stderr",
     "output_type": "stream",
     "text": [
      "\r",
      "┣███████             ┫ [35.59%, 79/222, 05:12/14:36, 3.27s/i] "
     ]
    },
    {
     "name": "stdout",
     "output_type": "stream",
     "text": [
      "R(31.970505)\n"
     ]
    },
    {
     "name": "stderr",
     "output_type": "stream",
     "text": [
      "\r",
      "┣███████▏            ┫ [36.04%, 80/222, 05:15/14:34, 3.21s/i] "
     ]
    },
    {
     "name": "stdout",
     "output_type": "stream",
     "text": [
      "R(26.519081)\n"
     ]
    },
    {
     "name": "stderr",
     "output_type": "stream",
     "text": [
      "\r",
      "┣███████▎            ┫ [36.49%, 81/222, 05:18/14:32, 2.96s/i] "
     ]
    },
    {
     "name": "stdout",
     "output_type": "stream",
     "text": [
      "R(29.6521)\n"
     ]
    },
    {
     "name": "stderr",
     "output_type": "stream",
     "text": [
      "\r",
      "┣███████▍            ┫ [36.94%, 82/222, 05:22/14:33, 4.36s/i] "
     ]
    },
    {
     "name": "stdout",
     "output_type": "stream",
     "text": [
      "R(25.936962)\n"
     ]
    },
    {
     "name": "stderr",
     "output_type": "stream",
     "text": [
      "\r",
      "┣███████▍            ┫ [37.39%, 83/222, 05:25/14:30, 2.99s/i] "
     ]
    },
    {
     "name": "stdout",
     "output_type": "stream",
     "text": [
      "R(33.056046)\n"
     ]
    },
    {
     "name": "stderr",
     "output_type": "stream",
     "text": [
      "\r",
      "┣███████▌            ┫ [37.84%, 84/222, 05:28/14:28, 3.14s/i] "
     ]
    },
    {
     "name": "stdout",
     "output_type": "stream",
     "text": [
      "R(29.010279)\n"
     ]
    },
    {
     "name": "stderr",
     "output_type": "stream",
     "text": [
      "\r",
      "┣███████▋            ┫ [38.29%, 85/222, 05:32/14:26, 3.14s/i] "
     ]
    },
    {
     "name": "stdout",
     "output_type": "stream",
     "text": [
      "R(24.90524)\n"
     ]
    },
    {
     "name": "stderr",
     "output_type": "stream",
     "text": [
      "\r",
      "┣███████▋            ┫ [38.74%, 86/222, 05:35/14:24, 3.08s/i] "
     ]
    },
    {
     "name": "stdout",
     "output_type": "stream",
     "text": [
      "R(20.389862)\n"
     ]
    },
    {
     "name": "stderr",
     "output_type": "stream",
     "text": [
      "\r",
      "┣███████▊            ┫ [39.19%, 87/222, 05:40/14:27, 5.11s/i] "
     ]
    },
    {
     "name": "stdout",
     "output_type": "stream",
     "text": [
      "R(22.593067)\n"
     ]
    },
    {
     "name": "stderr",
     "output_type": "stream",
     "text": [
      "\r",
      "┣███████▉            ┫ [39.64%, 88/222, 05:43/14:25, 3.18s/i] "
     ]
    },
    {
     "name": "stdout",
     "output_type": "stream",
     "text": [
      "R(20.65937)\n"
     ]
    },
    {
     "name": "stderr",
     "output_type": "stream",
     "text": [
      "\r",
      "┣████████            ┫ [40.09%, 89/222, 05:46/14:23, 2.93s/i] "
     ]
    },
    {
     "name": "stdout",
     "output_type": "stream",
     "text": [
      "R(29.94168)\n"
     ]
    },
    {
     "name": "stderr",
     "output_type": "stream",
     "text": [
      "\r",
      "┣████████            ┫ [40.54%, 90/222, 05:49/14:21, 3.13s/i] "
     ]
    },
    {
     "name": "stdout",
     "output_type": "stream",
     "text": [
      "R(28.650263)\n"
     ]
    },
    {
     "name": "stderr",
     "output_type": "stream",
     "text": [
      "\r",
      "┣████████▏           ┫ [40.99%, 91/222, 05:53/14:22, 4.41s/i] "
     ]
    },
    {
     "name": "stdout",
     "output_type": "stream",
     "text": [
      "R(33.35658)\n"
     ]
    },
    {
     "name": "stderr",
     "output_type": "stream",
     "text": [
      "\r",
      "┣████████▎           ┫ [41.44%, 92/222, 05:57/14:20, 3.03s/i] "
     ]
    },
    {
     "name": "stdout",
     "output_type": "stream",
     "text": [
      "R(44.4921)\n"
     ]
    },
    {
     "name": "stderr",
     "output_type": "stream",
     "text": [
      "\r",
      "┣████████▍           ┫ [41.89%, 93/222, 06:00/14:18, 3.03s/i] "
     ]
    },
    {
     "name": "stdout",
     "output_type": "stream",
     "text": [
      "R(33.40736)\n"
     ]
    },
    {
     "name": "stderr",
     "output_type": "stream",
     "text": [
      "\r",
      "┣████████▍           ┫ [42.34%, 94/222, 06:03/14:17, 3.13s/i] "
     ]
    },
    {
     "name": "stdout",
     "output_type": "stream",
     "text": [
      "R(19.245914)\n"
     ]
    },
    {
     "name": "stderr",
     "output_type": "stream",
     "text": [
      "\r",
      "┣████████▌           ┫ [42.79%, 95/222, 06:05/14:14, 2.78s/i] "
     ]
    },
    {
     "name": "stdout",
     "output_type": "stream",
     "text": [
      "R(27.25693)\n"
     ]
    },
    {
     "name": "stderr",
     "output_type": "stream",
     "text": [
      "\r",
      "┣████████▋           ┫ [43.24%, 96/222, 06:10/14:16, 4.64s/i] "
     ]
    },
    {
     "name": "stdout",
     "output_type": "stream",
     "text": [
      "R(30.058872)\n"
     ]
    },
    {
     "name": "stderr",
     "output_type": "stream",
     "text": [
      "\r",
      "┣████████▋           ┫ [43.69%, 97/222, 06:13/14:14, 3.17s/i] "
     ]
    },
    {
     "name": "stdout",
     "output_type": "stream",
     "text": [
      "R(21.038332)\n"
     ]
    },
    {
     "name": "stderr",
     "output_type": "stream",
     "text": [
      "\r",
      "┣████████▊           ┫ [44.14%, 98/222, 06:16/14:12, 2.98s/i] "
     ]
    },
    {
     "name": "stdout",
     "output_type": "stream",
     "text": [
      "R(27.793818)\n"
     ]
    },
    {
     "name": "stderr",
     "output_type": "stream",
     "text": [
      "\r",
      "┣████████▉           ┫ [44.59%, 99/222, 06:20/14:11, 3.26s/i] "
     ]
    },
    {
     "name": "stdout",
     "output_type": "stream",
     "text": [
      "R(28.066269)\n"
     ]
    },
    {
     "name": "stderr",
     "output_type": "stream",
     "text": [
      "\r",
      "┣█████████           ┫ [45.05%, 100/222, 06:24/14:12, 4.15s/i] "
     ]
    },
    {
     "name": "stdout",
     "output_type": "stream",
     "text": [
      "R(81.17419)\n"
     ]
    },
    {
     "name": "stderr",
     "output_type": "stream",
     "text": [
      "\r",
      "┣█████████           ┫ [45.50%, 101/222, 06:27/14:11, 3.45s/i] "
     ]
    },
    {
     "name": "stdout",
     "output_type": "stream",
     "text": [
      "R(44.195324)\n"
     ]
    },
    {
     "name": "stderr",
     "output_type": "stream",
     "text": [
      "\r",
      "┣█████████▏          ┫ [45.95%, 102/222, 06:30/14:10, 3.29s/i] "
     ]
    },
    {
     "name": "stdout",
     "output_type": "stream",
     "text": [
      "R(45.47075)\n"
     ]
    },
    {
     "name": "stderr",
     "output_type": "stream",
     "text": [
      "\r",
      "┣█████████▎          ┫ [46.40%, 103/222, 06:34/14:09, 3.30s/i] "
     ]
    },
    {
     "name": "stdout",
     "output_type": "stream",
     "text": [
      "R(27.207169)\n"
     ]
    },
    {
     "name": "stderr",
     "output_type": "stream",
     "text": [
      "\r",
      "┣█████████▎          ┫ [46.85%, 104/222, 06:37/14:07, 3.07s/i] "
     ]
    },
    {
     "name": "stdout",
     "output_type": "stream",
     "text": [
      "R(28.586395)\n"
     ]
    },
    {
     "name": "stderr",
     "output_type": "stream",
     "text": [
      "\r",
      "┣█████████▍          ┫ [47.30%, 105/222, 06:42/14:10, 5.20s/i] "
     ]
    },
    {
     "name": "stdout",
     "output_type": "stream",
     "text": [
      "R(28.723076)\n"
     ]
    },
    {
     "name": "stderr",
     "output_type": "stream",
     "text": [
      "\r",
      "┣█████████▌          ┫ [47.75%, 106/222, 06:45/14:08, 3.12s/i] "
     ]
    },
    {
     "name": "stdout",
     "output_type": "stream",
     "text": [
      "R(31.871868)\n"
     ]
    },
    {
     "name": "stderr",
     "output_type": "stream",
     "text": [
      "\r",
      "┣█████████▋          ┫ [48.20%, 107/222, 06:48/14:07, 3.12s/i] "
     ]
    },
    {
     "name": "stdout",
     "output_type": "stream",
     "text": [
      "R(20.579613)\n"
     ]
    },
    {
     "name": "stderr",
     "output_type": "stream",
     "text": [
      "\r",
      "┣█████████▋          ┫ [48.65%, 108/222, 06:51/14:06, 3.16s/i] "
     ]
    },
    {
     "name": "stdout",
     "output_type": "stream",
     "text": [
      "R(28.19712)\n"
     ]
    },
    {
     "name": "stderr",
     "output_type": "stream",
     "text": [
      "\r",
      "┣█████████▊          ┫ [49.10%, 109/222, 06:55/14:06, 4.09s/i] "
     ]
    },
    {
     "name": "stdout",
     "output_type": "stream",
     "text": [
      "R(23.775951)\n"
     ]
    },
    {
     "name": "stderr",
     "output_type": "stream",
     "text": [
      "\r",
      "┣█████████▉          ┫ [49.55%, 110/222, 06:58/14:04, 2.98s/i] "
     ]
    },
    {
     "name": "stdout",
     "output_type": "stream",
     "text": [
      "R(21.147167)\n"
     ]
    },
    {
     "name": "stderr",
     "output_type": "stream",
     "text": [
      "\r",
      "┣██████████          ┫ [50.00%, 111/222, 07:01/14:03, 3.01s/i] "
     ]
    },
    {
     "name": "stdout",
     "output_type": "stream",
     "text": [
      "R(19.940178)\n"
     ]
    },
    {
     "name": "stderr",
     "output_type": "stream",
     "text": [
      "\r",
      "┣██████████          ┫ [50.45%, 112/222, 07:04/14:01, 3.03s/i] "
     ]
    },
    {
     "name": "stdout",
     "output_type": "stream",
     "text": [
      "R(25.643543)\n"
     ]
    },
    {
     "name": "stderr",
     "output_type": "stream",
     "text": [
      "\r",
      "┣██████████▏         ┫ [50.90%, 113/222, 07:08/14:00, 3.24s/i] "
     ]
    },
    {
     "name": "stdout",
     "output_type": "stream",
     "text": [
      "R(21.421595)\n"
     ]
    },
    {
     "name": "stderr",
     "output_type": "stream",
     "text": [
      "\r",
      "┣██████████▎         ┫ [51.35%, 114/222, 07:12/14:02, 4.54s/i] "
     ]
    },
    {
     "name": "stdout",
     "output_type": "stream",
     "text": [
      "R(19.845894)\n"
     ]
    },
    {
     "name": "stderr",
     "output_type": "stream",
     "text": [
      "\r",
      "┣██████████▎         ┫ [51.80%, 115/222, 07:15/14:00, 3.12s/i] "
     ]
    },
    {
     "name": "stdout",
     "output_type": "stream",
     "text": [
      "R(64.15178)\n"
     ]
    },
    {
     "name": "stderr",
     "output_type": "stream",
     "text": [
      "\r",
      "┣██████████▍         ┫ [52.25%, 116/222, 07:19/14:00, 3.33s/i] "
     ]
    },
    {
     "name": "stdout",
     "output_type": "stream",
     "text": [
      "R(23.355196)\n"
     ]
    },
    {
     "name": "stderr",
     "output_type": "stream",
     "text": [
      "\r",
      "┣██████████▌         ┫ [52.70%, 117/222, 07:22/13:58, 3.18s/i] "
     ]
    },
    {
     "name": "stdout",
     "output_type": "stream",
     "text": [
      "R(31.0397)\n"
     ]
    },
    {
     "name": "stderr",
     "output_type": "stream",
     "text": [
      "\r",
      "┣██████████▋         ┫ [53.15%, 118/222, 07:26/13:59, 4.18s/i] "
     ]
    },
    {
     "name": "stdout",
     "output_type": "stream",
     "text": [
      "R(27.128733)\n"
     ]
    },
    {
     "name": "stderr",
     "output_type": "stream",
     "text": [
      "\r",
      "┣██████████▋         ┫ [53.60%, 119/222, 07:29/13:58, 3.24s/i] "
     ]
    },
    {
     "name": "stdout",
     "output_type": "stream",
     "text": [
      "R(27.463411)\n"
     ]
    },
    {
     "name": "stderr",
     "output_type": "stream",
     "text": [
      "\r",
      "┣██████████▊         ┫ [54.05%, 120/222, 07:32/13:57, 2.95s/i] "
     ]
    },
    {
     "name": "stdout",
     "output_type": "stream",
     "text": [
      "R(35.90355)\n"
     ]
    },
    {
     "name": "stderr",
     "output_type": "stream",
     "text": [
      "\r",
      "┣██████████▉         ┫ [54.50%, 121/222, 07:35/13:56, 3.12s/i] "
     ]
    },
    {
     "name": "stdout",
     "output_type": "stream",
     "text": [
      "R(24.427174)\n"
     ]
    },
    {
     "name": "stderr",
     "output_type": "stream",
     "text": [
      "\r",
      "┣██████████▉         ┫ [54.95%, 122/222, 07:39/13:54, 3.16s/i] "
     ]
    },
    {
     "name": "stdout",
     "output_type": "stream",
     "text": [
      "R(48.662918)\n"
     ]
    },
    {
     "name": "stderr",
     "output_type": "stream",
     "text": [
      "\r",
      "┣███████████         ┫ [55.41%, 123/222, 07:44/13:58, 5.48s/i] "
     ]
    },
    {
     "name": "stdout",
     "output_type": "stream",
     "text": [
      "R(32.816605)\n"
     ]
    },
    {
     "name": "stderr",
     "output_type": "stream",
     "text": [
      "\r",
      "┣███████████▏        ┫ [55.86%, 124/222, 07:47/13:57, 3.24s/i] "
     ]
    },
    {
     "name": "stdout",
     "output_type": "stream",
     "text": [
      "R(36.491615)\n"
     ]
    },
    {
     "name": "stderr",
     "output_type": "stream",
     "text": [
      "\r",
      "┣███████████▎        ┫ [56.31%, 125/222, 07:50/13:55, 3.12s/i] "
     ]
    },
    {
     "name": "stdout",
     "output_type": "stream",
     "text": [
      "R(40.38852)\n"
     ]
    },
    {
     "name": "stderr",
     "output_type": "stream",
     "text": [
      "\r",
      "┣███████████▎        ┫ [56.76%, 126/222, 07:54/13:55, 3.73s/i] "
     ]
    },
    {
     "name": "stdout",
     "output_type": "stream",
     "text": [
      "R(29.06461)\n"
     ]
    },
    {
     "name": "stderr",
     "output_type": "stream",
     "text": [
      "\r",
      "┣███████████▍        ┫ [57.21%, 127/222, 07:59/13:56, 4.40s/i] "
     ]
    },
    {
     "name": "stdout",
     "output_type": "stream",
     "text": [
      "R(28.768555)\n"
     ]
    },
    {
     "name": "stderr",
     "output_type": "stream",
     "text": [
      "\r",
      "┣███████████▌        ┫ [57.66%, 128/222, 08:02/13:55, 2.99s/i] "
     ]
    },
    {
     "name": "stdout",
     "output_type": "stream",
     "text": [
      "R(25.293663)\n"
     ]
    },
    {
     "name": "stderr",
     "output_type": "stream",
     "text": [
      "\r",
      "┣███████████▌        ┫ [58.11%, 129/222, 08:05/13:54, 3.31s/i] "
     ]
    },
    {
     "name": "stdout",
     "output_type": "stream",
     "text": [
      "R(37.011513)\n"
     ]
    },
    {
     "name": "stderr",
     "output_type": "stream",
     "text": [
      "\r",
      "┣███████████▋        ┫ [58.56%, 130/222, 08:08/13:54, 3.41s/i] "
     ]
    },
    {
     "name": "stdout",
     "output_type": "stream",
     "text": [
      "R(36.97987)\n"
     ]
    },
    {
     "name": "stderr",
     "output_type": "stream",
     "text": [
      "\r",
      "┣███████████▊        ┫ [59.01%, 131/222, 08:12/13:53, 3.48s/i] "
     ]
    },
    {
     "name": "stdout",
     "output_type": "stream",
     "text": [
      "R(35.921124)\n"
     ]
    },
    {
     "name": "stderr",
     "output_type": "stream",
     "text": [
      "\r",
      "┣███████████▉        ┫ [59.46%, 132/222, 08:16/13:55, 4.73s/i] "
     ]
    },
    {
     "name": "stdout",
     "output_type": "stream",
     "text": [
      "R(26.63985)\n"
     ]
    },
    {
     "name": "stderr",
     "output_type": "stream",
     "text": [
      "\r",
      "┣███████████▉        ┫ [59.91%, 133/222, 08:20/13:54, 3.22s/i] "
     ]
    },
    {
     "name": "stdout",
     "output_type": "stream",
     "text": [
      "R(35.64717)\n"
     ]
    },
    {
     "name": "stderr",
     "output_type": "stream",
     "text": [
      "\r",
      "┣████████████        ┫ [60.36%, 134/222, 08:23/13:53, 3.26s/i] "
     ]
    },
    {
     "name": "stdout",
     "output_type": "stream",
     "text": [
      "R(21.494213)\n"
     ]
    },
    {
     "name": "stderr",
     "output_type": "stream",
     "text": [
      "\r",
      "┣████████████▏       ┫ [60.81%, 135/222, 08:26/13:52, 3.25s/i] "
     ]
    },
    {
     "name": "stdout",
     "output_type": "stream",
     "text": [
      "R(24.754623)\n"
     ]
    },
    {
     "name": "stderr",
     "output_type": "stream",
     "text": [
      "\r",
      "┣████████████▎       ┫ [61.26%, 136/222, 08:31/13:53, 4.39s/i] "
     ]
    },
    {
     "name": "stdout",
     "output_type": "stream",
     "text": [
      "R(48.94963)\n"
     ]
    },
    {
     "name": "stderr",
     "output_type": "stream",
     "text": [
      "\r",
      "┣████████████▎       ┫ [61.71%, 137/222, 08:34/13:53, 3.35s/i] "
     ]
    },
    {
     "name": "stdout",
     "output_type": "stream",
     "text": [
      "R(35.418304)\n"
     ]
    },
    {
     "name": "stderr",
     "output_type": "stream",
     "text": [
      "\r",
      "┣████████████▍       ┫ [62.16%, 138/222, 08:37/13:52, 3.35s/i] "
     ]
    },
    {
     "name": "stdout",
     "output_type": "stream",
     "text": [
      "R(60.815395)\n"
     ]
    },
    {
     "name": "stderr",
     "output_type": "stream",
     "text": [
      "\r",
      "┣████████████▌       ┫ [62.61%, 139/222, 08:41/13:52, 3.50s/i] "
     ]
    },
    {
     "name": "stdout",
     "output_type": "stream",
     "text": [
      "R(36.50625)\n"
     ]
    },
    {
     "name": "stderr",
     "output_type": "stream",
     "text": [
      "\r",
      "┣████████████▌       ┫ [63.06%, 140/222, 08:44/13:51, 3.23s/i] "
     ]
    },
    {
     "name": "stdout",
     "output_type": "stream",
     "text": [
      "R(32.6576)\n"
     ]
    },
    {
     "name": "stderr",
     "output_type": "stream",
     "text": [
      "\r",
      "┣████████████▋       ┫ [63.51%, 141/222, 08:49/13:53, 5.39s/i] "
     ]
    },
    {
     "name": "stdout",
     "output_type": "stream",
     "text": [
      "R(51.285355)\n"
     ]
    },
    {
     "name": "stderr",
     "output_type": "stream",
     "text": [
      "\r",
      "┣████████████▊       ┫ [63.96%, 142/222, 08:53/13:53, 3.66s/i] "
     ]
    },
    {
     "name": "stdout",
     "output_type": "stream",
     "text": [
      "R(28.34454)\n"
     ]
    },
    {
     "name": "stderr",
     "output_type": "stream",
     "text": [
      "\r",
      "┣████████████▉       ┫ [64.41%, 143/222, 08:56/13:53, 3.25s/i] "
     ]
    },
    {
     "name": "stdout",
     "output_type": "stream",
     "text": [
      "R(45.09451)\n"
     ]
    },
    {
     "name": "stderr",
     "output_type": "stream",
     "text": [
      "\r",
      "┣████████████▉       ┫ [64.86%, 144/222, 09:00/13:52, 3.50s/i] "
     ]
    },
    {
     "name": "stdout",
     "output_type": "stream",
     "text": [
      "R(33.676754)\n"
     ]
    },
    {
     "name": "stderr",
     "output_type": "stream",
     "text": [
      "\r",
      "┣█████████████       ┫ [65.32%, 145/222, 09:04/13:53, 4.56s/i] "
     ]
    },
    {
     "name": "stdout",
     "output_type": "stream",
     "text": [
      "R(23.861689)\n"
     ]
    },
    {
     "name": "stderr",
     "output_type": "stream",
     "text": [
      "\r",
      "┣█████████████▏      ┫ [65.77%, 146/222, 09:07/13:52, 3.08s/i] "
     ]
    },
    {
     "name": "stdout",
     "output_type": "stream",
     "text": [
      "R(27.540462)\n"
     ]
    },
    {
     "name": "stderr",
     "output_type": "stream",
     "text": [
      "\r",
      "┣█████████████▏      ┫ [66.22%, 147/222, 09:11/13:51, 3.16s/i] "
     ]
    },
    {
     "name": "stdout",
     "output_type": "stream",
     "text": [
      "R(25.881275)\n"
     ]
    },
    {
     "name": "stderr",
     "output_type": "stream",
     "text": [
      "\r",
      "┣█████████████▎      ┫ [66.67%, 148/222, 09:14/13:51, 3.13s/i] "
     ]
    },
    {
     "name": "stdout",
     "output_type": "stream",
     "text": [
      "R(30.54809)\n"
     ]
    },
    {
     "name": "stderr",
     "output_type": "stream",
     "text": [
      "\r",
      "┣█████████████▍      ┫ [67.12%, 149/222, 09:17/13:50, 3.39s/i] "
     ]
    },
    {
     "name": "stdout",
     "output_type": "stream",
     "text": [
      "R(49.660187)\n"
     ]
    },
    {
     "name": "stderr",
     "output_type": "stream",
     "text": [
      "\r",
      "┣█████████████▌      ┫ [67.57%, 150/222, 09:22/13:52, 4.78s/i] "
     ]
    },
    {
     "name": "stdout",
     "output_type": "stream",
     "text": [
      "R(29.707924)\n"
     ]
    },
    {
     "name": "stderr",
     "output_type": "stream",
     "text": [
      "\r",
      "┣█████████████▌      ┫ [68.02%, 151/222, 09:25/13:51, 3.35s/i] "
     ]
    },
    {
     "name": "stdout",
     "output_type": "stream",
     "text": [
      "R(51.490765)\n"
     ]
    },
    {
     "name": "stderr",
     "output_type": "stream",
     "text": [
      "\r",
      "┣█████████████▋      ┫ [68.47%, 152/222, 09:29/13:50, 3.39s/i] "
     ]
    },
    {
     "name": "stdout",
     "output_type": "stream",
     "text": [
      "R(65.68533)\n"
     ]
    },
    {
     "name": "stderr",
     "output_type": "stream",
     "text": [
      "\r",
      "┣█████████████▊      ┫ [68.92%, 153/222, 09:33/13:51, 3.95s/i] "
     ]
    },
    {
     "name": "stdout",
     "output_type": "stream",
     "text": [
      "R(69.83682)\n"
     ]
    },
    {
     "name": "stderr",
     "output_type": "stream",
     "text": [
      "\r",
      "┣█████████████▊      ┫ [69.37%, 154/222, 09:37/13:52, 4.74s/i] "
     ]
    },
    {
     "name": "stdout",
     "output_type": "stream",
     "text": [
      "R(27.98946)\n"
     ]
    },
    {
     "name": "stderr",
     "output_type": "stream",
     "text": [
      "\r",
      "┣█████████████▉      ┫ [69.82%, 155/222, 09:40/13:51, 3.19s/i] "
     ]
    },
    {
     "name": "stdout",
     "output_type": "stream",
     "text": [
      "R(32.35834)\n"
     ]
    },
    {
     "name": "stderr",
     "output_type": "stream",
     "text": [
      "\r",
      "┣██████████████      ┫ [70.27%, 156/222, 09:44/13:51, 3.18s/i] "
     ]
    },
    {
     "name": "stdout",
     "output_type": "stream",
     "text": [
      "R(45.734474)\n"
     ]
    },
    {
     "name": "stderr",
     "output_type": "stream",
     "text": [
      "\r",
      "┣██████████████▏     ┫ [70.72%, 157/222, 09:47/13:50, 3.58s/i] "
     ]
    },
    {
     "name": "stdout",
     "output_type": "stream",
     "text": [
      "R(21.61476)\n"
     ]
    },
    {
     "name": "stderr",
     "output_type": "stream",
     "text": [
      "\r",
      "┣██████████████▏     ┫ [71.17%, 158/222, 09:51/13:50, 3.26s/i] "
     ]
    },
    {
     "name": "stdout",
     "output_type": "stream",
     "text": [
      "R(27.222454)\n"
     ]
    },
    {
     "name": "stderr",
     "output_type": "stream",
     "text": [
      "\r",
      "┣██████████████▎     ┫ [71.62%, 159/222, 09:56/13:52, 5.32s/i] "
     ]
    },
    {
     "name": "stdout",
     "output_type": "stream",
     "text": [
      "R(27.415504)\n"
     ]
    },
    {
     "name": "stderr",
     "output_type": "stream",
     "text": [
      "\r",
      "┣██████████████▍     ┫ [72.07%, 160/222, 09:59/13:51, 3.42s/i] "
     ]
    },
    {
     "name": "stdout",
     "output_type": "stream",
     "text": [
      "R(59.849575)\n"
     ]
    },
    {
     "name": "stderr",
     "output_type": "stream",
     "text": [
      "\r",
      "┣██████████████▌     ┫ [72.52%, 161/222, 10:04/13:52, 4.28s/i] "
     ]
    },
    {
     "name": "stdout",
     "output_type": "stream",
     "text": [
      "R(25.333267)\n"
     ]
    },
    {
     "name": "stderr",
     "output_type": "stream",
     "text": [
      "\r",
      "┣██████████████▌     ┫ [72.97%, 162/222, 10:07/13:52, 3.37s/i] "
     ]
    },
    {
     "name": "stdout",
     "output_type": "stream",
     "text": [
      "R(33.589657)\n"
     ]
    },
    {
     "name": "stderr",
     "output_type": "stream",
     "text": [
      "\r",
      "┣██████████████▋     ┫ [73.42%, 163/222, 10:11/13:53, 4.56s/i] "
     ]
    },
    {
     "name": "stdout",
     "output_type": "stream",
     "text": [
      "R(25.88566)\n"
     ]
    },
    {
     "name": "stderr",
     "output_type": "stream",
     "text": [
      "\r",
      "┣██████████████▊     ┫ [73.87%, 164/222, 10:15/13:52, 3.32s/i] "
     ]
    },
    {
     "name": "stdout",
     "output_type": "stream",
     "text": [
      "R(34.19994)\n"
     ]
    },
    {
     "name": "stderr",
     "output_type": "stream",
     "text": [
      "\r",
      "┣██████████████▊     ┫ [74.32%, 165/222, 10:18/13:52, 3.34s/i] "
     ]
    },
    {
     "name": "stdout",
     "output_type": "stream",
     "text": [
      "R(61.936275)\n"
     ]
    },
    {
     "name": "stderr",
     "output_type": "stream",
     "text": [
      "\r",
      "┣██████████████▉     ┫ [74.77%, 166/222, 10:22/13:51, 3.46s/i] "
     ]
    },
    {
     "name": "stdout",
     "output_type": "stream",
     "text": [
      "R(35.240833)\n"
     ]
    },
    {
     "name": "stderr",
     "output_type": "stream",
     "text": [
      "\r",
      "┣███████████████     ┫ [75.23%, 167/222, 10:25/13:51, 3.19s/i] "
     ]
    },
    {
     "name": "stdout",
     "output_type": "stream",
     "text": [
      "R(48.6584)\n"
     ]
    },
    {
     "name": "stderr",
     "output_type": "stream",
     "text": [
      "\r",
      "┣███████████████▏    ┫ [75.68%, 168/222, 10:30/13:53, 5.24s/i] "
     ]
    },
    {
     "name": "stdout",
     "output_type": "stream",
     "text": [
      "R(33.461353)\n"
     ]
    },
    {
     "name": "stderr",
     "output_type": "stream",
     "text": [
      "\r",
      "┣███████████████▏    ┫ [76.13%, 169/222, 10:33/13:52, 3.37s/i] "
     ]
    },
    {
     "name": "stdout",
     "output_type": "stream",
     "text": [
      "R(36.084736)\n"
     ]
    },
    {
     "name": "stderr",
     "output_type": "stream",
     "text": [
      "\r",
      "┣███████████████▎    ┫ [76.58%, 170/222, 10:37/13:51, 3.30s/i] "
     ]
    },
    {
     "name": "stdout",
     "output_type": "stream",
     "text": [
      "R(25.431263)\n"
     ]
    },
    {
     "name": "stderr",
     "output_type": "stream",
     "text": [
      "\r",
      "┣███████████████▍    ┫ [77.03%, 171/222, 10:41/13:52, 4.39s/i] "
     ]
    },
    {
     "name": "stdout",
     "output_type": "stream",
     "text": [
      "R(40.626022)\n"
     ]
    },
    {
     "name": "stderr",
     "output_type": "stream",
     "text": [
      "\r",
      "┣███████████████▍    ┫ [77.48%, 172/222, 10:45/13:52, 3.63s/i] "
     ]
    },
    {
     "name": "stdout",
     "output_type": "stream",
     "text": [
      "R(42.579323)\n"
     ]
    },
    {
     "name": "stderr",
     "output_type": "stream",
     "text": [
      "\r",
      "┣███████████████▌    ┫ [77.93%, 173/222, 10:48/13:52, 3.63s/i] "
     ]
    },
    {
     "name": "stdout",
     "output_type": "stream",
     "text": [
      "R(46.820965)\n"
     ]
    },
    {
     "name": "stderr",
     "output_type": "stream",
     "text": [
      "\r",
      "┣███████████████▋    ┫ [78.38%, 174/222, 10:52/13:52, 3.62s/i] "
     ]
    },
    {
     "name": "stdout",
     "output_type": "stream",
     "text": [
      "R(57.6379)\n"
     ]
    },
    {
     "name": "stderr",
     "output_type": "stream",
     "text": [
      "\r",
      "┣███████████████▊    ┫ [78.83%, 175/222, 10:56/13:52, 3.67s/i] "
     ]
    },
    {
     "name": "stdout",
     "output_type": "stream",
     "text": [
      "R(46.40284)\n"
     ]
    },
    {
     "name": "stderr",
     "output_type": "stream",
     "text": [
      "\r",
      "┣███████████████▊    ┫ [79.28%, 176/222, 10:59/13:52, 3.80s/i] "
     ]
    },
    {
     "name": "stdout",
     "output_type": "stream",
     "text": [
      "R(60.62529)\n"
     ]
    },
    {
     "name": "stderr",
     "output_type": "stream",
     "text": [
      "\r",
      "┣███████████████▉    ┫ [79.73%, 177/222, 11:05/13:54, 5.70s/i] "
     ]
    },
    {
     "name": "stdout",
     "output_type": "stream",
     "text": [
      "R(30.057373)\n"
     ]
    },
    {
     "name": "stderr",
     "output_type": "stream",
     "text": [
      "\r",
      "┣████████████████    ┫ [80.18%, 178/222, 11:09/13:54, 3.40s/i] "
     ]
    },
    {
     "name": "stdout",
     "output_type": "stream",
     "text": [
      "R(48.425735)\n"
     ]
    },
    {
     "name": "stderr",
     "output_type": "stream",
     "text": [
      "\r",
      "┣████████████████▏   ┫ [80.63%, 179/222, 11:12/13:54, 3.54s/i] "
     ]
    },
    {
     "name": "stdout",
     "output_type": "stream",
     "text": [
      "R(34.2719)\n"
     ]
    },
    {
     "name": "stderr",
     "output_type": "stream",
     "text": [
      "\r",
      "┣████████████████▏   ┫ [81.08%, 180/222, 11:16/13:53, 3.57s/i] "
     ]
    },
    {
     "name": "stdout",
     "output_type": "stream",
     "text": [
      "R(29.125223)\n"
     ]
    },
    {
     "name": "stderr",
     "output_type": "stream",
     "text": [
      "\r",
      "┣████████████████▎   ┫ [81.53%, 181/222, 11:20/13:54, 4.38s/i] "
     ]
    },
    {
     "name": "stdout",
     "output_type": "stream",
     "text": [
      "R(34.318977)\n"
     ]
    },
    {
     "name": "stderr",
     "output_type": "stream",
     "text": [
      "\r",
      "┣████████████████▍   ┫ [81.98%, 182/222, 11:23/13:54, 3.44s/i] "
     ]
    },
    {
     "name": "stdout",
     "output_type": "stream",
     "text": [
      "R(36.67917)\n"
     ]
    },
    {
     "name": "stderr",
     "output_type": "stream",
     "text": [
      "\r",
      "┣████████████████▍   ┫ [82.43%, 183/222, 11:27/13:53, 3.56s/i] "
     ]
    },
    {
     "name": "stdout",
     "output_type": "stream",
     "text": [
      "R(40.06093)\n"
     ]
    },
    {
     "name": "stderr",
     "output_type": "stream",
     "text": [
      "\r",
      "┣████████████████▌   ┫ [82.88%, 184/222, 11:31/13:53, 3.64s/i] "
     ]
    },
    {
     "name": "stdout",
     "output_type": "stream",
     "text": [
      "R(31.48792)\n"
     ]
    },
    {
     "name": "stderr",
     "output_type": "stream",
     "text": [
      "\r",
      "┣████████████████▋   ┫ [83.33%, 185/222, 11:34/13:53, 3.45s/i] "
     ]
    },
    {
     "name": "stdout",
     "output_type": "stream",
     "text": [
      "R(36.436665)\n"
     ]
    },
    {
     "name": "stderr",
     "output_type": "stream",
     "text": [
      "\r",
      "┣████████████████▊   ┫ [83.78%, 186/222, 11:39/13:55, 5.12s/i] "
     ]
    },
    {
     "name": "stdout",
     "output_type": "stream",
     "text": [
      "R(35.35064)\n"
     ]
    },
    {
     "name": "stderr",
     "output_type": "stream",
     "text": [
      "\r",
      "┣████████████████▊   ┫ [84.23%, 187/222, 11:43/13:54, 3.63s/i] "
     ]
    },
    {
     "name": "stdout",
     "output_type": "stream",
     "text": [
      "R(44.797417)\n"
     ]
    },
    {
     "name": "stderr",
     "output_type": "stream",
     "text": [
      "\r",
      "┣████████████████▉   ┫ [84.68%, 188/222, 11:46/13:54, 3.55s/i] "
     ]
    },
    {
     "name": "stdout",
     "output_type": "stream",
     "text": [
      "R(30.680613)\n"
     ]
    },
    {
     "name": "stderr",
     "output_type": "stream",
     "text": [
      "\r",
      "┣█████████████████   ┫ [85.14%, 189/222, 11:51/13:55, 4.53s/i] "
     ]
    },
    {
     "name": "stdout",
     "output_type": "stream",
     "text": [
      "R(69.7345)\n"
     ]
    },
    {
     "name": "stderr",
     "output_type": "stream",
     "text": [
      "\r",
      "┣█████████████████   ┫ [85.59%, 190/222, 11:55/13:55, 4.03s/i] "
     ]
    },
    {
     "name": "stdout",
     "output_type": "stream",
     "text": [
      "R(86.478775)\n"
     ]
    },
    {
     "name": "stderr",
     "output_type": "stream",
     "text": [
      "\r",
      "┣█████████████████▏  ┫ [86.04%, 191/222, 12:00/13:57, 5.18s/i] "
     ]
    },
    {
     "name": "stdout",
     "output_type": "stream",
     "text": [
      "R(95.94849)\n"
     ]
    },
    {
     "name": "stderr",
     "output_type": "stream",
     "text": [
      "\r",
      "┣█████████████████▎  ┫ [86.49%, 192/222, 12:05/13:58, 4.34s/i] "
     ]
    },
    {
     "name": "stdout",
     "output_type": "stream",
     "text": [
      "R(49.45091)\n"
     ]
    },
    {
     "name": "stderr",
     "output_type": "stream",
     "text": [
      "\r",
      "┣█████████████████▍  ┫ [86.94%, 193/222, 12:08/13:58, 3.66s/i] "
     ]
    },
    {
     "name": "stdout",
     "output_type": "stream",
     "text": [
      "R(37.296818)\n"
     ]
    },
    {
     "name": "stderr",
     "output_type": "stream",
     "text": [
      "\r",
      "┣█████████████████▍  ┫ [87.39%, 194/222, 12:13/13:59, 4.98s/i] "
     ]
    },
    {
     "name": "stdout",
     "output_type": "stream",
     "text": [
      "R(41.849537)\n"
     ]
    },
    {
     "name": "stderr",
     "output_type": "stream",
     "text": [
      "\r",
      "┣█████████████████▌  ┫ [87.84%, 195/222, 12:17/13:59, 3.71s/i] "
     ]
    },
    {
     "name": "stdout",
     "output_type": "stream",
     "text": [
      "R(33.190063)\n"
     ]
    },
    {
     "name": "stderr",
     "output_type": "stream",
     "text": [
      "\r",
      "┣█████████████████▋  ┫ [88.29%, 196/222, 12:20/13:58, 3.41s/i] "
     ]
    },
    {
     "name": "stdout",
     "output_type": "stream",
     "text": [
      "R(41.400578)\n"
     ]
    },
    {
     "name": "stderr",
     "output_type": "stream",
     "text": [
      "\r",
      "┣█████████████████▋  ┫ [88.74%, 197/222, 12:24/13:58, 3.68s/i] "
     ]
    },
    {
     "name": "stdout",
     "output_type": "stream",
     "text": [
      "R(40.54585)\n"
     ]
    },
    {
     "name": "stderr",
     "output_type": "stream",
     "text": [
      "\r",
      "┣█████████████████▊  ┫ [89.19%, 198/222, 12:29/14:00, 4.82s/i] "
     ]
    },
    {
     "name": "stdout",
     "output_type": "stream",
     "text": [
      "R(31.490257)\n"
     ]
    },
    {
     "name": "stderr",
     "output_type": "stream",
     "text": [
      "\r",
      "┣█████████████████▉  ┫ [89.64%, 199/222, 12:32/13:59, 3.38s/i] "
     ]
    },
    {
     "name": "stdout",
     "output_type": "stream",
     "text": [
      "R(39.572525)\n"
     ]
    },
    {
     "name": "stderr",
     "output_type": "stream",
     "text": [
      "\r",
      "┣██████████████████  ┫ [90.09%, 200/222, 12:36/13:59, 3.69s/i] "
     ]
    },
    {
     "name": "stdout",
     "output_type": "stream",
     "text": [
      "R(32.57876)\n"
     ]
    },
    {
     "name": "stderr",
     "output_type": "stream",
     "text": [
      "\r",
      "┣██████████████████  ┫ [90.54%, 201/222, 12:39/13:59, 3.50s/i] "
     ]
    },
    {
     "name": "stdout",
     "output_type": "stream",
     "text": [
      "R(87.05209)\n"
     ]
    },
    {
     "name": "stderr",
     "output_type": "stream",
     "text": [
      "\r",
      "┣██████████████████▏ ┫ [90.99%, 202/222, 12:43/13:59, 4.08s/i] "
     ]
    },
    {
     "name": "stdout",
     "output_type": "stream",
     "text": [
      "R(37.33333)\n"
     ]
    },
    {
     "name": "stderr",
     "output_type": "stream",
     "text": [
      "\r",
      "┣██████████████████▎ ┫ [91.44%, 203/222, 12:47/13:59, 3.48s/i] "
     ]
    },
    {
     "name": "stdout",
     "output_type": "stream",
     "text": [
      "R(37.471912)\n"
     ]
    },
    {
     "name": "stderr",
     "output_type": "stream",
     "text": [
      "\r",
      "┣██████████████████▍ ┫ [91.89%, 204/222, 12:52/14:00, 5.34s/i] "
     ]
    },
    {
     "name": "stdout",
     "output_type": "stream",
     "text": [
      "R(31.155228)\n"
     ]
    },
    {
     "name": "stderr",
     "output_type": "stream",
     "text": [
      "\r",
      "┣██████████████████▍ ┫ [92.34%, 205/222, 12:56/14:00, 3.52s/i] "
     ]
    },
    {
     "name": "stdout",
     "output_type": "stream",
     "text": [
      "R(48.45643)\n"
     ]
    },
    {
     "name": "stderr",
     "output_type": "stream",
     "text": [
      "\r",
      "┣██████████████████▌ ┫ [92.79%, 206/222, 12:59/14:00, 3.65s/i] "
     ]
    },
    {
     "name": "stdout",
     "output_type": "stream",
     "text": [
      "R(58.06375)\n"
     ]
    },
    {
     "name": "stderr",
     "output_type": "stream",
     "text": [
      "\r",
      "┣██████████████████▋ ┫ [93.24%, 207/222, 13:05/14:01, 5.21s/i] "
     ]
    },
    {
     "name": "stdout",
     "output_type": "stream",
     "text": [
      "R(46.401436)\n"
     ]
    },
    {
     "name": "stderr",
     "output_type": "stream",
     "text": [
      "\r",
      "┣██████████████████▋ ┫ [93.69%, 208/222, 13:09/14:02, 4.54s/i] "
     ]
    },
    {
     "name": "stdout",
     "output_type": "stream",
     "text": [
      "R(61.820854)\n"
     ]
    },
    {
     "name": "stderr",
     "output_type": "stream",
     "text": [
      "\r",
      "┣██████████████████▊ ┫ [94.14%, 209/222, 13:13/14:03, 4.05s/i] "
     ]
    },
    {
     "name": "stdout",
     "output_type": "stream",
     "text": [
      "R(46.17238)\n"
     ]
    },
    {
     "name": "stderr",
     "output_type": "stream",
     "text": [
      "\r",
      "┣██████████████████▉ ┫ [94.59%, 210/222, 13:17/14:03, 3.84s/i] "
     ]
    },
    {
     "name": "stdout",
     "output_type": "stream",
     "text": [
      "R(112.41696)\n"
     ]
    },
    {
     "name": "stderr",
     "output_type": "stream",
     "text": [
      "\r",
      "┣███████████████████ ┫ [95.05%, 211/222, 13:22/14:04, 5.02s/i] "
     ]
    },
    {
     "name": "stdout",
     "output_type": "stream",
     "text": [
      "R(52.7947)\n"
     ]
    },
    {
     "name": "stderr",
     "output_type": "stream",
     "text": [
      "\r",
      "┣███████████████████ ┫ [95.50%, 212/222, 13:27/14:06, 5.41s/i] "
     ]
    },
    {
     "name": "stdout",
     "output_type": "stream",
     "text": [
      "R(51.769882)\n"
     ]
    },
    {
     "name": "stderr",
     "output_type": "stream",
     "text": [
      "\r",
      "┣███████████████████▏┫ [95.95%, 213/222, 13:31/14:06, 3.83s/i] "
     ]
    },
    {
     "name": "stdout",
     "output_type": "stream",
     "text": [
      "R(85.98884)\n"
     ]
    },
    {
     "name": "stderr",
     "output_type": "stream",
     "text": [
      "\r",
      "┣███████████████████▎┫ [96.40%, 214/222, 13:36/14:07, 4.78s/i] "
     ]
    },
    {
     "name": "stdout",
     "output_type": "stream",
     "text": [
      "R(52.7132)\n"
     ]
    },
    {
     "name": "stderr",
     "output_type": "stream",
     "text": [
      "\r",
      "┣███████████████████▎┫ [96.85%, 215/222, 13:40/14:07, 3.86s/i] "
     ]
    },
    {
     "name": "stdout",
     "output_type": "stream",
     "text": [
      "R(92.79234)\n"
     ]
    },
    {
     "name": "stderr",
     "output_type": "stream",
     "text": [
      "\r",
      "┣███████████████████▍┫ [97.30%, 216/222, 13:47/14:10, 6.75s/i] "
     ]
    },
    {
     "name": "stdout",
     "output_type": "stream",
     "text": [
      "R(44.493725)\n"
     ]
    },
    {
     "name": "stderr",
     "output_type": "stream",
     "text": [
      "\r",
      "┣███████████████████▌┫ [97.75%, 217/222, 13:51/14:10, 3.90s/i] "
     ]
    },
    {
     "name": "stdout",
     "output_type": "stream",
     "text": [
      "R(79.70278)\n"
     ]
    },
    {
     "name": "stderr",
     "output_type": "stream",
     "text": [
      "\r",
      "┣███████████████████▋┫ [98.20%, 218/222, 13:55/14:11, 4.66s/i] "
     ]
    },
    {
     "name": "stdout",
     "output_type": "stream",
     "text": [
      "R(61.033516)\n"
     ]
    },
    {
     "name": "stderr",
     "output_type": "stream",
     "text": [
      "\r",
      "┣███████████████████▋┫ [98.65%, 219/222, 13:59/14:11, 4.22s/i] "
     ]
    },
    {
     "name": "stdout",
     "output_type": "stream",
     "text": [
      "R(122.58038)\n"
     ]
    },
    {
     "name": "stderr",
     "output_type": "stream",
     "text": [
      "\r",
      "┣███████████████████▊┫ [99.10%, 220/222, 14:06/14:13, 6.05s/i] "
     ]
    },
    {
     "name": "stdout",
     "output_type": "stream",
     "text": [
      "R(114.83252)\n"
     ]
    },
    {
     "name": "stderr",
     "output_type": "stream",
     "text": [
      "\r",
      "┣███████████████████▉┫ [99.55%, 221/222, 14:13/14:16, 7.13s/i] "
     ]
    },
    {
     "name": "stdout",
     "output_type": "stream",
     "text": [
      "R(125.3276)\n"
     ]
    },
    {
     "name": "stderr",
     "output_type": "stream",
     "text": [
      "┣████████████████████┫ [100.00%, 222/222, 14:18/14:18, 3.87s/i] \n"
     ]
    },
    {
     "name": "stdout",
     "output_type": "stream",
     "text": [
      "R(46.808968)\n"
     ]
    },
    {
     "name": "stderr",
     "output_type": "stream",
     "text": [
      "\r",
      "┣                    ┫ [0.45%, 1/222, 00:04/13:16, 3.58s/i] "
     ]
    },
    {
     "name": "stdout",
     "output_type": "stream",
     "text": [
      "R(28.52931)\n"
     ]
    },
    {
     "name": "stderr",
     "output_type": "stream",
     "text": [
      "\r",
      "┣▏                   ┫ [0.90%, 2/222, 00:07/12:48, 3.34s/i] "
     ]
    },
    {
     "name": "stdout",
     "output_type": "stream",
     "text": [
      "R(26.271292)\n"
     ]
    },
    {
     "name": "stderr",
     "output_type": "stream",
     "text": [
      "\r",
      "┣▎                   ┫ [1.35%, 3/222, 00:12/14:30, 4.83s/i] "
     ]
    },
    {
     "name": "stdout",
     "output_type": "stream",
     "text": [
      "R(36.144474)\n"
     ]
    },
    {
     "name": "stderr",
     "output_type": "stream",
     "text": [
      "\r",
      "┣▎                   ┫ [1.80%, 4/222, 00:16/14:28, 3.89s/i] "
     ]
    },
    {
     "name": "stdout",
     "output_type": "stream",
     "text": [
      "R(23.55148)\n"
     ]
    },
    {
     "name": "stderr",
     "output_type": "stream",
     "text": [
      "\r",
      "┣▍                   ┫ [2.25%, 5/222, 00:19/13:56, 3.18s/i] "
     ]
    },
    {
     "name": "stdout",
     "output_type": "stream",
     "text": [
      "R(19.967833)\n"
     ]
    },
    {
     "name": "stderr",
     "output_type": "stream",
     "text": [
      "\r",
      "┣▌                   ┫ [2.70%, 6/222, 00:22/13:27, 3.00s/i] "
     ]
    },
    {
     "name": "stdout",
     "output_type": "stream",
     "text": [
      "R(16.821182)\n"
     ]
    },
    {
     "name": "stderr",
     "output_type": "stream",
     "text": [
      "\r",
      "┣▋                   ┫ [3.15%, 7/222, 00:25/13:13, 3.20s/i] "
     ]
    },
    {
     "name": "stdout",
     "output_type": "stream",
     "text": [
      "R(18.078785)\n"
     ]
    },
    {
     "name": "stderr",
     "output_type": "stream",
     "text": [
      "\r",
      "┣▋                   ┫ [3.60%, 8/222, 00:28/12:58, 3.03s/i] "
     ]
    },
    {
     "name": "stdout",
     "output_type": "stream",
     "text": [
      "R(42.119865)\n"
     ]
    },
    {
     "name": "stderr",
     "output_type": "stream",
     "text": [
      "\r",
      "┣▊                   ┫ [4.05%, 9/222, 00:33/13:43, 5.32s/i] "
     ]
    },
    {
     "name": "stdout",
     "output_type": "stream",
     "text": [
      "R(45.494373)\n"
     ]
    },
    {
     "name": "stderr",
     "output_type": "stream",
     "text": [
      "\r",
      "┣▉                   ┫ [4.50%, 10/222, 00:37/13:49, 3.97s/i] "
     ]
    },
    {
     "name": "stdout",
     "output_type": "stream",
     "text": [
      "R(30.904007)\n"
     ]
    },
    {
     "name": "stderr",
     "output_type": "stream",
     "text": [
      "\r",
      "┣▉                   ┫ [4.95%, 11/222, 00:41/13:45, 3.53s/i] "
     ]
    },
    {
     "name": "stdout",
     "output_type": "stream",
     "text": [
      "R(23.17331)\n"
     ]
    },
    {
     "name": "stderr",
     "output_type": "stream",
     "text": [
      "\r",
      "┣█                   ┫ [5.41%, 12/222, 00:44/13:39, 3.39s/i] "
     ]
    },
    {
     "name": "stdout",
     "output_type": "stream",
     "text": [
      "R(44.15679)\n"
     ]
    },
    {
     "name": "stderr",
     "output_type": "stream",
     "text": [
      "\r",
      "┣█▏                  ┫ [5.86%, 13/222, 00:49/14:00, 4.95s/i] "
     ]
    },
    {
     "name": "stdout",
     "output_type": "stream",
     "text": [
      "R(20.067356)\n"
     ]
    },
    {
     "name": "stderr",
     "output_type": "stream",
     "text": [
      "\r",
      "┣█▎                  ┫ [6.31%, 14/222, 00:52/13:48, 3.03s/i] "
     ]
    },
    {
     "name": "stdout",
     "output_type": "stream",
     "text": [
      "R(16.916115)\n"
     ]
    },
    {
     "name": "stderr",
     "output_type": "stream",
     "text": [
      "\r",
      "┣█▎                  ┫ [6.76%, 15/222, 00:55/13:36, 2.88s/i] "
     ]
    },
    {
     "name": "stdout",
     "output_type": "stream",
     "text": [
      "R(32.67356)\n"
     ]
    },
    {
     "name": "stderr",
     "output_type": "stream",
     "text": [
      "\r",
      "┣█▍                  ┫ [7.21%, 16/222, 00:59/13:33, 3.47s/i] "
     ]
    },
    {
     "name": "stdout",
     "output_type": "stream",
     "text": [
      "R(20.801395)\n"
     ]
    },
    {
     "name": "stderr",
     "output_type": "stream",
     "text": [
      "\r",
      "┣█▌                  ┫ [7.66%, 17/222, 01:02/13:28, 3.26s/i] "
     ]
    },
    {
     "name": "stdout",
     "output_type": "stream",
     "text": [
      "R(23.507992)\n"
     ]
    },
    {
     "name": "stderr",
     "output_type": "stream",
     "text": [
      "\r",
      "┣█▌                  ┫ [8.11%, 18/222, 01:07/13:44, 4.95s/i] "
     ]
    },
    {
     "name": "stdout",
     "output_type": "stream",
     "text": [
      "R(13.675834)\n"
     ]
    },
    {
     "name": "stderr",
     "output_type": "stream",
     "text": [
      "\r",
      "┣█▋                  ┫ [8.56%, 19/222, 01:10/13:34, 2.87s/i] "
     ]
    },
    {
     "name": "stdout",
     "output_type": "stream",
     "text": [
      "R(18.454361)\n"
     ]
    },
    {
     "name": "stderr",
     "output_type": "stream",
     "text": [
      "\r",
      "┣█▊                  ┫ [9.01%, 20/222, 01:13/13:27, 3.02s/i] "
     ]
    },
    {
     "name": "stdout",
     "output_type": "stream",
     "text": [
      "R(35.360962)\n"
     ]
    },
    {
     "name": "stderr",
     "output_type": "stream",
     "text": [
      "\r",
      "┣█▉                  ┫ [9.46%, 21/222, 01:16/13:28, 3.74s/i] "
     ]
    },
    {
     "name": "stdout",
     "output_type": "stream",
     "text": [
      "R(25.194546)\n"
     ]
    },
    {
     "name": "stderr",
     "output_type": "stream",
     "text": [
      "\r",
      "┣█▉                  ┫ [9.91%, 22/222, 01:21/13:37, 4.55s/i] "
     ]
    },
    {
     "name": "stdout",
     "output_type": "stream",
     "text": [
      "R(25.26421)\n"
     ]
    },
    {
     "name": "stderr",
     "output_type": "stream",
     "text": [
      "\r",
      "┣██                  ┫ [10.36%, 23/222, 01:24/13:32, 3.17s/i] "
     ]
    },
    {
     "name": "stdout",
     "output_type": "stream",
     "text": [
      "R(27.834135)\n"
     ]
    },
    {
     "name": "stderr",
     "output_type": "stream",
     "text": [
      "\r",
      "┣██▏                 ┫ [10.81%, 24/222, 01:27/13:28, 3.25s/i] "
     ]
    },
    {
     "name": "stdout",
     "output_type": "stream",
     "text": [
      "R(17.775833)\n"
     ]
    },
    {
     "name": "stderr",
     "output_type": "stream",
     "text": [
      "\r",
      "┣██▎                 ┫ [11.26%, 25/222, 01:30/13:22, 2.97s/i] "
     ]
    },
    {
     "name": "stdout",
     "output_type": "stream",
     "text": [
      "R(153.81078)\n"
     ]
    },
    {
     "name": "stderr",
     "output_type": "stream",
     "text": [
      "\r",
      "┣██▎                 ┫ [11.71%, 26/222, 01:38/13:54, 7.31s/i] "
     ]
    },
    {
     "name": "stdout",
     "output_type": "stream",
     "text": [
      "R(24.81427)\n"
     ]
    },
    {
     "name": "stderr",
     "output_type": "stream",
     "text": [
      "\r",
      "┣██▍                 ┫ [12.16%, 27/222, 01:41/13:49, 3.18s/i] "
     ]
    },
    {
     "name": "stdout",
     "output_type": "stream",
     "text": [
      "R(35.57736)\n"
     ]
    },
    {
     "name": "stderr",
     "output_type": "stream",
     "text": [
      "\r",
      "┣██▌                 ┫ [12.61%, 28/222, 01:44/13:47, 3.42s/i] "
     ]
    },
    {
     "name": "stdout",
     "output_type": "stream",
     "text": [
      "R(21.587835)\n"
     ]
    },
    {
     "name": "stderr",
     "output_type": "stream",
     "text": [
      "\r",
      "┣██▌                 ┫ [13.06%, 29/222, 01:48/13:44, 3.33s/i] "
     ]
    },
    {
     "name": "stdout",
     "output_type": "stream",
     "text": [
      "R(42.02643)\n"
     ]
    },
    {
     "name": "stderr",
     "output_type": "stream",
     "text": [
      "\r",
      "┣██▋                 ┫ [13.51%, 30/222, 01:51/13:43, 3.63s/i] "
     ]
    },
    {
     "name": "stdout",
     "output_type": "stream",
     "text": [
      "R(18.690247)\n"
     ]
    },
    {
     "name": "stderr",
     "output_type": "stream",
     "text": [
      "\r",
      "┣██▊                 ┫ [13.96%, 31/222, 01:56/13:49, 4.48s/i] "
     ]
    },
    {
     "name": "stdout",
     "output_type": "stream",
     "text": [
      "R(16.955326)\n"
     ]
    },
    {
     "name": "stderr",
     "output_type": "stream",
     "text": [
      "\r",
      "┣██▉                 ┫ [14.41%, 32/222, 01:59/13:43, 2.86s/i] "
     ]
    },
    {
     "name": "stdout",
     "output_type": "stream",
     "text": [
      "R(45.525566)\n"
     ]
    },
    {
     "name": "stderr",
     "output_type": "stream",
     "text": [
      "\r",
      "┣██▉                 ┫ [14.86%, 33/222, 02:03/13:46, 4.24s/i] "
     ]
    },
    {
     "name": "stdout",
     "output_type": "stream",
     "text": [
      "R(17.661728)\n"
     ]
    },
    {
     "name": "stderr",
     "output_type": "stream",
     "text": [
      "\r",
      "┣███                 ┫ [15.32%, 34/222, 02:06/13:43, 3.20s/i] "
     ]
    },
    {
     "name": "stdout",
     "output_type": "stream",
     "text": [
      "R(18.892864)\n"
     ]
    },
    {
     "name": "stderr",
     "output_type": "stream",
     "text": [
      "\r",
      "┣███▏                ┫ [15.77%, 35/222, 02:09/13:38, 2.92s/i] "
     ]
    },
    {
     "name": "stdout",
     "output_type": "stream",
     "text": [
      "R(14.520472)\n"
     ]
    },
    {
     "name": "stderr",
     "output_type": "stream",
     "text": [
      "\r",
      "┣███▏                ┫ [16.22%, 36/222, 02:13/13:42, 4.44s/i] "
     ]
    },
    {
     "name": "stdout",
     "output_type": "stream",
     "text": [
      "R(30.555838)\n"
     ]
    },
    {
     "name": "stderr",
     "output_type": "stream",
     "text": [
      "\r",
      "┣███▎                ┫ [16.67%, 37/222, 02:17/13:41, 3.42s/i] "
     ]
    },
    {
     "name": "stdout",
     "output_type": "stream",
     "text": [
      "R(12.605272)\n"
     ]
    },
    {
     "name": "stderr",
     "output_type": "stream",
     "text": [
      "\r",
      "┣███▍                ┫ [17.12%, 38/222, 02:20/13:36, 2.91s/i] "
     ]
    },
    {
     "name": "stdout",
     "output_type": "stream",
     "text": [
      "R(23.989742)\n"
     ]
    },
    {
     "name": "stderr",
     "output_type": "stream",
     "text": [
      "\r",
      "┣███▌                ┫ [17.57%, 39/222, 02:23/13:35, 3.40s/i] "
     ]
    },
    {
     "name": "stdout",
     "output_type": "stream",
     "text": [
      "R(40.779312)\n"
     ]
    },
    {
     "name": "stderr",
     "output_type": "stream",
     "text": [
      "\r",
      "┣███▌                ┫ [18.02%, 40/222, 02:28/13:43, 5.24s/i] "
     ]
    },
    {
     "name": "stdout",
     "output_type": "stream",
     "text": [
      "R(19.348486)\n"
     ]
    },
    {
     "name": "stderr",
     "output_type": "stream",
     "text": [
      "\r",
      "┣███▋                ┫ [18.47%, 41/222, 02:31/13:38, 2.68s/i] "
     ]
    },
    {
     "name": "stdout",
     "output_type": "stream",
     "text": [
      "R(25.092222)\n"
     ]
    },
    {
     "name": "stderr",
     "output_type": "stream",
     "text": [
      "\r",
      "┣███▊                ┫ [18.92%, 42/222, 02:34/13:35, 3.12s/i] "
     ]
    },
    {
     "name": "stdout",
     "output_type": "stream",
     "text": [
      "R(23.617779)\n"
     ]
    },
    {
     "name": "stderr",
     "output_type": "stream",
     "text": [
      "\r",
      "┣███▊                ┫ [19.37%, 43/222, 02:37/13:33, 3.29s/i] "
     ]
    },
    {
     "name": "stdout",
     "output_type": "stream",
     "text": [
      "R(16.050722)\n"
     ]
    },
    {
     "name": "stderr",
     "output_type": "stream",
     "text": [
      "\r",
      "┣███▉                ┫ [19.82%, 44/222, 02:41/13:30, 3.07s/i] "
     ]
    },
    {
     "name": "stdout",
     "output_type": "stream",
     "text": [
      "R(14.440484)\n"
     ]
    },
    {
     "name": "stderr",
     "output_type": "stream",
     "text": [
      "\r",
      "┣████                ┫ [20.27%, 45/222, 02:45/13:32, 4.12s/i] "
     ]
    },
    {
     "name": "stdout",
     "output_type": "stream",
     "text": [
      "R(50.66424)\n"
     ]
    },
    {
     "name": "stderr",
     "output_type": "stream",
     "text": [
      "\r",
      "┣████▏               ┫ [20.72%, 46/222, 02:48/13:33, 3.73s/i] "
     ]
    },
    {
     "name": "stdout",
     "output_type": "stream",
     "text": [
      "R(28.225971)\n"
     ]
    },
    {
     "name": "stderr",
     "output_type": "stream",
     "text": [
      "\r",
      "┣████▏               ┫ [21.17%, 47/222, 02:52/13:32, 3.52s/i] "
     ]
    },
    {
     "name": "stdout",
     "output_type": "stream",
     "text": [
      "R(51.887436)\n"
     ]
    },
    {
     "name": "stderr",
     "output_type": "stream",
     "text": [
      "\r",
      "┣████▎               ┫ [21.62%, 48/222, 02:56/13:33, 3.99s/i] "
     ]
    },
    {
     "name": "stdout",
     "output_type": "stream",
     "text": [
      "R(22.663095)\n"
     ]
    },
    {
     "name": "stderr",
     "output_type": "stream",
     "text": [
      "\r",
      "┣████▍               ┫ [22.07%, 49/222, 02:59/13:31, 3.18s/i] "
     ]
    },
    {
     "name": "stdout",
     "output_type": "stream",
     "text": [
      "R(58.670006)\n"
     ]
    },
    {
     "name": "stderr",
     "output_type": "stream",
     "text": [
      "\r",
      "┣████▌               ┫ [22.52%, 50/222, 03:04/13:38, 5.17s/i] "
     ]
    },
    {
     "name": "stdout",
     "output_type": "stream",
     "text": [
      "R(21.23595)\n"
     ]
    },
    {
     "name": "stderr",
     "output_type": "stream",
     "text": [
      "\r",
      "┣████▌               ┫ [22.97%, 51/222, 03:07/13:36, 3.17s/i] "
     ]
    },
    {
     "name": "stdout",
     "output_type": "stream",
     "text": [
      "R(49.017002)\n"
     ]
    },
    {
     "name": "stderr",
     "output_type": "stream",
     "text": [
      "\r",
      "┣████▋               ┫ [23.42%, 52/222, 03:11/13:35, 3.61s/i] "
     ]
    },
    {
     "name": "stdout",
     "output_type": "stream",
     "text": [
      "R(23.991508)\n"
     ]
    },
    {
     "name": "stderr",
     "output_type": "stream",
     "text": [
      "\r",
      "┣████▊               ┫ [23.87%, 53/222, 03:14/13:33, 3.13s/i] "
     ]
    },
    {
     "name": "stdout",
     "output_type": "stream",
     "text": [
      "R(14.095497)\n"
     ]
    },
    {
     "name": "stderr",
     "output_type": "stream",
     "text": [
      "\r",
      "┣████▊               ┫ [24.32%, 54/222, 03:17/13:30, 3.00s/i] "
     ]
    },
    {
     "name": "stdout",
     "output_type": "stream",
     "text": [
      "R(62.344894)\n"
     ]
    },
    {
     "name": "stderr",
     "output_type": "stream",
     "text": [
      "\r",
      "┣████▉               ┫ [24.77%, 55/222, 03:23/13:40, 5.94s/i] "
     ]
    },
    {
     "name": "stdout",
     "output_type": "stream",
     "text": [
      "R(48.154205)\n"
     ]
    },
    {
     "name": "stderr",
     "output_type": "stream",
     "text": [
      "\r",
      "┣█████               ┫ [25.23%, 56/222, 03:27/13:39, 3.48s/i] "
     ]
    },
    {
     "name": "stdout",
     "output_type": "stream",
     "text": [
      "R(89.73343)\n"
     ]
    },
    {
     "name": "stderr",
     "output_type": "stream",
     "text": [
      "\r",
      "┣█████▏              ┫ [25.68%, 57/222, 03:32/13:47, 5.69s/i] "
     ]
    },
    {
     "name": "stdout",
     "output_type": "stream",
     "text": [
      "R(85.193634)\n"
     ]
    },
    {
     "name": "stderr",
     "output_type": "stream",
     "text": [
      "\r",
      "┣█████▏              ┫ [26.13%, 58/222, 03:38/13:56, 6.04s/i] "
     ]
    },
    {
     "name": "stdout",
     "output_type": "stream",
     "text": [
      "R(13.6351)\n"
     ]
    },
    {
     "name": "stderr",
     "output_type": "stream",
     "text": [
      "\r",
      "┣█████▎              ┫ [26.58%, 59/222, 03:41/13:53, 3.13s/i] "
     ]
    },
    {
     "name": "stdout",
     "output_type": "stream",
     "text": [
      "R(17.89168)\n"
     ]
    },
    {
     "name": "stderr",
     "output_type": "stream",
     "text": [
      "\r",
      "┣█████▍              ┫ [27.03%, 60/222, 03:45/13:51, 3.07s/i] "
     ]
    },
    {
     "name": "stdout",
     "output_type": "stream",
     "text": [
      "R(8.554366)\n"
     ]
    },
    {
     "name": "stderr",
     "output_type": "stream",
     "text": [
      "\r",
      "┣█████▍              ┫ [27.48%, 61/222, 03:47/13:48, 2.94s/i] "
     ]
    },
    {
     "name": "stdout",
     "output_type": "stream",
     "text": [
      "R(105.45094)\n"
     ]
    },
    {
     "name": "stderr",
     "output_type": "stream",
     "text": [
      "\r",
      "┣█████▌              ┫ [27.93%, 62/222, 03:52/13:52, 4.93s/i] "
     ]
    },
    {
     "name": "stdout",
     "output_type": "stream",
     "text": [
      "R(43.452614)\n"
     ]
    },
    {
     "name": "stderr",
     "output_type": "stream",
     "text": [
      "\r",
      "┣█████▋              ┫ [28.38%, 63/222, 03:56/13:51, 3.44s/i] "
     ]
    },
    {
     "name": "stdout",
     "output_type": "stream",
     "text": [
      "R(41.081177)\n"
     ]
    },
    {
     "name": "stderr",
     "output_type": "stream",
     "text": [
      "\r",
      "┣█████▊              ┫ [28.83%, 64/222, 04:01/13:57, 5.44s/i] "
     ]
    },
    {
     "name": "stdout",
     "output_type": "stream",
     "text": [
      "R(60.995834)\n"
     ]
    },
    {
     "name": "stderr",
     "output_type": "stream",
     "text": [
      "\r",
      "┣█████▊              ┫ [29.28%, 65/222, 04:06/13:59, 4.54s/i] "
     ]
    },
    {
     "name": "stdout",
     "output_type": "stream",
     "text": [
      "R(23.05249)\n"
     ]
    },
    {
     "name": "stderr",
     "output_type": "stream",
     "text": [
      "\r",
      "┣█████▉              ┫ [29.73%, 66/222, 04:09/13:58, 3.32s/i] "
     ]
    },
    {
     "name": "stdout",
     "output_type": "stream",
     "text": [
      "R(44.2405)\n"
     ]
    },
    {
     "name": "stderr",
     "output_type": "stream",
     "text": [
      "\r",
      "┣██████              ┫ [30.18%, 67/222, 04:13/13:59, 4.02s/i] "
     ]
    },
    {
     "name": "stdout",
     "output_type": "stream",
     "text": [
      "R(12.42694)\n"
     ]
    },
    {
     "name": "stderr",
     "output_type": "stream",
     "text": [
      "\r",
      "┣██████▏             ┫ [30.63%, 68/222, 04:17/14:00, 4.12s/i] "
     ]
    },
    {
     "name": "stdout",
     "output_type": "stream",
     "text": [
      "R(39.761402)\n"
     ]
    },
    {
     "name": "stderr",
     "output_type": "stream",
     "text": [
      "\r",
      "┣██████▏             ┫ [31.08%, 69/222, 04:21/14:00, 3.76s/i] "
     ]
    },
    {
     "name": "stdout",
     "output_type": "stream",
     "text": [
      "R(39.01484)\n"
     ]
    },
    {
     "name": "stderr",
     "output_type": "stream",
     "text": [
      "\r",
      "┣██████▎             ┫ [31.53%, 70/222, 04:25/13:59, 3.48s/i] "
     ]
    },
    {
     "name": "stdout",
     "output_type": "stream",
     "text": [
      "R(10.498422)\n"
     ]
    },
    {
     "name": "stderr",
     "output_type": "stream",
     "text": [
      "\r",
      "┣██████▍             ┫ [31.98%, 71/222, 04:27/13:56, 2.97s/i] "
     ]
    },
    {
     "name": "stdout",
     "output_type": "stream",
     "text": [
      "R(17.625984)\n"
     ]
    },
    {
     "name": "stderr",
     "output_type": "stream",
     "text": [
      "\r",
      "┣██████▍             ┫ [32.43%, 72/222, 04:30/13:54, 2.95s/i] "
     ]
    },
    {
     "name": "stdout",
     "output_type": "stream",
     "text": [
      "R(14.327219)\n"
     ]
    },
    {
     "name": "stderr",
     "output_type": "stream",
     "text": [
      "\r",
      "┣██████▌             ┫ [32.88%, 73/222, 04:35/13:56, 4.34s/i] "
     ]
    },
    {
     "name": "stdout",
     "output_type": "stream",
     "text": [
      "R(33.77516)\n"
     ]
    },
    {
     "name": "stderr",
     "output_type": "stream",
     "text": [
      "\r",
      "┣██████▋             ┫ [33.33%, 74/222, 04:38/13:55, 3.42s/i] "
     ]
    },
    {
     "name": "stdout",
     "output_type": "stream",
     "text": [
      "R(23.211678)\n"
     ]
    },
    {
     "name": "stderr",
     "output_type": "stream",
     "text": [
      "\r",
      "┣██████▊             ┫ [33.78%, 75/222, 04:41/13:53, 3.18s/i] "
     ]
    },
    {
     "name": "stdout",
     "output_type": "stream",
     "text": [
      "R(17.118204)\n"
     ]
    },
    {
     "name": "stderr",
     "output_type": "stream",
     "text": [
      "\r",
      "┣██████▊             ┫ [34.23%, 76/222, 04:44/13:51, 3.07s/i] "
     ]
    },
    {
     "name": "stdout",
     "output_type": "stream",
     "text": [
      "R(11.206523)\n"
     ]
    },
    {
     "name": "stderr",
     "output_type": "stream",
     "text": [
      "\r",
      "┣██████▉             ┫ [34.68%, 77/222, 04:49/13:52, 4.24s/i] "
     ]
    },
    {
     "name": "stdout",
     "output_type": "stream",
     "text": [
      "R(48.340267)\n"
     ]
    },
    {
     "name": "stderr",
     "output_type": "stream",
     "text": [
      "\r",
      "┣███████             ┫ [35.14%, 78/222, 04:52/13:52, 3.55s/i] "
     ]
    },
    {
     "name": "stdout",
     "output_type": "stream",
     "text": [
      "R(14.605536)\n"
     ]
    },
    {
     "name": "stderr",
     "output_type": "stream",
     "text": [
      "\r",
      "┣███████             ┫ [35.59%, 79/222, 04:55/13:50, 2.98s/i] "
     ]
    },
    {
     "name": "stdout",
     "output_type": "stream",
     "text": [
      "R(33.977974)\n"
     ]
    },
    {
     "name": "stderr",
     "output_type": "stream",
     "text": [
      "\r",
      "┣███████▏            ┫ [36.04%, 80/222, 04:59/13:49, 3.44s/i] "
     ]
    },
    {
     "name": "stdout",
     "output_type": "stream",
     "text": [
      "R(13.937953)\n"
     ]
    },
    {
     "name": "stderr",
     "output_type": "stream",
     "text": [
      "\r",
      "┣███████▎            ┫ [36.49%, 81/222, 05:02/13:47, 3.03s/i] "
     ]
    },
    {
     "name": "stdout",
     "output_type": "stream",
     "text": [
      "R(12.341971)\n"
     ]
    },
    {
     "name": "stderr",
     "output_type": "stream",
     "text": [
      "\r",
      "┣███████▍            ┫ [36.94%, 82/222, 05:06/13:49, 4.44s/i] "
     ]
    },
    {
     "name": "stdout",
     "output_type": "stream",
     "text": [
      "R(16.012026)\n"
     ]
    },
    {
     "name": "stderr",
     "output_type": "stream",
     "text": [
      "\r",
      "┣███████▍            ┫ [37.39%, 83/222, 05:09/13:48, 3.33s/i] "
     ]
    },
    {
     "name": "stdout",
     "output_type": "stream",
     "text": [
      "R(46.29875)\n"
     ]
    },
    {
     "name": "stderr",
     "output_type": "stream",
     "text": [
      "\r",
      "┣███████▌            ┫ [37.84%, 84/222, 05:13/13:46, 3.24s/i] "
     ]
    },
    {
     "name": "stdout",
     "output_type": "stream",
     "text": [
      "R(17.715458)\n"
     ]
    },
    {
     "name": "stderr",
     "output_type": "stream",
     "text": [
      "\r",
      "┣███████▋            ┫ [38.29%, 85/222, 05:16/13:45, 3.06s/i] "
     ]
    },
    {
     "name": "stdout",
     "output_type": "stream",
     "text": [
      "R(8.804928)\n"
     ]
    },
    {
     "name": "stderr",
     "output_type": "stream",
     "text": [
      "\r",
      "┣███████▋            ┫ [38.74%, 86/222, 05:20/13:46, 4.23s/i] "
     ]
    },
    {
     "name": "stdout",
     "output_type": "stream",
     "text": [
      "R(11.1979065)\n"
     ]
    },
    {
     "name": "stderr",
     "output_type": "stream",
     "text": [
      "\r",
      "┣███████▊            ┫ [39.19%, 87/222, 05:23/13:44, 2.85s/i] "
     ]
    },
    {
     "name": "stdout",
     "output_type": "stream",
     "text": [
      "R(11.204854)\n"
     ]
    },
    {
     "name": "stderr",
     "output_type": "stream",
     "text": [
      "\r",
      "┣███████▉            ┫ [39.64%, 88/222, 05:25/13:41, 2.62s/i] "
     ]
    },
    {
     "name": "stdout",
     "output_type": "stream",
     "text": [
      "R(27.359833)\n"
     ]
    },
    {
     "name": "stderr",
     "output_type": "stream",
     "text": [
      "\r",
      "┣████████            ┫ [40.09%, 89/222, 05:29/13:40, 3.48s/i] "
     ]
    },
    {
     "name": "stdout",
     "output_type": "stream",
     "text": [
      "R(21.64436)\n"
     ]
    },
    {
     "name": "stderr",
     "output_type": "stream",
     "text": [
      "\r",
      "┣████████            ┫ [40.54%, 90/222, 05:32/13:39, 3.06s/i] "
     ]
    },
    {
     "name": "stdout",
     "output_type": "stream",
     "text": [
      "R(18.848862)\n"
     ]
    },
    {
     "name": "stderr",
     "output_type": "stream",
     "text": [
      "\r",
      "┣████████▏           ┫ [40.99%, 91/222, 05:35/13:37, 3.05s/i] "
     ]
    },
    {
     "name": "stdout",
     "output_type": "stream",
     "text": [
      "R(9.78633)\n"
     ]
    },
    {
     "name": "stderr",
     "output_type": "stream",
     "text": [
      "\r",
      "┣████████▎           ┫ [41.44%, 92/222, 05:40/13:40, 4.77s/i] "
     ]
    },
    {
     "name": "stdout",
     "output_type": "stream",
     "text": [
      "R(18.821575)\n"
     ]
    },
    {
     "name": "stderr",
     "output_type": "stream",
     "text": [
      "\r",
      "┣████████▍           ┫ [41.89%, 93/222, 05:43/13:39, 3.17s/i] "
     ]
    },
    {
     "name": "stdout",
     "output_type": "stream",
     "text": [
      "R(10.504109)\n"
     ]
    },
    {
     "name": "stderr",
     "output_type": "stream",
     "text": [
      "\r",
      "┣████████▍           ┫ [42.34%, 94/222, 05:46/13:36, 2.71s/i] "
     ]
    },
    {
     "name": "stdout",
     "output_type": "stream",
     "text": [
      "R(27.641638)\n"
     ]
    },
    {
     "name": "stderr",
     "output_type": "stream",
     "text": [
      "\r",
      "┣████████▌           ┫ [42.79%, 95/222, 05:49/13:36, 3.43s/i] "
     ]
    },
    {
     "name": "stdout",
     "output_type": "stream",
     "text": [
      "R(17.080917)\n"
     ]
    },
    {
     "name": "stderr",
     "output_type": "stream",
     "text": [
      "\r",
      "┣████████▋           ┫ [43.24%, 96/222, 05:54/13:38, 4.42s/i] "
     ]
    },
    {
     "name": "stdout",
     "output_type": "stream",
     "text": [
      "R(26.165867)\n"
     ]
    },
    {
     "name": "stderr",
     "output_type": "stream",
     "text": [
      "\r",
      "┣████████▋           ┫ [43.69%, 97/222, 05:57/13:37, 3.24s/i] "
     ]
    },
    {
     "name": "stdout",
     "output_type": "stream",
     "text": [
      "R(13.546043)\n"
     ]
    },
    {
     "name": "stderr",
     "output_type": "stream",
     "text": [
      "\r",
      "┣████████▊           ┫ [44.14%, 98/222, 06:00/13:35, 3.05s/i] "
     ]
    },
    {
     "name": "stdout",
     "output_type": "stream",
     "text": [
      "R(11.481619)\n"
     ]
    },
    {
     "name": "stderr",
     "output_type": "stream",
     "text": [
      "\r",
      "┣████████▉           ┫ [44.59%, 99/222, 06:03/13:34, 2.97s/i] "
     ]
    },
    {
     "name": "stdout",
     "output_type": "stream",
     "text": [
      "R(43.623962)\n"
     ]
    },
    {
     "name": "stderr",
     "output_type": "stream",
     "text": [
      "\r",
      "┣█████████           ┫ [45.05%, 100/222, 06:06/13:33, 3.50s/i] "
     ]
    },
    {
     "name": "stdout",
     "output_type": "stream",
     "text": [
      "R(53.012756)\n"
     ]
    },
    {
     "name": "stderr",
     "output_type": "stream",
     "text": [
      "\r",
      "┣█████████           ┫ [45.50%, 101/222, 06:12/13:38, 5.64s/i] "
     ]
    },
    {
     "name": "stdout",
     "output_type": "stream",
     "text": [
      "R(17.696396)\n"
     ]
    },
    {
     "name": "stderr",
     "output_type": "stream",
     "text": [
      "\r",
      "┣█████████▏          ┫ [45.95%, 102/222, 06:15/13:36, 3.11s/i] "
     ]
    },
    {
     "name": "stdout",
     "output_type": "stream",
     "text": [
      "R(30.483688)\n"
     ]
    },
    {
     "name": "stderr",
     "output_type": "stream",
     "text": [
      "\r",
      "┣█████████▎          ┫ [46.40%, 103/222, 06:19/13:36, 3.65s/i] "
     ]
    },
    {
     "name": "stdout",
     "output_type": "stream",
     "text": [
      "R(23.765276)\n"
     ]
    },
    {
     "name": "stderr",
     "output_type": "stream",
     "text": [
      "\r",
      "┣█████████▎          ┫ [46.85%, 104/222, 06:22/13:35, 3.21s/i] "
     ]
    },
    {
     "name": "stdout",
     "output_type": "stream",
     "text": [
      "R(14.027992)\n"
     ]
    },
    {
     "name": "stderr",
     "output_type": "stream",
     "text": [
      "\r",
      "┣█████████▍          ┫ [47.30%, 105/222, 06:25/13:34, 3.16s/i] "
     ]
    },
    {
     "name": "stdout",
     "output_type": "stream",
     "text": [
      "R(103.61914)\n"
     ]
    },
    {
     "name": "stderr",
     "output_type": "stream",
     "text": [
      "\r",
      "┣█████████▌          ┫ [47.75%, 106/222, 06:31/13:40, 6.38s/i] "
     ]
    },
    {
     "name": "stdout",
     "output_type": "stream",
     "text": [
      "R(20.330544)\n"
     ]
    },
    {
     "name": "stderr",
     "output_type": "stream",
     "text": [
      "\r",
      "┣█████████▋          ┫ [48.20%, 107/222, 06:34/13:38, 3.04s/i] "
     ]
    },
    {
     "name": "stdout",
     "output_type": "stream",
     "text": [
      "R(11.047778)\n"
     ]
    },
    {
     "name": "stderr",
     "output_type": "stream",
     "text": [
      "\r",
      "┣█████████▋          ┫ [48.65%, 108/222, 06:37/13:37, 3.00s/i] "
     ]
    },
    {
     "name": "stdout",
     "output_type": "stream",
     "text": [
      "R(7.923201)\n"
     ]
    },
    {
     "name": "stderr",
     "output_type": "stream",
     "text": [
      "\r",
      "┣█████████▊          ┫ [49.10%, 109/222, 06:40/13:35, 2.52s/i] "
     ]
    },
    {
     "name": "stdout",
     "output_type": "stream",
     "text": [
      "R(10.861597)\n"
     ]
    },
    {
     "name": "stderr",
     "output_type": "stream",
     "text": [
      "\r",
      "┣█████████▉          ┫ [49.55%, 110/222, 06:43/13:33, 2.61s/i] "
     ]
    },
    {
     "name": "stdout",
     "output_type": "stream",
     "text": [
      "R(17.311998)\n"
     ]
    },
    {
     "name": "stderr",
     "output_type": "stream",
     "text": [
      "\r",
      "┣██████████          ┫ [50.00%, 111/222, 06:47/13:35, 4.68s/i] "
     ]
    },
    {
     "name": "stdout",
     "output_type": "stream",
     "text": [
      "R(17.855707)\n"
     ]
    },
    {
     "name": "stderr",
     "output_type": "stream",
     "text": [
      "\r",
      "┣██████████          ┫ [50.45%, 112/222, 06:50/13:34, 3.18s/i] "
     ]
    },
    {
     "name": "stdout",
     "output_type": "stream",
     "text": [
      "R(15.021091)\n"
     ]
    },
    {
     "name": "stderr",
     "output_type": "stream",
     "text": [
      "\r",
      "┣██████████▏         ┫ [50.90%, 113/222, 06:53/13:32, 2.96s/i] "
     ]
    },
    {
     "name": "stdout",
     "output_type": "stream",
     "text": [
      "R(16.572521)\n"
     ]
    },
    {
     "name": "stderr",
     "output_type": "stream",
     "text": [
      "\r",
      "┣██████████▎         ┫ [51.35%, 114/222, 06:57/13:32, 3.36s/i] "
     ]
    },
    {
     "name": "stdout",
     "output_type": "stream",
     "text": [
      "R(12.093533)\n"
     ]
    },
    {
     "name": "stderr",
     "output_type": "stream",
     "text": [
      "\r",
      "┣██████████▎         ┫ [51.80%, 115/222, 07:01/13:32, 4.11s/i] "
     ]
    },
    {
     "name": "stdout",
     "output_type": "stream",
     "text": [
      "R(34.614895)\n"
     ]
    },
    {
     "name": "stderr",
     "output_type": "stream",
     "text": [
      "\r",
      "┣██████████▍         ┫ [52.25%, 116/222, 07:04/13:32, 3.48s/i] "
     ]
    },
    {
     "name": "stdout",
     "output_type": "stream",
     "text": [
      "R(13.490951)\n"
     ]
    },
    {
     "name": "stderr",
     "output_type": "stream",
     "text": [
      "\r",
      "┣██████████▌         ┫ [52.70%, 117/222, 07:08/13:31, 3.17s/i] "
     ]
    },
    {
     "name": "stdout",
     "output_type": "stream",
     "text": [
      "R(19.401386)\n"
     ]
    },
    {
     "name": "stderr",
     "output_type": "stream",
     "text": [
      "\r",
      "┣██████████▋         ┫ [53.15%, 118/222, 07:11/13:30, 3.00s/i] "
     ]
    },
    {
     "name": "stdout",
     "output_type": "stream",
     "text": [
      "R(10.546989)\n"
     ]
    },
    {
     "name": "stderr",
     "output_type": "stream",
     "text": [
      "\r",
      "┣██████████▋         ┫ [53.60%, 119/222, 07:13/13:29, 2.94s/i] "
     ]
    },
    {
     "name": "stdout",
     "output_type": "stream",
     "text": [
      "R(79.23439)\n"
     ]
    },
    {
     "name": "stderr",
     "output_type": "stream",
     "text": [
      "\r",
      "┣██████████▊         ┫ [54.05%, 120/222, 07:20/13:35, 6.81s/i] "
     ]
    },
    {
     "name": "stdout",
     "output_type": "stream",
     "text": [
      "R(22.058067)\n"
     ]
    },
    {
     "name": "stderr",
     "output_type": "stream",
     "text": [
      "\r",
      "┣██████████▉         ┫ [54.50%, 121/222, 07:24/13:34, 3.32s/i] "
     ]
    },
    {
     "name": "stdout",
     "output_type": "stream",
     "text": [
      "R(31.66778)\n"
     ]
    },
    {
     "name": "stderr",
     "output_type": "stream",
     "text": [
      "\r",
      "┣██████████▉         ┫ [54.95%, 122/222, 07:27/13:34, 3.65s/i] "
     ]
    },
    {
     "name": "stdout",
     "output_type": "stream",
     "text": [
      "R(29.277218)\n"
     ]
    },
    {
     "name": "stderr",
     "output_type": "stream",
     "text": [
      "\r",
      "┣███████████         ┫ [55.41%, 123/222, 07:31/13:34, 3.49s/i] "
     ]
    },
    {
     "name": "stdout",
     "output_type": "stream",
     "text": [
      "R(15.059422)\n"
     ]
    },
    {
     "name": "stderr",
     "output_type": "stream",
     "text": [
      "\r",
      "┣███████████▏        ┫ [55.86%, 124/222, 07:35/13:35, 4.30s/i] "
     ]
    },
    {
     "name": "stdout",
     "output_type": "stream",
     "text": [
      "R(20.051605)\n"
     ]
    },
    {
     "name": "stderr",
     "output_type": "stream",
     "text": [
      "\r",
      "┣███████████▎        ┫ [56.31%, 125/222, 07:38/13:34, 3.22s/i] "
     ]
    },
    {
     "name": "stdout",
     "output_type": "stream",
     "text": [
      "R(15.525387)\n"
     ]
    },
    {
     "name": "stderr",
     "output_type": "stream",
     "text": [
      "\r",
      "┣███████████▎        ┫ [56.76%, 126/222, 07:41/13:33, 3.17s/i] "
     ]
    },
    {
     "name": "stdout",
     "output_type": "stream",
     "text": [
      "R(60.211155)\n"
     ]
    },
    {
     "name": "stderr",
     "output_type": "stream",
     "text": [
      "\r",
      "┣███████████▍        ┫ [57.21%, 127/222, 07:45/13:34, 4.03s/i] "
     ]
    },
    {
     "name": "stdout",
     "output_type": "stream",
     "text": [
      "R(35.813984)\n"
     ]
    },
    {
     "name": "stderr",
     "output_type": "stream",
     "text": [
      "\r",
      "┣███████████▌        ┫ [57.66%, 128/222, 07:49/13:34, 3.65s/i] "
     ]
    },
    {
     "name": "stdout",
     "output_type": "stream",
     "text": [
      "R(16.486921)\n"
     ]
    },
    {
     "name": "stderr",
     "output_type": "stream",
     "text": [
      "\r",
      "┣███████████▌        ┫ [58.11%, 129/222, 07:54/13:35, 4.63s/i] "
     ]
    },
    {
     "name": "stdout",
     "output_type": "stream",
     "text": [
      "R(39.213654)\n"
     ]
    },
    {
     "name": "stderr",
     "output_type": "stream",
     "text": [
      "\r",
      "┣███████████▋        ┫ [58.56%, 130/222, 07:57/13:35, 3.68s/i] "
     ]
    },
    {
     "name": "stdout",
     "output_type": "stream",
     "text": [
      "R(13.76352)\n"
     ]
    },
    {
     "name": "stderr",
     "output_type": "stream",
     "text": [
      "\r",
      "┣███████████▊        ┫ [59.01%, 131/222, 08:01/13:35, 3.20s/i] "
     ]
    },
    {
     "name": "stdout",
     "output_type": "stream",
     "text": [
      "R(50.279408)\n"
     ]
    },
    {
     "name": "stderr",
     "output_type": "stream",
     "text": [
      "\r",
      "┣███████████▉        ┫ [59.46%, 132/222, 08:05/13:35, 3.98s/i] "
     ]
    },
    {
     "name": "stdout",
     "output_type": "stream",
     "text": [
      "R(9.437432)\n"
     ]
    },
    {
     "name": "stderr",
     "output_type": "stream",
     "text": [
      "\r",
      "┣███████████▉        ┫ [59.91%, 133/222, 08:08/13:35, 3.84s/i] "
     ]
    },
    {
     "name": "stdout",
     "output_type": "stream",
     "text": [
      "R(15.002836)\n"
     ]
    },
    {
     "name": "stderr",
     "output_type": "stream",
     "text": [
      "\r",
      "┣████████████        ┫ [60.36%, 134/222, 08:11/13:34, 2.78s/i] "
     ]
    },
    {
     "name": "stdout",
     "output_type": "stream",
     "text": [
      "R(18.644215)\n"
     ]
    },
    {
     "name": "stderr",
     "output_type": "stream",
     "text": [
      "\r",
      "┣████████████▏       ┫ [60.81%, 135/222, 08:14/13:33, 2.97s/i] "
     ]
    },
    {
     "name": "stdout",
     "output_type": "stream",
     "text": [
      "R(7.673529)\n"
     ]
    },
    {
     "name": "stderr",
     "output_type": "stream",
     "text": [
      "\r",
      "┣████████████▎       ┫ [61.26%, 136/222, 08:17/13:31, 2.63s/i] "
     ]
    },
    {
     "name": "stdout",
     "output_type": "stream",
     "text": [
      "R(9.214512)\n"
     ]
    },
    {
     "name": "stderr",
     "output_type": "stream",
     "text": [
      "\r",
      "┣████████████▎       ┫ [61.71%, 137/222, 08:20/13:30, 2.81s/i] "
     ]
    },
    {
     "name": "stdout",
     "output_type": "stream",
     "text": [
      "R(11.102794)\n"
     ]
    },
    {
     "name": "stderr",
     "output_type": "stream",
     "text": [
      "\r",
      "┣████████████▍       ┫ [62.16%, 138/222, 08:24/13:31, 4.59s/i] "
     ]
    },
    {
     "name": "stdout",
     "output_type": "stream",
     "text": [
      "R(15.878015)\n"
     ]
    },
    {
     "name": "stderr",
     "output_type": "stream",
     "text": [
      "\r",
      "┣████████████▌       ┫ [62.61%, 139/222, 08:27/13:30, 3.23s/i] "
     ]
    },
    {
     "name": "stdout",
     "output_type": "stream",
     "text": [
      "R(19.92011)\n"
     ]
    },
    {
     "name": "stderr",
     "output_type": "stream",
     "text": [
      "\r",
      "┣████████████▌       ┫ [63.06%, 140/222, 08:30/13:29, 2.96s/i] "
     ]
    },
    {
     "name": "stdout",
     "output_type": "stream",
     "text": [
      "R(10.0166235)\n"
     ]
    },
    {
     "name": "stderr",
     "output_type": "stream",
     "text": [
      "\r",
      "┣████████████▋       ┫ [63.51%, 141/222, 08:33/13:28, 3.05s/i] "
     ]
    },
    {
     "name": "stdout",
     "output_type": "stream",
     "text": [
      "R(10.666051)\n"
     ]
    },
    {
     "name": "stderr",
     "output_type": "stream",
     "text": [
      "\r",
      "┣████████████▊       ┫ [63.96%, 142/222, 08:38/13:29, 4.03s/i] "
     ]
    },
    {
     "name": "stdout",
     "output_type": "stream",
     "text": [
      "R(20.126083)\n"
     ]
    },
    {
     "name": "stderr",
     "output_type": "stream",
     "text": [
      "\r",
      "┣████████████▉       ┫ [64.41%, 143/222, 08:41/13:28, 3.21s/i] "
     ]
    },
    {
     "name": "stdout",
     "output_type": "stream",
     "text": [
      "R(29.005463)\n"
     ]
    },
    {
     "name": "stderr",
     "output_type": "stream",
     "text": [
      "\r",
      "┣████████████▉       ┫ [64.86%, 144/222, 08:44/13:28, 3.34s/i] "
     ]
    },
    {
     "name": "stdout",
     "output_type": "stream",
     "text": [
      "R(26.296238)\n"
     ]
    },
    {
     "name": "stderr",
     "output_type": "stream",
     "text": [
      "\r",
      "┣█████████████       ┫ [65.32%, 145/222, 08:47/13:28, 3.40s/i] "
     ]
    },
    {
     "name": "stdout",
     "output_type": "stream",
     "text": [
      "R(18.061752)\n"
     ]
    },
    {
     "name": "stderr",
     "output_type": "stream",
     "text": [
      "\r",
      "┣█████████████▏      ┫ [65.77%, 146/222, 08:51/13:27, 3.11s/i] "
     ]
    },
    {
     "name": "stdout",
     "output_type": "stream",
     "text": [
      "R(22.785627)\n"
     ]
    },
    {
     "name": "stderr",
     "output_type": "stream",
     "text": [
      "\r",
      "┣█████████████▏      ┫ [66.22%, 147/222, 08:55/13:29, 4.89s/i] "
     ]
    },
    {
     "name": "stdout",
     "output_type": "stream",
     "text": [
      "R(16.56056)\n"
     ]
    },
    {
     "name": "stderr",
     "output_type": "stream",
     "text": [
      "\r",
      "┣█████████████▎      ┫ [66.67%, 148/222, 08:59/13:28, 3.21s/i] "
     ]
    },
    {
     "name": "stdout",
     "output_type": "stream",
     "text": [
      "R(42.299873)\n"
     ]
    },
    {
     "name": "stderr",
     "output_type": "stream",
     "text": [
      "\r",
      "┣█████████████▍      ┫ [67.12%, 149/222, 09:02/13:28, 3.45s/i] "
     ]
    },
    {
     "name": "stdout",
     "output_type": "stream",
     "text": [
      "R(10.20489)\n"
     ]
    },
    {
     "name": "stderr",
     "output_type": "stream",
     "text": [
      "\r",
      "┣█████████████▌      ┫ [67.57%, 150/222, 09:05/13:27, 2.90s/i] "
     ]
    },
    {
     "name": "stdout",
     "output_type": "stream",
     "text": [
      "R(15.5580015)\n"
     ]
    },
    {
     "name": "stderr",
     "output_type": "stream",
     "text": [
      "\r",
      "┣█████████████▌      ┫ [68.02%, 151/222, 09:09/13:28, 4.28s/i] "
     ]
    },
    {
     "name": "stdout",
     "output_type": "stream",
     "text": [
      "R(69.58504)\n"
     ]
    },
    {
     "name": "stderr",
     "output_type": "stream",
     "text": [
      "\r",
      "┣█████████████▋      ┫ [68.47%, 152/222, 09:15/13:30, 5.38s/i] "
     ]
    },
    {
     "name": "stdout",
     "output_type": "stream",
     "text": [
      "R(19.149405)\n"
     ]
    },
    {
     "name": "stderr",
     "output_type": "stream",
     "text": [
      "\r",
      "┣█████████████▊      ┫ [68.92%, 153/222, 09:18/13:29, 3.08s/i] "
     ]
    },
    {
     "name": "stdout",
     "output_type": "stream",
     "text": [
      "R(15.533013)\n"
     ]
    },
    {
     "name": "stderr",
     "output_type": "stream",
     "text": [
      "\r",
      "┣█████████████▊      ┫ [69.37%, 154/222, 09:21/13:28, 3.02s/i] "
     ]
    },
    {
     "name": "stdout",
     "output_type": "stream",
     "text": [
      "R(12.323165)\n"
     ]
    },
    {
     "name": "stderr",
     "output_type": "stream",
     "text": [
      "\r",
      "┣█████████████▉      ┫ [69.82%, 155/222, 09:24/13:28, 3.15s/i] "
     ]
    },
    {
     "name": "stdout",
     "output_type": "stream",
     "text": [
      "R(42.12204)\n"
     ]
    },
    {
     "name": "stderr",
     "output_type": "stream",
     "text": [
      "\r",
      "┣██████████████      ┫ [70.27%, 156/222, 09:29/13:29, 4.88s/i] "
     ]
    },
    {
     "name": "stdout",
     "output_type": "stream",
     "text": [
      "R(29.246393)\n"
     ]
    },
    {
     "name": "stderr",
     "output_type": "stream",
     "text": [
      "\r",
      "┣██████████████▏     ┫ [70.72%, 157/222, 09:32/13:29, 3.15s/i] "
     ]
    },
    {
     "name": "stdout",
     "output_type": "stream",
     "text": [
      "R(25.777462)\n"
     ]
    },
    {
     "name": "stderr",
     "output_type": "stream",
     "text": [
      "\r",
      "┣██████████████▏     ┫ [71.17%, 158/222, 09:35/13:28, 3.40s/i] "
     ]
    },
    {
     "name": "stdout",
     "output_type": "stream",
     "text": [
      "R(6.72825)\n"
     ]
    },
    {
     "name": "stderr",
     "output_type": "stream",
     "text": [
      "\r",
      "┣██████████████▎     ┫ [71.62%, 159/222, 09:38/13:27, 2.77s/i] "
     ]
    },
    {
     "name": "stdout",
     "output_type": "stream",
     "text": [
      "R(25.45789)\n"
     ]
    },
    {
     "name": "stderr",
     "output_type": "stream",
     "text": [
      "\r",
      "┣██████████████▍     ┫ [72.07%, 160/222, 09:43/13:28, 4.43s/i] "
     ]
    },
    {
     "name": "stdout",
     "output_type": "stream",
     "text": [
      "R(9.890726)\n"
     ]
    },
    {
     "name": "stderr",
     "output_type": "stream",
     "text": [
      "\r",
      "┣██████████████▌     ┫ [72.52%, 161/222, 09:46/13:27, 2.94s/i] "
     ]
    },
    {
     "name": "stdout",
     "output_type": "stream",
     "text": [
      "R(25.886944)\n"
     ]
    },
    {
     "name": "stderr",
     "output_type": "stream",
     "text": [
      "\r",
      "┣██████████████▌     ┫ [72.97%, 162/222, 09:49/13:27, 3.22s/i] "
     ]
    },
    {
     "name": "stdout",
     "output_type": "stream",
     "text": [
      "R(24.452251)\n"
     ]
    },
    {
     "name": "stderr",
     "output_type": "stream",
     "text": [
      "\r",
      "┣██████████████▋     ┫ [73.42%, 163/222, 09:52/13:26, 3.36s/i] "
     ]
    },
    {
     "name": "stdout",
     "output_type": "stream",
     "text": [
      "R(34.37531)\n"
     ]
    },
    {
     "name": "stderr",
     "output_type": "stream",
     "text": [
      "\r",
      "┣██████████████▊     ┫ [73.87%, 164/222, 09:55/13:26, 3.38s/i] "
     ]
    },
    {
     "name": "stdout",
     "output_type": "stream",
     "text": [
      "R(15.807136)\n"
     ]
    },
    {
     "name": "stderr",
     "output_type": "stream",
     "text": [
      "\r",
      "┣██████████████▊     ┫ [74.32%, 165/222, 10:00/13:27, 4.48s/i] "
     ]
    },
    {
     "name": "stdout",
     "output_type": "stream",
     "text": [
      "R(39.650055)\n"
     ]
    },
    {
     "name": "stderr",
     "output_type": "stream",
     "text": [
      "\r",
      "┣██████████████▉     ┫ [74.77%, 166/222, 10:04/13:28, 3.88s/i] "
     ]
    },
    {
     "name": "stdout",
     "output_type": "stream",
     "text": [
      "R(32.836784)\n"
     ]
    },
    {
     "name": "stderr",
     "output_type": "stream",
     "text": [
      "\r",
      "┣███████████████     ┫ [75.23%, 167/222, 10:07/13:27, 3.22s/i] "
     ]
    },
    {
     "name": "stdout",
     "output_type": "stream",
     "text": [
      "R(34.94452)\n"
     ]
    },
    {
     "name": "stderr",
     "output_type": "stream",
     "text": [
      "\r",
      "┣███████████████▏    ┫ [75.68%, 168/222, 10:11/13:27, 3.64s/i] "
     ]
    },
    {
     "name": "stdout",
     "output_type": "stream",
     "text": [
      "R(36.75019)\n"
     ]
    },
    {
     "name": "stderr",
     "output_type": "stream",
     "text": [
      "\r",
      "┣███████████████▏    ┫ [76.13%, 169/222, 10:14/13:27, 3.60s/i] "
     ]
    },
    {
     "name": "stdout",
     "output_type": "stream",
     "text": [
      "R(15.830965)\n"
     ]
    },
    {
     "name": "stderr",
     "output_type": "stream",
     "text": [
      "\r",
      "┣███████████████▎    ┫ [76.58%, 170/222, 10:19/13:28, 4.58s/i] "
     ]
    },
    {
     "name": "stdout",
     "output_type": "stream",
     "text": [
      "R(15.416247)\n"
     ]
    },
    {
     "name": "stderr",
     "output_type": "stream",
     "text": [
      "\r",
      "┣███████████████▍    ┫ [77.03%, 171/222, 10:22/13:27, 2.99s/i] "
     ]
    },
    {
     "name": "stdout",
     "output_type": "stream",
     "text": [
      "R(21.90721)\n"
     ]
    },
    {
     "name": "stderr",
     "output_type": "stream",
     "text": [
      "\r",
      "┣███████████████▍    ┫ [77.48%, 172/222, 10:25/13:27, 3.26s/i] "
     ]
    },
    {
     "name": "stdout",
     "output_type": "stream",
     "text": [
      "R(8.509043)\n"
     ]
    },
    {
     "name": "stderr",
     "output_type": "stream",
     "text": [
      "\r",
      "┣███████████████▌    ┫ [77.93%, 173/222, 10:28/13:26, 2.61s/i] "
     ]
    },
    {
     "name": "stdout",
     "output_type": "stream",
     "text": [
      "R(21.344494)\n"
     ]
    },
    {
     "name": "stderr",
     "output_type": "stream",
     "text": [
      "\r",
      "┣███████████████▋    ┫ [78.38%, 174/222, 10:31/13:25, 3.11s/i] "
     ]
    },
    {
     "name": "stdout",
     "output_type": "stream",
     "text": [
      "R(24.936665)\n"
     ]
    },
    {
     "name": "stderr",
     "output_type": "stream",
     "text": [
      "\r",
      "┣███████████████▊    ┫ [78.83%, 175/222, 10:36/13:27, 4.95s/i] "
     ]
    },
    {
     "name": "stdout",
     "output_type": "stream",
     "text": [
      "R(16.073715)\n"
     ]
    },
    {
     "name": "stderr",
     "output_type": "stream",
     "text": [
      "\r",
      "┣███████████████▊    ┫ [79.28%, 176/222, 10:39/13:26, 3.21s/i] "
     ]
    },
    {
     "name": "stdout",
     "output_type": "stream",
     "text": [
      "R(16.412117)\n"
     ]
    },
    {
     "name": "stderr",
     "output_type": "stream",
     "text": [
      "\r",
      "┣███████████████▉    ┫ [79.73%, 177/222, 10:42/13:25, 3.02s/i] "
     ]
    },
    {
     "name": "stdout",
     "output_type": "stream",
     "text": [
      "R(31.079536)\n"
     ]
    },
    {
     "name": "stderr",
     "output_type": "stream",
     "text": [
      "\r",
      "┣████████████████    ┫ [80.18%, 178/222, 10:45/13:25, 3.36s/i] "
     ]
    },
    {
     "name": "stdout",
     "output_type": "stream",
     "text": [
      "R(22.566349)\n"
     ]
    },
    {
     "name": "stderr",
     "output_type": "stream",
     "text": [
      "\r",
      "┣████████████████▏   ┫ [80.63%, 179/222, 10:50/13:26, 4.52s/i] "
     ]
    },
    {
     "name": "stdout",
     "output_type": "stream",
     "text": [
      "R(30.172249)\n"
     ]
    },
    {
     "name": "stderr",
     "output_type": "stream",
     "text": [
      "\r",
      "┣████████████████▏   ┫ [81.08%, 180/222, 10:54/13:26, 3.66s/i] "
     ]
    },
    {
     "name": "stdout",
     "output_type": "stream",
     "text": [
      "R(16.753122)\n"
     ]
    },
    {
     "name": "stderr",
     "output_type": "stream",
     "text": [
      "\r",
      "┣████████████████▎   ┫ [81.53%, 181/222, 10:57/13:26, 3.24s/i] "
     ]
    },
    {
     "name": "stdout",
     "output_type": "stream",
     "text": [
      "R(8.977852)\n"
     ]
    },
    {
     "name": "stderr",
     "output_type": "stream",
     "text": [
      "\r",
      "┣████████████████▍   ┫ [81.98%, 182/222, 11:00/13:25, 2.88s/i] "
     ]
    },
    {
     "name": "stdout",
     "output_type": "stream",
     "text": [
      "R(37.591938)\n"
     ]
    },
    {
     "name": "stderr",
     "output_type": "stream",
     "text": [
      "\r",
      "┣████████████████▍   ┫ [82.43%, 183/222, 11:03/13:24, 3.47s/i] "
     ]
    },
    {
     "name": "stdout",
     "output_type": "stream",
     "text": [
      "R(9.302306)\n"
     ]
    },
    {
     "name": "stderr",
     "output_type": "stream",
     "text": [
      "\r",
      "┣████████████████▌   ┫ [82.88%, 184/222, 11:08/13:26, 4.51s/i] "
     ]
    },
    {
     "name": "stdout",
     "output_type": "stream",
     "text": [
      "R(68.33403)\n"
     ]
    },
    {
     "name": "stderr",
     "output_type": "stream",
     "text": [
      "\r",
      "┣████████████████▋   ┫ [83.33%, 185/222, 11:12/13:26, 4.40s/i] "
     ]
    },
    {
     "name": "stdout",
     "output_type": "stream",
     "text": [
      "R(12.037315)\n"
     ]
    },
    {
     "name": "stderr",
     "output_type": "stream",
     "text": [
      "\r",
      "┣████████████████▊   ┫ [83.78%, 186/222, 11:15/13:26, 2.91s/i] "
     ]
    },
    {
     "name": "stdout",
     "output_type": "stream",
     "text": [
      "R(15.797857)\n"
     ]
    },
    {
     "name": "stderr",
     "output_type": "stream",
     "text": [
      "\r",
      "┣████████████████▊   ┫ [84.23%, 187/222, 11:18/13:25, 3.03s/i] "
     ]
    },
    {
     "name": "stdout",
     "output_type": "stream",
     "text": [
      "R(27.059793)\n"
     ]
    },
    {
     "name": "stderr",
     "output_type": "stream",
     "text": [
      "\r",
      "┣████████████████▉   ┫ [84.68%, 188/222, 11:23/13:26, 4.82s/i] "
     ]
    },
    {
     "name": "stdout",
     "output_type": "stream",
     "text": [
      "R(18.498516)\n"
     ]
    },
    {
     "name": "stderr",
     "output_type": "stream",
     "text": [
      "\r",
      "┣█████████████████   ┫ [85.14%, 189/222, 11:26/13:26, 3.29s/i] "
     ]
    },
    {
     "name": "stdout",
     "output_type": "stream",
     "text": [
      "R(12.63666)\n"
     ]
    },
    {
     "name": "stderr",
     "output_type": "stream",
     "text": [
      "\r",
      "┣█████████████████   ┫ [85.59%, 190/222, 11:29/13:25, 2.94s/i] "
     ]
    },
    {
     "name": "stdout",
     "output_type": "stream",
     "text": [
      "R(9.235675)\n"
     ]
    },
    {
     "name": "stderr",
     "output_type": "stream",
     "text": [
      "\r",
      "┣█████████████████▏  ┫ [86.04%, 191/222, 11:32/13:24, 2.99s/i] "
     ]
    },
    {
     "name": "stdout",
     "output_type": "stream",
     "text": [
      "R(9.081401)\n"
     ]
    },
    {
     "name": "stderr",
     "output_type": "stream",
     "text": [
      "\r",
      "┣█████████████████▎  ┫ [86.49%, 192/222, 11:35/13:23, 2.86s/i] "
     ]
    },
    {
     "name": "stdout",
     "output_type": "stream",
     "text": [
      "R(17.03684)\n"
     ]
    },
    {
     "name": "stderr",
     "output_type": "stream",
     "text": [
      "\r",
      "┣█████████████████▍  ┫ [86.94%, 193/222, 11:40/13:25, 4.75s/i] "
     ]
    },
    {
     "name": "stdout",
     "output_type": "stream",
     "text": [
      "R(30.711222)\n"
     ]
    },
    {
     "name": "stderr",
     "output_type": "stream",
     "text": [
      "\r",
      "┣█████████████████▍  ┫ [87.39%, 194/222, 11:43/13:25, 3.73s/i] "
     ]
    },
    {
     "name": "stdout",
     "output_type": "stream",
     "text": [
      "R(8.799626)\n"
     ]
    },
    {
     "name": "stderr",
     "output_type": "stream",
     "text": [
      "\r",
      "┣█████████████████▌  ┫ [87.84%, 195/222, 11:46/13:24, 3.05s/i] "
     ]
    },
    {
     "name": "stdout",
     "output_type": "stream",
     "text": [
      "R(54.799942)\n"
     ]
    },
    {
     "name": "stderr",
     "output_type": "stream",
     "text": [
      "\r",
      "┣█████████████████▋  ┫ [88.29%, 196/222, 11:50/13:24, 3.77s/i] "
     ]
    },
    {
     "name": "stdout",
     "output_type": "stream",
     "text": [
      "R(12.277053)\n"
     ]
    },
    {
     "name": "stderr",
     "output_type": "stream",
     "text": [
      "\r",
      "┣█████████████████▋  ┫ [88.74%, 197/222, 11:54/13:25, 4.13s/i] "
     ]
    },
    {
     "name": "stdout",
     "output_type": "stream",
     "text": [
      "R(22.055328)\n"
     ]
    },
    {
     "name": "stderr",
     "output_type": "stream",
     "text": [
      "\r",
      "┣█████████████████▊  ┫ [89.19%, 198/222, 11:58/13:25, 3.32s/i] "
     ]
    },
    {
     "name": "stdout",
     "output_type": "stream",
     "text": [
      "R(14.294971)\n"
     ]
    },
    {
     "name": "stderr",
     "output_type": "stream",
     "text": [
      "\r",
      "┣█████████████████▉  ┫ [89.64%, 199/222, 12:01/13:24, 3.19s/i] "
     ]
    },
    {
     "name": "stdout",
     "output_type": "stream",
     "text": [
      "R(11.539155)\n"
     ]
    },
    {
     "name": "stderr",
     "output_type": "stream",
     "text": [
      "\r",
      "┣██████████████████  ┫ [90.09%, 200/222, 12:04/13:23, 2.92s/i] "
     ]
    },
    {
     "name": "stdout",
     "output_type": "stream",
     "text": [
      "R(15.57865)\n"
     ]
    },
    {
     "name": "stderr",
     "output_type": "stream",
     "text": [
      "\r",
      "┣██████████████████  ┫ [90.54%, 201/222, 12:07/13:23, 3.16s/i] "
     ]
    },
    {
     "name": "stdout",
     "output_type": "stream",
     "text": [
      "R(12.734649)\n"
     ]
    },
    {
     "name": "stderr",
     "output_type": "stream",
     "text": [
      "\r",
      "┣██████████████████▏ ┫ [90.99%, 202/222, 12:11/13:24, 4.25s/i] "
     ]
    },
    {
     "name": "stdout",
     "output_type": "stream",
     "text": [
      "R(19.926495)\n"
     ]
    },
    {
     "name": "stderr",
     "output_type": "stream",
     "text": [
      "\r",
      "┣██████████████████▎ ┫ [91.44%, 203/222, 12:15/13:24, 3.57s/i] "
     ]
    },
    {
     "name": "stdout",
     "output_type": "stream",
     "text": [
      "R(15.033509)\n"
     ]
    },
    {
     "name": "stderr",
     "output_type": "stream",
     "text": [
      "\r",
      "┣██████████████████▍ ┫ [91.89%, 204/222, 12:18/13:23, 3.00s/i] "
     ]
    },
    {
     "name": "stdout",
     "output_type": "stream",
     "text": [
      "R(20.197449)\n"
     ]
    },
    {
     "name": "stderr",
     "output_type": "stream",
     "text": [
      "\r",
      "┣██████████████████▍ ┫ [92.34%, 205/222, 12:21/13:23, 3.48s/i] "
     ]
    },
    {
     "name": "stdout",
     "output_type": "stream",
     "text": [
      "R(15.497932)\n"
     ]
    },
    {
     "name": "stderr",
     "output_type": "stream",
     "text": [
      "\r",
      "┣██████████████████▌ ┫ [92.79%, 206/222, 12:25/13:23, 4.22s/i] "
     ]
    },
    {
     "name": "stdout",
     "output_type": "stream",
     "text": [
      "R(27.451664)\n"
     ]
    },
    {
     "name": "stderr",
     "output_type": "stream",
     "text": [
      "\r",
      "┣██████████████████▋ ┫ [93.24%, 207/222, 12:29/13:23, 3.47s/i] "
     ]
    },
    {
     "name": "stdout",
     "output_type": "stream",
     "text": [
      "R(14.90432)\n"
     ]
    },
    {
     "name": "stderr",
     "output_type": "stream",
     "text": [
      "\r",
      "┣██████████████████▋ ┫ [93.69%, 208/222, 12:32/13:23, 3.08s/i] "
     ]
    },
    {
     "name": "stdout",
     "output_type": "stream",
     "text": [
      "R(6.963458)\n"
     ]
    },
    {
     "name": "stderr",
     "output_type": "stream",
     "text": [
      "\r",
      "┣██████████████████▊ ┫ [94.14%, 209/222, 12:35/13:22, 2.87s/i] "
     ]
    },
    {
     "name": "stdout",
     "output_type": "stream",
     "text": [
      "R(9.08409)\n"
     ]
    },
    {
     "name": "stderr",
     "output_type": "stream",
     "text": [
      "\r",
      "┣██████████████████▉ ┫ [94.59%, 210/222, 12:38/13:21, 2.98s/i] "
     ]
    },
    {
     "name": "stdout",
     "output_type": "stream",
     "text": [
      "R(11.155351)\n"
     ]
    },
    {
     "name": "stderr",
     "output_type": "stream",
     "text": [
      "\r",
      "┣███████████████████ ┫ [95.05%, 211/222, 12:43/13:22, 4.76s/i] "
     ]
    },
    {
     "name": "stdout",
     "output_type": "stream",
     "text": [
      "R(6.47712)\n"
     ]
    },
    {
     "name": "stderr",
     "output_type": "stream",
     "text": [
      "\r",
      "┣███████████████████ ┫ [95.50%, 212/222, 12:45/13:22, 2.82s/i] "
     ]
    },
    {
     "name": "stdout",
     "output_type": "stream",
     "text": [
      "R(42.25964)\n"
     ]
    },
    {
     "name": "stderr",
     "output_type": "stream",
     "text": [
      "\r",
      "┣███████████████████▏┫ [95.95%, 213/222, 12:49/13:21, 3.36s/i] "
     ]
    },
    {
     "name": "stdout",
     "output_type": "stream",
     "text": [
      "R(38.57435)\n"
     ]
    },
    {
     "name": "stderr",
     "output_type": "stream",
     "text": [
      "\r",
      "┣███████████████████▎┫ [96.40%, 214/222, 12:53/13:22, 3.87s/i] "
     ]
    },
    {
     "name": "stdout",
     "output_type": "stream",
     "text": [
      "R(17.025951)\n"
     ]
    },
    {
     "name": "stderr",
     "output_type": "stream",
     "text": [
      "\r",
      "┣███████████████████▎┫ [96.85%, 215/222, 12:56/13:22, 3.84s/i] "
     ]
    },
    {
     "name": "stdout",
     "output_type": "stream",
     "text": [
      "R(12.60752)\n"
     ]
    },
    {
     "name": "stderr",
     "output_type": "stream",
     "text": [
      "\r",
      "┣███████████████████▍┫ [97.30%, 216/222, 12:59/13:21, 2.83s/i] "
     ]
    },
    {
     "name": "stdout",
     "output_type": "stream",
     "text": [
      "R(6.3125806)\n"
     ]
    },
    {
     "name": "stderr",
     "output_type": "stream",
     "text": [
      "\r",
      "┣███████████████████▌┫ [97.75%, 217/222, 13:02/13:20, 2.80s/i] "
     ]
    },
    {
     "name": "stdout",
     "output_type": "stream",
     "text": [
      "R(27.553436)\n"
     ]
    },
    {
     "name": "stderr",
     "output_type": "stream",
     "text": [
      "\r",
      "┣███████████████████▋┫ [98.20%, 218/222, 13:05/13:20, 3.33s/i] "
     ]
    },
    {
     "name": "stdout",
     "output_type": "stream",
     "text": [
      "R(30.85898)\n"
     ]
    },
    {
     "name": "stderr",
     "output_type": "stream",
     "text": [
      "\r",
      "┣███████████████████▋┫ [98.65%, 219/222, 13:09/13:20, 3.54s/i] "
     ]
    },
    {
     "name": "stdout",
     "output_type": "stream",
     "text": [
      "R(10.452645)\n"
     ]
    },
    {
     "name": "stderr",
     "output_type": "stream",
     "text": [
      "\r",
      "┣███████████████████▊┫ [99.10%, 220/222, 13:14/13:21, 4.72s/i] "
     ]
    },
    {
     "name": "stdout",
     "output_type": "stream",
     "text": [
      "R(8.087737)\n"
     ]
    },
    {
     "name": "stderr",
     "output_type": "stream",
     "text": [
      "\r",
      "┣███████████████████▉┫ [99.55%, 221/222, 13:17/13:20, 3.04s/i] "
     ]
    },
    {
     "name": "stdout",
     "output_type": "stream",
     "text": [
      "R(34.48696)\n"
     ]
    },
    {
     "name": "stderr",
     "output_type": "stream",
     "text": [
      "┣████████████████████┫ [100.00%, 222/222, 13:20/13:20, 3.60s/i] \n"
     ]
    },
    {
     "name": "stdout",
     "output_type": "stream",
     "text": [
      "R(11.786056)\n"
     ]
    },
    {
     "name": "stderr",
     "output_type": "stream",
     "text": [
      "\r",
      "┣                    ┫ [0.45%, 1/222, 00:03/11:43, 3.17s/i] "
     ]
    },
    {
     "name": "stdout",
     "output_type": "stream",
     "text": [
      "R(15.377747)\n"
     ]
    },
    {
     "name": "stderr",
     "output_type": "stream",
     "text": [
      "\r",
      "┣▏                   ┫ [0.90%, 2/222, 00:08/14:25, 4.63s/i] "
     ]
    },
    {
     "name": "stdout",
     "output_type": "stream",
     "text": [
      "R(22.412746)\n"
     ]
    },
    {
     "name": "stderr",
     "output_type": "stream",
     "text": [
      "\r",
      "┣▎                   ┫ [1.35%, 3/222, 00:11/13:49, 3.41s/i] "
     ]
    },
    {
     "name": "stdout",
     "output_type": "stream",
     "text": [
      "R(8.424285)\n"
     ]
    },
    {
     "name": "stderr",
     "output_type": "stream",
     "text": [
      "\r",
      "┣▎                   ┫ [1.80%, 4/222, 00:14/13:07, 2.98s/i] "
     ]
    },
    {
     "name": "stdout",
     "output_type": "stream",
     "text": [
      "R(105.97598)\n"
     ]
    },
    {
     "name": "stderr",
     "output_type": "stream",
     "text": [
      "\r",
      "┣▍                   ┫ [2.25%, 5/222, 00:20/14:43, 5.70s/i] "
     ]
    },
    {
     "name": "stdout",
     "output_type": "stream",
     "text": [
      "R(18.164192)\n"
     ]
    },
    {
     "name": "stderr",
     "output_type": "stream",
     "text": [
      "\r",
      "┣▌                   ┫ [2.70%, 6/222, 00:23/14:10, 3.09s/i] "
     ]
    },
    {
     "name": "stdout",
     "output_type": "stream",
     "text": [
      "R(9.586611)\n"
     ]
    },
    {
     "name": "stderr",
     "output_type": "stream",
     "text": [
      "\r",
      "┣▋                   ┫ [3.15%, 7/222, 00:28/14:34, 4.60s/i] "
     ]
    },
    {
     "name": "stdout",
     "output_type": "stream",
     "text": [
      "R(8.258952)\n"
     ]
    },
    {
     "name": "stderr",
     "output_type": "stream",
     "text": [
      "\r",
      "┣▋                   ┫ [3.60%, 8/222, 00:30/14:00, 2.69s/i] "
     ]
    },
    {
     "name": "stdout",
     "output_type": "stream",
     "text": [
      "R(7.4443073)\n"
     ]
    },
    {
     "name": "stderr",
     "output_type": "stream",
     "text": [
      "\r",
      "┣▊                   ┫ [4.05%, 9/222, 00:33/13:35, 2.77s/i] "
     ]
    },
    {
     "name": "stdout",
     "output_type": "stream",
     "text": [
      "R(18.68142)\n"
     ]
    },
    {
     "name": "stderr",
     "output_type": "stream",
     "text": [
      "\r",
      "┣▉                   ┫ [4.50%, 10/222, 00:37/13:33, 3.59s/i] "
     ]
    },
    {
     "name": "stdout",
     "output_type": "stream",
     "text": [
      "R(35.31633)\n"
     ]
    },
    {
     "name": "stderr",
     "output_type": "stream",
     "text": [
      "\r",
      "┣▉                   ┫ [4.95%, 11/222, 00:41/13:55, 4.77s/i] "
     ]
    },
    {
     "name": "stdout",
     "output_type": "stream",
     "text": [
      "R(11.597919)\n"
     ]
    },
    {
     "name": "stderr",
     "output_type": "stream",
     "text": [
      "\r",
      "┣█                   ┫ [5.41%, 12/222, 00:45/13:44, 3.14s/i] "
     ]
    },
    {
     "name": "stdout",
     "output_type": "stream",
     "text": [
      "R(15.711178)\n"
     ]
    },
    {
     "name": "stderr",
     "output_type": "stream",
     "text": [
      "\r",
      "┣█▏                  ┫ [5.86%, 13/222, 00:48/13:35, 3.18s/i] "
     ]
    },
    {
     "name": "stdout",
     "output_type": "stream",
     "text": [
      "R(11.43928)\n"
     ]
    },
    {
     "name": "stderr",
     "output_type": "stream",
     "text": [
      "\r",
      "┣█▎                  ┫ [6.31%, 14/222, 00:51/13:23, 2.90s/i] "
     ]
    },
    {
     "name": "stdout",
     "output_type": "stream",
     "text": [
      "R(10.052494)\n"
     ]
    },
    {
     "name": "stderr",
     "output_type": "stream",
     "text": [
      "\r",
      "┣█▎                  ┫ [6.76%, 15/222, 00:54/13:12, 2.90s/i] "
     ]
    },
    {
     "name": "stdout",
     "output_type": "stream",
     "text": [
      "R(28.978115)\n"
     ]
    },
    {
     "name": "stderr",
     "output_type": "stream",
     "text": [
      "\r",
      "┣█▍                  ┫ [7.21%, 16/222, 00:59/13:39, 5.51s/i] "
     ]
    },
    {
     "name": "stdout",
     "output_type": "stream",
     "text": [
      "R(11.378532)\n"
     ]
    },
    {
     "name": "stderr",
     "output_type": "stream",
     "text": [
      "\r",
      "┣█▌                  ┫ [7.66%, 17/222, 01:02/13:30, 3.00s/i] "
     ]
    },
    {
     "name": "stdout",
     "output_type": "stream",
     "text": [
      "R(34.481228)\n"
     ]
    },
    {
     "name": "stderr",
     "output_type": "stream",
     "text": [
      "\r",
      "┣█▌                  ┫ [8.11%, 18/222, 01:06/13:29, 3.54s/i] "
     ]
    },
    {
     "name": "stdout",
     "output_type": "stream",
     "text": [
      "R(43.287582)\n"
     ]
    },
    {
     "name": "stderr",
     "output_type": "stream",
     "text": [
      "\r",
      "┣█▋                  ┫ [8.56%, 19/222, 01:09/13:32, 3.91s/i] "
     ]
    },
    {
     "name": "stdout",
     "output_type": "stream",
     "text": [
      "R(31.1408)\n"
     ]
    },
    {
     "name": "stderr",
     "output_type": "stream",
     "text": [
      "\r",
      "┣█▊                  ┫ [9.01%, 20/222, 01:14/13:41, 4.50s/i] "
     ]
    },
    {
     "name": "stdout",
     "output_type": "stream",
     "text": [
      "R(6.3975444)\n"
     ]
    },
    {
     "name": "stderr",
     "output_type": "stream",
     "text": [
      "\r",
      "┣█▉                  ┫ [9.46%, 21/222, 01:17/13:33, 2.89s/i] "
     ]
    },
    {
     "name": "stdout",
     "output_type": "stream",
     "text": [
      "R(22.763674)\n"
     ]
    },
    {
     "name": "stderr",
     "output_type": "stream",
     "text": [
      "\r",
      "┣█▉                  ┫ [9.91%, 22/222, 01:20/13:29, 3.34s/i] "
     ]
    },
    {
     "name": "stdout",
     "output_type": "stream",
     "text": [
      "R(34.359756)\n"
     ]
    },
    {
     "name": "stderr",
     "output_type": "stream",
     "text": [
      "\r",
      "┣██                  ┫ [10.36%, 23/222, 01:23/13:25, 3.22s/i] "
     ]
    },
    {
     "name": "stdout",
     "output_type": "stream",
     "text": [
      "R(9.772777)\n"
     ]
    },
    {
     "name": "stderr",
     "output_type": "stream",
     "text": [
      "\r",
      "┣██▏                 ┫ [10.81%, 24/222, 01:26/13:15, 2.55s/i] "
     ]
    },
    {
     "name": "stdout",
     "output_type": "stream",
     "text": [
      "R(22.654505)\n"
     ]
    },
    {
     "name": "stderr",
     "output_type": "stream",
     "text": [
      "\r",
      "┣██▎                 ┫ [11.26%, 25/222, 01:31/13:27, 4.91s/i] "
     ]
    },
    {
     "name": "stdout",
     "output_type": "stream",
     "text": [
      "R(13.07238)\n"
     ]
    },
    {
     "name": "stderr",
     "output_type": "stream",
     "text": [
      "\r",
      "┣██▎                 ┫ [11.71%, 26/222, 01:34/13:24, 3.31s/i] "
     ]
    },
    {
     "name": "stdout",
     "output_type": "stream",
     "text": [
      "R(13.737549)\n"
     ]
    },
    {
     "name": "stderr",
     "output_type": "stream",
     "text": [
      "\r",
      "┣██▍                 ┫ [12.16%, 27/222, 01:37/13:21, 3.19s/i] "
     ]
    },
    {
     "name": "stdout",
     "output_type": "stream",
     "text": [
      "R(22.181488)\n"
     ]
    },
    {
     "name": "stderr",
     "output_type": "stream",
     "text": [
      "\r",
      "┣██▌                 ┫ [12.61%, 28/222, 01:41/13:19, 3.43s/i] "
     ]
    },
    {
     "name": "stdout",
     "output_type": "stream",
     "text": [
      "R(9.01092)\n"
     ]
    },
    {
     "name": "stderr",
     "output_type": "stream",
     "text": [
      "\r",
      "┣██▌                 ┫ [13.06%, 29/222, 01:45/13:23, 4.07s/i] "
     ]
    },
    {
     "name": "stdout",
     "output_type": "stream",
     "text": [
      "R(10.481006)\n"
     ]
    },
    {
     "name": "stderr",
     "output_type": "stream",
     "text": [
      "\r",
      "┣██▋                 ┫ [13.51%, 30/222, 01:48/13:18, 2.99s/i] "
     ]
    },
    {
     "name": "stdout",
     "output_type": "stream",
     "text": [
      "R(5.6987586)\n"
     ]
    },
    {
     "name": "stderr",
     "output_type": "stream",
     "text": [
      "\r",
      "┣██▊                 ┫ [13.96%, 31/222, 01:51/13:13, 2.84s/i] "
     ]
    },
    {
     "name": "stdout",
     "output_type": "stream",
     "text": [
      "R(8.488103)\n"
     ]
    },
    {
     "name": "stderr",
     "output_type": "stream",
     "text": [
      "\r",
      "┣██▉                 ┫ [14.41%, 32/222, 01:54/13:09, 3.02s/i] "
     ]
    },
    {
     "name": "stdout",
     "output_type": "stream",
     "text": [
      "R(43.612106)\n"
     ]
    },
    {
     "name": "stderr",
     "output_type": "stream",
     "text": [
      "\r",
      "┣██▉                 ┫ [14.86%, 33/222, 01:57/13:09, 3.59s/i] "
     ]
    },
    {
     "name": "stdout",
     "output_type": "stream",
     "text": [
      "R(8.829099)\n"
     ]
    },
    {
     "name": "stderr",
     "output_type": "stream",
     "text": [
      "\r",
      "┣███                 ┫ [15.32%, 34/222, 02:02/13:18, 4.86s/i] "
     ]
    },
    {
     "name": "stdout",
     "output_type": "stream",
     "text": [
      "R(8.003086)\n"
     ]
    },
    {
     "name": "stderr",
     "output_type": "stream",
     "text": [
      "\r",
      "┣███▏                ┫ [15.77%, 35/222, 02:05/13:15, 3.09s/i] "
     ]
    },
    {
     "name": "stdout",
     "output_type": "stream",
     "text": [
      "R(8.138388)\n"
     ]
    },
    {
     "name": "stderr",
     "output_type": "stream",
     "text": [
      "\r",
      "┣███▏                ┫ [16.22%, 36/222, 02:08/13:10, 2.79s/i] "
     ]
    },
    {
     "name": "stdout",
     "output_type": "stream",
     "text": [
      "R(27.07595)\n"
     ]
    },
    {
     "name": "stderr",
     "output_type": "stream",
     "text": [
      "\r",
      "┣███▎                ┫ [16.67%, 37/222, 02:12/13:10, 3.68s/i] "
     ]
    },
    {
     "name": "stdout",
     "output_type": "stream",
     "text": [
      "R(6.7571945)\n"
     ]
    },
    {
     "name": "stderr",
     "output_type": "stream",
     "text": [
      "\r",
      "┣███▍                ┫ [17.12%, 38/222, 02:16/13:15, 4.31s/i] "
     ]
    },
    {
     "name": "stdout",
     "output_type": "stream",
     "text": [
      "R(15.400751)\n"
     ]
    },
    {
     "name": "stderr",
     "output_type": "stream",
     "text": [
      "\r",
      "┣███▌                ┫ [17.57%, 39/222, 02:19/13:12, 3.14s/i] "
     ]
    },
    {
     "name": "stdout",
     "output_type": "stream",
     "text": [
      "R(141.35097)\n"
     ]
    },
    {
     "name": "stderr",
     "output_type": "stream",
     "text": [
      "\r",
      "┣███▌                ┫ [18.02%, 40/222, 02:25/13:25, 5.91s/i] "
     ]
    },
    {
     "name": "stdout",
     "output_type": "stream",
     "text": [
      "R(7.6869783)\n"
     ]
    },
    {
     "name": "stderr",
     "output_type": "stream",
     "text": [
      "\r",
      "┣███▋                ┫ [18.47%, 41/222, 02:28/13:23, 3.18s/i] "
     ]
    },
    {
     "name": "stdout",
     "output_type": "stream",
     "text": [
      "R(12.92)\n"
     ]
    },
    {
     "name": "stderr",
     "output_type": "stream",
     "text": [
      "\r",
      "┣███▊                ┫ [18.92%, 42/222, 02:31/13:20, 2.99s/i] "
     ]
    },
    {
     "name": "stdout",
     "output_type": "stream",
     "text": [
      "R(11.9303875)\n"
     ]
    },
    {
     "name": "stderr",
     "output_type": "stream",
     "text": [
      "\r",
      "┣███▊                ┫ [19.37%, 43/222, 02:36/13:24, 4.48s/i] "
     ]
    },
    {
     "name": "stdout",
     "output_type": "stream",
     "text": [
      "R(20.153759)\n"
     ]
    },
    {
     "name": "stderr",
     "output_type": "stream",
     "text": [
      "\r",
      "┣███▉                ┫ [19.82%, 44/222, 02:39/13:23, 3.33s/i] "
     ]
    },
    {
     "name": "stdout",
     "output_type": "stream",
     "text": [
      "R(12.683678)\n"
     ]
    },
    {
     "name": "stderr",
     "output_type": "stream",
     "text": [
      "\r",
      "┣████                ┫ [20.27%, 45/222, 02:42/13:19, 2.84s/i] "
     ]
    },
    {
     "name": "stdout",
     "output_type": "stream",
     "text": [
      "R(19.464573)\n"
     ]
    },
    {
     "name": "stderr",
     "output_type": "stream",
     "text": [
      "\r",
      "┣████▏               ┫ [20.72%, 46/222, 02:45/13:17, 3.17s/i] "
     ]
    },
    {
     "name": "stdout",
     "output_type": "stream",
     "text": [
      "R(5.91018)\n"
     ]
    },
    {
     "name": "stderr",
     "output_type": "stream",
     "text": [
      "\r",
      "┣████▏               ┫ [21.17%, 47/222, 02:49/13:19, 4.15s/i] "
     ]
    },
    {
     "name": "stdout",
     "output_type": "stream",
     "text": [
      "R(10.720513)\n"
     ]
    },
    {
     "name": "stderr",
     "output_type": "stream",
     "text": [
      "\r",
      "┣████▎               ┫ [21.62%, 48/222, 02:52/13:17, 3.15s/i] "
     ]
    },
    {
     "name": "stdout",
     "output_type": "stream",
     "text": [
      "R(6.1084685)\n"
     ]
    },
    {
     "name": "stderr",
     "output_type": "stream",
     "text": [
      "\r",
      "┣████▍               ┫ [22.07%, 49/222, 02:55/13:13, 2.71s/i] "
     ]
    },
    {
     "name": "stdout",
     "output_type": "stream",
     "text": [
      "R(24.889519)\n"
     ]
    },
    {
     "name": "stderr",
     "output_type": "stream",
     "text": [
      "\r",
      "┣████▌               ┫ [22.52%, 50/222, 02:58/13:13, 3.39s/i] "
     ]
    },
    {
     "name": "stdout",
     "output_type": "stream",
     "text": [
      "R(49.16741)\n"
     ]
    },
    {
     "name": "stderr",
     "output_type": "stream",
     "text": [
      "\r",
      "┣████▌               ┫ [22.97%, 51/222, 03:02/13:14, 3.80s/i] "
     ]
    },
    {
     "name": "stdout",
     "output_type": "stream",
     "text": [
      "R(16.131153)\n"
     ]
    },
    {
     "name": "stderr",
     "output_type": "stream",
     "text": [
      "\r",
      "┣████▋               ┫ [23.42%, 52/222, 03:07/13:20, 5.04s/i] "
     ]
    },
    {
     "name": "stdout",
     "output_type": "stream",
     "text": [
      "R(10.874938)\n"
     ]
    },
    {
     "name": "stderr",
     "output_type": "stream",
     "text": [
      "\r",
      "┣████▊               ┫ [23.87%, 53/222, 03:11/13:18, 3.21s/i] "
     ]
    },
    {
     "name": "stdout",
     "output_type": "stream",
     "text": [
      "R(33.05639)\n"
     ]
    },
    {
     "name": "stderr",
     "output_type": "stream",
     "text": [
      "\r",
      "┣████▊               ┫ [24.32%, 54/222, 03:14/13:19, 3.75s/i] "
     ]
    },
    {
     "name": "stdout",
     "output_type": "stream",
     "text": [
      "R(39.312428)\n"
     ]
    },
    {
     "name": "stderr",
     "output_type": "stream",
     "text": [
      "\r",
      "┣████▉               ┫ [24.77%, 55/222, 03:18/13:21, 4.17s/i] "
     ]
    },
    {
     "name": "stdout",
     "output_type": "stream",
     "text": [
      "R(36.6677)\n"
     ]
    },
    {
     "name": "stderr",
     "output_type": "stream",
     "text": [
      "\r",
      "┣█████               ┫ [25.23%, 56/222, 03:23/13:26, 4.93s/i] "
     ]
    },
    {
     "name": "stdout",
     "output_type": "stream",
     "text": [
      "R(13.319283)\n"
     ]
    },
    {
     "name": "stderr",
     "output_type": "stream",
     "text": [
      "\r",
      "┣█████▏              ┫ [25.68%, 57/222, 03:27/13:25, 3.24s/i] "
     ]
    },
    {
     "name": "stdout",
     "output_type": "stream",
     "text": [
      "R(10.940923)\n"
     ]
    },
    {
     "name": "stderr",
     "output_type": "stream",
     "text": [
      "\r",
      "┣█████▏              ┫ [26.13%, 58/222, 03:30/13:23, 3.04s/i] "
     ]
    },
    {
     "name": "stdout",
     "output_type": "stream",
     "text": [
      "R(37.533573)\n"
     ]
    },
    {
     "name": "stderr",
     "output_type": "stream",
     "text": [
      "\r",
      "┣█████▎              ┫ [26.58%, 59/222, 03:33/13:22, 3.43s/i] "
     ]
    },
    {
     "name": "stdout",
     "output_type": "stream",
     "text": [
      "R(11.465498)\n"
     ]
    },
    {
     "name": "stderr",
     "output_type": "stream",
     "text": [
      "\r",
      "┣█████▍              ┫ [27.03%, 60/222, 03:36/13:20, 3.17s/i] "
     ]
    },
    {
     "name": "stdout",
     "output_type": "stream",
     "text": [
      "R(75.9406)\n"
     ]
    },
    {
     "name": "stderr",
     "output_type": "stream",
     "text": [
      "\r",
      "┣█████▍              ┫ [27.48%, 61/222, 03:43/13:31, 6.50s/i] "
     ]
    },
    {
     "name": "stdout",
     "output_type": "stream",
     "text": [
      "R(42.59856)\n"
     ]
    },
    {
     "name": "stderr",
     "output_type": "stream",
     "text": [
      "\r",
      "┣█████▌              ┫ [27.93%, 62/222, 03:47/13:33, 4.20s/i] "
     ]
    },
    {
     "name": "stdout",
     "output_type": "stream",
     "text": [
      "R(14.311626)\n"
     ]
    },
    {
     "name": "stderr",
     "output_type": "stream",
     "text": [
      "\r",
      "┣█████▋              ┫ [28.38%, 63/222, 03:50/13:31, 3.06s/i] "
     ]
    },
    {
     "name": "stdout",
     "output_type": "stream",
     "text": [
      "R(14.299631)\n"
     ]
    },
    {
     "name": "stderr",
     "output_type": "stream",
     "text": [
      "\r",
      "┣█████▊              ┫ [28.83%, 64/222, 03:53/13:30, 3.44s/i] "
     ]
    },
    {
     "name": "stdout",
     "output_type": "stream",
     "text": [
      "R(39.946594)\n"
     ]
    },
    {
     "name": "stderr",
     "output_type": "stream",
     "text": [
      "\r",
      "┣█████▊              ┫ [29.28%, 65/222, 03:58/13:33, 4.49s/i] "
     ]
    },
    {
     "name": "stdout",
     "output_type": "stream",
     "text": [
      "R(9.415991)\n"
     ]
    },
    {
     "name": "stderr",
     "output_type": "stream",
     "text": [
      "\r",
      "┣█████▉              ┫ [29.73%, 66/222, 04:01/13:30, 2.79s/i] "
     ]
    },
    {
     "name": "stdout",
     "output_type": "stream",
     "text": [
      "R(8.005865)\n"
     ]
    },
    {
     "name": "stderr",
     "output_type": "stream",
     "text": [
      "\r",
      "┣██████              ┫ [30.18%, 67/222, 04:04/13:27, 2.93s/i] "
     ]
    },
    {
     "name": "stdout",
     "output_type": "stream",
     "text": [
      "R(8.833404)\n"
     ]
    },
    {
     "name": "stderr",
     "output_type": "stream",
     "text": [
      "\r",
      "┣██████▏             ┫ [30.63%, 68/222, 04:07/13:26, 3.11s/i] "
     ]
    },
    {
     "name": "stdout",
     "output_type": "stream",
     "text": [
      "R(8.403769)\n"
     ]
    },
    {
     "name": "stderr",
     "output_type": "stream",
     "text": [
      "\r",
      "┣██████▏             ┫ [31.08%, 69/222, 04:10/13:23, 2.73s/i] "
     ]
    },
    {
     "name": "stdout",
     "output_type": "stream",
     "text": [
      "R(6.089241)\n"
     ]
    },
    {
     "name": "stderr",
     "output_type": "stream",
     "text": [
      "\r",
      "┣██████▎             ┫ [31.53%, 70/222, 04:14/13:25, 4.33s/i] "
     ]
    },
    {
     "name": "stdout",
     "output_type": "stream",
     "text": [
      "R(12.618583)\n"
     ]
    },
    {
     "name": "stderr",
     "output_type": "stream",
     "text": [
      "\r",
      "┣██████▍             ┫ [31.98%, 71/222, 04:17/13:23, 3.06s/i] "
     ]
    },
    {
     "name": "stdout",
     "output_type": "stream",
     "text": [
      "R(11.346937)\n"
     ]
    },
    {
     "name": "stderr",
     "output_type": "stream",
     "text": [
      "\r",
      "┣██████▍             ┫ [32.43%, 72/222, 04:20/13:21, 2.88s/i] "
     ]
    },
    {
     "name": "stdout",
     "output_type": "stream",
     "text": [
      "R(10.467968)\n"
     ]
    },
    {
     "name": "stderr",
     "output_type": "stream",
     "text": [
      "\r",
      "┣██████▌             ┫ [32.88%, 73/222, 04:23/13:19, 3.03s/i] "
     ]
    },
    {
     "name": "stdout",
     "output_type": "stream",
     "text": [
      "R(14.154203)\n"
     ]
    },
    {
     "name": "stderr",
     "output_type": "stream",
     "text": [
      "\r",
      "┣██████▋             ┫ [33.33%, 74/222, 04:27/13:22, 4.60s/i] "
     ]
    },
    {
     "name": "stdout",
     "output_type": "stream",
     "text": [
      "R(25.128963)\n"
     ]
    },
    {
     "name": "stderr",
     "output_type": "stream",
     "text": [
      "\r",
      "┣██████▊             ┫ [33.78%, 75/222, 04:31/13:22, 3.49s/i] "
     ]
    },
    {
     "name": "stdout",
     "output_type": "stream",
     "text": [
      "R(75.95256)\n"
     ]
    },
    {
     "name": "stderr",
     "output_type": "stream",
     "text": [
      "\r",
      "┣██████▊             ┫ [34.23%, 76/222, 04:36/13:26, 5.17s/i] "
     ]
    },
    {
     "name": "stdout",
     "output_type": "stream",
     "text": [
      "R(35.13482)\n"
     ]
    },
    {
     "name": "stderr",
     "output_type": "stream",
     "text": [
      "\r",
      "┣██████▉             ┫ [34.68%, 77/222, 04:40/13:28, 4.29s/i] "
     ]
    },
    {
     "name": "stdout",
     "output_type": "stream",
     "text": [
      "R(5.960566)\n"
     ]
    },
    {
     "name": "stderr",
     "output_type": "stream",
     "text": [
      "\r",
      "┣███████             ┫ [35.14%, 78/222, 04:43/13:26, 2.84s/i] "
     ]
    },
    {
     "name": "stdout",
     "output_type": "stream",
     "text": [
      "R(9.726221)\n"
     ]
    },
    {
     "name": "stderr",
     "output_type": "stream",
     "text": [
      "\r",
      "┣███████             ┫ [35.59%, 79/222, 04:48/13:29, 4.57s/i] "
     ]
    },
    {
     "name": "stdout",
     "output_type": "stream",
     "text": [
      "R(13.736966)\n"
     ]
    },
    {
     "name": "stderr",
     "output_type": "stream",
     "text": [
      "\r",
      "┣███████▏            ┫ [36.04%, 80/222, 04:51/13:28, 3.34s/i] "
     ]
    },
    {
     "name": "stdout",
     "output_type": "stream",
     "text": [
      "R(10.662624)\n"
     ]
    },
    {
     "name": "stderr",
     "output_type": "stream",
     "text": [
      "\r",
      "┣███████▎            ┫ [36.49%, 81/222, 04:54/13:26, 3.10s/i] "
     ]
    },
    {
     "name": "stdout",
     "output_type": "stream",
     "text": [
      "R(10.2893505)\n"
     ]
    },
    {
     "name": "stderr",
     "output_type": "stream",
     "text": [
      "\r",
      "┣███████▍            ┫ [36.94%, 82/222, 04:57/13:25, 3.24s/i] "
     ]
    },
    {
     "name": "stdout",
     "output_type": "stream",
     "text": [
      "R(9.604631)\n"
     ]
    },
    {
     "name": "stderr",
     "output_type": "stream",
     "text": [
      "\r",
      "┣███████▍            ┫ [37.39%, 83/222, 05:02/13:28, 4.53s/i] "
     ]
    },
    {
     "name": "stdout",
     "output_type": "stream",
     "text": [
      "R(7.5596123)\n"
     ]
    },
    {
     "name": "stderr",
     "output_type": "stream",
     "text": [
      "\r",
      "┣███████▌            ┫ [37.84%, 84/222, 05:05/13:26, 2.97s/i] "
     ]
    },
    {
     "name": "stdout",
     "output_type": "stream",
     "text": [
      "R(5.234473)\n"
     ]
    },
    {
     "name": "stderr",
     "output_type": "stream",
     "text": [
      "\r",
      "┣███████▋            ┫ [38.29%, 85/222, 05:08/13:24, 2.93s/i] "
     ]
    },
    {
     "name": "stdout",
     "output_type": "stream",
     "text": [
      "R(6.3327985)\n"
     ]
    },
    {
     "name": "stderr",
     "output_type": "stream",
     "text": [
      "\r",
      "┣███████▋            ┫ [38.74%, 86/222, 05:11/13:22, 2.84s/i] "
     ]
    },
    {
     "name": "stdout",
     "output_type": "stream",
     "text": [
      "R(12.722414)\n"
     ]
    },
    {
     "name": "stderr",
     "output_type": "stream",
     "text": [
      "\r",
      "┣███████▊            ┫ [39.19%, 87/222, 05:14/13:21, 3.05s/i] "
     ]
    },
    {
     "name": "stdout",
     "output_type": "stream",
     "text": [
      "R(11.927163)\n"
     ]
    },
    {
     "name": "stderr",
     "output_type": "stream",
     "text": [
      "\r",
      "┣███████▉            ┫ [39.64%, 88/222, 05:18/13:23, 4.52s/i] "
     ]
    },
    {
     "name": "stdout",
     "output_type": "stream",
     "text": [
      "R(8.78888)\n"
     ]
    },
    {
     "name": "stderr",
     "output_type": "stream",
     "text": [
      "\r",
      "┣████████            ┫ [40.09%, 89/222, 05:22/13:22, 3.31s/i] "
     ]
    },
    {
     "name": "stdout",
     "output_type": "stream",
     "text": [
      "R(4.9055476)\n"
     ]
    },
    {
     "name": "stderr",
     "output_type": "stream",
     "text": [
      "\r",
      "┣████████            ┫ [40.54%, 90/222, 05:24/13:20, 2.81s/i] "
     ]
    },
    {
     "name": "stdout",
     "output_type": "stream",
     "text": [
      "R(6.0948358)\n"
     ]
    },
    {
     "name": "stderr",
     "output_type": "stream",
     "text": [
      "\r",
      "┣████████▏           ┫ [40.99%, 91/222, 05:27/13:19, 2.95s/i] "
     ]
    },
    {
     "name": "stdout",
     "output_type": "stream",
     "text": [
      "R(80.68739)\n"
     ]
    },
    {
     "name": "stderr",
     "output_type": "stream",
     "text": [
      "\r",
      "┣████████▎           ┫ [41.44%, 92/222, 05:33/13:24, 5.88s/i] "
     ]
    },
    {
     "name": "stdout",
     "output_type": "stream",
     "text": [
      "R(33.760704)\n"
     ]
    },
    {
     "name": "stderr",
     "output_type": "stream",
     "text": [
      "\r",
      "┣████████▍           ┫ [41.89%, 93/222, 05:37/13:24, 3.51s/i] "
     ]
    },
    {
     "name": "stdout",
     "output_type": "stream",
     "text": [
      "R(35.120125)\n"
     ]
    },
    {
     "name": "stderr",
     "output_type": "stream",
     "text": [
      "\r",
      "┣████████▍           ┫ [42.34%, 94/222, 05:41/13:25, 3.89s/i] "
     ]
    },
    {
     "name": "stdout",
     "output_type": "stream",
     "text": [
      "R(13.022717)\n"
     ]
    },
    {
     "name": "stderr",
     "output_type": "stream",
     "text": [
      "\r",
      "┣████████▌           ┫ [42.79%, 95/222, 05:44/13:24, 3.27s/i] "
     ]
    },
    {
     "name": "stdout",
     "output_type": "stream",
     "text": [
      "R(19.872282)\n"
     ]
    },
    {
     "name": "stderr",
     "output_type": "stream",
     "text": [
      "\r",
      "┣████████▋           ┫ [43.24%, 96/222, 05:47/13:23, 3.43s/i] "
     ]
    },
    {
     "name": "stdout",
     "output_type": "stream",
     "text": [
      "R(42.03114)\n"
     ]
    },
    {
     "name": "stderr",
     "output_type": "stream",
     "text": [
      "\r",
      "┣████████▋           ┫ [43.69%, 97/222, 05:53/13:27, 5.33s/i] "
     ]
    },
    {
     "name": "stdout",
     "output_type": "stream",
     "text": [
      "R(7.399852)\n"
     ]
    },
    {
     "name": "stderr",
     "output_type": "stream",
     "text": [
      "\r",
      "┣████████▊           ┫ [44.14%, 98/222, 05:56/13:26, 3.03s/i] "
     ]
    },
    {
     "name": "stdout",
     "output_type": "stream",
     "text": [
      "R(12.881233)\n"
     ]
    },
    {
     "name": "stderr",
     "output_type": "stream",
     "text": [
      "\r",
      "┣████████▉           ┫ [44.59%, 99/222, 05:59/13:25, 3.09s/i] "
     ]
    },
    {
     "name": "stdout",
     "output_type": "stream",
     "text": [
      "R(63.79258)\n"
     ]
    },
    {
     "name": "stderr",
     "output_type": "stream",
     "text": [
      "\r",
      "┣█████████           ┫ [45.05%, 100/222, 06:06/13:31, 6.71s/i] "
     ]
    },
    {
     "name": "stdout",
     "output_type": "stream",
     "text": [
      "R(12.880808)\n"
     ]
    },
    {
     "name": "stderr",
     "output_type": "stream",
     "text": [
      "\r",
      "┣█████████           ┫ [45.50%, 101/222, 06:09/13:30, 3.00s/i] "
     ]
    },
    {
     "name": "stdout",
     "output_type": "stream",
     "text": [
      "R(25.263401)\n"
     ]
    },
    {
     "name": "stderr",
     "output_type": "stream",
     "text": [
      "\r",
      "┣█████████▏          ┫ [45.95%, 102/222, 06:12/13:30, 3.57s/i] "
     ]
    },
    {
     "name": "stdout",
     "output_type": "stream",
     "text": [
      "R(26.789913)\n"
     ]
    },
    {
     "name": "stderr",
     "output_type": "stream",
     "text": [
      "\r",
      "┣█████████▎          ┫ [46.40%, 103/222, 06:16/13:30, 3.55s/i] "
     ]
    },
    {
     "name": "stdout",
     "output_type": "stream",
     "text": [
      "R(5.8058167)\n"
     ]
    },
    {
     "name": "stderr",
     "output_type": "stream",
     "text": [
      "\r",
      "┣█████████▎          ┫ [46.85%, 104/222, 06:18/13:28, 2.78s/i] "
     ]
    },
    {
     "name": "stdout",
     "output_type": "stream",
     "text": [
      "R(22.90543)\n"
     ]
    },
    {
     "name": "stderr",
     "output_type": "stream",
     "text": [
      "\r",
      "┣█████████▍          ┫ [47.30%, 105/222, 06:22/13:27, 3.32s/i] "
     ]
    },
    {
     "name": "stdout",
     "output_type": "stream",
     "text": [
      "R(17.118952)\n"
     ]
    },
    {
     "name": "stderr",
     "output_type": "stream",
     "text": [
      "\r",
      "┣█████████▌          ┫ [47.75%, 106/222, 06:27/13:30, 4.88s/i] "
     ]
    },
    {
     "name": "stdout",
     "output_type": "stream",
     "text": [
      "R(78.853195)\n"
     ]
    },
    {
     "name": "stderr",
     "output_type": "stream",
     "text": [
      "\r",
      "┣█████████▋          ┫ [48.20%, 107/222, 06:32/13:33, 5.32s/i] "
     ]
    },
    {
     "name": "stdout",
     "output_type": "stream",
     "text": [
      "R(53.32244)\n"
     ]
    },
    {
     "name": "stderr",
     "output_type": "stream",
     "text": [
      "\r",
      "┣█████████▋          ┫ [48.65%, 108/222, 06:36/13:34, 4.19s/i] "
     ]
    },
    {
     "name": "stdout",
     "output_type": "stream",
     "text": [
      "R(10.495049)\n"
     ]
    },
    {
     "name": "stderr",
     "output_type": "stream",
     "text": [
      "\r",
      "┣█████████▊          ┫ [49.10%, 109/222, 06:40/13:36, 4.30s/i] "
     ]
    },
    {
     "name": "stdout",
     "output_type": "stream",
     "text": [
      "R(7.90267)\n"
     ]
    },
    {
     "name": "stderr",
     "output_type": "stream",
     "text": [
      "\r",
      "┣█████████▉          ┫ [49.55%, 110/222, 06:43/13:34, 3.07s/i] "
     ]
    },
    {
     "name": "stdout",
     "output_type": "stream",
     "text": [
      "R(6.7984347)\n"
     ]
    },
    {
     "name": "stderr",
     "output_type": "stream",
     "text": [
      "\r",
      "┣██████████          ┫ [50.00%, 111/222, 06:46/13:33, 2.97s/i] "
     ]
    },
    {
     "name": "stdout",
     "output_type": "stream",
     "text": [
      "R(3.5984097)\n"
     ]
    },
    {
     "name": "stderr",
     "output_type": "stream",
     "text": [
      "\r",
      "┣██████████          ┫ [50.45%, 112/222, 06:49/13:31, 2.88s/i] "
     ]
    },
    {
     "name": "stdout",
     "output_type": "stream",
     "text": [
      "R(7.502397)\n"
     ]
    },
    {
     "name": "stderr",
     "output_type": "stream",
     "text": [
      "\r",
      "┣██████████▏         ┫ [50.90%, 113/222, 06:52/13:30, 3.06s/i] "
     ]
    },
    {
     "name": "stdout",
     "output_type": "stream",
     "text": [
      "R(7.4278893)\n"
     ]
    },
    {
     "name": "stderr",
     "output_type": "stream",
     "text": [
      "\r",
      "┣██████████▎         ┫ [51.35%, 114/222, 06:55/13:29, 2.89s/i] "
     ]
    },
    {
     "name": "stdout",
     "output_type": "stream",
     "text": [
      "R(17.534822)\n"
     ]
    },
    {
     "name": "stderr",
     "output_type": "stream",
     "text": [
      "\r",
      "┣██████████▎         ┫ [51.80%, 115/222, 07:00/13:32, 5.10s/i] "
     ]
    },
    {
     "name": "stdout",
     "output_type": "stream",
     "text": [
      "R(7.7290945)\n"
     ]
    },
    {
     "name": "stderr",
     "output_type": "stream",
     "text": [
      "\r",
      "┣██████████▍         ┫ [52.25%, 116/222, 07:04/13:31, 3.17s/i] "
     ]
    },
    {
     "name": "stdout",
     "output_type": "stream",
     "text": [
      "R(7.576743)\n"
     ]
    },
    {
     "name": "stderr",
     "output_type": "stream",
     "text": [
      "\r",
      "┣██████████▌         ┫ [52.70%, 117/222, 07:06/13:29, 2.86s/i] "
     ]
    },
    {
     "name": "stdout",
     "output_type": "stream",
     "text": [
      "R(14.173364)\n"
     ]
    },
    {
     "name": "stderr",
     "output_type": "stream",
     "text": [
      "\r",
      "┣██████████▋         ┫ [53.15%, 118/222, 07:10/13:29, 3.40s/i] "
     ]
    },
    {
     "name": "stdout",
     "output_type": "stream",
     "text": [
      "R(8.025936)\n"
     ]
    },
    {
     "name": "stderr",
     "output_type": "stream",
     "text": [
      "\r",
      "┣██████████▋         ┫ [53.60%, 119/222, 07:14/13:30, 4.26s/i] "
     ]
    },
    {
     "name": "stdout",
     "output_type": "stream",
     "text": [
      "R(41.997158)\n"
     ]
    },
    {
     "name": "stderr",
     "output_type": "stream",
     "text": [
      "\r",
      "┣██████████▊         ┫ [54.05%, 120/222, 07:18/13:29, 3.46s/i] "
     ]
    },
    {
     "name": "stdout",
     "output_type": "stream",
     "text": [
      "R(12.580617)\n"
     ]
    },
    {
     "name": "stderr",
     "output_type": "stream",
     "text": [
      "\r",
      "┣██████████▉         ┫ [54.50%, 121/222, 07:21/13:28, 3.09s/i] "
     ]
    },
    {
     "name": "stdout",
     "output_type": "stream",
     "text": [
      "R(14.227366)\n"
     ]
    },
    {
     "name": "stderr",
     "output_type": "stream",
     "text": [
      "\r",
      "┣██████████▉         ┫ [54.95%, 122/222, 07:24/13:28, 3.24s/i] "
     ]
    },
    {
     "name": "stdout",
     "output_type": "stream",
     "text": [
      "R(29.521046)\n"
     ]
    },
    {
     "name": "stderr",
     "output_type": "stream",
     "text": [
      "\r",
      "┣███████████         ┫ [55.41%, 123/222, 07:28/13:28, 3.64s/i] "
     ]
    },
    {
     "name": "stdout",
     "output_type": "stream",
     "text": [
      "R(9.879538)\n"
     ]
    },
    {
     "name": "stderr",
     "output_type": "stream",
     "text": [
      "\r",
      "┣███████████▏        ┫ [55.86%, 124/222, 07:32/13:29, 4.46s/i] "
     ]
    },
    {
     "name": "stdout",
     "output_type": "stream",
     "text": [
      "R(11.826372)\n"
     ]
    },
    {
     "name": "stderr",
     "output_type": "stream",
     "text": [
      "\r",
      "┣███████████▎        ┫ [56.31%, 125/222, 07:35/13:28, 3.07s/i] "
     ]
    },
    {
     "name": "stdout",
     "output_type": "stream",
     "text": [
      "R(6.4403253)\n"
     ]
    },
    {
     "name": "stderr",
     "output_type": "stream",
     "text": [
      "\r",
      "┣███████████▎        ┫ [56.76%, 126/222, 07:38/13:27, 3.12s/i] "
     ]
    },
    {
     "name": "stdout",
     "output_type": "stream",
     "text": [
      "R(7.109662)\n"
     ]
    },
    {
     "name": "stderr",
     "output_type": "stream",
     "text": [
      "\r",
      "┣███████████▍        ┫ [57.21%, 127/222, 07:41/13:26, 2.99s/i] "
     ]
    },
    {
     "name": "stdout",
     "output_type": "stream",
     "text": [
      "R(14.228948)\n"
     ]
    },
    {
     "name": "stderr",
     "output_type": "stream",
     "text": [
      "\r",
      "┣███████████▌        ┫ [57.66%, 128/222, 07:44/13:25, 3.17s/i] "
     ]
    },
    {
     "name": "stdout",
     "output_type": "stream",
     "text": [
      "R(44.093643)\n"
     ]
    },
    {
     "name": "stderr",
     "output_type": "stream",
     "text": [
      "\r",
      "┣███████████▌        ┫ [58.11%, 129/222, 07:50/13:29, 5.73s/i] "
     ]
    },
    {
     "name": "stdout",
     "output_type": "stream",
     "text": [
      "R(17.070778)\n"
     ]
    },
    {
     "name": "stderr",
     "output_type": "stream",
     "text": [
      "\r",
      "┣███████████▋        ┫ [58.56%, 130/222, 07:53/13:28, 3.24s/i] "
     ]
    },
    {
     "name": "stdout",
     "output_type": "stream",
     "text": [
      "R(17.89196)\n"
     ]
    },
    {
     "name": "stderr",
     "output_type": "stream",
     "text": [
      "\r",
      "┣███████████▊        ┫ [59.01%, 131/222, 07:57/13:28, 3.32s/i] "
     ]
    },
    {
     "name": "stdout",
     "output_type": "stream",
     "text": [
      "R(38.66278)\n"
     ]
    },
    {
     "name": "stderr",
     "output_type": "stream",
     "text": [
      "\r",
      "┣███████████▉        ┫ [59.46%, 132/222, 08:00/13:28, 3.83s/i] "
     ]
    },
    {
     "name": "stdout",
     "output_type": "stream",
     "text": [
      "R(35.579796)\n"
     ]
    },
    {
     "name": "stderr",
     "output_type": "stream",
     "text": [
      "\r",
      "┣███████████▉        ┫ [59.91%, 133/222, 08:04/13:28, 3.78s/i] "
     ]
    },
    {
     "name": "stdout",
     "output_type": "stream",
     "text": [
      "R(15.76367)\n"
     ]
    },
    {
     "name": "stderr",
     "output_type": "stream",
     "text": [
      "\r",
      "┣████████████        ┫ [60.36%, 134/222, 08:09/13:30, 4.89s/i] "
     ]
    },
    {
     "name": "stdout",
     "output_type": "stream",
     "text": [
      "R(6.7024436)\n"
     ]
    },
    {
     "name": "stderr",
     "output_type": "stream",
     "text": [
      "\r",
      "┣████████████▏       ┫ [60.81%, 135/222, 08:12/13:29, 2.86s/i] "
     ]
    },
    {
     "name": "stdout",
     "output_type": "stream",
     "text": [
      "R(23.97116)\n"
     ]
    },
    {
     "name": "stderr",
     "output_type": "stream",
     "text": [
      "\r",
      "┣████████████▎       ┫ [61.26%, 136/222, 08:16/13:29, 3.53s/i] "
     ]
    },
    {
     "name": "stdout",
     "output_type": "stream",
     "text": [
      "R(8.097514)\n"
     ]
    },
    {
     "name": "stderr",
     "output_type": "stream",
     "text": [
      "\r",
      "┣████████████▎       ┫ [61.71%, 137/222, 08:19/13:28, 3.10s/i] "
     ]
    },
    {
     "name": "stdout",
     "output_type": "stream",
     "text": [
      "R(7.1756487)\n"
     ]
    },
    {
     "name": "stderr",
     "output_type": "stream",
     "text": [
      "\r",
      "┣████████████▍       ┫ [62.16%, 138/222, 08:23/13:29, 4.25s/i] "
     ]
    },
    {
     "name": "stdout",
     "output_type": "stream",
     "text": [
      "R(9.526336)\n"
     ]
    },
    {
     "name": "stderr",
     "output_type": "stream",
     "text": [
      "\r",
      "┣████████████▌       ┫ [62.61%, 139/222, 08:26/13:28, 2.98s/i] "
     ]
    },
    {
     "name": "stdout",
     "output_type": "stream",
     "text": [
      "R(11.41773)\n"
     ]
    },
    {
     "name": "stderr",
     "output_type": "stream",
     "text": [
      "\r",
      "┣████████████▌       ┫ [63.06%, 140/222, 08:29/13:27, 3.13s/i] "
     ]
    },
    {
     "name": "stdout",
     "output_type": "stream",
     "text": [
      "R(22.202904)\n"
     ]
    },
    {
     "name": "stderr",
     "output_type": "stream",
     "text": [
      "\r",
      "┣████████████▋       ┫ [63.51%, 141/222, 08:32/13:27, 3.50s/i] "
     ]
    },
    {
     "name": "stdout",
     "output_type": "stream",
     "text": [
      "R(35.353676)\n"
     ]
    },
    {
     "name": "stderr",
     "output_type": "stream",
     "text": [
      "\r",
      "┣████████████▊       ┫ [63.96%, 142/222, 08:36/13:26, 3.25s/i] "
     ]
    },
    {
     "name": "stdout",
     "output_type": "stream",
     "text": [
      "R(25.917896)\n"
     ]
    },
    {
     "name": "stderr",
     "output_type": "stream",
     "text": [
      "\r",
      "┣████████████▉       ┫ [64.41%, 143/222, 08:39/13:26, 3.54s/i] "
     ]
    },
    {
     "name": "stdout",
     "output_type": "stream",
     "text": [
      "R(8.366732)\n"
     ]
    },
    {
     "name": "stderr",
     "output_type": "stream",
     "text": [
      "\r",
      "┣████████████▉       ┫ [64.86%, 144/222, 08:44/13:28, 4.68s/i] "
     ]
    },
    {
     "name": "stdout",
     "output_type": "stream",
     "text": [
      "R(11.561621)\n"
     ]
    },
    {
     "name": "stderr",
     "output_type": "stream",
     "text": [
      "\r",
      "┣█████████████       ┫ [65.32%, 145/222, 08:47/13:27, 3.33s/i] "
     ]
    },
    {
     "name": "stdout",
     "output_type": "stream",
     "text": [
      "R(10.018833)\n"
     ]
    },
    {
     "name": "stderr",
     "output_type": "stream",
     "text": [
      "\r",
      "┣█████████████▏      ┫ [65.77%, 146/222, 08:50/13:27, 3.15s/i] "
     ]
    },
    {
     "name": "stdout",
     "output_type": "stream",
     "text": [
      "R(14.036568)\n"
     ]
    },
    {
     "name": "stderr",
     "output_type": "stream",
     "text": [
      "\r",
      "┣█████████████▏      ┫ [66.22%, 147/222, 08:54/13:26, 3.39s/i] "
     ]
    },
    {
     "name": "stdout",
     "output_type": "stream",
     "text": [
      "R(22.221867)\n"
     ]
    },
    {
     "name": "stderr",
     "output_type": "stream",
     "text": [
      "\r",
      "┣█████████████▎      ┫ [66.67%, 148/222, 08:59/13:28, 4.87s/i] "
     ]
    },
    {
     "name": "stdout",
     "output_type": "stream",
     "text": [
      "R(9.081714)\n"
     ]
    },
    {
     "name": "stderr",
     "output_type": "stream",
     "text": [
      "\r",
      "┣█████████████▍      ┫ [67.12%, 149/222, 09:01/13:27, 2.77s/i] "
     ]
    },
    {
     "name": "stdout",
     "output_type": "stream",
     "text": [
      "R(31.125244)\n"
     ]
    },
    {
     "name": "stderr",
     "output_type": "stream",
     "text": [
      "\r",
      "┣█████████████▌      ┫ [67.57%, 150/222, 09:05/13:27, 3.56s/i] "
     ]
    },
    {
     "name": "stdout",
     "output_type": "stream",
     "text": [
      "R(5.2237973)\n"
     ]
    },
    {
     "name": "stderr",
     "output_type": "stream",
     "text": [
      "\r",
      "┣█████████████▌      ┫ [68.02%, 151/222, 09:08/13:25, 2.75s/i] "
     ]
    },
    {
     "name": "stdout",
     "output_type": "stream",
     "text": [
      "R(64.5052)\n"
     ]
    },
    {
     "name": "stderr",
     "output_type": "stream",
     "text": [
      "\r",
      "┣█████████████▋      ┫ [68.47%, 152/222, 09:12/13:27, 4.58s/i] "
     ]
    },
    {
     "name": "stdout",
     "output_type": "stream",
     "text": [
      "R(8.411097)\n"
     ]
    },
    {
     "name": "stderr",
     "output_type": "stream",
     "text": [
      "\r",
      "┣█████████████▊      ┫ [68.92%, 153/222, 09:17/13:28, 4.37s/i] "
     ]
    },
    {
     "name": "stdout",
     "output_type": "stream",
     "text": [
      "R(7.3703146)\n"
     ]
    },
    {
     "name": "stderr",
     "output_type": "stream",
     "text": [
      "\r",
      "┣█████████████▊      ┫ [69.37%, 154/222, 09:20/13:27, 2.97s/i] "
     ]
    },
    {
     "name": "stdout",
     "output_type": "stream",
     "text": [
      "R(6.1083126)\n"
     ]
    },
    {
     "name": "stderr",
     "output_type": "stream",
     "text": [
      "\r",
      "┣█████████████▉      ┫ [69.82%, 155/222, 09:23/13:26, 2.95s/i] "
     ]
    },
    {
     "name": "stdout",
     "output_type": "stream",
     "text": [
      "R(7.019562)\n"
     ]
    },
    {
     "name": "stderr",
     "output_type": "stream",
     "text": [
      "\r",
      "┣██████████████      ┫ [70.27%, 156/222, 09:25/13:25, 2.74s/i] "
     ]
    },
    {
     "name": "stdout",
     "output_type": "stream",
     "text": [
      "R(11.429064)\n"
     ]
    },
    {
     "name": "stderr",
     "output_type": "stream",
     "text": [
      "\r",
      "┣██████████████▏     ┫ [70.72%, 157/222, 09:28/13:24, 3.05s/i] "
     ]
    },
    {
     "name": "stdout",
     "output_type": "stream",
     "text": [
      "R(24.506268)\n"
     ]
    },
    {
     "name": "stderr",
     "output_type": "stream",
     "text": [
      "\r",
      "┣██████████████▏     ┫ [71.17%, 158/222, 09:33/13:26, 4.89s/i] "
     ]
    },
    {
     "name": "stdout",
     "output_type": "stream",
     "text": [
      "R(13.657029)\n"
     ]
    },
    {
     "name": "stderr",
     "output_type": "stream",
     "text": [
      "\r",
      "┣██████████████▎     ┫ [71.62%, 159/222, 09:37/13:25, 3.22s/i] "
     ]
    },
    {
     "name": "stdout",
     "output_type": "stream",
     "text": [
      "R(10.202137)\n"
     ]
    },
    {
     "name": "stderr",
     "output_type": "stream",
     "text": [
      "\r",
      "┣██████████████▍     ┫ [72.07%, 160/222, 09:40/13:24, 3.08s/i] "
     ]
    },
    {
     "name": "stdout",
     "output_type": "stream",
     "text": [
      "R(13.368155)\n"
     ]
    },
    {
     "name": "stderr",
     "output_type": "stream",
     "text": [
      "\r",
      "┣██████████████▌     ┫ [72.52%, 161/222, 09:43/13:23, 3.08s/i] "
     ]
    },
    {
     "name": "stdout",
     "output_type": "stream",
     "text": [
      "R(8.954437)\n"
     ]
    },
    {
     "name": "stderr",
     "output_type": "stream",
     "text": [
      "\r",
      "┣██████████████▌     ┫ [72.97%, 162/222, 09:46/13:23, 3.04s/i] "
     ]
    },
    {
     "name": "stdout",
     "output_type": "stream",
     "text": [
      "R(22.741623)\n"
     ]
    },
    {
     "name": "stderr",
     "output_type": "stream",
     "text": [
      "\r",
      "┣██████████████▋     ┫ [73.42%, 163/222, 09:51/13:25, 5.02s/i] "
     ]
    },
    {
     "name": "stdout",
     "output_type": "stream",
     "text": [
      "R(18.744839)\n"
     ]
    },
    {
     "name": "stderr",
     "output_type": "stream",
     "text": [
      "\r",
      "┣██████████████▊     ┫ [73.87%, 164/222, 09:54/13:24, 3.22s/i] "
     ]
    },
    {
     "name": "stdout",
     "output_type": "stream",
     "text": [
      "R(21.093971)\n"
     ]
    },
    {
     "name": "stderr",
     "output_type": "stream",
     "text": [
      "\r",
      "┣██████████████▊     ┫ [74.32%, 165/222, 09:57/13:24, 3.38s/i] "
     ]
    },
    {
     "name": "stdout",
     "output_type": "stream",
     "text": [
      "R(23.82729)\n"
     ]
    },
    {
     "name": "stderr",
     "output_type": "stream",
     "text": [
      "\r",
      "┣██████████████▉     ┫ [74.77%, 166/222, 10:01/13:24, 3.84s/i] "
     ]
    },
    {
     "name": "stdout",
     "output_type": "stream",
     "text": [
      "R(9.897172)\n"
     ]
    },
    {
     "name": "stderr",
     "output_type": "stream",
     "text": [
      "\r",
      "┣███████████████     ┫ [75.23%, 167/222, 10:05/13:24, 3.73s/i] "
     ]
    },
    {
     "name": "stdout",
     "output_type": "stream",
     "text": [
      "R(27.70823)\n"
     ]
    },
    {
     "name": "stderr",
     "output_type": "stream",
     "text": [
      "\r",
      "┣███████████████▏    ┫ [75.68%, 168/222, 10:09/13:24, 3.58s/i] "
     ]
    },
    {
     "name": "stdout",
     "output_type": "stream",
     "text": [
      "R(29.672789)\n"
     ]
    },
    {
     "name": "stderr",
     "output_type": "stream",
     "text": [
      "\r",
      "┣███████████████▏    ┫ [76.13%, 169/222, 10:12/13:24, 3.42s/i] "
     ]
    },
    {
     "name": "stdout",
     "output_type": "stream",
     "text": [
      "R(9.239097)\n"
     ]
    },
    {
     "name": "stderr",
     "output_type": "stream",
     "text": [
      "\r",
      "┣███████████████▎    ┫ [76.58%, 170/222, 10:15/13:23, 3.01s/i] "
     ]
    },
    {
     "name": "stdout",
     "output_type": "stream",
     "text": [
      "R(20.1927)\n"
     ]
    },
    {
     "name": "stderr",
     "output_type": "stream",
     "text": [
      "\r",
      "┣███████████████▍    ┫ [77.03%, 171/222, 10:18/13:23, 3.48s/i] "
     ]
    },
    {
     "name": "stdout",
     "output_type": "stream",
     "text": [
      "R(10.769898)\n"
     ]
    },
    {
     "name": "stderr",
     "output_type": "stream",
     "text": [
      "\r",
      "┣███████████████▍    ┫ [77.48%, 172/222, 10:23/13:25, 4.90s/i] "
     ]
    },
    {
     "name": "stdout",
     "output_type": "stream",
     "text": [
      "R(25.266151)\n"
     ]
    },
    {
     "name": "stderr",
     "output_type": "stream",
     "text": [
      "\r",
      "┣███████████████▌    ┫ [77.93%, 173/222, 10:27/13:24, 3.34s/i] "
     ]
    },
    {
     "name": "stdout",
     "output_type": "stream",
     "text": [
      "R(5.8898945)\n"
     ]
    },
    {
     "name": "stderr",
     "output_type": "stream",
     "text": [
      "\r",
      "┣███████████████▋    ┫ [78.38%, 174/222, 10:29/13:23, 2.57s/i] "
     ]
    },
    {
     "name": "stdout",
     "output_type": "stream",
     "text": [
      "R(23.462431)\n"
     ]
    },
    {
     "name": "stderr",
     "output_type": "stream",
     "text": [
      "\r",
      "┣███████████████▊    ┫ [78.83%, 175/222, 10:33/13:23, 3.61s/i] "
     ]
    },
    {
     "name": "stdout",
     "output_type": "stream",
     "text": [
      "R(3.6665158)\n"
     ]
    },
    {
     "name": "stderr",
     "output_type": "stream",
     "text": [
      "\r",
      "┣███████████████▊    ┫ [79.28%, 176/222, 10:37/13:24, 4.19s/i] "
     ]
    },
    {
     "name": "stdout",
     "output_type": "stream",
     "text": [
      "R(4.3401756)\n"
     ]
    },
    {
     "name": "stderr",
     "output_type": "stream",
     "text": [
      "\r",
      "┣███████████████▉    ┫ [79.73%, 177/222, 10:40/13:23, 3.05s/i] "
     ]
    },
    {
     "name": "stdout",
     "output_type": "stream",
     "text": [
      "R(26.840227)\n"
     ]
    },
    {
     "name": "stderr",
     "output_type": "stream",
     "text": [
      "\r",
      "┣████████████████    ┫ [80.18%, 178/222, 10:43/13:22, 3.34s/i] "
     ]
    },
    {
     "name": "stdout",
     "output_type": "stream",
     "text": [
      "R(27.45334)\n"
     ]
    },
    {
     "name": "stderr",
     "output_type": "stream",
     "text": [
      "\r",
      "┣████████████████▏   ┫ [80.63%, 179/222, 10:47/13:22, 3.52s/i] "
     ]
    },
    {
     "name": "stdout",
     "output_type": "stream",
     "text": [
      "R(16.387127)\n"
     ]
    },
    {
     "name": "stderr",
     "output_type": "stream",
     "text": [
      "\r",
      "┣████████████████▏   ┫ [81.08%, 180/222, 10:50/13:22, 3.22s/i] "
     ]
    },
    {
     "name": "stdout",
     "output_type": "stream",
     "text": [
      "R(27.05831)\n"
     ]
    },
    {
     "name": "stderr",
     "output_type": "stream",
     "text": [
      "\r",
      "┣████████████████▎   ┫ [81.53%, 181/222, 10:55/13:23, 4.86s/i] "
     ]
    },
    {
     "name": "stdout",
     "output_type": "stream",
     "text": [
      "R(20.674004)\n"
     ]
    },
    {
     "name": "stderr",
     "output_type": "stream",
     "text": [
      "\r",
      "┣████████████████▍   ┫ [81.98%, 182/222, 10:58/13:23, 3.38s/i] "
     ]
    },
    {
     "name": "stdout",
     "output_type": "stream",
     "text": [
      "R(48.038532)\n"
     ]
    },
    {
     "name": "stderr",
     "output_type": "stream",
     "text": [
      "\r",
      "┣████████████████▍   ┫ [82.43%, 183/222, 11:03/13:24, 4.32s/i] "
     ]
    },
    {
     "name": "stdout",
     "output_type": "stream",
     "text": [
      "R(9.124908)\n"
     ]
    },
    {
     "name": "stderr",
     "output_type": "stream",
     "text": [
      "\r",
      "┣████████████████▌   ┫ [82.88%, 184/222, 11:06/13:23, 3.06s/i] "
     ]
    },
    {
     "name": "stdout",
     "output_type": "stream",
     "text": [
      "R(15.8169775)\n"
     ]
    },
    {
     "name": "stderr",
     "output_type": "stream",
     "text": [
      "\r",
      "┣████████████████▋   ┫ [83.33%, 185/222, 11:10/13:24, 4.57s/i] "
     ]
    },
    {
     "name": "stdout",
     "output_type": "stream",
     "text": [
      "R(30.364437)\n"
     ]
    },
    {
     "name": "stderr",
     "output_type": "stream",
     "text": [
      "\r",
      "┣████████████████▊   ┫ [83.78%, 186/222, 11:14/13:24, 3.46s/i] "
     ]
    },
    {
     "name": "stdout",
     "output_type": "stream",
     "text": [
      "R(18.93961)\n"
     ]
    },
    {
     "name": "stderr",
     "output_type": "stream",
     "text": [
      "\r",
      "┣████████████████▊   ┫ [84.23%, 187/222, 11:17/13:24, 3.23s/i] "
     ]
    },
    {
     "name": "stdout",
     "output_type": "stream",
     "text": [
      "R(2.5166035)\n"
     ]
    },
    {
     "name": "stderr",
     "output_type": "stream",
     "text": [
      "\r",
      "┣████████████████▉   ┫ [84.68%, 188/222, 11:20/13:23, 2.68s/i] "
     ]
    },
    {
     "name": "stdout",
     "output_type": "stream",
     "text": [
      "R(9.015195)\n"
     ]
    },
    {
     "name": "stderr",
     "output_type": "stream",
     "text": [
      "\r",
      "┣█████████████████   ┫ [85.14%, 189/222, 11:23/13:22, 3.17s/i] "
     ]
    },
    {
     "name": "stdout",
     "output_type": "stream",
     "text": [
      "R(28.427408)\n"
     ]
    },
    {
     "name": "stderr",
     "output_type": "stream",
     "text": [
      "\r",
      "┣█████████████████   ┫ [85.59%, 190/222, 11:28/13:24, 5.15s/i] "
     ]
    },
    {
     "name": "stdout",
     "output_type": "stream",
     "text": [
      "R(12.034258)\n"
     ]
    },
    {
     "name": "stderr",
     "output_type": "stream",
     "text": [
      "\r",
      "┣█████████████████▏  ┫ [86.04%, 191/222, 11:31/13:23, 3.19s/i] "
     ]
    },
    {
     "name": "stdout",
     "output_type": "stream",
     "text": [
      "R(12.815968)\n"
     ]
    },
    {
     "name": "stderr",
     "output_type": "stream",
     "text": [
      "\r",
      "┣█████████████████▎  ┫ [86.49%, 192/222, 11:34/13:23, 3.15s/i] "
     ]
    },
    {
     "name": "stdout",
     "output_type": "stream",
     "text": [
      "R(12.5788965)\n"
     ]
    },
    {
     "name": "stderr",
     "output_type": "stream",
     "text": [
      "\r",
      "┣█████████████████▍  ┫ [86.94%, 193/222, 11:38/13:22, 3.23s/i] "
     ]
    },
    {
     "name": "stdout",
     "output_type": "stream",
     "text": [
      "R(37.94206)\n"
     ]
    },
    {
     "name": "stderr",
     "output_type": "stream",
     "text": [
      "\r",
      "┣█████████████████▍  ┫ [87.39%, 194/222, 11:42/13:23, 4.51s/i] "
     ]
    },
    {
     "name": "stdout",
     "output_type": "stream",
     "text": [
      "R(5.659128)\n"
     ]
    },
    {
     "name": "stderr",
     "output_type": "stream",
     "text": [
      "\r",
      "┣█████████████████▌  ┫ [87.84%, 195/222, 11:45/13:22, 2.63s/i] "
     ]
    },
    {
     "name": "stdout",
     "output_type": "stream",
     "text": [
      "R(38.264175)\n"
     ]
    },
    {
     "name": "stderr",
     "output_type": "stream",
     "text": [
      "\r",
      "┣█████████████████▋  ┫ [88.29%, 196/222, 11:49/13:23, 3.90s/i] "
     ]
    },
    {
     "name": "stdout",
     "output_type": "stream",
     "text": [
      "R(23.977776)\n"
     ]
    },
    {
     "name": "stderr",
     "output_type": "stream",
     "text": [
      "\r",
      "┣█████████████████▋  ┫ [88.74%, 197/222, 11:52/13:23, 3.48s/i] "
     ]
    },
    {
     "name": "stdout",
     "output_type": "stream",
     "text": [
      "R(35.546104)\n"
     ]
    },
    {
     "name": "stderr",
     "output_type": "stream",
     "text": [
      "\r",
      "┣█████████████████▊  ┫ [89.19%, 198/222, 11:56/13:22, 3.42s/i] "
     ]
    },
    {
     "name": "stdout",
     "output_type": "stream",
     "text": [
      "R(17.95981)\n"
     ]
    },
    {
     "name": "stderr",
     "output_type": "stream",
     "text": [
      "\r",
      "┣█████████████████▉  ┫ [89.64%, 199/222, 12:01/13:24, 4.96s/i] "
     ]
    },
    {
     "name": "stdout",
     "output_type": "stream",
     "text": [
      "R(10.454072)\n"
     ]
    },
    {
     "name": "stderr",
     "output_type": "stream",
     "text": [
      "\r",
      "┣██████████████████  ┫ [90.09%, 200/222, 12:04/13:23, 3.03s/i] "
     ]
    },
    {
     "name": "stdout",
     "output_type": "stream",
     "text": [
      "R(4.1564455)\n"
     ]
    },
    {
     "name": "stderr",
     "output_type": "stream",
     "text": [
      "\r",
      "┣██████████████████  ┫ [90.54%, 201/222, 12:06/13:22, 2.66s/i] "
     ]
    },
    {
     "name": "stdout",
     "output_type": "stream",
     "text": [
      "R(6.9197955)\n"
     ]
    },
    {
     "name": "stderr",
     "output_type": "stream",
     "text": [
      "\r",
      "┣██████████████████▏ ┫ [90.99%, 202/222, 12:09/13:21, 2.99s/i] "
     ]
    },
    {
     "name": "stdout",
     "output_type": "stream",
     "text": [
      "R(11.0175)\n"
     ]
    },
    {
     "name": "stderr",
     "output_type": "stream",
     "text": [
      "\r",
      "┣██████████████████▎ ┫ [91.44%, 203/222, 12:14/13:22, 4.35s/i] "
     ]
    },
    {
     "name": "stdout",
     "output_type": "stream",
     "text": [
      "R(6.42699)\n"
     ]
    },
    {
     "name": "stderr",
     "output_type": "stream",
     "text": [
      "\r",
      "┣██████████████████▍ ┫ [91.89%, 204/222, 12:17/13:22, 3.15s/i] "
     ]
    },
    {
     "name": "stdout",
     "output_type": "stream",
     "text": [
      "R(9.28562)\n"
     ]
    },
    {
     "name": "stderr",
     "output_type": "stream",
     "text": [
      "\r",
      "┣██████████████████▍ ┫ [92.34%, 205/222, 12:20/13:21, 2.79s/i] "
     ]
    },
    {
     "name": "stdout",
     "output_type": "stream",
     "text": [
      "R(6.742693)\n"
     ]
    },
    {
     "name": "stderr",
     "output_type": "stream",
     "text": [
      "\r",
      "┣██████████████████▌ ┫ [92.79%, 206/222, 12:22/13:20, 2.89s/i] "
     ]
    },
    {
     "name": "stdout",
     "output_type": "stream",
     "text": [
      "R(18.613716)\n"
     ]
    },
    {
     "name": "stderr",
     "output_type": "stream",
     "text": [
      "\r",
      "┣██████████████████▋ ┫ [93.24%, 207/222, 12:26/13:20, 3.32s/i] "
     ]
    },
    {
     "name": "stdout",
     "output_type": "stream",
     "text": [
      "R(33.068417)\n"
     ]
    },
    {
     "name": "stderr",
     "output_type": "stream",
     "text": [
      "\r",
      "┣██████████████████▋ ┫ [93.69%, 208/222, 12:31/13:22, 5.54s/i] "
     ]
    },
    {
     "name": "stdout",
     "output_type": "stream",
     "text": [
      "R(7.907603)\n"
     ]
    },
    {
     "name": "stderr",
     "output_type": "stream",
     "text": [
      "\r",
      "┣██████████████████▊ ┫ [94.14%, 209/222, 12:34/13:21, 3.00s/i] "
     ]
    },
    {
     "name": "stdout",
     "output_type": "stream",
     "text": [
      "R(4.067688)\n"
     ]
    },
    {
     "name": "stderr",
     "output_type": "stream",
     "text": [
      "\r",
      "┣██████████████████▉ ┫ [94.59%, 210/222, 12:37/13:20, 2.83s/i] "
     ]
    },
    {
     "name": "stdout",
     "output_type": "stream",
     "text": [
      "R(22.902897)\n"
     ]
    },
    {
     "name": "stderr",
     "output_type": "stream",
     "text": [
      "\r",
      "┣███████████████████ ┫ [95.05%, 211/222, 12:40/13:20, 3.38s/i] "
     ]
    },
    {
     "name": "stdout",
     "output_type": "stream",
     "text": [
      "R(5.393353)\n"
     ]
    },
    {
     "name": "stderr",
     "output_type": "stream",
     "text": [
      "\r",
      "┣███████████████████ ┫ [95.50%, 212/222, 12:45/13:21, 4.18s/i] "
     ]
    },
    {
     "name": "stdout",
     "output_type": "stream",
     "text": [
      "R(38.604332)\n"
     ]
    },
    {
     "name": "stderr",
     "output_type": "stream",
     "text": [
      "\r",
      "┣███████████████████▏┫ [95.95%, 213/222, 12:48/13:21, 3.73s/i] "
     ]
    },
    {
     "name": "stdout",
     "output_type": "stream",
     "text": [
      "R(29.546455)\n"
     ]
    },
    {
     "name": "stderr",
     "output_type": "stream",
     "text": [
      "\r",
      "┣███████████████████▎┫ [96.40%, 214/222, 12:52/13:21, 3.35s/i] "
     ]
    },
    {
     "name": "stdout",
     "output_type": "stream",
     "text": [
      "R(13.852486)\n"
     ]
    },
    {
     "name": "stderr",
     "output_type": "stream",
     "text": [
      "\r",
      "┣███████████████████▎┫ [96.85%, 215/222, 12:55/13:20, 3.42s/i] "
     ]
    },
    {
     "name": "stdout",
     "output_type": "stream",
     "text": [
      "R(36.600014)\n"
     ]
    },
    {
     "name": "stderr",
     "output_type": "stream",
     "text": [
      "\r",
      "┣███████████████████▍┫ [97.30%, 216/222, 12:59/13:21, 3.76s/i] "
     ]
    },
    {
     "name": "stdout",
     "output_type": "stream",
     "text": [
      "R(8.9365835)\n"
     ]
    },
    {
     "name": "stderr",
     "output_type": "stream",
     "text": [
      "\r",
      "┣███████████████████▌┫ [97.75%, 217/222, 13:03/13:21, 4.56s/i] "
     ]
    },
    {
     "name": "stdout",
     "output_type": "stream",
     "text": [
      "R(6.719856)\n"
     ]
    },
    {
     "name": "stderr",
     "output_type": "stream",
     "text": [
      "\r",
      "┣███████████████████▋┫ [98.20%, 218/222, 13:07/13:21, 3.14s/i] "
     ]
    },
    {
     "name": "stdout",
     "output_type": "stream",
     "text": [
      "R(15.317542)\n"
     ]
    },
    {
     "name": "stderr",
     "output_type": "stream",
     "text": [
      "\r",
      "┣███████████████████▋┫ [98.65%, 219/222, 13:10/13:21, 3.19s/i] "
     ]
    },
    {
     "name": "stdout",
     "output_type": "stream",
     "text": [
      "R(11.722092)\n"
     ]
    },
    {
     "name": "stderr",
     "output_type": "stream",
     "text": [
      "\r",
      "┣███████████████████▊┫ [99.10%, 220/222, 13:13/13:21, 3.56s/i] "
     ]
    },
    {
     "name": "stdout",
     "output_type": "stream",
     "text": [
      "R(20.717165)\n"
     ]
    },
    {
     "name": "stderr",
     "output_type": "stream",
     "text": [
      "\r",
      "┣███████████████████▉┫ [99.55%, 221/222, 13:18/13:21, 4.54s/i] "
     ]
    },
    {
     "name": "stdout",
     "output_type": "stream",
     "text": [
      "R(11.067798)\n"
     ]
    },
    {
     "name": "stderr",
     "output_type": "stream",
     "text": [
      "┣████████████████████┫ [100.00%, 222/222, 13:21/13:21, 3.61s/i] \n"
     ]
    },
    {
     "name": "stdout",
     "output_type": "stream",
     "text": [
      "R(6.6965747)\n"
     ]
    },
    {
     "name": "stderr",
     "output_type": "stream",
     "text": [
      "\r",
      "┣                    ┫ [0.45%, 1/222, 00:03/10:57, 2.96s/i] "
     ]
    },
    {
     "name": "stdout",
     "output_type": "stream",
     "text": [
      "R(4.5376067)\n"
     ]
    },
    {
     "name": "stderr",
     "output_type": "stream",
     "text": [
      "\r",
      "┣▏                   ┫ [0.90%, 2/222, 00:06/10:39, 2.80s/i] "
     ]
    },
    {
     "name": "stdout",
     "output_type": "stream",
     "text": [
      "R(3.2391336)\n"
     ]
    },
    {
     "name": "stderr",
     "output_type": "stream",
     "text": [
      "\r",
      "┣▎                   ┫ [1.35%, 3/222, 00:09/10:37, 2.85s/i] "
     ]
    },
    {
     "name": "stdout",
     "output_type": "stream",
     "text": [
      "R(5.8651156)\n"
     ]
    },
    {
     "name": "stderr",
     "output_type": "stream",
     "text": [
      "\r",
      "┣▎                   ┫ [1.80%, 4/222, 00:13/12:12, 4.58s/i] "
     ]
    },
    {
     "name": "stdout",
     "output_type": "stream",
     "text": [
      "R(8.529238)\n"
     ]
    },
    {
     "name": "stderr",
     "output_type": "stream",
     "text": [
      "\r",
      "┣▍                   ┫ [2.25%, 5/222, 00:17/12:13, 3.33s/i] "
     ]
    },
    {
     "name": "stdout",
     "output_type": "stream",
     "text": [
      "R(12.641612)\n"
     ]
    },
    {
     "name": "stderr",
     "output_type": "stream",
     "text": [
      "\r",
      "┣▌                   ┫ [2.70%, 6/222, 00:20/12:05, 3.09s/i] "
     ]
    },
    {
     "name": "stdout",
     "output_type": "stream",
     "text": [
      "R(10.082805)\n"
     ]
    },
    {
     "name": "stderr",
     "output_type": "stream",
     "text": [
      "\r",
      "┣▋                   ┫ [3.15%, 7/222, 00:23/12:06, 3.29s/i] "
     ]
    },
    {
     "name": "stdout",
     "output_type": "stream",
     "text": [
      "R(3.92833)\n"
     ]
    },
    {
     "name": "stderr",
     "output_type": "stream",
     "text": [
      "\r",
      "┣▋                   ┫ [3.60%, 8/222, 00:27/12:35, 4.32s/i] "
     ]
    },
    {
     "name": "stdout",
     "output_type": "stream",
     "text": [
      "R(11.187581)\n"
     ]
    },
    {
     "name": "stderr",
     "output_type": "stream",
     "text": [
      "\r",
      "┣▊                   ┫ [4.05%, 9/222, 00:30/12:30, 3.18s/i] "
     ]
    },
    {
     "name": "stdout",
     "output_type": "stream",
     "text": [
      "R(8.0931015)\n"
     ]
    },
    {
     "name": "stderr",
     "output_type": "stream",
     "text": [
      "\r",
      "┣▉                   ┫ [4.50%, 10/222, 00:33/12:23, 3.09s/i] "
     ]
    },
    {
     "name": "stdout",
     "output_type": "stream",
     "text": [
      "R(4.630004)\n"
     ]
    },
    {
     "name": "stderr",
     "output_type": "stream",
     "text": [
      "\r",
      "┣▉                   ┫ [4.95%, 11/222, 00:36/12:12, 2.79s/i] "
     ]
    },
    {
     "name": "stdout",
     "output_type": "stream",
     "text": [
      "R(2.700363)\n"
     ]
    },
    {
     "name": "stderr",
     "output_type": "stream",
     "text": [
      "\r",
      "┣█                   ┫ [5.41%, 12/222, 00:39/12:04, 2.87s/i] "
     ]
    },
    {
     "name": "stdout",
     "output_type": "stream",
     "text": [
      "R(14.372756)\n"
     ]
    },
    {
     "name": "stderr",
     "output_type": "stream",
     "text": [
      "\r",
      "┣█▏                  ┫ [5.86%, 13/222, 00:44/12:33, 4.97s/i] "
     ]
    },
    {
     "name": "stdout",
     "output_type": "stream",
     "text": [
      "R(35.38239)\n"
     ]
    },
    {
     "name": "stderr",
     "output_type": "stream",
     "text": [
      "\r",
      "┣█▎                  ┫ [6.31%, 14/222, 00:48/12:37, 3.62s/i] "
     ]
    },
    {
     "name": "stdout",
     "output_type": "stream",
     "text": [
      "R(24.826868)\n"
     ]
    },
    {
     "name": "stderr",
     "output_type": "stream",
     "text": [
      "\r",
      "┣█▎                  ┫ [6.76%, 15/222, 00:51/12:37, 3.39s/i] "
     ]
    },
    {
     "name": "stdout",
     "output_type": "stream",
     "text": [
      "R(21.264029)\n"
     ]
    },
    {
     "name": "stderr",
     "output_type": "stream",
     "text": [
      "\r",
      "┣█▍                  ┫ [7.21%, 16/222, 00:55/12:40, 3.68s/i] "
     ]
    },
    {
     "name": "stdout",
     "output_type": "stream",
     "text": [
      "R(10.899023)\n"
     ]
    },
    {
     "name": "stderr",
     "output_type": "stream",
     "text": [
      "\r",
      "┣█▌                  ┫ [7.66%, 17/222, 00:59/12:55, 4.53s/i] "
     ]
    },
    {
     "name": "stdout",
     "output_type": "stream",
     "text": [
      "R(3.9225187)\n"
     ]
    },
    {
     "name": "stderr",
     "output_type": "stream",
     "text": [
      "\r",
      "┣█▌                  ┫ [8.11%, 18/222, 01:02/12:47, 2.85s/i] "
     ]
    },
    {
     "name": "stdout",
     "output_type": "stream",
     "text": [
      "R(17.554642)\n"
     ]
    },
    {
     "name": "stderr",
     "output_type": "stream",
     "text": [
      "\r",
      "┣█▋                  ┫ [8.56%, 19/222, 01:06/12:45, 3.32s/i] "
     ]
    },
    {
     "name": "stdout",
     "output_type": "stream",
     "text": [
      "R(5.6186)\n"
     ]
    },
    {
     "name": "stderr",
     "output_type": "stream",
     "text": [
      "\r",
      "┣█▊                  ┫ [9.01%, 20/222, 01:08/12:40, 2.96s/i] "
     ]
    },
    {
     "name": "stdout",
     "output_type": "stream",
     "text": [
      "R(8.007251)\n"
     ]
    },
    {
     "name": "stderr",
     "output_type": "stream",
     "text": [
      "\r",
      "┣█▉                  ┫ [9.46%, 21/222, 01:11/12:34, 2.91s/i] "
     ]
    },
    {
     "name": "stdout",
     "output_type": "stream",
     "text": [
      "R(2.3386426)\n"
     ]
    },
    {
     "name": "stderr",
     "output_type": "stream",
     "text": [
      "\r",
      "┣█▉                  ┫ [9.91%, 22/222, 01:14/12:27, 2.69s/i] "
     ]
    },
    {
     "name": "stdout",
     "output_type": "stream",
     "text": [
      "R(16.280725)\n"
     ]
    },
    {
     "name": "stderr",
     "output_type": "stream",
     "text": [
      "\r",
      "┣██                  ┫ [10.36%, 23/222, 01:19/12:40, 4.68s/i] "
     ]
    },
    {
     "name": "stdout",
     "output_type": "stream",
     "text": [
      "R(7.210348)\n"
     ]
    },
    {
     "name": "stderr",
     "output_type": "stream",
     "text": [
      "\r",
      "┣██▏                 ┫ [10.81%, 24/222, 01:22/12:36, 2.98s/i] "
     ]
    },
    {
     "name": "stdout",
     "output_type": "stream",
     "text": [
      "R(2.1412725)\n"
     ]
    },
    {
     "name": "stderr",
     "output_type": "stream",
     "text": [
      "\r",
      "┣██▎                 ┫ [11.26%, 25/222, 01:25/12:31, 2.80s/i] "
     ]
    },
    {
     "name": "stdout",
     "output_type": "stream",
     "text": [
      "R(8.592273)\n"
     ]
    },
    {
     "name": "stderr",
     "output_type": "stream",
     "text": [
      "\r",
      "┣██▎                 ┫ [11.71%, 26/222, 01:28/12:28, 3.12s/i] "
     ]
    },
    {
     "name": "stdout",
     "output_type": "stream",
     "text": [
      "R(5.2055783)\n"
     ]
    },
    {
     "name": "stderr",
     "output_type": "stream",
     "text": [
      "\r",
      "┣██▍                 ┫ [12.16%, 27/222, 01:32/12:37, 4.42s/i] "
     ]
    },
    {
     "name": "stdout",
     "output_type": "stream",
     "text": [
      "R(15.904354)\n"
     ]
    },
    {
     "name": "stderr",
     "output_type": "stream",
     "text": [
      "\r",
      "┣██▌                 ┫ [12.61%, 28/222, 01:35/12:36, 3.31s/i] "
     ]
    },
    {
     "name": "stdout",
     "output_type": "stream",
     "text": [
      "R(8.091514)\n"
     ]
    },
    {
     "name": "stderr",
     "output_type": "stream",
     "text": [
      "\r",
      "┣██▌                 ┫ [13.06%, 29/222, 01:39/12:34, 3.14s/i] "
     ]
    },
    {
     "name": "stdout",
     "output_type": "stream",
     "text": [
      "R(32.284126)\n"
     ]
    },
    {
     "name": "stderr",
     "output_type": "stream",
     "text": [
      "\r",
      "┣██▋                 ┫ [13.51%, 30/222, 01:43/12:41, 4.36s/i] "
     ]
    },
    {
     "name": "stdout",
     "output_type": "stream",
     "text": [
      "R(4.104255)\n"
     ]
    },
    {
     "name": "stderr",
     "output_type": "stream",
     "text": [
      "\r",
      "┣██▊                 ┫ [13.96%, 31/222, 01:45/12:35, 2.57s/i] "
     ]
    },
    {
     "name": "stdout",
     "output_type": "stream",
     "text": [
      "R(8.651721)\n"
     ]
    },
    {
     "name": "stderr",
     "output_type": "stream",
     "text": [
      "\r",
      "┣██▉                 ┫ [14.41%, 32/222, 01:50/12:43, 4.56s/i] "
     ]
    },
    {
     "name": "stdout",
     "output_type": "stream",
     "text": [
      "R(18.438232)\n"
     ]
    },
    {
     "name": "stderr",
     "output_type": "stream",
     "text": [
      "\r",
      "┣██▉                 ┫ [14.86%, 33/222, 01:53/12:42, 3.33s/i] "
     ]
    },
    {
     "name": "stdout",
     "output_type": "stream",
     "text": [
      "R(8.285999)\n"
     ]
    },
    {
     "name": "stderr",
     "output_type": "stream",
     "text": [
      "\r",
      "┣███                 ┫ [15.32%, 34/222, 01:56/12:41, 3.15s/i] "
     ]
    },
    {
     "name": "stdout",
     "output_type": "stream",
     "text": [
      "R(32.43676)\n"
     ]
    },
    {
     "name": "stderr",
     "output_type": "stream",
     "text": [
      "\r",
      "┣███▏                ┫ [15.77%, 35/222, 02:00/12:42, 3.71s/i] "
     ]
    },
    {
     "name": "stdout",
     "output_type": "stream",
     "text": [
      "R(62.360428)\n"
     ]
    },
    {
     "name": "stderr",
     "output_type": "stream",
     "text": [
      "\r",
      "┣███▏                ┫ [16.22%, 36/222, 02:05/12:53, 5.18s/i] "
     ]
    },
    {
     "name": "stdout",
     "output_type": "stream",
     "text": [
      "R(6.201467)\n"
     ]
    },
    {
     "name": "stderr",
     "output_type": "stream",
     "text": [
      "\r",
      "┣███▎                ┫ [16.67%, 37/222, 02:08/12:49, 2.83s/i] "
     ]
    },
    {
     "name": "stdout",
     "output_type": "stream",
     "text": [
      "R(27.858)\n"
     ]
    },
    {
     "name": "stderr",
     "output_type": "stream",
     "text": [
      "\r",
      "┣███▍                ┫ [17.12%, 38/222, 02:12/12:49, 3.48s/i] "
     ]
    },
    {
     "name": "stdout",
     "output_type": "stream",
     "text": [
      "R(3.9982443)\n"
     ]
    },
    {
     "name": "stderr",
     "output_type": "stream",
     "text": [
      "\r",
      "┣███▌                ┫ [17.57%, 39/222, 02:15/12:46, 2.87s/i] "
     ]
    },
    {
     "name": "stdout",
     "output_type": "stream",
     "text": [
      "R(11.241524)\n"
     ]
    },
    {
     "name": "stderr",
     "output_type": "stream",
     "text": [
      "\r",
      "┣███▌                ┫ [18.02%, 40/222, 02:18/12:46, 3.41s/i] "
     ]
    },
    {
     "name": "stdout",
     "output_type": "stream",
     "text": [
      "R(14.907054)\n"
     ]
    },
    {
     "name": "stderr",
     "output_type": "stream",
     "text": [
      "\r",
      "┣███▋                ┫ [18.47%, 41/222, 02:23/12:52, 4.60s/i] "
     ]
    },
    {
     "name": "stdout",
     "output_type": "stream",
     "text": [
      "R(23.586643)\n"
     ]
    },
    {
     "name": "stderr",
     "output_type": "stream",
     "text": [
      "\r",
      "┣███▊                ┫ [18.92%, 42/222, 02:26/12:51, 3.39s/i] "
     ]
    },
    {
     "name": "stdout",
     "output_type": "stream",
     "text": [
      "R(6.518808)\n"
     ]
    },
    {
     "name": "stderr",
     "output_type": "stream",
     "text": [
      "\r",
      "┣███▊                ┫ [19.37%, 43/222, 02:29/12:48, 2.89s/i] "
     ]
    },
    {
     "name": "stdout",
     "output_type": "stream",
     "text": [
      "R(25.376505)\n"
     ]
    },
    {
     "name": "stderr",
     "output_type": "stream",
     "text": [
      "\r",
      "┣███▉                ┫ [19.82%, 44/222, 02:33/12:51, 4.00s/i] "
     ]
    },
    {
     "name": "stdout",
     "output_type": "stream",
     "text": [
      "R(4.395887)\n"
     ]
    },
    {
     "name": "stderr",
     "output_type": "stream",
     "text": [
      "\r",
      "┣████                ┫ [20.27%, 45/222, 02:37/12:55, 4.19s/i] "
     ]
    },
    {
     "name": "stdout",
     "output_type": "stream",
     "text": [
      "R(13.788452)\n"
     ]
    },
    {
     "name": "stderr",
     "output_type": "stream",
     "text": [
      "\r",
      "┣████▏               ┫ [20.72%, 46/222, 02:40/12:53, 3.11s/i] "
     ]
    },
    {
     "name": "stdout",
     "output_type": "stream",
     "text": [
      "R(31.14483)\n"
     ]
    },
    {
     "name": "stderr",
     "output_type": "stream",
     "text": [
      "\r",
      "┣████▏               ┫ [21.17%, 47/222, 02:44/12:55, 3.86s/i] "
     ]
    },
    {
     "name": "stdout",
     "output_type": "stream",
     "text": [
      "R(11.558693)\n"
     ]
    },
    {
     "name": "stderr",
     "output_type": "stream",
     "text": [
      "\r",
      "┣████▎               ┫ [21.62%, 48/222, 02:47/12:53, 3.10s/i] "
     ]
    },
    {
     "name": "stdout",
     "output_type": "stream",
     "text": [
      "R(20.281345)\n"
     ]
    },
    {
     "name": "stderr",
     "output_type": "stream",
     "text": [
      "\r",
      "┣████▍               ┫ [22.07%, 49/222, 02:51/12:53, 3.51s/i] "
     ]
    },
    {
     "name": "stdout",
     "output_type": "stream",
     "text": [
      "R(8.4717455)\n"
     ]
    },
    {
     "name": "stderr",
     "output_type": "stream",
     "text": [
      "\r",
      "┣████▌               ┫ [22.52%, 50/222, 02:55/12:58, 4.57s/i] "
     ]
    },
    {
     "name": "stdout",
     "output_type": "stream",
     "text": [
      "R(12.133769)\n"
     ]
    },
    {
     "name": "stderr",
     "output_type": "stream",
     "text": [
      "\r",
      "┣████▌               ┫ [22.97%, 51/222, 02:59/12:57, 3.44s/i] "
     ]
    },
    {
     "name": "stdout",
     "output_type": "stream",
     "text": [
      "R(5.475998)\n"
     ]
    },
    {
     "name": "stderr",
     "output_type": "stream",
     "text": [
      "\r",
      "┣████▋               ┫ [23.42%, 52/222, 03:01/12:55, 2.86s/i] "
     ]
    },
    {
     "name": "stdout",
     "output_type": "stream",
     "text": [
      "R(7.984482)\n"
     ]
    },
    {
     "name": "stderr",
     "output_type": "stream",
     "text": [
      "\r",
      "┣████▊               ┫ [23.87%, 53/222, 03:05/12:53, 3.04s/i] "
     ]
    },
    {
     "name": "stdout",
     "output_type": "stream",
     "text": [
      "R(3.8345692)\n"
     ]
    },
    {
     "name": "stderr",
     "output_type": "stream",
     "text": [
      "\r",
      "┣████▊               ┫ [24.32%, 54/222, 03:09/12:56, 4.17s/i] "
     ]
    },
    {
     "name": "stdout",
     "output_type": "stream",
     "text": [
      "R(3.054825)\n"
     ]
    },
    {
     "name": "stderr",
     "output_type": "stream",
     "text": [
      "\r",
      "┣████▉               ┫ [24.77%, 55/222, 03:11/12:53, 2.83s/i] "
     ]
    },
    {
     "name": "stdout",
     "output_type": "stream",
     "text": [
      "R(15.064452)\n"
     ]
    },
    {
     "name": "stderr",
     "output_type": "stream",
     "text": [
      "\r",
      "┣█████               ┫ [25.23%, 56/222, 03:15/12:52, 3.17s/i] "
     ]
    },
    {
     "name": "stdout",
     "output_type": "stream",
     "text": [
      "R(13.359441)\n"
     ]
    },
    {
     "name": "stderr",
     "output_type": "stream",
     "text": [
      "\r",
      "┣█████▏              ┫ [25.68%, 57/222, 03:18/12:50, 3.07s/i] "
     ]
    },
    {
     "name": "stdout",
     "output_type": "stream",
     "text": [
      "R(24.558594)\n"
     ]
    },
    {
     "name": "stderr",
     "output_type": "stream",
     "text": [
      "\r",
      "┣█████▏              ┫ [26.13%, 58/222, 03:21/12:51, 3.66s/i] "
     ]
    },
    {
     "name": "stdout",
     "output_type": "stream",
     "text": [
      "R(4.238107)\n"
     ]
    },
    {
     "name": "stderr",
     "output_type": "stream",
     "text": [
      "\r",
      "┣█████▎              ┫ [26.58%, 59/222, 03:26/12:54, 4.29s/i] "
     ]
    },
    {
     "name": "stdout",
     "output_type": "stream",
     "text": [
      "R(37.93532)\n"
     ]
    },
    {
     "name": "stderr",
     "output_type": "stream",
     "text": [
      "\r",
      "┣█████▍              ┫ [27.03%, 60/222, 03:29/12:55, 3.67s/i] "
     ]
    },
    {
     "name": "stdout",
     "output_type": "stream",
     "text": [
      "R(9.69915)\n"
     ]
    },
    {
     "name": "stderr",
     "output_type": "stream",
     "text": [
      "\r",
      "┣█████▍              ┫ [27.48%, 61/222, 03:33/12:54, 3.25s/i] "
     ]
    },
    {
     "name": "stdout",
     "output_type": "stream",
     "text": [
      "R(7.821198)\n"
     ]
    },
    {
     "name": "stderr",
     "output_type": "stream",
     "text": [
      "\r",
      "┣█████▌              ┫ [27.93%, 62/222, 03:36/12:53, 3.16s/i] "
     ]
    },
    {
     "name": "stdout",
     "output_type": "stream",
     "text": [
      "R(9.832059)\n"
     ]
    },
    {
     "name": "stderr",
     "output_type": "stream",
     "text": [
      "\r",
      "┣█████▋              ┫ [28.38%, 63/222, 03:40/12:56, 4.37s/i] "
     ]
    },
    {
     "name": "stdout",
     "output_type": "stream",
     "text": [
      "R(21.052238)\n"
     ]
    },
    {
     "name": "stderr",
     "output_type": "stream",
     "text": [
      "\r",
      "┣█████▊              ┫ [28.83%, 64/222, 03:44/12:56, 3.43s/i] "
     ]
    },
    {
     "name": "stdout",
     "output_type": "stream",
     "text": [
      "R(20.222452)\n"
     ]
    },
    {
     "name": "stderr",
     "output_type": "stream",
     "text": [
      "\r",
      "┣█████▊              ┫ [29.28%, 65/222, 03:47/12:56, 3.54s/i] "
     ]
    },
    {
     "name": "stdout",
     "output_type": "stream",
     "text": [
      "R(3.4574606)\n"
     ]
    },
    {
     "name": "stderr",
     "output_type": "stream",
     "text": [
      "\r",
      "┣█████▉              ┫ [29.73%, 66/222, 03:50/12:54, 3.07s/i] "
     ]
    },
    {
     "name": "stdout",
     "output_type": "stream",
     "text": [
      "R(3.5237086)\n"
     ]
    },
    {
     "name": "stderr",
     "output_type": "stream",
     "text": [
      "\r",
      "┣██████              ┫ [30.18%, 67/222, 03:53/12:53, 3.02s/i] "
     ]
    },
    {
     "name": "stdout",
     "output_type": "stream",
     "text": [
      "R(7.769324)\n"
     ]
    },
    {
     "name": "stderr",
     "output_type": "stream",
     "text": [
      "\r",
      "┣██████▏             ┫ [30.63%, 68/222, 03:58/12:57, 4.74s/i] "
     ]
    },
    {
     "name": "stdout",
     "output_type": "stream",
     "text": [
      "R(4.889603)\n"
     ]
    },
    {
     "name": "stderr",
     "output_type": "stream",
     "text": [
      "\r",
      "┣██████▏             ┫ [31.08%, 69/222, 04:01/12:55, 2.93s/i] "
     ]
    },
    {
     "name": "stdout",
     "output_type": "stream",
     "text": [
      "R(7.4227962)\n"
     ]
    },
    {
     "name": "stderr",
     "output_type": "stream",
     "text": [
      "\r",
      "┣██████▎             ┫ [31.53%, 70/222, 04:04/12:53, 2.77s/i] "
     ]
    },
    {
     "name": "stdout",
     "output_type": "stream",
     "text": [
      "R(6.2951326)\n"
     ]
    },
    {
     "name": "stderr",
     "output_type": "stream",
     "text": [
      "\r",
      "┣██████▍             ┫ [31.98%, 71/222, 04:07/12:51, 3.07s/i] "
     ]
    },
    {
     "name": "stdout",
     "output_type": "stream",
     "text": [
      "R(7.363997)\n"
     ]
    },
    {
     "name": "stderr",
     "output_type": "stream",
     "text": [
      "\r",
      "┣██████▍             ┫ [32.43%, 72/222, 04:11/12:54, 4.46s/i] "
     ]
    },
    {
     "name": "stdout",
     "output_type": "stream",
     "text": [
      "R(38.568935)\n"
     ]
    },
    {
     "name": "stderr",
     "output_type": "stream",
     "text": [
      "\r",
      "┣██████▌             ┫ [32.88%, 73/222, 04:15/12:56, 3.86s/i] "
     ]
    },
    {
     "name": "stdout",
     "output_type": "stream",
     "text": [
      "R(4.700697)\n"
     ]
    },
    {
     "name": "stderr",
     "output_type": "stream",
     "text": [
      "\r",
      "┣██████▋             ┫ [33.33%, 74/222, 04:18/12:54, 3.01s/i] "
     ]
    },
    {
     "name": "stdout",
     "output_type": "stream",
     "text": [
      "R(8.29651)\n"
     ]
    },
    {
     "name": "stderr",
     "output_type": "stream",
     "text": [
      "\r",
      "┣██████▊             ┫ [33.78%, 75/222, 04:21/12:53, 3.00s/i] "
     ]
    },
    {
     "name": "stdout",
     "output_type": "stream",
     "text": [
      "R(13.287577)\n"
     ]
    },
    {
     "name": "stderr",
     "output_type": "stream",
     "text": [
      "\r",
      "┣██████▊             ┫ [34.23%, 76/222, 04:24/12:52, 3.27s/i] "
     ]
    },
    {
     "name": "stdout",
     "output_type": "stream",
     "text": [
      "R(21.87983)\n"
     ]
    },
    {
     "name": "stderr",
     "output_type": "stream",
     "text": [
      "\r",
      "┣██████▉             ┫ [34.68%, 77/222, 04:30/12:57, 5.18s/i] "
     ]
    },
    {
     "name": "stdout",
     "output_type": "stream",
     "text": [
      "R(26.25486)\n"
     ]
    },
    {
     "name": "stderr",
     "output_type": "stream",
     "text": [
      "\r",
      "┣███████             ┫ [35.14%, 78/222, 04:33/12:57, 3.46s/i] "
     ]
    },
    {
     "name": "stdout",
     "output_type": "stream",
     "text": [
      "R(3.0246406)\n"
     ]
    },
    {
     "name": "stderr",
     "output_type": "stream",
     "text": [
      "\r",
      "┣███████             ┫ [35.59%, 79/222, 04:36/12:55, 2.75s/i] "
     ]
    },
    {
     "name": "stdout",
     "output_type": "stream",
     "text": [
      "R(6.9230113)\n"
     ]
    },
    {
     "name": "stderr",
     "output_type": "stream",
     "text": [
      "\r",
      "┣███████▏            ┫ [36.04%, 80/222, 04:39/12:53, 2.92s/i] "
     ]
    },
    {
     "name": "stdout",
     "output_type": "stream",
     "text": [
      "R(20.492996)\n"
     ]
    },
    {
     "name": "stderr",
     "output_type": "stream",
     "text": [
      "\r",
      "┣███████▎            ┫ [36.49%, 81/222, 04:43/12:57, 4.76s/i] "
     ]
    },
    {
     "name": "stdout",
     "output_type": "stream",
     "text": [
      "R(18.85352)\n"
     ]
    },
    {
     "name": "stderr",
     "output_type": "stream",
     "text": [
      "\r",
      "┣███████▍            ┫ [36.94%, 82/222, 04:47/12:57, 3.48s/i] "
     ]
    },
    {
     "name": "stdout",
     "output_type": "stream",
     "text": [
      "R(6.231031)\n"
     ]
    },
    {
     "name": "stderr",
     "output_type": "stream",
     "text": [
      "\r",
      "┣███████▍            ┫ [37.39%, 83/222, 04:50/12:56, 3.12s/i] "
     ]
    },
    {
     "name": "stdout",
     "output_type": "stream",
     "text": [
      "R(11.179333)\n"
     ]
    },
    {
     "name": "stderr",
     "output_type": "stream",
     "text": [
      "\r",
      "┣███████▌            ┫ [37.84%, 84/222, 04:53/12:55, 3.35s/i] "
     ]
    },
    {
     "name": "stdout",
     "output_type": "stream",
     "text": [
      "R(86.1405)\n"
     ]
    },
    {
     "name": "stderr",
     "output_type": "stream",
     "text": [
      "\r",
      "┣███████▋            ┫ [38.29%, 85/222, 05:01/13:05, 7.29s/i] "
     ]
    },
    {
     "name": "stdout",
     "output_type": "stream",
     "text": [
      "R(37.214077)\n"
     ]
    },
    {
     "name": "stderr",
     "output_type": "stream",
     "text": [
      "\r",
      "┣███████▋            ┫ [38.74%, 86/222, 05:04/13:06, 3.80s/i] "
     ]
    },
    {
     "name": "stdout",
     "output_type": "stream",
     "text": [
      "R(5.38079)\n"
     ]
    },
    {
     "name": "stderr",
     "output_type": "stream",
     "text": [
      "\r",
      "┣███████▊            ┫ [39.19%, 87/222, 05:07/13:04, 2.88s/i] "
     ]
    },
    {
     "name": "stdout",
     "output_type": "stream",
     "text": [
      "R(20.52098)\n"
     ]
    },
    {
     "name": "stderr",
     "output_type": "stream",
     "text": [
      "\r",
      "┣███████▉            ┫ [39.64%, 88/222, 05:11/13:03, 3.23s/i] "
     ]
    },
    {
     "name": "stdout",
     "output_type": "stream",
     "text": [
      "R(5.8061323)\n"
     ]
    },
    {
     "name": "stderr",
     "output_type": "stream",
     "text": [
      "\r",
      "┣████████            ┫ [40.09%, 89/222, 05:15/13:05, 4.28s/i] "
     ]
    },
    {
     "name": "stdout",
     "output_type": "stream",
     "text": [
      "R(10.344715)\n"
     ]
    },
    {
     "name": "stderr",
     "output_type": "stream",
     "text": [
      "\r",
      "┣████████            ┫ [40.54%, 90/222, 05:18/13:05, 3.26s/i] "
     ]
    },
    {
     "name": "stdout",
     "output_type": "stream",
     "text": [
      "R(30.319708)\n"
     ]
    },
    {
     "name": "stderr",
     "output_type": "stream",
     "text": [
      "\r",
      "┣████████▏           ┫ [40.99%, 91/222, 05:22/13:05, 3.86s/i] "
     ]
    },
    {
     "name": "stdout",
     "output_type": "stream",
     "text": [
      "R(34.418633)\n"
     ]
    },
    {
     "name": "stderr",
     "output_type": "stream",
     "text": [
      "\r",
      "┣████████▎           ┫ [41.44%, 92/222, 05:26/13:07, 4.33s/i] "
     ]
    },
    {
     "name": "stdout",
     "output_type": "stream",
     "text": [
      "R(6.890901)\n"
     ]
    },
    {
     "name": "stderr",
     "output_type": "stream",
     "text": [
      "\r",
      "┣████████▍           ┫ [41.89%, 93/222, 05:29/13:06, 3.08s/i] "
     ]
    },
    {
     "name": "stdout",
     "output_type": "stream",
     "text": [
      "R(22.755144)\n"
     ]
    },
    {
     "name": "stderr",
     "output_type": "stream",
     "text": [
      "\r",
      "┣████████▍           ┫ [42.34%, 94/222, 05:33/13:06, 3.65s/i] "
     ]
    },
    {
     "name": "stdout",
     "output_type": "stream",
     "text": [
      "R(5.749545)\n"
     ]
    },
    {
     "name": "stderr",
     "output_type": "stream",
     "text": [
      "\r",
      "┣████████▌           ┫ [42.79%, 95/222, 05:38/13:09, 4.81s/i] "
     ]
    },
    {
     "name": "stdout",
     "output_type": "stream",
     "text": [
      "R(6.0603747)\n"
     ]
    },
    {
     "name": "stderr",
     "output_type": "stream",
     "text": [
      "\r",
      "┣████████▋           ┫ [43.24%, 96/222, 05:41/13:09, 3.21s/i] "
     ]
    },
    {
     "name": "stdout",
     "output_type": "stream",
     "text": [
      "R(13.092825)\n"
     ]
    },
    {
     "name": "stderr",
     "output_type": "stream",
     "text": [
      "\r",
      "┣████████▋           ┫ [43.69%, 97/222, 05:44/13:08, 3.24s/i] "
     ]
    },
    {
     "name": "stdout",
     "output_type": "stream",
     "text": [
      "R(62.206394)\n"
     ]
    },
    {
     "name": "stderr",
     "output_type": "stream",
     "text": [
      "\r",
      "┣████████▊           ┫ [44.14%, 98/222, 05:50/13:13, 5.80s/i] "
     ]
    },
    {
     "name": "stdout",
     "output_type": "stream",
     "text": [
      "R(3.230425)\n"
     ]
    },
    {
     "name": "stderr",
     "output_type": "stream",
     "text": [
      "\r",
      "┣████████▉           ┫ [44.59%, 99/222, 05:54/13:14, 4.04s/i] "
     ]
    },
    {
     "name": "stdout",
     "output_type": "stream",
     "text": [
      "R(8.559846)\n"
     ]
    },
    {
     "name": "stderr",
     "output_type": "stream",
     "text": [
      "\r",
      "┣█████████           ┫ [45.05%, 100/222, 05:57/13:13, 2.92s/i] "
     ]
    },
    {
     "name": "stdout",
     "output_type": "stream",
     "text": [
      "R(12.366632)\n"
     ]
    },
    {
     "name": "stderr",
     "output_type": "stream",
     "text": [
      "\r",
      "┣█████████           ┫ [45.50%, 101/222, 06:00/13:12, 3.15s/i] "
     ]
    },
    {
     "name": "stdout",
     "output_type": "stream",
     "text": [
      "R(11.004184)\n"
     ]
    },
    {
     "name": "stderr",
     "output_type": "stream",
     "text": [
      "\r",
      "┣█████████▏          ┫ [45.95%, 102/222, 06:03/13:10, 2.99s/i] "
     ]
    },
    {
     "name": "stdout",
     "output_type": "stream",
     "text": [
      "R(5.1550527)\n"
     ]
    },
    {
     "name": "stderr",
     "output_type": "stream",
     "text": [
      "\r",
      "┣█████████▎          ┫ [46.40%, 103/222, 06:06/13:09, 2.82s/i] "
     ]
    },
    {
     "name": "stdout",
     "output_type": "stream",
     "text": [
      "R(3.5132449)\n"
     ]
    },
    {
     "name": "stderr",
     "output_type": "stream",
     "text": [
      "\r",
      "┣█████████▎          ┫ [46.85%, 104/222, 06:10/13:11, 4.46s/i] "
     ]
    },
    {
     "name": "stdout",
     "output_type": "stream",
     "text": [
      "R(2.2676)\n"
     ]
    },
    {
     "name": "stderr",
     "output_type": "stream",
     "text": [
      "\r",
      "┣█████████▍          ┫ [47.30%, 105/222, 06:13/13:09, 2.78s/i] "
     ]
    },
    {
     "name": "stdout",
     "output_type": "stream",
     "text": [
      "R(80.78263)\n"
     ]
    },
    {
     "name": "stderr",
     "output_type": "stream",
     "text": [
      "\r",
      "┣█████████▌          ┫ [47.75%, 106/222, 06:18/13:12, 5.05s/i] "
     ]
    },
    {
     "name": "stdout",
     "output_type": "stream",
     "text": [
      "R(17.744232)\n"
     ]
    },
    {
     "name": "stderr",
     "output_type": "stream",
     "text": [
      "\r",
      "┣█████████▋          ┫ [48.20%, 107/222, 06:22/13:12, 3.29s/i] "
     ]
    },
    {
     "name": "stdout",
     "output_type": "stream",
     "text": [
      "R(11.954298)\n"
     ]
    },
    {
     "name": "stderr",
     "output_type": "stream",
     "text": [
      "\r",
      "┣█████████▋          ┫ [48.65%, 108/222, 06:26/13:14, 4.56s/i] "
     ]
    },
    {
     "name": "stdout",
     "output_type": "stream",
     "text": [
      "R(5.0758853)\n"
     ]
    },
    {
     "name": "stderr",
     "output_type": "stream",
     "text": [
      "\r",
      "┣█████████▊          ┫ [49.10%, 109/222, 06:29/13:13, 3.03s/i] "
     ]
    },
    {
     "name": "stdout",
     "output_type": "stream",
     "text": [
      "R(21.329422)\n"
     ]
    },
    {
     "name": "stderr",
     "output_type": "stream",
     "text": [
      "\r",
      "┣█████████▉          ┫ [49.55%, 110/222, 06:33/13:13, 3.66s/i] "
     ]
    },
    {
     "name": "stdout",
     "output_type": "stream",
     "text": [
      "R(6.6500354)\n"
     ]
    },
    {
     "name": "stderr",
     "output_type": "stream",
     "text": [
      "\r",
      "┣██████████          ┫ [50.00%, 111/222, 06:36/13:12, 3.01s/i] "
     ]
    },
    {
     "name": "stdout",
     "output_type": "stream",
     "text": [
      "R(30.164907)\n"
     ]
    },
    {
     "name": "stderr",
     "output_type": "stream",
     "text": [
      "\r",
      "┣██████████          ┫ [50.45%, 112/222, 06:39/13:12, 3.51s/i] "
     ]
    },
    {
     "name": "stdout",
     "output_type": "stream",
     "text": [
      "R(4.2360306)\n"
     ]
    },
    {
     "name": "stderr",
     "output_type": "stream",
     "text": [
      "\r",
      "┣██████████▏         ┫ [50.90%, 113/222, 06:44/13:13, 4.51s/i] "
     ]
    },
    {
     "name": "stdout",
     "output_type": "stream",
     "text": [
      "R(11.15868)\n"
     ]
    },
    {
     "name": "stderr",
     "output_type": "stream",
     "text": [
      "\r",
      "┣██████████▎         ┫ [51.35%, 114/222, 06:47/13:13, 3.12s/i] "
     ]
    },
    {
     "name": "stdout",
     "output_type": "stream",
     "text": [
      "R(16.977438)\n"
     ]
    },
    {
     "name": "stderr",
     "output_type": "stream",
     "text": [
      "\r",
      "┣██████████▎         ┫ [51.80%, 115/222, 06:50/13:12, 3.31s/i] "
     ]
    },
    {
     "name": "stdout",
     "output_type": "stream",
     "text": [
      "R(3.9304843)\n"
     ]
    },
    {
     "name": "stderr",
     "output_type": "stream",
     "text": [
      "\r",
      "┣██████████▍         ┫ [52.25%, 116/222, 06:53/13:11, 3.03s/i] "
     ]
    },
    {
     "name": "stdout",
     "output_type": "stream",
     "text": [
      "R(3.745992)\n"
     ]
    },
    {
     "name": "stderr",
     "output_type": "stream",
     "text": [
      "\r",
      "┣██████████▌         ┫ [52.70%, 117/222, 06:58/13:12, 4.22s/i] "
     ]
    },
    {
     "name": "stdout",
     "output_type": "stream",
     "text": [
      "R(4.3555856)\n"
     ]
    },
    {
     "name": "stderr",
     "output_type": "stream",
     "text": [
      "\r",
      "┣██████████▋         ┫ [53.15%, 118/222, 07:00/13:11, 2.93s/i] "
     ]
    },
    {
     "name": "stdout",
     "output_type": "stream",
     "text": [
      "R(9.647765)\n"
     ]
    },
    {
     "name": "stderr",
     "output_type": "stream",
     "text": [
      "\r",
      "┣██████████▋         ┫ [53.60%, 119/222, 07:04/13:10, 3.16s/i] "
     ]
    },
    {
     "name": "stdout",
     "output_type": "stream",
     "text": [
      "R(27.971529)\n"
     ]
    },
    {
     "name": "stderr",
     "output_type": "stream",
     "text": [
      "\r",
      "┣██████████▊         ┫ [54.05%, 120/222, 07:07/13:10, 3.56s/i] "
     ]
    },
    {
     "name": "stdout",
     "output_type": "stream",
     "text": [
      "R(2.2304902)\n"
     ]
    },
    {
     "name": "stderr",
     "output_type": "stream",
     "text": [
      "\r",
      "┣██████████▉         ┫ [54.50%, 121/222, 07:10/13:09, 2.89s/i] "
     ]
    },
    {
     "name": "stdout",
     "output_type": "stream",
     "text": [
      "R(15.543468)\n"
     ]
    },
    {
     "name": "stderr",
     "output_type": "stream",
     "text": [
      "\r",
      "┣██████████▉         ┫ [54.95%, 122/222, 07:15/13:12, 4.94s/i] "
     ]
    },
    {
     "name": "stdout",
     "output_type": "stream",
     "text": [
      "R(6.9299088)\n"
     ]
    },
    {
     "name": "stderr",
     "output_type": "stream",
     "text": [
      "\r",
      "┣███████████         ┫ [55.41%, 123/222, 07:18/13:11, 3.13s/i] "
     ]
    },
    {
     "name": "stdout",
     "output_type": "stream",
     "text": [
      "R(3.3647795)\n"
     ]
    },
    {
     "name": "stderr",
     "output_type": "stream",
     "text": [
      "\r",
      "┣███████████▏        ┫ [55.86%, 124/222, 07:21/13:10, 2.99s/i] "
     ]
    },
    {
     "name": "stdout",
     "output_type": "stream",
     "text": [
      "R(3.8294399)\n"
     ]
    },
    {
     "name": "stderr",
     "output_type": "stream",
     "text": [
      "\r",
      "┣███████████▎        ┫ [56.31%, 125/222, 07:24/13:09, 3.07s/i] "
     ]
    },
    {
     "name": "stdout",
     "output_type": "stream",
     "text": [
      "R(21.585674)\n"
     ]
    },
    {
     "name": "stderr",
     "output_type": "stream",
     "text": [
      "\r",
      "┣███████████▎        ┫ [56.76%, 126/222, 07:28/13:09, 3.63s/i] "
     ]
    },
    {
     "name": "stdout",
     "output_type": "stream",
     "text": [
      "R(6.9196973)\n"
     ]
    },
    {
     "name": "stderr",
     "output_type": "stream",
     "text": [
      "\r",
      "┣███████████▍        ┫ [57.21%, 127/222, 07:32/13:11, 4.51s/i] "
     ]
    },
    {
     "name": "stdout",
     "output_type": "stream",
     "text": [
      "R(9.225914)\n"
     ]
    },
    {
     "name": "stderr",
     "output_type": "stream",
     "text": [
      "\r",
      "┣███████████▌        ┫ [57.66%, 128/222, 07:36/13:10, 3.26s/i] "
     ]
    },
    {
     "name": "stdout",
     "output_type": "stream",
     "text": [
      "R(2.313554)\n"
     ]
    },
    {
     "name": "stderr",
     "output_type": "stream",
     "text": [
      "\r",
      "┣███████████▌        ┫ [58.11%, 129/222, 07:38/13:09, 2.86s/i] "
     ]
    },
    {
     "name": "stdout",
     "output_type": "stream",
     "text": [
      "R(4.174131)\n"
     ]
    },
    {
     "name": "stderr",
     "output_type": "stream",
     "text": [
      "\r",
      "┣███████████▋        ┫ [58.56%, 130/222, 07:41/13:07, 2.52s/i] "
     ]
    },
    {
     "name": "stdout",
     "output_type": "stream",
     "text": [
      "R(7.0520577)\n"
     ]
    },
    {
     "name": "stderr",
     "output_type": "stream",
     "text": [
      "\r",
      "┣███████████▊        ┫ [59.01%, 131/222, 07:44/13:07, 3.14s/i] "
     ]
    },
    {
     "name": "stdout",
     "output_type": "stream",
     "text": [
      "R(23.56738)\n"
     ]
    },
    {
     "name": "stderr",
     "output_type": "stream",
     "text": [
      "\r",
      "┣███████████▉        ┫ [59.46%, 132/222, 07:49/13:09, 4.93s/i] "
     ]
    },
    {
     "name": "stdout",
     "output_type": "stream",
     "text": [
      "R(14.302733)\n"
     ]
    },
    {
     "name": "stderr",
     "output_type": "stream",
     "text": [
      "\r",
      "┣███████████▉        ┫ [59.91%, 133/222, 07:52/13:09, 3.41s/i] "
     ]
    },
    {
     "name": "stdout",
     "output_type": "stream",
     "text": [
      "R(13.426263)\n"
     ]
    },
    {
     "name": "stderr",
     "output_type": "stream",
     "text": [
      "\r",
      "┣████████████        ┫ [60.36%, 134/222, 07:56/13:08, 3.06s/i] "
     ]
    },
    {
     "name": "stdout",
     "output_type": "stream",
     "text": [
      "R(21.340265)\n"
     ]
    },
    {
     "name": "stderr",
     "output_type": "stream",
     "text": [
      "\r",
      "┣████████████▏       ┫ [60.81%, 135/222, 07:59/13:07, 3.18s/i] "
     ]
    },
    {
     "name": "stdout",
     "output_type": "stream",
     "text": [
      "R(5.4672775)\n"
     ]
    },
    {
     "name": "stderr",
     "output_type": "stream",
     "text": [
      "\r",
      "┣████████████▎       ┫ [61.26%, 136/222, 08:03/13:08, 4.20s/i] "
     ]
    },
    {
     "name": "stdout",
     "output_type": "stream",
     "text": [
      "R(3.1121714)\n"
     ]
    },
    {
     "name": "stderr",
     "output_type": "stream",
     "text": [
      "\r",
      "┣████████████▎       ┫ [61.71%, 137/222, 08:06/13:07, 2.81s/i] "
     ]
    },
    {
     "name": "stdout",
     "output_type": "stream",
     "text": [
      "R(8.446833)\n"
     ]
    },
    {
     "name": "stderr",
     "output_type": "stream",
     "text": [
      "\r",
      "┣████████████▍       ┫ [62.16%, 138/222, 08:09/13:06, 3.14s/i] "
     ]
    },
    {
     "name": "stdout",
     "output_type": "stream",
     "text": [
      "R(2.8312201)\n"
     ]
    },
    {
     "name": "stderr",
     "output_type": "stream",
     "text": [
      "\r",
      "┣████████████▌       ┫ [62.61%, 139/222, 08:12/13:05, 2.98s/i] "
     ]
    },
    {
     "name": "stdout",
     "output_type": "stream",
     "text": [
      "R(1.2171085)\n"
     ]
    },
    {
     "name": "stderr",
     "output_type": "stream",
     "text": [
      "\r",
      "┣████████████▌       ┫ [63.06%, 140/222, 08:15/13:04, 2.88s/i] "
     ]
    },
    {
     "name": "stdout",
     "output_type": "stream",
     "text": [
      "R(42.48477)\n"
     ]
    },
    {
     "name": "stderr",
     "output_type": "stream",
     "text": [
      "\r",
      "┣████████████▋       ┫ [63.51%, 141/222, 08:21/13:08, 6.06s/i] "
     ]
    },
    {
     "name": "stdout",
     "output_type": "stream",
     "text": [
      "R(52.75607)\n"
     ]
    },
    {
     "name": "stderr",
     "output_type": "stream",
     "text": [
      "\r",
      "┣████████████▊       ┫ [63.96%, 142/222, 08:26/13:10, 4.78s/i] "
     ]
    },
    {
     "name": "stdout",
     "output_type": "stream",
     "text": [
      "R(4.066862)\n"
     ]
    },
    {
     "name": "stderr",
     "output_type": "stream",
     "text": [
      "\r",
      "┣████████████▉       ┫ [64.41%, 143/222, 08:28/13:09, 2.86s/i] "
     ]
    },
    {
     "name": "stdout",
     "output_type": "stream",
     "text": [
      "R(16.434332)\n"
     ]
    },
    {
     "name": "stderr",
     "output_type": "stream",
     "text": [
      "\r",
      "┣████████████▉       ┫ [64.86%, 144/222, 08:32/13:09, 3.53s/i] "
     ]
    },
    {
     "name": "stdout",
     "output_type": "stream",
     "text": [
      "R(52.64532)\n"
     ]
    },
    {
     "name": "stderr",
     "output_type": "stream",
     "text": [
      "\r",
      "┣█████████████       ┫ [65.32%, 145/222, 08:39/13:14, 6.61s/i] "
     ]
    },
    {
     "name": "stdout",
     "output_type": "stream",
     "text": [
      "R(22.584908)\n"
     ]
    },
    {
     "name": "stderr",
     "output_type": "stream",
     "text": [
      "\r",
      "┣█████████████▏      ┫ [65.77%, 146/222, 08:42/13:13, 3.28s/i] "
     ]
    },
    {
     "name": "stdout",
     "output_type": "stream",
     "text": [
      "R(20.00365)\n"
     ]
    },
    {
     "name": "stderr",
     "output_type": "stream",
     "text": [
      "\r",
      "┣█████████████▏      ┫ [66.22%, 147/222, 08:45/13:13, 3.32s/i] "
     ]
    },
    {
     "name": "stdout",
     "output_type": "stream",
     "text": [
      "R(8.442375)\n"
     ]
    },
    {
     "name": "stderr",
     "output_type": "stream",
     "text": [
      "\r",
      "┣█████████████▎      ┫ [66.67%, 148/222, 08:48/13:13, 3.19s/i] "
     ]
    },
    {
     "name": "stdout",
     "output_type": "stream",
     "text": [
      "R(15.29369)\n"
     ]
    },
    {
     "name": "stderr",
     "output_type": "stream",
     "text": [
      "\r",
      "┣█████████████▍      ┫ [67.12%, 149/222, 08:52/13:12, 3.23s/i] "
     ]
    },
    {
     "name": "stdout",
     "output_type": "stream",
     "text": [
      "R(15.528594)\n"
     ]
    },
    {
     "name": "stderr",
     "output_type": "stream",
     "text": [
      "\r",
      "┣█████████████▌      ┫ [67.57%, 150/222, 08:56/13:14, 4.82s/i] "
     ]
    },
    {
     "name": "stdout",
     "output_type": "stream",
     "text": [
      "R(9.225221)\n"
     ]
    },
    {
     "name": "stderr",
     "output_type": "stream",
     "text": [
      "\r",
      "┣█████████████▌      ┫ [68.02%, 151/222, 08:59/13:13, 3.01s/i] "
     ]
    },
    {
     "name": "stdout",
     "output_type": "stream",
     "text": [
      "R(30.295246)\n"
     ]
    },
    {
     "name": "stderr",
     "output_type": "stream",
     "text": [
      "\r",
      "┣█████████████▋      ┫ [68.47%, 152/222, 09:03/13:13, 3.63s/i] "
     ]
    },
    {
     "name": "stdout",
     "output_type": "stream",
     "text": [
      "R(9.05066)\n"
     ]
    },
    {
     "name": "stderr",
     "output_type": "stream",
     "text": [
      "\r",
      "┣█████████████▊      ┫ [68.92%, 153/222, 09:06/13:13, 3.25s/i] "
     ]
    },
    {
     "name": "stdout",
     "output_type": "stream",
     "text": [
      "R(2.8496764)\n"
     ]
    },
    {
     "name": "stderr",
     "output_type": "stream",
     "text": [
      "\r",
      "┣█████████████▊      ┫ [69.37%, 154/222, 09:10/13:13, 3.95s/i] "
     ]
    },
    {
     "name": "stdout",
     "output_type": "stream",
     "text": [
      "R(10.834115)\n"
     ]
    },
    {
     "name": "stderr",
     "output_type": "stream",
     "text": [
      "\r",
      "┣█████████████▉      ┫ [69.82%, 155/222, 09:14/13:13, 3.32s/i] "
     ]
    },
    {
     "name": "stdout",
     "output_type": "stream",
     "text": [
      "R(6.007001)\n"
     ]
    },
    {
     "name": "stderr",
     "output_type": "stream",
     "text": [
      "\r",
      "┣██████████████      ┫ [70.27%, 156/222, 09:17/13:12, 3.00s/i] "
     ]
    },
    {
     "name": "stdout",
     "output_type": "stream",
     "text": [
      "R(7.5753074)\n"
     ]
    },
    {
     "name": "stderr",
     "output_type": "stream",
     "text": [
      "\r",
      "┣██████████████▏     ┫ [70.72%, 157/222, 09:20/13:11, 3.03s/i] "
     ]
    },
    {
     "name": "stdout",
     "output_type": "stream",
     "text": [
      "R(3.0228422)\n"
     ]
    },
    {
     "name": "stderr",
     "output_type": "stream",
     "text": [
      "\r",
      "┣██████████████▏     ┫ [71.17%, 158/222, 09:22/13:10, 2.82s/i] "
     ]
    },
    {
     "name": "stdout",
     "output_type": "stream",
     "text": [
      "R(9.217669)\n"
     ]
    },
    {
     "name": "stderr",
     "output_type": "stream",
     "text": [
      "\r",
      "┣██████████████▎     ┫ [71.62%, 159/222, 09:27/13:12, 4.90s/i] "
     ]
    },
    {
     "name": "stdout",
     "output_type": "stream",
     "text": [
      "R(28.669807)\n"
     ]
    },
    {
     "name": "stderr",
     "output_type": "stream",
     "text": [
      "\r",
      "┣██████████████▍     ┫ [72.07%, 160/222, 09:31/13:12, 3.55s/i] "
     ]
    },
    {
     "name": "stdout",
     "output_type": "stream",
     "text": [
      "R(11.090181)\n"
     ]
    },
    {
     "name": "stderr",
     "output_type": "stream",
     "text": [
      "\r",
      "┣██████████████▌     ┫ [72.52%, 161/222, 09:34/13:12, 3.20s/i] "
     ]
    },
    {
     "name": "stdout",
     "output_type": "stream",
     "text": [
      "R(6.700526)\n"
     ]
    },
    {
     "name": "stderr",
     "output_type": "stream",
     "text": [
      "\r",
      "┣██████████████▌     ┫ [72.97%, 162/222, 09:37/13:11, 3.11s/i] "
     ]
    },
    {
     "name": "stdout",
     "output_type": "stream",
     "text": [
      "R(145.57158)\n"
     ]
    },
    {
     "name": "stderr",
     "output_type": "stream",
     "text": [
      "\r",
      "┣██████████████▋     ┫ [73.42%, 163/222, 09:44/13:16, 7.14s/i] "
     ]
    },
    {
     "name": "stdout",
     "output_type": "stream",
     "text": [
      "R(13.239359)\n"
     ]
    },
    {
     "name": "stderr",
     "output_type": "stream",
     "text": [
      "\r",
      "┣██████████████▊     ┫ [73.87%, 164/222, 09:48/13:16, 3.43s/i] "
     ]
    },
    {
     "name": "stdout",
     "output_type": "stream",
     "text": [
      "R(3.0892735)\n"
     ]
    },
    {
     "name": "stderr",
     "output_type": "stream",
     "text": [
      "\r",
      "┣██████████████▊     ┫ [74.32%, 165/222, 09:50/13:14, 2.59s/i] "
     ]
    },
    {
     "name": "stdout",
     "output_type": "stream",
     "text": [
      "R(3.362076)\n"
     ]
    },
    {
     "name": "stderr",
     "output_type": "stream",
     "text": [
      "\r",
      "┣██████████████▉     ┫ [74.77%, 166/222, 09:53/13:14, 3.08s/i] "
     ]
    },
    {
     "name": "stdout",
     "output_type": "stream",
     "text": [
      "R(22.991844)\n"
     ]
    },
    {
     "name": "stderr",
     "output_type": "stream",
     "text": [
      "\r",
      "┣███████████████     ┫ [75.23%, 167/222, 09:57/13:13, 3.40s/i] "
     ]
    },
    {
     "name": "stdout",
     "output_type": "stream",
     "text": [
      "R(20.62278)\n"
     ]
    },
    {
     "name": "stderr",
     "output_type": "stream",
     "text": [
      "\r",
      "┣███████████████▏    ┫ [75.68%, 168/222, 10:02/13:15, 5.16s/i] "
     ]
    },
    {
     "name": "stdout",
     "output_type": "stream",
     "text": [
      "R(17.012165)\n"
     ]
    },
    {
     "name": "stderr",
     "output_type": "stream",
     "text": [
      "\r",
      "┣███████████████▏    ┫ [76.13%, 169/222, 10:05/13:15, 3.39s/i] "
     ]
    },
    {
     "name": "stdout",
     "output_type": "stream",
     "text": [
      "R(47.531372)\n"
     ]
    },
    {
     "name": "stderr",
     "output_type": "stream",
     "text": [
      "\r",
      "┣███████████████▎    ┫ [76.58%, 170/222, 10:10/13:17, 4.71s/i] "
     ]
    },
    {
     "name": "stdout",
     "output_type": "stream",
     "text": [
      "R(8.358708)\n"
     ]
    },
    {
     "name": "stderr",
     "output_type": "stream",
     "text": [
      "\r",
      "┣███████████████▍    ┫ [77.03%, 171/222, 10:13/13:16, 3.11s/i] "
     ]
    },
    {
     "name": "stdout",
     "output_type": "stream",
     "text": [
      "R(38.219093)\n"
     ]
    },
    {
     "name": "stderr",
     "output_type": "stream",
     "text": [
      "\r",
      "┣███████████████▍    ┫ [77.48%, 172/222, 10:18/13:18, 5.29s/i] "
     ]
    },
    {
     "name": "stdout",
     "output_type": "stream",
     "text": [
      "R(33.032494)\n"
     ]
    },
    {
     "name": "stderr",
     "output_type": "stream",
     "text": [
      "\r",
      "┣███████████████▌    ┫ [77.93%, 173/222, 10:22/13:18, 3.51s/i] "
     ]
    },
    {
     "name": "stdout",
     "output_type": "stream",
     "text": [
      "R(10.92415)\n"
     ]
    },
    {
     "name": "stderr",
     "output_type": "stream",
     "text": [
      "\r",
      "┣███████████████▋    ┫ [78.38%, 174/222, 10:25/13:18, 3.19s/i] "
     ]
    },
    {
     "name": "stdout",
     "output_type": "stream",
     "text": [
      "R(7.0726624)\n"
     ]
    },
    {
     "name": "stderr",
     "output_type": "stream",
     "text": [
      "\r",
      "┣███████████████▊    ┫ [78.83%, 175/222, 10:28/13:17, 3.07s/i] "
     ]
    },
    {
     "name": "stdout",
     "output_type": "stream",
     "text": [
      "R(6.0293736)\n"
     ]
    },
    {
     "name": "stderr",
     "output_type": "stream",
     "text": [
      "\r",
      "┣███████████████▊    ┫ [79.28%, 176/222, 10:31/13:16, 2.89s/i] "
     ]
    },
    {
     "name": "stdout",
     "output_type": "stream",
     "text": [
      "R(14.274894)\n"
     ]
    },
    {
     "name": "stderr",
     "output_type": "stream",
     "text": [
      "\r",
      "┣███████████████▉    ┫ [79.73%, 177/222, 10:36/13:18, 5.12s/i] "
     ]
    },
    {
     "name": "stdout",
     "output_type": "stream",
     "text": [
      "R(4.0917206)\n"
     ]
    },
    {
     "name": "stderr",
     "output_type": "stream",
     "text": [
      "\r",
      "┣████████████████    ┫ [80.18%, 178/222, 10:40/13:18, 3.29s/i] "
     ]
    },
    {
     "name": "stdout",
     "output_type": "stream",
     "text": [
      "R(27.547688)\n"
     ]
    },
    {
     "name": "stderr",
     "output_type": "stream",
     "text": [
      "\r",
      "┣████████████████▏   ┫ [80.63%, 179/222, 10:43/13:18, 3.58s/i] "
     ]
    },
    {
     "name": "stdout",
     "output_type": "stream",
     "text": [
      "R(79.51472)\n"
     ]
    },
    {
     "name": "stderr",
     "output_type": "stream",
     "text": [
      "\r",
      "┣████████████████▏   ┫ [81.08%, 180/222, 10:50/13:22, 6.79s/i] "
     ]
    },
    {
     "name": "stdout",
     "output_type": "stream",
     "text": [
      "R(2.362889)\n"
     ]
    },
    {
     "name": "stderr",
     "output_type": "stream",
     "text": [
      "\r",
      "┣████████████████▎   ┫ [81.53%, 181/222, 10:52/13:20, 2.58s/i] "
     ]
    },
    {
     "name": "stdout",
     "output_type": "stream",
     "text": [
      "R(16.584885)\n"
     ]
    },
    {
     "name": "stderr",
     "output_type": "stream",
     "text": [
      "\r",
      "┣████████████████▍   ┫ [81.98%, 182/222, 10:56/13:20, 3.45s/i] "
     ]
    },
    {
     "name": "stdout",
     "output_type": "stream",
     "text": [
      "R(28.180183)\n"
     ]
    },
    {
     "name": "stderr",
     "output_type": "stream",
     "text": [
      "\r",
      "┣████████████████▍   ┫ [82.43%, 183/222, 11:00/13:20, 3.70s/i] "
     ]
    },
    {
     "name": "stdout",
     "output_type": "stream",
     "text": [
      "R(10.674723)\n"
     ]
    },
    {
     "name": "stderr",
     "output_type": "stream",
     "text": [
      "\r",
      "┣████████████████▌   ┫ [82.88%, 184/222, 11:03/13:20, 3.28s/i] "
     ]
    },
    {
     "name": "stdout",
     "output_type": "stream",
     "text": [
      "R(5.977974)\n"
     ]
    },
    {
     "name": "stderr",
     "output_type": "stream",
     "text": [
      "\r",
      "┣████████████████▋   ┫ [83.33%, 185/222, 11:06/13:19, 3.19s/i] "
     ]
    },
    {
     "name": "stdout",
     "output_type": "stream",
     "text": [
      "R(16.88591)\n"
     ]
    },
    {
     "name": "stderr",
     "output_type": "stream",
     "text": [
      "\r",
      "┣████████████████▊   ┫ [83.78%, 186/222, 11:11/13:21, 4.92s/i] "
     ]
    },
    {
     "name": "stdout",
     "output_type": "stream",
     "text": [
      "R(4.714731)\n"
     ]
    },
    {
     "name": "stderr",
     "output_type": "stream",
     "text": [
      "\r",
      "┣████████████████▊   ┫ [84.23%, 187/222, 11:14/13:20, 3.24s/i] "
     ]
    },
    {
     "name": "stdout",
     "output_type": "stream",
     "text": [
      "R(4.777365)\n"
     ]
    },
    {
     "name": "stderr",
     "output_type": "stream",
     "text": [
      "\r",
      "┣████████████████▉   ┫ [84.68%, 188/222, 11:17/13:20, 2.91s/i] "
     ]
    },
    {
     "name": "stdout",
     "output_type": "stream",
     "text": [
      "R(16.476807)\n"
     ]
    },
    {
     "name": "stderr",
     "output_type": "stream",
     "text": [
      "\r",
      "┣█████████████████   ┫ [85.14%, 189/222, 11:21/13:19, 3.41s/i] "
     ]
    },
    {
     "name": "stdout",
     "output_type": "stream",
     "text": [
      "R(21.145908)\n"
     ]
    },
    {
     "name": "stderr",
     "output_type": "stream",
     "text": [
      "\r",
      "┣█████████████████   ┫ [85.59%, 190/222, 11:25/13:21, 4.85s/i] "
     ]
    },
    {
     "name": "stdout",
     "output_type": "stream",
     "text": [
      "R(8.435014)\n"
     ]
    },
    {
     "name": "stderr",
     "output_type": "stream",
     "text": [
      "\r",
      "┣█████████████████▏  ┫ [86.04%, 191/222, 11:29/13:20, 3.25s/i] "
     ]
    },
    {
     "name": "stdout",
     "output_type": "stream",
     "text": [
      "R(24.74847)\n"
     ]
    },
    {
     "name": "stderr",
     "output_type": "stream",
     "text": [
      "\r",
      "┣█████████████████▎  ┫ [86.49%, 192/222, 11:33/13:21, 4.16s/i] "
     ]
    },
    {
     "name": "stdout",
     "output_type": "stream",
     "text": [
      "R(8.154768)\n"
     ]
    },
    {
     "name": "stderr",
     "output_type": "stream",
     "text": [
      "\r",
      "┣█████████████████▍  ┫ [86.94%, 193/222, 11:36/13:21, 3.18s/i] "
     ]
    },
    {
     "name": "stdout",
     "output_type": "stream",
     "text": [
      "R(7.535962)\n"
     ]
    },
    {
     "name": "stderr",
     "output_type": "stream",
     "text": [
      "\r",
      "┣█████████████████▍  ┫ [87.39%, 194/222, 11:39/13:20, 3.16s/i] "
     ]
    },
    {
     "name": "stdout",
     "output_type": "stream",
     "text": [
      "R(12.167423)\n"
     ]
    },
    {
     "name": "stderr",
     "output_type": "stream",
     "text": [
      "\r",
      "┣█████████████████▌  ┫ [87.84%, 195/222, 11:44/13:22, 4.88s/i] "
     ]
    },
    {
     "name": "stdout",
     "output_type": "stream",
     "text": [
      "R(39.76022)\n"
     ]
    },
    {
     "name": "stderr",
     "output_type": "stream",
     "text": [
      "\r",
      "┣█████████████████▋  ┫ [88.29%, 196/222, 11:48/13:22, 4.11s/i] "
     ]
    },
    {
     "name": "stdout",
     "output_type": "stream",
     "text": [
      "R(25.57038)\n"
     ]
    },
    {
     "name": "stderr",
     "output_type": "stream",
     "text": [
      "\r",
      "┣█████████████████▋  ┫ [88.74%, 197/222, 11:52/13:22, 3.75s/i] "
     ]
    },
    {
     "name": "stdout",
     "output_type": "stream",
     "text": [
      "R(33.27324)\n"
     ]
    },
    {
     "name": "stderr",
     "output_type": "stream",
     "text": [
      "\r",
      "┣█████████████████▊  ┫ [89.19%, 198/222, 11:56/13:23, 4.13s/i] "
     ]
    },
    {
     "name": "stdout",
     "output_type": "stream",
     "text": [
      "R(5.6775303)\n"
     ]
    },
    {
     "name": "stderr",
     "output_type": "stream",
     "text": [
      "\r",
      "┣█████████████████▉  ┫ [89.64%, 199/222, 12:00/13:23, 4.16s/i] "
     ]
    },
    {
     "name": "stdout",
     "output_type": "stream",
     "text": [
      "R(18.289696)\n"
     ]
    },
    {
     "name": "stderr",
     "output_type": "stream",
     "text": [
      "\r",
      "┣██████████████████  ┫ [90.09%, 200/222, 12:04/13:23, 3.58s/i] "
     ]
    },
    {
     "name": "stdout",
     "output_type": "stream",
     "text": [
      "R(9.21974)\n"
     ]
    },
    {
     "name": "stderr",
     "output_type": "stream",
     "text": [
      "\r",
      "┣██████████████████  ┫ [90.54%, 201/222, 12:07/13:23, 3.30s/i] "
     ]
    },
    {
     "name": "stdout",
     "output_type": "stream",
     "text": [
      "R(4.604738)\n"
     ]
    },
    {
     "name": "stderr",
     "output_type": "stream",
     "text": [
      "\r",
      "┣██████████████████▏ ┫ [90.99%, 202/222, 12:10/13:22, 2.61s/i] "
     ]
    },
    {
     "name": "stdout",
     "output_type": "stream",
     "text": [
      "R(5.8423247)\n"
     ]
    },
    {
     "name": "stderr",
     "output_type": "stream",
     "text": [
      "\r",
      "┣██████████████████▎ ┫ [91.44%, 203/222, 12:13/13:21, 2.88s/i] "
     ]
    },
    {
     "name": "stdout",
     "output_type": "stream",
     "text": [
      "R(2.9332597)\n"
     ]
    },
    {
     "name": "stderr",
     "output_type": "stream",
     "text": [
      "\r",
      "┣██████████████████▍ ┫ [91.89%, 204/222, 12:17/13:22, 4.21s/i] "
     ]
    },
    {
     "name": "stdout",
     "output_type": "stream",
     "text": [
      "R(40.492943)\n"
     ]
    },
    {
     "name": "stderr",
     "output_type": "stream",
     "text": [
      "\r",
      "┣██████████████████▍ ┫ [92.34%, 205/222, 12:21/13:22, 4.15s/i] "
     ]
    },
    {
     "name": "stdout",
     "output_type": "stream",
     "text": [
      "R(19.022915)\n"
     ]
    },
    {
     "name": "stderr",
     "output_type": "stream",
     "text": [
      "\r",
      "┣██████████████████▌ ┫ [92.79%, 206/222, 12:24/13:22, 3.50s/i] "
     ]
    },
    {
     "name": "stdout",
     "output_type": "stream",
     "text": [
      "R(23.174828)\n"
     ]
    },
    {
     "name": "stderr",
     "output_type": "stream",
     "text": [
      "\r",
      "┣██████████████████▋ ┫ [93.24%, 207/222, 12:28/13:22, 3.66s/i] "
     ]
    },
    {
     "name": "stdout",
     "output_type": "stream",
     "text": [
      "R(18.807207)\n"
     ]
    },
    {
     "name": "stderr",
     "output_type": "stream",
     "text": [
      "\r",
      "┣██████████████████▋ ┫ [93.69%, 208/222, 12:33/13:24, 4.78s/i] "
     ]
    },
    {
     "name": "stdout",
     "output_type": "stream",
     "text": [
      "R(6.2524)\n"
     ]
    },
    {
     "name": "stderr",
     "output_type": "stream",
     "text": [
      "\r",
      "┣██████████████████▊ ┫ [94.14%, 209/222, 12:36/13:23, 2.90s/i] "
     ]
    },
    {
     "name": "stdout",
     "output_type": "stream",
     "text": [
      "R(9.3332205)\n"
     ]
    },
    {
     "name": "stderr",
     "output_type": "stream",
     "text": [
      "\r",
      "┣██████████████████▉ ┫ [94.59%, 210/222, 12:39/13:22, 3.11s/i] "
     ]
    },
    {
     "name": "stdout",
     "output_type": "stream",
     "text": [
      "R(8.5997505)\n"
     ]
    },
    {
     "name": "stderr",
     "output_type": "stream",
     "text": [
      "\r",
      "┣███████████████████ ┫ [95.05%, 211/222, 12:42/13:22, 3.22s/i] "
     ]
    },
    {
     "name": "stdout",
     "output_type": "stream",
     "text": [
      "R(22.252628)\n"
     ]
    },
    {
     "name": "stderr",
     "output_type": "stream",
     "text": [
      "\r",
      "┣███████████████████ ┫ [95.50%, 212/222, 12:46/13:22, 3.63s/i] "
     ]
    },
    {
     "name": "stdout",
     "output_type": "stream",
     "text": [
      "R(11.003781)\n"
     ]
    },
    {
     "name": "stderr",
     "output_type": "stream",
     "text": [
      "\r",
      "┣███████████████████▏┫ [95.95%, 213/222, 12:51/13:23, 4.84s/i] "
     ]
    },
    {
     "name": "stdout",
     "output_type": "stream",
     "text": [
      "R(9.183351)\n"
     ]
    },
    {
     "name": "stderr",
     "output_type": "stream",
     "text": [
      "\r",
      "┣███████████████████▎┫ [96.40%, 214/222, 12:54/13:23, 3.06s/i] "
     ]
    },
    {
     "name": "stdout",
     "output_type": "stream",
     "text": [
      "R(11.136196)\n"
     ]
    },
    {
     "name": "stderr",
     "output_type": "stream",
     "text": [
      "\r",
      "┣███████████████████▎┫ [96.85%, 215/222, 12:57/13:22, 3.34s/i] "
     ]
    },
    {
     "name": "stdout",
     "output_type": "stream",
     "text": [
      "R(6.160371)\n"
     ]
    },
    {
     "name": "stderr",
     "output_type": "stream",
     "text": [
      "\r",
      "┣███████████████████▍┫ [97.30%, 216/222, 13:00/13:22, 3.27s/i] "
     ]
    },
    {
     "name": "stdout",
     "output_type": "stream",
     "text": [
      "R(3.9859812)\n"
     ]
    },
    {
     "name": "stderr",
     "output_type": "stream",
     "text": [
      "\r",
      "┣███████████████████▌┫ [97.75%, 217/222, 13:05/13:23, 4.30s/i] "
     ]
    },
    {
     "name": "stdout",
     "output_type": "stream",
     "text": [
      "R(6.4321017)\n"
     ]
    },
    {
     "name": "stderr",
     "output_type": "stream",
     "text": [
      "\r",
      "┣███████████████████▋┫ [98.20%, 218/222, 13:08/13:22, 3.16s/i] "
     ]
    },
    {
     "name": "stdout",
     "output_type": "stream",
     "text": [
      "R(25.362068)\n"
     ]
    },
    {
     "name": "stderr",
     "output_type": "stream",
     "text": [
      "\r",
      "┣███████████████████▋┫ [98.65%, 219/222, 13:11/13:22, 3.53s/i] "
     ]
    },
    {
     "name": "stdout",
     "output_type": "stream",
     "text": [
      "R(6.2258224)\n"
     ]
    },
    {
     "name": "stderr",
     "output_type": "stream",
     "text": [
      "\r",
      "┣███████████████████▊┫ [99.10%, 220/222, 13:14/13:22, 3.11s/i] "
     ]
    },
    {
     "name": "stdout",
     "output_type": "stream",
     "text": [
      "R(3.9923503)\n"
     ]
    },
    {
     "name": "stderr",
     "output_type": "stream",
     "text": [
      "\r",
      "┣███████████████████▉┫ [99.55%, 221/222, 13:17/13:20, 2.52s/i] "
     ]
    },
    {
     "name": "stdout",
     "output_type": "stream",
     "text": [
      "R(5.177553)\n"
     ]
    },
    {
     "name": "stderr",
     "output_type": "stream",
     "text": [
      "┣████████████████████┫ [100.00%, 222/222, 13:21/13:21, 3.61s/i] \n"
     ]
    },
    {
     "name": "stdout",
     "output_type": "stream",
     "text": [
      "R(3.570934)\n"
     ]
    },
    {
     "name": "stderr",
     "output_type": "stream",
     "text": [
      "\r",
      "┣                    ┫ [0.45%, 1/222, 00:03/11:25, 3.08s/i] "
     ]
    },
    {
     "name": "stdout",
     "output_type": "stream",
     "text": [
      "R(2.7989676)\n"
     ]
    },
    {
     "name": "stderr",
     "output_type": "stream",
     "text": [
      "\r",
      "┣▏                   ┫ [0.90%, 2/222, 00:06/10:53, 2.80s/i] "
     ]
    },
    {
     "name": "stdout",
     "output_type": "stream",
     "text": [
      "R(20.185026)\n"
     ]
    },
    {
     "name": "stderr",
     "output_type": "stream",
     "text": [
      "\r",
      "┣▎                   ┫ [1.35%, 3/222, 00:10/11:50, 3.71s/i] "
     ]
    },
    {
     "name": "stdout",
     "output_type": "stream",
     "text": [
      "R(13.511305)\n"
     ]
    },
    {
     "name": "stderr",
     "output_type": "stream",
     "text": [
      "\r",
      "┣▎                   ┫ [1.80%, 4/222, 00:14/13:17, 4.76s/i] "
     ]
    },
    {
     "name": "stdout",
     "output_type": "stream",
     "text": [
      "R(4.1979547)\n"
     ]
    },
    {
     "name": "stderr",
     "output_type": "stream",
     "text": [
      "\r",
      "┣▍                   ┫ [2.25%, 5/222, 00:18/12:59, 3.19s/i] "
     ]
    },
    {
     "name": "stdout",
     "output_type": "stream",
     "text": [
      "R(3.396429)\n"
     ]
    },
    {
     "name": "stderr",
     "output_type": "stream",
     "text": [
      "\r",
      "┣▌                   ┫ [2.70%, 6/222, 00:21/12:39, 2.97s/i] "
     ]
    },
    {
     "name": "stdout",
     "output_type": "stream",
     "text": [
      "R(1.1744002)\n"
     ]
    },
    {
     "name": "stderr",
     "output_type": "stream",
     "text": [
      "\r",
      "┣▋                   ┫ [3.15%, 7/222, 00:23/12:22, 2.86s/i] "
     ]
    },
    {
     "name": "stdout",
     "output_type": "stream",
     "text": [
      "R(4.034467)\n"
     ]
    },
    {
     "name": "stderr",
     "output_type": "stream",
     "text": [
      "\r",
      "┣▋                   ┫ [3.60%, 8/222, 00:26/12:11, 2.95s/i] "
     ]
    },
    {
     "name": "stdout",
     "output_type": "stream",
     "text": [
      "R(1.6463875)\n"
     ]
    },
    {
     "name": "stderr",
     "output_type": "stream",
     "text": [
      "\r",
      "┣▊                   ┫ [4.05%, 9/222, 00:31/12:45, 4.69s/i] "
     ]
    },
    {
     "name": "stdout",
     "output_type": "stream",
     "text": [
      "R(4.459939)\n"
     ]
    },
    {
     "name": "stderr",
     "output_type": "stream",
     "text": [
      "\r",
      "┣▉                   ┫ [4.50%, 10/222, 00:34/12:38, 3.12s/i] "
     ]
    },
    {
     "name": "stdout",
     "output_type": "stream",
     "text": [
      "R(1.4959271)\n"
     ]
    },
    {
     "name": "stderr",
     "output_type": "stream",
     "text": [
      "\r",
      "┣▉                   ┫ [4.95%, 11/222, 00:37/12:26, 2.81s/i] "
     ]
    },
    {
     "name": "stdout",
     "output_type": "stream",
     "text": [
      "R(5.9087615)\n"
     ]
    },
    {
     "name": "stderr",
     "output_type": "stream",
     "text": [
      "\r",
      "┣█                   ┫ [5.41%, 12/222, 00:40/12:25, 3.33s/i] "
     ]
    },
    {
     "name": "stdout",
     "output_type": "stream",
     "text": [
      "R(3.7786136)\n"
     ]
    },
    {
     "name": "stderr",
     "output_type": "stream",
     "text": [
      "\r",
      "┣█▏                  ┫ [5.86%, 13/222, 00:45/12:42, 4.35s/i] "
     ]
    },
    {
     "name": "stdout",
     "output_type": "stream",
     "text": [
      "R(1.7489213)\n"
     ]
    },
    {
     "name": "stderr",
     "output_type": "stream",
     "text": [
      "\r",
      "┣█▎                  ┫ [6.31%, 14/222, 00:47/12:32, 2.79s/i] "
     ]
    },
    {
     "name": "stdout",
     "output_type": "stream",
     "text": [
      "R(3.0999413)\n"
     ]
    },
    {
     "name": "stderr",
     "output_type": "stream",
     "text": [
      "\r",
      "┣█▎                  ┫ [6.76%, 15/222, 00:50/12:26, 2.99s/i] "
     ]
    },
    {
     "name": "stdout",
     "output_type": "stream",
     "text": [
      "R(16.055872)\n"
     ]
    },
    {
     "name": "stderr",
     "output_type": "stream",
     "text": [
      "\r",
      "┣█▍                  ┫ [7.21%, 16/222, 00:54/12:28, 3.52s/i] "
     ]
    },
    {
     "name": "stdout",
     "output_type": "stream",
     "text": [
      "R(7.76788)\n"
     ]
    },
    {
     "name": "stderr",
     "output_type": "stream",
     "text": [
      "\r",
      "┣█▌                  ┫ [7.66%, 17/222, 00:57/12:28, 3.31s/i] "
     ]
    },
    {
     "name": "stdout",
     "output_type": "stream",
     "text": [
      "R(6.669582)\n"
     ]
    },
    {
     "name": "stderr",
     "output_type": "stream",
     "text": [
      "\r",
      "┣█▌                  ┫ [8.11%, 18/222, 01:02/12:45, 4.77s/i] "
     ]
    },
    {
     "name": "stdout",
     "output_type": "stream",
     "text": [
      "R(1.8644656)\n"
     ]
    },
    {
     "name": "stderr",
     "output_type": "stream",
     "text": [
      "\r",
      "┣█▋                  ┫ [8.56%, 19/222, 01:05/12:37, 2.77s/i] "
     ]
    },
    {
     "name": "stdout",
     "output_type": "stream",
     "text": [
      "R(1.3182414)\n"
     ]
    },
    {
     "name": "stderr",
     "output_type": "stream",
     "text": [
      "\r",
      "┣█▊                  ┫ [9.01%, 20/222, 01:08/12:31, 2.89s/i] "
     ]
    },
    {
     "name": "stdout",
     "output_type": "stream",
     "text": [
      "R(4.056837)\n"
     ]
    },
    {
     "name": "stderr",
     "output_type": "stream",
     "text": [
      "\r",
      "┣█▉                  ┫ [9.46%, 21/222, 01:11/12:27, 2.96s/i] "
     ]
    },
    {
     "name": "stdout",
     "output_type": "stream",
     "text": [
      "R(25.867525)\n"
     ]
    },
    {
     "name": "stderr",
     "output_type": "stream",
     "text": [
      "\r",
      "┣█▉                  ┫ [9.91%, 22/222, 01:15/12:40, 4.64s/i] "
     ]
    },
    {
     "name": "stdout",
     "output_type": "stream",
     "text": [
      "R(4.333702)\n"
     ]
    },
    {
     "name": "stderr",
     "output_type": "stream",
     "text": [
      "\r",
      "┣██                  ┫ [10.36%, 23/222, 01:18/12:36, 3.04s/i] "
     ]
    },
    {
     "name": "stdout",
     "output_type": "stream",
     "text": [
      "R(21.43192)\n"
     ]
    },
    {
     "name": "stderr",
     "output_type": "stream",
     "text": [
      "\r",
      "┣██▏                 ┫ [10.81%, 24/222, 01:22/12:39, 3.75s/i] "
     ]
    },
    {
     "name": "stdout",
     "output_type": "stream",
     "text": [
      "R(34.49915)\n"
     ]
    },
    {
     "name": "stderr",
     "output_type": "stream",
     "text": [
      "\r",
      "┣██▎                 ┫ [11.26%, 25/222, 01:26/12:42, 3.71s/i] "
     ]
    },
    {
     "name": "stdout",
     "output_type": "stream",
     "text": [
      "R(3.6755066)\n"
     ]
    },
    {
     "name": "stderr",
     "output_type": "stream",
     "text": [
      "\r",
      "┣██▎                 ┫ [11.71%, 26/222, 01:29/12:36, 2.74s/i] "
     ]
    },
    {
     "name": "stdout",
     "output_type": "stream",
     "text": [
      "R(9.434153)\n"
     ]
    },
    {
     "name": "stderr",
     "output_type": "stream",
     "text": [
      "\r",
      "┣██▍                 ┫ [12.16%, 27/222, 01:33/12:49, 4.98s/i] "
     ]
    },
    {
     "name": "stdout",
     "output_type": "stream",
     "text": [
      "R(4.4924135)\n"
     ]
    },
    {
     "name": "stderr",
     "output_type": "stream",
     "text": [
      "\r",
      "┣██▌                 ┫ [12.61%, 28/222, 01:37/12:46, 3.08s/i] "
     ]
    },
    {
     "name": "stdout",
     "output_type": "stream",
     "text": [
      "R(7.8171945)\n"
     ]
    },
    {
     "name": "stderr",
     "output_type": "stream",
     "text": [
      "\r",
      "┣██▌                 ┫ [13.06%, 29/222, 01:40/12:44, 3.23s/i] "
     ]
    },
    {
     "name": "stdout",
     "output_type": "stream",
     "text": [
      "R(5.7613354)\n"
     ]
    },
    {
     "name": "stderr",
     "output_type": "stream",
     "text": [
      "\r",
      "┣██▋                 ┫ [13.51%, 30/222, 01:43/12:43, 3.25s/i] "
     ]
    },
    {
     "name": "stdout",
     "output_type": "stream",
     "text": [
      "R(10.131082)\n"
     ]
    },
    {
     "name": "stderr",
     "output_type": "stream",
     "text": [
      "\r",
      "┣██▊                 ┫ [13.96%, 31/222, 01:48/12:50, 4.52s/i] "
     ]
    },
    {
     "name": "stdout",
     "output_type": "stream",
     "text": [
      "R(86.02771)\n"
     ]
    },
    {
     "name": "stderr",
     "output_type": "stream",
     "text": [
      "\r",
      "┣██▉                 ┫ [14.41%, 32/222, 01:53/13:07, 5.89s/i] "
     ]
    },
    {
     "name": "stdout",
     "output_type": "stream",
     "text": [
      "R(15.734606)\n"
     ]
    },
    {
     "name": "stderr",
     "output_type": "stream",
     "text": [
      "\r",
      "┣██▉                 ┫ [14.86%, 33/222, 01:57/13:04, 3.07s/i] "
     ]
    },
    {
     "name": "stdout",
     "output_type": "stream",
     "text": [
      "R(12.968668)\n"
     ]
    },
    {
     "name": "stderr",
     "output_type": "stream",
     "text": [
      "\r",
      "┣███                 ┫ [15.32%, 34/222, 02:00/13:02, 3.18s/i] "
     ]
    },
    {
     "name": "stdout",
     "output_type": "stream",
     "text": [
      "R(7.7230105)\n"
     ]
    },
    {
     "name": "stderr",
     "output_type": "stream",
     "text": [
      "\r",
      "┣███▏                ┫ [15.77%, 35/222, 02:03/13:01, 3.35s/i] "
     ]
    },
    {
     "name": "stdout",
     "output_type": "stream",
     "text": [
      "R(26.401611)\n"
     ]
    },
    {
     "name": "stderr",
     "output_type": "stream",
     "text": [
      "\r",
      "┣███▏                ┫ [16.22%, 36/222, 02:08/13:08, 4.73s/i] "
     ]
    },
    {
     "name": "stdout",
     "output_type": "stream",
     "text": [
      "R(33.03184)\n"
     ]
    },
    {
     "name": "stderr",
     "output_type": "stream",
     "text": [
      "\r",
      "┣███▎                ┫ [16.67%, 37/222, 02:12/13:13, 4.39s/i] "
     ]
    },
    {
     "name": "stdout",
     "output_type": "stream",
     "text": [
      "R(21.096874)\n"
     ]
    },
    {
     "name": "stderr",
     "output_type": "stream",
     "text": [
      "\r",
      "┣███▍                ┫ [17.12%, 38/222, 02:16/13:14, 3.70s/i] "
     ]
    },
    {
     "name": "stdout",
     "output_type": "stream",
     "text": [
      "R(20.340218)\n"
     ]
    },
    {
     "name": "stderr",
     "output_type": "stream",
     "text": [
      "\r",
      "┣███▌                ┫ [17.57%, 39/222, 02:20/13:15, 3.74s/i] "
     ]
    },
    {
     "name": "stdout",
     "output_type": "stream",
     "text": [
      "R(10.316043)\n"
     ]
    },
    {
     "name": "stderr",
     "output_type": "stream",
     "text": [
      "\r",
      "┣███▌                ┫ [18.02%, 40/222, 02:24/13:18, 4.14s/i] "
     ]
    },
    {
     "name": "stdout",
     "output_type": "stream",
     "text": [
      "R(4.770468)\n"
     ]
    },
    {
     "name": "stderr",
     "output_type": "stream",
     "text": [
      "\r",
      "┣███▋                ┫ [18.47%, 41/222, 02:27/13:15, 3.03s/i] "
     ]
    },
    {
     "name": "stdout",
     "output_type": "stream",
     "text": [
      "R(28.269756)\n"
     ]
    },
    {
     "name": "stderr",
     "output_type": "stream",
     "text": [
      "\r",
      "┣███▊                ┫ [18.92%, 42/222, 02:31/13:19, 4.35s/i] "
     ]
    },
    {
     "name": "stdout",
     "output_type": "stream",
     "text": [
      "R(7.9849343)\n"
     ]
    },
    {
     "name": "stderr",
     "output_type": "stream",
     "text": [
      "\r",
      "┣███▊                ┫ [19.37%, 43/222, 02:34/13:17, 3.15s/i] "
     ]
    },
    {
     "name": "stdout",
     "output_type": "stream",
     "text": [
      "R(16.879833)\n"
     ]
    },
    {
     "name": "stderr",
     "output_type": "stream",
     "text": [
      "\r",
      "┣███▉                ┫ [19.82%, 44/222, 02:38/13:16, 3.53s/i] "
     ]
    },
    {
     "name": "stdout",
     "output_type": "stream",
     "text": [
      "R(5.114674)\n"
     ]
    },
    {
     "name": "stderr",
     "output_type": "stream",
     "text": [
      "\r",
      "┣████                ┫ [20.27%, 45/222, 02:43/13:22, 4.79s/i] "
     ]
    },
    {
     "name": "stdout",
     "output_type": "stream",
     "text": [
      "R(4.6304393)\n"
     ]
    },
    {
     "name": "stderr",
     "output_type": "stream",
     "text": [
      "\r",
      "┣████▏               ┫ [20.72%, 46/222, 02:46/13:21, 3.31s/i] "
     ]
    },
    {
     "name": "stdout",
     "output_type": "stream",
     "text": [
      "R(1.9661732)\n"
     ]
    },
    {
     "name": "stderr",
     "output_type": "stream",
     "text": [
      "\r",
      "┣████▏               ┫ [21.17%, 47/222, 02:49/13:16, 2.67s/i] "
     ]
    },
    {
     "name": "stdout",
     "output_type": "stream",
     "text": [
      "R(7.584647)\n"
     ]
    },
    {
     "name": "stderr",
     "output_type": "stream",
     "text": [
      "\r",
      "┣████▎               ┫ [21.62%, 48/222, 02:52/13:16, 3.46s/i] "
     ]
    },
    {
     "name": "stdout",
     "output_type": "stream",
     "text": [
      "R(7.470425)\n"
     ]
    },
    {
     "name": "stderr",
     "output_type": "stream",
     "text": [
      "\r",
      "┣████▍               ┫ [22.07%, 49/222, 02:56/13:19, 4.27s/i] "
     ]
    },
    {
     "name": "stdout",
     "output_type": "stream",
     "text": [
      "R(7.222825)\n"
     ]
    },
    {
     "name": "stderr",
     "output_type": "stream",
     "text": [
      "\r",
      "┣████▌               ┫ [22.52%, 50/222, 03:00/13:17, 3.22s/i] "
     ]
    },
    {
     "name": "stdout",
     "output_type": "stream",
     "text": [
      "R(5.296914)\n"
     ]
    },
    {
     "name": "stderr",
     "output_type": "stream",
     "text": [
      "\r",
      "┣████▌               ┫ [22.97%, 51/222, 03:03/13:16, 3.21s/i] "
     ]
    },
    {
     "name": "stdout",
     "output_type": "stream",
     "text": [
      "R(14.975763)\n"
     ]
    },
    {
     "name": "stderr",
     "output_type": "stream",
     "text": [
      "\r",
      "┣████▋               ┫ [23.42%, 52/222, 03:06/13:14, 3.26s/i] "
     ]
    },
    {
     "name": "stdout",
     "output_type": "stream",
     "text": [
      "R(24.27386)\n"
     ]
    },
    {
     "name": "stderr",
     "output_type": "stream",
     "text": [
      "\r",
      "┣████▊               ┫ [23.87%, 53/222, 03:10/13:14, 3.64s/i] "
     ]
    },
    {
     "name": "stdout",
     "output_type": "stream",
     "text": [
      "R(3.8256392)\n"
     ]
    },
    {
     "name": "stderr",
     "output_type": "stream",
     "text": [
      "\r",
      "┣████▊               ┫ [24.32%, 54/222, 03:14/13:18, 4.55s/i] "
     ]
    },
    {
     "name": "stdout",
     "output_type": "stream",
     "text": [
      "R(5.2800045)\n"
     ]
    },
    {
     "name": "stderr",
     "output_type": "stream",
     "text": [
      "\r",
      "┣████▉               ┫ [24.77%, 55/222, 03:17/13:17, 3.24s/i] "
     ]
    },
    {
     "name": "stdout",
     "output_type": "stream",
     "text": [
      "R(2.11502)\n"
     ]
    },
    {
     "name": "stderr",
     "output_type": "stream",
     "text": [
      "\r",
      "┣█████               ┫ [25.23%, 56/222, 03:20/13:14, 2.91s/i] "
     ]
    },
    {
     "name": "stdout",
     "output_type": "stream",
     "text": [
      "R(2.3651822)\n"
     ]
    },
    {
     "name": "stderr",
     "output_type": "stream",
     "text": [
      "\r",
      "┣█████▏              ┫ [25.68%, 57/222, 03:23/13:12, 3.00s/i] "
     ]
    },
    {
     "name": "stdout",
     "output_type": "stream",
     "text": [
      "R(16.933542)\n"
     ]
    },
    {
     "name": "stderr",
     "output_type": "stream",
     "text": [
      "\r",
      "┣█████▏              ┫ [26.13%, 58/222, 03:28/13:17, 4.97s/i] "
     ]
    },
    {
     "name": "stdout",
     "output_type": "stream",
     "text": [
      "R(3.3158758)\n"
     ]
    },
    {
     "name": "stderr",
     "output_type": "stream",
     "text": [
      "\r",
      "┣█████▎              ┫ [26.58%, 59/222, 03:31/13:16, 3.10s/i] "
     ]
    },
    {
     "name": "stdout",
     "output_type": "stream",
     "text": [
      "R(57.629894)\n"
     ]
    },
    {
     "name": "stderr",
     "output_type": "stream",
     "text": [
      "\r",
      "┣█████▍              ┫ [27.03%, 60/222, 03:36/13:21, 5.01s/i] "
     ]
    },
    {
     "name": "stdout",
     "output_type": "stream",
     "text": [
      "R(7.5721235)\n"
     ]
    },
    {
     "name": "stderr",
     "output_type": "stream",
     "text": [
      "\r",
      "┣█████▍              ┫ [27.48%, 61/222, 03:40/13:19, 3.15s/i] "
     ]
    },
    {
     "name": "stdout",
     "output_type": "stream",
     "text": [
      "R(5.479794)\n"
     ]
    },
    {
     "name": "stderr",
     "output_type": "stream",
     "text": [
      "\r",
      "┣█████▌              ┫ [27.93%, 62/222, 03:43/13:18, 3.19s/i] "
     ]
    },
    {
     "name": "stdout",
     "output_type": "stream",
     "text": [
      "R(12.242523)\n"
     ]
    },
    {
     "name": "stderr",
     "output_type": "stream",
     "text": [
      "\r",
      "┣█████▋              ┫ [28.38%, 63/222, 03:48/13:23, 5.19s/i] "
     ]
    },
    {
     "name": "stdout",
     "output_type": "stream",
     "text": [
      "R(12.4994755)\n"
     ]
    },
    {
     "name": "stderr",
     "output_type": "stream",
     "text": [
      "\r",
      "┣█████▊              ┫ [28.83%, 64/222, 03:51/13:22, 3.34s/i] "
     ]
    },
    {
     "name": "stdout",
     "output_type": "stream",
     "text": [
      "R(2.0884414)\n"
     ]
    },
    {
     "name": "stderr",
     "output_type": "stream",
     "text": [
      "\r",
      "┣█████▊              ┫ [29.28%, 65/222, 03:54/13:20, 3.01s/i] "
     ]
    },
    {
     "name": "stdout",
     "output_type": "stream",
     "text": [
      "R(12.762559)\n"
     ]
    },
    {
     "name": "stderr",
     "output_type": "stream",
     "text": [
      "\r",
      "┣█████▉              ┫ [29.73%, 66/222, 03:58/13:20, 3.51s/i] "
     ]
    },
    {
     "name": "stdout",
     "output_type": "stream",
     "text": [
      "R(2.81991)\n"
     ]
    },
    {
     "name": "stderr",
     "output_type": "stream",
     "text": [
      "\r",
      "┣██████              ┫ [30.18%, 67/222, 04:02/13:21, 3.99s/i] "
     ]
    },
    {
     "name": "stdout",
     "output_type": "stream",
     "text": [
      "R(6.268007)\n"
     ]
    },
    {
     "name": "stderr",
     "output_type": "stream",
     "text": [
      "\r",
      "┣██████▏             ┫ [30.63%, 68/222, 04:05/13:20, 3.24s/i] "
     ]
    },
    {
     "name": "stdout",
     "output_type": "stream",
     "text": [
      "R(12.0844555)\n"
     ]
    },
    {
     "name": "stderr",
     "output_type": "stream",
     "text": [
      "\r",
      "┣██████▏             ┫ [31.08%, 69/222, 04:08/13:19, 3.36s/i] "
     ]
    },
    {
     "name": "stdout",
     "output_type": "stream",
     "text": [
      "R(6.524453)\n"
     ]
    },
    {
     "name": "stderr",
     "output_type": "stream",
     "text": [
      "\r",
      "┣██████▎             ┫ [31.53%, 70/222, 04:11/13:17, 2.98s/i] "
     ]
    },
    {
     "name": "stdout",
     "output_type": "stream",
     "text": [
      "R(3.1341462)\n"
     ]
    },
    {
     "name": "stderr",
     "output_type": "stream",
     "text": [
      "\r",
      "┣██████▍             ┫ [31.98%, 71/222, 04:14/13:15, 2.95s/i] "
     ]
    },
    {
     "name": "stdout",
     "output_type": "stream",
     "text": [
      "R(5.18723)\n"
     ]
    },
    {
     "name": "stderr",
     "output_type": "stream",
     "text": [
      "\r",
      "┣██████▍             ┫ [32.43%, 72/222, 04:19/13:18, 4.50s/i] "
     ]
    },
    {
     "name": "stdout",
     "output_type": "stream",
     "text": [
      "R(12.945058)\n"
     ]
    },
    {
     "name": "stderr",
     "output_type": "stream",
     "text": [
      "\r",
      "┣██████▌             ┫ [32.88%, 73/222, 04:22/13:18, 3.41s/i] "
     ]
    },
    {
     "name": "stdout",
     "output_type": "stream",
     "text": [
      "R(14.766271)\n"
     ]
    },
    {
     "name": "stderr",
     "output_type": "stream",
     "text": [
      "\r",
      "┣██████▋             ┫ [33.33%, 74/222, 04:26/13:17, 3.43s/i] "
     ]
    },
    {
     "name": "stdout",
     "output_type": "stream",
     "text": [
      "R(6.8491855)\n"
     ]
    },
    {
     "name": "stderr",
     "output_type": "stream",
     "text": [
      "\r",
      "┣██████▊             ┫ [33.78%, 75/222, 04:29/13:16, 3.22s/i] "
     ]
    },
    {
     "name": "stdout",
     "output_type": "stream",
     "text": [
      "R(2.7074306)\n"
     ]
    },
    {
     "name": "stderr",
     "output_type": "stream",
     "text": [
      "\r",
      "┣██████▊             ┫ [34.23%, 76/222, 04:33/13:18, 4.40s/i] "
     ]
    },
    {
     "name": "stdout",
     "output_type": "stream",
     "text": [
      "R(20.659336)\n"
     ]
    },
    {
     "name": "stderr",
     "output_type": "stream",
     "text": [
      "\r",
      "┣██████▉             ┫ [34.68%, 77/222, 04:37/13:18, 3.52s/i] "
     ]
    },
    {
     "name": "stdout",
     "output_type": "stream",
     "text": [
      "R(2.2370555)\n"
     ]
    },
    {
     "name": "stderr",
     "output_type": "stream",
     "text": [
      "\r",
      "┣███████             ┫ [35.14%, 78/222, 04:40/13:16, 2.91s/i] "
     ]
    },
    {
     "name": "stdout",
     "output_type": "stream",
     "text": [
      "R(22.298042)\n"
     ]
    },
    {
     "name": "stderr",
     "output_type": "stream",
     "text": [
      "\r",
      "┣███████             ┫ [35.59%, 79/222, 04:43/13:16, 3.50s/i] "
     ]
    },
    {
     "name": "stdout",
     "output_type": "stream",
     "text": [
      "R(15.840834)\n"
     ]
    },
    {
     "name": "stderr",
     "output_type": "stream",
     "text": [
      "\r",
      "┣███████▏            ┫ [36.04%, 80/222, 04:47/13:16, 3.77s/i] "
     ]
    },
    {
     "name": "stdout",
     "output_type": "stream",
     "text": [
      "R(8.185951)\n"
     ]
    },
    {
     "name": "stderr",
     "output_type": "stream",
     "text": [
      "\r",
      "┣███████▎            ┫ [36.49%, 81/222, 04:52/13:20, 4.88s/i] "
     ]
    },
    {
     "name": "stdout",
     "output_type": "stream",
     "text": [
      "R(2.8118799)\n"
     ]
    },
    {
     "name": "stderr",
     "output_type": "stream",
     "text": [
      "\r",
      "┣███████▍            ┫ [36.94%, 82/222, 04:55/13:18, 2.99s/i] "
     ]
    },
    {
     "name": "stdout",
     "output_type": "stream",
     "text": [
      "R(6.093169)\n"
     ]
    },
    {
     "name": "stderr",
     "output_type": "stream",
     "text": [
      "\r",
      "┣███████▍            ┫ [37.39%, 83/222, 04:58/13:16, 2.87s/i] "
     ]
    },
    {
     "name": "stdout",
     "output_type": "stream",
     "text": [
      "R(7.586382)\n"
     ]
    },
    {
     "name": "stderr",
     "output_type": "stream",
     "text": [
      "\r",
      "┣███████▌            ┫ [37.84%, 84/222, 05:01/13:16, 3.37s/i] "
     ]
    },
    {
     "name": "stdout",
     "output_type": "stream",
     "text": [
      "R(3.8558166)\n"
     ]
    },
    {
     "name": "stderr",
     "output_type": "stream",
     "text": [
      "\r",
      "┣███████▋            ┫ [38.29%, 85/222, 05:06/13:18, 4.42s/i] "
     ]
    },
    {
     "name": "stdout",
     "output_type": "stream",
     "text": [
      "R(1.478913)\n"
     ]
    },
    {
     "name": "stderr",
     "output_type": "stream",
     "text": [
      "\r",
      "┣███████▋            ┫ [38.74%, 86/222, 05:08/13:15, 2.54s/i] "
     ]
    },
    {
     "name": "stdout",
     "output_type": "stream",
     "text": [
      "R(12.209298)\n"
     ]
    },
    {
     "name": "stderr",
     "output_type": "stream",
     "text": [
      "\r",
      "┣███████▊            ┫ [39.19%, 87/222, 05:11/13:14, 3.24s/i] "
     ]
    },
    {
     "name": "stdout",
     "output_type": "stream",
     "text": [
      "R(3.6240847)\n"
     ]
    },
    {
     "name": "stderr",
     "output_type": "stream",
     "text": [
      "\r",
      "┣███████▉            ┫ [39.64%, 88/222, 05:14/13:13, 3.15s/i] "
     ]
    },
    {
     "name": "stdout",
     "output_type": "stream",
     "text": [
      "R(6.075239)\n"
     ]
    },
    {
     "name": "stderr",
     "output_type": "stream",
     "text": [
      "\r",
      "┣████████            ┫ [40.09%, 89/222, 05:18/13:12, 3.10s/i] "
     ]
    },
    {
     "name": "stdout",
     "output_type": "stream",
     "text": [
      "R(66.24525)\n"
     ]
    },
    {
     "name": "stderr",
     "output_type": "stream",
     "text": [
      "\r",
      "┣████████            ┫ [40.54%, 90/222, 05:24/13:20, 6.58s/i] "
     ]
    },
    {
     "name": "stdout",
     "output_type": "stream",
     "text": [
      "R(16.361403)\n"
     ]
    },
    {
     "name": "stderr",
     "output_type": "stream",
     "text": [
      "\r",
      "┣████████▏           ┫ [40.99%, 91/222, 05:28/13:20, 3.63s/i] "
     ]
    },
    {
     "name": "stdout",
     "output_type": "stream",
     "text": [
      "R(34.523617)\n"
     ]
    },
    {
     "name": "stderr",
     "output_type": "stream",
     "text": [
      "\r",
      "┣████████▎           ┫ [41.44%, 92/222, 05:31/13:19, 3.48s/i] "
     ]
    },
    {
     "name": "stdout",
     "output_type": "stream",
     "text": [
      "R(9.989081)\n"
     ]
    },
    {
     "name": "stderr",
     "output_type": "stream",
     "text": [
      "\r",
      "┣████████▍           ┫ [41.89%, 93/222, 05:34/13:18, 3.20s/i] "
     ]
    },
    {
     "name": "stdout",
     "output_type": "stream",
     "text": [
      "R(5.6570063)\n"
     ]
    },
    {
     "name": "stderr",
     "output_type": "stream",
     "text": [
      "\r",
      "┣████████▍           ┫ [42.34%, 94/222, 05:39/13:20, 4.18s/i] "
     ]
    },
    {
     "name": "stdout",
     "output_type": "stream",
     "text": [
      "R(13.944852)\n"
     ]
    },
    {
     "name": "stderr",
     "output_type": "stream",
     "text": [
      "\r",
      "┣████████▌           ┫ [42.79%, 95/222, 05:42/13:19, 3.45s/i] "
     ]
    },
    {
     "name": "stdout",
     "output_type": "stream",
     "text": [
      "R(4.865875)\n"
     ]
    },
    {
     "name": "stderr",
     "output_type": "stream",
     "text": [
      "\r",
      "┣████████▋           ┫ [43.24%, 96/222, 05:45/13:18, 3.05s/i] "
     ]
    },
    {
     "name": "stdout",
     "output_type": "stream",
     "text": [
      "R(5.6618853)\n"
     ]
    },
    {
     "name": "stderr",
     "output_type": "stream",
     "text": [
      "\r",
      "┣████████▋           ┫ [43.69%, 97/222, 05:48/13:17, 2.91s/i] "
     ]
    },
    {
     "name": "stdout",
     "output_type": "stream",
     "text": [
      "R(2.7499404)\n"
     ]
    },
    {
     "name": "stderr",
     "output_type": "stream",
     "text": [
      "\r",
      "┣████████▊           ┫ [44.14%, 98/222, 05:51/13:15, 2.87s/i] "
     ]
    },
    {
     "name": "stdout",
     "output_type": "stream",
     "text": [
      "R(26.289236)\n"
     ]
    },
    {
     "name": "stderr",
     "output_type": "stream",
     "text": [
      "\r",
      "┣████████▉           ┫ [44.59%, 99/222, 05:56/13:19, 5.19s/i] "
     ]
    },
    {
     "name": "stdout",
     "output_type": "stream",
     "text": [
      "R(17.32602)\n"
     ]
    },
    {
     "name": "stderr",
     "output_type": "stream",
     "text": [
      "\r",
      "┣█████████           ┫ [45.05%, 100/222, 06:00/13:19, 3.72s/i] "
     ]
    },
    {
     "name": "stdout",
     "output_type": "stream",
     "text": [
      "R(3.2685492)\n"
     ]
    },
    {
     "name": "stderr",
     "output_type": "stream",
     "text": [
      "\r",
      "┣█████████           ┫ [45.50%, 101/222, 06:03/13:17, 2.72s/i] "
     ]
    },
    {
     "name": "stdout",
     "output_type": "stream",
     "text": [
      "R(2.8966122)\n"
     ]
    },
    {
     "name": "stderr",
     "output_type": "stream",
     "text": [
      "\r",
      "┣█████████▏          ┫ [45.95%, 102/222, 06:05/13:15, 2.75s/i] "
     ]
    },
    {
     "name": "stdout",
     "output_type": "stream",
     "text": [
      "R(28.150711)\n"
     ]
    },
    {
     "name": "stderr",
     "output_type": "stream",
     "text": [
      "\r",
      "┣█████████▎          ┫ [46.40%, 103/222, 06:10/13:18, 5.12s/i] "
     ]
    },
    {
     "name": "stdout",
     "output_type": "stream",
     "text": [
      "R(4.4805646)\n"
     ]
    },
    {
     "name": "stderr",
     "output_type": "stream",
     "text": [
      "\r",
      "┣█████████▎          ┫ [46.85%, 104/222, 06:13/13:17, 2.74s/i] "
     ]
    },
    {
     "name": "stdout",
     "output_type": "stream",
     "text": [
      "R(16.82435)\n"
     ]
    },
    {
     "name": "stderr",
     "output_type": "stream",
     "text": [
      "\r",
      "┣█████████▍          ┫ [47.30%, 105/222, 06:17/13:16, 3.35s/i] "
     ]
    },
    {
     "name": "stdout",
     "output_type": "stream",
     "text": [
      "R(46.400146)\n"
     ]
    },
    {
     "name": "stderr",
     "output_type": "stream",
     "text": [
      "\r",
      "┣█████████▌          ┫ [47.75%, 106/222, 06:21/13:18, 4.65s/i] "
     ]
    },
    {
     "name": "stdout",
     "output_type": "stream",
     "text": [
      "R(24.136738)\n"
     ]
    },
    {
     "name": "stderr",
     "output_type": "stream",
     "text": [
      "\r",
      "┣█████████▋          ┫ [48.20%, 107/222, 06:25/13:18, 3.46s/i] "
     ]
    },
    {
     "name": "stdout",
     "output_type": "stream",
     "text": [
      "R(21.10128)\n"
     ]
    },
    {
     "name": "stderr",
     "output_type": "stream",
     "text": [
      "\r",
      "┣█████████▋          ┫ [48.65%, 108/222, 06:30/13:22, 5.76s/i] "
     ]
    },
    {
     "name": "stdout",
     "output_type": "stream",
     "text": [
      "R(10.931097)\n"
     ]
    },
    {
     "name": "stderr",
     "output_type": "stream",
     "text": [
      "\r",
      "┣█████████▊          ┫ [49.10%, 109/222, 06:34/13:22, 3.40s/i] "
     ]
    },
    {
     "name": "stdout",
     "output_type": "stream",
     "text": [
      "R(4.5691767)\n"
     ]
    },
    {
     "name": "stderr",
     "output_type": "stream",
     "text": [
      "\r",
      "┣█████████▉          ┫ [49.55%, 110/222, 06:36/13:20, 2.73s/i] "
     ]
    },
    {
     "name": "stdout",
     "output_type": "stream",
     "text": [
      "R(2.330139)\n"
     ]
    },
    {
     "name": "stderr",
     "output_type": "stream",
     "text": [
      "\r",
      "┣██████████          ┫ [50.00%, 111/222, 06:39/13:19, 2.87s/i] "
     ]
    },
    {
     "name": "stdout",
     "output_type": "stream",
     "text": [
      "R(13.711262)\n"
     ]
    },
    {
     "name": "stderr",
     "output_type": "stream",
     "text": [
      "\r",
      "┣██████████          ┫ [50.45%, 112/222, 06:44/13:21, 4.52s/i] "
     ]
    },
    {
     "name": "stdout",
     "output_type": "stream",
     "text": [
      "R(4.5805264)\n"
     ]
    },
    {
     "name": "stderr",
     "output_type": "stream",
     "text": [
      "\r",
      "┣██████████▏         ┫ [50.90%, 113/222, 06:47/13:19, 2.89s/i] "
     ]
    },
    {
     "name": "stdout",
     "output_type": "stream",
     "text": [
      "R(10.9212)\n"
     ]
    },
    {
     "name": "stderr",
     "output_type": "stream",
     "text": [
      "\r",
      "┣██████████▎         ┫ [51.35%, 114/222, 06:50/13:19, 3.42s/i] "
     ]
    },
    {
     "name": "stdout",
     "output_type": "stream",
     "text": [
      "R(8.505662)\n"
     ]
    },
    {
     "name": "stderr",
     "output_type": "stream",
     "text": [
      "\r",
      "┣██████████▎         ┫ [51.80%, 115/222, 06:53/13:18, 3.27s/i] "
     ]
    },
    {
     "name": "stdout",
     "output_type": "stream",
     "text": [
      "R(3.2790146)\n"
     ]
    },
    {
     "name": "stderr",
     "output_type": "stream",
     "text": [
      "\r",
      "┣██████████▍         ┫ [52.25%, 116/222, 06:56/13:17, 3.01s/i] "
     ]
    },
    {
     "name": "stdout",
     "output_type": "stream",
     "text": [
      "R(6.7894483)\n"
     ]
    },
    {
     "name": "stderr",
     "output_type": "stream",
     "text": [
      "\r",
      "┣██████████▌         ┫ [52.70%, 117/222, 07:01/13:19, 4.81s/i] "
     ]
    },
    {
     "name": "stdout",
     "output_type": "stream",
     "text": [
      "R(2.3904614)\n"
     ]
    },
    {
     "name": "stderr",
     "output_type": "stream",
     "text": [
      "\r",
      "┣██████████▋         ┫ [53.15%, 118/222, 07:04/13:18, 3.01s/i] "
     ]
    },
    {
     "name": "stdout",
     "output_type": "stream",
     "text": [
      "R(4.677647)\n"
     ]
    },
    {
     "name": "stderr",
     "output_type": "stream",
     "text": [
      "\r",
      "┣██████████▋         ┫ [53.60%, 119/222, 07:07/13:17, 2.81s/i] "
     ]
    },
    {
     "name": "stdout",
     "output_type": "stream",
     "text": [
      "R(6.0920105)\n"
     ]
    },
    {
     "name": "stderr",
     "output_type": "stream",
     "text": [
      "\r",
      "┣██████████▊         ┫ [54.05%, 120/222, 07:10/13:16, 3.28s/i] "
     ]
    },
    {
     "name": "stdout",
     "output_type": "stream",
     "text": [
      "R(21.781982)\n"
     ]
    },
    {
     "name": "stderr",
     "output_type": "stream",
     "text": [
      "\r",
      "┣██████████▉         ┫ [54.50%, 121/222, 07:15/13:18, 4.53s/i] "
     ]
    },
    {
     "name": "stdout",
     "output_type": "stream",
     "text": [
      "R(2.358272)\n"
     ]
    },
    {
     "name": "stderr",
     "output_type": "stream",
     "text": [
      "\r",
      "┣██████████▉         ┫ [54.95%, 122/222, 07:18/13:17, 2.80s/i] "
     ]
    },
    {
     "name": "stdout",
     "output_type": "stream",
     "text": [
      "R(5.2012944)\n"
     ]
    },
    {
     "name": "stderr",
     "output_type": "stream",
     "text": [
      "\r",
      "┣███████████         ┫ [55.41%, 123/222, 07:21/13:15, 3.01s/i] "
     ]
    },
    {
     "name": "stdout",
     "output_type": "stream",
     "text": [
      "R(2.5660672)\n"
     ]
    },
    {
     "name": "stderr",
     "output_type": "stream",
     "text": [
      "\r",
      "┣███████████▏        ┫ [55.86%, 124/222, 07:23/13:14, 2.57s/i] "
     ]
    },
    {
     "name": "stdout",
     "output_type": "stream",
     "text": [
      "R(3.3108718)\n"
     ]
    },
    {
     "name": "stderr",
     "output_type": "stream",
     "text": [
      "\r",
      "┣███████████▎        ┫ [56.31%, 125/222, 07:26/13:12, 2.81s/i] "
     ]
    },
    {
     "name": "stdout",
     "output_type": "stream",
     "text": [
      "R(7.1692743)\n"
     ]
    },
    {
     "name": "stderr",
     "output_type": "stream",
     "text": [
      "\r",
      "┣███████████▎        ┫ [56.76%, 126/222, 07:31/13:14, 4.79s/i] "
     ]
    },
    {
     "name": "stdout",
     "output_type": "stream",
     "text": [
      "R(4.381292)\n"
     ]
    },
    {
     "name": "stderr",
     "output_type": "stream",
     "text": [
      "\r",
      "┣███████████▍        ┫ [57.21%, 127/222, 07:34/13:13, 2.88s/i] "
     ]
    },
    {
     "name": "stdout",
     "output_type": "stream",
     "text": [
      "R(5.072716)\n"
     ]
    },
    {
     "name": "stderr",
     "output_type": "stream",
     "text": [
      "\r",
      "┣███████████▌        ┫ [57.66%, 128/222, 07:37/13:12, 2.87s/i] "
     ]
    },
    {
     "name": "stdout",
     "output_type": "stream",
     "text": [
      "R(2.1172144)\n"
     ]
    },
    {
     "name": "stderr",
     "output_type": "stream",
     "text": [
      "\r",
      "┣███████████▌        ┫ [58.11%, 129/222, 07:39/13:11, 2.71s/i] "
     ]
    },
    {
     "name": "stdout",
     "output_type": "stream",
     "text": [
      "R(2.7233677)\n"
     ]
    },
    {
     "name": "stderr",
     "output_type": "stream",
     "text": [
      "\r",
      "┣███████████▋        ┫ [58.56%, 130/222, 07:43/13:11, 3.96s/i] "
     ]
    },
    {
     "name": "stdout",
     "output_type": "stream",
     "text": [
      "R(6.084355)\n"
     ]
    },
    {
     "name": "stderr",
     "output_type": "stream",
     "text": [
      "\r",
      "┣███████████▊        ┫ [59.01%, 131/222, 07:46/13:10, 3.06s/i] "
     ]
    },
    {
     "name": "stdout",
     "output_type": "stream",
     "text": [
      "R(3.864704)\n"
     ]
    },
    {
     "name": "stderr",
     "output_type": "stream",
     "text": [
      "\r",
      "┣███████████▉        ┫ [59.46%, 132/222, 07:49/13:09, 2.92s/i] "
     ]
    },
    {
     "name": "stdout",
     "output_type": "stream",
     "text": [
      "R(9.731793)\n"
     ]
    },
    {
     "name": "stderr",
     "output_type": "stream",
     "text": [
      "\r",
      "┣███████████▉        ┫ [59.91%, 133/222, 07:53/13:09, 3.37s/i] "
     ]
    },
    {
     "name": "stdout",
     "output_type": "stream",
     "text": [
      "R(20.200628)\n"
     ]
    },
    {
     "name": "stderr",
     "output_type": "stream",
     "text": [
      "\r",
      "┣████████████        ┫ [60.36%, 134/222, 07:56/13:09, 3.59s/i] "
     ]
    },
    {
     "name": "stdout",
     "output_type": "stream",
     "text": [
      "R(3.7703865)\n"
     ]
    },
    {
     "name": "stderr",
     "output_type": "stream",
     "text": [
      "\r",
      "┣████████████▏       ┫ [60.81%, 135/222, 08:01/13:11, 4.56s/i] "
     ]
    },
    {
     "name": "stdout",
     "output_type": "stream",
     "text": [
      "R(25.397861)\n"
     ]
    },
    {
     "name": "stderr",
     "output_type": "stream",
     "text": [
      "\r",
      "┣████████████▎       ┫ [61.26%, 136/222, 08:05/13:11, 4.00s/i] "
     ]
    },
    {
     "name": "stdout",
     "output_type": "stream",
     "text": [
      "R(69.50628)\n"
     ]
    },
    {
     "name": "stderr",
     "output_type": "stream",
     "text": [
      "\r",
      "┣████████████▎       ┫ [61.71%, 137/222, 08:10/13:14, 5.17s/i] "
     ]
    },
    {
     "name": "stdout",
     "output_type": "stream",
     "text": [
      "R(6.1933417)\n"
     ]
    },
    {
     "name": "stderr",
     "output_type": "stream",
     "text": [
      "\r",
      "┣████████████▍       ┫ [62.16%, 138/222, 08:13/13:13, 3.12s/i] "
     ]
    },
    {
     "name": "stdout",
     "output_type": "stream",
     "text": [
      "R(5.9157834)\n"
     ]
    },
    {
     "name": "stderr",
     "output_type": "stream",
     "text": [
      "\r",
      "┣████████████▌       ┫ [62.61%, 139/222, 08:16/13:13, 3.35s/i] "
     ]
    },
    {
     "name": "stdout",
     "output_type": "stream",
     "text": [
      "R(2.2958918)\n"
     ]
    },
    {
     "name": "stderr",
     "output_type": "stream",
     "text": [
      "\r",
      "┣████████████▌       ┫ [63.06%, 140/222, 08:21/13:14, 4.13s/i] "
     ]
    },
    {
     "name": "stdout",
     "output_type": "stream",
     "text": [
      "R(45.2636)\n"
     ]
    },
    {
     "name": "stderr",
     "output_type": "stream",
     "text": [
      "\r",
      "┣████████████▋       ┫ [63.51%, 141/222, 08:26/13:17, 5.38s/i] "
     ]
    },
    {
     "name": "stdout",
     "output_type": "stream",
     "text": [
      "R(11.976879)\n"
     ]
    },
    {
     "name": "stderr",
     "output_type": "stream",
     "text": [
      "\r",
      "┣████████████▊       ┫ [63.96%, 142/222, 08:29/13:16, 3.13s/i] "
     ]
    },
    {
     "name": "stdout",
     "output_type": "stream",
     "text": [
      "R(28.130434)\n"
     ]
    },
    {
     "name": "stderr",
     "output_type": "stream",
     "text": [
      "\r",
      "┣████████████▉       ┫ [64.41%, 143/222, 08:33/13:16, 3.79s/i] "
     ]
    },
    {
     "name": "stdout",
     "output_type": "stream",
     "text": [
      "R(15.951185)\n"
     ]
    },
    {
     "name": "stderr",
     "output_type": "stream",
     "text": [
      "\r",
      "┣████████████▉       ┫ [64.86%, 144/222, 08:36/13:16, 3.39s/i] "
     ]
    },
    {
     "name": "stdout",
     "output_type": "stream",
     "text": [
      "R(12.158396)\n"
     ]
    },
    {
     "name": "stderr",
     "output_type": "stream",
     "text": [
      "\r",
      "┣█████████████       ┫ [65.32%, 145/222, 08:41/13:18, 4.87s/i] "
     ]
    },
    {
     "name": "stdout",
     "output_type": "stream",
     "text": [
      "R(3.3556252)\n"
     ]
    },
    {
     "name": "stderr",
     "output_type": "stream",
     "text": [
      "\r",
      "┣█████████████▏      ┫ [65.77%, 146/222, 08:44/13:17, 3.05s/i] "
     ]
    },
    {
     "name": "stdout",
     "output_type": "stream",
     "text": [
      "R(13.213462)\n"
     ]
    },
    {
     "name": "stderr",
     "output_type": "stream",
     "text": [
      "\r",
      "┣█████████████▏      ┫ [66.22%, 147/222, 08:48/13:17, 3.48s/i] "
     ]
    },
    {
     "name": "stdout",
     "output_type": "stream",
     "text": [
      "R(4.122223)\n"
     ]
    },
    {
     "name": "stderr",
     "output_type": "stream",
     "text": [
      "\r",
      "┣█████████████▎      ┫ [66.67%, 148/222, 08:51/13:16, 3.21s/i] "
     ]
    },
    {
     "name": "stdout",
     "output_type": "stream",
     "text": [
      "R(22.863869)\n"
     ]
    },
    {
     "name": "stderr",
     "output_type": "stream",
     "text": [
      "\r",
      "┣█████████████▍      ┫ [67.12%, 149/222, 08:56/13:18, 4.98s/i] "
     ]
    },
    {
     "name": "stdout",
     "output_type": "stream",
     "text": [
      "R(6.0022154)\n"
     ]
    },
    {
     "name": "stderr",
     "output_type": "stream",
     "text": [
      "\r",
      "┣█████████████▌      ┫ [67.57%, 150/222, 08:59/13:18, 3.14s/i] "
     ]
    },
    {
     "name": "stdout",
     "output_type": "stream",
     "text": [
      "R(20.276253)\n"
     ]
    },
    {
     "name": "stderr",
     "output_type": "stream",
     "text": [
      "\r",
      "┣█████████████▌      ┫ [68.02%, 151/222, 09:03/13:18, 3.51s/i] "
     ]
    },
    {
     "name": "stdout",
     "output_type": "stream",
     "text": [
      "R(12.134063)\n"
     ]
    },
    {
     "name": "stderr",
     "output_type": "stream",
     "text": [
      "\r",
      "┣█████████████▋      ┫ [68.47%, 152/222, 09:06/13:17, 3.28s/i] "
     ]
    },
    {
     "name": "stdout",
     "output_type": "stream",
     "text": [
      "R(32.824623)\n"
     ]
    },
    {
     "name": "stderr",
     "output_type": "stream",
     "text": [
      "\r",
      "┣█████████████▊      ┫ [68.92%, 153/222, 09:09/13:17, 3.59s/i] "
     ]
    },
    {
     "name": "stdout",
     "output_type": "stream",
     "text": [
      "R(1.3370956)\n"
     ]
    },
    {
     "name": "stderr",
     "output_type": "stream",
     "text": [
      "\r",
      "┣█████████████▊      ┫ [69.37%, 154/222, 09:14/13:18, 4.42s/i] "
     ]
    },
    {
     "name": "stdout",
     "output_type": "stream",
     "text": [
      "R(8.7026005)\n"
     ]
    },
    {
     "name": "stderr",
     "output_type": "stream",
     "text": [
      "\r",
      "┣█████████████▉      ┫ [69.82%, 155/222, 09:17/13:18, 3.41s/i] "
     ]
    },
    {
     "name": "stdout",
     "output_type": "stream",
     "text": [
      "R(9.108907)\n"
     ]
    },
    {
     "name": "stderr",
     "output_type": "stream",
     "text": [
      "\r",
      "┣██████████████      ┫ [70.27%, 156/222, 09:20/13:17, 3.14s/i] "
     ]
    },
    {
     "name": "stdout",
     "output_type": "stream",
     "text": [
      "R(2.4742787)\n"
     ]
    },
    {
     "name": "stderr",
     "output_type": "stream",
     "text": [
      "\r",
      "┣██████████████▏     ┫ [70.72%, 157/222, 09:23/13:16, 2.83s/i] "
     ]
    },
    {
     "name": "stdout",
     "output_type": "stream",
     "text": [
      "R(34.422745)\n"
     ]
    },
    {
     "name": "stderr",
     "output_type": "stream",
     "text": [
      "\r",
      "┣██████████████▏     ┫ [71.17%, 158/222, 09:28/13:18, 5.06s/i] "
     ]
    },
    {
     "name": "stdout",
     "output_type": "stream",
     "text": [
      "R(6.2758336)\n"
     ]
    },
    {
     "name": "stderr",
     "output_type": "stream",
     "text": [
      "\r",
      "┣██████████████▎     ┫ [71.62%, 159/222, 09:31/13:18, 2.99s/i] "
     ]
    },
    {
     "name": "stdout",
     "output_type": "stream",
     "text": [
      "R(4.1230493)\n"
     ]
    },
    {
     "name": "stderr",
     "output_type": "stream",
     "text": [
      "\r",
      "┣██████████████▍     ┫ [72.07%, 160/222, 09:34/13:17, 2.97s/i] "
     ]
    },
    {
     "name": "stdout",
     "output_type": "stream",
     "text": [
      "R(5.4036093)\n"
     ]
    },
    {
     "name": "stderr",
     "output_type": "stream",
     "text": [
      "\r",
      "┣██████████████▌     ┫ [72.52%, 161/222, 09:37/13:16, 2.99s/i] "
     ]
    },
    {
     "name": "stdout",
     "output_type": "stream",
     "text": [
      "R(2.944283)\n"
     ]
    },
    {
     "name": "stderr",
     "output_type": "stream",
     "text": [
      "\r",
      "┣██████████████▌     ┫ [72.97%, 162/222, 09:40/13:15, 2.91s/i] "
     ]
    },
    {
     "name": "stdout",
     "output_type": "stream",
     "text": [
      "R(8.040828)\n"
     ]
    },
    {
     "name": "stderr",
     "output_type": "stream",
     "text": [
      "\r",
      "┣██████████████▋     ┫ [73.42%, 163/222, 09:45/13:16, 4.48s/i] "
     ]
    },
    {
     "name": "stdout",
     "output_type": "stream",
     "text": [
      "R(5.591019)\n"
     ]
    },
    {
     "name": "stderr",
     "output_type": "stream",
     "text": [
      "\r",
      "┣██████████████▊     ┫ [73.87%, 164/222, 09:48/13:16, 3.46s/i] "
     ]
    },
    {
     "name": "stdout",
     "output_type": "stream",
     "text": [
      "R(11.516835)\n"
     ]
    },
    {
     "name": "stderr",
     "output_type": "stream",
     "text": [
      "\r",
      "┣██████████████▊     ┫ [74.32%, 165/222, 09:51/13:16, 3.43s/i] "
     ]
    },
    {
     "name": "stdout",
     "output_type": "stream",
     "text": [
      "R(32.937725)\n"
     ]
    },
    {
     "name": "stderr",
     "output_type": "stream",
     "text": [
      "\r",
      "┣██████████████▉     ┫ [74.77%, 166/222, 09:55/13:15, 3.32s/i] "
     ]
    },
    {
     "name": "stdout",
     "output_type": "stream",
     "text": [
      "R(3.2122931)\n"
     ]
    },
    {
     "name": "stderr",
     "output_type": "stream",
     "text": [
      "\r",
      "┣███████████████     ┫ [75.23%, 167/222, 09:59/13:16, 4.21s/i] "
     ]
    },
    {
     "name": "stdout",
     "output_type": "stream",
     "text": [
      "R(2.8032207)\n"
     ]
    },
    {
     "name": "stderr",
     "output_type": "stream",
     "text": [
      "\r",
      "┣███████████████▏    ┫ [75.68%, 168/222, 10:02/13:15, 2.91s/i] "
     ]
    },
    {
     "name": "stdout",
     "output_type": "stream",
     "text": [
      "R(2.6061606)\n"
     ]
    },
    {
     "name": "stderr",
     "output_type": "stream",
     "text": [
      "\r",
      "┣███████████████▏    ┫ [76.13%, 169/222, 10:05/13:14, 2.64s/i] "
     ]
    },
    {
     "name": "stdout",
     "output_type": "stream",
     "text": [
      "R(12.910337)\n"
     ]
    },
    {
     "name": "stderr",
     "output_type": "stream",
     "text": [
      "\r",
      "┣███████████████▎    ┫ [76.58%, 170/222, 10:08/13:14, 3.19s/i] "
     ]
    },
    {
     "name": "stdout",
     "output_type": "stream",
     "text": [
      "R(18.367887)\n"
     ]
    },
    {
     "name": "stderr",
     "output_type": "stream",
     "text": [
      "\r",
      "┣███████████████▍    ┫ [77.03%, 171/222, 10:11/13:13, 3.40s/i] "
     ]
    },
    {
     "name": "stdout",
     "output_type": "stream",
     "text": [
      "R(29.84799)\n"
     ]
    },
    {
     "name": "stderr",
     "output_type": "stream",
     "text": [
      "\r",
      "┣███████████████▍    ┫ [77.48%, 172/222, 10:17/13:16, 5.62s/i] "
     ]
    },
    {
     "name": "stdout",
     "output_type": "stream",
     "text": [
      "R(36.135117)\n"
     ]
    },
    {
     "name": "stderr",
     "output_type": "stream",
     "text": [
      "\r",
      "┣███████████████▌    ┫ [77.93%, 173/222, 10:21/13:16, 3.93s/i] "
     ]
    },
    {
     "name": "stdout",
     "output_type": "stream",
     "text": [
      "R(1.3899488)\n"
     ]
    },
    {
     "name": "stderr",
     "output_type": "stream",
     "text": [
      "\r",
      "┣███████████████▋    ┫ [78.38%, 174/222, 10:23/13:15, 2.72s/i] "
     ]
    },
    {
     "name": "stdout",
     "output_type": "stream",
     "text": [
      "R(11.805786)\n"
     ]
    },
    {
     "name": "stderr",
     "output_type": "stream",
     "text": [
      "\r",
      "┣███████████████▊    ┫ [78.83%, 175/222, 10:27/13:15, 3.43s/i] "
     ]
    },
    {
     "name": "stdout",
     "output_type": "stream",
     "text": [
      "R(37.25022)\n"
     ]
    },
    {
     "name": "stderr",
     "output_type": "stream",
     "text": [
      "\r",
      "┣███████████████▊    ┫ [79.28%, 176/222, 10:32/13:18, 5.56s/i] "
     ]
    },
    {
     "name": "stdout",
     "output_type": "stream",
     "text": [
      "R(3.6105323)\n"
     ]
    },
    {
     "name": "stderr",
     "output_type": "stream",
     "text": [
      "\r",
      "┣███████████████▉    ┫ [79.73%, 177/222, 10:35/13:17, 3.02s/i] "
     ]
    },
    {
     "name": "stdout",
     "output_type": "stream",
     "text": [
      "R(15.698749)\n"
     ]
    },
    {
     "name": "stderr",
     "output_type": "stream",
     "text": [
      "\r",
      "┣████████████████    ┫ [80.18%, 178/222, 10:39/13:17, 3.60s/i] "
     ]
    },
    {
     "name": "stdout",
     "output_type": "stream",
     "text": [
      "R(8.300282)\n"
     ]
    },
    {
     "name": "stderr",
     "output_type": "stream",
     "text": [
      "\r",
      "┣████████████████▏   ┫ [80.63%, 179/222, 10:42/13:17, 3.23s/i] "
     ]
    },
    {
     "name": "stdout",
     "output_type": "stream",
     "text": [
      "R(3.7189736)\n"
     ]
    },
    {
     "name": "stderr",
     "output_type": "stream",
     "text": [
      "\r",
      "┣████████████████▏   ┫ [81.08%, 180/222, 10:45/13:16, 2.93s/i] "
     ]
    },
    {
     "name": "stdout",
     "output_type": "stream",
     "text": [
      "R(23.300385)\n"
     ]
    },
    {
     "name": "stderr",
     "output_type": "stream",
     "text": [
      "\r",
      "┣████████████████▎   ┫ [81.53%, 181/222, 10:50/13:18, 5.04s/i] "
     ]
    },
    {
     "name": "stdout",
     "output_type": "stream",
     "text": [
      "R(3.575576)\n"
     ]
    },
    {
     "name": "stderr",
     "output_type": "stream",
     "text": [
      "\r",
      "┣████████████████▍   ┫ [81.98%, 182/222, 10:54/13:17, 3.33s/i] "
     ]
    },
    {
     "name": "stdout",
     "output_type": "stream",
     "text": [
      "R(25.388992)\n"
     ]
    },
    {
     "name": "stderr",
     "output_type": "stream",
     "text": [
      "\r",
      "┣████████████████▍   ┫ [82.43%, 183/222, 10:57/13:17, 3.50s/i] "
     ]
    },
    {
     "name": "stdout",
     "output_type": "stream",
     "text": [
      "R(25.873966)\n"
     ]
    },
    {
     "name": "stderr",
     "output_type": "stream",
     "text": [
      "\r",
      "┣████████████████▌   ┫ [82.88%, 184/222, 11:01/13:17, 3.61s/i] "
     ]
    },
    {
     "name": "stdout",
     "output_type": "stream",
     "text": [
      "R(4.007623)\n"
     ]
    },
    {
     "name": "stderr",
     "output_type": "stream",
     "text": [
      "\r",
      "┣████████████████▋   ┫ [83.33%, 185/222, 11:05/13:18, 4.03s/i] "
     ]
    },
    {
     "name": "stdout",
     "output_type": "stream",
     "text": [
      "R(9.850941)\n"
     ]
    },
    {
     "name": "stderr",
     "output_type": "stream",
     "text": [
      "\r",
      "┣████████████████▊   ┫ [83.78%, 186/222, 11:08/13:17, 3.39s/i] "
     ]
    },
    {
     "name": "stdout",
     "output_type": "stream",
     "text": [
      "R(23.309544)\n"
     ]
    },
    {
     "name": "stderr",
     "output_type": "stream",
     "text": [
      "\r",
      "┣████████████████▊   ┫ [84.23%, 187/222, 11:12/13:18, 3.85s/i] "
     ]
    },
    {
     "name": "stdout",
     "output_type": "stream",
     "text": [
      "R(6.5132194)\n"
     ]
    },
    {
     "name": "stderr",
     "output_type": "stream",
     "text": [
      "\r",
      "┣████████████████▉   ┫ [84.68%, 188/222, 11:15/13:17, 3.05s/i] "
     ]
    },
    {
     "name": "stdout",
     "output_type": "stream",
     "text": [
      "R(31.768042)\n"
     ]
    },
    {
     "name": "stderr",
     "output_type": "stream",
     "text": [
      "\r",
      "┣█████████████████   ┫ [85.14%, 189/222, 11:19/13:17, 3.63s/i] "
     ]
    },
    {
     "name": "stdout",
     "output_type": "stream",
     "text": [
      "R(2.4040785)\n"
     ]
    },
    {
     "name": "stderr",
     "output_type": "stream",
     "text": [
      "\r",
      "┣█████████████████   ┫ [85.59%, 190/222, 11:22/13:16, 2.91s/i] "
     ]
    },
    {
     "name": "stdout",
     "output_type": "stream",
     "text": [
      "R(2.7183886)\n"
     ]
    },
    {
     "name": "stderr",
     "output_type": "stream",
     "text": [
      "\r",
      "┣█████████████████▏  ┫ [86.04%, 191/222, 11:26/13:17, 4.59s/i] "
     ]
    },
    {
     "name": "stdout",
     "output_type": "stream",
     "text": [
      "R(4.3457556)\n"
     ]
    },
    {
     "name": "stderr",
     "output_type": "stream",
     "text": [
      "\r",
      "┣█████████████████▎  ┫ [86.49%, 192/222, 11:29/13:17, 3.17s/i] "
     ]
    },
    {
     "name": "stdout",
     "output_type": "stream",
     "text": [
      "R(10.935419)\n"
     ]
    },
    {
     "name": "stderr",
     "output_type": "stream",
     "text": [
      "\r",
      "┣█████████████████▍  ┫ [86.94%, 193/222, 11:33/13:17, 3.21s/i] "
     ]
    },
    {
     "name": "stdout",
     "output_type": "stream",
     "text": [
      "R(7.2187634)\n"
     ]
    },
    {
     "name": "stderr",
     "output_type": "stream",
     "text": [
      "\r",
      "┣█████████████████▍  ┫ [87.39%, 194/222, 11:36/13:16, 3.31s/i] "
     ]
    },
    {
     "name": "stdout",
     "output_type": "stream",
     "text": [
      "R(15.073315)\n"
     ]
    },
    {
     "name": "stderr",
     "output_type": "stream",
     "text": [
      "\r",
      "┣█████████████████▌  ┫ [87.84%, 195/222, 11:41/13:18, 4.81s/i] "
     ]
    },
    {
     "name": "stdout",
     "output_type": "stream",
     "text": [
      "R(37.361908)\n"
     ]
    },
    {
     "name": "stderr",
     "output_type": "stream",
     "text": [
      "\r",
      "┣█████████████████▋  ┫ [88.29%, 196/222, 11:45/13:18, 4.03s/i] "
     ]
    },
    {
     "name": "stdout",
     "output_type": "stream",
     "text": [
      "R(3.879548)\n"
     ]
    },
    {
     "name": "stderr",
     "output_type": "stream",
     "text": [
      "\r",
      "┣█████████████████▋  ┫ [88.74%, 197/222, 11:48/13:18, 3.12s/i] "
     ]
    },
    {
     "name": "stdout",
     "output_type": "stream",
     "text": [
      "R(2.8509731)\n"
     ]
    },
    {
     "name": "stderr",
     "output_type": "stream",
     "text": [
      "\r",
      "┣█████████████████▊  ┫ [89.19%, 198/222, 11:51/13:17, 3.02s/i] "
     ]
    },
    {
     "name": "stdout",
     "output_type": "stream",
     "text": [
      "R(19.133116)\n"
     ]
    },
    {
     "name": "stderr",
     "output_type": "stream",
     "text": [
      "\r",
      "┣█████████████████▉  ┫ [89.64%, 199/222, 11:54/13:17, 3.35s/i] "
     ]
    },
    {
     "name": "stdout",
     "output_type": "stream",
     "text": [
      "R(3.1907701)\n"
     ]
    },
    {
     "name": "stderr",
     "output_type": "stream",
     "text": [
      "\r",
      "┣██████████████████  ┫ [90.09%, 200/222, 11:59/13:18, 4.73s/i] "
     ]
    },
    {
     "name": "stdout",
     "output_type": "stream",
     "text": [
      "R(84.5655)\n"
     ]
    },
    {
     "name": "stderr",
     "output_type": "stream",
     "text": [
      "\r",
      "┣██████████████████  ┫ [90.54%, 201/222, 12:05/13:20, 5.85s/i] "
     ]
    },
    {
     "name": "stdout",
     "output_type": "stream",
     "text": [
      "R(15.492856)\n"
     ]
    },
    {
     "name": "stderr",
     "output_type": "stream",
     "text": [
      "\r",
      "┣██████████████████▏ ┫ [90.99%, 202/222, 12:08/13:20, 3.19s/i] "
     ]
    },
    {
     "name": "stdout",
     "output_type": "stream",
     "text": [
      "R(21.019981)\n"
     ]
    },
    {
     "name": "stderr",
     "output_type": "stream",
     "text": [
      "\r",
      "┣██████████████████▎ ┫ [91.44%, 203/222, 12:12/13:20, 3.64s/i] "
     ]
    },
    {
     "name": "stdout",
     "output_type": "stream",
     "text": [
      "R(50.718025)\n"
     ]
    },
    {
     "name": "stderr",
     "output_type": "stream",
     "text": [
      "\r",
      "┣██████████████████▍ ┫ [91.89%, 204/222, 12:18/13:23, 6.01s/i] "
     ]
    },
    {
     "name": "stdout",
     "output_type": "stream",
     "text": [
      "R(6.5300364)\n"
     ]
    },
    {
     "name": "stderr",
     "output_type": "stream",
     "text": [
      "\r",
      "┣██████████████████▍ ┫ [92.34%, 205/222, 12:20/13:22, 2.90s/i] "
     ]
    },
    {
     "name": "stdout",
     "output_type": "stream",
     "text": [
      "R(2.9317992)\n"
     ]
    },
    {
     "name": "stderr",
     "output_type": "stream",
     "text": [
      "\r",
      "┣██████████████████▌ ┫ [92.79%, 206/222, 12:24/13:21, 3.19s/i] "
     ]
    },
    {
     "name": "stdout",
     "output_type": "stream",
     "text": [
      "R(13.427055)\n"
     ]
    },
    {
     "name": "stderr",
     "output_type": "stream",
     "text": [
      "\r",
      "┣██████████████████▋ ┫ [93.24%, 207/222, 12:27/13:21, 3.40s/i] "
     ]
    },
    {
     "name": "stdout",
     "output_type": "stream",
     "text": [
      "R(3.226731)\n"
     ]
    },
    {
     "name": "stderr",
     "output_type": "stream",
     "text": [
      "\r",
      "┣██████████████████▋ ┫ [93.69%, 208/222, 12:30/13:20, 2.92s/i] "
     ]
    },
    {
     "name": "stdout",
     "output_type": "stream",
     "text": [
      "R(3.538168)\n"
     ]
    },
    {
     "name": "stderr",
     "output_type": "stream",
     "text": [
      "\r",
      "┣██████████████████▊ ┫ [94.14%, 209/222, 12:35/13:21, 4.53s/i] "
     ]
    },
    {
     "name": "stdout",
     "output_type": "stream",
     "text": [
      "R(8.029191)\n"
     ]
    },
    {
     "name": "stderr",
     "output_type": "stream",
     "text": [
      "\r",
      "┣██████████████████▉ ┫ [94.59%, 210/222, 12:38/13:21, 3.31s/i] "
     ]
    },
    {
     "name": "stdout",
     "output_type": "stream",
     "text": [
      "R(45.34259)\n"
     ]
    },
    {
     "name": "stderr",
     "output_type": "stream",
     "text": [
      "\r",
      "┣███████████████████ ┫ [95.05%, 211/222, 12:42/13:22, 4.40s/i] "
     ]
    },
    {
     "name": "stdout",
     "output_type": "stream",
     "text": [
      "R(12.988746)\n"
     ]
    },
    {
     "name": "stderr",
     "output_type": "stream",
     "text": [
      "\r",
      "┣███████████████████ ┫ [95.50%, 212/222, 12:45/13:22, 3.22s/i] "
     ]
    },
    {
     "name": "stdout",
     "output_type": "stream",
     "text": [
      "R(4.204788)\n"
     ]
    },
    {
     "name": "stderr",
     "output_type": "stream",
     "text": [
      "\r",
      "┣███████████████████▏┫ [95.95%, 213/222, 12:49/13:21, 3.15s/i] "
     ]
    },
    {
     "name": "stdout",
     "output_type": "stream",
     "text": [
      "R(3.2375882)\n"
     ]
    },
    {
     "name": "stderr",
     "output_type": "stream",
     "text": [
      "\r",
      "┣███████████████████▎┫ [96.40%, 214/222, 12:53/13:22, 4.24s/i] "
     ]
    },
    {
     "name": "stdout",
     "output_type": "stream",
     "text": [
      "R(9.740768)\n"
     ]
    },
    {
     "name": "stderr",
     "output_type": "stream",
     "text": [
      "\r",
      "┣███████████████████▎┫ [96.85%, 215/222, 12:56/13:21, 3.37s/i] "
     ]
    },
    {
     "name": "stdout",
     "output_type": "stream",
     "text": [
      "R(6.6063128)\n"
     ]
    },
    {
     "name": "stderr",
     "output_type": "stream",
     "text": [
      "\r",
      "┣███████████████████▍┫ [97.30%, 216/222, 12:59/13:21, 2.95s/i] "
     ]
    },
    {
     "name": "stdout",
     "output_type": "stream",
     "text": [
      "R(10.229841)\n"
     ]
    },
    {
     "name": "stderr",
     "output_type": "stream",
     "text": [
      "\r",
      "┣███████████████████▌┫ [97.75%, 217/222, 13:02/13:20, 3.09s/i] "
     ]
    },
    {
     "name": "stdout",
     "output_type": "stream",
     "text": [
      "R(14.174732)\n"
     ]
    },
    {
     "name": "stderr",
     "output_type": "stream",
     "text": [
      "\r",
      "┣███████████████████▋┫ [98.20%, 218/222, 13:06/13:20, 3.45s/i] "
     ]
    },
    {
     "name": "stdout",
     "output_type": "stream",
     "text": [
      "R(23.460371)\n"
     ]
    },
    {
     "name": "stderr",
     "output_type": "stream",
     "text": [
      "\r",
      "┣███████████████████▋┫ [98.65%, 219/222, 13:11/13:22, 5.21s/i] "
     ]
    },
    {
     "name": "stdout",
     "output_type": "stream",
     "text": [
      "R(20.587889)\n"
     ]
    },
    {
     "name": "stderr",
     "output_type": "stream",
     "text": [
      "\r",
      "┣███████████████████▊┫ [99.10%, 220/222, 13:15/13:22, 3.70s/i] "
     ]
    },
    {
     "name": "stdout",
     "output_type": "stream",
     "text": [
      "R(4.956978)\n"
     ]
    },
    {
     "name": "stderr",
     "output_type": "stream",
     "text": [
      "\r",
      "┣███████████████████▉┫ [99.55%, 221/222, 13:18/13:21, 3.08s/i] "
     ]
    },
    {
     "name": "stdout",
     "output_type": "stream",
     "text": [
      "R(14.303425)\n"
     ]
    },
    {
     "name": "stderr",
     "output_type": "stream",
     "text": [
      "┣████████████████████┫ [100.00%, 222/222, 13:21/13:21, 3.61s/i] \n"
     ]
    },
    {
     "name": "stdout",
     "output_type": "stream",
     "text": [
      "R(11.41366)\n"
     ]
    },
    {
     "name": "stderr",
     "output_type": "stream",
     "text": [
      "\r",
      "┣                    ┫ [0.45%, 1/222, 00:05/16:57, 4.58s/i] "
     ]
    },
    {
     "name": "stdout",
     "output_type": "stream",
     "text": [
      "R(3.5575888)\n"
     ]
    },
    {
     "name": "stderr",
     "output_type": "stream",
     "text": [
      "\r",
      "┣▏                   ┫ [0.90%, 2/222, 00:08/14:29, 3.25s/i] "
     ]
    },
    {
     "name": "stdout",
     "output_type": "stream",
     "text": [
      "R(12.029876)\n"
     ]
    },
    {
     "name": "stderr",
     "output_type": "stream",
     "text": [
      "\r",
      "┣▎                   ┫ [1.35%, 3/222, 00:11/13:41, 3.27s/i] "
     ]
    },
    {
     "name": "stdout",
     "output_type": "stream",
     "text": [
      "R(11.707074)\n"
     ]
    },
    {
     "name": "stderr",
     "output_type": "stream",
     "text": [
      "\r",
      "┣▎                   ┫ [1.80%, 4/222, 00:14/13:16, 3.23s/i] "
     ]
    },
    {
     "name": "stdout",
     "output_type": "stream",
     "text": [
      "R(2.5176203)\n"
     ]
    },
    {
     "name": "stderr",
     "output_type": "stream",
     "text": [
      "\r",
      "┣▍                   ┫ [2.25%, 5/222, 00:17/12:45, 2.89s/i] "
     ]
    },
    {
     "name": "stdout",
     "output_type": "stream",
     "text": [
      "R(1.1658568)\n"
     ]
    },
    {
     "name": "stderr",
     "output_type": "stream",
     "text": [
      "\r",
      "┣▌                   ┫ [2.70%, 6/222, 00:22/13:17, 4.31s/i] "
     ]
    },
    {
     "name": "stdout",
     "output_type": "stream",
     "text": [
      "R(3.8372066)\n"
     ]
    },
    {
     "name": "stderr",
     "output_type": "stream",
     "text": [
      "\r",
      "┣▋                   ┫ [3.15%, 7/222, 00:25/13:03, 3.16s/i] "
     ]
    },
    {
     "name": "stdout",
     "output_type": "stream",
     "text": [
      "R(3.8462994)\n"
     ]
    },
    {
     "name": "stderr",
     "output_type": "stream",
     "text": [
      "\r",
      "┣▋                   ┫ [3.60%, 8/222, 00:28/12:55, 3.22s/i] "
     ]
    },
    {
     "name": "stdout",
     "output_type": "stream",
     "text": [
      "R(2.508286)\n"
     ]
    },
    {
     "name": "stderr",
     "output_type": "stream",
     "text": [
      "\r",
      "┣▊                   ┫ [4.05%, 9/222, 00:31/12:47, 3.17s/i] "
     ]
    },
    {
     "name": "stdout",
     "output_type": "stream",
     "text": [
      "R(12.6817875)\n"
     ]
    },
    {
     "name": "stderr",
     "output_type": "stream",
     "text": [
      "\r",
      "┣▉                   ┫ [4.50%, 10/222, 00:36/13:18, 4.87s/i] "
     ]
    },
    {
     "name": "stdout",
     "output_type": "stream",
     "text": [
      "R(3.9321523)\n"
     ]
    },
    {
     "name": "stderr",
     "output_type": "stream",
     "text": [
      "\r",
      "┣▉                   ┫ [4.95%, 11/222, 00:39/13:09, 3.14s/i] "
     ]
    },
    {
     "name": "stdout",
     "output_type": "stream",
     "text": [
      "R(1.0995996)\n"
     ]
    },
    {
     "name": "stderr",
     "output_type": "stream",
     "text": [
      "\r",
      "┣█                   ┫ [5.41%, 12/222, 00:42/12:58, 2.95s/i] "
     ]
    },
    {
     "name": "stdout",
     "output_type": "stream",
     "text": [
      "R(2.7774727)\n"
     ]
    },
    {
     "name": "stderr",
     "output_type": "stream",
     "text": [
      "\r",
      "┣█▏                  ┫ [5.86%, 13/222, 00:45/12:51, 3.08s/i] "
     ]
    },
    {
     "name": "stdout",
     "output_type": "stream",
     "text": [
      "R(8.034629)\n"
     ]
    },
    {
     "name": "stderr",
     "output_type": "stream",
     "text": [
      "\r",
      "┣█▎                  ┫ [6.31%, 14/222, 00:48/12:45, 3.14s/i] "
     ]
    },
    {
     "name": "stdout",
     "output_type": "stream",
     "text": [
      "R(7.0304117)\n"
     ]
    },
    {
     "name": "stderr",
     "output_type": "stream",
     "text": [
      "\r",
      "┣█▎                  ┫ [6.76%, 15/222, 00:53/13:04, 4.69s/i] "
     ]
    },
    {
     "name": "stdout",
     "output_type": "stream",
     "text": [
      "R(7.7732306)\n"
     ]
    },
    {
     "name": "stderr",
     "output_type": "stream",
     "text": [
      "\r",
      "┣█▍                  ┫ [7.21%, 16/222, 00:56/13:01, 3.30s/i] "
     ]
    },
    {
     "name": "stdout",
     "output_type": "stream",
     "text": [
      "R(8.951848)\n"
     ]
    },
    {
     "name": "stderr",
     "output_type": "stream",
     "text": [
      "\r",
      "┣█▌                  ┫ [7.66%, 17/222, 01:00/13:00, 3.47s/i] "
     ]
    },
    {
     "name": "stdout",
     "output_type": "stream",
     "text": [
      "R(9.390418)\n"
     ]
    },
    {
     "name": "stderr",
     "output_type": "stream",
     "text": [
      "\r",
      "┣█▌                  ┫ [8.11%, 18/222, 01:03/12:59, 3.42s/i] "
     ]
    },
    {
     "name": "stdout",
     "output_type": "stream",
     "text": [
      "R(4.9926367)\n"
     ]
    },
    {
     "name": "stderr",
     "output_type": "stream",
     "text": [
      "\r",
      "┣█▋                  ┫ [8.56%, 19/222, 01:08/13:11, 4.58s/i] "
     ]
    },
    {
     "name": "stdout",
     "output_type": "stream",
     "text": [
      "R(8.410491)\n"
     ]
    },
    {
     "name": "stderr",
     "output_type": "stream",
     "text": [
      "\r",
      "┣█▊                  ┫ [9.01%, 20/222, 01:11/13:07, 3.21s/i] "
     ]
    },
    {
     "name": "stdout",
     "output_type": "stream",
     "text": [
      "R(1.8848854)\n"
     ]
    },
    {
     "name": "stderr",
     "output_type": "stream",
     "text": [
      "\r",
      "┣█▉                  ┫ [9.46%, 21/222, 01:14/13:02, 3.00s/i] "
     ]
    },
    {
     "name": "stdout",
     "output_type": "stream",
     "text": [
      "R(17.39664)\n"
     ]
    },
    {
     "name": "stderr",
     "output_type": "stream",
     "text": [
      "\r",
      "┣█▉                  ┫ [9.91%, 22/222, 01:18/13:02, 3.56s/i] "
     ]
    },
    {
     "name": "stdout",
     "output_type": "stream",
     "text": [
      "R(0.98815227)\n"
     ]
    },
    {
     "name": "stderr",
     "output_type": "stream",
     "text": [
      "\r",
      "┣██                  ┫ [10.36%, 23/222, 01:20/12:54, 2.72s/i] "
     ]
    },
    {
     "name": "stdout",
     "output_type": "stream",
     "text": [
      "R(3.4009483)\n"
     ]
    },
    {
     "name": "stderr",
     "output_type": "stream",
     "text": [
      "\r",
      "┣██▏                 ┫ [10.81%, 24/222, 01:25/13:05, 4.60s/i] "
     ]
    },
    {
     "name": "stdout",
     "output_type": "stream",
     "text": [
      "R(39.96934)\n"
     ]
    },
    {
     "name": "stderr",
     "output_type": "stream",
     "text": [
      "\r",
      "┣██▎                 ┫ [11.26%, 25/222, 01:30/13:15, 4.69s/i] "
     ]
    },
    {
     "name": "stdout",
     "output_type": "stream",
     "text": [
      "R(1.8503641)\n"
     ]
    },
    {
     "name": "stderr",
     "output_type": "stream",
     "text": [
      "\r",
      "┣██▎                 ┫ [11.71%, 26/222, 01:33/13:10, 3.02s/i] "
     ]
    },
    {
     "name": "stdout",
     "output_type": "stream",
     "text": [
      "R(1.3840114)\n"
     ]
    },
    {
     "name": "stderr",
     "output_type": "stream",
     "text": [
      "\r",
      "┣██▍                 ┫ [12.16%, 27/222, 01:35/13:04, 2.82s/i] "
     ]
    },
    {
     "name": "stdout",
     "output_type": "stream",
     "text": [
      "R(1.9177625)\n"
     ]
    },
    {
     "name": "stderr",
     "output_type": "stream",
     "text": [
      "\r",
      "┣██▌                 ┫ [12.61%, 28/222, 01:38/12:58, 2.80s/i] "
     ]
    },
    {
     "name": "stdout",
     "output_type": "stream",
     "text": [
      "R(3.3253233)\n"
     ]
    },
    {
     "name": "stderr",
     "output_type": "stream",
     "text": [
      "\r",
      "┣██▌                 ┫ [13.06%, 29/222, 01:42/13:04, 4.32s/i] "
     ]
    },
    {
     "name": "stdout",
     "output_type": "stream",
     "text": [
      "R(26.086876)\n"
     ]
    },
    {
     "name": "stderr",
     "output_type": "stream",
     "text": [
      "\r",
      "┣██▋                 ┫ [13.51%, 30/222, 01:46/13:07, 3.84s/i] "
     ]
    },
    {
     "name": "stdout",
     "output_type": "stream",
     "text": [
      "R(20.469364)\n"
     ]
    },
    {
     "name": "stderr",
     "output_type": "stream",
     "text": [
      "\r",
      "┣██▊                 ┫ [13.96%, 31/222, 01:50/13:07, 3.55s/i] "
     ]
    },
    {
     "name": "stdout",
     "output_type": "stream",
     "text": [
      "R(4.217943)\n"
     ]
    },
    {
     "name": "stderr",
     "output_type": "stream",
     "text": [
      "\r",
      "┣██▉                 ┫ [14.41%, 32/222, 01:53/13:04, 3.15s/i] "
     ]
    },
    {
     "name": "stdout",
     "output_type": "stream",
     "text": [
      "R(22.139997)\n"
     ]
    },
    {
     "name": "stderr",
     "output_type": "stream",
     "text": [
      "\r",
      "┣██▉                 ┫ [14.86%, 33/222, 01:57/13:04, 3.56s/i] "
     ]
    },
    {
     "name": "stdout",
     "output_type": "stream",
     "text": [
      "R(9.769477)\n"
     ]
    },
    {
     "name": "stderr",
     "output_type": "stream",
     "text": [
      "\r",
      "┣███                 ┫ [15.32%, 34/222, 02:01/13:13, 4.91s/i] "
     ]
    },
    {
     "name": "stdout",
     "output_type": "stream",
     "text": [
      "R(13.700922)\n"
     ]
    },
    {
     "name": "stderr",
     "output_type": "stream",
     "text": [
      "\r",
      "┣███▏                ┫ [15.77%, 35/222, 02:05/13:12, 3.40s/i] "
     ]
    },
    {
     "name": "stdout",
     "output_type": "stream",
     "text": [
      "R(4.3314543)\n"
     ]
    },
    {
     "name": "stderr",
     "output_type": "stream",
     "text": [
      "\r",
      "┣███▏                ┫ [16.22%, 36/222, 02:08/13:09, 3.01s/i] "
     ]
    },
    {
     "name": "stdout",
     "output_type": "stream",
     "text": [
      "R(1.8955259)\n"
     ]
    },
    {
     "name": "stderr",
     "output_type": "stream",
     "text": [
      "\r",
      "┣███▎                ┫ [16.67%, 37/222, 02:11/13:04, 2.80s/i] "
     ]
    },
    {
     "name": "stdout",
     "output_type": "stream",
     "text": [
      "R(2.0248353)\n"
     ]
    },
    {
     "name": "stderr",
     "output_type": "stream",
     "text": [
      "\r",
      "┣███▍                ┫ [17.12%, 38/222, 02:15/13:08, 4.14s/i] "
     ]
    },
    {
     "name": "stdout",
     "output_type": "stream",
     "text": [
      "R(2.2724113)\n"
     ]
    },
    {
     "name": "stderr",
     "output_type": "stream",
     "text": [
      "\r",
      "┣███▌                ┫ [17.57%, 39/222, 02:18/13:05, 2.98s/i] "
     ]
    },
    {
     "name": "stdout",
     "output_type": "stream",
     "text": [
      "R(1.128)\n"
     ]
    },
    {
     "name": "stderr",
     "output_type": "stream",
     "text": [
      "\r",
      "┣███▌                ┫ [18.02%, 40/222, 02:21/13:01, 2.98s/i] "
     ]
    },
    {
     "name": "stdout",
     "output_type": "stream",
     "text": [
      "R(2.2978709)\n"
     ]
    },
    {
     "name": "stderr",
     "output_type": "stream",
     "text": [
      "\r",
      "┣███▋                ┫ [18.47%, 41/222, 02:24/12:59, 3.01s/i] "
     ]
    },
    {
     "name": "stdout",
     "output_type": "stream",
     "text": [
      "R(33.947685)\n"
     ]
    },
    {
     "name": "stderr",
     "output_type": "stream",
     "text": [
      "\r",
      "┣███▊                ┫ [18.92%, 42/222, 02:27/13:00, 3.67s/i] "
     ]
    },
    {
     "name": "stdout",
     "output_type": "stream",
     "text": [
      "R(1.657556)\n"
     ]
    },
    {
     "name": "stderr",
     "output_type": "stream",
     "text": [
      "\r",
      "┣███▊                ┫ [19.37%, 43/222, 02:32/13:06, 4.73s/i] "
     ]
    },
    {
     "name": "stdout",
     "output_type": "stream",
     "text": [
      "R(35.589752)\n"
     ]
    },
    {
     "name": "stderr",
     "output_type": "stream",
     "text": [
      "\r",
      "┣███▉                ┫ [19.82%, 44/222, 02:37/13:14, 5.23s/i] "
     ]
    },
    {
     "name": "stdout",
     "output_type": "stream",
     "text": [
      "R(18.306087)\n"
     ]
    },
    {
     "name": "stderr",
     "output_type": "stream",
     "text": [
      "\r",
      "┣████                ┫ [20.27%, 45/222, 02:41/13:13, 3.38s/i] "
     ]
    },
    {
     "name": "stdout",
     "output_type": "stream",
     "text": [
      "R(60.99341)\n"
     ]
    },
    {
     "name": "stderr",
     "output_type": "stream",
     "text": [
      "\r",
      "┣████▏               ┫ [20.72%, 46/222, 02:47/13:27, 6.36s/i] "
     ]
    },
    {
     "name": "stdout",
     "output_type": "stream",
     "text": [
      "R(13.863333)\n"
     ]
    },
    {
     "name": "stderr",
     "output_type": "stream",
     "text": [
      "\r",
      "┣████▏               ┫ [21.17%, 47/222, 02:51/13:26, 3.38s/i] "
     ]
    },
    {
     "name": "stdout",
     "output_type": "stream",
     "text": [
      "R(0.7396661)\n"
     ]
    },
    {
     "name": "stderr",
     "output_type": "stream",
     "text": [
      "\r",
      "┣████▎               ┫ [21.62%, 48/222, 02:53/13:22, 2.75s/i] "
     ]
    },
    {
     "name": "stdout",
     "output_type": "stream",
     "text": [
      "R(9.816821)\n"
     ]
    },
    {
     "name": "stderr",
     "output_type": "stream",
     "text": [
      "\r",
      "┣████▍               ┫ [22.07%, 49/222, 02:57/13:20, 3.22s/i] "
     ]
    },
    {
     "name": "stdout",
     "output_type": "stream",
     "text": [
      "R(17.84456)\n"
     ]
    },
    {
     "name": "stderr",
     "output_type": "stream",
     "text": [
      "\r",
      "┣████▌               ┫ [22.52%, 50/222, 03:00/13:20, 3.53s/i] "
     ]
    },
    {
     "name": "stdout",
     "output_type": "stream",
     "text": [
      "R(34.84272)\n"
     ]
    },
    {
     "name": "stderr",
     "output_type": "stream",
     "text": [
      "\r",
      "┣████▌               ┫ [22.97%, 51/222, 03:04/13:21, 3.90s/i] "
     ]
    },
    {
     "name": "stdout",
     "output_type": "stream",
     "text": [
      "R(5.1961317)\n"
     ]
    },
    {
     "name": "stderr",
     "output_type": "stream",
     "text": [
      "\r",
      "┣████▋               ┫ [23.42%, 52/222, 03:08/13:24, 4.37s/i] "
     ]
    },
    {
     "name": "stdout",
     "output_type": "stream",
     "text": [
      "R(17.553057)\n"
     ]
    },
    {
     "name": "stderr",
     "output_type": "stream",
     "text": [
      "\r",
      "┣████▊               ┫ [23.87%, 53/222, 03:12/13:24, 3.61s/i] "
     ]
    },
    {
     "name": "stdout",
     "output_type": "stream",
     "text": [
      "R(92.89198)\n"
     ]
    },
    {
     "name": "stderr",
     "output_type": "stream",
     "text": [
      "\r",
      "┣████▊               ┫ [24.32%, 54/222, 03:18/13:34, 5.99s/i] "
     ]
    },
    {
     "name": "stdout",
     "output_type": "stream",
     "text": [
      "R(4.6785784)\n"
     ]
    },
    {
     "name": "stderr",
     "output_type": "stream",
     "text": [
      "\r",
      "┣████▉               ┫ [24.77%, 55/222, 03:21/13:32, 3.34s/i] "
     ]
    },
    {
     "name": "stdout",
     "output_type": "stream",
     "text": [
      "R(5.8627286)\n"
     ]
    },
    {
     "name": "stderr",
     "output_type": "stream",
     "text": [
      "\r",
      "┣█████               ┫ [25.23%, 56/222, 03:26/13:35, 4.35s/i] "
     ]
    },
    {
     "name": "stdout",
     "output_type": "stream",
     "text": [
      "R(26.196234)\n"
     ]
    },
    {
     "name": "stderr",
     "output_type": "stream",
     "text": [
      "\r",
      "┣█████▏              ┫ [25.68%, 57/222, 03:29/13:35, 3.73s/i] "
     ]
    },
    {
     "name": "stdout",
     "output_type": "stream",
     "text": [
      "R(2.167207)\n"
     ]
    },
    {
     "name": "stderr",
     "output_type": "stream",
     "text": [
      "\r",
      "┣█████▏              ┫ [26.13%, 58/222, 03:32/13:33, 3.07s/i] "
     ]
    },
    {
     "name": "stdout",
     "output_type": "stream",
     "text": [
      "R(16.470392)\n"
     ]
    },
    {
     "name": "stderr",
     "output_type": "stream",
     "text": [
      "\r",
      "┣█████▎              ┫ [26.58%, 59/222, 03:36/13:32, 3.41s/i] "
     ]
    },
    {
     "name": "stdout",
     "output_type": "stream",
     "text": [
      "R(5.0730195)\n"
     ]
    },
    {
     "name": "stderr",
     "output_type": "stream",
     "text": [
      "\r",
      "┣█████▍              ┫ [27.03%, 60/222, 03:39/13:29, 2.91s/i] "
     ]
    },
    {
     "name": "stdout",
     "output_type": "stream",
     "text": [
      "R(16.72345)\n"
     ]
    },
    {
     "name": "stderr",
     "output_type": "stream",
     "text": [
      "\r",
      "┣█████▍              ┫ [27.48%, 61/222, 03:44/13:36, 5.54s/i] "
     ]
    },
    {
     "name": "stdout",
     "output_type": "stream",
     "text": [
      "R(10.594564)\n"
     ]
    },
    {
     "name": "stderr",
     "output_type": "stream",
     "text": [
      "\r",
      "┣█████▌              ┫ [27.93%, 62/222, 03:48/13:36, 3.47s/i] "
     ]
    },
    {
     "name": "stdout",
     "output_type": "stream",
     "text": [
      "R(19.699434)\n"
     ]
    },
    {
     "name": "stderr",
     "output_type": "stream",
     "text": [
      "\r",
      "┣█████▋              ┫ [28.38%, 63/222, 03:51/13:35, 3.43s/i] "
     ]
    },
    {
     "name": "stdout",
     "output_type": "stream",
     "text": [
      "R(1.5806566)\n"
     ]
    },
    {
     "name": "stderr",
     "output_type": "stream",
     "text": [
      "\r",
      "┣█████▊              ┫ [28.83%, 64/222, 03:54/13:32, 2.86s/i] "
     ]
    },
    {
     "name": "stdout",
     "output_type": "stream",
     "text": [
      "R(5.753499)\n"
     ]
    },
    {
     "name": "stderr",
     "output_type": "stream",
     "text": [
      "\r",
      "┣█████▊              ┫ [29.28%, 65/222, 03:58/13:34, 4.32s/i] "
     ]
    },
    {
     "name": "stdout",
     "output_type": "stream",
     "text": [
      "R(15.11155)\n"
     ]
    },
    {
     "name": "stderr",
     "output_type": "stream",
     "text": [
      "\r",
      "┣█████▉              ┫ [29.73%, 66/222, 04:02/13:33, 3.46s/i] "
     ]
    },
    {
     "name": "stdout",
     "output_type": "stream",
     "text": [
      "R(11.052081)\n"
     ]
    },
    {
     "name": "stderr",
     "output_type": "stream",
     "text": [
      "\r",
      "┣██████              ┫ [30.18%, 67/222, 04:05/13:33, 3.56s/i] "
     ]
    },
    {
     "name": "stdout",
     "output_type": "stream",
     "text": [
      "R(3.9671836)\n"
     ]
    },
    {
     "name": "stderr",
     "output_type": "stream",
     "text": [
      "\r",
      "┣██████▏             ┫ [30.63%, 68/222, 04:09/13:31, 3.12s/i] "
     ]
    },
    {
     "name": "stdout",
     "output_type": "stream",
     "text": [
      "R(23.342724)\n"
     ]
    },
    {
     "name": "stderr",
     "output_type": "stream",
     "text": [
      "\r",
      "┣██████▏             ┫ [31.08%, 69/222, 04:12/13:31, 3.49s/i] "
     ]
    },
    {
     "name": "stdout",
     "output_type": "stream",
     "text": [
      "R(13.390188)\n"
     ]
    },
    {
     "name": "stderr",
     "output_type": "stream",
     "text": [
      "\r",
      "┣██████▎             ┫ [31.53%, 70/222, 04:17/13:36, 5.36s/i] "
     ]
    },
    {
     "name": "stdout",
     "output_type": "stream",
     "text": [
      "R(3.0508566)\n"
     ]
    },
    {
     "name": "stderr",
     "output_type": "stream",
     "text": [
      "\r",
      "┣██████▍             ┫ [31.98%, 71/222, 04:21/13:35, 3.18s/i] "
     ]
    },
    {
     "name": "stdout",
     "output_type": "stream",
     "text": [
      "R(4.799062)\n"
     ]
    },
    {
     "name": "stderr",
     "output_type": "stream",
     "text": [
      "\r",
      "┣██████▍             ┫ [32.43%, 72/222, 04:24/13:33, 3.06s/i] "
     ]
    },
    {
     "name": "stdout",
     "output_type": "stream",
     "text": [
      "R(6.7552676)\n"
     ]
    },
    {
     "name": "stderr",
     "output_type": "stream",
     "text": [
      "\r",
      "┣██████▌             ┫ [32.88%, 73/222, 04:27/13:32, 3.29s/i] "
     ]
    },
    {
     "name": "stdout",
     "output_type": "stream",
     "text": [
      "R(2.7058413)\n"
     ]
    },
    {
     "name": "stderr",
     "output_type": "stream",
     "text": [
      "\r",
      "┣██████▋             ┫ [33.33%, 74/222, 04:31/13:33, 4.26s/i] "
     ]
    },
    {
     "name": "stdout",
     "output_type": "stream",
     "text": [
      "R(10.367203)\n"
     ]
    },
    {
     "name": "stderr",
     "output_type": "stream",
     "text": [
      "\r",
      "┣██████▊             ┫ [33.78%, 75/222, 04:35/13:33, 3.42s/i] "
     ]
    },
    {
     "name": "stdout",
     "output_type": "stream",
     "text": [
      "R(2.5048072)\n"
     ]
    },
    {
     "name": "stderr",
     "output_type": "stream",
     "text": [
      "\r",
      "┣██████▊             ┫ [34.23%, 76/222, 04:37/13:30, 2.66s/i] "
     ]
    },
    {
     "name": "stdout",
     "output_type": "stream",
     "text": [
      "R(5.8049626)\n"
     ]
    },
    {
     "name": "stderr",
     "output_type": "stream",
     "text": [
      "\r",
      "┣██████▉             ┫ [34.68%, 77/222, 04:40/13:28, 3.15s/i] "
     ]
    },
    {
     "name": "stdout",
     "output_type": "stream",
     "text": [
      "R(0.679313)\n"
     ]
    },
    {
     "name": "stderr",
     "output_type": "stream",
     "text": [
      "\r",
      "┣███████             ┫ [35.14%, 78/222, 04:43/13:26, 2.87s/i] "
     ]
    },
    {
     "name": "stdout",
     "output_type": "stream",
     "text": [
      "R(4.991484)\n"
     ]
    },
    {
     "name": "stderr",
     "output_type": "stream",
     "text": [
      "\r",
      "┣███████             ┫ [35.59%, 79/222, 04:48/13:29, 4.63s/i] "
     ]
    },
    {
     "name": "stdout",
     "output_type": "stream",
     "text": [
      "R(8.139803)\n"
     ]
    },
    {
     "name": "stderr",
     "output_type": "stream",
     "text": [
      "\r",
      "┣███████▏            ┫ [36.04%, 80/222, 04:52/13:29, 3.73s/i] "
     ]
    },
    {
     "name": "stdout",
     "output_type": "stream",
     "text": [
      "R(22.684473)\n"
     ]
    },
    {
     "name": "stderr",
     "output_type": "stream",
     "text": [
      "\r",
      "┣███████▎            ┫ [36.49%, 81/222, 04:55/13:29, 3.67s/i] "
     ]
    },
    {
     "name": "stdout",
     "output_type": "stream",
     "text": [
      "R(9.895286)\n"
     ]
    },
    {
     "name": "stderr",
     "output_type": "stream",
     "text": [
      "\r",
      "┣███████▍            ┫ [36.94%, 82/222, 05:00/13:31, 4.27s/i] "
     ]
    },
    {
     "name": "stdout",
     "output_type": "stream",
     "text": [
      "R(1.275209)\n"
     ]
    },
    {
     "name": "stderr",
     "output_type": "stream",
     "text": [
      "\r",
      "┣███████▍            ┫ [37.39%, 83/222, 05:03/13:29, 3.10s/i] "
     ]
    },
    {
     "name": "stdout",
     "output_type": "stream",
     "text": [
      "R(4.8735404)\n"
     ]
    },
    {
     "name": "stderr",
     "output_type": "stream",
     "text": [
      "\r",
      "┣███████▌            ┫ [37.84%, 84/222, 05:06/13:28, 3.17s/i] "
     ]
    },
    {
     "name": "stdout",
     "output_type": "stream",
     "text": [
      "R(43.388927)\n"
     ]
    },
    {
     "name": "stderr",
     "output_type": "stream",
     "text": [
      "\r",
      "┣███████▋            ┫ [38.29%, 85/222, 05:10/13:30, 4.25s/i] "
     ]
    },
    {
     "name": "stdout",
     "output_type": "stream",
     "text": [
      "R(12.887061)\n"
     ]
    },
    {
     "name": "stderr",
     "output_type": "stream",
     "text": [
      "\r",
      "┣███████▋            ┫ [38.74%, 86/222, 05:14/13:30, 3.67s/i] "
     ]
    },
    {
     "name": "stdout",
     "output_type": "stream",
     "text": [
      "R(6.7674546)\n"
     ]
    },
    {
     "name": "stderr",
     "output_type": "stream",
     "text": [
      "\r",
      "┣███████▊            ┫ [39.19%, 87/222, 05:17/13:28, 3.10s/i] "
     ]
    },
    {
     "name": "stdout",
     "output_type": "stream",
     "text": [
      "R(3.6992593)\n"
     ]
    },
    {
     "name": "stderr",
     "output_type": "stream",
     "text": [
      "\r",
      "┣███████▉            ┫ [39.64%, 88/222, 05:21/13:31, 4.61s/i] "
     ]
    },
    {
     "name": "stdout",
     "output_type": "stream",
     "text": [
      "R(6.382803)\n"
     ]
    },
    {
     "name": "stderr",
     "output_type": "stream",
     "text": [
      "\r",
      "┣████████            ┫ [40.09%, 89/222, 05:25/13:30, 3.16s/i] "
     ]
    },
    {
     "name": "stdout",
     "output_type": "stream",
     "text": [
      "R(1.308801)\n"
     ]
    },
    {
     "name": "stderr",
     "output_type": "stream",
     "text": [
      "\r",
      "┣████████            ┫ [40.54%, 90/222, 05:27/13:27, 2.62s/i] "
     ]
    },
    {
     "name": "stdout",
     "output_type": "stream",
     "text": [
      "R(5.8161597)\n"
     ]
    },
    {
     "name": "stderr",
     "output_type": "stream",
     "text": [
      "\r",
      "┣████████▏           ┫ [40.99%, 91/222, 05:31/13:26, 3.34s/i] "
     ]
    },
    {
     "name": "stdout",
     "output_type": "stream",
     "text": [
      "R(4.001996)\n"
     ]
    },
    {
     "name": "stderr",
     "output_type": "stream",
     "text": [
      "\r",
      "┣████████▎           ┫ [41.44%, 92/222, 05:35/13:28, 4.41s/i] "
     ]
    },
    {
     "name": "stdout",
     "output_type": "stream",
     "text": [
      "R(2.84196)\n"
     ]
    },
    {
     "name": "stderr",
     "output_type": "stream",
     "text": [
      "\r",
      "┣████████▍           ┫ [41.89%, 93/222, 05:38/13:27, 2.94s/i] "
     ]
    },
    {
     "name": "stdout",
     "output_type": "stream",
     "text": [
      "R(2.2418058)\n"
     ]
    },
    {
     "name": "stderr",
     "output_type": "stream",
     "text": [
      "\r",
      "┣████████▍           ┫ [42.34%, 94/222, 05:41/13:26, 3.16s/i] "
     ]
    },
    {
     "name": "stdout",
     "output_type": "stream",
     "text": [
      "R(13.51825)\n"
     ]
    },
    {
     "name": "stderr",
     "output_type": "stream",
     "text": [
      "\r",
      "┣████████▌           ┫ [42.79%, 95/222, 05:45/13:25, 3.50s/i] "
     ]
    },
    {
     "name": "stdout",
     "output_type": "stream",
     "text": [
      "R(12.687967)\n"
     ]
    },
    {
     "name": "stderr",
     "output_type": "stream",
     "text": [
      "\r",
      "┣████████▋           ┫ [43.24%, 96/222, 05:48/13:24, 3.22s/i] "
     ]
    },
    {
     "name": "stdout",
     "output_type": "stream",
     "text": [
      "R(11.660833)\n"
     ]
    },
    {
     "name": "stderr",
     "output_type": "stream",
     "text": [
      "\r",
      "┣████████▋           ┫ [43.69%, 97/222, 05:53/13:28, 5.45s/i] "
     ]
    },
    {
     "name": "stdout",
     "output_type": "stream",
     "text": [
      "R(2.015998)\n"
     ]
    },
    {
     "name": "stderr",
     "output_type": "stream",
     "text": [
      "\r",
      "┣████████▊           ┫ [44.14%, 98/222, 05:56/13:26, 2.64s/i] "
     ]
    },
    {
     "name": "stdout",
     "output_type": "stream",
     "text": [
      "R(9.2191)\n"
     ]
    },
    {
     "name": "stderr",
     "output_type": "stream",
     "text": [
      "\r",
      "┣████████▉           ┫ [44.59%, 99/222, 05:59/13:26, 3.45s/i] "
     ]
    },
    {
     "name": "stdout",
     "output_type": "stream",
     "text": [
      "R(4.38011)\n"
     ]
    },
    {
     "name": "stderr",
     "output_type": "stream",
     "text": [
      "\r",
      "┣█████████           ┫ [45.05%, 100/222, 06:03/13:25, 3.18s/i] "
     ]
    },
    {
     "name": "stdout",
     "output_type": "stream",
     "text": [
      "R(1.9735668)\n"
     ]
    },
    {
     "name": "stderr",
     "output_type": "stream",
     "text": [
      "\r",
      "┣█████████           ┫ [45.50%, 101/222, 06:07/13:26, 4.15s/i] "
     ]
    },
    {
     "name": "stdout",
     "output_type": "stream",
     "text": [
      "R(2.1190794)\n"
     ]
    },
    {
     "name": "stderr",
     "output_type": "stream",
     "text": [
      "\r",
      "┣█████████▏          ┫ [45.95%, 102/222, 06:10/13:24, 2.95s/i] "
     ]
    },
    {
     "name": "stdout",
     "output_type": "stream",
     "text": [
      "R(9.432145)\n"
     ]
    },
    {
     "name": "stderr",
     "output_type": "stream",
     "text": [
      "\r",
      "┣█████████▎          ┫ [46.40%, 103/222, 06:13/13:24, 3.25s/i] "
     ]
    },
    {
     "name": "stdout",
     "output_type": "stream",
     "text": [
      "R(20.35463)\n"
     ]
    },
    {
     "name": "stderr",
     "output_type": "stream",
     "text": [
      "\r",
      "┣█████████▎          ┫ [46.85%, 104/222, 06:17/13:24, 3.75s/i] "
     ]
    },
    {
     "name": "stdout",
     "output_type": "stream",
     "text": [
      "R(6.3142467)\n"
     ]
    },
    {
     "name": "stderr",
     "output_type": "stream",
     "text": [
      "\r",
      "┣█████████▍          ┫ [47.30%, 105/222, 06:20/13:23, 3.14s/i] "
     ]
    },
    {
     "name": "stdout",
     "output_type": "stream",
     "text": [
      "R(25.839972)\n"
     ]
    },
    {
     "name": "stderr",
     "output_type": "stream",
     "text": [
      "\r",
      "┣█████████▌          ┫ [47.75%, 106/222, 06:25/13:27, 5.53s/i] "
     ]
    },
    {
     "name": "stdout",
     "output_type": "stream",
     "text": [
      "R(6.9395595)\n"
     ]
    },
    {
     "name": "stderr",
     "output_type": "stream",
     "text": [
      "\r",
      "┣█████████▋          ┫ [48.20%, 107/222, 06:28/13:25, 2.94s/i] "
     ]
    },
    {
     "name": "stdout",
     "output_type": "stream",
     "text": [
      "R(34.180252)\n"
     ]
    },
    {
     "name": "stderr",
     "output_type": "stream",
     "text": [
      "\r",
      "┣█████████▋          ┫ [48.65%, 108/222, 06:32/13:26, 3.90s/i] "
     ]
    },
    {
     "name": "stdout",
     "output_type": "stream",
     "text": [
      "R(6.6900234)\n"
     ]
    },
    {
     "name": "stderr",
     "output_type": "stream",
     "text": [
      "\r",
      "┣█████████▊          ┫ [49.10%, 109/222, 06:35/13:25, 3.36s/i] "
     ]
    },
    {
     "name": "stdout",
     "output_type": "stream",
     "text": [
      "R(8.877438)\n"
     ]
    },
    {
     "name": "stderr",
     "output_type": "stream",
     "text": [
      "\r",
      "┣█████████▉          ┫ [49.55%, 110/222, 06:40/13:27, 4.53s/i] "
     ]
    },
    {
     "name": "stdout",
     "output_type": "stream",
     "text": [
      "R(19.187672)\n"
     ]
    },
    {
     "name": "stderr",
     "output_type": "stream",
     "text": [
      "\r",
      "┣██████████          ┫ [50.00%, 111/222, 06:43/13:26, 3.25s/i] "
     ]
    },
    {
     "name": "stdout",
     "output_type": "stream",
     "text": [
      "R(37.979397)\n"
     ]
    },
    {
     "name": "stderr",
     "output_type": "stream",
     "text": [
      "\r",
      "┣██████████          ┫ [50.45%, 112/222, 06:48/13:29, 4.71s/i] "
     ]
    },
    {
     "name": "stdout",
     "output_type": "stream",
     "text": [
      "R(1.9559612)\n"
     ]
    },
    {
     "name": "stderr",
     "output_type": "stream",
     "text": [
      "\r",
      "┣██████████▏         ┫ [50.90%, 113/222, 06:51/13:28, 3.07s/i] "
     ]
    },
    {
     "name": "stdout",
     "output_type": "stream",
     "text": [
      "R(7.1632495)\n"
     ]
    },
    {
     "name": "stderr",
     "output_type": "stream",
     "text": [
      "\r",
      "┣██████████▎         ┫ [51.35%, 114/222, 06:54/13:27, 3.28s/i] "
     ]
    },
    {
     "name": "stdout",
     "output_type": "stream",
     "text": [
      "R(15.419363)\n"
     ]
    },
    {
     "name": "stderr",
     "output_type": "stream",
     "text": [
      "\r",
      "┣██████████▎         ┫ [51.80%, 115/222, 07:00/13:30, 5.23s/i] "
     ]
    },
    {
     "name": "stdout",
     "output_type": "stream",
     "text": [
      "R(10.469104)\n"
     ]
    },
    {
     "name": "stderr",
     "output_type": "stream",
     "text": [
      "\r",
      "┣██████████▍         ┫ [52.25%, 116/222, 07:03/13:29, 3.30s/i] "
     ]
    },
    {
     "name": "stdout",
     "output_type": "stream",
     "text": [
      "R(2.6460438)\n"
     ]
    },
    {
     "name": "stderr",
     "output_type": "stream",
     "text": [
      "\r",
      "┣██████████▌         ┫ [52.70%, 117/222, 07:06/13:28, 2.81s/i] "
     ]
    },
    {
     "name": "stdout",
     "output_type": "stream",
     "text": [
      "R(10.954928)\n"
     ]
    },
    {
     "name": "stderr",
     "output_type": "stream",
     "text": [
      "\r",
      "┣██████████▋         ┫ [53.15%, 118/222, 07:09/13:28, 3.77s/i] "
     ]
    },
    {
     "name": "stdout",
     "output_type": "stream",
     "text": [
      "R(3.1458693)\n"
     ]
    },
    {
     "name": "stderr",
     "output_type": "stream",
     "text": [
      "\r",
      "┣██████████▋         ┫ [53.60%, 119/222, 07:14/13:29, 4.23s/i] "
     ]
    },
    {
     "name": "stdout",
     "output_type": "stream",
     "text": [
      "R(6.6108475)\n"
     ]
    },
    {
     "name": "stderr",
     "output_type": "stream",
     "text": [
      "\r",
      "┣██████████▊         ┫ [54.05%, 120/222, 07:17/13:28, 2.86s/i] "
     ]
    },
    {
     "name": "stdout",
     "output_type": "stream",
     "text": [
      "R(1.8512571)\n"
     ]
    },
    {
     "name": "stderr",
     "output_type": "stream",
     "text": [
      "\r",
      "┣██████████▉         ┫ [54.50%, 121/222, 07:19/13:26, 2.90s/i] "
     ]
    },
    {
     "name": "stdout",
     "output_type": "stream",
     "text": [
      "R(3.224737)\n"
     ]
    },
    {
     "name": "stderr",
     "output_type": "stream",
     "text": [
      "\r",
      "┣██████████▉         ┫ [54.95%, 122/222, 07:22/13:25, 2.89s/i] "
     ]
    },
    {
     "name": "stdout",
     "output_type": "stream",
     "text": [
      "R(9.244572)\n"
     ]
    },
    {
     "name": "stderr",
     "output_type": "stream",
     "text": [
      "\r",
      "┣███████████         ┫ [55.41%, 123/222, 07:25/13:24, 2.98s/i] "
     ]
    },
    {
     "name": "stdout",
     "output_type": "stream",
     "text": [
      "R(2.0251994)\n"
     ]
    },
    {
     "name": "stderr",
     "output_type": "stream",
     "text": [
      "\r",
      "┣███████████▏        ┫ [55.86%, 124/222, 07:30/13:25, 4.29s/i] "
     ]
    },
    {
     "name": "stdout",
     "output_type": "stream",
     "text": [
      "R(14.283418)\n"
     ]
    },
    {
     "name": "stderr",
     "output_type": "stream",
     "text": [
      "\r",
      "┣███████████▎        ┫ [56.31%, 125/222, 07:33/13:25, 3.69s/i] "
     ]
    },
    {
     "name": "stdout",
     "output_type": "stream",
     "text": [
      "R(2.969266)\n"
     ]
    },
    {
     "name": "stderr",
     "output_type": "stream",
     "text": [
      "\r",
      "┣███████████▎        ┫ [56.76%, 126/222, 07:36/13:24, 3.11s/i] "
     ]
    },
    {
     "name": "stdout",
     "output_type": "stream",
     "text": [
      "R(1.7344308)\n"
     ]
    },
    {
     "name": "stderr",
     "output_type": "stream",
     "text": [
      "\r",
      "┣███████████▍        ┫ [57.21%, 127/222, 07:39/13:23, 3.04s/i] "
     ]
    },
    {
     "name": "stdout",
     "output_type": "stream",
     "text": [
      "R(22.508068)\n"
     ]
    },
    {
     "name": "stderr",
     "output_type": "stream",
     "text": [
      "\r",
      "┣███████████▌        ┫ [57.66%, 128/222, 07:45/13:26, 5.31s/i] "
     ]
    },
    {
     "name": "stdout",
     "output_type": "stream",
     "text": [
      "R(3.496259)\n"
     ]
    },
    {
     "name": "stderr",
     "output_type": "stream",
     "text": [
      "\r",
      "┣███████████▌        ┫ [58.11%, 129/222, 07:48/13:25, 3.09s/i] "
     ]
    },
    {
     "name": "stdout",
     "output_type": "stream",
     "text": [
      "R(2.158639)\n"
     ]
    },
    {
     "name": "stderr",
     "output_type": "stream",
     "text": [
      "\r",
      "┣███████████▋        ┫ [58.56%, 130/222, 07:50/13:23, 2.52s/i] "
     ]
    },
    {
     "name": "stdout",
     "output_type": "stream",
     "text": [
      "R(3.0277672)\n"
     ]
    },
    {
     "name": "stderr",
     "output_type": "stream",
     "text": [
      "\r",
      "┣███████████▊        ┫ [59.01%, 131/222, 07:53/13:22, 2.99s/i] "
     ]
    },
    {
     "name": "stdout",
     "output_type": "stream",
     "text": [
      "R(3.5476336)\n"
     ]
    },
    {
     "name": "stderr",
     "output_type": "stream",
     "text": [
      "\r",
      "┣███████████▉        ┫ [59.46%, 132/222, 07:56/13:21, 3.08s/i] "
     ]
    },
    {
     "name": "stdout",
     "output_type": "stream",
     "text": [
      "R(3.0633738)\n"
     ]
    },
    {
     "name": "stderr",
     "output_type": "stream",
     "text": [
      "\r",
      "┣███████████▉        ┫ [59.91%, 133/222, 08:01/13:23, 4.52s/i] "
     ]
    },
    {
     "name": "stdout",
     "output_type": "stream",
     "text": [
      "R(10.815123)\n"
     ]
    },
    {
     "name": "stderr",
     "output_type": "stream",
     "text": [
      "\r",
      "┣████████████        ┫ [60.36%, 134/222, 08:04/13:23, 3.55s/i] "
     ]
    },
    {
     "name": "stdout",
     "output_type": "stream",
     "text": [
      "R(5.146886)\n"
     ]
    },
    {
     "name": "stderr",
     "output_type": "stream",
     "text": [
      "\r",
      "┣████████████▏       ┫ [60.81%, 135/222, 08:08/13:22, 3.22s/i] "
     ]
    },
    {
     "name": "stdout",
     "output_type": "stream",
     "text": [
      "R(1.3275957)\n"
     ]
    },
    {
     "name": "stderr",
     "output_type": "stream",
     "text": [
      "\r",
      "┣████████████▎       ┫ [61.26%, 136/222, 08:11/13:21, 2.88s/i] "
     ]
    },
    {
     "name": "stdout",
     "output_type": "stream",
     "text": [
      "R(3.9313846)\n"
     ]
    },
    {
     "name": "stderr",
     "output_type": "stream",
     "text": [
      "\r",
      "┣████████████▎       ┫ [61.71%, 137/222, 08:15/13:22, 4.06s/i] "
     ]
    },
    {
     "name": "stdout",
     "output_type": "stream",
     "text": [
      "R(1.8196468)\n"
     ]
    },
    {
     "name": "stderr",
     "output_type": "stream",
     "text": [
      "\r",
      "┣████████████▍       ┫ [62.16%, 138/222, 08:18/13:21, 3.01s/i] "
     ]
    },
    {
     "name": "stdout",
     "output_type": "stream",
     "text": [
      "R(4.181485)\n"
     ]
    },
    {
     "name": "stderr",
     "output_type": "stream",
     "text": [
      "\r",
      "┣████████████▌       ┫ [62.61%, 139/222, 08:21/13:19, 2.89s/i] "
     ]
    },
    {
     "name": "stdout",
     "output_type": "stream",
     "text": [
      "R(19.378677)\n"
     ]
    },
    {
     "name": "stderr",
     "output_type": "stream",
     "text": [
      "\r",
      "┣████████████▌       ┫ [63.06%, 140/222, 08:25/13:21, 4.44s/i] "
     ]
    },
    {
     "name": "stdout",
     "output_type": "stream",
     "text": [
      "R(1.9190532)\n"
     ]
    },
    {
     "name": "stderr",
     "output_type": "stream",
     "text": [
      "\r",
      "┣████████████▋       ┫ [63.51%, 141/222, 08:28/13:20, 3.06s/i] "
     ]
    },
    {
     "name": "stdout",
     "output_type": "stream",
     "text": [
      "R(4.1487036)\n"
     ]
    },
    {
     "name": "stderr",
     "output_type": "stream",
     "text": [
      "\r",
      "┣████████████▊       ┫ [63.96%, 142/222, 08:31/13:19, 3.12s/i] "
     ]
    },
    {
     "name": "stdout",
     "output_type": "stream",
     "text": [
      "R(2.8283062)\n"
     ]
    },
    {
     "name": "stderr",
     "output_type": "stream",
     "text": [
      "\r",
      "┣████████████▉       ┫ [64.41%, 143/222, 08:36/13:21, 4.48s/i] "
     ]
    },
    {
     "name": "stdout",
     "output_type": "stream",
     "text": [
      "R(3.2633722)\n"
     ]
    },
    {
     "name": "stderr",
     "output_type": "stream",
     "text": [
      "\r",
      "┣████████████▉       ┫ [64.86%, 144/222, 08:39/13:20, 3.07s/i] "
     ]
    },
    {
     "name": "stdout",
     "output_type": "stream",
     "text": [
      "R(6.5438924)\n"
     ]
    },
    {
     "name": "stderr",
     "output_type": "stream",
     "text": [
      "\r",
      "┣█████████████       ┫ [65.32%, 145/222, 08:42/13:19, 2.88s/i] "
     ]
    },
    {
     "name": "stdout",
     "output_type": "stream",
     "text": [
      "R(4.9697943)\n"
     ]
    },
    {
     "name": "stderr",
     "output_type": "stream",
     "text": [
      "\r",
      "┣█████████████▏      ┫ [65.77%, 146/222, 08:45/13:18, 3.13s/i] "
     ]
    },
    {
     "name": "stdout",
     "output_type": "stream",
     "text": [
      "R(9.547288)\n"
     ]
    },
    {
     "name": "stderr",
     "output_type": "stream",
     "text": [
      "\r",
      "┣█████████████▏      ┫ [66.22%, 147/222, 08:49/13:20, 4.73s/i] "
     ]
    },
    {
     "name": "stdout",
     "output_type": "stream",
     "text": [
      "R(31.971197)\n"
     ]
    },
    {
     "name": "stderr",
     "output_type": "stream",
     "text": [
      "\r",
      "┣█████████████▎      ┫ [66.67%, 148/222, 08:54/13:20, 4.11s/i] "
     ]
    },
    {
     "name": "stdout",
     "output_type": "stream",
     "text": [
      "R(41.113415)\n"
     ]
    },
    {
     "name": "stderr",
     "output_type": "stream",
     "text": [
      "\r",
      "┣█████████████▍      ┫ [67.12%, 149/222, 08:59/13:23, 5.35s/i] "
     ]
    },
    {
     "name": "stdout",
     "output_type": "stream",
     "text": [
      "R(5.736887)\n"
     ]
    },
    {
     "name": "stderr",
     "output_type": "stream",
     "text": [
      "\r",
      "┣█████████████▌      ┫ [67.57%, 150/222, 09:02/13:22, 3.10s/i] "
     ]
    },
    {
     "name": "stdout",
     "output_type": "stream",
     "text": [
      "R(2.4477224)\n"
     ]
    },
    {
     "name": "stderr",
     "output_type": "stream",
     "text": [
      "\r",
      "┣█████████████▌      ┫ [68.02%, 151/222, 09:05/13:21, 2.68s/i] "
     ]
    },
    {
     "name": "stdout",
     "output_type": "stream",
     "text": [
      "R(7.8140426)\n"
     ]
    },
    {
     "name": "stderr",
     "output_type": "stream",
     "text": [
      "\r",
      "┣█████████████▋      ┫ [68.47%, 152/222, 09:10/13:23, 4.88s/i] "
     ]
    },
    {
     "name": "stdout",
     "output_type": "stream",
     "text": [
      "R(5.671412)\n"
     ]
    },
    {
     "name": "stderr",
     "output_type": "stream",
     "text": [
      "\r",
      "┣█████████████▊      ┫ [68.92%, 153/222, 09:13/13:22, 3.26s/i] "
     ]
    },
    {
     "name": "stdout",
     "output_type": "stream",
     "text": [
      "R(53.386993)\n"
     ]
    },
    {
     "name": "stderr",
     "output_type": "stream",
     "text": [
      "\r",
      "┣█████████████▊      ┫ [69.37%, 154/222, 09:18/13:25, 5.23s/i] "
     ]
    },
    {
     "name": "stdout",
     "output_type": "stream",
     "text": [
      "R(2.3470566)\n"
     ]
    },
    {
     "name": "stderr",
     "output_type": "stream",
     "text": [
      "\r",
      "┣█████████████▉      ┫ [69.82%, 155/222, 09:21/13:24, 3.15s/i] "
     ]
    },
    {
     "name": "stdout",
     "output_type": "stream",
     "text": [
      "R(19.746498)\n"
     ]
    },
    {
     "name": "stderr",
     "output_type": "stream",
     "text": [
      "\r",
      "┣██████████████      ┫ [70.27%, 156/222, 09:26/13:25, 4.54s/i] "
     ]
    },
    {
     "name": "stdout",
     "output_type": "stream",
     "text": [
      "R(14.184189)\n"
     ]
    },
    {
     "name": "stderr",
     "output_type": "stream",
     "text": [
      "\r",
      "┣██████████████▏     ┫ [70.72%, 157/222, 09:29/13:25, 3.60s/i] "
     ]
    },
    {
     "name": "stdout",
     "output_type": "stream",
     "text": [
      "R(17.333557)\n"
     ]
    },
    {
     "name": "stderr",
     "output_type": "stream",
     "text": [
      "\r",
      "┣██████████████▏     ┫ [71.17%, 158/222, 09:33/13:25, 3.41s/i] "
     ]
    },
    {
     "name": "stdout",
     "output_type": "stream",
     "text": [
      "R(4.5977244)\n"
     ]
    },
    {
     "name": "stderr",
     "output_type": "stream",
     "text": [
      "\r",
      "┣██████████████▎     ┫ [71.62%, 159/222, 09:36/13:24, 3.06s/i] "
     ]
    },
    {
     "name": "stdout",
     "output_type": "stream",
     "text": [
      "R(2.8086417)\n"
     ]
    },
    {
     "name": "stderr",
     "output_type": "stream",
     "text": [
      "\r",
      "┣██████████████▍     ┫ [72.07%, 160/222, 09:39/13:23, 2.87s/i] "
     ]
    },
    {
     "name": "stdout",
     "output_type": "stream",
     "text": [
      "R(5.4805503)\n"
     ]
    },
    {
     "name": "stderr",
     "output_type": "stream",
     "text": [
      "\r",
      "┣██████████████▌     ┫ [72.52%, 161/222, 09:43/13:24, 4.56s/i] "
     ]
    },
    {
     "name": "stdout",
     "output_type": "stream",
     "text": [
      "R(5.591182)\n"
     ]
    },
    {
     "name": "stderr",
     "output_type": "stream",
     "text": [
      "\r",
      "┣██████████████▌     ┫ [72.97%, 162/222, 09:46/13:23, 3.04s/i] "
     ]
    },
    {
     "name": "stdout",
     "output_type": "stream",
     "text": [
      "R(71.45192)\n"
     ]
    },
    {
     "name": "stderr",
     "output_type": "stream",
     "text": [
      "\r",
      "┣██████████████▋     ┫ [73.42%, 163/222, 09:52/13:26, 5.74s/i] "
     ]
    },
    {
     "name": "stdout",
     "output_type": "stream",
     "text": [
      "R(3.8407018)\n"
     ]
    },
    {
     "name": "stderr",
     "output_type": "stream",
     "text": [
      "\r",
      "┣██████████████▊     ┫ [73.87%, 164/222, 09:55/13:25, 2.91s/i] "
     ]
    },
    {
     "name": "stdout",
     "output_type": "stream",
     "text": [
      "R(3.9530404)\n"
     ]
    },
    {
     "name": "stderr",
     "output_type": "stream",
     "text": [
      "\r",
      "┣██████████████▊     ┫ [74.32%, 165/222, 09:59/13:26, 4.15s/i] "
     ]
    },
    {
     "name": "stdout",
     "output_type": "stream",
     "text": [
      "R(9.088851)\n"
     ]
    },
    {
     "name": "stderr",
     "output_type": "stream",
     "text": [
      "\r",
      "┣██████████████▉     ┫ [74.77%, 166/222, 10:02/13:26, 3.25s/i] "
     ]
    },
    {
     "name": "stdout",
     "output_type": "stream",
     "text": [
      "R(7.830957)\n"
     ]
    },
    {
     "name": "stderr",
     "output_type": "stream",
     "text": [
      "\r",
      "┣███████████████     ┫ [75.23%, 167/222, 10:06/13:25, 3.20s/i] "
     ]
    },
    {
     "name": "stdout",
     "output_type": "stream",
     "text": [
      "R(4.0683928)\n"
     ]
    },
    {
     "name": "stderr",
     "output_type": "stream",
     "text": [
      "\r",
      "┣███████████████▏    ┫ [75.68%, 168/222, 10:09/13:24, 3.10s/i] "
     ]
    },
    {
     "name": "stdout",
     "output_type": "stream",
     "text": [
      "R(4.5040193)\n"
     ]
    },
    {
     "name": "stderr",
     "output_type": "stream",
     "text": [
      "\r",
      "┣███████████████▏    ┫ [76.13%, 169/222, 10:12/13:24, 3.33s/i] "
     ]
    },
    {
     "name": "stdout",
     "output_type": "stream",
     "text": [
      "R(1.489632)\n"
     ]
    },
    {
     "name": "stderr",
     "output_type": "stream",
     "text": [
      "\r",
      "┣███████████████▎    ┫ [76.58%, 170/222, 10:17/13:25, 4.61s/i] "
     ]
    },
    {
     "name": "stdout",
     "output_type": "stream",
     "text": [
      "R(2.6084712)\n"
     ]
    },
    {
     "name": "stderr",
     "output_type": "stream",
     "text": [
      "\r",
      "┣███████████████▍    ┫ [77.03%, 171/222, 10:20/13:25, 3.23s/i] "
     ]
    },
    {
     "name": "stdout",
     "output_type": "stream",
     "text": [
      "R(1.6938778)\n"
     ]
    },
    {
     "name": "stderr",
     "output_type": "stream",
     "text": [
      "\r",
      "┣███████████████▍    ┫ [77.48%, 172/222, 10:22/13:23, 2.55s/i] "
     ]
    },
    {
     "name": "stdout",
     "output_type": "stream",
     "text": [
      "R(3.7059333)\n"
     ]
    },
    {
     "name": "stderr",
     "output_type": "stream",
     "text": [
      "\r",
      "┣███████████████▌    ┫ [77.93%, 173/222, 10:26/13:23, 3.23s/i] "
     ]
    },
    {
     "name": "stdout",
     "output_type": "stream",
     "text": [
      "R(1.9611272)\n"
     ]
    },
    {
     "name": "stderr",
     "output_type": "stream",
     "text": [
      "\r",
      "┣███████████████▋    ┫ [78.38%, 174/222, 10:30/13:24, 4.43s/i] "
     ]
    },
    {
     "name": "stdout",
     "output_type": "stream",
     "text": [
      "R(18.191763)\n"
     ]
    },
    {
     "name": "stderr",
     "output_type": "stream",
     "text": [
      "\r",
      "┣███████████████▊    ┫ [78.83%, 175/222, 10:34/13:24, 3.60s/i] "
     ]
    },
    {
     "name": "stdout",
     "output_type": "stream",
     "text": [
      "R(3.9350066)\n"
     ]
    },
    {
     "name": "stderr",
     "output_type": "stream",
     "text": [
      "\r",
      "┣███████████████▊    ┫ [79.28%, 176/222, 10:37/13:23, 3.05s/i] "
     ]
    },
    {
     "name": "stdout",
     "output_type": "stream",
     "text": [
      "R(18.310116)\n"
     ]
    },
    {
     "name": "stderr",
     "output_type": "stream",
     "text": [
      "\r",
      "┣███████████████▉    ┫ [79.73%, 177/222, 10:40/13:23, 3.62s/i] "
     ]
    },
    {
     "name": "stdout",
     "output_type": "stream",
     "text": [
      "R(7.5041656)\n"
     ]
    },
    {
     "name": "stderr",
     "output_type": "stream",
     "text": [
      "\r",
      "┣████████████████    ┫ [80.18%, 178/222, 10:44/13:23, 3.34s/i] "
     ]
    },
    {
     "name": "stdout",
     "output_type": "stream",
     "text": [
      "R(1.4583356)\n"
     ]
    },
    {
     "name": "stderr",
     "output_type": "stream",
     "text": [
      "\r",
      "┣████████████████▏   ┫ [80.63%, 179/222, 10:48/13:24, 4.63s/i] "
     ]
    },
    {
     "name": "stdout",
     "output_type": "stream",
     "text": [
      "R(4.2366037)\n"
     ]
    },
    {
     "name": "stderr",
     "output_type": "stream",
     "text": [
      "\r",
      "┣████████████████▏   ┫ [81.08%, 180/222, 10:51/13:23, 3.14s/i] "
     ]
    },
    {
     "name": "stdout",
     "output_type": "stream",
     "text": [
      "R(5.365406)\n"
     ]
    },
    {
     "name": "stderr",
     "output_type": "stream",
     "text": [
      "\r",
      "┣████████████████▎   ┫ [81.53%, 181/222, 10:55/13:23, 3.21s/i] "
     ]
    },
    {
     "name": "stdout",
     "output_type": "stream",
     "text": [
      "R(3.9698105)\n"
     ]
    },
    {
     "name": "stderr",
     "output_type": "stream",
     "text": [
      "\r",
      "┣████████████████▍   ┫ [81.98%, 182/222, 10:58/13:22, 3.20s/i] "
     ]
    },
    {
     "name": "stdout",
     "output_type": "stream",
     "text": [
      "R(5.6555767)\n"
     ]
    },
    {
     "name": "stderr",
     "output_type": "stream",
     "text": [
      "\r",
      "┣████████████████▍   ┫ [82.43%, 183/222, 11:02/13:24, 4.61s/i] "
     ]
    },
    {
     "name": "stdout",
     "output_type": "stream",
     "text": [
      "R(18.381613)\n"
     ]
    },
    {
     "name": "stderr",
     "output_type": "stream",
     "text": [
      "\r",
      "┣████████████████▌   ┫ [82.88%, 184/222, 11:06/13:24, 3.84s/i] "
     ]
    },
    {
     "name": "stdout",
     "output_type": "stream",
     "text": [
      "R(4.750238)\n"
     ]
    },
    {
     "name": "stderr",
     "output_type": "stream",
     "text": [
      "\r",
      "┣████████████████▋   ┫ [83.33%, 185/222, 11:10/13:24, 3.38s/i] "
     ]
    },
    {
     "name": "stdout",
     "output_type": "stream",
     "text": [
      "R(8.095242)\n"
     ]
    },
    {
     "name": "stderr",
     "output_type": "stream",
     "text": [
      "\r",
      "┣████████████████▊   ┫ [83.78%, 186/222, 11:13/13:23, 3.09s/i] "
     ]
    },
    {
     "name": "stdout",
     "output_type": "stream",
     "text": [
      "R(12.750065)\n"
     ]
    },
    {
     "name": "stderr",
     "output_type": "stream",
     "text": [
      "\r",
      "┣████████████████▊   ┫ [84.23%, 187/222, 11:16/13:22, 3.03s/i] "
     ]
    },
    {
     "name": "stdout",
     "output_type": "stream",
     "text": [
      "R(33.584846)\n"
     ]
    },
    {
     "name": "stderr",
     "output_type": "stream",
     "text": [
      "\r",
      "┣████████████████▉   ┫ [84.68%, 188/222, 11:22/13:25, 5.96s/i] "
     ]
    },
    {
     "name": "stdout",
     "output_type": "stream",
     "text": [
      "R(7.884951)\n"
     ]
    },
    {
     "name": "stderr",
     "output_type": "stream",
     "text": [
      "\r",
      "┣█████████████████   ┫ [85.14%, 189/222, 11:25/13:24, 3.14s/i] "
     ]
    },
    {
     "name": "stdout",
     "output_type": "stream",
     "text": [
      "R(12.251326)\n"
     ]
    },
    {
     "name": "stderr",
     "output_type": "stream",
     "text": [
      "\r",
      "┣█████████████████   ┫ [85.59%, 190/222, 11:28/13:24, 3.47s/i] "
     ]
    },
    {
     "name": "stdout",
     "output_type": "stream",
     "text": [
      "R(5.9188504)\n"
     ]
    },
    {
     "name": "stderr",
     "output_type": "stream",
     "text": [
      "\r",
      "┣█████████████████▏  ┫ [86.04%, 191/222, 11:31/13:24, 3.14s/i] "
     ]
    },
    {
     "name": "stdout",
     "output_type": "stream",
     "text": [
      "R(5.334085)\n"
     ]
    },
    {
     "name": "stderr",
     "output_type": "stream",
     "text": [
      "\r",
      "┣█████████████████▎  ┫ [86.49%, 192/222, 11:35/13:24, 3.98s/i] "
     ]
    },
    {
     "name": "stdout",
     "output_type": "stream",
     "text": [
      "R(2.013097)\n"
     ]
    },
    {
     "name": "stderr",
     "output_type": "stream",
     "text": [
      "\r",
      "┣█████████████████▍  ┫ [86.94%, 193/222, 11:39/13:24, 3.12s/i] "
     ]
    },
    {
     "name": "stdout",
     "output_type": "stream",
     "text": [
      "R(5.2872066)\n"
     ]
    },
    {
     "name": "stderr",
     "output_type": "stream",
     "text": [
      "\r",
      "┣█████████████████▍  ┫ [87.39%, 194/222, 11:42/13:23, 3.14s/i] "
     ]
    },
    {
     "name": "stdout",
     "output_type": "stream",
     "text": [
      "R(8.019182)\n"
     ]
    },
    {
     "name": "stderr",
     "output_type": "stream",
     "text": [
      "\r",
      "┣█████████████████▌  ┫ [87.84%, 195/222, 11:45/13:23, 3.30s/i] "
     ]
    },
    {
     "name": "stdout",
     "output_type": "stream",
     "text": [
      "R(11.791176)\n"
     ]
    },
    {
     "name": "stderr",
     "output_type": "stream",
     "text": [
      "\r",
      "┣█████████████████▋  ┫ [88.29%, 196/222, 11:49/13:23, 3.56s/i] "
     ]
    },
    {
     "name": "stdout",
     "output_type": "stream",
     "text": [
      "R(2.2100532)\n"
     ]
    },
    {
     "name": "stderr",
     "output_type": "stream",
     "text": [
      "\r",
      "┣█████████████████▋  ┫ [88.74%, 197/222, 11:51/13:22, 2.71s/i] "
     ]
    },
    {
     "name": "stdout",
     "output_type": "stream",
     "text": [
      "R(41.37931)\n"
     ]
    },
    {
     "name": "stderr",
     "output_type": "stream",
     "text": [
      "\r",
      "┣█████████████████▊  ┫ [89.19%, 198/222, 11:57/13:24, 5.45s/i] "
     ]
    },
    {
     "name": "stdout",
     "output_type": "stream",
     "text": [
      "R(2.0547807)\n"
     ]
    },
    {
     "name": "stderr",
     "output_type": "stream",
     "text": [
      "\r",
      "┣█████████████████▉  ┫ [89.64%, 199/222, 12:00/13:23, 3.04s/i] "
     ]
    },
    {
     "name": "stdout",
     "output_type": "stream",
     "text": [
      "R(1.4706752)\n"
     ]
    },
    {
     "name": "stderr",
     "output_type": "stream",
     "text": [
      "\r",
      "┣██████████████████  ┫ [90.09%, 200/222, 12:03/13:22, 3.01s/i] "
     ]
    },
    {
     "name": "stdout",
     "output_type": "stream",
     "text": [
      "R(1.1227965)\n"
     ]
    },
    {
     "name": "stderr",
     "output_type": "stream",
     "text": [
      "\r",
      "┣██████████████████  ┫ [90.54%, 201/222, 12:06/13:21, 2.77s/i] "
     ]
    },
    {
     "name": "stdout",
     "output_type": "stream",
     "text": [
      "R(6.681597)\n"
     ]
    },
    {
     "name": "stderr",
     "output_type": "stream",
     "text": [
      "\r",
      "┣██████████████████▏ ┫ [90.99%, 202/222, 12:10/13:22, 4.55s/i] "
     ]
    },
    {
     "name": "stdout",
     "output_type": "stream",
     "text": [
      "R(2.4015663)\n"
     ]
    },
    {
     "name": "stderr",
     "output_type": "stream",
     "text": [
      "\r",
      "┣██████████████████▎ ┫ [91.44%, 203/222, 12:13/13:22, 3.03s/i] "
     ]
    },
    {
     "name": "stdout",
     "output_type": "stream",
     "text": [
      "R(4.145477)\n"
     ]
    },
    {
     "name": "stderr",
     "output_type": "stream",
     "text": [
      "\r",
      "┣██████████████████▍ ┫ [91.89%, 204/222, 12:16/13:21, 2.96s/i] "
     ]
    },
    {
     "name": "stdout",
     "output_type": "stream",
     "text": [
      "R(1.6515837)\n"
     ]
    },
    {
     "name": "stderr",
     "output_type": "stream",
     "text": [
      "\r",
      "┣██████████████████▍ ┫ [92.34%, 205/222, 12:19/13:21, 3.25s/i] "
     ]
    },
    {
     "name": "stdout",
     "output_type": "stream",
     "text": [
      "R(4.7233906)\n"
     ]
    },
    {
     "name": "stderr",
     "output_type": "stream",
     "text": [
      "\r",
      "┣██████████████████▌ ┫ [92.79%, 206/222, 12:23/13:20, 3.18s/i] "
     ]
    },
    {
     "name": "stdout",
     "output_type": "stream",
     "text": [
      "R(14.002151)\n"
     ]
    },
    {
     "name": "stderr",
     "output_type": "stream",
     "text": [
      "\r",
      "┣██████████████████▋ ┫ [93.24%, 207/222, 12:28/13:22, 5.01s/i] "
     ]
    },
    {
     "name": "stdout",
     "output_type": "stream",
     "text": [
      "R(23.818073)\n"
     ]
    },
    {
     "name": "stderr",
     "output_type": "stream",
     "text": [
      "\r",
      "┣██████████████████▋ ┫ [93.69%, 208/222, 12:31/13:22, 3.46s/i] "
     ]
    },
    {
     "name": "stdout",
     "output_type": "stream",
     "text": [
      "R(8.39603)\n"
     ]
    },
    {
     "name": "stderr",
     "output_type": "stream",
     "text": [
      "\r",
      "┣██████████████████▊ ┫ [94.14%, 209/222, 12:34/13:21, 3.30s/i] "
     ]
    },
    {
     "name": "stdout",
     "output_type": "stream",
     "text": [
      "R(3.8621469)\n"
     ]
    },
    {
     "name": "stderr",
     "output_type": "stream",
     "text": [
      "\r",
      "┣██████████████████▉ ┫ [94.59%, 210/222, 12:37/13:21, 3.08s/i] "
     ]
    },
    {
     "name": "stdout",
     "output_type": "stream",
     "text": [
      "R(13.776097)\n"
     ]
    },
    {
     "name": "stderr",
     "output_type": "stream",
     "text": [
      "\r",
      "┣███████████████████ ┫ [95.05%, 211/222, 12:42/13:22, 4.73s/i] "
     ]
    },
    {
     "name": "stdout",
     "output_type": "stream",
     "text": [
      "R(4.001964)\n"
     ]
    },
    {
     "name": "stderr",
     "output_type": "stream",
     "text": [
      "\r",
      "┣███████████████████ ┫ [95.50%, 212/222, 12:45/13:21, 2.92s/i] "
     ]
    },
    {
     "name": "stdout",
     "output_type": "stream",
     "text": [
      "R(9.75851)\n"
     ]
    },
    {
     "name": "stderr",
     "output_type": "stream",
     "text": [
      "\r",
      "┣███████████████████▏┫ [95.95%, 213/222, 12:48/13:21, 3.08s/i] "
     ]
    },
    {
     "name": "stdout",
     "output_type": "stream",
     "text": [
      "R(7.703917)\n"
     ]
    },
    {
     "name": "stderr",
     "output_type": "stream",
     "text": [
      "\r",
      "┣███████████████████▎┫ [96.40%, 214/222, 12:51/13:20, 3.12s/i] "
     ]
    },
    {
     "name": "stdout",
     "output_type": "stream",
     "text": [
      "R(8.0297785)\n"
     ]
    },
    {
     "name": "stderr",
     "output_type": "stream",
     "text": [
      "\r",
      "┣███████████████████▎┫ [96.85%, 215/222, 12:55/13:20, 3.42s/i] "
     ]
    },
    {
     "name": "stdout",
     "output_type": "stream",
     "text": [
      "R(32.30285)\n"
     ]
    },
    {
     "name": "stderr",
     "output_type": "stream",
     "text": [
      "\r",
      "┣███████████████████▍┫ [97.30%, 216/222, 13:00/13:22, 5.76s/i] "
     ]
    },
    {
     "name": "stdout",
     "output_type": "stream",
     "text": [
      "R(2.9347744)\n"
     ]
    },
    {
     "name": "stderr",
     "output_type": "stream",
     "text": [
      "\r",
      "┣███████████████████▌┫ [97.75%, 217/222, 13:03/13:21, 2.88s/i] "
     ]
    },
    {
     "name": "stdout",
     "output_type": "stream",
     "text": [
      "R(1.9121935)\n"
     ]
    },
    {
     "name": "stderr",
     "output_type": "stream",
     "text": [
      "\r",
      "┣███████████████████▋┫ [98.20%, 218/222, 13:06/13:21, 2.98s/i] "
     ]
    },
    {
     "name": "stdout",
     "output_type": "stream",
     "text": [
      "R(11.855907)\n"
     ]
    },
    {
     "name": "stderr",
     "output_type": "stream",
     "text": [
      "\r",
      "┣███████████████████▋┫ [98.65%, 219/222, 13:10/13:20, 3.36s/i] "
     ]
    },
    {
     "name": "stdout",
     "output_type": "stream",
     "text": [
      "R(0.97764796)\n"
     ]
    },
    {
     "name": "stderr",
     "output_type": "stream",
     "text": [
      "\r",
      "┣███████████████████▊┫ [99.10%, 220/222, 13:14/13:21, 4.17s/i] "
     ]
    },
    {
     "name": "stdout",
     "output_type": "stream",
     "text": [
      "R(14.9769335)\n"
     ]
    },
    {
     "name": "stderr",
     "output_type": "stream",
     "text": [
      "\r",
      "┣███████████████████▉┫ [99.55%, 221/222, 13:17/13:21, 3.60s/i] "
     ]
    },
    {
     "name": "stdout",
     "output_type": "stream",
     "text": [
      "R(32.900276)\n"
     ]
    },
    {
     "name": "stderr",
     "output_type": "stream",
     "text": [
      "┣████████████████████┫ [100.00%, 222/222, 13:21/13:21, 3.61s/i] \n"
     ]
    },
    {
     "name": "stdout",
     "output_type": "stream",
     "text": [
      "R(6.9948153)\n"
     ]
    },
    {
     "name": "stderr",
     "output_type": "stream",
     "text": [
      "\r",
      "┣                    ┫ [0.45%, 1/222, 00:03/12:28, 3.37s/i] "
     ]
    },
    {
     "name": "stdout",
     "output_type": "stream",
     "text": [
      "R(5.089988)\n"
     ]
    },
    {
     "name": "stderr",
     "output_type": "stream",
     "text": [
      "\r",
      "┣▏                   ┫ [0.90%, 2/222, 00:06/12:00, 3.12s/i] "
     ]
    },
    {
     "name": "stdout",
     "output_type": "stream",
     "text": [
      "R(14.917979)\n"
     ]
    },
    {
     "name": "stderr",
     "output_type": "stream",
     "text": [
      "\r",
      "┣▎                   ┫ [1.35%, 3/222, 00:12/15:15, 5.89s/i] "
     ]
    },
    {
     "name": "stdout",
     "output_type": "stream",
     "text": [
      "R(7.549683)\n"
     ]
    },
    {
     "name": "stderr",
     "output_type": "stream",
     "text": [
      "\r",
      "┣▎                   ┫ [1.80%, 4/222, 00:16/14:32, 3.34s/i] "
     ]
    },
    {
     "name": "stdout",
     "output_type": "stream",
     "text": [
      "R(3.4537022)\n"
     ]
    },
    {
     "name": "stderr",
     "output_type": "stream",
     "text": [
      "\r",
      "┣▍                   ┫ [2.25%, 5/222, 00:19/13:58, 3.16s/i] "
     ]
    },
    {
     "name": "stdout",
     "output_type": "stream",
     "text": [
      "R(2.3457057)\n"
     ]
    },
    {
     "name": "stderr",
     "output_type": "stream",
     "text": [
      "\r",
      "┣▌                   ┫ [2.70%, 6/222, 00:22/13:29, 2.98s/i] "
     ]
    },
    {
     "name": "stdout",
     "output_type": "stream",
     "text": [
      "R(1.2063603)\n"
     ]
    },
    {
     "name": "stderr",
     "output_type": "stream",
     "text": [
      "\r",
      "┣▋                   ┫ [3.15%, 7/222, 00:26/13:47, 4.22s/i] "
     ]
    },
    {
     "name": "stdout",
     "output_type": "stream",
     "text": [
      "R(1.3061211)\n"
     ]
    },
    {
     "name": "stderr",
     "output_type": "stream",
     "text": [
      "\r",
      "┣▋                   ┫ [3.60%, 8/222, 00:29/13:25, 2.94s/i] "
     ]
    },
    {
     "name": "stdout",
     "output_type": "stream",
     "text": [
      "R(0.869609)\n"
     ]
    },
    {
     "name": "stderr",
     "output_type": "stream",
     "text": [
      "\r",
      "┣▊                   ┫ [4.05%, 9/222, 00:32/13:13, 3.13s/i] "
     ]
    },
    {
     "name": "stdout",
     "output_type": "stream",
     "text": [
      "R(10.13324)\n"
     ]
    },
    {
     "name": "stderr",
     "output_type": "stream",
     "text": [
      "\r",
      "┣▉                   ┫ [4.50%, 10/222, 00:35/13:07, 3.33s/i] "
     ]
    },
    {
     "name": "stdout",
     "output_type": "stream",
     "text": [
      "R(7.5739207)\n"
     ]
    },
    {
     "name": "stderr",
     "output_type": "stream",
     "text": [
      "\r",
      "┣▉                   ┫ [4.95%, 11/222, 00:39/13:04, 3.38s/i] "
     ]
    },
    {
     "name": "stdout",
     "output_type": "stream",
     "text": [
      "R(3.7566597)\n"
     ]
    },
    {
     "name": "stderr",
     "output_type": "stream",
     "text": [
      "\r",
      "┣█                   ┫ [5.41%, 12/222, 00:44/13:26, 4.70s/i] "
     ]
    },
    {
     "name": "stdout",
     "output_type": "stream",
     "text": [
      "R(2.5648055)\n"
     ]
    },
    {
     "name": "stderr",
     "output_type": "stream",
     "text": [
      "\r",
      "┣█▏                  ┫ [5.86%, 13/222, 00:47/13:17, 3.12s/i] "
     ]
    },
    {
     "name": "stdout",
     "output_type": "stream",
     "text": [
      "R(3.8569567)\n"
     ]
    },
    {
     "name": "stderr",
     "output_type": "stream",
     "text": [
      "\r",
      "┣█▎                  ┫ [6.31%, 14/222, 00:50/13:07, 2.94s/i] "
     ]
    },
    {
     "name": "stdout",
     "output_type": "stream",
     "text": [
      "R(0.32647806)\n"
     ]
    },
    {
     "name": "stderr",
     "output_type": "stream",
     "text": [
      "\r",
      "┣█▎                  ┫ [6.76%, 15/222, 00:53/12:59, 3.03s/i] "
     ]
    },
    {
     "name": "stdout",
     "output_type": "stream",
     "text": [
      "R(2.0351374)\n"
     ]
    },
    {
     "name": "stderr",
     "output_type": "stream",
     "text": [
      "\r",
      "┣█▍                  ┫ [7.21%, 16/222, 00:57/13:10, 4.28s/i] "
     ]
    },
    {
     "name": "stdout",
     "output_type": "stream",
     "text": [
      "R(0.7449544)\n"
     ]
    },
    {
     "name": "stderr",
     "output_type": "stream",
     "text": [
      "\r",
      "┣█▌                  ┫ [7.66%, 17/222, 01:00/13:01, 2.88s/i] "
     ]
    },
    {
     "name": "stdout",
     "output_type": "stream",
     "text": [
      "R(1.5769147)\n"
     ]
    },
    {
     "name": "stderr",
     "output_type": "stream",
     "text": [
      "\r",
      "┣█▌                  ┫ [8.11%, 18/222, 01:03/12:56, 3.12s/i] "
     ]
    },
    {
     "name": "stdout",
     "output_type": "stream",
     "text": [
      "R(29.834349)\n"
     ]
    },
    {
     "name": "stderr",
     "output_type": "stream",
     "text": [
      "\r",
      "┣█▋                  ┫ [8.56%, 19/222, 01:07/13:01, 3.89s/i] "
     ]
    },
    {
     "name": "stdout",
     "output_type": "stream",
     "text": [
      "R(4.626862)\n"
     ]
    },
    {
     "name": "stderr",
     "output_type": "stream",
     "text": [
      "\r",
      "┣█▊                  ┫ [9.01%, 20/222, 01:10/12:54, 2.90s/i] "
     ]
    },
    {
     "name": "stdout",
     "output_type": "stream",
     "text": [
      "R(4.218575)\n"
     ]
    },
    {
     "name": "stderr",
     "output_type": "stream",
     "text": [
      "\r",
      "┣█▉                  ┫ [9.46%, 21/222, 01:14/13:06, 4.68s/i] "
     ]
    },
    {
     "name": "stdout",
     "output_type": "stream",
     "text": [
      "R(3.5944915)\n"
     ]
    },
    {
     "name": "stderr",
     "output_type": "stream",
     "text": [
      "\r",
      "┣█▉                  ┫ [9.91%, 22/222, 01:18/13:03, 3.20s/i] "
     ]
    },
    {
     "name": "stdout",
     "output_type": "stream",
     "text": [
      "R(1.3590965)\n"
     ]
    },
    {
     "name": "stderr",
     "output_type": "stream",
     "text": [
      "\r",
      "┣██                  ┫ [10.36%, 23/222, 01:21/12:57, 2.92s/i] "
     ]
    },
    {
     "name": "stdout",
     "output_type": "stream",
     "text": [
      "R(8.393501)\n"
     ]
    },
    {
     "name": "stderr",
     "output_type": "stream",
     "text": [
      "\r",
      "┣██▏                 ┫ [10.81%, 24/222, 01:24/12:55, 3.26s/i] "
     ]
    },
    {
     "name": "stdout",
     "output_type": "stream",
     "text": [
      "R(1.7801683)\n"
     ]
    },
    {
     "name": "stderr",
     "output_type": "stream",
     "text": [
      "\r",
      "┣██▎                 ┫ [11.26%, 25/222, 01:28/13:02, 4.28s/i] "
     ]
    },
    {
     "name": "stdout",
     "output_type": "stream",
     "text": [
      "R(1.2673956)\n"
     ]
    },
    {
     "name": "stderr",
     "output_type": "stream",
     "text": [
      "\r",
      "┣██▎                 ┫ [11.71%, 26/222, 01:31/12:55, 2.76s/i] "
     ]
    },
    {
     "name": "stdout",
     "output_type": "stream",
     "text": [
      "R(2.6556165)\n"
     ]
    },
    {
     "name": "stderr",
     "output_type": "stream",
     "text": [
      "\r",
      "┣██▍                 ┫ [12.16%, 27/222, 01:34/12:51, 3.01s/i] "
     ]
    },
    {
     "name": "stdout",
     "output_type": "stream",
     "text": [
      "R(2.4911935)\n"
     ]
    },
    {
     "name": "stderr",
     "output_type": "stream",
     "text": [
      "\r",
      "┣██▌                 ┫ [12.61%, 28/222, 01:37/12:45, 2.68s/i] "
     ]
    },
    {
     "name": "stdout",
     "output_type": "stream",
     "text": [
      "R(1.2226682)\n"
     ]
    },
    {
     "name": "stderr",
     "output_type": "stream",
     "text": [
      "\r",
      "┣██▌                 ┫ [13.06%, 29/222, 01:40/12:42, 3.01s/i] "
     ]
    },
    {
     "name": "stdout",
     "output_type": "stream",
     "text": [
      "R(4.3284693)\n"
     ]
    },
    {
     "name": "stderr",
     "output_type": "stream",
     "text": [
      "\r",
      "┣██▋                 ┫ [13.51%, 30/222, 01:44/12:49, 4.34s/i] "
     ]
    },
    {
     "name": "stdout",
     "output_type": "stream",
     "text": [
      "R(19.687294)\n"
     ]
    },
    {
     "name": "stderr",
     "output_type": "stream",
     "text": [
      "\r",
      "┣██▊                 ┫ [13.96%, 31/222, 01:48/12:53, 4.07s/i] "
     ]
    },
    {
     "name": "stdout",
     "output_type": "stream",
     "text": [
      "R(1.3264945)\n"
     ]
    },
    {
     "name": "stderr",
     "output_type": "stream",
     "text": [
      "\r",
      "┣██▉                 ┫ [14.41%, 32/222, 01:51/12:48, 2.79s/i] "
     ]
    },
    {
     "name": "stdout",
     "output_type": "stream",
     "text": [
      "R(6.081086)\n"
     ]
    },
    {
     "name": "stderr",
     "output_type": "stream",
     "text": [
      "\r",
      "┣██▉                 ┫ [14.86%, 33/222, 01:54/12:46, 3.11s/i] "
     ]
    },
    {
     "name": "stdout",
     "output_type": "stream",
     "text": [
      "R(5.0376472)\n"
     ]
    },
    {
     "name": "stderr",
     "output_type": "stream",
     "text": [
      "\r",
      "┣███                 ┫ [15.32%, 34/222, 01:57/12:44, 3.17s/i] "
     ]
    },
    {
     "name": "stdout",
     "output_type": "stream",
     "text": [
      "R(21.47039)\n"
     ]
    },
    {
     "name": "stderr",
     "output_type": "stream",
     "text": [
      "\r",
      "┣███▏                ┫ [15.77%, 35/222, 02:02/12:55, 5.11s/i] "
     ]
    },
    {
     "name": "stdout",
     "output_type": "stream",
     "text": [
      "R(1.0312306)\n"
     ]
    },
    {
     "name": "stderr",
     "output_type": "stream",
     "text": [
      "\r",
      "┣███▏                ┫ [16.22%, 36/222, 02:05/12:51, 2.84s/i] "
     ]
    },
    {
     "name": "stdout",
     "output_type": "stream",
     "text": [
      "R(5.3311796)\n"
     ]
    },
    {
     "name": "stderr",
     "output_type": "stream",
     "text": [
      "\r",
      "┣███▎                ┫ [16.67%, 37/222, 02:08/12:50, 3.33s/i] "
     ]
    },
    {
     "name": "stdout",
     "output_type": "stream",
     "text": [
      "R(2.6721764)\n"
     ]
    },
    {
     "name": "stderr",
     "output_type": "stream",
     "text": [
      "\r",
      "┣███▍                ┫ [17.12%, 38/222, 02:11/12:47, 3.02s/i] "
     ]
    },
    {
     "name": "stdout",
     "output_type": "stream",
     "text": [
      "R(23.560072)\n"
     ]
    },
    {
     "name": "stderr",
     "output_type": "stream",
     "text": [
      "\r",
      "┣███▌                ┫ [17.57%, 39/222, 02:15/12:47, 3.50s/i] "
     ]
    },
    {
     "name": "stdout",
     "output_type": "stream",
     "text": [
      "R(9.057029)\n"
     ]
    },
    {
     "name": "stderr",
     "output_type": "stream",
     "text": [
      "\r",
      "┣███▌                ┫ [18.02%, 40/222, 02:20/12:56, 5.10s/i] "
     ]
    },
    {
     "name": "stdout",
     "output_type": "stream",
     "text": [
      "R(2.6449468)\n"
     ]
    },
    {
     "name": "stderr",
     "output_type": "stream",
     "text": [
      "\r",
      "┣███▋                ┫ [18.47%, 41/222, 02:23/12:55, 3.18s/i] "
     ]
    },
    {
     "name": "stdout",
     "output_type": "stream",
     "text": [
      "R(5.255641)\n"
     ]
    },
    {
     "name": "stderr",
     "output_type": "stream",
     "text": [
      "\r",
      "┣███▊                ┫ [18.92%, 42/222, 02:26/12:53, 3.14s/i] "
     ]
    },
    {
     "name": "stdout",
     "output_type": "stream",
     "text": [
      "R(1.0203059)\n"
     ]
    },
    {
     "name": "stderr",
     "output_type": "stream",
     "text": [
      "\r",
      "┣███▊                ┫ [19.37%, 43/222, 02:29/12:51, 3.12s/i] "
     ]
    },
    {
     "name": "stdout",
     "output_type": "stream",
     "text": [
      "R(64.18021)\n"
     ]
    },
    {
     "name": "stderr",
     "output_type": "stream",
     "text": [
      "\r",
      "┣███▉                ┫ [19.82%, 44/222, 02:36/13:09, 7.04s/i] "
     ]
    },
    {
     "name": "stdout",
     "output_type": "stream",
     "text": [
      "R(3.4910326)\n"
     ]
    },
    {
     "name": "stderr",
     "output_type": "stream",
     "text": [
      "\r",
      "┣████                ┫ [20.27%, 45/222, 02:39/13:06, 3.03s/i] "
     ]
    },
    {
     "name": "stdout",
     "output_type": "stream",
     "text": [
      "R(10.830342)\n"
     ]
    },
    {
     "name": "stderr",
     "output_type": "stream",
     "text": [
      "\r",
      "┣████▏               ┫ [20.72%, 46/222, 02:42/13:04, 3.01s/i] "
     ]
    },
    {
     "name": "stdout",
     "output_type": "stream",
     "text": [
      "R(11.68714)\n"
     ]
    },
    {
     "name": "stderr",
     "output_type": "stream",
     "text": [
      "\r",
      "┣████▏               ┫ [21.17%, 47/222, 02:46/13:02, 3.14s/i] "
     ]
    },
    {
     "name": "stdout",
     "output_type": "stream",
     "text": [
      "R(6.2762923)\n"
     ]
    },
    {
     "name": "stderr",
     "output_type": "stream",
     "text": [
      "\r",
      "┣████▎               ┫ [21.62%, 48/222, 02:49/13:00, 3.19s/i] "
     ]
    },
    {
     "name": "stdout",
     "output_type": "stream",
     "text": [
      "R(3.5865476)\n"
     ]
    },
    {
     "name": "stderr",
     "output_type": "stream",
     "text": [
      "\r",
      "┣████▍               ┫ [22.07%, 49/222, 02:54/13:06, 4.77s/i] "
     ]
    },
    {
     "name": "stdout",
     "output_type": "stream",
     "text": [
      "R(2.7379844)\n"
     ]
    },
    {
     "name": "stderr",
     "output_type": "stream",
     "text": [
      "\r",
      "┣████▌               ┫ [22.52%, 50/222, 02:56/13:02, 2.72s/i] "
     ]
    },
    {
     "name": "stdout",
     "output_type": "stream",
     "text": [
      "R(16.640545)\n"
     ]
    },
    {
     "name": "stderr",
     "output_type": "stream",
     "text": [
      "\r",
      "┣████▌               ┫ [22.97%, 51/222, 03:00/13:02, 3.52s/i] "
     ]
    },
    {
     "name": "stdout",
     "output_type": "stream",
     "text": [
      "R(20.521893)\n"
     ]
    },
    {
     "name": "stderr",
     "output_type": "stream",
     "text": [
      "\r",
      "┣████▋               ┫ [23.42%, 52/222, 03:03/13:03, 3.66s/i] "
     ]
    },
    {
     "name": "stdout",
     "output_type": "stream",
     "text": [
      "R(2.158326)\n"
     ]
    },
    {
     "name": "stderr",
     "output_type": "stream",
     "text": [
      "\r",
      "┣████▊               ┫ [23.87%, 53/222, 03:08/13:06, 4.24s/i] "
     ]
    },
    {
     "name": "stdout",
     "output_type": "stream",
     "text": [
      "R(20.951355)\n"
     ]
    },
    {
     "name": "stderr",
     "output_type": "stream",
     "text": [
      "\r",
      "┣████▊               ┫ [24.32%, 54/222, 03:11/13:06, 3.66s/i] "
     ]
    },
    {
     "name": "stdout",
     "output_type": "stream",
     "text": [
      "R(18.131355)\n"
     ]
    },
    {
     "name": "stderr",
     "output_type": "stream",
     "text": [
      "\r",
      "┣████▉               ┫ [24.77%, 55/222, 03:15/13:06, 3.41s/i] "
     ]
    },
    {
     "name": "stdout",
     "output_type": "stream",
     "text": [
      "R(20.37862)\n"
     ]
    },
    {
     "name": "stderr",
     "output_type": "stream",
     "text": [
      "\r",
      "┣█████               ┫ [25.23%, 56/222, 03:19/13:07, 3.87s/i] "
     ]
    },
    {
     "name": "stdout",
     "output_type": "stream",
     "text": [
      "R(1.7312149)\n"
     ]
    },
    {
     "name": "stderr",
     "output_type": "stream",
     "text": [
      "\r",
      "┣█████▏              ┫ [25.68%, 57/222, 03:22/13:06, 3.28s/i] "
     ]
    },
    {
     "name": "stdout",
     "output_type": "stream",
     "text": [
      "R(16.96815)\n"
     ]
    },
    {
     "name": "stderr",
     "output_type": "stream",
     "text": [
      "\r",
      "┣█████▏              ┫ [26.13%, 58/222, 03:27/13:12, 4.95s/i] "
     ]
    },
    {
     "name": "stdout",
     "output_type": "stream",
     "text": [
      "R(1.7325975)\n"
     ]
    },
    {
     "name": "stderr",
     "output_type": "stream",
     "text": [
      "\r",
      "┣█████▎              ┫ [26.58%, 59/222, 03:30/13:10, 3.03s/i] "
     ]
    },
    {
     "name": "stdout",
     "output_type": "stream",
     "text": [
      "R(12.381349)\n"
     ]
    },
    {
     "name": "stderr",
     "output_type": "stream",
     "text": [
      "\r",
      "┣█████▍              ┫ [27.03%, 60/222, 03:33/13:10, 3.65s/i] "
     ]
    },
    {
     "name": "stdout",
     "output_type": "stream",
     "text": [
      "R(3.290712)\n"
     ]
    },
    {
     "name": "stderr",
     "output_type": "stream",
     "text": [
      "\r",
      "┣█████▍              ┫ [27.48%, 61/222, 03:37/13:09, 3.35s/i] "
     ]
    },
    {
     "name": "stdout",
     "output_type": "stream",
     "text": [
      "R(3.5837417)\n"
     ]
    },
    {
     "name": "stderr",
     "output_type": "stream",
     "text": [
      "\r",
      "┣█████▌              ┫ [27.93%, 62/222, 03:41/13:11, 4.04s/i] "
     ]
    },
    {
     "name": "stdout",
     "output_type": "stream",
     "text": [
      "R(15.923033)\n"
     ]
    },
    {
     "name": "stderr",
     "output_type": "stream",
     "text": [
      "\r",
      "┣█████▋              ┫ [28.38%, 63/222, 03:44/13:10, 3.34s/i] "
     ]
    },
    {
     "name": "stdout",
     "output_type": "stream",
     "text": [
      "R(1.4052932)\n"
     ]
    },
    {
     "name": "stderr",
     "output_type": "stream",
     "text": [
      "\r",
      "┣█████▊              ┫ [28.83%, 64/222, 03:47/13:09, 3.20s/i] "
     ]
    },
    {
     "name": "stdout",
     "output_type": "stream",
     "text": [
      "R(28.47776)\n"
     ]
    },
    {
     "name": "stderr",
     "output_type": "stream",
     "text": [
      "\r",
      "┣█████▊              ┫ [29.28%, 65/222, 03:52/13:11, 4.15s/i] "
     ]
    },
    {
     "name": "stdout",
     "output_type": "stream",
     "text": [
      "R(4.75651)\n"
     ]
    },
    {
     "name": "stderr",
     "output_type": "stream",
     "text": [
      "\r",
      "┣█████▉              ┫ [29.73%, 66/222, 03:55/13:10, 3.33s/i] "
     ]
    },
    {
     "name": "stdout",
     "output_type": "stream",
     "text": [
      "R(72.09759)\n"
     ]
    },
    {
     "name": "stderr",
     "output_type": "stream",
     "text": [
      "\r",
      "┣██████              ┫ [30.18%, 67/222, 04:02/13:23, 7.42s/i] "
     ]
    },
    {
     "name": "stdout",
     "output_type": "stream",
     "text": [
      "R(17.38568)\n"
     ]
    },
    {
     "name": "stderr",
     "output_type": "stream",
     "text": [
      "\r",
      "┣██████▏             ┫ [30.63%, 68/222, 04:06/13:23, 3.68s/i] "
     ]
    },
    {
     "name": "stdout",
     "output_type": "stream",
     "text": [
      "R(1.1662651)\n"
     ]
    },
    {
     "name": "stderr",
     "output_type": "stream",
     "text": [
      "\r",
      "┣██████▏             ┫ [31.08%, 69/222, 04:09/13:21, 2.91s/i] "
     ]
    },
    {
     "name": "stdout",
     "output_type": "stream",
     "text": [
      "R(2.437738)\n"
     ]
    },
    {
     "name": "stderr",
     "output_type": "stream",
     "text": [
      "\r",
      "┣██████▎             ┫ [31.53%, 70/222, 04:13/13:22, 4.06s/i] "
     ]
    },
    {
     "name": "stdout",
     "output_type": "stream",
     "text": [
      "R(9.2403345)\n"
     ]
    },
    {
     "name": "stderr",
     "output_type": "stream",
     "text": [
      "\r",
      "┣██████▍             ┫ [31.98%, 71/222, 04:16/13:21, 3.30s/i] "
     ]
    },
    {
     "name": "stdout",
     "output_type": "stream",
     "text": [
      "R(4.035952)\n"
     ]
    },
    {
     "name": "stderr",
     "output_type": "stream",
     "text": [
      "\r",
      "┣██████▍             ┫ [32.43%, 72/222, 04:19/13:19, 2.92s/i] "
     ]
    },
    {
     "name": "stdout",
     "output_type": "stream",
     "text": [
      "R(9.313235)\n"
     ]
    },
    {
     "name": "stderr",
     "output_type": "stream",
     "text": [
      "\r",
      "┣██████▌             ┫ [32.88%, 73/222, 04:22/13:17, 3.01s/i] "
     ]
    },
    {
     "name": "stdout",
     "output_type": "stream",
     "text": [
      "R(10.260862)\n"
     ]
    },
    {
     "name": "stderr",
     "output_type": "stream",
     "text": [
      "\r",
      "┣██████▋             ┫ [33.33%, 74/222, 04:26/13:17, 3.52s/i] "
     ]
    },
    {
     "name": "stdout",
     "output_type": "stream",
     "text": [
      "R(3.9155169)\n"
     ]
    },
    {
     "name": "stderr",
     "output_type": "stream",
     "text": [
      "\r",
      "┣██████▊             ┫ [33.78%, 75/222, 04:29/13:15, 2.90s/i] "
     ]
    },
    {
     "name": "stdout",
     "output_type": "stream",
     "text": [
      "R(13.107978)\n"
     ]
    },
    {
     "name": "stderr",
     "output_type": "stream",
     "text": [
      "\r",
      "┣██████▊             ┫ [34.23%, 76/222, 04:34/13:20, 5.40s/i] "
     ]
    },
    {
     "name": "stdout",
     "output_type": "stream",
     "text": [
      "R(2.3636441)\n"
     ]
    },
    {
     "name": "stderr",
     "output_type": "stream",
     "text": [
      "\r",
      "┣██████▉             ┫ [34.68%, 77/222, 04:37/13:19, 3.05s/i] "
     ]
    },
    {
     "name": "stdout",
     "output_type": "stream",
     "text": [
      "R(30.069155)\n"
     ]
    },
    {
     "name": "stderr",
     "output_type": "stream",
     "text": [
      "\r",
      "┣███████             ┫ [35.14%, 78/222, 04:41/13:21, 4.30s/i] "
     ]
    },
    {
     "name": "stdout",
     "output_type": "stream",
     "text": [
      "R(3.7297156)\n"
     ]
    },
    {
     "name": "stderr",
     "output_type": "stream",
     "text": [
      "\r",
      "┣███████             ┫ [35.59%, 79/222, 04:45/13:20, 3.28s/i] "
     ]
    },
    {
     "name": "stdout",
     "output_type": "stream",
     "text": [
      "R(9.197389)\n"
     ]
    },
    {
     "name": "stderr",
     "output_type": "stream",
     "text": [
      "\r",
      "┣███████▏            ┫ [36.04%, 80/222, 04:49/13:23, 4.83s/i] "
     ]
    },
    {
     "name": "stdout",
     "output_type": "stream",
     "text": [
      "R(2.9853525)\n"
     ]
    },
    {
     "name": "stderr",
     "output_type": "stream",
     "text": [
      "\r",
      "┣███████▎            ┫ [36.49%, 81/222, 04:53/13:22, 3.09s/i] "
     ]
    },
    {
     "name": "stdout",
     "output_type": "stream",
     "text": [
      "R(23.064074)\n"
     ]
    },
    {
     "name": "stderr",
     "output_type": "stream",
     "text": [
      "\r",
      "┣███████▍            ┫ [36.94%, 82/222, 04:56/13:23, 3.87s/i] "
     ]
    },
    {
     "name": "stdout",
     "output_type": "stream",
     "text": [
      "R(3.7717445)\n"
     ]
    },
    {
     "name": "stderr",
     "output_type": "stream",
     "text": [
      "\r",
      "┣███████▍            ┫ [37.39%, 83/222, 04:59/13:21, 2.96s/i] "
     ]
    },
    {
     "name": "stdout",
     "output_type": "stream",
     "text": [
      "R(14.637078)\n"
     ]
    },
    {
     "name": "stderr",
     "output_type": "stream",
     "text": [
      "\r",
      "┣███████▌            ┫ [37.84%, 84/222, 05:03/13:20, 3.39s/i] "
     ]
    },
    {
     "name": "stdout",
     "output_type": "stream",
     "text": [
      "R(1.9426408)\n"
     ]
    },
    {
     "name": "stderr",
     "output_type": "stream",
     "text": [
      "\r",
      "┣███████▋            ┫ [38.29%, 85/222, 05:06/13:19, 3.11s/i] "
     ]
    },
    {
     "name": "stdout",
     "output_type": "stream",
     "text": [
      "R(13.3409815)\n"
     ]
    },
    {
     "name": "stderr",
     "output_type": "stream",
     "text": [
      "\r",
      "┣███████▋            ┫ [38.74%, 86/222, 05:11/13:23, 5.21s/i] "
     ]
    },
    {
     "name": "stdout",
     "output_type": "stream",
     "text": [
      "R(1.8273172)\n"
     ]
    },
    {
     "name": "stderr",
     "output_type": "stream",
     "text": [
      "\r",
      "┣███████▊            ┫ [39.19%, 87/222, 05:14/13:21, 2.72s/i] "
     ]
    },
    {
     "name": "stdout",
     "output_type": "stream",
     "text": [
      "R(8.5824175)\n"
     ]
    },
    {
     "name": "stderr",
     "output_type": "stream",
     "text": [
      "\r",
      "┣███████▉            ┫ [39.64%, 88/222, 05:17/13:20, 3.45s/i] "
     ]
    },
    {
     "name": "stdout",
     "output_type": "stream",
     "text": [
      "R(0.89063334)\n"
     ]
    },
    {
     "name": "stderr",
     "output_type": "stream",
     "text": [
      "\r",
      "┣████████            ┫ [40.09%, 89/222, 05:20/13:19, 2.91s/i] "
     ]
    },
    {
     "name": "stdout",
     "output_type": "stream",
     "text": [
      "R(1.4632081)\n"
     ]
    },
    {
     "name": "stderr",
     "output_type": "stream",
     "text": [
      "\r",
      "┣████████            ┫ [40.54%, 90/222, 05:24/13:20, 4.20s/i] "
     ]
    },
    {
     "name": "stdout",
     "output_type": "stream",
     "text": [
      "R(7.114203)\n"
     ]
    },
    {
     "name": "stderr",
     "output_type": "stream",
     "text": [
      "\r",
      "┣████████▏           ┫ [40.99%, 91/222, 05:28/13:19, 3.09s/i] "
     ]
    },
    {
     "name": "stdout",
     "output_type": "stream",
     "text": [
      "R(14.159939)\n"
     ]
    },
    {
     "name": "stderr",
     "output_type": "stream",
     "text": [
      "\r",
      "┣████████▎           ┫ [41.44%, 92/222, 05:31/13:19, 3.57s/i] "
     ]
    },
    {
     "name": "stdout",
     "output_type": "stream",
     "text": [
      "R(18.418167)\n"
     ]
    },
    {
     "name": "stderr",
     "output_type": "stream",
     "text": [
      "\r",
      "┣████████▍           ┫ [41.89%, 93/222, 05:35/13:19, 3.85s/i] "
     ]
    },
    {
     "name": "stdout",
     "output_type": "stream",
     "text": [
      "R(9.707587)\n"
     ]
    },
    {
     "name": "stderr",
     "output_type": "stream",
     "text": [
      "\r",
      "┣████████▍           ┫ [42.34%, 94/222, 05:38/13:18, 3.14s/i] "
     ]
    },
    {
     "name": "stdout",
     "output_type": "stream",
     "text": [
      "R(6.0005345)\n"
     ]
    },
    {
     "name": "stderr",
     "output_type": "stream",
     "text": [
      "\r",
      "┣████████▌           ┫ [42.79%, 95/222, 05:43/13:21, 4.91s/i] "
     ]
    },
    {
     "name": "stdout",
     "output_type": "stream",
     "text": [
      "R(2.9970071)\n"
     ]
    },
    {
     "name": "stderr",
     "output_type": "stream",
     "text": [
      "\r",
      "┣████████▋           ┫ [43.24%, 96/222, 05:46/13:20, 3.15s/i] "
     ]
    },
    {
     "name": "stdout",
     "output_type": "stream",
     "text": [
      "R(1.8373663)\n"
     ]
    },
    {
     "name": "stderr",
     "output_type": "stream",
     "text": [
      "\r",
      "┣████████▋           ┫ [43.69%, 97/222, 05:49/13:19, 2.85s/i] "
     ]
    },
    {
     "name": "stdout",
     "output_type": "stream",
     "text": [
      "R(24.099718)\n"
     ]
    },
    {
     "name": "stderr",
     "output_type": "stream",
     "text": [
      "\r",
      "┣████████▊           ┫ [44.14%, 98/222, 05:53/13:20, 4.18s/i] "
     ]
    },
    {
     "name": "stdout",
     "output_type": "stream",
     "text": [
      "R(4.940977)\n"
     ]
    },
    {
     "name": "stderr",
     "output_type": "stream",
     "text": [
      "\r",
      "┣████████▉           ┫ [44.59%, 99/222, 05:58/13:22, 4.35s/i] "
     ]
    },
    {
     "name": "stdout",
     "output_type": "stream",
     "text": [
      "R(10.14104)\n"
     ]
    },
    {
     "name": "stderr",
     "output_type": "stream",
     "text": [
      "\r",
      "┣█████████           ┫ [45.05%, 100/222, 06:01/13:21, 3.22s/i] "
     ]
    },
    {
     "name": "stdout",
     "output_type": "stream",
     "text": [
      "R(4.377852)\n"
     ]
    },
    {
     "name": "stderr",
     "output_type": "stream",
     "text": [
      "\r",
      "┣█████████           ┫ [45.50%, 101/222, 06:04/13:20, 3.04s/i] "
     ]
    },
    {
     "name": "stdout",
     "output_type": "stream",
     "text": [
      "R(1.2070429)\n"
     ]
    },
    {
     "name": "stderr",
     "output_type": "stream",
     "text": [
      "\r",
      "┣█████████▏          ┫ [45.95%, 102/222, 06:07/13:19, 3.22s/i] "
     ]
    },
    {
     "name": "stdout",
     "output_type": "stream",
     "text": [
      "R(1.4041766)\n"
     ]
    },
    {
     "name": "stderr",
     "output_type": "stream",
     "text": [
      "\r",
      "┣█████████▎          ┫ [46.40%, 103/222, 06:10/13:17, 2.90s/i] "
     ]
    },
    {
     "name": "stdout",
     "output_type": "stream",
     "text": [
      "R(12.907616)\n"
     ]
    },
    {
     "name": "stderr",
     "output_type": "stream",
     "text": [
      "\r",
      "┣█████████▎          ┫ [46.85%, 104/222, 06:15/13:21, 5.32s/i] "
     ]
    },
    {
     "name": "stdout",
     "output_type": "stream",
     "text": [
      "R(1.5197488)\n"
     ]
    },
    {
     "name": "stderr",
     "output_type": "stream",
     "text": [
      "\r",
      "┣█████████▍          ┫ [47.30%, 105/222, 06:18/13:19, 2.71s/i] "
     ]
    },
    {
     "name": "stdout",
     "output_type": "stream",
     "text": [
      "R(47.127914)\n"
     ]
    },
    {
     "name": "stderr",
     "output_type": "stream",
     "text": [
      "\r",
      "┣█████████▌          ┫ [47.75%, 106/222, 06:23/13:22, 5.01s/i] "
     ]
    },
    {
     "name": "stdout",
     "output_type": "stream",
     "text": [
      "R(33.227562)\n"
     ]
    },
    {
     "name": "stderr",
     "output_type": "stream",
     "text": [
      "\r",
      "┣█████████▋          ┫ [48.20%, 107/222, 06:27/13:23, 3.96s/i] "
     ]
    },
    {
     "name": "stdout",
     "output_type": "stream",
     "text": [
      "R(2.4929688)\n"
     ]
    },
    {
     "name": "stderr",
     "output_type": "stream",
     "text": [
      "\r",
      "┣█████████▋          ┫ [48.65%, 108/222, 06:31/13:24, 4.17s/i] "
     ]
    },
    {
     "name": "stdout",
     "output_type": "stream",
     "text": [
      "R(0.507461)\n"
     ]
    },
    {
     "name": "stderr",
     "output_type": "stream",
     "text": [
      "\r",
      "┣█████████▊          ┫ [49.10%, 109/222, 06:34/13:22, 2.64s/i] "
     ]
    },
    {
     "name": "stdout",
     "output_type": "stream",
     "text": [
      "R(1.7968117)\n"
     ]
    },
    {
     "name": "stderr",
     "output_type": "stream",
     "text": [
      "\r",
      "┣█████████▉          ┫ [49.55%, 110/222, 06:37/13:20, 2.93s/i] "
     ]
    },
    {
     "name": "stdout",
     "output_type": "stream",
     "text": [
      "R(3.6241815)\n"
     ]
    },
    {
     "name": "stderr",
     "output_type": "stream",
     "text": [
      "\r",
      "┣██████████          ┫ [50.00%, 111/222, 06:40/13:20, 3.28s/i] "
     ]
    },
    {
     "name": "stdout",
     "output_type": "stream",
     "text": [
      "R(2.2581856)\n"
     ]
    },
    {
     "name": "stderr",
     "output_type": "stream",
     "text": [
      "\r",
      "┣██████████          ┫ [50.45%, 112/222, 06:43/13:19, 3.05s/i] "
     ]
    },
    {
     "name": "stdout",
     "output_type": "stream",
     "text": [
      "R(5.664017)\n"
     ]
    },
    {
     "name": "stderr",
     "output_type": "stream",
     "text": [
      "\r",
      "┣██████████▏         ┫ [50.90%, 113/222, 06:47/13:20, 4.32s/i] "
     ]
    },
    {
     "name": "stdout",
     "output_type": "stream",
     "text": [
      "R(1.696481)\n"
     ]
    },
    {
     "name": "stderr",
     "output_type": "stream",
     "text": [
      "\r",
      "┣██████████▎         ┫ [51.35%, 114/222, 06:50/13:18, 2.68s/i] "
     ]
    },
    {
     "name": "stdout",
     "output_type": "stream",
     "text": [
      "R(1.4046085)\n"
     ]
    },
    {
     "name": "stderr",
     "output_type": "stream",
     "text": [
      "\r",
      "┣██████████▎         ┫ [51.80%, 115/222, 06:53/13:17, 2.79s/i] "
     ]
    },
    {
     "name": "stdout",
     "output_type": "stream",
     "text": [
      "R(4.481153)\n"
     ]
    },
    {
     "name": "stderr",
     "output_type": "stream",
     "text": [
      "\r",
      "┣██████████▍         ┫ [52.25%, 116/222, 06:56/13:16, 3.15s/i] "
     ]
    },
    {
     "name": "stdout",
     "output_type": "stream",
     "text": [
      "R(2.2264757)\n"
     ]
    },
    {
     "name": "stderr",
     "output_type": "stream",
     "text": [
      "\r",
      "┣██████████▌         ┫ [52.70%, 117/222, 07:00/13:17, 4.29s/i] "
     ]
    },
    {
     "name": "stdout",
     "output_type": "stream",
     "text": [
      "R(4.362341)\n"
     ]
    },
    {
     "name": "stderr",
     "output_type": "stream",
     "text": [
      "\r",
      "┣██████████▋         ┫ [53.15%, 118/222, 07:03/13:16, 3.09s/i] "
     ]
    },
    {
     "name": "stdout",
     "output_type": "stream",
     "text": [
      "R(13.00336)\n"
     ]
    },
    {
     "name": "stderr",
     "output_type": "stream",
     "text": [
      "\r",
      "┣██████████▋         ┫ [53.60%, 119/222, 07:07/13:17, 3.72s/i] "
     ]
    },
    {
     "name": "stdout",
     "output_type": "stream",
     "text": [
      "R(3.6906235)\n"
     ]
    },
    {
     "name": "stderr",
     "output_type": "stream",
     "text": [
      "\r",
      "┣██████████▊         ┫ [54.05%, 120/222, 07:10/13:16, 3.05s/i] "
     ]
    },
    {
     "name": "stdout",
     "output_type": "stream",
     "text": [
      "R(16.886862)\n"
     ]
    },
    {
     "name": "stderr",
     "output_type": "stream",
     "text": [
      "\r",
      "┣██████████▉         ┫ [54.50%, 121/222, 07:14/13:16, 3.65s/i] "
     ]
    },
    {
     "name": "stdout",
     "output_type": "stream",
     "text": [
      "R(4.216812)\n"
     ]
    },
    {
     "name": "stderr",
     "output_type": "stream",
     "text": [
      "\r",
      "┣██████████▉         ┫ [54.95%, 122/222, 07:19/13:18, 4.95s/i] "
     ]
    },
    {
     "name": "stdout",
     "output_type": "stream",
     "text": [
      "R(1.8212479)\n"
     ]
    },
    {
     "name": "stderr",
     "output_type": "stream",
     "text": [
      "\r",
      "┣███████████         ┫ [55.41%, 123/222, 07:22/13:17, 3.17s/i] "
     ]
    },
    {
     "name": "stdout",
     "output_type": "stream",
     "text": [
      "R(22.211327)\n"
     ]
    },
    {
     "name": "stderr",
     "output_type": "stream",
     "text": [
      "\r",
      "┣███████████▏        ┫ [55.86%, 124/222, 07:26/13:19, 4.31s/i] "
     ]
    },
    {
     "name": "stdout",
     "output_type": "stream",
     "text": [
      "R(15.509275)\n"
     ]
    },
    {
     "name": "stderr",
     "output_type": "stream",
     "text": [
      "\r",
      "┣███████████▎        ┫ [56.31%, 125/222, 07:30/13:19, 3.62s/i] "
     ]
    },
    {
     "name": "stdout",
     "output_type": "stream",
     "text": [
      "R(4.087498)\n"
     ]
    },
    {
     "name": "stderr",
     "output_type": "stream",
     "text": [
      "\r",
      "┣███████████▎        ┫ [56.76%, 126/222, 07:34/13:20, 4.40s/i] "
     ]
    },
    {
     "name": "stdout",
     "output_type": "stream",
     "text": [
      "R(1.0923358)\n"
     ]
    },
    {
     "name": "stderr",
     "output_type": "stream",
     "text": [
      "\r",
      "┣███████████▍        ┫ [57.21%, 127/222, 07:37/13:19, 3.12s/i] "
     ]
    },
    {
     "name": "stdout",
     "output_type": "stream",
     "text": [
      "R(0.84214455)\n"
     ]
    },
    {
     "name": "stderr",
     "output_type": "stream",
     "text": [
      "\r",
      "┣███████████▌        ┫ [57.66%, 128/222, 07:40/13:18, 3.04s/i] "
     ]
    },
    {
     "name": "stdout",
     "output_type": "stream",
     "text": [
      "R(1.5554181)\n"
     ]
    },
    {
     "name": "stderr",
     "output_type": "stream",
     "text": [
      "\r",
      "┣███████████▌        ┫ [58.11%, 129/222, 07:43/13:17, 2.91s/i] "
     ]
    },
    {
     "name": "stdout",
     "output_type": "stream",
     "text": [
      "R(4.5516415)\n"
     ]
    },
    {
     "name": "stderr",
     "output_type": "stream",
     "text": [
      "\r",
      "┣███████████▋        ┫ [58.56%, 130/222, 07:46/13:16, 3.15s/i] "
     ]
    },
    {
     "name": "stdout",
     "output_type": "stream",
     "text": [
      "R(1.4596239)\n"
     ]
    },
    {
     "name": "stderr",
     "output_type": "stream",
     "text": [
      "\r",
      "┣███████████▊        ┫ [59.01%, 131/222, 07:49/13:15, 2.95s/i] "
     ]
    },
    {
     "name": "stdout",
     "output_type": "stream",
     "text": [
      "R(8.872376)\n"
     ]
    },
    {
     "name": "stderr",
     "output_type": "stream",
     "text": [
      "\r",
      "┣███████████▉        ┫ [59.46%, 132/222, 07:54/13:17, 4.82s/i] "
     ]
    },
    {
     "name": "stdout",
     "output_type": "stream",
     "text": [
      "R(14.39288)\n"
     ]
    },
    {
     "name": "stderr",
     "output_type": "stream",
     "text": [
      "\r",
      "┣███████████▉        ┫ [59.91%, 133/222, 07:58/13:18, 3.67s/i] "
     ]
    },
    {
     "name": "stdout",
     "output_type": "stream",
     "text": [
      "R(2.3603237)\n"
     ]
    },
    {
     "name": "stderr",
     "output_type": "stream",
     "text": [
      "\r",
      "┣████████████        ┫ [60.36%, 134/222, 08:01/13:16, 2.93s/i] "
     ]
    },
    {
     "name": "stdout",
     "output_type": "stream",
     "text": [
      "R(1.9796559)\n"
     ]
    },
    {
     "name": "stderr",
     "output_type": "stream",
     "text": [
      "\r",
      "┣████████████▏       ┫ [60.81%, 135/222, 08:04/13:15, 2.96s/i] "
     ]
    },
    {
     "name": "stdout",
     "output_type": "stream",
     "text": [
      "R(11.696252)\n"
     ]
    },
    {
     "name": "stderr",
     "output_type": "stream",
     "text": [
      "\r",
      "┣████████████▎       ┫ [61.26%, 136/222, 08:09/13:17, 4.84s/i] "
     ]
    },
    {
     "name": "stdout",
     "output_type": "stream",
     "text": [
      "R(10.558622)\n"
     ]
    },
    {
     "name": "stderr",
     "output_type": "stream",
     "text": [
      "\r",
      "┣████████████▎       ┫ [61.71%, 137/222, 08:12/13:17, 3.47s/i] "
     ]
    },
    {
     "name": "stdout",
     "output_type": "stream",
     "text": [
      "R(4.4080124)\n"
     ]
    },
    {
     "name": "stderr",
     "output_type": "stream",
     "text": [
      "\r",
      "┣████████████▍       ┫ [62.16%, 138/222, 08:15/13:17, 3.20s/i] "
     ]
    },
    {
     "name": "stdout",
     "output_type": "stream",
     "text": [
      "R(21.104975)\n"
     ]
    },
    {
     "name": "stderr",
     "output_type": "stream",
     "text": [
      "\r",
      "┣████████████▌       ┫ [62.61%, 139/222, 08:19/13:17, 3.59s/i] "
     ]
    },
    {
     "name": "stdout",
     "output_type": "stream",
     "text": [
      "R(53.74028)\n"
     ]
    },
    {
     "name": "stderr",
     "output_type": "stream",
     "text": [
      "\r",
      "┣████████████▌       ┫ [63.06%, 140/222, 08:24/13:20, 5.46s/i] "
     ]
    },
    {
     "name": "stdout",
     "output_type": "stream",
     "text": [
      "R(3.369095)\n"
     ]
    },
    {
     "name": "stderr",
     "output_type": "stream",
     "text": [
      "\r",
      "┣████████████▋       ┫ [63.51%, 141/222, 08:28/13:20, 4.03s/i] "
     ]
    },
    {
     "name": "stdout",
     "output_type": "stream",
     "text": [
      "R(1.2513715)\n"
     ]
    },
    {
     "name": "stderr",
     "output_type": "stream",
     "text": [
      "\r",
      "┣████████████▊       ┫ [63.96%, 142/222, 08:31/13:19, 2.90s/i] "
     ]
    },
    {
     "name": "stdout",
     "output_type": "stream",
     "text": [
      "R(49.522987)\n"
     ]
    },
    {
     "name": "stderr",
     "output_type": "stream",
     "text": [
      "\r",
      "┣████████████▉       ┫ [64.41%, 143/222, 08:36/13:22, 5.10s/i] "
     ]
    },
    {
     "name": "stdout",
     "output_type": "stream",
     "text": [
      "R(16.47501)\n"
     ]
    },
    {
     "name": "stderr",
     "output_type": "stream",
     "text": [
      "\r",
      "┣████████████▉       ┫ [64.86%, 144/222, 08:40/13:21, 3.32s/i] "
     ]
    },
    {
     "name": "stdout",
     "output_type": "stream",
     "text": [
      "R(14.453639)\n"
     ]
    },
    {
     "name": "stderr",
     "output_type": "stream",
     "text": [
      "\r",
      "┣█████████████       ┫ [65.32%, 145/222, 08:44/13:22, 4.38s/i] "
     ]
    },
    {
     "name": "stdout",
     "output_type": "stream",
     "text": [
      "R(17.630337)\n"
     ]
    },
    {
     "name": "stderr",
     "output_type": "stream",
     "text": [
      "\r",
      "┣█████████████▏      ┫ [65.77%, 146/222, 08:47/13:22, 3.31s/i] "
     ]
    },
    {
     "name": "stdout",
     "output_type": "stream",
     "text": [
      "R(6.3259163)\n"
     ]
    },
    {
     "name": "stderr",
     "output_type": "stream",
     "text": [
      "\r",
      "┣█████████████▏      ┫ [66.22%, 147/222, 08:51/13:22, 3.47s/i] "
     ]
    },
    {
     "name": "stdout",
     "output_type": "stream",
     "text": [
      "R(7.8636603)\n"
     ]
    },
    {
     "name": "stderr",
     "output_type": "stream",
     "text": [
      "\r",
      "┣█████████████▎      ┫ [66.67%, 148/222, 08:54/13:21, 3.32s/i] "
     ]
    },
    {
     "name": "stdout",
     "output_type": "stream",
     "text": [
      "R(45.603264)\n"
     ]
    },
    {
     "name": "stderr",
     "output_type": "stream",
     "text": [
      "\r",
      "┣█████████████▍      ┫ [67.12%, 149/222, 09:00/13:24, 5.45s/i] "
     ]
    },
    {
     "name": "stdout",
     "output_type": "stream",
     "text": [
      "R(0.7019942)\n"
     ]
    },
    {
     "name": "stderr",
     "output_type": "stream",
     "text": [
      "\r",
      "┣█████████████▌      ┫ [67.57%, 150/222, 09:04/13:25, 4.25s/i] "
     ]
    },
    {
     "name": "stdout",
     "output_type": "stream",
     "text": [
      "R(7.1658897)\n"
     ]
    },
    {
     "name": "stderr",
     "output_type": "stream",
     "text": [
      "\r",
      "┣█████████████▌      ┫ [68.02%, 151/222, 09:07/13:25, 3.41s/i] "
     ]
    },
    {
     "name": "stdout",
     "output_type": "stream",
     "text": [
      "R(4.811972)\n"
     ]
    },
    {
     "name": "stderr",
     "output_type": "stream",
     "text": [
      "\r",
      "┣█████████████▋      ┫ [68.47%, 152/222, 09:10/13:24, 3.10s/i] "
     ]
    },
    {
     "name": "stdout",
     "output_type": "stream",
     "text": [
      "R(5.118351)\n"
     ]
    },
    {
     "name": "stderr",
     "output_type": "stream",
     "text": [
      "\r",
      "┣█████████████▊      ┫ [68.92%, 153/222, 09:14/13:23, 3.22s/i] "
     ]
    },
    {
     "name": "stdout",
     "output_type": "stream",
     "text": [
      "R(5.1411324)\n"
     ]
    },
    {
     "name": "stderr",
     "output_type": "stream",
     "text": [
      "\r",
      "┣█████████████▊      ┫ [69.37%, 154/222, 09:18/13:25, 4.64s/i] "
     ]
    },
    {
     "name": "stdout",
     "output_type": "stream",
     "text": [
      "R(12.364806)\n"
     ]
    },
    {
     "name": "stderr",
     "output_type": "stream",
     "text": [
      "\r",
      "┣█████████████▉      ┫ [69.82%, 155/222, 09:22/13:24, 3.50s/i] "
     ]
    },
    {
     "name": "stdout",
     "output_type": "stream",
     "text": [
      "R(13.213106)\n"
     ]
    },
    {
     "name": "stderr",
     "output_type": "stream",
     "text": [
      "\r",
      "┣██████████████      ┫ [70.27%, 156/222, 09:25/13:24, 3.33s/i] "
     ]
    },
    {
     "name": "stdout",
     "output_type": "stream",
     "text": [
      "R(3.808941)\n"
     ]
    },
    {
     "name": "stderr",
     "output_type": "stream",
     "text": [
      "\r",
      "┣██████████████▏     ┫ [70.72%, 157/222, 09:28/13:23, 3.09s/i] "
     ]
    },
    {
     "name": "stdout",
     "output_type": "stream",
     "text": [
      "R(12.333788)\n"
     ]
    },
    {
     "name": "stderr",
     "output_type": "stream",
     "text": [
      "\r",
      "┣██████████████▏     ┫ [71.17%, 158/222, 09:32/13:23, 3.50s/i] "
     ]
    },
    {
     "name": "stdout",
     "output_type": "stream",
     "text": [
      "R(1.5582428)\n"
     ]
    },
    {
     "name": "stderr",
     "output_type": "stream",
     "text": [
      "\r",
      "┣██████████████▎     ┫ [71.62%, 159/222, 09:36/13:24, 4.43s/i] "
     ]
    },
    {
     "name": "stdout",
     "output_type": "stream",
     "text": [
      "R(1.1895792)\n"
     ]
    },
    {
     "name": "stderr",
     "output_type": "stream",
     "text": [
      "\r",
      "┣██████████████▍     ┫ [72.07%, 160/222, 09:39/13:23, 2.90s/i] "
     ]
    },
    {
     "name": "stdout",
     "output_type": "stream",
     "text": [
      "R(1.0737454)\n"
     ]
    },
    {
     "name": "stderr",
     "output_type": "stream",
     "text": [
      "\r",
      "┣██████████████▌     ┫ [72.52%, 161/222, 09:42/13:22, 3.06s/i] "
     ]
    },
    {
     "name": "stdout",
     "output_type": "stream",
     "text": [
      "R(21.62603)\n"
     ]
    },
    {
     "name": "stderr",
     "output_type": "stream",
     "text": [
      "\r",
      "┣██████████████▌     ┫ [72.97%, 162/222, 09:46/13:23, 3.79s/i] "
     ]
    },
    {
     "name": "stdout",
     "output_type": "stream",
     "text": [
      "R(1.1979405)\n"
     ]
    },
    {
     "name": "stderr",
     "output_type": "stream",
     "text": [
      "\r",
      "┣██████████████▋     ┫ [73.42%, 163/222, 09:50/13:23, 4.19s/i] "
     ]
    },
    {
     "name": "stdout",
     "output_type": "stream",
     "text": [
      "R(0.67479885)\n"
     ]
    },
    {
     "name": "stderr",
     "output_type": "stream",
     "text": [
      "\r",
      "┣██████████████▊     ┫ [73.87%, 164/222, 09:53/13:22, 2.73s/i] "
     ]
    },
    {
     "name": "stdout",
     "output_type": "stream",
     "text": [
      "R(5.668772)\n"
     ]
    },
    {
     "name": "stderr",
     "output_type": "stream",
     "text": [
      "\r",
      "┣██████████████▊     ┫ [74.32%, 165/222, 09:56/13:22, 3.18s/i] "
     ]
    },
    {
     "name": "stdout",
     "output_type": "stream",
     "text": [
      "R(6.473776)\n"
     ]
    },
    {
     "name": "stderr",
     "output_type": "stream",
     "text": [
      "\r",
      "┣██████████████▉     ┫ [74.77%, 166/222, 09:59/13:21, 3.42s/i] "
     ]
    },
    {
     "name": "stdout",
     "output_type": "stream",
     "text": [
      "R(1.5924401)\n"
     ]
    },
    {
     "name": "stderr",
     "output_type": "stream",
     "text": [
      "\r",
      "┣███████████████     ┫ [75.23%, 167/222, 10:02/13:20, 2.62s/i] "
     ]
    },
    {
     "name": "stdout",
     "output_type": "stream",
     "text": [
      "R(0.8131019)\n"
     ]
    },
    {
     "name": "stderr",
     "output_type": "stream",
     "text": [
      "\r",
      "┣███████████████▏    ┫ [75.68%, 168/222, 10:06/13:21, 4.34s/i] "
     ]
    },
    {
     "name": "stdout",
     "output_type": "stream",
     "text": [
      "R(6.5388083)\n"
     ]
    },
    {
     "name": "stderr",
     "output_type": "stream",
     "text": [
      "\r",
      "┣███████████████▏    ┫ [76.13%, 169/222, 10:10/13:21, 3.42s/i] "
     ]
    },
    {
     "name": "stdout",
     "output_type": "stream",
     "text": [
      "R(11.741697)\n"
     ]
    },
    {
     "name": "stderr",
     "output_type": "stream",
     "text": [
      "\r",
      "┣███████████████▎    ┫ [76.58%, 170/222, 10:13/13:21, 3.35s/i] "
     ]
    },
    {
     "name": "stdout",
     "output_type": "stream",
     "text": [
      "R(48.34382)\n"
     ]
    },
    {
     "name": "stderr",
     "output_type": "stream",
     "text": [
      "\r",
      "┣███████████████▍    ┫ [77.03%, 171/222, 10:18/13:22, 4.76s/i] "
     ]
    },
    {
     "name": "stdout",
     "output_type": "stream",
     "text": [
      "R(1.4557675)\n"
     ]
    },
    {
     "name": "stderr",
     "output_type": "stream",
     "text": [
      "\r",
      "┣███████████████▍    ┫ [77.48%, 172/222, 10:22/13:23, 4.28s/i] "
     ]
    },
    {
     "name": "stdout",
     "output_type": "stream",
     "text": [
      "R(6.9903216)\n"
     ]
    },
    {
     "name": "stderr",
     "output_type": "stream",
     "text": [
      "\r",
      "┣███████████████▌    ┫ [77.93%, 173/222, 10:25/13:23, 3.33s/i] "
     ]
    },
    {
     "name": "stdout",
     "output_type": "stream",
     "text": [
      "R(2.2122684)\n"
     ]
    },
    {
     "name": "stderr",
     "output_type": "stream",
     "text": [
      "\r",
      "┣███████████████▋    ┫ [78.38%, 174/222, 10:28/13:21, 2.76s/i] "
     ]
    },
    {
     "name": "stdout",
     "output_type": "stream",
     "text": [
      "R(13.973608)\n"
     ]
    },
    {
     "name": "stderr",
     "output_type": "stream",
     "text": [
      "\r",
      "┣███████████████▊    ┫ [78.83%, 175/222, 10:32/13:21, 3.45s/i] "
     ]
    },
    {
     "name": "stdout",
     "output_type": "stream",
     "text": [
      "R(3.9009163)\n"
     ]
    },
    {
     "name": "stderr",
     "output_type": "stream",
     "text": [
      "\r",
      "┣███████████████▊    ┫ [79.28%, 176/222, 10:35/13:20, 2.95s/i] "
     ]
    },
    {
     "name": "stdout",
     "output_type": "stream",
     "text": [
      "R(13.333235)\n"
     ]
    },
    {
     "name": "stderr",
     "output_type": "stream",
     "text": [
      "\r",
      "┣███████████████▉    ┫ [79.73%, 177/222, 10:40/13:22, 5.09s/i] "
     ]
    },
    {
     "name": "stdout",
     "output_type": "stream",
     "text": [
      "R(4.384754)\n"
     ]
    },
    {
     "name": "stderr",
     "output_type": "stream",
     "text": [
      "\r",
      "┣████████████████    ┫ [80.18%, 178/222, 10:43/13:22, 3.00s/i] "
     ]
    },
    {
     "name": "stdout",
     "output_type": "stream",
     "text": [
      "R(0.5043874)\n"
     ]
    },
    {
     "name": "stderr",
     "output_type": "stream",
     "text": [
      "\r",
      "┣████████████████▏   ┫ [80.63%, 179/222, 10:46/13:21, 3.06s/i] "
     ]
    },
    {
     "name": "stdout",
     "output_type": "stream",
     "text": [
      "R(1.6107261)\n"
     ]
    },
    {
     "name": "stderr",
     "output_type": "stream",
     "text": [
      "\r",
      "┣████████████████▏   ┫ [81.08%, 180/222, 10:48/13:20, 2.79s/i] "
     ]
    },
    {
     "name": "stdout",
     "output_type": "stream",
     "text": [
      "R(1.401349)\n"
     ]
    },
    {
     "name": "stderr",
     "output_type": "stream",
     "text": [
      "\r",
      "┣████████████████▎   ┫ [81.53%, 181/222, 10:53/13:20, 4.16s/i] "
     ]
    },
    {
     "name": "stdout",
     "output_type": "stream",
     "text": [
      "R(14.75493)\n"
     ]
    },
    {
     "name": "stderr",
     "output_type": "stream",
     "text": [
      "\r",
      "┣████████████████▍   ┫ [81.98%, 182/222, 10:56/13:20, 3.52s/i] "
     ]
    },
    {
     "name": "stdout",
     "output_type": "stream",
     "text": [
      "R(3.0892007)\n"
     ]
    },
    {
     "name": "stderr",
     "output_type": "stream",
     "text": [
      "\r",
      "┣████████████████▍   ┫ [82.43%, 183/222, 10:59/13:20, 2.88s/i] "
     ]
    },
    {
     "name": "stdout",
     "output_type": "stream",
     "text": [
      "R(23.793451)\n"
     ]
    },
    {
     "name": "stderr",
     "output_type": "stream",
     "text": [
      "\r",
      "┣████████████████▌   ┫ [82.88%, 184/222, 11:03/13:20, 3.90s/i] "
     ]
    },
    {
     "name": "stdout",
     "output_type": "stream",
     "text": [
      "R(1.2307198)\n"
     ]
    },
    {
     "name": "stderr",
     "output_type": "stream",
     "text": [
      "\r",
      "┣████████████████▋   ┫ [83.33%, 185/222, 11:05/13:19, 2.54s/i] "
     ]
    },
    {
     "name": "stdout",
     "output_type": "stream",
     "text": [
      "R(1.3858141)\n"
     ]
    },
    {
     "name": "stderr",
     "output_type": "stream",
     "text": [
      "\r",
      "┣████████████████▊   ┫ [83.78%, 186/222, 11:08/13:18, 2.74s/i] "
     ]
    },
    {
     "name": "stdout",
     "output_type": "stream",
     "text": [
      "R(0.88309383)\n"
     ]
    },
    {
     "name": "stderr",
     "output_type": "stream",
     "text": [
      "\r",
      "┣████████████████▊   ┫ [84.23%, 187/222, 11:13/13:19, 4.69s/i] "
     ]
    },
    {
     "name": "stdout",
     "output_type": "stream",
     "text": [
      "R(7.05385)\n"
     ]
    },
    {
     "name": "stderr",
     "output_type": "stream",
     "text": [
      "\r",
      "┣████████████████▉   ┫ [84.68%, 188/222, 11:16/13:18, 3.21s/i] "
     ]
    },
    {
     "name": "stdout",
     "output_type": "stream",
     "text": [
      "R(31.397732)\n"
     ]
    },
    {
     "name": "stderr",
     "output_type": "stream",
     "text": [
      "\r",
      "┣█████████████████   ┫ [85.14%, 189/222, 11:20/13:19, 4.25s/i] "
     ]
    },
    {
     "name": "stdout",
     "output_type": "stream",
     "text": [
      "R(3.3332098)\n"
     ]
    },
    {
     "name": "stderr",
     "output_type": "stream",
     "text": [
      "\r",
      "┣█████████████████   ┫ [85.59%, 190/222, 11:23/13:19, 3.02s/i] "
     ]
    },
    {
     "name": "stdout",
     "output_type": "stream",
     "text": [
      "R(9.023441)\n"
     ]
    },
    {
     "name": "stderr",
     "output_type": "stream",
     "text": [
      "\r",
      "┣█████████████████▏  ┫ [86.04%, 191/222, 11:28/13:20, 4.49s/i] "
     ]
    },
    {
     "name": "stdout",
     "output_type": "stream",
     "text": [
      "R(13.089177)\n"
     ]
    },
    {
     "name": "stderr",
     "output_type": "stream",
     "text": [
      "\r",
      "┣█████████████████▎  ┫ [86.49%, 192/222, 11:31/13:19, 3.48s/i] "
     ]
    },
    {
     "name": "stdout",
     "output_type": "stream",
     "text": [
      "R(22.596916)\n"
     ]
    },
    {
     "name": "stderr",
     "output_type": "stream",
     "text": [
      "\r",
      "┣█████████████████▍  ┫ [86.94%, 193/222, 11:35/13:19, 3.64s/i] "
     ]
    },
    {
     "name": "stdout",
     "output_type": "stream",
     "text": [
      "R(44.483154)\n"
     ]
    },
    {
     "name": "stderr",
     "output_type": "stream",
     "text": [
      "\r",
      "┣█████████████████▍  ┫ [87.39%, 194/222, 11:40/13:21, 4.70s/i] "
     ]
    },
    {
     "name": "stdout",
     "output_type": "stream",
     "text": [
      "R(2.4993281)\n"
     ]
    },
    {
     "name": "stderr",
     "output_type": "stream",
     "text": [
      "\r",
      "┣█████████████████▌  ┫ [87.84%, 195/222, 11:43/13:20, 3.03s/i] "
     ]
    },
    {
     "name": "stdout",
     "output_type": "stream",
     "text": [
      "R(9.070549)\n"
     ]
    },
    {
     "name": "stderr",
     "output_type": "stream",
     "text": [
      "\r",
      "┣█████████████████▋  ┫ [88.29%, 196/222, 11:48/13:22, 4.91s/i] "
     ]
    },
    {
     "name": "stdout",
     "output_type": "stream",
     "text": [
      "R(10.821446)\n"
     ]
    },
    {
     "name": "stderr",
     "output_type": "stream",
     "text": [
      "\r",
      "┣█████████████████▋  ┫ [88.74%, 197/222, 11:51/13:22, 3.59s/i] "
     ]
    },
    {
     "name": "stdout",
     "output_type": "stream",
     "text": [
      "R(10.539381)\n"
     ]
    },
    {
     "name": "stderr",
     "output_type": "stream",
     "text": [
      "\r",
      "┣█████████████████▊  ┫ [89.19%, 198/222, 11:55/13:21, 3.26s/i] "
     ]
    },
    {
     "name": "stdout",
     "output_type": "stream",
     "text": [
      "R(6.3177557)\n"
     ]
    },
    {
     "name": "stderr",
     "output_type": "stream",
     "text": [
      "\r",
      "┣█████████████████▉  ┫ [89.64%, 199/222, 11:58/13:21, 3.38s/i] "
     ]
    },
    {
     "name": "stdout",
     "output_type": "stream",
     "text": [
      "R(1.4004208)\n"
     ]
    },
    {
     "name": "stderr",
     "output_type": "stream",
     "text": [
      "\r",
      "┣██████████████████  ┫ [90.09%, 200/222, 12:02/13:22, 4.20s/i] "
     ]
    },
    {
     "name": "stdout",
     "output_type": "stream",
     "text": [
      "R(26.036144)\n"
     ]
    },
    {
     "name": "stderr",
     "output_type": "stream",
     "text": [
      "\r",
      "┣██████████████████  ┫ [90.54%, 201/222, 12:06/13:21, 3.50s/i] "
     ]
    },
    {
     "name": "stdout",
     "output_type": "stream",
     "text": [
      "R(7.9231296)\n"
     ]
    },
    {
     "name": "stderr",
     "output_type": "stream",
     "text": [
      "\r",
      "┣██████████████████▏ ┫ [90.99%, 202/222, 12:09/13:21, 3.23s/i] "
     ]
    },
    {
     "name": "stdout",
     "output_type": "stream",
     "text": [
      "R(3.2920356)\n"
     ]
    },
    {
     "name": "stderr",
     "output_type": "stream",
     "text": [
      "\r",
      "┣██████████████████▎ ┫ [91.44%, 203/222, 12:12/13:20, 3.04s/i] "
     ]
    },
    {
     "name": "stdout",
     "output_type": "stream",
     "text": [
      "R(6.197024)\n"
     ]
    },
    {
     "name": "stderr",
     "output_type": "stream",
     "text": [
      "\r",
      "┣██████████████████▍ ┫ [91.89%, 204/222, 12:15/13:20, 3.25s/i] "
     ]
    },
    {
     "name": "stdout",
     "output_type": "stream",
     "text": [
      "R(2.8190382)\n"
     ]
    },
    {
     "name": "stderr",
     "output_type": "stream",
     "text": [
      "\r",
      "┣██████████████████▍ ┫ [92.34%, 205/222, 12:20/13:21, 4.65s/i] "
     ]
    },
    {
     "name": "stdout",
     "output_type": "stream",
     "text": [
      "R(20.048027)\n"
     ]
    },
    {
     "name": "stderr",
     "output_type": "stream",
     "text": [
      "\r",
      "┣██████████████████▌ ┫ [92.79%, 206/222, 12:23/13:21, 3.24s/i] "
     ]
    },
    {
     "name": "stdout",
     "output_type": "stream",
     "text": [
      "R(5.20273)\n"
     ]
    },
    {
     "name": "stderr",
     "output_type": "stream",
     "text": [
      "\r",
      "┣██████████████████▋ ┫ [93.24%, 207/222, 12:26/13:20, 3.11s/i] "
     ]
    },
    {
     "name": "stdout",
     "output_type": "stream",
     "text": [
      "R(8.5814295)\n"
     ]
    },
    {
     "name": "stderr",
     "output_type": "stream",
     "text": [
      "\r",
      "┣██████████████████▋ ┫ [93.69%, 208/222, 12:30/13:20, 3.51s/i] "
     ]
    },
    {
     "name": "stdout",
     "output_type": "stream",
     "text": [
      "R(6.063673)\n"
     ]
    },
    {
     "name": "stderr",
     "output_type": "stream",
     "text": [
      "\r",
      "┣██████████████████▊ ┫ [94.14%, 209/222, 12:34/13:21, 4.22s/i] "
     ]
    },
    {
     "name": "stdout",
     "output_type": "stream",
     "text": [
      "R(0.77544874)\n"
     ]
    },
    {
     "name": "stderr",
     "output_type": "stream",
     "text": [
      "\r",
      "┣██████████████████▉ ┫ [94.59%, 210/222, 12:37/13:20, 2.89s/i] "
     ]
    },
    {
     "name": "stdout",
     "output_type": "stream",
     "text": [
      "R(3.5773146)\n"
     ]
    },
    {
     "name": "stderr",
     "output_type": "stream",
     "text": [
      "\r",
      "┣███████████████████ ┫ [95.05%, 211/222, 12:40/13:19, 3.05s/i] "
     ]
    },
    {
     "name": "stdout",
     "output_type": "stream",
     "text": [
      "R(3.6513638)\n"
     ]
    },
    {
     "name": "stderr",
     "output_type": "stream",
     "text": [
      "\r",
      "┣███████████████████ ┫ [95.50%, 212/222, 12:43/13:19, 3.28s/i] "
     ]
    },
    {
     "name": "stdout",
     "output_type": "stream",
     "text": [
      "R(4.447453)\n"
     ]
    },
    {
     "name": "stderr",
     "output_type": "stream",
     "text": [
      "\r",
      "┣███████████████████▏┫ [95.95%, 213/222, 12:46/13:18, 2.92s/i] "
     ]
    },
    {
     "name": "stdout",
     "output_type": "stream",
     "text": [
      "R(4.1569037)\n"
     ]
    },
    {
     "name": "stderr",
     "output_type": "stream",
     "text": [
      "\r",
      "┣███████████████████▎┫ [96.40%, 214/222, 12:51/13:20, 4.76s/i] "
     ]
    },
    {
     "name": "stdout",
     "output_type": "stream",
     "text": [
      "R(1.256969)\n"
     ]
    },
    {
     "name": "stderr",
     "output_type": "stream",
     "text": [
      "\r",
      "┣███████████████████▎┫ [96.85%, 215/222, 12:53/13:19, 2.74s/i] "
     ]
    },
    {
     "name": "stdout",
     "output_type": "stream",
     "text": [
      "R(1.0905756)\n"
     ]
    },
    {
     "name": "stderr",
     "output_type": "stream",
     "text": [
      "\r",
      "┣███████████████████▍┫ [97.30%, 216/222, 12:56/13:18, 2.88s/i] "
     ]
    },
    {
     "name": "stdout",
     "output_type": "stream",
     "text": [
      "R(0.7803744)\n"
     ]
    },
    {
     "name": "stderr",
     "output_type": "stream",
     "text": [
      "\r",
      "┣███████████████████▌┫ [97.75%, 217/222, 12:59/13:17, 3.05s/i] "
     ]
    },
    {
     "name": "stdout",
     "output_type": "stream",
     "text": [
      "R(4.768278)\n"
     ]
    },
    {
     "name": "stderr",
     "output_type": "stream",
     "text": [
      "\r",
      "┣███████████████████▋┫ [98.20%, 218/222, 13:04/13:18, 4.53s/i] "
     ]
    },
    {
     "name": "stdout",
     "output_type": "stream",
     "text": [
      "R(5.8792863)\n"
     ]
    },
    {
     "name": "stderr",
     "output_type": "stream",
     "text": [
      "\r",
      "┣███████████████████▋┫ [98.65%, 219/222, 13:07/13:18, 3.05s/i] "
     ]
    },
    {
     "name": "stdout",
     "output_type": "stream",
     "text": [
      "R(1.4140631)\n"
     ]
    },
    {
     "name": "stderr",
     "output_type": "stream",
     "text": [
      "\r",
      "┣███████████████████▊┫ [99.10%, 220/222, 13:10/13:17, 3.08s/i] "
     ]
    },
    {
     "name": "stdout",
     "output_type": "stream",
     "text": [
      "R(1.3985955)\n"
     ]
    },
    {
     "name": "stderr",
     "output_type": "stream",
     "text": [
      "\r",
      "┣███████████████████▉┫ [99.55%, 221/222, 13:13/13:17, 2.98s/i] "
     ]
    },
    {
     "name": "stdout",
     "output_type": "stream",
     "text": [
      "R(4.0340776)\n"
     ]
    },
    {
     "name": "stderr",
     "output_type": "stream",
     "text": [
      "┣████████████████████┫ [100.00%, 222/222, 13:16/13:16, 3.59s/i] \n"
     ]
    },
    {
     "name": "stdout",
     "output_type": "stream",
     "text": [
      "R(20.329689)\n"
     ]
    },
    {
     "name": "stderr",
     "output_type": "stream",
     "text": [
      "\r",
      "┣                    ┫ [0.45%, 1/222, 00:05/19:24, 5.24s/i] "
     ]
    },
    {
     "name": "stdout",
     "output_type": "stream",
     "text": [
      "R(8.314238)\n"
     ]
    },
    {
     "name": "stderr",
     "output_type": "stream",
     "text": [
      "\r",
      "┣▏                   ┫ [0.90%, 2/222, 00:09/16:30, 3.67s/i] "
     ]
    },
    {
     "name": "stdout",
     "output_type": "stream",
     "text": [
      "R(1.5452197)\n"
     ]
    },
    {
     "name": "stderr",
     "output_type": "stream",
     "text": [
      "\r",
      "┣▎                   ┫ [1.35%, 3/222, 00:12/14:33, 2.88s/i] "
     ]
    },
    {
     "name": "stdout",
     "output_type": "stream",
     "text": [
      "R(1.1684012)\n"
     ]
    },
    {
     "name": "stderr",
     "output_type": "stream",
     "text": [
      "\r",
      "┣▎                   ┫ [1.80%, 4/222, 00:15/13:51, 3.17s/i] "
     ]
    },
    {
     "name": "stdout",
     "output_type": "stream",
     "text": [
      "R(26.11074)\n"
     ]
    },
    {
     "name": "stderr",
     "output_type": "stream",
     "text": [
      "\r",
      "┣▍                   ┫ [2.25%, 5/222, 00:20/15:02, 5.34s/i] "
     ]
    },
    {
     "name": "stdout",
     "output_type": "stream",
     "text": [
      "R(13.232109)\n"
     ]
    },
    {
     "name": "stderr",
     "output_type": "stream",
     "text": [
      "\r",
      "┣▌                   ┫ [2.70%, 6/222, 00:24/14:39, 3.46s/i] "
     ]
    },
    {
     "name": "stdout",
     "output_type": "stream",
     "text": [
      "R(30.923891)\n"
     ]
    },
    {
     "name": "stderr",
     "output_type": "stream",
     "text": [
      "\r",
      "┣▋                   ┫ [3.15%, 7/222, 00:28/14:40, 3.98s/i] "
     ]
    },
    {
     "name": "stdout",
     "output_type": "stream",
     "text": [
      "R(12.291796)\n"
     ]
    },
    {
     "name": "stderr",
     "output_type": "stream",
     "text": [
      "\r",
      "┣▋                   ┫ [3.60%, 8/222, 00:31/14:29, 3.56s/i] "
     ]
    },
    {
     "name": "stdout",
     "output_type": "stream",
     "text": [
      "R(6.1384935)\n"
     ]
    },
    {
     "name": "stderr",
     "output_type": "stream",
     "text": [
      "\r",
      "┣▊                   ┫ [4.05%, 9/222, 00:35/14:15, 3.36s/i] "
     ]
    },
    {
     "name": "stdout",
     "output_type": "stream",
     "text": [
      "R(1.02844)\n"
     ]
    },
    {
     "name": "stderr",
     "output_type": "stream",
     "text": [
      "\r",
      "┣▉                   ┫ [4.50%, 10/222, 00:37/13:51, 2.75s/i] "
     ]
    },
    {
     "name": "stdout",
     "output_type": "stream",
     "text": [
      "R(0.41994488)\n"
     ]
    },
    {
     "name": "stderr",
     "output_type": "stream",
     "text": [
      "\r",
      "┣▉                   ┫ [4.95%, 11/222, 00:42/14:06, 4.52s/i] "
     ]
    },
    {
     "name": "stdout",
     "output_type": "stream",
     "text": [
      "R(6.457288)\n"
     ]
    },
    {
     "name": "stderr",
     "output_type": "stream",
     "text": [
      "\r",
      "┣█                   ┫ [5.41%, 12/222, 00:45/13:55, 3.18s/i] "
     ]
    },
    {
     "name": "stdout",
     "output_type": "stream",
     "text": [
      "R(0.82349485)\n"
     ]
    },
    {
     "name": "stderr",
     "output_type": "stream",
     "text": [
      "\r",
      "┣█▏                  ┫ [5.86%, 13/222, 00:48/13:38, 2.81s/i] "
     ]
    },
    {
     "name": "stdout",
     "output_type": "stream",
     "text": [
      "R(11.3891535)\n"
     ]
    },
    {
     "name": "stderr",
     "output_type": "stream",
     "text": [
      "\r",
      "┣█▎                  ┫ [6.31%, 14/222, 00:52/13:39, 3.70s/i] "
     ]
    },
    {
     "name": "stdout",
     "output_type": "stream",
     "text": [
      "R(2.2045538)\n"
     ]
    },
    {
     "name": "stderr",
     "output_type": "stream",
     "text": [
      "\r",
      "┣█▎                  ┫ [6.76%, 15/222, 00:56/13:47, 4.25s/i] "
     ]
    },
    {
     "name": "stdout",
     "output_type": "stream",
     "text": [
      "R(27.734806)\n"
     ]
    },
    {
     "name": "stderr",
     "output_type": "stream",
     "text": [
      "\r",
      "┣█▍                  ┫ [7.21%, 16/222, 01:01/14:00, 4.66s/i] "
     ]
    },
    {
     "name": "stdout",
     "output_type": "stream",
     "text": [
      "R(24.002956)\n"
     ]
    },
    {
     "name": "stderr",
     "output_type": "stream",
     "text": [
      "\r",
      "┣█▌                  ┫ [7.66%, 17/222, 01:04/13:58, 3.64s/i] "
     ]
    },
    {
     "name": "stdout",
     "output_type": "stream",
     "text": [
      "R(2.1835804)\n"
     ]
    },
    {
     "name": "stderr",
     "output_type": "stream",
     "text": [
      "\r",
      "┣█▌                  ┫ [8.11%, 18/222, 01:07/13:52, 3.25s/i] "
     ]
    },
    {
     "name": "stdout",
     "output_type": "stream",
     "text": [
      "R(13.687735)\n"
     ]
    },
    {
     "name": "stderr",
     "output_type": "stream",
     "text": [
      "\r",
      "┣█▋                  ┫ [8.56%, 19/222, 01:11/13:50, 3.57s/i] "
     ]
    },
    {
     "name": "stdout",
     "output_type": "stream",
     "text": [
      "R(0.8433404)\n"
     ]
    },
    {
     "name": "stderr",
     "output_type": "stream",
     "text": [
      "\r",
      "┣█▊                  ┫ [9.01%, 20/222, 01:15/13:56, 4.34s/i] "
     ]
    },
    {
     "name": "stdout",
     "output_type": "stream",
     "text": [
      "R(3.6049557)\n"
     ]
    },
    {
     "name": "stderr",
     "output_type": "stream",
     "text": [
      "\r",
      "┣█▉                  ┫ [9.46%, 21/222, 01:19/13:50, 3.21s/i] "
     ]
    },
    {
     "name": "stdout",
     "output_type": "stream",
     "text": [
      "R(8.870777)\n"
     ]
    },
    {
     "name": "stderr",
     "output_type": "stream",
     "text": [
      "\r",
      "┣█▉                  ┫ [9.91%, 22/222, 01:22/13:48, 3.47s/i] "
     ]
    },
    {
     "name": "stdout",
     "output_type": "stream",
     "text": [
      "R(3.5159466)\n"
     ]
    },
    {
     "name": "stderr",
     "output_type": "stream",
     "text": [
      "\r",
      "┣██                  ┫ [10.36%, 23/222, 01:25/13:45, 3.44s/i] "
     ]
    },
    {
     "name": "stdout",
     "output_type": "stream",
     "text": [
      "R(2.6324286)\n"
     ]
    },
    {
     "name": "stderr",
     "output_type": "stream",
     "text": [
      "\r",
      "┣██▏                 ┫ [10.81%, 24/222, 01:30/13:52, 4.46s/i] "
     ]
    },
    {
     "name": "stdout",
     "output_type": "stream",
     "text": [
      "R(0.8050253)\n"
     ]
    },
    {
     "name": "stderr",
     "output_type": "stream",
     "text": [
      "\r",
      "┣██▎                 ┫ [11.26%, 25/222, 01:33/13:44, 2.91s/i] "
     ]
    },
    {
     "name": "stdout",
     "output_type": "stream",
     "text": [
      "R(29.033302)\n"
     ]
    },
    {
     "name": "stderr",
     "output_type": "stream",
     "text": [
      "\r",
      "┣██▎                 ┫ [11.71%, 26/222, 01:37/13:45, 3.75s/i] "
     ]
    },
    {
     "name": "stdout",
     "output_type": "stream",
     "text": [
      "R(8.928666)\n"
     ]
    },
    {
     "name": "stderr",
     "output_type": "stream",
     "text": [
      "\r",
      "┣██▍                 ┫ [12.16%, 27/222, 01:40/13:41, 3.32s/i] "
     ]
    },
    {
     "name": "stdout",
     "output_type": "stream",
     "text": [
      "R(5.234483)\n"
     ]
    },
    {
     "name": "stderr",
     "output_type": "stream",
     "text": [
      "\r",
      "┣██▌                 ┫ [12.61%, 28/222, 01:43/13:35, 2.88s/i] "
     ]
    },
    {
     "name": "stdout",
     "output_type": "stream",
     "text": [
      "R(6.6964045)\n"
     ]
    },
    {
     "name": "stderr",
     "output_type": "stream",
     "text": [
      "\r",
      "┣██▌                 ┫ [13.06%, 29/222, 01:47/13:43, 4.70s/i] "
     ]
    },
    {
     "name": "stdout",
     "output_type": "stream",
     "text": [
      "R(1.664033)\n"
     ]
    },
    {
     "name": "stderr",
     "output_type": "stream",
     "text": [
      "\r",
      "┣██▋                 ┫ [13.51%, 30/222, 01:50/13:38, 3.00s/i] "
     ]
    },
    {
     "name": "stdout",
     "output_type": "stream",
     "text": [
      "R(3.334871)\n"
     ]
    },
    {
     "name": "stderr",
     "output_type": "stream",
     "text": [
      "\r",
      "┣██▊                 ┫ [13.96%, 31/222, 01:54/13:35, 3.32s/i] "
     ]
    },
    {
     "name": "stdout",
     "output_type": "stream",
     "text": [
      "R(5.537322)\n"
     ]
    },
    {
     "name": "stderr",
     "output_type": "stream",
     "text": [
      "\r",
      "┣██▉                 ┫ [14.41%, 32/222, 01:57/13:32, 3.33s/i] "
     ]
    },
    {
     "name": "stdout",
     "output_type": "stream",
     "text": [
      "R(3.0645685)\n"
     ]
    },
    {
     "name": "stderr",
     "output_type": "stream",
     "text": [
      "\r",
      "┣██▉                 ┫ [14.86%, 33/222, 02:02/13:38, 4.44s/i] "
     ]
    },
    {
     "name": "stdout",
     "output_type": "stream",
     "text": [
      "R(0.8264774)\n"
     ]
    },
    {
     "name": "stderr",
     "output_type": "stream",
     "text": [
      "\r",
      "┣███                 ┫ [15.32%, 34/222, 02:04/13:31, 2.70s/i] "
     ]
    },
    {
     "name": "stdout",
     "output_type": "stream",
     "text": [
      "R(32.31766)\n"
     ]
    },
    {
     "name": "stderr",
     "output_type": "stream",
     "text": [
      "\r",
      "┣███▏                ┫ [15.77%, 35/222, 02:09/13:36, 4.37s/i] "
     ]
    },
    {
     "name": "stdout",
     "output_type": "stream",
     "text": [
      "R(1.4612596)\n"
     ]
    },
    {
     "name": "stderr",
     "output_type": "stream",
     "text": [
      "\r",
      "┣███▏                ┫ [16.22%, 36/222, 02:12/13:31, 2.91s/i] "
     ]
    },
    {
     "name": "stdout",
     "output_type": "stream",
     "text": [
      "R(1.3488461)\n"
     ]
    },
    {
     "name": "stderr",
     "output_type": "stream",
     "text": [
      "\r",
      "┣███▎                ┫ [16.67%, 37/222, 02:15/13:27, 2.99s/i] "
     ]
    },
    {
     "name": "stdout",
     "output_type": "stream",
     "text": [
      "R(1.9080929)\n"
     ]
    },
    {
     "name": "stderr",
     "output_type": "stream",
     "text": [
      "\r",
      "┣███▍                ┫ [17.12%, 38/222, 02:19/13:33, 4.69s/i] "
     ]
    },
    {
     "name": "stdout",
     "output_type": "stream",
     "text": [
      "R(6.990252)\n"
     ]
    },
    {
     "name": "stderr",
     "output_type": "stream",
     "text": [
      "\r",
      "┣███▌                ┫ [17.57%, 39/222, 02:23/13:32, 3.43s/i] "
     ]
    },
    {
     "name": "stdout",
     "output_type": "stream",
     "text": [
      "R(1.0007832)\n"
     ]
    },
    {
     "name": "stderr",
     "output_type": "stream",
     "text": [
      "\r",
      "┣███▌                ┫ [18.02%, 40/222, 02:26/13:28, 3.01s/i] "
     ]
    },
    {
     "name": "stdout",
     "output_type": "stream",
     "text": [
      "R(0.4642323)\n"
     ]
    },
    {
     "name": "stderr",
     "output_type": "stream",
     "text": [
      "\r",
      "┣███▋                ┫ [18.47%, 41/222, 02:29/13:25, 2.99s/i] "
     ]
    },
    {
     "name": "stdout",
     "output_type": "stream",
     "text": [
      "R(7.754738)\n"
     ]
    },
    {
     "name": "stderr",
     "output_type": "stream",
     "text": [
      "\r",
      "┣███▊                ┫ [18.92%, 42/222, 02:33/13:30, 4.67s/i] "
     ]
    },
    {
     "name": "stdout",
     "output_type": "stream",
     "text": [
      "R(6.299108)\n"
     ]
    },
    {
     "name": "stderr",
     "output_type": "stream",
     "text": [
      "\r",
      "┣███▊                ┫ [19.37%, 43/222, 02:37/13:28, 3.26s/i] "
     ]
    },
    {
     "name": "stdout",
     "output_type": "stream",
     "text": [
      "R(5.9189153)\n"
     ]
    },
    {
     "name": "stderr",
     "output_type": "stream",
     "text": [
      "\r",
      "┣███▉                ┫ [19.82%, 44/222, 02:40/13:27, 3.31s/i] "
     ]
    },
    {
     "name": "stdout",
     "output_type": "stream",
     "text": [
      "R(1.018853)\n"
     ]
    },
    {
     "name": "stderr",
     "output_type": "stream",
     "text": [
      "\r",
      "┣████                ┫ [20.27%, 45/222, 02:43/13:23, 2.82s/i] "
     ]
    },
    {
     "name": "stdout",
     "output_type": "stream",
     "text": [
      "R(1.5432225)\n"
     ]
    },
    {
     "name": "stderr",
     "output_type": "stream",
     "text": [
      "\r",
      "┣████▏               ┫ [20.72%, 46/222, 02:46/13:20, 3.10s/i] "
     ]
    },
    {
     "name": "stdout",
     "output_type": "stream",
     "text": [
      "R(1.7301705)\n"
     ]
    },
    {
     "name": "stderr",
     "output_type": "stream",
     "text": [
      "\r",
      "┣████▏               ┫ [21.17%, 47/222, 02:50/13:25, 4.59s/i] "
     ]
    },
    {
     "name": "stdout",
     "output_type": "stream",
     "text": [
      "R(0.69997764)\n"
     ]
    },
    {
     "name": "stderr",
     "output_type": "stream",
     "text": [
      "\r",
      "┣████▎               ┫ [21.62%, 48/222, 02:53/13:21, 2.83s/i] "
     ]
    },
    {
     "name": "stdout",
     "output_type": "stream",
     "text": [
      "R(0.71763384)\n"
     ]
    },
    {
     "name": "stderr",
     "output_type": "stream",
     "text": [
      "\r",
      "┣████▍               ┫ [22.07%, 49/222, 02:56/13:18, 2.93s/i] "
     ]
    },
    {
     "name": "stdout",
     "output_type": "stream",
     "text": [
      "R(2.4471235)\n"
     ]
    },
    {
     "name": "stderr",
     "output_type": "stream",
     "text": [
      "\r",
      "┣████▌               ┫ [22.52%, 50/222, 02:59/13:16, 3.13s/i] "
     ]
    },
    {
     "name": "stdout",
     "output_type": "stream",
     "text": [
      "R(1.8827727)\n"
     ]
    },
    {
     "name": "stderr",
     "output_type": "stream",
     "text": [
      "\r",
      "┣████▌               ┫ [22.97%, 51/222, 03:03/13:18, 4.16s/i] "
     ]
    },
    {
     "name": "stdout",
     "output_type": "stream",
     "text": [
      "R(0.5745235)\n"
     ]
    },
    {
     "name": "stderr",
     "output_type": "stream",
     "text": [
      "\r",
      "┣████▋               ┫ [23.42%, 52/222, 03:06/13:16, 2.96s/i] "
     ]
    },
    {
     "name": "stdout",
     "output_type": "stream",
     "text": [
      "R(2.2789834)\n"
     ]
    },
    {
     "name": "stderr",
     "output_type": "stream",
     "text": [
      "\r",
      "┣████▊               ┫ [23.87%, 53/222, 03:09/13:13, 2.83s/i] "
     ]
    },
    {
     "name": "stdout",
     "output_type": "stream",
     "text": [
      "R(5.751504)\n"
     ]
    },
    {
     "name": "stderr",
     "output_type": "stream",
     "text": [
      "\r",
      "┣████▊               ┫ [24.32%, 54/222, 03:13/13:12, 3.40s/i] "
     ]
    },
    {
     "name": "stdout",
     "output_type": "stream",
     "text": [
      "R(6.683664)\n"
     ]
    },
    {
     "name": "stderr",
     "output_type": "stream",
     "text": [
      "\r",
      "┣████▉               ┫ [24.77%, 55/222, 03:16/13:10, 3.07s/i] "
     ]
    },
    {
     "name": "stdout",
     "output_type": "stream",
     "text": [
      "R(1.8603995)\n"
     ]
    },
    {
     "name": "stderr",
     "output_type": "stream",
     "text": [
      "\r",
      "┣█████               ┫ [25.23%, 56/222, 03:20/13:14, 4.52s/i] "
     ]
    },
    {
     "name": "stdout",
     "output_type": "stream",
     "text": [
      "R(2.1570768)\n"
     ]
    },
    {
     "name": "stderr",
     "output_type": "stream",
     "text": [
      "\r",
      "┣█████▏              ┫ [25.68%, 57/222, 03:23/13:12, 3.26s/i] "
     ]
    },
    {
     "name": "stdout",
     "output_type": "stream",
     "text": [
      "R(1.7548813)\n"
     ]
    },
    {
     "name": "stderr",
     "output_type": "stream",
     "text": [
      "\r",
      "┣█████▏              ┫ [26.13%, 58/222, 03:26/13:09, 2.65s/i] "
     ]
    },
    {
     "name": "stdout",
     "output_type": "stream",
     "text": [
      "R(0.6472119)\n"
     ]
    },
    {
     "name": "stderr",
     "output_type": "stream",
     "text": [
      "\r",
      "┣█████▎              ┫ [26.58%, 59/222, 03:29/13:07, 2.98s/i] "
     ]
    },
    {
     "name": "stdout",
     "output_type": "stream",
     "text": [
      "R(1.6476274)\n"
     ]
    },
    {
     "name": "stderr",
     "output_type": "stream",
     "text": [
      "\r",
      "┣█████▍              ┫ [27.03%, 60/222, 03:33/13:09, 4.15s/i] "
     ]
    },
    {
     "name": "stdout",
     "output_type": "stream",
     "text": [
      "R(3.9005423)\n"
     ]
    },
    {
     "name": "stderr",
     "output_type": "stream",
     "text": [
      "\r",
      "┣█████▍              ┫ [27.48%, 61/222, 03:36/13:07, 3.13s/i] "
     ]
    },
    {
     "name": "stdout",
     "output_type": "stream",
     "text": [
      "R(0.43578914)\n"
     ]
    },
    {
     "name": "stderr",
     "output_type": "stream",
     "text": [
      "\r",
      "┣█████▌              ┫ [27.93%, 62/222, 03:39/13:04, 2.55s/i] "
     ]
    },
    {
     "name": "stdout",
     "output_type": "stream",
     "text": [
      "R(9.848688)\n"
     ]
    },
    {
     "name": "stderr",
     "output_type": "stream",
     "text": [
      "\r",
      "┣█████▋              ┫ [28.38%, 63/222, 03:42/13:04, 3.54s/i] "
     ]
    },
    {
     "name": "stdout",
     "output_type": "stream",
     "text": [
      "R(17.812983)\n"
     ]
    },
    {
     "name": "stderr",
     "output_type": "stream",
     "text": [
      "\r",
      "┣█████▊              ┫ [28.83%, 64/222, 03:46/13:04, 3.62s/i] "
     ]
    },
    {
     "name": "stdout",
     "output_type": "stream",
     "text": [
      "R(20.615871)\n"
     ]
    },
    {
     "name": "stderr",
     "output_type": "stream",
     "text": [
      "\r",
      "┣█████▊              ┫ [29.28%, 65/222, 03:51/13:10, 5.08s/i] "
     ]
    },
    {
     "name": "stdout",
     "output_type": "stream",
     "text": [
      "R(14.235111)\n"
     ]
    },
    {
     "name": "stderr",
     "output_type": "stream",
     "text": [
      "\r",
      "┣█████▉              ┫ [29.73%, 66/222, 03:55/13:09, 3.45s/i] "
     ]
    },
    {
     "name": "stdout",
     "output_type": "stream",
     "text": [
      "R(4.5646577)\n"
     ]
    },
    {
     "name": "stderr",
     "output_type": "stream",
     "text": [
      "\r",
      "┣██████              ┫ [30.18%, 67/222, 03:57/13:07, 2.84s/i] "
     ]
    },
    {
     "name": "stdout",
     "output_type": "stream",
     "text": [
      "R(1.8700618)\n"
     ]
    },
    {
     "name": "stderr",
     "output_type": "stream",
     "text": [
      "\r",
      "┣██████▏             ┫ [30.63%, 68/222, 04:01/13:05, 3.11s/i] "
     ]
    },
    {
     "name": "stdout",
     "output_type": "stream",
     "text": [
      "R(17.260426)\n"
     ]
    },
    {
     "name": "stderr",
     "output_type": "stream",
     "text": [
      "\r",
      "┣██████▏             ┫ [31.08%, 69/222, 04:06/13:10, 5.01s/i] "
     ]
    },
    {
     "name": "stdout",
     "output_type": "stream",
     "text": [
      "R(22.54328)\n"
     ]
    },
    {
     "name": "stderr",
     "output_type": "stream",
     "text": [
      "\r",
      "┣██████▎             ┫ [31.53%, 70/222, 04:10/13:12, 4.05s/i] "
     ]
    },
    {
     "name": "stdout",
     "output_type": "stream",
     "text": [
      "R(3.635027)\n"
     ]
    },
    {
     "name": "stderr",
     "output_type": "stream",
     "text": [
      "\r",
      "┣██████▍             ┫ [31.98%, 71/222, 04:13/13:10, 2.95s/i] "
     ]
    },
    {
     "name": "stdout",
     "output_type": "stream",
     "text": [
      "R(5.7603917)\n"
     ]
    },
    {
     "name": "stderr",
     "output_type": "stream",
     "text": [
      "\r",
      "┣██████▍             ┫ [32.43%, 72/222, 04:16/13:08, 3.09s/i] "
     ]
    },
    {
     "name": "stdout",
     "output_type": "stream",
     "text": [
      "R(2.9091985)\n"
     ]
    },
    {
     "name": "stderr",
     "output_type": "stream",
     "text": [
      "\r",
      "┣██████▌             ┫ [32.88%, 73/222, 04:19/13:07, 3.09s/i] "
     ]
    },
    {
     "name": "stdout",
     "output_type": "stream",
     "text": [
      "R(63.84131)\n"
     ]
    },
    {
     "name": "stderr",
     "output_type": "stream",
     "text": [
      "\r",
      "┣██████▋             ┫ [33.33%, 74/222, 04:25/13:16, 6.46s/i] "
     ]
    },
    {
     "name": "stdout",
     "output_type": "stream",
     "text": [
      "R(5.505124)\n"
     ]
    },
    {
     "name": "stderr",
     "output_type": "stream",
     "text": [
      "\r",
      "┣██████▊             ┫ [33.78%, 75/222, 04:28/13:15, 3.21s/i] "
     ]
    },
    {
     "name": "stdout",
     "output_type": "stream",
     "text": [
      "R(3.5203164)\n"
     ]
    },
    {
     "name": "stderr",
     "output_type": "stream",
     "text": [
      "\r",
      "┣██████▊             ┫ [34.23%, 76/222, 04:31/13:13, 2.93s/i] "
     ]
    },
    {
     "name": "stdout",
     "output_type": "stream",
     "text": [
      "R(38.772133)\n"
     ]
    },
    {
     "name": "stderr",
     "output_type": "stream",
     "text": [
      "\r",
      "┣██████▉             ┫ [34.68%, 77/222, 04:35/13:13, 3.73s/i] "
     ]
    },
    {
     "name": "stdout",
     "output_type": "stream",
     "text": [
      "R(2.5641544)\n"
     ]
    },
    {
     "name": "stderr",
     "output_type": "stream",
     "text": [
      "\r",
      "┣███████             ┫ [35.14%, 78/222, 04:39/13:14, 3.83s/i] "
     ]
    },
    {
     "name": "stdout",
     "output_type": "stream",
     "text": [
      "R(17.341831)\n"
     ]
    },
    {
     "name": "stderr",
     "output_type": "stream",
     "text": [
      "\r",
      "┣███████             ┫ [35.59%, 79/222, 04:43/13:14, 3.69s/i] "
     ]
    },
    {
     "name": "stdout",
     "output_type": "stream",
     "text": [
      "R(6.580433)\n"
     ]
    },
    {
     "name": "stderr",
     "output_type": "stream",
     "text": [
      "\r",
      "┣███████▏            ┫ [36.04%, 80/222, 04:46/13:14, 3.43s/i] "
     ]
    },
    {
     "name": "stdout",
     "output_type": "stream",
     "text": [
      "R(10.296687)\n"
     ]
    },
    {
     "name": "stderr",
     "output_type": "stream",
     "text": [
      "\r",
      "┣███████▎            ┫ [36.49%, 81/222, 04:49/13:13, 3.26s/i] "
     ]
    },
    {
     "name": "stdout",
     "output_type": "stream",
     "text": [
      "R(2.8110397)\n"
     ]
    },
    {
     "name": "stderr",
     "output_type": "stream",
     "text": [
      "\r",
      "┣███████▍            ┫ [36.94%, 82/222, 04:52/13:10, 2.69s/i] "
     ]
    },
    {
     "name": "stdout",
     "output_type": "stream",
     "text": [
      "R(15.307353)\n"
     ]
    },
    {
     "name": "stderr",
     "output_type": "stream",
     "text": [
      "\r",
      "┣███████▍            ┫ [37.39%, 83/222, 04:57/13:15, 5.11s/i] "
     ]
    },
    {
     "name": "stdout",
     "output_type": "stream",
     "text": [
      "R(6.2161775)\n"
     ]
    },
    {
     "name": "stderr",
     "output_type": "stream",
     "text": [
      "\r",
      "┣███████▌            ┫ [37.84%, 84/222, 05:00/13:14, 3.29s/i] "
     ]
    },
    {
     "name": "stdout",
     "output_type": "stream",
     "text": [
      "R(5.7687583)\n"
     ]
    },
    {
     "name": "stderr",
     "output_type": "stream",
     "text": [
      "\r",
      "┣███████▋            ┫ [38.29%, 85/222, 05:04/13:13, 3.28s/i] "
     ]
    },
    {
     "name": "stdout",
     "output_type": "stream",
     "text": [
      "R(6.785588)\n"
     ]
    },
    {
     "name": "stderr",
     "output_type": "stream",
     "text": [
      "\r",
      "┣███████▋            ┫ [38.74%, 86/222, 05:07/13:13, 3.59s/i] "
     ]
    },
    {
     "name": "stdout",
     "output_type": "stream",
     "text": [
      "R(39.119984)\n"
     ]
    },
    {
     "name": "stderr",
     "output_type": "stream",
     "text": [
      "\r",
      "┣███████▊            ┫ [39.19%, 87/222, 05:13/13:20, 6.22s/i] "
     ]
    },
    {
     "name": "stdout",
     "output_type": "stream",
     "text": [
      "R(2.0892625)\n"
     ]
    },
    {
     "name": "stderr",
     "output_type": "stream",
     "text": [
      "\r",
      "┣███████▉            ┫ [39.64%, 88/222, 05:17/13:19, 3.12s/i] "
     ]
    },
    {
     "name": "stdout",
     "output_type": "stream",
     "text": [
      "R(5.5204453)\n"
     ]
    },
    {
     "name": "stderr",
     "output_type": "stream",
     "text": [
      "\r",
      "┣████████            ┫ [40.09%, 89/222, 05:20/13:18, 3.35s/i] "
     ]
    },
    {
     "name": "stdout",
     "output_type": "stream",
     "text": [
      "R(1.9182773)\n"
     ]
    },
    {
     "name": "stderr",
     "output_type": "stream",
     "text": [
      "\r",
      "┣████████            ┫ [40.54%, 90/222, 05:23/13:17, 2.98s/i] "
     ]
    },
    {
     "name": "stdout",
     "output_type": "stream",
     "text": [
      "R(8.673022)\n"
     ]
    },
    {
     "name": "stderr",
     "output_type": "stream",
     "text": [
      "\r",
      "┣████████▏           ┫ [40.99%, 91/222, 05:26/13:16, 3.54s/i] "
     ]
    },
    {
     "name": "stdout",
     "output_type": "stream",
     "text": [
      "R(0.5224251)\n"
     ]
    },
    {
     "name": "stderr",
     "output_type": "stream",
     "text": [
      "\r",
      "┣████████▎           ┫ [41.44%, 92/222, 05:31/13:19, 4.60s/i] "
     ]
    },
    {
     "name": "stdout",
     "output_type": "stream",
     "text": [
      "R(1.98955)\n"
     ]
    },
    {
     "name": "stderr",
     "output_type": "stream",
     "text": [
      "\r",
      "┣████████▍           ┫ [41.89%, 93/222, 05:34/13:17, 3.02s/i] "
     ]
    },
    {
     "name": "stdout",
     "output_type": "stream",
     "text": [
      "R(1.1239333)\n"
     ]
    },
    {
     "name": "stderr",
     "output_type": "stream",
     "text": [
      "\r",
      "┣████████▍           ┫ [42.34%, 94/222, 05:37/13:15, 2.60s/i] "
     ]
    },
    {
     "name": "stdout",
     "output_type": "stream",
     "text": [
      "R(4.8029776)\n"
     ]
    },
    {
     "name": "stderr",
     "output_type": "stream",
     "text": [
      "\r",
      "┣████████▌           ┫ [42.79%, 95/222, 05:40/13:14, 3.19s/i] "
     ]
    },
    {
     "name": "stdout",
     "output_type": "stream",
     "text": [
      "R(2.9221742)\n"
     ]
    },
    {
     "name": "stderr",
     "output_type": "stream",
     "text": [
      "\r",
      "┣████████▋           ┫ [43.24%, 96/222, 05:44/13:17, 4.59s/i] "
     ]
    },
    {
     "name": "stdout",
     "output_type": "stream",
     "text": [
      "R(0.6449028)\n"
     ]
    },
    {
     "name": "stderr",
     "output_type": "stream",
     "text": [
      "\r",
      "┣████████▋           ┫ [43.69%, 97/222, 05:47/13:14, 2.49s/i] "
     ]
    },
    {
     "name": "stdout",
     "output_type": "stream",
     "text": [
      "R(0.9623176)\n"
     ]
    },
    {
     "name": "stderr",
     "output_type": "stream",
     "text": [
      "\r",
      "┣████████▊           ┫ [44.14%, 98/222, 05:50/13:12, 2.86s/i] "
     ]
    },
    {
     "name": "stdout",
     "output_type": "stream",
     "text": [
      "R(8.5085745)\n"
     ]
    },
    {
     "name": "stderr",
     "output_type": "stream",
     "text": [
      "\r",
      "┣████████▉           ┫ [44.59%, 99/222, 05:53/13:12, 3.49s/i] "
     ]
    },
    {
     "name": "stdout",
     "output_type": "stream",
     "text": [
      "R(1.1447749)\n"
     ]
    },
    {
     "name": "stderr",
     "output_type": "stream",
     "text": [
      "\r",
      "┣█████████           ┫ [45.05%, 100/222, 05:56/13:11, 2.96s/i] "
     ]
    },
    {
     "name": "stdout",
     "output_type": "stream",
     "text": [
      "R(9.099584)\n"
     ]
    },
    {
     "name": "stderr",
     "output_type": "stream",
     "text": [
      "\r",
      "┣█████████           ┫ [45.50%, 101/222, 06:01/13:14, 4.97s/i] "
     ]
    },
    {
     "name": "stdout",
     "output_type": "stream",
     "text": [
      "R(6.261409)\n"
     ]
    },
    {
     "name": "stderr",
     "output_type": "stream",
     "text": [
      "\r",
      "┣█████████▏          ┫ [45.95%, 102/222, 06:05/13:14, 3.54s/i] "
     ]
    },
    {
     "name": "stdout",
     "output_type": "stream",
     "text": [
      "R(8.266661)\n"
     ]
    },
    {
     "name": "stderr",
     "output_type": "stream",
     "text": [
      "\r",
      "┣█████████▎          ┫ [46.40%, 103/222, 06:08/13:13, 3.24s/i] "
     ]
    },
    {
     "name": "stdout",
     "output_type": "stream",
     "text": [
      "R(10.826402)\n"
     ]
    },
    {
     "name": "stderr",
     "output_type": "stream",
     "text": [
      "\r",
      "┣█████████▎          ┫ [46.85%, 104/222, 06:12/13:13, 3.67s/i] "
     ]
    },
    {
     "name": "stdout",
     "output_type": "stream",
     "text": [
      "R(15.7112255)\n"
     ]
    },
    {
     "name": "stderr",
     "output_type": "stream",
     "text": [
      "\r",
      "┣█████████▍          ┫ [47.30%, 105/222, 06:17/13:16, 5.00s/i] "
     ]
    },
    {
     "name": "stdout",
     "output_type": "stream",
     "text": [
      "R(7.32152)\n"
     ]
    },
    {
     "name": "stderr",
     "output_type": "stream",
     "text": [
      "\r",
      "┣█████████▌          ┫ [47.75%, 106/222, 06:20/13:16, 3.28s/i] "
     ]
    },
    {
     "name": "stdout",
     "output_type": "stream",
     "text": [
      "R(1.0830957)\n"
     ]
    },
    {
     "name": "stderr",
     "output_type": "stream",
     "text": [
      "\r",
      "┣█████████▋          ┫ [48.20%, 107/222, 06:23/13:14, 2.88s/i] "
     ]
    },
    {
     "name": "stdout",
     "output_type": "stream",
     "text": [
      "R(1.4038578)\n"
     ]
    },
    {
     "name": "stderr",
     "output_type": "stream",
     "text": [
      "\r",
      "┣█████████▋          ┫ [48.65%, 108/222, 06:25/13:12, 2.57s/i] "
     ]
    },
    {
     "name": "stdout",
     "output_type": "stream",
     "text": [
      "R(0.67022765)\n"
     ]
    },
    {
     "name": "stderr",
     "output_type": "stream",
     "text": [
      "\r",
      "┣█████████▊          ┫ [49.10%, 109/222, 06:28/13:11, 2.85s/i] "
     ]
    },
    {
     "name": "stdout",
     "output_type": "stream",
     "text": [
      "R(0.7584082)\n"
     ]
    },
    {
     "name": "stderr",
     "output_type": "stream",
     "text": [
      "\r",
      "┣█████████▉          ┫ [49.55%, 110/222, 06:33/13:13, 4.42s/i] "
     ]
    },
    {
     "name": "stdout",
     "output_type": "stream",
     "text": [
      "R(3.277075)\n"
     ]
    },
    {
     "name": "stderr",
     "output_type": "stream",
     "text": [
      "\r",
      "┣██████████          ┫ [50.00%, 111/222, 06:36/13:12, 3.36s/i] "
     ]
    },
    {
     "name": "stdout",
     "output_type": "stream",
     "text": [
      "R(4.1802845)\n"
     ]
    },
    {
     "name": "stderr",
     "output_type": "stream",
     "text": [
      "\r",
      "┣██████████          ┫ [50.45%, 112/222, 06:39/13:11, 3.02s/i] "
     ]
    },
    {
     "name": "stdout",
     "output_type": "stream",
     "text": [
      "R(4.9096055)\n"
     ]
    },
    {
     "name": "stderr",
     "output_type": "stream",
     "text": [
      "\r",
      "┣██████████▏         ┫ [50.90%, 113/222, 06:42/13:11, 3.31s/i] "
     ]
    },
    {
     "name": "stdout",
     "output_type": "stream",
     "text": [
      "R(2.5434628)\n"
     ]
    },
    {
     "name": "stderr",
     "output_type": "stream",
     "text": [
      "\r",
      "┣██████████▎         ┫ [51.35%, 114/222, 06:47/13:12, 4.40s/i] "
     ]
    },
    {
     "name": "stdout",
     "output_type": "stream",
     "text": [
      "R(5.9288325)\n"
     ]
    },
    {
     "name": "stderr",
     "output_type": "stream",
     "text": [
      "\r",
      "┣██████████▎         ┫ [51.80%, 115/222, 06:50/13:12, 3.29s/i] "
     ]
    },
    {
     "name": "stdout",
     "output_type": "stream",
     "text": [
      "R(16.01147)\n"
     ]
    },
    {
     "name": "stderr",
     "output_type": "stream",
     "text": [
      "\r",
      "┣██████████▍         ┫ [52.25%, 116/222, 06:54/13:12, 3.75s/i] "
     ]
    },
    {
     "name": "stdout",
     "output_type": "stream",
     "text": [
      "R(2.1347427)\n"
     ]
    },
    {
     "name": "stderr",
     "output_type": "stream",
     "text": [
      "\r",
      "┣██████████▌         ┫ [52.70%, 117/222, 06:57/13:11, 2.95s/i] "
     ]
    },
    {
     "name": "stdout",
     "output_type": "stream",
     "text": [
      "R(2.6403723)\n"
     ]
    },
    {
     "name": "stderr",
     "output_type": "stream",
     "text": [
      "\r",
      "┣██████████▋         ┫ [53.15%, 118/222, 07:00/13:10, 3.08s/i] "
     ]
    },
    {
     "name": "stdout",
     "output_type": "stream",
     "text": [
      "R(4.7530146)\n"
     ]
    },
    {
     "name": "stderr",
     "output_type": "stream",
     "text": [
      "\r",
      "┣██████████▋         ┫ [53.60%, 119/222, 07:03/13:09, 3.20s/i] "
     ]
    },
    {
     "name": "stdout",
     "output_type": "stream",
     "text": [
      "R(77.94439)\n"
     ]
    },
    {
     "name": "stderr",
     "output_type": "stream",
     "text": [
      "\r",
      "┣██████████▊         ┫ [54.05%, 120/222, 07:11/13:16, 7.48s/i] "
     ]
    },
    {
     "name": "stdout",
     "output_type": "stream",
     "text": [
      "R(2.2904596)\n"
     ]
    },
    {
     "name": "stderr",
     "output_type": "stream",
     "text": [
      "\r",
      "┣██████████▉         ┫ [54.50%, 121/222, 07:13/13:15, 2.81s/i] "
     ]
    },
    {
     "name": "stdout",
     "output_type": "stream",
     "text": [
      "R(7.1219945)\n"
     ]
    },
    {
     "name": "stderr",
     "output_type": "stream",
     "text": [
      "\r",
      "┣██████████▉         ┫ [54.95%, 122/222, 07:17/13:15, 3.39s/i] "
     ]
    },
    {
     "name": "stdout",
     "output_type": "stream",
     "text": [
      "R(0.7857371)\n"
     ]
    },
    {
     "name": "stderr",
     "output_type": "stream",
     "text": [
      "\r",
      "┣███████████         ┫ [55.41%, 123/222, 07:20/13:14, 2.95s/i] "
     ]
    },
    {
     "name": "stdout",
     "output_type": "stream",
     "text": [
      "R(2.9716148)\n"
     ]
    },
    {
     "name": "stderr",
     "output_type": "stream",
     "text": [
      "\r",
      "┣███████████▏        ┫ [55.86%, 124/222, 07:24/13:14, 3.89s/i] "
     ]
    },
    {
     "name": "stdout",
     "output_type": "stream",
     "text": [
      "R(15.789238)\n"
     ]
    },
    {
     "name": "stderr",
     "output_type": "stream",
     "text": [
      "\r",
      "┣███████████▎        ┫ [56.31%, 125/222, 07:28/13:15, 4.17s/i] "
     ]
    },
    {
     "name": "stdout",
     "output_type": "stream",
     "text": [
      "R(11.297319)\n"
     ]
    },
    {
     "name": "stderr",
     "output_type": "stream",
     "text": [
      "\r",
      "┣███████████▎        ┫ [56.76%, 126/222, 07:31/13:15, 3.39s/i] "
     ]
    },
    {
     "name": "stdout",
     "output_type": "stream",
     "text": [
      "R(2.849382)\n"
     ]
    },
    {
     "name": "stderr",
     "output_type": "stream",
     "text": [
      "\r",
      "┣███████████▍        ┫ [57.21%, 127/222, 07:34/13:14, 3.04s/i] "
     ]
    },
    {
     "name": "stdout",
     "output_type": "stream",
     "text": [
      "R(20.054794)\n"
     ]
    },
    {
     "name": "stderr",
     "output_type": "stream",
     "text": [
      "\r",
      "┣███████████▌        ┫ [57.66%, 128/222, 07:39/13:15, 4.43s/i] "
     ]
    },
    {
     "name": "stdout",
     "output_type": "stream",
     "text": [
      "R(1.635453)\n"
     ]
    },
    {
     "name": "stderr",
     "output_type": "stream",
     "text": [
      "\r",
      "┣███████████▌        ┫ [58.11%, 129/222, 07:43/13:16, 3.96s/i] "
     ]
    },
    {
     "name": "stdout",
     "output_type": "stream",
     "text": [
      "R(1.5473758)\n"
     ]
    },
    {
     "name": "stderr",
     "output_type": "stream",
     "text": [
      "\r",
      "┣███████████▋        ┫ [58.56%, 130/222, 07:46/13:15, 3.17s/i] "
     ]
    },
    {
     "name": "stdout",
     "output_type": "stream",
     "text": [
      "R(12.819726)\n"
     ]
    },
    {
     "name": "stderr",
     "output_type": "stream",
     "text": [
      "\r",
      "┣███████████▊        ┫ [59.01%, 131/222, 07:49/13:15, 3.51s/i] "
     ]
    },
    {
     "name": "stdout",
     "output_type": "stream",
     "text": [
      "R(2.4959521)\n"
     ]
    },
    {
     "name": "stderr",
     "output_type": "stream",
     "text": [
      "\r",
      "┣███████████▉        ┫ [59.46%, 132/222, 07:52/13:14, 3.02s/i] "
     ]
    },
    {
     "name": "stdout",
     "output_type": "stream",
     "text": [
      "R(0.8158039)\n"
     ]
    },
    {
     "name": "stderr",
     "output_type": "stream",
     "text": [
      "\r",
      "┣███████████▉        ┫ [59.91%, 133/222, 07:57/13:15, 4.25s/i] "
     ]
    },
    {
     "name": "stdout",
     "output_type": "stream",
     "text": [
      "R(1.1168084)\n"
     ]
    },
    {
     "name": "stderr",
     "output_type": "stream",
     "text": [
      "\r",
      "┣████████████        ┫ [60.36%, 134/222, 07:59/13:14, 2.93s/i] "
     ]
    },
    {
     "name": "stdout",
     "output_type": "stream",
     "text": [
      "R(49.113846)\n"
     ]
    },
    {
     "name": "stderr",
     "output_type": "stream",
     "text": [
      "\r",
      "┣████████████▏       ┫ [60.81%, 135/222, 08:05/13:17, 5.32s/i] "
     ]
    },
    {
     "name": "stdout",
     "output_type": "stream",
     "text": [
      "R(0.8934326)\n"
     ]
    },
    {
     "name": "stderr",
     "output_type": "stream",
     "text": [
      "\r",
      "┣████████████▎       ┫ [61.26%, 136/222, 08:08/13:16, 2.89s/i] "
     ]
    },
    {
     "name": "stdout",
     "output_type": "stream",
     "text": [
      "R(2.2712574)\n"
     ]
    },
    {
     "name": "stderr",
     "output_type": "stream",
     "text": [
      "\r",
      "┣████████████▎       ┫ [61.71%, 137/222, 08:11/13:15, 3.02s/i] "
     ]
    },
    {
     "name": "stdout",
     "output_type": "stream",
     "text": [
      "R(5.846653)\n"
     ]
    },
    {
     "name": "stderr",
     "output_type": "stream",
     "text": [
      "\r",
      "┣████████████▍       ┫ [62.16%, 138/222, 08:16/13:17, 4.98s/i] "
     ]
    },
    {
     "name": "stdout",
     "output_type": "stream",
     "text": [
      "R(3.398634)\n"
     ]
    },
    {
     "name": "stderr",
     "output_type": "stream",
     "text": [
      "\r",
      "┣████████████▌       ┫ [62.61%, 139/222, 08:19/13:16, 3.01s/i] "
     ]
    },
    {
     "name": "stdout",
     "output_type": "stream",
     "text": [
      "R(2.3739204)\n"
     ]
    },
    {
     "name": "stderr",
     "output_type": "stream",
     "text": [
      "\r",
      "┣████████████▌       ┫ [63.06%, 140/222, 08:22/13:16, 3.15s/i] "
     ]
    },
    {
     "name": "stdout",
     "output_type": "stream",
     "text": [
      "R(11.812491)\n"
     ]
    },
    {
     "name": "stderr",
     "output_type": "stream",
     "text": [
      "\r",
      "┣████████████▋       ┫ [63.51%, 141/222, 08:25/13:16, 3.52s/i] "
     ]
    },
    {
     "name": "stdout",
     "output_type": "stream",
     "text": [
      "R(17.51101)\n"
     ]
    },
    {
     "name": "stderr",
     "output_type": "stream",
     "text": [
      "\r",
      "┣████████████▊       ┫ [63.96%, 142/222, 08:30/13:18, 4.92s/i] "
     ]
    },
    {
     "name": "stdout",
     "output_type": "stream",
     "text": [
      "R(2.1152403)\n"
     ]
    },
    {
     "name": "stderr",
     "output_type": "stream",
     "text": [
      "\r",
      "┣████████████▉       ┫ [64.41%, 143/222, 08:33/13:17, 2.94s/i] "
     ]
    },
    {
     "name": "stdout",
     "output_type": "stream",
     "text": [
      "R(14.267415)\n"
     ]
    },
    {
     "name": "stderr",
     "output_type": "stream",
     "text": [
      "\r",
      "┣████████████▉       ┫ [64.86%, 144/222, 08:37/13:17, 3.74s/i] "
     ]
    },
    {
     "name": "stdout",
     "output_type": "stream",
     "text": [
      "R(1.2698164)\n"
     ]
    },
    {
     "name": "stderr",
     "output_type": "stream",
     "text": [
      "\r",
      "┣█████████████       ┫ [65.32%, 145/222, 08:40/13:16, 2.93s/i] "
     ]
    },
    {
     "name": "stdout",
     "output_type": "stream",
     "text": [
      "R(47.65728)\n"
     ]
    },
    {
     "name": "stderr",
     "output_type": "stream",
     "text": [
      "\r",
      "┣█████████████▏      ┫ [65.77%, 146/222, 08:45/13:19, 5.48s/i] "
     ]
    },
    {
     "name": "stdout",
     "output_type": "stream",
     "text": [
      "R(1.7485361)\n"
     ]
    },
    {
     "name": "stderr",
     "output_type": "stream",
     "text": [
      "\r",
      "┣█████████████▏      ┫ [66.22%, 147/222, 08:50/13:20, 4.19s/i] "
     ]
    },
    {
     "name": "stdout",
     "output_type": "stream",
     "text": [
      "R(5.046682)\n"
     ]
    },
    {
     "name": "stderr",
     "output_type": "stream",
     "text": [
      "\r",
      "┣█████████████▎      ┫ [66.67%, 148/222, 08:53/13:19, 3.34s/i] "
     ]
    },
    {
     "name": "stdout",
     "output_type": "stream",
     "text": [
      "R(2.5438046)\n"
     ]
    },
    {
     "name": "stderr",
     "output_type": "stream",
     "text": [
      "\r",
      "┣█████████████▍      ┫ [67.12%, 149/222, 08:56/13:18, 3.02s/i] "
     ]
    },
    {
     "name": "stdout",
     "output_type": "stream",
     "text": [
      "R(6.8437963)\n"
     ]
    },
    {
     "name": "stderr",
     "output_type": "stream",
     "text": [
      "\r",
      "┣█████████████▌      ┫ [67.57%, 150/222, 08:59/13:18, 3.30s/i] "
     ]
    },
    {
     "name": "stdout",
     "output_type": "stream",
     "text": [
      "R(2.7631483)\n"
     ]
    },
    {
     "name": "stderr",
     "output_type": "stream",
     "text": [
      "\r",
      "┣█████████████▌      ┫ [68.02%, 151/222, 09:03/13:19, 4.20s/i] "
     ]
    },
    {
     "name": "stdout",
     "output_type": "stream",
     "text": [
      "R(3.9698415)\n"
     ]
    },
    {
     "name": "stderr",
     "output_type": "stream",
     "text": [
      "\r",
      "┣█████████████▋      ┫ [68.47%, 152/222, 09:06/13:18, 3.08s/i] "
     ]
    },
    {
     "name": "stdout",
     "output_type": "stream",
     "text": [
      "R(4.7284985)\n"
     ]
    },
    {
     "name": "stderr",
     "output_type": "stream",
     "text": [
      "\r",
      "┣█████████████▊      ┫ [68.92%, 153/222, 09:10/13:18, 3.30s/i] "
     ]
    },
    {
     "name": "stdout",
     "output_type": "stream",
     "text": [
      "R(9.758192)\n"
     ]
    },
    {
     "name": "stderr",
     "output_type": "stream",
     "text": [
      "\r",
      "┣█████████████▊      ┫ [69.37%, 154/222, 09:13/13:18, 3.56s/i] "
     ]
    },
    {
     "name": "stdout",
     "output_type": "stream",
     "text": [
      "R(4.6631064)\n"
     ]
    },
    {
     "name": "stderr",
     "output_type": "stream",
     "text": [
      "\r",
      "┣█████████████▉      ┫ [69.82%, 155/222, 09:16/13:17, 3.05s/i] "
     ]
    },
    {
     "name": "stdout",
     "output_type": "stream",
     "text": [
      "R(52.953842)\n"
     ]
    },
    {
     "name": "stderr",
     "output_type": "stream",
     "text": [
      "\r",
      "┣██████████████      ┫ [70.27%, 156/222, 09:24/13:22, 7.43s/i] "
     ]
    },
    {
     "name": "stdout",
     "output_type": "stream",
     "text": [
      "R(2.1254742)\n"
     ]
    },
    {
     "name": "stderr",
     "output_type": "stream",
     "text": [
      "\r",
      "┣██████████████▏     ┫ [70.72%, 157/222, 09:27/13:22, 3.01s/i] "
     ]
    },
    {
     "name": "stdout",
     "output_type": "stream",
     "text": [
      "R(9.967216)\n"
     ]
    },
    {
     "name": "stderr",
     "output_type": "stream",
     "text": [
      "\r",
      "┣██████████████▏     ┫ [71.17%, 158/222, 09:30/13:21, 3.30s/i] "
     ]
    },
    {
     "name": "stdout",
     "output_type": "stream",
     "text": [
      "R(1.9370859)\n"
     ]
    },
    {
     "name": "stderr",
     "output_type": "stream",
     "text": [
      "\r",
      "┣██████████████▎     ┫ [71.62%, 159/222, 09:33/13:20, 2.99s/i] "
     ]
    },
    {
     "name": "stdout",
     "output_type": "stream",
     "text": [
      "R(1.6429068)\n"
     ]
    },
    {
     "name": "stderr",
     "output_type": "stream",
     "text": [
      "\r",
      "┣██████████████▍     ┫ [72.07%, 160/222, 09:37/13:21, 4.24s/i] "
     ]
    },
    {
     "name": "stdout",
     "output_type": "stream",
     "text": [
      "R(8.242245)\n"
     ]
    },
    {
     "name": "stderr",
     "output_type": "stream",
     "text": [
      "\r",
      "┣██████████████▌     ┫ [72.52%, 161/222, 09:41/13:21, 3.45s/i] "
     ]
    },
    {
     "name": "stdout",
     "output_type": "stream",
     "text": [
      "R(33.361473)\n"
     ]
    },
    {
     "name": "stderr",
     "output_type": "stream",
     "text": [
      "\r",
      "┣██████████████▌     ┫ [72.97%, 162/222, 09:45/13:22, 4.26s/i] "
     ]
    },
    {
     "name": "stdout",
     "output_type": "stream",
     "text": [
      "R(8.558019)\n"
     ]
    },
    {
     "name": "stderr",
     "output_type": "stream",
     "text": [
      "\r",
      "┣██████████████▋     ┫ [73.42%, 163/222, 09:48/13:21, 3.25s/i] "
     ]
    },
    {
     "name": "stdout",
     "output_type": "stream",
     "text": [
      "R(13.078108)\n"
     ]
    },
    {
     "name": "stderr",
     "output_type": "stream",
     "text": [
      "\r",
      "┣██████████████▊     ┫ [73.87%, 164/222, 09:52/13:21, 3.49s/i] "
     ]
    },
    {
     "name": "stdout",
     "output_type": "stream",
     "text": [
      "R(0.8365745)\n"
     ]
    },
    {
     "name": "stderr",
     "output_type": "stream",
     "text": [
      "\r",
      "┣██████████████▊     ┫ [74.32%, 165/222, 09:56/13:22, 4.42s/i] "
     ]
    },
    {
     "name": "stdout",
     "output_type": "stream",
     "text": [
      "R(1.0563288)\n"
     ]
    },
    {
     "name": "stderr",
     "output_type": "stream",
     "text": [
      "\r",
      "┣██████████████▉     ┫ [74.77%, 166/222, 09:59/13:21, 2.78s/i] "
     ]
    },
    {
     "name": "stdout",
     "output_type": "stream",
     "text": [
      "R(5.9436646)\n"
     ]
    },
    {
     "name": "stderr",
     "output_type": "stream",
     "text": [
      "\r",
      "┣███████████████     ┫ [75.23%, 167/222, 10:02/13:21, 3.23s/i] "
     ]
    },
    {
     "name": "stdout",
     "output_type": "stream",
     "text": [
      "R(3.1931558)\n"
     ]
    },
    {
     "name": "stderr",
     "output_type": "stream",
     "text": [
      "\r",
      "┣███████████████▏    ┫ [75.68%, 168/222, 10:05/13:20, 3.13s/i] "
     ]
    },
    {
     "name": "stdout",
     "output_type": "stream",
     "text": [
      "R(4.5315123)\n"
     ]
    },
    {
     "name": "stderr",
     "output_type": "stream",
     "text": [
      "\r",
      "┣███████████████▏    ┫ [76.13%, 169/222, 10:10/13:21, 4.37s/i] "
     ]
    },
    {
     "name": "stdout",
     "output_type": "stream",
     "text": [
      "R(2.4510581)\n"
     ]
    },
    {
     "name": "stderr",
     "output_type": "stream",
     "text": [
      "\r",
      "┣███████████████▎    ┫ [76.58%, 170/222, 10:13/13:20, 3.11s/i] "
     ]
    },
    {
     "name": "stdout",
     "output_type": "stream",
     "text": [
      "R(6.4852924)\n"
     ]
    },
    {
     "name": "stderr",
     "output_type": "stream",
     "text": [
      "\r",
      "┣███████████████▍    ┫ [77.03%, 171/222, 10:16/13:20, 3.15s/i] "
     ]
    },
    {
     "name": "stdout",
     "output_type": "stream",
     "text": [
      "R(2.06226)\n"
     ]
    },
    {
     "name": "stderr",
     "output_type": "stream",
     "text": [
      "\r",
      "┣███████████████▍    ┫ [77.48%, 172/222, 10:19/13:19, 3.24s/i] "
     ]
    },
    {
     "name": "stdout",
     "output_type": "stream",
     "text": [
      "R(19.309168)\n"
     ]
    },
    {
     "name": "stderr",
     "output_type": "stream",
     "text": [
      "\r",
      "┣███████████████▌    ┫ [77.93%, 173/222, 10:23/13:20, 3.85s/i] "
     ]
    },
    {
     "name": "stdout",
     "output_type": "stream",
     "text": [
      "R(10.138135)\n"
     ]
    },
    {
     "name": "stderr",
     "output_type": "stream",
     "text": [
      "\r",
      "┣███████████████▋    ┫ [78.38%, 174/222, 10:28/13:21, 5.13s/i] "
     ]
    },
    {
     "name": "stdout",
     "output_type": "stream",
     "text": [
      "R(3.214096)\n"
     ]
    },
    {
     "name": "stderr",
     "output_type": "stream",
     "text": [
      "\r",
      "┣███████████████▊    ┫ [78.83%, 175/222, 10:31/13:21, 3.19s/i] "
     ]
    },
    {
     "name": "stdout",
     "output_type": "stream",
     "text": [
      "R(12.71478)\n"
     ]
    },
    {
     "name": "stderr",
     "output_type": "stream",
     "text": [
      "\r",
      "┣███████████████▊    ┫ [79.28%, 176/222, 10:35/13:21, 3.61s/i] "
     ]
    },
    {
     "name": "stdout",
     "output_type": "stream",
     "text": [
      "R(3.1864655)\n"
     ]
    },
    {
     "name": "stderr",
     "output_type": "stream",
     "text": [
      "\r",
      "┣███████████████▉    ┫ [79.73%, 177/222, 10:38/13:20, 2.88s/i] "
     ]
    },
    {
     "name": "stdout",
     "output_type": "stream",
     "text": [
      "R(1.2407408)\n"
     ]
    },
    {
     "name": "stderr",
     "output_type": "stream",
     "text": [
      "\r",
      "┣████████████████    ┫ [80.18%, 178/222, 10:42/13:21, 4.39s/i] "
     ]
    },
    {
     "name": "stdout",
     "output_type": "stream",
     "text": [
      "R(5.1880856)\n"
     ]
    },
    {
     "name": "stderr",
     "output_type": "stream",
     "text": [
      "\r",
      "┣████████████████▏   ┫ [80.63%, 179/222, 10:45/13:20, 3.08s/i] "
     ]
    },
    {
     "name": "stdout",
     "output_type": "stream",
     "text": [
      "R(3.25341)\n"
     ]
    },
    {
     "name": "stderr",
     "output_type": "stream",
     "text": [
      "\r",
      "┣████████████████▏   ┫ [81.08%, 180/222, 10:49/13:20, 3.26s/i] "
     ]
    },
    {
     "name": "stdout",
     "output_type": "stream",
     "text": [
      "R(12.504787)\n"
     ]
    },
    {
     "name": "stderr",
     "output_type": "stream",
     "text": [
      "\r",
      "┣████████████████▎   ┫ [81.53%, 181/222, 10:52/13:20, 3.57s/i] "
     ]
    },
    {
     "name": "stdout",
     "output_type": "stream",
     "text": [
      "R(24.132397)\n"
     ]
    },
    {
     "name": "stderr",
     "output_type": "stream",
     "text": [
      "\r",
      "┣████████████████▍   ┫ [81.98%, 182/222, 10:56/13:20, 3.89s/i] "
     ]
    },
    {
     "name": "stdout",
     "output_type": "stream",
     "text": [
      "R(8.019813)\n"
     ]
    },
    {
     "name": "stderr",
     "output_type": "stream",
     "text": [
      "\r",
      "┣████████████████▍   ┫ [82.43%, 183/222, 11:01/13:22, 4.87s/i] "
     ]
    },
    {
     "name": "stdout",
     "output_type": "stream",
     "text": [
      "R(5.0517497)\n"
     ]
    },
    {
     "name": "stderr",
     "output_type": "stream",
     "text": [
      "\r",
      "┣████████████████▌   ┫ [82.88%, 184/222, 11:04/13:21, 3.15s/i] "
     ]
    },
    {
     "name": "stdout",
     "output_type": "stream",
     "text": [
      "R(19.412867)\n"
     ]
    },
    {
     "name": "stderr",
     "output_type": "stream",
     "text": [
      "\r",
      "┣████████████████▋   ┫ [83.33%, 185/222, 11:08/13:21, 3.55s/i] "
     ]
    },
    {
     "name": "stdout",
     "output_type": "stream",
     "text": [
      "R(24.659111)\n"
     ]
    },
    {
     "name": "stderr",
     "output_type": "stream",
     "text": [
      "\r",
      "┣████████████████▊   ┫ [83.78%, 186/222, 11:12/13:22, 4.19s/i] "
     ]
    },
    {
     "name": "stdout",
     "output_type": "stream",
     "text": [
      "R(1.3929332)\n"
     ]
    },
    {
     "name": "stderr",
     "output_type": "stream",
     "text": [
      "\r",
      "┣████████████████▊   ┫ [84.23%, 187/222, 11:16/13:22, 4.08s/i] "
     ]
    },
    {
     "name": "stdout",
     "output_type": "stream",
     "text": [
      "R(7.353271)\n"
     ]
    },
    {
     "name": "stderr",
     "output_type": "stream",
     "text": [
      "\r",
      "┣████████████████▉   ┫ [84.68%, 188/222, 11:19/13:22, 3.10s/i] "
     ]
    },
    {
     "name": "stdout",
     "output_type": "stream",
     "text": [
      "R(5.529148)\n"
     ]
    },
    {
     "name": "stderr",
     "output_type": "stream",
     "text": [
      "\r",
      "┣█████████████████   ┫ [85.14%, 189/222, 11:22/13:21, 3.15s/i] "
     ]
    },
    {
     "name": "stdout",
     "output_type": "stream",
     "text": [
      "R(3.3875234)\n"
     ]
    },
    {
     "name": "stderr",
     "output_type": "stream",
     "text": [
      "\r",
      "┣█████████████████   ┫ [85.59%, 190/222, 11:25/13:21, 3.22s/i] "
     ]
    },
    {
     "name": "stdout",
     "output_type": "stream",
     "text": [
      "R(1.1257186)\n"
     ]
    },
    {
     "name": "stderr",
     "output_type": "stream",
     "text": [
      "\r",
      "┣█████████████████▏  ┫ [86.04%, 191/222, 11:28/13:20, 2.74s/i] "
     ]
    },
    {
     "name": "stdout",
     "output_type": "stream",
     "text": [
      "R(3.7481172)\n"
     ]
    },
    {
     "name": "stderr",
     "output_type": "stream",
     "text": [
      "\r",
      "┣█████████████████▎  ┫ [86.49%, 192/222, 11:33/13:21, 4.52s/i] "
     ]
    },
    {
     "name": "stdout",
     "output_type": "stream",
     "text": [
      "R(1.1511849)\n"
     ]
    },
    {
     "name": "stderr",
     "output_type": "stream",
     "text": [
      "\r",
      "┣█████████████████▍  ┫ [86.94%, 193/222, 11:35/13:20, 2.77s/i] "
     ]
    },
    {
     "name": "stdout",
     "output_type": "stream",
     "text": [
      "R(6.8200126)\n"
     ]
    },
    {
     "name": "stderr",
     "output_type": "stream",
     "text": [
      "\r",
      "┣█████████████████▍  ┫ [87.39%, 194/222, 11:39/13:20, 3.46s/i] "
     ]
    },
    {
     "name": "stdout",
     "output_type": "stream",
     "text": [
      "R(9.411337)\n"
     ]
    },
    {
     "name": "stderr",
     "output_type": "stream",
     "text": [
      "\r",
      "┣█████████████████▌  ┫ [87.84%, 195/222, 11:42/13:20, 3.51s/i] "
     ]
    },
    {
     "name": "stdout",
     "output_type": "stream",
     "text": [
      "R(1.7562692)\n"
     ]
    },
    {
     "name": "stderr",
     "output_type": "stream",
     "text": [
      "\r",
      "┣█████████████████▋  ┫ [88.29%, 196/222, 11:47/13:21, 4.58s/i] "
     ]
    },
    {
     "name": "stdout",
     "output_type": "stream",
     "text": [
      "R(39.336754)\n"
     ]
    },
    {
     "name": "stderr",
     "output_type": "stream",
     "text": [
      "\r",
      "┣█████████████████▋  ┫ [88.74%, 197/222, 11:51/13:22, 4.48s/i] "
     ]
    },
    {
     "name": "stdout",
     "output_type": "stream",
     "text": [
      "R(3.3359454)\n"
     ]
    },
    {
     "name": "stderr",
     "output_type": "stream",
     "text": [
      "\r",
      "┣█████████████████▊  ┫ [89.19%, 198/222, 11:54/13:21, 2.94s/i] "
     ]
    },
    {
     "name": "stdout",
     "output_type": "stream",
     "text": [
      "R(4.3637834)\n"
     ]
    },
    {
     "name": "stderr",
     "output_type": "stream",
     "text": [
      "\r",
      "┣█████████████████▉  ┫ [89.64%, 199/222, 11:58/13:20, 3.11s/i] "
     ]
    },
    {
     "name": "stdout",
     "output_type": "stream",
     "text": [
      "R(6.2292194)\n"
     ]
    },
    {
     "name": "stderr",
     "output_type": "stream",
     "text": [
      "\r",
      "┣██████████████████  ┫ [90.09%, 200/222, 12:01/13:20, 3.08s/i] "
     ]
    },
    {
     "name": "stdout",
     "output_type": "stream",
     "text": [
      "R(0.6131603)\n"
     ]
    },
    {
     "name": "stderr",
     "output_type": "stream",
     "text": [
      "\r",
      "┣██████████████████  ┫ [90.54%, 201/222, 12:05/13:21, 4.50s/i] "
     ]
    },
    {
     "name": "stdout",
     "output_type": "stream",
     "text": [
      "R(1.1371301)\n"
     ]
    },
    {
     "name": "stderr",
     "output_type": "stream",
     "text": [
      "\r",
      "┣██████████████████▏ ┫ [90.99%, 202/222, 12:08/13:20, 3.06s/i] "
     ]
    },
    {
     "name": "stdout",
     "output_type": "stream",
     "text": [
      "R(3.5762155)\n"
     ]
    },
    {
     "name": "stderr",
     "output_type": "stream",
     "text": [
      "\r",
      "┣██████████████████▎ ┫ [91.44%, 203/222, 12:11/13:20, 3.23s/i] "
     ]
    },
    {
     "name": "stdout",
     "output_type": "stream",
     "text": [
      "R(0.42053005)\n"
     ]
    },
    {
     "name": "stderr",
     "output_type": "stream",
     "text": [
      "\r",
      "┣██████████████████▍ ┫ [91.89%, 204/222, 12:14/13:19, 3.00s/i] "
     ]
    },
    {
     "name": "stdout",
     "output_type": "stream",
     "text": [
      "R(2.0967603)\n"
     ]
    },
    {
     "name": "stderr",
     "output_type": "stream",
     "text": [
      "\r",
      "┣██████████████████▍ ┫ [92.34%, 205/222, 12:19/13:20, 4.38s/i] "
     ]
    },
    {
     "name": "stdout",
     "output_type": "stream",
     "text": [
      "R(1.1353223)\n"
     ]
    },
    {
     "name": "stderr",
     "output_type": "stream",
     "text": [
      "\r",
      "┣██████████████████▌ ┫ [92.79%, 206/222, 12:22/13:19, 2.76s/i] "
     ]
    },
    {
     "name": "stdout",
     "output_type": "stream",
     "text": [
      "R(4.311735)\n"
     ]
    },
    {
     "name": "stderr",
     "output_type": "stream",
     "text": [
      "\r",
      "┣██████████████████▋ ┫ [93.24%, 207/222, 12:25/13:19, 3.08s/i] "
     ]
    },
    {
     "name": "stdout",
     "output_type": "stream",
     "text": [
      "R(3.4096386)\n"
     ]
    },
    {
     "name": "stderr",
     "output_type": "stream",
     "text": [
      "\r",
      "┣██████████████████▋ ┫ [93.69%, 208/222, 12:28/13:18, 3.14s/i] "
     ]
    },
    {
     "name": "stdout",
     "output_type": "stream",
     "text": [
      "R(0.98761654)\n"
     ]
    },
    {
     "name": "stderr",
     "output_type": "stream",
     "text": [
      "\r",
      "┣██████████████████▊ ┫ [94.14%, 209/222, 12:31/13:17, 2.87s/i] "
     ]
    },
    {
     "name": "stdout",
     "output_type": "stream",
     "text": [
      "R(1.347249)\n"
     ]
    },
    {
     "name": "stderr",
     "output_type": "stream",
     "text": [
      "\r",
      "┣██████████████████▉ ┫ [94.59%, 210/222, 12:35/13:18, 4.52s/i] "
     ]
    },
    {
     "name": "stdout",
     "output_type": "stream",
     "text": [
      "R(1.0719442)\n"
     ]
    },
    {
     "name": "stderr",
     "output_type": "stream",
     "text": [
      "\r",
      "┣███████████████████ ┫ [95.05%, 211/222, 12:39/13:18, 3.41s/i] "
     ]
    },
    {
     "name": "stdout",
     "output_type": "stream",
     "text": [
      "R(1.2588865)\n"
     ]
    },
    {
     "name": "stderr",
     "output_type": "stream",
     "text": [
      "\r",
      "┣███████████████████ ┫ [95.50%, 212/222, 12:41/13:17, 2.94s/i] "
     ]
    },
    {
     "name": "stdout",
     "output_type": "stream",
     "text": [
      "R(1.1671503)\n"
     ]
    },
    {
     "name": "stderr",
     "output_type": "stream",
     "text": [
      "\r",
      "┣███████████████████▏┫ [95.95%, 213/222, 12:45/13:17, 3.20s/i] "
     ]
    },
    {
     "name": "stdout",
     "output_type": "stream",
     "text": [
      "R(7.2184134)\n"
     ]
    },
    {
     "name": "stderr",
     "output_type": "stream",
     "text": [
      "\r",
      "┣███████████████████▎┫ [96.40%, 214/222, 12:49/13:18, 4.59s/i] "
     ]
    },
    {
     "name": "stdout",
     "output_type": "stream",
     "text": [
      "R(0.78533524)\n"
     ]
    },
    {
     "name": "stderr",
     "output_type": "stream",
     "text": [
      "\r",
      "┣███████████████████▎┫ [96.85%, 215/222, 12:52/13:17, 3.01s/i] "
     ]
    },
    {
     "name": "stdout",
     "output_type": "stream",
     "text": [
      "R(18.348394)\n"
     ]
    },
    {
     "name": "stderr",
     "output_type": "stream",
     "text": [
      "\r",
      "┣███████████████████▍┫ [97.30%, 216/222, 12:56/13:17, 3.32s/i] "
     ]
    },
    {
     "name": "stdout",
     "output_type": "stream",
     "text": [
      "R(11.088675)\n"
     ]
    },
    {
     "name": "stderr",
     "output_type": "stream",
     "text": [
      "\r",
      "┣███████████████████▌┫ [97.75%, 217/222, 12:59/13:17, 3.28s/i] "
     ]
    },
    {
     "name": "stdout",
     "output_type": "stream",
     "text": [
      "R(8.332466)\n"
     ]
    },
    {
     "name": "stderr",
     "output_type": "stream",
     "text": [
      "\r",
      "┣███████████████████▋┫ [98.20%, 218/222, 13:02/13:17, 3.63s/i] "
     ]
    },
    {
     "name": "stdout",
     "output_type": "stream",
     "text": [
      "R(2.20524)\n"
     ]
    },
    {
     "name": "stderr",
     "output_type": "stream",
     "text": [
      "\r",
      "┣███████████████████▋┫ [98.65%, 219/222, 13:07/13:18, 4.57s/i] "
     ]
    },
    {
     "name": "stdout",
     "output_type": "stream",
     "text": [
      "R(3.4389057)\n"
     ]
    },
    {
     "name": "stderr",
     "output_type": "stream",
     "text": [
      "\r",
      "┣███████████████████▊┫ [99.10%, 220/222, 13:10/13:17, 2.94s/i] "
     ]
    },
    {
     "name": "stdout",
     "output_type": "stream",
     "text": [
      "R(11.951385)\n"
     ]
    },
    {
     "name": "stderr",
     "output_type": "stream",
     "text": [
      "\r",
      "┣███████████████████▉┫ [99.55%, 221/222, 13:14/13:17, 3.54s/i] "
     ]
    },
    {
     "name": "stdout",
     "output_type": "stream",
     "text": [
      "R(1.814931)\n"
     ]
    },
    {
     "name": "stderr",
     "output_type": "stream",
     "text": [
      "┣████████████████████┫ [100.00%, 222/222, 13:16/13:16, 3.59s/i] \n"
     ]
    },
    {
     "name": "stdout",
     "output_type": "stream",
     "text": [
      "R(3.593581)\n"
     ]
    },
    {
     "name": "stderr",
     "output_type": "stream",
     "text": [
      "\r",
      "┣                    ┫ [0.45%, 1/222, 00:05/16:57, 4.58s/i] "
     ]
    },
    {
     "name": "stdout",
     "output_type": "stream",
     "text": [
      "R(0.41006655)\n"
     ]
    },
    {
     "name": "stderr",
     "output_type": "stream",
     "text": [
      "\r",
      "┣▏                   ┫ [0.90%, 2/222, 00:07/13:39, 2.80s/i] "
     ]
    },
    {
     "name": "stdout",
     "output_type": "stream",
     "text": [
      "R(1.6381161)\n"
     ]
    },
    {
     "name": "stderr",
     "output_type": "stream",
     "text": [
      "\r",
      "┣▎                   ┫ [1.35%, 3/222, 00:10/12:45, 2.96s/i] "
     ]
    },
    {
     "name": "stdout",
     "output_type": "stream",
     "text": [
      "R(7.134576)\n"
     ]
    },
    {
     "name": "stderr",
     "output_type": "stream",
     "text": [
      "\r",
      "┣▎                   ┫ [1.80%, 4/222, 00:14/12:46, 3.47s/i] "
     ]
    },
    {
     "name": "stdout",
     "output_type": "stream",
     "text": [
      "R(3.6226742)\n"
     ]
    },
    {
     "name": "stderr",
     "output_type": "stream",
     "text": [
      "\r",
      "┣▍                   ┫ [2.25%, 5/222, 00:17/12:25, 2.96s/i] "
     ]
    },
    {
     "name": "stdout",
     "output_type": "stream",
     "text": [
      "R(4.5221195)\n"
     ]
    },
    {
     "name": "stderr",
     "output_type": "stream",
     "text": [
      "\r",
      "┣▌                   ┫ [2.70%, 6/222, 00:22/13:34, 5.22s/i] "
     ]
    },
    {
     "name": "stdout",
     "output_type": "stream",
     "text": [
      "R(16.702702)\n"
     ]
    },
    {
     "name": "stderr",
     "output_type": "stream",
     "text": [
      "\r",
      "┣▋                   ┫ [3.15%, 7/222, 00:26/13:33, 3.63s/i] "
     ]
    },
    {
     "name": "stdout",
     "output_type": "stream",
     "text": [
      "R(2.4260116)\n"
     ]
    },
    {
     "name": "stderr",
     "output_type": "stream",
     "text": [
      "\r",
      "┣▋                   ┫ [3.60%, 8/222, 00:29/13:16, 3.05s/i] "
     ]
    },
    {
     "name": "stdout",
     "output_type": "stream",
     "text": [
      "R(2.165837)\n"
     ]
    },
    {
     "name": "stderr",
     "output_type": "stream",
     "text": [
      "\r",
      "┣▊                   ┫ [4.05%, 9/222, 00:32/13:01, 3.01s/i] "
     ]
    },
    {
     "name": "stdout",
     "output_type": "stream",
     "text": [
      "R(20.816467)\n"
     ]
    },
    {
     "name": "stderr",
     "output_type": "stream",
     "text": [
      "\r",
      "┣▉                   ┫ [4.50%, 10/222, 00:37/13:34, 5.00s/i] "
     ]
    },
    {
     "name": "stdout",
     "output_type": "stream",
     "text": [
      "R(3.641705)\n"
     ]
    },
    {
     "name": "stderr",
     "output_type": "stream",
     "text": [
      "\r",
      "┣▉                   ┫ [4.95%, 11/222, 00:39/13:17, 2.81s/i] "
     ]
    },
    {
     "name": "stdout",
     "output_type": "stream",
     "text": [
      "R(2.4268703)\n"
     ]
    },
    {
     "name": "stderr",
     "output_type": "stream",
     "text": [
      "\r",
      "┣█                   ┫ [5.41%, 12/222, 00:43/13:09, 3.17s/i] "
     ]
    },
    {
     "name": "stdout",
     "output_type": "stream",
     "text": [
      "R(8.608554)\n"
     ]
    },
    {
     "name": "stderr",
     "output_type": "stream",
     "text": [
      "\r",
      "┣█▏                  ┫ [5.86%, 13/222, 00:46/13:12, 3.70s/i] "
     ]
    },
    {
     "name": "stdout",
     "output_type": "stream",
     "text": [
      "R(31.278057)\n"
     ]
    },
    {
     "name": "stderr",
     "output_type": "stream",
     "text": [
      "\r",
      "┣█▎                  ┫ [6.31%, 14/222, 00:51/13:26, 4.44s/i] "
     ]
    },
    {
     "name": "stdout",
     "output_type": "stream",
     "text": [
      "R(5.265339)\n"
     ]
    },
    {
     "name": "stderr",
     "output_type": "stream",
     "text": [
      "\r",
      "┣█▎                  ┫ [6.76%, 15/222, 00:55/13:40, 4.59s/i] "
     ]
    },
    {
     "name": "stdout",
     "output_type": "stream",
     "text": [
      "R(10.805975)\n"
     ]
    },
    {
     "name": "stderr",
     "output_type": "stream",
     "text": [
      "\r",
      "┣█▍                  ┫ [7.21%, 16/222, 00:59/13:37, 3.48s/i] "
     ]
    },
    {
     "name": "stdout",
     "output_type": "stream",
     "text": [
      "R(3.1780791)\n"
     ]
    },
    {
     "name": "stderr",
     "output_type": "stream",
     "text": [
      "\r",
      "┣█▌                  ┫ [7.66%, 17/222, 01:02/13:29, 3.05s/i] "
     ]
    },
    {
     "name": "stdout",
     "output_type": "stream",
     "text": [
      "R(7.266144)\n"
     ]
    },
    {
     "name": "stderr",
     "output_type": "stream",
     "text": [
      "\r",
      "┣█▌                  ┫ [8.11%, 18/222, 01:06/13:28, 3.58s/i] "
     ]
    },
    {
     "name": "stdout",
     "output_type": "stream",
     "text": [
      "R(1.3149766)\n"
     ]
    },
    {
     "name": "stderr",
     "output_type": "stream",
     "text": [
      "\r",
      "┣█▋                  ┫ [8.56%, 19/222, 01:10/13:36, 4.29s/i] "
     ]
    },
    {
     "name": "stdout",
     "output_type": "stream",
     "text": [
      "R(10.692997)\n"
     ]
    },
    {
     "name": "stderr",
     "output_type": "stream",
     "text": [
      "\r",
      "┣█▊                  ┫ [9.01%, 20/222, 01:13/13:33, 3.41s/i] "
     ]
    },
    {
     "name": "stdout",
     "output_type": "stream",
     "text": [
      "R(22.60405)\n"
     ]
    },
    {
     "name": "stderr",
     "output_type": "stream",
     "text": [
      "\r",
      "┣█▉                  ┫ [9.46%, 21/222, 01:17/13:36, 3.95s/i] "
     ]
    },
    {
     "name": "stdout",
     "output_type": "stream",
     "text": [
      "R(0.34162804)\n"
     ]
    },
    {
     "name": "stderr",
     "output_type": "stream",
     "text": [
      "\r",
      "┣█▉                  ┫ [9.91%, 22/222, 01:20/13:26, 2.68s/i] "
     ]
    },
    {
     "name": "stdout",
     "output_type": "stream",
     "text": [
      "R(0.8218153)\n"
     ]
    },
    {
     "name": "stderr",
     "output_type": "stream",
     "text": [
      "\r",
      "┣██                  ┫ [10.36%, 23/222, 01:23/13:18, 2.85s/i] "
     ]
    },
    {
     "name": "stdout",
     "output_type": "stream",
     "text": [
      "R(0.87380564)\n"
     ]
    },
    {
     "name": "stderr",
     "output_type": "stream",
     "text": [
      "\r",
      "┣██▏                 ┫ [10.81%, 24/222, 01:27/13:29, 4.75s/i] "
     ]
    },
    {
     "name": "stdout",
     "output_type": "stream",
     "text": [
      "R(18.437956)\n"
     ]
    },
    {
     "name": "stderr",
     "output_type": "stream",
     "text": [
      "\r",
      "┣██▎                 ┫ [11.26%, 25/222, 01:31/13:26, 3.32s/i] "
     ]
    },
    {
     "name": "stdout",
     "output_type": "stream",
     "text": [
      "R(3.0064182)\n"
     ]
    },
    {
     "name": "stderr",
     "output_type": "stream",
     "text": [
      "\r",
      "┣██▎                 ┫ [11.71%, 26/222, 01:34/13:23, 3.24s/i] "
     ]
    },
    {
     "name": "stdout",
     "output_type": "stream",
     "text": [
      "R(1.6460432)\n"
     ]
    },
    {
     "name": "stderr",
     "output_type": "stream",
     "text": [
      "\r",
      "┣██▍                 ┫ [12.16%, 27/222, 01:37/13:17, 2.95s/i] "
     ]
    },
    {
     "name": "stdout",
     "output_type": "stream",
     "text": [
      "R(0.45171544)\n"
     ]
    },
    {
     "name": "stderr",
     "output_type": "stream",
     "text": [
      "\r",
      "┣██▌                 ┫ [12.61%, 28/222, 01:41/13:22, 4.23s/i] "
     ]
    },
    {
     "name": "stdout",
     "output_type": "stream",
     "text": [
      "R(15.348492)\n"
     ]
    },
    {
     "name": "stderr",
     "output_type": "stream",
     "text": [
      "\r",
      "┣██▌                 ┫ [13.06%, 29/222, 01:45/13:22, 3.54s/i] "
     ]
    },
    {
     "name": "stdout",
     "output_type": "stream",
     "text": [
      "R(14.663672)\n"
     ]
    },
    {
     "name": "stderr",
     "output_type": "stream",
     "text": [
      "\r",
      "┣██▋                 ┫ [13.51%, 30/222, 01:48/13:21, 3.52s/i] "
     ]
    },
    {
     "name": "stdout",
     "output_type": "stream",
     "text": [
      "R(1.8279825)\n"
     ]
    },
    {
     "name": "stderr",
     "output_type": "stream",
     "text": [
      "\r",
      "┣██▊                 ┫ [13.96%, 31/222, 01:51/13:17, 3.04s/i] "
     ]
    },
    {
     "name": "stdout",
     "output_type": "stream",
     "text": [
      "R(7.8691874)\n"
     ]
    },
    {
     "name": "stderr",
     "output_type": "stream",
     "text": [
      "\r",
      "┣██▉                 ┫ [14.41%, 32/222, 01:55/13:16, 3.46s/i] "
     ]
    },
    {
     "name": "stdout",
     "output_type": "stream",
     "text": [
      "R(8.131375)\n"
     ]
    },
    {
     "name": "stderr",
     "output_type": "stream",
     "text": [
      "\r",
      "┣██▉                 ┫ [14.86%, 33/222, 01:59/13:24, 4.73s/i] "
     ]
    },
    {
     "name": "stdout",
     "output_type": "stream",
     "text": [
      "R(4.554863)\n"
     ]
    },
    {
     "name": "stderr",
     "output_type": "stream",
     "text": [
      "\r",
      "┣███                 ┫ [15.32%, 34/222, 02:03/13:22, 3.33s/i] "
     ]
    },
    {
     "name": "stdout",
     "output_type": "stream",
     "text": [
      "R(3.2407868)\n"
     ]
    },
    {
     "name": "stderr",
     "output_type": "stream",
     "text": [
      "\r",
      "┣███▏                ┫ [15.77%, 35/222, 02:06/13:19, 3.15s/i] "
     ]
    },
    {
     "name": "stdout",
     "output_type": "stream",
     "text": [
      "R(0.74373823)\n"
     ]
    },
    {
     "name": "stderr",
     "output_type": "stream",
     "text": [
      "\r",
      "┣███▏                ┫ [16.22%, 36/222, 02:09/13:13, 2.72s/i] "
     ]
    },
    {
     "name": "stdout",
     "output_type": "stream",
     "text": [
      "R(0.9809714)\n"
     ]
    },
    {
     "name": "stderr",
     "output_type": "stream",
     "text": [
      "\r",
      "┣███▎                ┫ [16.67%, 37/222, 02:13/13:17, 4.24s/i] "
     ]
    },
    {
     "name": "stdout",
     "output_type": "stream",
     "text": [
      "R(0.5853201)\n"
     ]
    },
    {
     "name": "stderr",
     "output_type": "stream",
     "text": [
      "\r",
      "┣███▍                ┫ [17.12%, 38/222, 02:16/13:13, 2.83s/i] "
     ]
    },
    {
     "name": "stdout",
     "output_type": "stream",
     "text": [
      "R(2.7296467)\n"
     ]
    },
    {
     "name": "stderr",
     "output_type": "stream",
     "text": [
      "\r",
      "┣███▌                ┫ [17.57%, 39/222, 02:19/13:11, 3.25s/i] "
     ]
    },
    {
     "name": "stdout",
     "output_type": "stream",
     "text": [
      "R(11.483138)\n"
     ]
    },
    {
     "name": "stderr",
     "output_type": "stream",
     "text": [
      "\r",
      "┣███▌                ┫ [18.02%, 40/222, 02:23/13:12, 3.79s/i] "
     ]
    },
    {
     "name": "stdout",
     "output_type": "stream",
     "text": [
      "R(12.426091)\n"
     ]
    },
    {
     "name": "stderr",
     "output_type": "stream",
     "text": [
      "\r",
      "┣███▋                ┫ [18.47%, 41/222, 02:26/13:11, 3.39s/i] "
     ]
    },
    {
     "name": "stdout",
     "output_type": "stream",
     "text": [
      "R(1.8440173)\n"
     ]
    },
    {
     "name": "stderr",
     "output_type": "stream",
     "text": [
      "\r",
      "┣███▊                ┫ [18.92%, 42/222, 02:31/13:16, 4.49s/i] "
     ]
    },
    {
     "name": "stdout",
     "output_type": "stream",
     "text": [
      "R(1.8644539)\n"
     ]
    },
    {
     "name": "stderr",
     "output_type": "stream",
     "text": [
      "\r",
      "┣███▊                ┫ [19.37%, 43/222, 02:34/13:15, 3.27s/i] "
     ]
    },
    {
     "name": "stdout",
     "output_type": "stream",
     "text": [
      "R(4.887882)\n"
     ]
    },
    {
     "name": "stderr",
     "output_type": "stream",
     "text": [
      "\r",
      "┣███▉                ┫ [19.82%, 44/222, 02:37/13:14, 3.36s/i] "
     ]
    },
    {
     "name": "stdout",
     "output_type": "stream",
     "text": [
      "R(2.2495565)\n"
     ]
    },
    {
     "name": "stderr",
     "output_type": "stream",
     "text": [
      "\r",
      "┣████                ┫ [20.27%, 45/222, 02:40/13:11, 2.96s/i] "
     ]
    },
    {
     "name": "stdout",
     "output_type": "stream",
     "text": [
      "R(3.5367124)\n"
     ]
    },
    {
     "name": "stderr",
     "output_type": "stream",
     "text": [
      "\r",
      "┣████▏               ┫ [20.72%, 46/222, 02:45/13:14, 4.30s/i] "
     ]
    },
    {
     "name": "stdout",
     "output_type": "stream",
     "text": [
      "R(0.74305624)\n"
     ]
    },
    {
     "name": "stderr",
     "output_type": "stream",
     "text": [
      "\r",
      "┣████▏               ┫ [21.17%, 47/222, 02:47/13:11, 2.93s/i] "
     ]
    },
    {
     "name": "stdout",
     "output_type": "stream",
     "text": [
      "R(1.4886081)\n"
     ]
    },
    {
     "name": "stderr",
     "output_type": "stream",
     "text": [
      "\r",
      "┣████▎               ┫ [21.62%, 48/222, 02:50/13:08, 2.84s/i] "
     ]
    },
    {
     "name": "stdout",
     "output_type": "stream",
     "text": [
      "R(1.186141)\n"
     ]
    },
    {
     "name": "stderr",
     "output_type": "stream",
     "text": [
      "\r",
      "┣████▍               ┫ [22.07%, 49/222, 02:53/13:04, 2.66s/i] "
     ]
    },
    {
     "name": "stdout",
     "output_type": "stream",
     "text": [
      "R(18.667355)\n"
     ]
    },
    {
     "name": "stderr",
     "output_type": "stream",
     "text": [
      "\r",
      "┣████▌               ┫ [22.52%, 50/222, 02:57/13:06, 3.97s/i] "
     ]
    },
    {
     "name": "stdout",
     "output_type": "stream",
     "text": [
      "R(2.325471)\n"
     ]
    },
    {
     "name": "stderr",
     "output_type": "stream",
     "text": [
      "\r",
      "┣████▌               ┫ [22.97%, 51/222, 03:02/13:11, 4.67s/i] "
     ]
    },
    {
     "name": "stdout",
     "output_type": "stream",
     "text": [
      "R(10.36034)\n"
     ]
    },
    {
     "name": "stderr",
     "output_type": "stream",
     "text": [
      "\r",
      "┣████▋               ┫ [23.42%, 52/222, 03:05/13:11, 3.75s/i] "
     ]
    },
    {
     "name": "stdout",
     "output_type": "stream",
     "text": [
      "R(14.693848)\n"
     ]
    },
    {
     "name": "stderr",
     "output_type": "stream",
     "text": [
      "\r",
      "┣████▊               ┫ [23.87%, 53/222, 03:09/13:11, 3.45s/i] "
     ]
    },
    {
     "name": "stdout",
     "output_type": "stream",
     "text": [
      "R(25.517668)\n"
     ]
    },
    {
     "name": "stderr",
     "output_type": "stream",
     "text": [
      "\r",
      "┣████▊               ┫ [24.32%, 54/222, 03:13/13:12, 3.76s/i] "
     ]
    },
    {
     "name": "stdout",
     "output_type": "stream",
     "text": [
      "R(1.8863876)\n"
     ]
    },
    {
     "name": "stderr",
     "output_type": "stream",
     "text": [
      "\r",
      "┣████▉               ┫ [24.77%, 55/222, 03:17/13:14, 4.10s/i] "
     ]
    },
    {
     "name": "stdout",
     "output_type": "stream",
     "text": [
      "R(4.9902625)\n"
     ]
    },
    {
     "name": "stderr",
     "output_type": "stream",
     "text": [
      "\r",
      "┣█████               ┫ [25.23%, 56/222, 03:20/13:12, 3.17s/i] "
     ]
    },
    {
     "name": "stdout",
     "output_type": "stream",
     "text": [
      "R(0.89654624)\n"
     ]
    },
    {
     "name": "stderr",
     "output_type": "stream",
     "text": [
      "\r",
      "┣█████▏              ┫ [25.68%, 57/222, 03:23/13:10, 2.90s/i] "
     ]
    },
    {
     "name": "stdout",
     "output_type": "stream",
     "text": [
      "R(5.6650977)\n"
     ]
    },
    {
     "name": "stderr",
     "output_type": "stream",
     "text": [
      "\r",
      "┣█████▏              ┫ [26.13%, 58/222, 03:26/13:09, 3.27s/i] "
     ]
    },
    {
     "name": "stdout",
     "output_type": "stream",
     "text": [
      "R(3.2331142)\n"
     ]
    },
    {
     "name": "stderr",
     "output_type": "stream",
     "text": [
      "\r",
      "┣█████▎              ┫ [26.58%, 59/222, 03:29/13:08, 3.33s/i] "
     ]
    },
    {
     "name": "stdout",
     "output_type": "stream",
     "text": [
      "R(3.371194)\n"
     ]
    },
    {
     "name": "stderr",
     "output_type": "stream",
     "text": [
      "\r",
      "┣█████▍              ┫ [27.03%, 60/222, 03:34/13:12, 4.83s/i] "
     ]
    },
    {
     "name": "stdout",
     "output_type": "stream",
     "text": [
      "R(4.813388)\n"
     ]
    },
    {
     "name": "stderr",
     "output_type": "stream",
     "text": [
      "\r",
      "┣█████▍              ┫ [27.48%, 61/222, 03:38/13:12, 3.35s/i] "
     ]
    },
    {
     "name": "stdout",
     "output_type": "stream",
     "text": [
      "R(0.68434423)\n"
     ]
    },
    {
     "name": "stderr",
     "output_type": "stream",
     "text": [
      "\r",
      "┣█████▌              ┫ [27.93%, 62/222, 03:41/13:10, 2.98s/i] "
     ]
    },
    {
     "name": "stdout",
     "output_type": "stream",
     "text": [
      "R(1.867822)\n"
     ]
    },
    {
     "name": "stderr",
     "output_type": "stream",
     "text": [
      "\r",
      "┣█████▋              ┫ [28.38%, 63/222, 03:44/13:08, 3.18s/i] "
     ]
    },
    {
     "name": "stdout",
     "output_type": "stream",
     "text": [
      "R(12.152367)\n"
     ]
    },
    {
     "name": "stderr",
     "output_type": "stream",
     "text": [
      "\r",
      "┣█████▊              ┫ [28.83%, 64/222, 03:49/13:13, 4.86s/i] "
     ]
    },
    {
     "name": "stdout",
     "output_type": "stream",
     "text": [
      "R(4.811235)\n"
     ]
    },
    {
     "name": "stderr",
     "output_type": "stream",
     "text": [
      "\r",
      "┣█████▊              ┫ [29.28%, 65/222, 03:52/13:12, 3.25s/i] "
     ]
    },
    {
     "name": "stdout",
     "output_type": "stream",
     "text": [
      "R(14.987059)\n"
     ]
    },
    {
     "name": "stderr",
     "output_type": "stream",
     "text": [
      "\r",
      "┣█████▉              ┫ [29.73%, 66/222, 03:55/13:11, 3.34s/i] "
     ]
    },
    {
     "name": "stdout",
     "output_type": "stream",
     "text": [
      "R(6.844082)\n"
     ]
    },
    {
     "name": "stderr",
     "output_type": "stream",
     "text": [
      "\r",
      "┣██████              ┫ [30.18%, 67/222, 03:59/13:11, 3.44s/i] "
     ]
    },
    {
     "name": "stdout",
     "output_type": "stream",
     "text": [
      "R(12.141337)\n"
     ]
    },
    {
     "name": "stderr",
     "output_type": "stream",
     "text": [
      "\r",
      "┣██████▏             ┫ [30.63%, 68/222, 04:02/13:11, 3.65s/i] "
     ]
    },
    {
     "name": "stdout",
     "output_type": "stream",
     "text": [
      "R(2.4954145)\n"
     ]
    },
    {
     "name": "stderr",
     "output_type": "stream",
     "text": [
      "\r",
      "┣██████▏             ┫ [31.08%, 69/222, 04:07/13:14, 4.67s/i] "
     ]
    },
    {
     "name": "stdout",
     "output_type": "stream",
     "text": [
      "R(0.21930636)\n"
     ]
    },
    {
     "name": "stderr",
     "output_type": "stream",
     "text": [
      "\r",
      "┣██████▎             ┫ [31.53%, 70/222, 04:10/13:13, 3.03s/i] "
     ]
    },
    {
     "name": "stdout",
     "output_type": "stream",
     "text": [
      "R(2.771596)\n"
     ]
    },
    {
     "name": "stderr",
     "output_type": "stream",
     "text": [
      "\r",
      "┣██████▍             ┫ [31.98%, 71/222, 04:13/13:12, 3.21s/i] "
     ]
    },
    {
     "name": "stdout",
     "output_type": "stream",
     "text": [
      "R(1.4384663)\n"
     ]
    },
    {
     "name": "stderr",
     "output_type": "stream",
     "text": [
      "\r",
      "┣██████▍             ┫ [32.43%, 72/222, 04:16/13:10, 3.12s/i] "
     ]
    },
    {
     "name": "stdout",
     "output_type": "stream",
     "text": [
      "R(19.007296)\n"
     ]
    },
    {
     "name": "stderr",
     "output_type": "stream",
     "text": [
      "\r",
      "┣██████▌             ┫ [32.88%, 73/222, 04:21/13:15, 5.16s/i] "
     ]
    },
    {
     "name": "stdout",
     "output_type": "stream",
     "text": [
      "R(2.4786632)\n"
     ]
    },
    {
     "name": "stderr",
     "output_type": "stream",
     "text": [
      "\r",
      "┣██████▋             ┫ [33.33%, 74/222, 04:25/13:14, 3.17s/i] "
     ]
    },
    {
     "name": "stdout",
     "output_type": "stream",
     "text": [
      "R(49.248604)\n"
     ]
    },
    {
     "name": "stderr",
     "output_type": "stream",
     "text": [
      "\r",
      "┣██████▊             ┫ [33.78%, 75/222, 04:30/13:18, 5.11s/i] "
     ]
    },
    {
     "name": "stdout",
     "output_type": "stream",
     "text": [
      "R(1.147134)\n"
     ]
    },
    {
     "name": "stderr",
     "output_type": "stream",
     "text": [
      "\r",
      "┣██████▊             ┫ [34.23%, 76/222, 04:32/13:16, 2.69s/i] "
     ]
    },
    {
     "name": "stdout",
     "output_type": "stream",
     "text": [
      "R(1.3153889)\n"
     ]
    },
    {
     "name": "stderr",
     "output_type": "stream",
     "text": [
      "\r",
      "┣██████▉             ┫ [34.68%, 77/222, 04:35/13:14, 2.94s/i] "
     ]
    },
    {
     "name": "stdout",
     "output_type": "stream",
     "text": [
      "R(29.276428)\n"
     ]
    },
    {
     "name": "stderr",
     "output_type": "stream",
     "text": [
      "\r",
      "┣███████             ┫ [35.14%, 78/222, 04:42/13:21, 6.25s/i] "
     ]
    },
    {
     "name": "stdout",
     "output_type": "stream",
     "text": [
      "R(0.57473564)\n"
     ]
    },
    {
     "name": "stderr",
     "output_type": "stream",
     "text": [
      "\r",
      "┣███████             ┫ [35.59%, 79/222, 04:44/13:19, 2.64s/i] "
     ]
    },
    {
     "name": "stdout",
     "output_type": "stream",
     "text": [
      "R(4.3003445)\n"
     ]
    },
    {
     "name": "stderr",
     "output_type": "stream",
     "text": [
      "\r",
      "┣███████▏            ┫ [36.04%, 80/222, 04:48/13:18, 3.31s/i] "
     ]
    },
    {
     "name": "stdout",
     "output_type": "stream",
     "text": [
      "R(3.742749)\n"
     ]
    },
    {
     "name": "stderr",
     "output_type": "stream",
     "text": [
      "\r",
      "┣███████▎            ┫ [36.49%, 81/222, 04:51/13:18, 3.55s/i] "
     ]
    },
    {
     "name": "stdout",
     "output_type": "stream",
     "text": [
      "R(4.2204013)\n"
     ]
    },
    {
     "name": "stderr",
     "output_type": "stream",
     "text": [
      "\r",
      "┣███████▍            ┫ [36.94%, 82/222, 04:56/13:20, 4.58s/i] "
     ]
    },
    {
     "name": "stdout",
     "output_type": "stream",
     "text": [
      "R(1.1886369)\n"
     ]
    },
    {
     "name": "stderr",
     "output_type": "stream",
     "text": [
      "\r",
      "┣███████▍            ┫ [37.39%, 83/222, 04:58/13:18, 2.77s/i] "
     ]
    },
    {
     "name": "stdout",
     "output_type": "stream",
     "text": [
      "R(0.6611104)\n"
     ]
    },
    {
     "name": "stderr",
     "output_type": "stream",
     "text": [
      "\r",
      "┣███████▌            ┫ [37.84%, 84/222, 05:01/13:16, 2.80s/i] "
     ]
    },
    {
     "name": "stdout",
     "output_type": "stream",
     "text": [
      "R(48.222347)\n"
     ]
    },
    {
     "name": "stderr",
     "output_type": "stream",
     "text": [
      "\r",
      "┣███████▋            ┫ [38.29%, 85/222, 05:06/13:20, 5.20s/i] "
     ]
    },
    {
     "name": "stdout",
     "output_type": "stream",
     "text": [
      "R(0.49364084)\n"
     ]
    },
    {
     "name": "stderr",
     "output_type": "stream",
     "text": [
      "\r",
      "┣███████▋            ┫ [38.74%, 86/222, 05:09/13:18, 2.68s/i] "
     ]
    },
    {
     "name": "stdout",
     "output_type": "stream",
     "text": [
      "R(0.7021754)\n"
     ]
    },
    {
     "name": "stderr",
     "output_type": "stream",
     "text": [
      "\r",
      "┣███████▊            ┫ [39.19%, 87/222, 05:14/13:20, 4.46s/i] "
     ]
    },
    {
     "name": "stdout",
     "output_type": "stream",
     "text": [
      "R(49.702515)\n"
     ]
    },
    {
     "name": "stderr",
     "output_type": "stream",
     "text": [
      "\r",
      "┣███████▉            ┫ [39.64%, 88/222, 05:19/13:24, 5.07s/i] "
     ]
    },
    {
     "name": "stdout",
     "output_type": "stream",
     "text": [
      "R(1.0420296)\n"
     ]
    },
    {
     "name": "stderr",
     "output_type": "stream",
     "text": [
      "\r",
      "┣████████            ┫ [40.09%, 89/222, 05:22/13:22, 2.93s/i] "
     ]
    },
    {
     "name": "stdout",
     "output_type": "stream",
     "text": [
      "R(0.89394295)\n"
     ]
    },
    {
     "name": "stderr",
     "output_type": "stream",
     "text": [
      "\r",
      "┣████████            ┫ [40.54%, 90/222, 05:25/13:21, 3.11s/i] "
     ]
    },
    {
     "name": "stdout",
     "output_type": "stream",
     "text": [
      "R(7.0576544)\n"
     ]
    },
    {
     "name": "stderr",
     "output_type": "stream",
     "text": [
      "\r",
      "┣████████▏           ┫ [40.99%, 91/222, 05:30/13:24, 4.88s/i] "
     ]
    },
    {
     "name": "stdout",
     "output_type": "stream",
     "text": [
      "R(1.4133967)\n"
     ]
    },
    {
     "name": "stderr",
     "output_type": "stream",
     "text": [
      "\r",
      "┣████████▎           ┫ [41.44%, 92/222, 05:33/13:22, 2.97s/i] "
     ]
    },
    {
     "name": "stdout",
     "output_type": "stream",
     "text": [
      "R(17.31617)\n"
     ]
    },
    {
     "name": "stderr",
     "output_type": "stream",
     "text": [
      "\r",
      "┣████████▍           ┫ [41.89%, 93/222, 05:36/13:22, 3.45s/i] "
     ]
    },
    {
     "name": "stdout",
     "output_type": "stream",
     "text": [
      "R(4.526992)\n"
     ]
    },
    {
     "name": "stderr",
     "output_type": "stream",
     "text": [
      "\r",
      "┣████████▍           ┫ [42.34%, 94/222, 05:39/13:21, 3.17s/i] "
     ]
    },
    {
     "name": "stdout",
     "output_type": "stream",
     "text": [
      "R(18.415392)\n"
     ]
    },
    {
     "name": "stderr",
     "output_type": "stream",
     "text": [
      "\r",
      "┣████████▌           ┫ [42.79%, 95/222, 05:43/13:22, 4.20s/i] "
     ]
    },
    {
     "name": "stdout",
     "output_type": "stream",
     "text": [
      "R(8.843754)\n"
     ]
    },
    {
     "name": "stderr",
     "output_type": "stream",
     "text": [
      "\r",
      "┣████████▋           ┫ [43.24%, 96/222, 05:48/13:26, 5.17s/i] "
     ]
    },
    {
     "name": "stdout",
     "output_type": "stream",
     "text": [
      "R(0.91615987)\n"
     ]
    },
    {
     "name": "stderr",
     "output_type": "stream",
     "text": [
      "\r",
      "┣████████▋           ┫ [43.69%, 97/222, 05:51/13:24, 2.92s/i] "
     ]
    },
    {
     "name": "stdout",
     "output_type": "stream",
     "text": [
      "R(7.4392223)\n"
     ]
    },
    {
     "name": "stderr",
     "output_type": "stream",
     "text": [
      "\r",
      "┣████████▊           ┫ [44.14%, 98/222, 05:55/13:23, 3.20s/i] "
     ]
    },
    {
     "name": "stdout",
     "output_type": "stream",
     "text": [
      "R(0.6781877)\n"
     ]
    },
    {
     "name": "stderr",
     "output_type": "stream",
     "text": [
      "\r",
      "┣████████▉           ┫ [44.59%, 99/222, 05:58/13:23, 3.41s/i] "
     ]
    },
    {
     "name": "stdout",
     "output_type": "stream",
     "text": [
      "R(0.5540314)\n"
     ]
    },
    {
     "name": "stderr",
     "output_type": "stream",
     "text": [
      "\r",
      "┣█████████           ┫ [45.05%, 100/222, 06:02/13:24, 4.01s/i] "
     ]
    },
    {
     "name": "stdout",
     "output_type": "stream",
     "text": [
      "R(2.688526)\n"
     ]
    },
    {
     "name": "stderr",
     "output_type": "stream",
     "text": [
      "\r",
      "┣█████████           ┫ [45.50%, 101/222, 06:05/13:23, 3.15s/i] "
     ]
    },
    {
     "name": "stdout",
     "output_type": "stream",
     "text": [
      "R(1.9669653)\n"
     ]
    },
    {
     "name": "stderr",
     "output_type": "stream",
     "text": [
      "\r",
      "┣█████████▏          ┫ [45.95%, 102/222, 06:08/13:21, 2.96s/i] "
     ]
    },
    {
     "name": "stdout",
     "output_type": "stream",
     "text": [
      "R(26.294603)\n"
     ]
    },
    {
     "name": "stderr",
     "output_type": "stream",
     "text": [
      "\r",
      "┣█████████▎          ┫ [46.40%, 103/222, 06:14/13:25, 5.37s/i] "
     ]
    },
    {
     "name": "stdout",
     "output_type": "stream",
     "text": [
      "R(7.667959)\n"
     ]
    },
    {
     "name": "stderr",
     "output_type": "stream",
     "text": [
      "\r",
      "┣█████████▎          ┫ [46.85%, 104/222, 06:17/13:24, 3.22s/i] "
     ]
    },
    {
     "name": "stdout",
     "output_type": "stream",
     "text": [
      "R(1.3648149)\n"
     ]
    },
    {
     "name": "stderr",
     "output_type": "stream",
     "text": [
      "\r",
      "┣█████████▍          ┫ [47.30%, 105/222, 06:21/13:26, 4.56s/i] "
     ]
    },
    {
     "name": "stdout",
     "output_type": "stream",
     "text": [
      "R(2.0996387)\n"
     ]
    },
    {
     "name": "stderr",
     "output_type": "stream",
     "text": [
      "\r",
      "┣█████████▌          ┫ [47.75%, 106/222, 06:25/13:26, 3.40s/i] "
     ]
    },
    {
     "name": "stdout",
     "output_type": "stream",
     "text": [
      "R(0.9717691)\n"
     ]
    },
    {
     "name": "stderr",
     "output_type": "stream",
     "text": [
      "\r",
      "┣█████████▋          ┫ [48.20%, 107/222, 06:27/13:24, 2.75s/i] "
     ]
    },
    {
     "name": "stdout",
     "output_type": "stream",
     "text": [
      "R(8.746822)\n"
     ]
    },
    {
     "name": "stderr",
     "output_type": "stream",
     "text": [
      "\r",
      "┣█████████▋          ┫ [48.65%, 108/222, 06:31/13:24, 3.66s/i] "
     ]
    },
    {
     "name": "stdout",
     "output_type": "stream",
     "text": [
      "R(5.9710903)\n"
     ]
    },
    {
     "name": "stderr",
     "output_type": "stream",
     "text": [
      "\r",
      "┣█████████▊          ┫ [49.10%, 109/222, 06:36/13:26, 4.68s/i] "
     ]
    },
    {
     "name": "stdout",
     "output_type": "stream",
     "text": [
      "R(16.162613)\n"
     ]
    },
    {
     "name": "stderr",
     "output_type": "stream",
     "text": [
      "\r",
      "┣█████████▉          ┫ [49.55%, 110/222, 06:40/13:27, 3.89s/i] "
     ]
    },
    {
     "name": "stdout",
     "output_type": "stream",
     "text": [
      "R(0.7864616)\n"
     ]
    },
    {
     "name": "stderr",
     "output_type": "stream",
     "text": [
      "\r",
      "┣██████████          ┫ [50.00%, 111/222, 06:43/13:26, 3.13s/i] "
     ]
    },
    {
     "name": "stdout",
     "output_type": "stream",
     "text": [
      "R(1.8222753)\n"
     ]
    },
    {
     "name": "stderr",
     "output_type": "stream",
     "text": [
      "\r",
      "┣██████████          ┫ [50.45%, 112/222, 06:46/13:24, 2.98s/i] "
     ]
    },
    {
     "name": "stdout",
     "output_type": "stream",
     "text": [
      "R(7.6503773)\n"
     ]
    },
    {
     "name": "stderr",
     "output_type": "stream",
     "text": [
      "\r",
      "┣██████████▏         ┫ [50.90%, 113/222, 06:49/13:24, 3.43s/i] "
     ]
    },
    {
     "name": "stdout",
     "output_type": "stream",
     "text": [
      "R(8.302449)\n"
     ]
    },
    {
     "name": "stderr",
     "output_type": "stream",
     "text": [
      "\r",
      "┣██████████▎         ┫ [51.35%, 114/222, 06:54/13:26, 4.76s/i] "
     ]
    },
    {
     "name": "stdout",
     "output_type": "stream",
     "text": [
      "R(5.7467613)\n"
     ]
    },
    {
     "name": "stderr",
     "output_type": "stream",
     "text": [
      "\r",
      "┣██████████▎         ┫ [51.80%, 115/222, 06:57/13:26, 3.47s/i] "
     ]
    },
    {
     "name": "stdout",
     "output_type": "stream",
     "text": [
      "R(31.104681)\n"
     ]
    },
    {
     "name": "stderr",
     "output_type": "stream",
     "text": [
      "\r",
      "┣██████████▍         ┫ [52.25%, 116/222, 07:02/13:28, 4.69s/i] "
     ]
    },
    {
     "name": "stdout",
     "output_type": "stream",
     "text": [
      "R(8.683661)\n"
     ]
    },
    {
     "name": "stderr",
     "output_type": "stream",
     "text": [
      "\r",
      "┣██████████▌         ┫ [52.70%, 117/222, 07:05/13:27, 3.36s/i] "
     ]
    },
    {
     "name": "stdout",
     "output_type": "stream",
     "text": [
      "R(5.3616652)\n"
     ]
    },
    {
     "name": "stderr",
     "output_type": "stream",
     "text": [
      "\r",
      "┣██████████▋         ┫ [53.15%, 118/222, 07:10/13:28, 4.05s/i] "
     ]
    },
    {
     "name": "stdout",
     "output_type": "stream",
     "text": [
      "R(16.371872)\n"
     ]
    },
    {
     "name": "stderr",
     "output_type": "stream",
     "text": [
      "\r",
      "┣██████████▋         ┫ [53.60%, 119/222, 07:13/13:28, 3.78s/i] "
     ]
    },
    {
     "name": "stdout",
     "output_type": "stream",
     "text": [
      "R(1.4153124)\n"
     ]
    },
    {
     "name": "stderr",
     "output_type": "stream",
     "text": [
      "\r",
      "┣██████████▊         ┫ [54.05%, 120/222, 07:16/13:26, 2.56s/i] "
     ]
    },
    {
     "name": "stdout",
     "output_type": "stream",
     "text": [
      "R(4.420929)\n"
     ]
    },
    {
     "name": "stderr",
     "output_type": "stream",
     "text": [
      "\r",
      "┣██████████▉         ┫ [54.50%, 121/222, 07:19/13:25, 2.93s/i] "
     ]
    },
    {
     "name": "stdout",
     "output_type": "stream",
     "text": [
      "R(10.392676)\n"
     ]
    },
    {
     "name": "stderr",
     "output_type": "stream",
     "text": [
      "\r",
      "┣██████████▉         ┫ [54.95%, 122/222, 07:22/13:24, 3.16s/i] "
     ]
    },
    {
     "name": "stdout",
     "output_type": "stream",
     "text": [
      "R(4.0098753)\n"
     ]
    },
    {
     "name": "stderr",
     "output_type": "stream",
     "text": [
      "\r",
      "┣███████████         ┫ [55.41%, 123/222, 07:27/13:26, 4.78s/i] "
     ]
    },
    {
     "name": "stdout",
     "output_type": "stream",
     "text": [
      "R(2.9723198)\n"
     ]
    },
    {
     "name": "stderr",
     "output_type": "stream",
     "text": [
      "\r",
      "┣███████████▏        ┫ [55.86%, 124/222, 07:30/13:25, 3.01s/i] "
     ]
    },
    {
     "name": "stdout",
     "output_type": "stream",
     "text": [
      "R(2.4301171)\n"
     ]
    },
    {
     "name": "stderr",
     "output_type": "stream",
     "text": [
      "\r",
      "┣███████████▎        ┫ [56.31%, 125/222, 07:33/13:24, 2.97s/i] "
     ]
    },
    {
     "name": "stdout",
     "output_type": "stream",
     "text": [
      "R(0.763245)\n"
     ]
    },
    {
     "name": "stderr",
     "output_type": "stream",
     "text": [
      "\r",
      "┣███████████▎        ┫ [56.76%, 126/222, 07:36/13:23, 2.92s/i] "
     ]
    },
    {
     "name": "stdout",
     "output_type": "stream",
     "text": [
      "R(1.4383401)\n"
     ]
    },
    {
     "name": "stderr",
     "output_type": "stream",
     "text": [
      "\r",
      "┣███████████▍        ┫ [57.21%, 127/222, 07:40/13:24, 4.23s/i] "
     ]
    },
    {
     "name": "stdout",
     "output_type": "stream",
     "text": [
      "R(0.862844)\n"
     ]
    },
    {
     "name": "stderr",
     "output_type": "stream",
     "text": [
      "\r",
      "┣███████████▌        ┫ [57.66%, 128/222, 07:43/13:23, 2.98s/i] "
     ]
    },
    {
     "name": "stdout",
     "output_type": "stream",
     "text": [
      "R(7.444608)\n"
     ]
    },
    {
     "name": "stderr",
     "output_type": "stream",
     "text": [
      "\r",
      "┣███████████▌        ┫ [58.11%, 129/222, 07:46/13:23, 3.51s/i] "
     ]
    },
    {
     "name": "stdout",
     "output_type": "stream",
     "text": [
      "R(1.2530494)\n"
     ]
    },
    {
     "name": "stderr",
     "output_type": "stream",
     "text": [
      "\r",
      "┣███████████▋        ┫ [58.56%, 130/222, 07:49/13:22, 3.07s/i] "
     ]
    },
    {
     "name": "stdout",
     "output_type": "stream",
     "text": [
      "R(3.8751593)\n"
     ]
    },
    {
     "name": "stderr",
     "output_type": "stream",
     "text": [
      "\r",
      "┣███████████▊        ┫ [59.01%, 131/222, 07:53/13:21, 3.21s/i] "
     ]
    },
    {
     "name": "stdout",
     "output_type": "stream",
     "text": [
      "R(4.432425)\n"
     ]
    },
    {
     "name": "stderr",
     "output_type": "stream",
     "text": [
      "\r",
      "┣███████████▉        ┫ [59.46%, 132/222, 07:58/13:23, 4.94s/i] "
     ]
    },
    {
     "name": "stdout",
     "output_type": "stream",
     "text": [
      "R(17.997856)\n"
     ]
    },
    {
     "name": "stderr",
     "output_type": "stream",
     "text": [
      "\r",
      "┣███████████▉        ┫ [59.91%, 133/222, 08:02/13:24, 3.90s/i] "
     ]
    },
    {
     "name": "stdout",
     "output_type": "stream",
     "text": [
      "R(0.7693332)\n"
     ]
    },
    {
     "name": "stderr",
     "output_type": "stream",
     "text": [
      "\r",
      "┣████████████        ┫ [60.36%, 134/222, 08:04/13:22, 2.62s/i] "
     ]
    },
    {
     "name": "stdout",
     "output_type": "stream",
     "text": [
      "R(0.9041305)\n"
     ]
    },
    {
     "name": "stderr",
     "output_type": "stream",
     "text": [
      "\r",
      "┣████████████▏       ┫ [60.81%, 135/222, 08:07/13:21, 3.00s/i] "
     ]
    },
    {
     "name": "stdout",
     "output_type": "stream",
     "text": [
      "R(5.225071)\n"
     ]
    },
    {
     "name": "stderr",
     "output_type": "stream",
     "text": [
      "\r",
      "┣████████████▎       ┫ [61.26%, 136/222, 08:11/13:21, 3.63s/i] "
     ]
    },
    {
     "name": "stdout",
     "output_type": "stream",
     "text": [
      "R(4.5010734)\n"
     ]
    },
    {
     "name": "stderr",
     "output_type": "stream",
     "text": [
      "\r",
      "┣████████████▎       ┫ [61.71%, 137/222, 08:16/13:23, 4.78s/i] "
     ]
    },
    {
     "name": "stdout",
     "output_type": "stream",
     "text": [
      "R(1.4928867)\n"
     ]
    },
    {
     "name": "stderr",
     "output_type": "stream",
     "text": [
      "\r",
      "┣████████████▍       ┫ [62.16%, 138/222, 08:18/13:22, 2.79s/i] "
     ]
    },
    {
     "name": "stdout",
     "output_type": "stream",
     "text": [
      "R(0.52506)\n"
     ]
    },
    {
     "name": "stderr",
     "output_type": "stream",
     "text": [
      "\r",
      "┣████████████▌       ┫ [62.61%, 139/222, 08:21/13:20, 2.77s/i] "
     ]
    },
    {
     "name": "stdout",
     "output_type": "stream",
     "text": [
      "R(2.5870695)\n"
     ]
    },
    {
     "name": "stderr",
     "output_type": "stream",
     "text": [
      "\r",
      "┣████████████▌       ┫ [63.06%, 140/222, 08:24/13:19, 2.98s/i] "
     ]
    },
    {
     "name": "stdout",
     "output_type": "stream",
     "text": [
      "R(0.4394365)\n"
     ]
    },
    {
     "name": "stderr",
     "output_type": "stream",
     "text": [
      "\r",
      "┣████████████▋       ┫ [63.51%, 141/222, 08:27/13:18, 2.99s/i] "
     ]
    },
    {
     "name": "stdout",
     "output_type": "stream",
     "text": [
      "R(0.44177562)\n"
     ]
    },
    {
     "name": "stderr",
     "output_type": "stream",
     "text": [
      "\r",
      "┣████████████▊       ┫ [63.96%, 142/222, 08:31/13:19, 4.28s/i] "
     ]
    },
    {
     "name": "stdout",
     "output_type": "stream",
     "text": [
      "R(12.72112)\n"
     ]
    },
    {
     "name": "stderr",
     "output_type": "stream",
     "text": [
      "\r",
      "┣████████████▉       ┫ [64.41%, 143/222, 08:35/13:20, 3.87s/i] "
     ]
    },
    {
     "name": "stdout",
     "output_type": "stream",
     "text": [
      "R(3.9547198)\n"
     ]
    },
    {
     "name": "stderr",
     "output_type": "stream",
     "text": [
      "\r",
      "┣████████████▉       ┫ [64.86%, 144/222, 08:38/13:19, 3.24s/i] "
     ]
    },
    {
     "name": "stdout",
     "output_type": "stream",
     "text": [
      "R(4.9827023)\n"
     ]
    },
    {
     "name": "stderr",
     "output_type": "stream",
     "text": [
      "\r",
      "┣█████████████       ┫ [65.32%, 145/222, 08:42/13:20, 3.76s/i] "
     ]
    },
    {
     "name": "stdout",
     "output_type": "stream",
     "text": [
      "R(3.2553494)\n"
     ]
    },
    {
     "name": "stderr",
     "output_type": "stream",
     "text": [
      "\r",
      "┣█████████████▏      ┫ [65.77%, 146/222, 08:46/13:21, 4.28s/i] "
     ]
    },
    {
     "name": "stdout",
     "output_type": "stream",
     "text": [
      "R(4.889754)\n"
     ]
    },
    {
     "name": "stderr",
     "output_type": "stream",
     "text": [
      "\r",
      "┣█████████████▏      ┫ [66.22%, 147/222, 08:50/13:20, 3.28s/i] "
     ]
    },
    {
     "name": "stdout",
     "output_type": "stream",
     "text": [
      "R(3.4647062)\n"
     ]
    },
    {
     "name": "stderr",
     "output_type": "stream",
     "text": [
      "\r",
      "┣█████████████▎      ┫ [66.67%, 148/222, 08:53/13:20, 3.25s/i] "
     ]
    },
    {
     "name": "stdout",
     "output_type": "stream",
     "text": [
      "R(78.33429)\n"
     ]
    },
    {
     "name": "stderr",
     "output_type": "stream",
     "text": [
      "\r",
      "┣█████████████▍      ┫ [67.12%, 149/222, 08:59/13:23, 5.98s/i] "
     ]
    },
    {
     "name": "stdout",
     "output_type": "stream",
     "text": [
      "R(0.6603902)\n"
     ]
    },
    {
     "name": "stderr",
     "output_type": "stream",
     "text": [
      "\r",
      "┣█████████████▌      ┫ [67.57%, 150/222, 09:02/13:21, 2.52s/i] "
     ]
    },
    {
     "name": "stdout",
     "output_type": "stream",
     "text": [
      "R(5.6820292)\n"
     ]
    },
    {
     "name": "stderr",
     "output_type": "stream",
     "text": [
      "\r",
      "┣█████████████▌      ┫ [68.02%, 151/222, 09:06/13:23, 4.83s/i] "
     ]
    },
    {
     "name": "stdout",
     "output_type": "stream",
     "text": [
      "R(3.8103282)\n"
     ]
    },
    {
     "name": "stderr",
     "output_type": "stream",
     "text": [
      "\r",
      "┣█████████████▋      ┫ [68.47%, 152/222, 09:10/13:23, 3.17s/i] "
     ]
    },
    {
     "name": "stdout",
     "output_type": "stream",
     "text": [
      "R(1.1384681)\n"
     ]
    },
    {
     "name": "stderr",
     "output_type": "stream",
     "text": [
      "\r",
      "┣█████████████▊      ┫ [68.92%, 153/222, 09:13/13:22, 3.11s/i] "
     ]
    },
    {
     "name": "stdout",
     "output_type": "stream",
     "text": [
      "R(1.265501)\n"
     ]
    },
    {
     "name": "stderr",
     "output_type": "stream",
     "text": [
      "\r",
      "┣█████████████▊      ┫ [69.37%, 154/222, 09:16/13:21, 3.03s/i] "
     ]
    },
    {
     "name": "stdout",
     "output_type": "stream",
     "text": [
      "R(3.0995762)\n"
     ]
    },
    {
     "name": "stderr",
     "output_type": "stream",
     "text": [
      "\r",
      "┣█████████████▉      ┫ [69.82%, 155/222, 09:20/13:22, 4.39s/i] "
     ]
    },
    {
     "name": "stdout",
     "output_type": "stream",
     "text": [
      "R(0.949914)\n"
     ]
    },
    {
     "name": "stderr",
     "output_type": "stream",
     "text": [
      "\r",
      "┣██████████████      ┫ [70.27%, 156/222, 09:23/13:21, 2.88s/i] "
     ]
    },
    {
     "name": "stdout",
     "output_type": "stream",
     "text": [
      "R(15.172956)\n"
     ]
    },
    {
     "name": "stderr",
     "output_type": "stream",
     "text": [
      "\r",
      "┣██████████████▏     ┫ [70.72%, 157/222, 09:27/13:22, 4.30s/i] "
     ]
    },
    {
     "name": "stdout",
     "output_type": "stream",
     "text": [
      "R(12.653741)\n"
     ]
    },
    {
     "name": "stderr",
     "output_type": "stream",
     "text": [
      "\r",
      "┣██████████████▏     ┫ [71.17%, 158/222, 09:31/13:22, 3.42s/i] "
     ]
    },
    {
     "name": "stdout",
     "output_type": "stream",
     "text": [
      "R(4.042969)\n"
     ]
    },
    {
     "name": "stderr",
     "output_type": "stream",
     "text": [
      "\r",
      "┣██████████████▎     ┫ [71.62%, 159/222, 09:34/13:21, 2.96s/i] "
     ]
    },
    {
     "name": "stdout",
     "output_type": "stream",
     "text": [
      "R(2.558912)\n"
     ]
    },
    {
     "name": "stderr",
     "output_type": "stream",
     "text": [
      "\r",
      "┣██████████████▍     ┫ [72.07%, 160/222, 09:38/13:22, 4.69s/i] "
     ]
    },
    {
     "name": "stdout",
     "output_type": "stream",
     "text": [
      "R(2.639825)\n"
     ]
    },
    {
     "name": "stderr",
     "output_type": "stream",
     "text": [
      "\r",
      "┣██████████████▌     ┫ [72.52%, 161/222, 09:41/13:22, 3.14s/i] "
     ]
    },
    {
     "name": "stdout",
     "output_type": "stream",
     "text": [
      "R(1.2012178)\n"
     ]
    },
    {
     "name": "stderr",
     "output_type": "stream",
     "text": [
      "\r",
      "┣██████████████▌     ┫ [72.97%, 162/222, 09:44/13:21, 3.03s/i] "
     ]
    },
    {
     "name": "stdout",
     "output_type": "stream",
     "text": [
      "R(1.6231673)\n"
     ]
    },
    {
     "name": "stderr",
     "output_type": "stream",
     "text": [
      "\r",
      "┣██████████████▋     ┫ [73.42%, 163/222, 09:47/13:20, 2.96s/i] "
     ]
    },
    {
     "name": "stdout",
     "output_type": "stream",
     "text": [
      "R(4.219023)\n"
     ]
    },
    {
     "name": "stderr",
     "output_type": "stream",
     "text": [
      "\r",
      "┣██████████████▊     ┫ [73.87%, 164/222, 09:52/13:21, 4.49s/i] "
     ]
    },
    {
     "name": "stdout",
     "output_type": "stream",
     "text": [
      "R(0.63914025)\n"
     ]
    },
    {
     "name": "stderr",
     "output_type": "stream",
     "text": [
      "\r",
      "┣██████████████▊     ┫ [74.32%, 165/222, 09:55/13:20, 2.87s/i] "
     ]
    },
    {
     "name": "stdout",
     "output_type": "stream",
     "text": [
      "R(4.74559)\n"
     ]
    },
    {
     "name": "stderr",
     "output_type": "stream",
     "text": [
      "\r",
      "┣██████████████▉     ┫ [74.77%, 166/222, 09:58/13:20, 3.07s/i] "
     ]
    },
    {
     "name": "stdout",
     "output_type": "stream",
     "text": [
      "R(0.9130587)\n"
     ]
    },
    {
     "name": "stderr",
     "output_type": "stream",
     "text": [
      "\r",
      "┣███████████████     ┫ [75.23%, 167/222, 10:01/13:19, 2.97s/i] "
     ]
    },
    {
     "name": "stdout",
     "output_type": "stream",
     "text": [
      "R(0.31715962)\n"
     ]
    },
    {
     "name": "stderr",
     "output_type": "stream",
     "text": [
      "\r",
      "┣███████████████▏    ┫ [75.68%, 168/222, 10:04/13:18, 2.74s/i] "
     ]
    },
    {
     "name": "stdout",
     "output_type": "stream",
     "text": [
      "R(9.680981)\n"
     ]
    },
    {
     "name": "stderr",
     "output_type": "stream",
     "text": [
      "\r",
      "┣███████████████▏    ┫ [76.13%, 169/222, 10:09/13:20, 5.07s/i] "
     ]
    },
    {
     "name": "stdout",
     "output_type": "stream",
     "text": [
      "R(8.543168)\n"
     ]
    },
    {
     "name": "stderr",
     "output_type": "stream",
     "text": [
      "\r",
      "┣███████████████▎    ┫ [76.58%, 170/222, 10:12/13:19, 3.48s/i] "
     ]
    },
    {
     "name": "stdout",
     "output_type": "stream",
     "text": [
      "R(1.8794916)\n"
     ]
    },
    {
     "name": "stderr",
     "output_type": "stream",
     "text": [
      "\r",
      "┣███████████████▍    ┫ [77.03%, 171/222, 10:15/13:18, 2.79s/i] "
     ]
    },
    {
     "name": "stdout",
     "output_type": "stream",
     "text": [
      "R(0.57075727)\n"
     ]
    },
    {
     "name": "stderr",
     "output_type": "stream",
     "text": [
      "\r",
      "┣███████████████▍    ┫ [77.48%, 172/222, 10:18/13:18, 3.18s/i] "
     ]
    },
    {
     "name": "stdout",
     "output_type": "stream",
     "text": [
      "R(1.8766165)\n"
     ]
    },
    {
     "name": "stderr",
     "output_type": "stream",
     "text": [
      "\r",
      "┣███████████████▌    ┫ [77.93%, 173/222, 10:22/13:19, 4.33s/i] "
     ]
    },
    {
     "name": "stdout",
     "output_type": "stream",
     "text": [
      "R(0.36885318)\n"
     ]
    },
    {
     "name": "stderr",
     "output_type": "stream",
     "text": [
      "\r",
      "┣███████████████▋    ┫ [78.38%, 174/222, 10:25/13:18, 2.81s/i] "
     ]
    },
    {
     "name": "stdout",
     "output_type": "stream",
     "text": [
      "R(3.0797791)\n"
     ]
    },
    {
     "name": "stderr",
     "output_type": "stream",
     "text": [
      "\r",
      "┣███████████████▊    ┫ [78.83%, 175/222, 10:28/13:17, 3.20s/i] "
     ]
    },
    {
     "name": "stdout",
     "output_type": "stream",
     "text": [
      "R(0.7514238)\n"
     ]
    },
    {
     "name": "stderr",
     "output_type": "stream",
     "text": [
      "\r",
      "┣███████████████▊    ┫ [79.28%, 176/222, 10:31/13:16, 2.83s/i] "
     ]
    },
    {
     "name": "stdout",
     "output_type": "stream",
     "text": [
      "R(1.2463543)\n"
     ]
    },
    {
     "name": "stderr",
     "output_type": "stream",
     "text": [
      "\r",
      "┣███████████████▉    ┫ [79.73%, 177/222, 10:34/13:15, 2.81s/i] "
     ]
    },
    {
     "name": "stdout",
     "output_type": "stream",
     "text": [
      "R(4.929135)\n"
     ]
    },
    {
     "name": "stderr",
     "output_type": "stream",
     "text": [
      "\r",
      "┣████████████████    ┫ [80.18%, 178/222, 10:39/13:17, 4.99s/i] "
     ]
    },
    {
     "name": "stdout",
     "output_type": "stream",
     "text": [
      "R(1.9765081)\n"
     ]
    },
    {
     "name": "stderr",
     "output_type": "stream",
     "text": [
      "\r",
      "┣████████████████▏   ┫ [80.63%, 179/222, 10:42/13:16, 2.86s/i] "
     ]
    },
    {
     "name": "stdout",
     "output_type": "stream",
     "text": [
      "R(9.625875)\n"
     ]
    },
    {
     "name": "stderr",
     "output_type": "stream",
     "text": [
      "\r",
      "┣████████████████▏   ┫ [81.08%, 180/222, 10:45/13:16, 3.43s/i] "
     ]
    },
    {
     "name": "stdout",
     "output_type": "stream",
     "text": [
      "R(7.8313518)\n"
     ]
    },
    {
     "name": "stderr",
     "output_type": "stream",
     "text": [
      "\r",
      "┣████████████████▎   ┫ [81.53%, 181/222, 10:49/13:16, 3.45s/i] "
     ]
    },
    {
     "name": "stdout",
     "output_type": "stream",
     "text": [
      "R(10.115265)\n"
     ]
    },
    {
     "name": "stderr",
     "output_type": "stream",
     "text": [
      "\r",
      "┣████████████████▍   ┫ [81.98%, 182/222, 10:54/13:17, 4.68s/i] "
     ]
    },
    {
     "name": "stdout",
     "output_type": "stream",
     "text": [
      "R(1.9654251)\n"
     ]
    },
    {
     "name": "stderr",
     "output_type": "stream",
     "text": [
      "\r",
      "┣████████████████▍   ┫ [82.43%, 183/222, 10:57/13:16, 3.01s/i] "
     ]
    },
    {
     "name": "stdout",
     "output_type": "stream",
     "text": [
      "R(0.95018995)\n"
     ]
    },
    {
     "name": "stderr",
     "output_type": "stream",
     "text": [
      "\r",
      "┣████████████████▌   ┫ [82.88%, 184/222, 11:00/13:16, 3.07s/i] "
     ]
    },
    {
     "name": "stdout",
     "output_type": "stream",
     "text": [
      "R(0.6994435)\n"
     ]
    },
    {
     "name": "stderr",
     "output_type": "stream",
     "text": [
      "\r",
      "┣████████████████▋   ┫ [83.33%, 185/222, 11:03/13:15, 3.09s/i] "
     ]
    },
    {
     "name": "stdout",
     "output_type": "stream",
     "text": [
      "R(2.2728906)\n"
     ]
    },
    {
     "name": "stderr",
     "output_type": "stream",
     "text": [
      "\r",
      "┣████████████████▊   ┫ [83.78%, 186/222, 11:06/13:15, 3.29s/i] "
     ]
    },
    {
     "name": "stdout",
     "output_type": "stream",
     "text": [
      "R(20.036)\n"
     ]
    },
    {
     "name": "stderr",
     "output_type": "stream",
     "text": [
      "\r",
      "┣████████████████▊   ┫ [84.23%, 187/222, 11:12/13:17, 5.68s/i] "
     ]
    },
    {
     "name": "stdout",
     "output_type": "stream",
     "text": [
      "R(1.0763685)\n"
     ]
    },
    {
     "name": "stderr",
     "output_type": "stream",
     "text": [
      "\r",
      "┣████████████████▉   ┫ [84.68%, 188/222, 11:15/13:17, 3.04s/i] "
     ]
    },
    {
     "name": "stdout",
     "output_type": "stream",
     "text": [
      "R(0.6952862)\n"
     ]
    },
    {
     "name": "stderr",
     "output_type": "stream",
     "text": [
      "\r",
      "┣█████████████████   ┫ [85.14%, 189/222, 11:17/13:16, 2.74s/i] "
     ]
    },
    {
     "name": "stdout",
     "output_type": "stream",
     "text": [
      "R(6.18446)\n"
     ]
    },
    {
     "name": "stderr",
     "output_type": "stream",
     "text": [
      "\r",
      "┣█████████████████   ┫ [85.59%, 190/222, 11:21/13:15, 3.27s/i] "
     ]
    },
    {
     "name": "stdout",
     "output_type": "stream",
     "text": [
      "R(4.2691946)\n"
     ]
    },
    {
     "name": "stderr",
     "output_type": "stream",
     "text": [
      "\r",
      "┣█████████████████▏  ┫ [86.04%, 191/222, 11:25/13:16, 4.21s/i] "
     ]
    },
    {
     "name": "stdout",
     "output_type": "stream",
     "text": [
      "R(27.541708)\n"
     ]
    },
    {
     "name": "stderr",
     "output_type": "stream",
     "text": [
      "\r",
      "┣█████████████████▎  ┫ [86.49%, 192/222, 11:29/13:16, 3.94s/i] "
     ]
    },
    {
     "name": "stdout",
     "output_type": "stream",
     "text": [
      "R(1.7842696)\n"
     ]
    },
    {
     "name": "stderr",
     "output_type": "stream",
     "text": [
      "\r",
      "┣█████████████████▍  ┫ [86.94%, 193/222, 11:32/13:16, 2.78s/i] "
     ]
    },
    {
     "name": "stdout",
     "output_type": "stream",
     "text": [
      "R(0.58556604)\n"
     ]
    },
    {
     "name": "stderr",
     "output_type": "stream",
     "text": [
      "\r",
      "┣█████████████████▍  ┫ [87.39%, 194/222, 11:35/13:15, 2.87s/i] "
     ]
    },
    {
     "name": "stdout",
     "output_type": "stream",
     "text": [
      "R(1.6657579)\n"
     ]
    },
    {
     "name": "stderr",
     "output_type": "stream",
     "text": [
      "\r",
      "┣█████████████████▌  ┫ [87.84%, 195/222, 11:38/13:14, 3.11s/i] "
     ]
    },
    {
     "name": "stdout",
     "output_type": "stream",
     "text": [
      "R(10.903946)\n"
     ]
    },
    {
     "name": "stderr",
     "output_type": "stream",
     "text": [
      "\r",
      "┣█████████████████▋  ┫ [88.29%, 196/222, 11:41/13:14, 3.14s/i] "
     ]
    },
    {
     "name": "stdout",
     "output_type": "stream",
     "text": [
      "R(1.4419689)\n"
     ]
    },
    {
     "name": "stderr",
     "output_type": "stream",
     "text": [
      "\r",
      "┣█████████████████▋  ┫ [88.74%, 197/222, 11:45/13:15, 4.65s/i] "
     ]
    },
    {
     "name": "stdout",
     "output_type": "stream",
     "text": [
      "R(10.895969)\n"
     ]
    },
    {
     "name": "stderr",
     "output_type": "stream",
     "text": [
      "\r",
      "┣█████████████████▊  ┫ [89.19%, 198/222, 11:49/13:15, 3.56s/i] "
     ]
    },
    {
     "name": "stdout",
     "output_type": "stream",
     "text": [
      "R(2.92244)\n"
     ]
    },
    {
     "name": "stderr",
     "output_type": "stream",
     "text": [
      "\r",
      "┣█████████████████▉  ┫ [89.64%, 199/222, 11:52/13:14, 2.95s/i] "
     ]
    },
    {
     "name": "stdout",
     "output_type": "stream",
     "text": [
      "R(0.53312695)\n"
     ]
    },
    {
     "name": "stderr",
     "output_type": "stream",
     "text": [
      "\r",
      "┣██████████████████  ┫ [90.09%, 200/222, 11:55/13:13, 2.76s/i] "
     ]
    },
    {
     "name": "stdout",
     "output_type": "stream",
     "text": [
      "R(1.180669)\n"
     ]
    },
    {
     "name": "stderr",
     "output_type": "stream",
     "text": [
      "\r",
      "┣██████████████████  ┫ [90.54%, 201/222, 11:59/13:14, 4.22s/i] "
     ]
    },
    {
     "name": "stdout",
     "output_type": "stream",
     "text": [
      "R(53.86271)\n"
     ]
    },
    {
     "name": "stderr",
     "output_type": "stream",
     "text": [
      "\r",
      "┣██████████████████▏ ┫ [90.99%, 202/222, 12:05/13:16, 5.68s/i] "
     ]
    },
    {
     "name": "stdout",
     "output_type": "stream",
     "text": [
      "R(0.6506629)\n"
     ]
    },
    {
     "name": "stderr",
     "output_type": "stream",
     "text": [
      "\r",
      "┣██████████████████▎ ┫ [91.44%, 203/222, 12:08/13:16, 2.96s/i] "
     ]
    },
    {
     "name": "stdout",
     "output_type": "stream",
     "text": [
      "R(1.8768018)\n"
     ]
    },
    {
     "name": "stderr",
     "output_type": "stream",
     "text": [
      "\r",
      "┣██████████████████▍ ┫ [91.89%, 204/222, 12:11/13:15, 3.14s/i] "
     ]
    },
    {
     "name": "stdout",
     "output_type": "stream",
     "text": [
      "R(17.765081)\n"
     ]
    },
    {
     "name": "stderr",
     "output_type": "stream",
     "text": [
      "\r",
      "┣██████████████████▍ ┫ [92.34%, 205/222, 12:15/13:16, 4.43s/i] "
     ]
    },
    {
     "name": "stdout",
     "output_type": "stream",
     "text": [
      "R(17.643726)\n"
     ]
    },
    {
     "name": "stderr",
     "output_type": "stream",
     "text": [
      "\r",
      "┣██████████████████▌ ┫ [92.79%, 206/222, 12:20/13:18, 4.92s/i] "
     ]
    },
    {
     "name": "stdout",
     "output_type": "stream",
     "text": [
      "R(2.893954)\n"
     ]
    },
    {
     "name": "stderr",
     "output_type": "stream",
     "text": [
      "\r",
      "┣██████████████████▋ ┫ [93.24%, 207/222, 12:23/13:17, 3.15s/i] "
     ]
    },
    {
     "name": "stdout",
     "output_type": "stream",
     "text": [
      "R(4.0826435)\n"
     ]
    },
    {
     "name": "stderr",
     "output_type": "stream",
     "text": [
      "\r",
      "┣██████████████████▋ ┫ [93.69%, 208/222, 12:26/13:17, 3.22s/i] "
     ]
    },
    {
     "name": "stdout",
     "output_type": "stream",
     "text": [
      "R(1.2588096)\n"
     ]
    },
    {
     "name": "stderr",
     "output_type": "stream",
     "text": [
      "\r",
      "┣██████████████████▊ ┫ [94.14%, 209/222, 12:30/13:16, 3.14s/i] "
     ]
    },
    {
     "name": "stdout",
     "output_type": "stream",
     "text": [
      "R(1.8553914)\n"
     ]
    },
    {
     "name": "stderr",
     "output_type": "stream",
     "text": [
      "\r",
      "┣██████████████████▉ ┫ [94.59%, 210/222, 12:34/13:17, 4.35s/i] "
     ]
    },
    {
     "name": "stdout",
     "output_type": "stream",
     "text": [
      "R(12.8976345)\n"
     ]
    },
    {
     "name": "stderr",
     "output_type": "stream",
     "text": [
      "\r",
      "┣███████████████████ ┫ [95.05%, 211/222, 12:38/13:17, 3.70s/i] "
     ]
    },
    {
     "name": "stdout",
     "output_type": "stream",
     "text": [
      "R(1.139076)\n"
     ]
    },
    {
     "name": "stderr",
     "output_type": "stream",
     "text": [
      "\r",
      "┣███████████████████ ┫ [95.50%, 212/222, 12:40/13:16, 2.76s/i] "
     ]
    },
    {
     "name": "stdout",
     "output_type": "stream",
     "text": [
      "R(3.0681713)\n"
     ]
    },
    {
     "name": "stderr",
     "output_type": "stream",
     "text": [
      "\r",
      "┣███████████████████▏┫ [95.95%, 213/222, 12:43/13:16, 3.08s/i] "
     ]
    },
    {
     "name": "stdout",
     "output_type": "stream",
     "text": [
      "R(0.8184222)\n"
     ]
    },
    {
     "name": "stderr",
     "output_type": "stream",
     "text": [
      "\r",
      "┣███████████████████▎┫ [96.40%, 214/222, 12:47/13:15, 3.20s/i] "
     ]
    },
    {
     "name": "stdout",
     "output_type": "stream",
     "text": [
      "R(7.284146)\n"
     ]
    },
    {
     "name": "stderr",
     "output_type": "stream",
     "text": [
      "\r",
      "┣███████████████████▎┫ [96.85%, 215/222, 12:52/13:17, 4.86s/i] "
     ]
    },
    {
     "name": "stdout",
     "output_type": "stream",
     "text": [
      "R(13.075557)\n"
     ]
    },
    {
     "name": "stderr",
     "output_type": "stream",
     "text": [
      "\r",
      "┣███████████████████▍┫ [97.30%, 216/222, 12:55/13:17, 3.56s/i] "
     ]
    },
    {
     "name": "stdout",
     "output_type": "stream",
     "text": [
      "R(1.3696116)\n"
     ]
    },
    {
     "name": "stderr",
     "output_type": "stream",
     "text": [
      "\r",
      "┣███████████████████▌┫ [97.75%, 217/222, 12:58/13:16, 3.12s/i] "
     ]
    },
    {
     "name": "stdout",
     "output_type": "stream",
     "text": [
      "R(10.846584)\n"
     ]
    },
    {
     "name": "stderr",
     "output_type": "stream",
     "text": [
      "\r",
      "┣███████████████████▋┫ [98.20%, 218/222, 13:02/13:16, 3.58s/i] "
     ]
    },
    {
     "name": "stdout",
     "output_type": "stream",
     "text": [
      "R(4.791433)\n"
     ]
    },
    {
     "name": "stderr",
     "output_type": "stream",
     "text": [
      "\r",
      "┣███████████████████▋┫ [98.65%, 219/222, 13:06/13:17, 4.64s/i] "
     ]
    },
    {
     "name": "stdout",
     "output_type": "stream",
     "text": [
      "R(1.7216746)\n"
     ]
    },
    {
     "name": "stderr",
     "output_type": "stream",
     "text": [
      "\r",
      "┣███████████████████▊┫ [99.10%, 220/222, 13:09/13:17, 2.94s/i] "
     ]
    },
    {
     "name": "stdout",
     "output_type": "stream",
     "text": [
      "R(3.1986656)\n"
     ]
    },
    {
     "name": "stderr",
     "output_type": "stream",
     "text": [
      "\r",
      "┣███████████████████▉┫ [99.55%, 221/222, 13:13/13:16, 3.26s/i] "
     ]
    },
    {
     "name": "stdout",
     "output_type": "stream",
     "text": [
      "R(3.1743896)\n"
     ]
    },
    {
     "name": "stderr",
     "output_type": "stream",
     "text": [
      "┣████████████████████┫ [100.00%, 222/222, 13:16/13:16, 3.59s/i] \n"
     ]
    },
    {
     "name": "stdout",
     "output_type": "stream",
     "text": [
      "R(0.6077423)\n"
     ]
    },
    {
     "name": "stderr",
     "output_type": "stream",
     "text": [
      "\r",
      "┣                    ┫ [0.45%, 1/222, 00:03/10:26, 2.82s/i] "
     ]
    },
    {
     "name": "stdout",
     "output_type": "stream",
     "text": [
      "R(2.4904315)\n"
     ]
    },
    {
     "name": "stderr",
     "output_type": "stream",
     "text": [
      "\r",
      "┣▏                   ┫ [0.90%, 2/222, 00:07/13:16, 4.35s/i] "
     ]
    },
    {
     "name": "stdout",
     "output_type": "stream",
     "text": [
      "R(2.4226758)\n"
     ]
    },
    {
     "name": "stderr",
     "output_type": "stream",
     "text": [
      "\r",
      "┣▎                   ┫ [1.35%, 3/222, 00:10/12:36, 3.05s/i] "
     ]
    },
    {
     "name": "stdout",
     "output_type": "stream",
     "text": [
      "R(4.2311454)\n"
     ]
    },
    {
     "name": "stderr",
     "output_type": "stream",
     "text": [
      "\r",
      "┣▎                   ┫ [1.80%, 4/222, 00:13/12:13, 2.99s/i] "
     ]
    },
    {
     "name": "stdout",
     "output_type": "stream",
     "text": [
      "R(4.316476)\n"
     ]
    },
    {
     "name": "stderr",
     "output_type": "stream",
     "text": [
      "\r",
      "┣▍                   ┫ [2.25%, 5/222, 00:16/12:12, 3.28s/i] "
     ]
    },
    {
     "name": "stdout",
     "output_type": "stream",
     "text": [
      "R(2.8571908)\n"
     ]
    },
    {
     "name": "stderr",
     "output_type": "stream",
     "text": [
      "\r",
      "┣▌                   ┫ [2.70%, 6/222, 00:21/12:54, 4.45s/i] "
     ]
    },
    {
     "name": "stdout",
     "output_type": "stream",
     "text": [
      "R(7.254677)\n"
     ]
    },
    {
     "name": "stderr",
     "output_type": "stream",
     "text": [
      "\r",
      "┣▋                   ┫ [3.15%, 7/222, 00:24/12:53, 3.45s/i] "
     ]
    },
    {
     "name": "stdout",
     "output_type": "stream",
     "text": [
      "R(3.2690403)\n"
     ]
    },
    {
     "name": "stderr",
     "output_type": "stream",
     "text": [
      "\r",
      "┣▋                   ┫ [3.60%, 8/222, 00:27/12:41, 3.05s/i] "
     ]
    },
    {
     "name": "stdout",
     "output_type": "stream",
     "text": [
      "R(23.539705)\n"
     ]
    },
    {
     "name": "stderr",
     "output_type": "stream",
     "text": [
      "\r",
      "┣▊                   ┫ [4.05%, 9/222, 00:32/13:10, 4.60s/i] "
     ]
    },
    {
     "name": "stdout",
     "output_type": "stream",
     "text": [
      "R(1.4018644)\n"
     ]
    },
    {
     "name": "stderr",
     "output_type": "stream",
     "text": [
      "\r",
      "┣▉                   ┫ [4.50%, 10/222, 00:35/12:54, 2.84s/i] "
     ]
    },
    {
     "name": "stdout",
     "output_type": "stream",
     "text": [
      "R(1.9562721)\n"
     ]
    },
    {
     "name": "stderr",
     "output_type": "stream",
     "text": [
      "\r",
      "┣▉                   ┫ [4.95%, 11/222, 00:39/13:14, 4.49s/i] "
     ]
    },
    {
     "name": "stdout",
     "output_type": "stream",
     "text": [
      "R(2.4948428)\n"
     ]
    },
    {
     "name": "stderr",
     "output_type": "stream",
     "text": [
      "\r",
      "┣█                   ┫ [5.41%, 12/222, 00:43/13:12, 3.43s/i] "
     ]
    },
    {
     "name": "stdout",
     "output_type": "stream",
     "text": [
      "R(3.6460066)\n"
     ]
    },
    {
     "name": "stderr",
     "output_type": "stream",
     "text": [
      "\r",
      "┣█▏                  ┫ [5.86%, 13/222, 00:46/13:06, 3.25s/i] "
     ]
    },
    {
     "name": "stdout",
     "output_type": "stream",
     "text": [
      "R(5.827114)\n"
     ]
    },
    {
     "name": "stderr",
     "output_type": "stream",
     "text": [
      "\r",
      "┣█▎                  ┫ [6.31%, 14/222, 00:49/13:05, 3.45s/i] "
     ]
    },
    {
     "name": "stdout",
     "output_type": "stream",
     "text": [
      "R(6.8662405)\n"
     ]
    },
    {
     "name": "stderr",
     "output_type": "stream",
     "text": [
      "\r",
      "┣█▎                  ┫ [6.76%, 15/222, 00:54/13:23, 4.74s/i] "
     ]
    },
    {
     "name": "stdout",
     "output_type": "stream",
     "text": [
      "R(1.09008)\n"
     ]
    },
    {
     "name": "stderr",
     "output_type": "stream",
     "text": [
      "\r",
      "┣█▍                  ┫ [7.21%, 16/222, 00:57/13:17, 3.22s/i] "
     ]
    },
    {
     "name": "stdout",
     "output_type": "stream",
     "text": [
      "R(0.4804403)\n"
     ]
    },
    {
     "name": "stderr",
     "output_type": "stream",
     "text": [
      "\r",
      "┣█▌                  ┫ [7.66%, 17/222, 01:00/13:09, 2.94s/i] "
     ]
    },
    {
     "name": "stdout",
     "output_type": "stream",
     "text": [
      "R(7.9601893)\n"
     ]
    },
    {
     "name": "stderr",
     "output_type": "stream",
     "text": [
      "\r",
      "┣█▌                  ┫ [8.11%, 18/222, 01:04/13:08, 3.50s/i] "
     ]
    },
    {
     "name": "stdout",
     "output_type": "stream",
     "text": [
      "R(16.094456)\n"
     ]
    },
    {
     "name": "stderr",
     "output_type": "stream",
     "text": [
      "\r",
      "┣█▋                  ┫ [8.56%, 19/222, 01:08/13:12, 3.85s/i] "
     ]
    },
    {
     "name": "stdout",
     "output_type": "stream",
     "text": [
      "R(0.34763578)\n"
     ]
    },
    {
     "name": "stderr",
     "output_type": "stream",
     "text": [
      "\r",
      "┣█▊                  ┫ [9.01%, 20/222, 01:12/13:22, 4.49s/i] "
     ]
    },
    {
     "name": "stdout",
     "output_type": "stream",
     "text": [
      "R(6.0610957)\n"
     ]
    },
    {
     "name": "stderr",
     "output_type": "stream",
     "text": [
      "\r",
      "┣█▉                  ┫ [9.46%, 21/222, 01:16/13:20, 3.47s/i] "
     ]
    },
    {
     "name": "stdout",
     "output_type": "stream",
     "text": [
      "R(3.3143842)\n"
     ]
    },
    {
     "name": "stderr",
     "output_type": "stream",
     "text": [
      "\r",
      "┣█▉                  ┫ [9.91%, 22/222, 01:19/13:15, 3.05s/i] "
     ]
    },
    {
     "name": "stdout",
     "output_type": "stream",
     "text": [
      "R(0.23852736)\n"
     ]
    },
    {
     "name": "stderr",
     "output_type": "stream",
     "text": [
      "\r",
      "┣██                  ┫ [10.36%, 23/222, 01:22/13:09, 3.03s/i] "
     ]
    },
    {
     "name": "stdout",
     "output_type": "stream",
     "text": [
      "R(0.82885104)\n"
     ]
    },
    {
     "name": "stderr",
     "output_type": "stream",
     "text": [
      "\r",
      "┣██▏                 ┫ [10.81%, 24/222, 01:26/13:17, 4.39s/i] "
     ]
    },
    {
     "name": "stdout",
     "output_type": "stream",
     "text": [
      "R(0.31576136)\n"
     ]
    },
    {
     "name": "stderr",
     "output_type": "stream",
     "text": [
      "\r",
      "┣██▎                 ┫ [11.26%, 25/222, 01:29/13:12, 3.05s/i] "
     ]
    },
    {
     "name": "stdout",
     "output_type": "stream",
     "text": [
      "R(2.2654653)\n"
     ]
    },
    {
     "name": "stderr",
     "output_type": "stream",
     "text": [
      "\r",
      "┣██▎                 ┫ [11.71%, 26/222, 01:33/13:11, 3.40s/i] "
     ]
    },
    {
     "name": "stdout",
     "output_type": "stream",
     "text": [
      "R(0.74022186)\n"
     ]
    },
    {
     "name": "stderr",
     "output_type": "stream",
     "text": [
      "\r",
      "┣██▍                 ┫ [12.16%, 27/222, 01:36/13:06, 3.01s/i] "
     ]
    },
    {
     "name": "stdout",
     "output_type": "stream",
     "text": [
      "R(3.3215778)\n"
     ]
    },
    {
     "name": "stderr",
     "output_type": "stream",
     "text": [
      "\r",
      "┣██▌                 ┫ [12.61%, 28/222, 01:39/13:03, 3.07s/i] "
     ]
    },
    {
     "name": "stdout",
     "output_type": "stream",
     "text": [
      "R(8.933916)\n"
     ]
    },
    {
     "name": "stderr",
     "output_type": "stream",
     "text": [
      "\r",
      "┣██▌                 ┫ [13.06%, 29/222, 01:44/13:16, 5.21s/i] "
     ]
    },
    {
     "name": "stdout",
     "output_type": "stream",
     "text": [
      "R(0.63315475)\n"
     ]
    },
    {
     "name": "stderr",
     "output_type": "stream",
     "text": [
      "\r",
      "┣██▋                 ┫ [13.51%, 30/222, 01:47/13:11, 2.98s/i] "
     ]
    },
    {
     "name": "stdout",
     "output_type": "stream",
     "text": [
      "R(2.1762073)\n"
     ]
    },
    {
     "name": "stderr",
     "output_type": "stream",
     "text": [
      "\r",
      "┣██▊                 ┫ [13.96%, 31/222, 01:50/13:06, 2.80s/i] "
     ]
    },
    {
     "name": "stdout",
     "output_type": "stream",
     "text": [
      "R(4.6594615)\n"
     ]
    },
    {
     "name": "stderr",
     "output_type": "stream",
     "text": [
      "\r",
      "┣██▉                 ┫ [14.41%, 32/222, 01:53/13:06, 3.60s/i] "
     ]
    },
    {
     "name": "stdout",
     "output_type": "stream",
     "text": [
      "R(18.717562)\n"
     ]
    },
    {
     "name": "stderr",
     "output_type": "stream",
     "text": [
      "\r",
      "┣██▉                 ┫ [14.86%, 33/222, 01:58/13:16, 5.02s/i] "
     ]
    },
    {
     "name": "stdout",
     "output_type": "stream",
     "text": [
      "R(5.9167347)\n"
     ]
    },
    {
     "name": "stderr",
     "output_type": "stream",
     "text": [
      "\r",
      "┣███                 ┫ [15.32%, 34/222, 02:02/13:15, 3.38s/i] "
     ]
    },
    {
     "name": "stdout",
     "output_type": "stream",
     "text": [
      "R(0.86379313)\n"
     ]
    },
    {
     "name": "stderr",
     "output_type": "stream",
     "text": [
      "\r",
      "┣███▏                ┫ [15.77%, 35/222, 02:05/13:11, 2.97s/i] "
     ]
    },
    {
     "name": "stdout",
     "output_type": "stream",
     "text": [
      "R(1.9253381)\n"
     ]
    },
    {
     "name": "stderr",
     "output_type": "stream",
     "text": [
      "\r",
      "┣███▏                ┫ [16.22%, 36/222, 02:08/13:09, 3.20s/i] "
     ]
    },
    {
     "name": "stdout",
     "output_type": "stream",
     "text": [
      "R(0.30402538)\n"
     ]
    },
    {
     "name": "stderr",
     "output_type": "stream",
     "text": [
      "\r",
      "┣███▎                ┫ [16.67%, 37/222, 02:11/13:04, 2.74s/i] "
     ]
    },
    {
     "name": "stdout",
     "output_type": "stream",
     "text": [
      "R(2.888897)\n"
     ]
    },
    {
     "name": "stderr",
     "output_type": "stream",
     "text": [
      "\r",
      "┣███▍                ┫ [17.12%, 38/222, 02:15/13:10, 4.62s/i] "
     ]
    },
    {
     "name": "stdout",
     "output_type": "stream",
     "text": [
      "R(0.9936061)\n"
     ]
    },
    {
     "name": "stderr",
     "output_type": "stream",
     "text": [
      "\r",
      "┣███▌                ┫ [17.57%, 39/222, 02:18/13:05, 2.62s/i] "
     ]
    },
    {
     "name": "stdout",
     "output_type": "stream",
     "text": [
      "R(1.0213614)\n"
     ]
    },
    {
     "name": "stderr",
     "output_type": "stream",
     "text": [
      "\r",
      "┣███▌                ┫ [18.02%, 40/222, 02:21/13:01, 2.78s/i] "
     ]
    },
    {
     "name": "stdout",
     "output_type": "stream",
     "text": [
      "R(41.069176)\n"
     ]
    },
    {
     "name": "stderr",
     "output_type": "stream",
     "text": [
      "\r",
      "┣███▋                ┫ [18.47%, 41/222, 02:25/13:04, 4.19s/i] "
     ]
    },
    {
     "name": "stdout",
     "output_type": "stream",
     "text": [
      "R(12.64826)\n"
     ]
    },
    {
     "name": "stderr",
     "output_type": "stream",
     "text": [
      "\r",
      "┣███▊                ┫ [18.92%, 42/222, 02:29/13:10, 4.63s/i] "
     ]
    },
    {
     "name": "stdout",
     "output_type": "stream",
     "text": [
      "R(1.1941531)\n"
     ]
    },
    {
     "name": "stderr",
     "output_type": "stream",
     "text": [
      "\r",
      "┣███▊                ┫ [19.37%, 43/222, 02:32/13:05, 2.64s/i] "
     ]
    },
    {
     "name": "stdout",
     "output_type": "stream",
     "text": [
      "R(1.8051736)\n"
     ]
    },
    {
     "name": "stderr",
     "output_type": "stream",
     "text": [
      "\r",
      "┣███▉                ┫ [19.82%, 44/222, 02:35/13:03, 3.04s/i] "
     ]
    },
    {
     "name": "stdout",
     "output_type": "stream",
     "text": [
      "R(1.9135722)\n"
     ]
    },
    {
     "name": "stderr",
     "output_type": "stream",
     "text": [
      "\r",
      "┣████                ┫ [20.27%, 45/222, 02:38/13:00, 2.96s/i] "
     ]
    },
    {
     "name": "stdout",
     "output_type": "stream",
     "text": [
      "R(9.194335)\n"
     ]
    },
    {
     "name": "stderr",
     "output_type": "stream",
     "text": [
      "\r",
      "┣████▏               ┫ [20.72%, 46/222, 02:41/12:58, 3.18s/i] "
     ]
    },
    {
     "name": "stdout",
     "output_type": "stream",
     "text": [
      "R(10.744478)\n"
     ]
    },
    {
     "name": "stderr",
     "output_type": "stream",
     "text": [
      "\r",
      "┣████▏               ┫ [21.17%, 47/222, 02:46/13:05, 4.98s/i] "
     ]
    },
    {
     "name": "stdout",
     "output_type": "stream",
     "text": [
      "R(4.6522436)\n"
     ]
    },
    {
     "name": "stderr",
     "output_type": "stream",
     "text": [
      "\r",
      "┣████▎               ┫ [21.62%, 48/222, 02:49/13:04, 3.18s/i] "
     ]
    },
    {
     "name": "stdout",
     "output_type": "stream",
     "text": [
      "R(2.1337025)\n"
     ]
    },
    {
     "name": "stderr",
     "output_type": "stream",
     "text": [
      "\r",
      "┣████▍               ┫ [22.07%, 49/222, 02:52/13:01, 2.85s/i] "
     ]
    },
    {
     "name": "stdout",
     "output_type": "stream",
     "text": [
      "R(2.647337)\n"
     ]
    },
    {
     "name": "stderr",
     "output_type": "stream",
     "text": [
      "\r",
      "┣████▌               ┫ [22.52%, 50/222, 02:56/13:00, 3.42s/i] "
     ]
    },
    {
     "name": "stdout",
     "output_type": "stream",
     "text": [
      "R(1.3762119)\n"
     ]
    },
    {
     "name": "stderr",
     "output_type": "stream",
     "text": [
      "\r",
      "┣████▌               ┫ [22.97%, 51/222, 03:00/13:04, 4.38s/i] "
     ]
    },
    {
     "name": "stdout",
     "output_type": "stream",
     "text": [
      "R(3.191241)\n"
     ]
    },
    {
     "name": "stderr",
     "output_type": "stream",
     "text": [
      "\r",
      "┣████▋               ┫ [23.42%, 52/222, 03:03/13:03, 3.29s/i] "
     ]
    },
    {
     "name": "stdout",
     "output_type": "stream",
     "text": [
      "R(52.79957)\n"
     ]
    },
    {
     "name": "stderr",
     "output_type": "stream",
     "text": [
      "\r",
      "┣████▊               ┫ [23.87%, 53/222, 03:08/13:09, 4.95s/i] "
     ]
    },
    {
     "name": "stdout",
     "output_type": "stream",
     "text": [
      "R(69.00252)\n"
     ]
    },
    {
     "name": "stderr",
     "output_type": "stream",
     "text": [
      "\r",
      "┣████▊               ┫ [24.32%, 54/222, 03:14/13:16, 5.23s/i] "
     ]
    },
    {
     "name": "stdout",
     "output_type": "stream",
     "text": [
      "R(0.61519235)\n"
     ]
    },
    {
     "name": "stderr",
     "output_type": "stream",
     "text": [
      "\r",
      "┣████▉               ┫ [24.77%, 55/222, 03:17/13:14, 3.05s/i] "
     ]
    },
    {
     "name": "stdout",
     "output_type": "stream",
     "text": [
      "R(6.167746)\n"
     ]
    },
    {
     "name": "stderr",
     "output_type": "stream",
     "text": [
      "\r",
      "┣█████               ┫ [25.23%, 56/222, 03:22/13:19, 4.99s/i] "
     ]
    },
    {
     "name": "stdout",
     "output_type": "stream",
     "text": [
      "R(25.223957)\n"
     ]
    },
    {
     "name": "stderr",
     "output_type": "stream",
     "text": [
      "\r",
      "┣█████▏              ┫ [25.68%, 57/222, 03:27/13:26, 5.39s/i] "
     ]
    },
    {
     "name": "stdout",
     "output_type": "stream",
     "text": [
      "R(3.81616)\n"
     ]
    },
    {
     "name": "stderr",
     "output_type": "stream",
     "text": [
      "\r",
      "┣█████▏              ┫ [26.13%, 58/222, 03:30/13:24, 3.17s/i] "
     ]
    },
    {
     "name": "stdout",
     "output_type": "stream",
     "text": [
      "R(0.8566059)\n"
     ]
    },
    {
     "name": "stderr",
     "output_type": "stream",
     "text": [
      "\r",
      "┣█████▎              ┫ [26.58%, 59/222, 03:33/13:21, 2.74s/i] "
     ]
    },
    {
     "name": "stdout",
     "output_type": "stream",
     "text": [
      "R(13.701678)\n"
     ]
    },
    {
     "name": "stderr",
     "output_type": "stream",
     "text": [
      "\r",
      "┣█████▍              ┫ [27.03%, 60/222, 03:38/13:26, 4.88s/i] "
     ]
    },
    {
     "name": "stdout",
     "output_type": "stream",
     "text": [
      "R(2.7883914)\n"
     ]
    },
    {
     "name": "stderr",
     "output_type": "stream",
     "text": [
      "\r",
      "┣█████▍              ┫ [27.48%, 61/222, 03:41/13:24, 3.07s/i] "
     ]
    },
    {
     "name": "stdout",
     "output_type": "stream",
     "text": [
      "R(1.2486658)\n"
     ]
    },
    {
     "name": "stderr",
     "output_type": "stream",
     "text": [
      "\r",
      "┣█████▌              ┫ [27.93%, 62/222, 03:44/13:21, 2.97s/i] "
     ]
    },
    {
     "name": "stdout",
     "output_type": "stream",
     "text": [
      "R(0.5112457)\n"
     ]
    },
    {
     "name": "stderr",
     "output_type": "stream",
     "text": [
      "\r",
      "┣█████▋              ┫ [28.38%, 63/222, 03:47/13:19, 2.92s/i] "
     ]
    },
    {
     "name": "stdout",
     "output_type": "stream",
     "text": [
      "R(0.97211444)\n"
     ]
    },
    {
     "name": "stderr",
     "output_type": "stream",
     "text": [
      "\r",
      "┣█████▊              ┫ [28.83%, 64/222, 03:50/13:17, 2.94s/i] "
     ]
    },
    {
     "name": "stdout",
     "output_type": "stream",
     "text": [
      "R(1.4000466)\n"
     ]
    },
    {
     "name": "stderr",
     "output_type": "stream",
     "text": [
      "\r",
      "┣█████▊              ┫ [29.28%, 65/222, 03:54/13:20, 4.53s/i] "
     ]
    },
    {
     "name": "stdout",
     "output_type": "stream",
     "text": [
      "R(0.5657033)\n"
     ]
    },
    {
     "name": "stderr",
     "output_type": "stream",
     "text": [
      "\r",
      "┣█████▉              ┫ [29.73%, 66/222, 03:57/13:17, 2.88s/i] "
     ]
    },
    {
     "name": "stdout",
     "output_type": "stream",
     "text": [
      "R(5.1176033)\n"
     ]
    },
    {
     "name": "stderr",
     "output_type": "stream",
     "text": [
      "\r",
      "┣██████              ┫ [30.18%, 67/222, 04:00/13:16, 3.06s/i] "
     ]
    },
    {
     "name": "stdout",
     "output_type": "stream",
     "text": [
      "R(2.5566645)\n"
     ]
    },
    {
     "name": "stderr",
     "output_type": "stream",
     "text": [
      "\r",
      "┣██████▏             ┫ [30.63%, 68/222, 04:03/13:14, 3.18s/i] "
     ]
    },
    {
     "name": "stdout",
     "output_type": "stream",
     "text": [
      "R(4.788274)\n"
     ]
    },
    {
     "name": "stderr",
     "output_type": "stream",
     "text": [
      "\r",
      "┣██████▏             ┫ [31.08%, 69/222, 04:07/13:14, 3.34s/i] "
     ]
    },
    {
     "name": "stdout",
     "output_type": "stream",
     "text": [
      "R(11.172386)\n"
     ]
    },
    {
     "name": "stderr",
     "output_type": "stream",
     "text": [
      "\r",
      "┣██████▎             ┫ [31.53%, 70/222, 04:12/13:19, 5.12s/i] "
     ]
    },
    {
     "name": "stdout",
     "output_type": "stream",
     "text": [
      "R(1.4297645)\n"
     ]
    },
    {
     "name": "stderr",
     "output_type": "stream",
     "text": [
      "\r",
      "┣██████▍             ┫ [31.98%, 71/222, 04:15/13:17, 3.20s/i] "
     ]
    },
    {
     "name": "stdout",
     "output_type": "stream",
     "text": [
      "R(1.083485)\n"
     ]
    },
    {
     "name": "stderr",
     "output_type": "stream",
     "text": [
      "\r",
      "┣██████▍             ┫ [32.43%, 72/222, 04:18/13:14, 2.69s/i] "
     ]
    },
    {
     "name": "stdout",
     "output_type": "stream",
     "text": [
      "R(1.3365074)\n"
     ]
    },
    {
     "name": "stderr",
     "output_type": "stream",
     "text": [
      "\r",
      "┣██████▌             ┫ [32.88%, 73/222, 04:21/13:13, 2.98s/i] "
     ]
    },
    {
     "name": "stdout",
     "output_type": "stream",
     "text": [
      "R(26.273277)\n"
     ]
    },
    {
     "name": "stderr",
     "output_type": "stream",
     "text": [
      "\r",
      "┣██████▋             ┫ [33.33%, 74/222, 04:25/13:15, 4.33s/i] "
     ]
    },
    {
     "name": "stdout",
     "output_type": "stream",
     "text": [
      "R(5.188253)\n"
     ]
    },
    {
     "name": "stderr",
     "output_type": "stream",
     "text": [
      "\r",
      "┣██████▊             ┫ [33.78%, 75/222, 04:30/13:19, 5.04s/i] "
     ]
    },
    {
     "name": "stdout",
     "output_type": "stream",
     "text": [
      "R(2.8062246)\n"
     ]
    },
    {
     "name": "stderr",
     "output_type": "stream",
     "text": [
      "\r",
      "┣██████▊             ┫ [34.23%, 76/222, 04:33/13:18, 3.19s/i] "
     ]
    },
    {
     "name": "stdout",
     "output_type": "stream",
     "text": [
      "R(2.8914142)\n"
     ]
    },
    {
     "name": "stderr",
     "output_type": "stream",
     "text": [
      "\r",
      "┣██████▉             ┫ [34.68%, 77/222, 04:36/13:17, 3.09s/i] "
     ]
    },
    {
     "name": "stdout",
     "output_type": "stream",
     "text": [
      "R(7.922629)\n"
     ]
    },
    {
     "name": "stderr",
     "output_type": "stream",
     "text": [
      "\r",
      "┣███████             ┫ [35.14%, 78/222, 04:40/13:17, 3.57s/i] "
     ]
    },
    {
     "name": "stdout",
     "output_type": "stream",
     "text": [
      "R(1.2954264)\n"
     ]
    },
    {
     "name": "stderr",
     "output_type": "stream",
     "text": [
      "\r",
      "┣███████             ┫ [35.59%, 79/222, 04:44/13:18, 4.22s/i] "
     ]
    },
    {
     "name": "stdout",
     "output_type": "stream",
     "text": [
      "R(5.897678)\n"
     ]
    },
    {
     "name": "stderr",
     "output_type": "stream",
     "text": [
      "\r",
      "┣███████▏            ┫ [36.04%, 80/222, 04:47/13:18, 3.34s/i] "
     ]
    },
    {
     "name": "stdout",
     "output_type": "stream",
     "text": [
      "R(13.587177)\n"
     ]
    },
    {
     "name": "stderr",
     "output_type": "stream",
     "text": [
      "\r",
      "┣███████▎            ┫ [36.49%, 81/222, 04:51/13:18, 3.72s/i] "
     ]
    },
    {
     "name": "stdout",
     "output_type": "stream",
     "text": [
      "R(6.7414713)\n"
     ]
    },
    {
     "name": "stderr",
     "output_type": "stream",
     "text": [
      "\r",
      "┣███████▍            ┫ [36.94%, 82/222, 04:55/13:18, 3.50s/i] "
     ]
    },
    {
     "name": "stdout",
     "output_type": "stream",
     "text": [
      "R(0.6738135)\n"
     ]
    },
    {
     "name": "stderr",
     "output_type": "stream",
     "text": [
      "\r",
      "┣███████▍            ┫ [37.39%, 83/222, 04:58/13:16, 2.97s/i] "
     ]
    },
    {
     "name": "stdout",
     "output_type": "stream",
     "text": [
      "R(1.3845242)\n"
     ]
    },
    {
     "name": "stderr",
     "output_type": "stream",
     "text": [
      "\r",
      "┣███████▌            ┫ [37.84%, 84/222, 05:02/13:19, 4.76s/i] "
     ]
    },
    {
     "name": "stdout",
     "output_type": "stream",
     "text": [
      "R(7.862196)\n"
     ]
    },
    {
     "name": "stderr",
     "output_type": "stream",
     "text": [
      "\r",
      "┣███████▋            ┫ [38.29%, 85/222, 05:06/13:19, 3.41s/i] "
     ]
    },
    {
     "name": "stdout",
     "output_type": "stream",
     "text": [
      "R(7.7609596)\n"
     ]
    },
    {
     "name": "stderr",
     "output_type": "stream",
     "text": [
      "\r",
      "┣███████▋            ┫ [38.74%, 86/222, 05:09/13:18, 3.51s/i] "
     ]
    },
    {
     "name": "stdout",
     "output_type": "stream",
     "text": [
      "R(5.6711483)\n"
     ]
    },
    {
     "name": "stderr",
     "output_type": "stream",
     "text": [
      "\r",
      "┣███████▊            ┫ [39.19%, 87/222, 05:13/13:18, 3.54s/i] "
     ]
    },
    {
     "name": "stdout",
     "output_type": "stream",
     "text": [
      "R(19.521505)\n"
     ]
    },
    {
     "name": "stderr",
     "output_type": "stream",
     "text": [
      "\r",
      "┣███████▉            ┫ [39.64%, 88/222, 05:19/13:25, 6.23s/i] "
     ]
    },
    {
     "name": "stdout",
     "output_type": "stream",
     "text": [
      "R(13.844321)\n"
     ]
    },
    {
     "name": "stderr",
     "output_type": "stream",
     "text": [
      "\r",
      "┣████████            ┫ [40.09%, 89/222, 05:23/13:26, 4.22s/i] "
     ]
    },
    {
     "name": "stdout",
     "output_type": "stream",
     "text": [
      "R(1.3778722)\n"
     ]
    },
    {
     "name": "stderr",
     "output_type": "stream",
     "text": [
      "\r",
      "┣████████            ┫ [40.54%, 90/222, 05:26/13:25, 3.09s/i] "
     ]
    },
    {
     "name": "stdout",
     "output_type": "stream",
     "text": [
      "R(20.932749)\n"
     ]
    },
    {
     "name": "stderr",
     "output_type": "stream",
     "text": [
      "\r",
      "┣████████▏           ┫ [40.99%, 91/222, 05:30/13:26, 3.89s/i] "
     ]
    },
    {
     "name": "stdout",
     "output_type": "stream",
     "text": [
      "R(1.1709948)\n"
     ]
    },
    {
     "name": "stderr",
     "output_type": "stream",
     "text": [
      "\r",
      "┣████████▎           ┫ [41.44%, 92/222, 05:33/13:24, 3.04s/i] "
     ]
    },
    {
     "name": "stdout",
     "output_type": "stream",
     "text": [
      "R(0.9916618)\n"
     ]
    },
    {
     "name": "stderr",
     "output_type": "stream",
     "text": [
      "\r",
      "┣████████▍           ┫ [41.89%, 93/222, 05:38/13:26, 4.26s/i] "
     ]
    },
    {
     "name": "stdout",
     "output_type": "stream",
     "text": [
      "R(9.035021)\n"
     ]
    },
    {
     "name": "stderr",
     "output_type": "stream",
     "text": [
      "\r",
      "┣████████▍           ┫ [42.34%, 94/222, 05:41/13:26, 3.80s/i] "
     ]
    },
    {
     "name": "stdout",
     "output_type": "stream",
     "text": [
      "R(18.677368)\n"
     ]
    },
    {
     "name": "stderr",
     "output_type": "stream",
     "text": [
      "\r",
      "┣████████▌           ┫ [42.79%, 95/222, 05:45/13:26, 3.65s/i] "
     ]
    },
    {
     "name": "stdout",
     "output_type": "stream",
     "text": [
      "R(15.966611)\n"
     ]
    },
    {
     "name": "stderr",
     "output_type": "stream",
     "text": [
      "\r",
      "┣████████▋           ┫ [43.24%, 96/222, 05:49/13:27, 3.95s/i] "
     ]
    },
    {
     "name": "stdout",
     "output_type": "stream",
     "text": [
      "R(4.586855)\n"
     ]
    },
    {
     "name": "stderr",
     "output_type": "stream",
     "text": [
      "\r",
      "┣████████▋           ┫ [43.69%, 97/222, 05:53/13:28, 4.15s/i] "
     ]
    },
    {
     "name": "stdout",
     "output_type": "stream",
     "text": [
      "R(4.4541)\n"
     ]
    },
    {
     "name": "stderr",
     "output_type": "stream",
     "text": [
      "\r",
      "┣████████▊           ┫ [44.14%, 98/222, 05:56/13:27, 3.29s/i] "
     ]
    },
    {
     "name": "stdout",
     "output_type": "stream",
     "text": [
      "R(0.4976528)\n"
     ]
    },
    {
     "name": "stderr",
     "output_type": "stream",
     "text": [
      "\r",
      "┣████████▉           ┫ [44.59%, 99/222, 05:59/13:25, 2.76s/i] "
     ]
    },
    {
     "name": "stdout",
     "output_type": "stream",
     "text": [
      "R(0.4735002)\n"
     ]
    },
    {
     "name": "stderr",
     "output_type": "stream",
     "text": [
      "\r",
      "┣█████████           ┫ [45.05%, 100/222, 06:02/13:23, 2.68s/i] "
     ]
    },
    {
     "name": "stdout",
     "output_type": "stream",
     "text": [
      "R(9.898659)\n"
     ]
    },
    {
     "name": "stderr",
     "output_type": "stream",
     "text": [
      "\r",
      "┣█████████           ┫ [45.50%, 101/222, 06:06/13:23, 3.68s/i] "
     ]
    },
    {
     "name": "stdout",
     "output_type": "stream",
     "text": [
      "R(0.97595406)\n"
     ]
    },
    {
     "name": "stderr",
     "output_type": "stream",
     "text": [
      "\r",
      "┣█████████▏          ┫ [45.95%, 102/222, 06:10/13:25, 4.33s/i] "
     ]
    },
    {
     "name": "stdout",
     "output_type": "stream",
     "text": [
      "R(9.705973)\n"
     ]
    },
    {
     "name": "stderr",
     "output_type": "stream",
     "text": [
      "\r",
      "┣█████████▎          ┫ [46.40%, 103/222, 06:13/13:25, 3.62s/i] "
     ]
    },
    {
     "name": "stdout",
     "output_type": "stream",
     "text": [
      "R(0.6374093)\n"
     ]
    },
    {
     "name": "stderr",
     "output_type": "stream",
     "text": [
      "\r",
      "┣█████████▎          ┫ [46.85%, 104/222, 06:16/13:24, 3.01s/i] "
     ]
    },
    {
     "name": "stdout",
     "output_type": "stream",
     "text": [
      "R(3.4074366)\n"
     ]
    },
    {
     "name": "stderr",
     "output_type": "stream",
     "text": [
      "\r",
      "┣█████████▍          ┫ [47.30%, 105/222, 06:20/13:23, 3.27s/i] "
     ]
    },
    {
     "name": "stdout",
     "output_type": "stream",
     "text": [
      "R(0.52446496)\n"
     ]
    },
    {
     "name": "stderr",
     "output_type": "stream",
     "text": [
      "\r",
      "┣█████████▌          ┫ [47.75%, 106/222, 06:24/13:24, 4.27s/i] "
     ]
    },
    {
     "name": "stdout",
     "output_type": "stream",
     "text": [
      "R(8.563233)\n"
     ]
    },
    {
     "name": "stderr",
     "output_type": "stream",
     "text": [
      "\r",
      "┣█████████▋          ┫ [48.20%, 107/222, 06:28/13:24, 3.55s/i] "
     ]
    },
    {
     "name": "stdout",
     "output_type": "stream",
     "text": [
      "R(0.9464045)\n"
     ]
    },
    {
     "name": "stderr",
     "output_type": "stream",
     "text": [
      "\r",
      "┣█████████▋          ┫ [48.65%, 108/222, 06:31/13:23, 3.04s/i] "
     ]
    },
    {
     "name": "stdout",
     "output_type": "stream",
     "text": [
      "R(4.2589197)\n"
     ]
    },
    {
     "name": "stderr",
     "output_type": "stream",
     "text": [
      "\r",
      "┣█████████▊          ┫ [49.10%, 109/222, 06:34/13:22, 3.22s/i] "
     ]
    },
    {
     "name": "stdout",
     "output_type": "stream",
     "text": [
      "R(8.752181)\n"
     ]
    },
    {
     "name": "stderr",
     "output_type": "stream",
     "text": [
      "\r",
      "┣█████████▉          ┫ [49.55%, 110/222, 06:37/13:22, 3.55s/i] "
     ]
    },
    {
     "name": "stdout",
     "output_type": "stream",
     "text": [
      "R(1.3804789)\n"
     ]
    },
    {
     "name": "stderr",
     "output_type": "stream",
     "text": [
      "\r",
      "┣██████████          ┫ [50.00%, 111/222, 06:42/13:24, 4.67s/i] "
     ]
    },
    {
     "name": "stdout",
     "output_type": "stream",
     "text": [
      "R(4.0287185)\n"
     ]
    },
    {
     "name": "stderr",
     "output_type": "stream",
     "text": [
      "\r",
      "┣██████████          ┫ [50.45%, 112/222, 06:45/13:24, 3.41s/i] "
     ]
    },
    {
     "name": "stdout",
     "output_type": "stream",
     "text": [
      "R(6.8739815)\n"
     ]
    },
    {
     "name": "stderr",
     "output_type": "stream",
     "text": [
      "\r",
      "┣██████████▏         ┫ [50.90%, 113/222, 06:49/13:23, 3.45s/i] "
     ]
    },
    {
     "name": "stdout",
     "output_type": "stream",
     "text": [
      "R(4.5391517)\n"
     ]
    },
    {
     "name": "stderr",
     "output_type": "stream",
     "text": [
      "\r",
      "┣██████████▎         ┫ [51.35%, 114/222, 06:52/13:23, 3.30s/i] "
     ]
    },
    {
     "name": "stdout",
     "output_type": "stream",
     "text": [
      "R(2.0682845)\n"
     ]
    },
    {
     "name": "stderr",
     "output_type": "stream",
     "text": [
      "\r",
      "┣██████████▎         ┫ [51.80%, 115/222, 06:57/13:24, 4.41s/i] "
     ]
    },
    {
     "name": "stdout",
     "output_type": "stream",
     "text": [
      "R(1.125851)\n"
     ]
    },
    {
     "name": "stderr",
     "output_type": "stream",
     "text": [
      "\r",
      "┣██████████▍         ┫ [52.25%, 116/222, 07:00/13:23, 3.14s/i] "
     ]
    },
    {
     "name": "stdout",
     "output_type": "stream",
     "text": [
      "R(7.86089)\n"
     ]
    },
    {
     "name": "stderr",
     "output_type": "stream",
     "text": [
      "\r",
      "┣██████████▌         ┫ [52.70%, 117/222, 07:03/13:23, 3.61s/i] "
     ]
    },
    {
     "name": "stdout",
     "output_type": "stream",
     "text": [
      "R(1.1226174)\n"
     ]
    },
    {
     "name": "stderr",
     "output_type": "stream",
     "text": [
      "\r",
      "┣██████████▋         ┫ [53.15%, 118/222, 07:06/13:22, 2.86s/i] "
     ]
    },
    {
     "name": "stdout",
     "output_type": "stream",
     "text": [
      "R(5.0719485)\n"
     ]
    },
    {
     "name": "stderr",
     "output_type": "stream",
     "text": [
      "\r",
      "┣██████████▋         ┫ [53.60%, 119/222, 07:09/13:21, 3.21s/i] "
     ]
    },
    {
     "name": "stdout",
     "output_type": "stream",
     "text": [
      "R(1.4069923)\n"
     ]
    },
    {
     "name": "stderr",
     "output_type": "stream",
     "text": [
      "\r",
      "┣██████████▊         ┫ [54.05%, 120/222, 07:14/13:23, 4.54s/i] "
     ]
    },
    {
     "name": "stdout",
     "output_type": "stream",
     "text": [
      "R(7.4656115)\n"
     ]
    },
    {
     "name": "stderr",
     "output_type": "stream",
     "text": [
      "\r",
      "┣██████████▉         ┫ [54.50%, 121/222, 07:18/13:23, 3.62s/i] "
     ]
    },
    {
     "name": "stdout",
     "output_type": "stream",
     "text": [
      "R(0.99230915)\n"
     ]
    },
    {
     "name": "stderr",
     "output_type": "stream",
     "text": [
      "\r",
      "┣██████████▉         ┫ [54.95%, 122/222, 07:21/13:22, 3.01s/i] "
     ]
    },
    {
     "name": "stdout",
     "output_type": "stream",
     "text": [
      "R(5.889871)\n"
     ]
    },
    {
     "name": "stderr",
     "output_type": "stream",
     "text": [
      "\r",
      "┣███████████         ┫ [55.41%, 123/222, 07:24/13:21, 3.24s/i] "
     ]
    },
    {
     "name": "stdout",
     "output_type": "stream",
     "text": [
      "R(0.94948703)\n"
     ]
    },
    {
     "name": "stderr",
     "output_type": "stream",
     "text": [
      "\r",
      "┣███████████▏        ┫ [55.86%, 124/222, 07:27/13:20, 2.87s/i] "
     ]
    },
    {
     "name": "stdout",
     "output_type": "stream",
     "text": [
      "R(1.6535822)\n"
     ]
    },
    {
     "name": "stderr",
     "output_type": "stream",
     "text": [
      "\r",
      "┣███████████▎        ┫ [56.31%, 125/222, 07:31/13:21, 4.53s/i] "
     ]
    },
    {
     "name": "stdout",
     "output_type": "stream",
     "text": [
      "R(0.6878606)\n"
     ]
    },
    {
     "name": "stderr",
     "output_type": "stream",
     "text": [
      "\r",
      "┣███████████▎        ┫ [56.76%, 126/222, 07:34/13:20, 2.81s/i] "
     ]
    },
    {
     "name": "stdout",
     "output_type": "stream",
     "text": [
      "R(5.3196173)\n"
     ]
    },
    {
     "name": "stderr",
     "output_type": "stream",
     "text": [
      "\r",
      "┣███████████▍        ┫ [57.21%, 127/222, 07:38/13:20, 3.48s/i] "
     ]
    },
    {
     "name": "stdout",
     "output_type": "stream",
     "text": [
      "R(2.2632499)\n"
     ]
    },
    {
     "name": "stderr",
     "output_type": "stream",
     "text": [
      "\r",
      "┣███████████▌        ┫ [57.66%, 128/222, 07:41/13:19, 3.19s/i] "
     ]
    },
    {
     "name": "stdout",
     "output_type": "stream",
     "text": [
      "R(2.445879)\n"
     ]
    },
    {
     "name": "stderr",
     "output_type": "stream",
     "text": [
      "\r",
      "┣███████████▌        ┫ [58.11%, 129/222, 07:44/13:18, 2.87s/i] "
     ]
    },
    {
     "name": "stdout",
     "output_type": "stream",
     "text": [
      "R(2.0713027)\n"
     ]
    },
    {
     "name": "stderr",
     "output_type": "stream",
     "text": [
      "\r",
      "┣███████████▋        ┫ [58.56%, 130/222, 07:48/13:19, 4.39s/i] "
     ]
    },
    {
     "name": "stdout",
     "output_type": "stream",
     "text": [
      "R(3.543384)\n"
     ]
    },
    {
     "name": "stderr",
     "output_type": "stream",
     "text": [
      "\r",
      "┣███████████▊        ┫ [59.01%, 131/222, 07:51/13:19, 3.32s/i] "
     ]
    },
    {
     "name": "stdout",
     "output_type": "stream",
     "text": [
      "R(0.6879837)\n"
     ]
    },
    {
     "name": "stderr",
     "output_type": "stream",
     "text": [
      "\r",
      "┣███████████▉        ┫ [59.46%, 132/222, 07:54/13:17, 2.54s/i] "
     ]
    },
    {
     "name": "stdout",
     "output_type": "stream",
     "text": [
      "R(1.869441)\n"
     ]
    },
    {
     "name": "stderr",
     "output_type": "stream",
     "text": [
      "\r",
      "┣███████████▉        ┫ [59.91%, 133/222, 07:57/13:16, 3.15s/i] "
     ]
    },
    {
     "name": "stdout",
     "output_type": "stream",
     "text": [
      "R(7.663948)\n"
     ]
    },
    {
     "name": "stderr",
     "output_type": "stream",
     "text": [
      "\r",
      "┣████████████        ┫ [60.36%, 134/222, 08:02/13:18, 4.77s/i] "
     ]
    },
    {
     "name": "stdout",
     "output_type": "stream",
     "text": [
      "R(3.577139)\n"
     ]
    },
    {
     "name": "stderr",
     "output_type": "stream",
     "text": [
      "\r",
      "┣████████████▏       ┫ [60.81%, 135/222, 08:05/13:17, 3.02s/i] "
     ]
    },
    {
     "name": "stdout",
     "output_type": "stream",
     "text": [
      "R(1.4501793)\n"
     ]
    },
    {
     "name": "stderr",
     "output_type": "stream",
     "text": [
      "\r",
      "┣████████████▎       ┫ [61.26%, 136/222, 08:08/13:16, 3.03s/i] "
     ]
    },
    {
     "name": "stdout",
     "output_type": "stream",
     "text": [
      "R(7.203498)\n"
     ]
    },
    {
     "name": "stderr",
     "output_type": "stream",
     "text": [
      "\r",
      "┣████████████▎       ┫ [61.71%, 137/222, 08:11/13:16, 3.55s/i] "
     ]
    },
    {
     "name": "stdout",
     "output_type": "stream",
     "text": [
      "R(32.797268)\n"
     ]
    },
    {
     "name": "stderr",
     "output_type": "stream",
     "text": [
      "\r",
      "┣████████████▍       ┫ [62.16%, 138/222, 08:16/13:18, 4.58s/i] "
     ]
    },
    {
     "name": "stdout",
     "output_type": "stream",
     "text": [
      "R(2.0929337)\n"
     ]
    },
    {
     "name": "stderr",
     "output_type": "stream",
     "text": [
      "\r",
      "┣████████████▌       ┫ [62.61%, 139/222, 08:19/13:17, 2.99s/i] "
     ]
    },
    {
     "name": "stdout",
     "output_type": "stream",
     "text": [
      "R(38.944435)\n"
     ]
    },
    {
     "name": "stderr",
     "output_type": "stream",
     "text": [
      "\r",
      "┣████████████▌       ┫ [63.06%, 140/222, 08:27/13:23, 7.57s/i] "
     ]
    },
    {
     "name": "stdout",
     "output_type": "stream",
     "text": [
      "R(4.427523)\n"
     ]
    },
    {
     "name": "stderr",
     "output_type": "stream",
     "text": [
      "\r",
      "┣████████████▋       ┫ [63.51%, 141/222, 08:30/13:23, 3.28s/i] "
     ]
    },
    {
     "name": "stdout",
     "output_type": "stream",
     "text": [
      "R(1.6649101)\n"
     ]
    },
    {
     "name": "stderr",
     "output_type": "stream",
     "text": [
      "\r",
      "┣████████████▊       ┫ [63.96%, 142/222, 08:33/13:21, 2.83s/i] "
     ]
    },
    {
     "name": "stdout",
     "output_type": "stream",
     "text": [
      "R(1.9508634)\n"
     ]
    },
    {
     "name": "stderr",
     "output_type": "stream",
     "text": [
      "\r",
      "┣████████████▉       ┫ [64.41%, 143/222, 08:36/13:21, 3.19s/i] "
     ]
    },
    {
     "name": "stdout",
     "output_type": "stream",
     "text": [
      "R(0.9808765)\n"
     ]
    },
    {
     "name": "stderr",
     "output_type": "stream",
     "text": [
      "\r",
      "┣████████████▉       ┫ [64.86%, 144/222, 08:40/13:21, 3.99s/i] "
     ]
    },
    {
     "name": "stdout",
     "output_type": "stream",
     "text": [
      "R(1.1103526)\n"
     ]
    },
    {
     "name": "stderr",
     "output_type": "stream",
     "text": [
      "\r",
      "┣█████████████       ┫ [65.32%, 145/222, 08:43/13:20, 2.93s/i] "
     ]
    },
    {
     "name": "stdout",
     "output_type": "stream",
     "text": [
      "R(15.741012)\n"
     ]
    },
    {
     "name": "stderr",
     "output_type": "stream",
     "text": [
      "\r",
      "┣█████████████▏      ┫ [65.77%, 146/222, 08:47/13:21, 4.12s/i] "
     ]
    },
    {
     "name": "stdout",
     "output_type": "stream",
     "text": [
      "R(14.202042)\n"
     ]
    },
    {
     "name": "stderr",
     "output_type": "stream",
     "text": [
      "\r",
      "┣█████████████▏      ┫ [66.22%, 147/222, 08:50/13:21, 3.37s/i] "
     ]
    },
    {
     "name": "stdout",
     "output_type": "stream",
     "text": [
      "R(0.6409669)\n"
     ]
    },
    {
     "name": "stderr",
     "output_type": "stream",
     "text": [
      "\r",
      "┣█████████████▎      ┫ [66.67%, 148/222, 08:53/13:19, 2.67s/i] "
     ]
    },
    {
     "name": "stdout",
     "output_type": "stream",
     "text": [
      "R(1.2843101)\n"
     ]
    },
    {
     "name": "stderr",
     "output_type": "stream",
     "text": [
      "\r",
      "┣█████████████▍      ┫ [67.12%, 149/222, 08:57/13:20, 4.25s/i] "
     ]
    },
    {
     "name": "stdout",
     "output_type": "stream",
     "text": [
      "R(0.8598304)\n"
     ]
    },
    {
     "name": "stderr",
     "output_type": "stream",
     "text": [
      "\r",
      "┣█████████████▌      ┫ [67.57%, 150/222, 09:00/13:20, 3.15s/i] "
     ]
    },
    {
     "name": "stdout",
     "output_type": "stream",
     "text": [
      "R(0.93224317)\n"
     ]
    },
    {
     "name": "stderr",
     "output_type": "stream",
     "text": [
      "\r",
      "┣█████████████▌      ┫ [68.02%, 151/222, 09:03/13:18, 2.82s/i] "
     ]
    },
    {
     "name": "stdout",
     "output_type": "stream",
     "text": [
      "R(2.3571181)\n"
     ]
    },
    {
     "name": "stderr",
     "output_type": "stream",
     "text": [
      "\r",
      "┣█████████████▋      ┫ [68.47%, 152/222, 09:06/13:18, 3.33s/i] "
     ]
    },
    {
     "name": "stdout",
     "output_type": "stream",
     "text": [
      "R(10.08149)\n"
     ]
    },
    {
     "name": "stderr",
     "output_type": "stream",
     "text": [
      "\r",
      "┣█████████████▊      ┫ [68.92%, 153/222, 09:11/13:20, 4.61s/i] "
     ]
    },
    {
     "name": "stdout",
     "output_type": "stream",
     "text": [
      "R(0.81032455)\n"
     ]
    },
    {
     "name": "stderr",
     "output_type": "stream",
     "text": [
      "\r",
      "┣█████████████▊      ┫ [69.37%, 154/222, 09:14/13:19, 3.02s/i] "
     ]
    },
    {
     "name": "stdout",
     "output_type": "stream",
     "text": [
      "R(1.761344)\n"
     ]
    },
    {
     "name": "stderr",
     "output_type": "stream",
     "text": [
      "\r",
      "┣█████████████▉      ┫ [69.82%, 155/222, 09:17/13:18, 3.06s/i] "
     ]
    },
    {
     "name": "stdout",
     "output_type": "stream",
     "text": [
      "R(0.272429)\n"
     ]
    },
    {
     "name": "stderr",
     "output_type": "stream",
     "text": [
      "\r",
      "┣██████████████      ┫ [70.27%, 156/222, 09:20/13:17, 2.86s/i] "
     ]
    },
    {
     "name": "stdout",
     "output_type": "stream",
     "text": [
      "R(0.38535658)\n"
     ]
    },
    {
     "name": "stderr",
     "output_type": "stream",
     "text": [
      "\r",
      "┣██████████████▏     ┫ [70.72%, 157/222, 09:23/13:16, 2.98s/i] "
     ]
    },
    {
     "name": "stdout",
     "output_type": "stream",
     "text": [
      "R(2.3357446)\n"
     ]
    },
    {
     "name": "stderr",
     "output_type": "stream",
     "text": [
      "\r",
      "┣██████████████▏     ┫ [71.17%, 158/222, 09:28/13:18, 4.90s/i] "
     ]
    },
    {
     "name": "stdout",
     "output_type": "stream",
     "text": [
      "R(18.208769)\n"
     ]
    },
    {
     "name": "stderr",
     "output_type": "stream",
     "text": [
      "\r",
      "┣██████████████▎     ┫ [71.62%, 159/222, 09:32/13:18, 3.77s/i] "
     ]
    },
    {
     "name": "stdout",
     "output_type": "stream",
     "text": [
      "R(1.3837563)\n"
     ]
    },
    {
     "name": "stderr",
     "output_type": "stream",
     "text": [
      "\r",
      "┣██████████████▍     ┫ [72.07%, 160/222, 09:35/13:17, 3.03s/i] "
     ]
    },
    {
     "name": "stdout",
     "output_type": "stream",
     "text": [
      "R(81.5536)\n"
     ]
    },
    {
     "name": "stderr",
     "output_type": "stream",
     "text": [
      "\r",
      "┣██████████████▌     ┫ [72.52%, 161/222, 09:42/13:23, 7.49s/i] "
     ]
    },
    {
     "name": "stdout",
     "output_type": "stream",
     "text": [
      "R(3.2083058)\n"
     ]
    },
    {
     "name": "stderr",
     "output_type": "stream",
     "text": [
      "\r",
      "┣██████████████▌     ┫ [72.97%, 162/222, 09:45/13:22, 3.06s/i] "
     ]
    },
    {
     "name": "stdout",
     "output_type": "stream",
     "text": [
      "R(0.5090442)\n"
     ]
    },
    {
     "name": "stderr",
     "output_type": "stream",
     "text": [
      "\r",
      "┣██████████████▋     ┫ [73.42%, 163/222, 09:48/13:21, 2.87s/i] "
     ]
    },
    {
     "name": "stdout",
     "output_type": "stream",
     "text": [
      "R(0.62987405)\n"
     ]
    },
    {
     "name": "stderr",
     "output_type": "stream",
     "text": [
      "\r",
      "┣██████████████▊     ┫ [73.87%, 164/222, 09:51/13:20, 2.85s/i] "
     ]
    },
    {
     "name": "stdout",
     "output_type": "stream",
     "text": [
      "R(1.0474494)\n"
     ]
    },
    {
     "name": "stderr",
     "output_type": "stream",
     "text": [
      "\r",
      "┣██████████████▊     ┫ [74.32%, 165/222, 09:54/13:19, 2.96s/i] "
     ]
    },
    {
     "name": "stdout",
     "output_type": "stream",
     "text": [
      "R(1.0500635)\n"
     ]
    },
    {
     "name": "stderr",
     "output_type": "stream",
     "text": [
      "\r",
      "┣██████████████▉     ┫ [74.77%, 166/222, 09:57/13:18, 3.08s/i] "
     ]
    },
    {
     "name": "stdout",
     "output_type": "stream",
     "text": [
      "R(4.0742807)\n"
     ]
    },
    {
     "name": "stderr",
     "output_type": "stream",
     "text": [
      "\r",
      "┣███████████████     ┫ [75.23%, 167/222, 10:02/13:20, 4.62s/i] "
     ]
    },
    {
     "name": "stdout",
     "output_type": "stream",
     "text": [
      "R(2.019)\n"
     ]
    },
    {
     "name": "stderr",
     "output_type": "stream",
     "text": [
      "\r",
      "┣███████████████▏    ┫ [75.68%, 168/222, 10:05/13:19, 2.95s/i] "
     ]
    },
    {
     "name": "stdout",
     "output_type": "stream",
     "text": [
      "R(0.90018314)\n"
     ]
    },
    {
     "name": "stderr",
     "output_type": "stream",
     "text": [
      "\r",
      "┣███████████████▏    ┫ [76.13%, 169/222, 10:08/13:18, 3.15s/i] "
     ]
    },
    {
     "name": "stdout",
     "output_type": "stream",
     "text": [
      "R(1.5184718)\n"
     ]
    },
    {
     "name": "stderr",
     "output_type": "stream",
     "text": [
      "\r",
      "┣███████████████▎    ┫ [76.58%, 170/222, 10:11/13:18, 3.07s/i] "
     ]
    },
    {
     "name": "stdout",
     "output_type": "stream",
     "text": [
      "R(10.068295)\n"
     ]
    },
    {
     "name": "stderr",
     "output_type": "stream",
     "text": [
      "\r",
      "┣███████████████▍    ┫ [77.03%, 171/222, 10:16/13:19, 4.81s/i] "
     ]
    },
    {
     "name": "stdout",
     "output_type": "stream",
     "text": [
      "R(11.027924)\n"
     ]
    },
    {
     "name": "stderr",
     "output_type": "stream",
     "text": [
      "\r",
      "┣███████████████▍    ┫ [77.48%, 172/222, 10:19/13:19, 3.45s/i] "
     ]
    },
    {
     "name": "stdout",
     "output_type": "stream",
     "text": [
      "R(0.5217126)\n"
     ]
    },
    {
     "name": "stderr",
     "output_type": "stream",
     "text": [
      "\r",
      "┣███████████████▌    ┫ [77.93%, 173/222, 10:22/13:18, 2.83s/i] "
     ]
    },
    {
     "name": "stdout",
     "output_type": "stream",
     "text": [
      "R(1.2109112)\n"
     ]
    },
    {
     "name": "stderr",
     "output_type": "stream",
     "text": [
      "\r",
      "┣███████████████▋    ┫ [78.38%, 174/222, 10:25/13:17, 2.81s/i] "
     ]
    },
    {
     "name": "stdout",
     "output_type": "stream",
     "text": [
      "R(3.2115817)\n"
     ]
    },
    {
     "name": "stderr",
     "output_type": "stream",
     "text": [
      "\r",
      "┣███████████████▊    ┫ [78.83%, 175/222, 10:28/13:16, 3.16s/i] "
     ]
    },
    {
     "name": "stdout",
     "output_type": "stream",
     "text": [
      "R(2.719776)\n"
     ]
    },
    {
     "name": "stderr",
     "output_type": "stream",
     "text": [
      "\r",
      "┣███████████████▊    ┫ [79.28%, 176/222, 10:33/13:18, 4.88s/i] "
     ]
    },
    {
     "name": "stdout",
     "output_type": "stream",
     "text": [
      "R(0.9032318)\n"
     ]
    },
    {
     "name": "stderr",
     "output_type": "stream",
     "text": [
      "\r",
      "┣███████████████▉    ┫ [79.73%, 177/222, 10:36/13:17, 3.11s/i] "
     ]
    },
    {
     "name": "stdout",
     "output_type": "stream",
     "text": [
      "R(2.5582783)\n"
     ]
    },
    {
     "name": "stderr",
     "output_type": "stream",
     "text": [
      "\r",
      "┣████████████████    ┫ [80.18%, 178/222, 10:39/13:17, 2.91s/i] "
     ]
    },
    {
     "name": "stdout",
     "output_type": "stream",
     "text": [
      "R(3.5024624)\n"
     ]
    },
    {
     "name": "stderr",
     "output_type": "stream",
     "text": [
      "\r",
      "┣████████████████▏   ┫ [80.63%, 179/222, 10:42/13:16, 3.24s/i] "
     ]
    },
    {
     "name": "stdout",
     "output_type": "stream",
     "text": [
      "R(6.2855134)\n"
     ]
    },
    {
     "name": "stderr",
     "output_type": "stream",
     "text": [
      "\r",
      "┣████████████████▏   ┫ [81.08%, 180/222, 10:47/13:17, 4.57s/i] "
     ]
    },
    {
     "name": "stdout",
     "output_type": "stream",
     "text": [
      "R(19.913284)\n"
     ]
    },
    {
     "name": "stderr",
     "output_type": "stream",
     "text": [
      "\r",
      "┣████████████████▎   ┫ [81.53%, 181/222, 10:50/13:17, 3.59s/i] "
     ]
    },
    {
     "name": "stdout",
     "output_type": "stream",
     "text": [
      "R(3.3508756)\n"
     ]
    },
    {
     "name": "stderr",
     "output_type": "stream",
     "text": [
      "\r",
      "┣████████████████▍   ┫ [81.98%, 182/222, 10:53/13:17, 3.09s/i] "
     ]
    },
    {
     "name": "stdout",
     "output_type": "stream",
     "text": [
      "R(1.4323434)\n"
     ]
    },
    {
     "name": "stderr",
     "output_type": "stream",
     "text": [
      "\r",
      "┣████████████████▍   ┫ [82.43%, 183/222, 10:56/13:16, 2.97s/i] "
     ]
    },
    {
     "name": "stdout",
     "output_type": "stream",
     "text": [
      "R(0.6476075)\n"
     ]
    },
    {
     "name": "stderr",
     "output_type": "stream",
     "text": [
      "\r",
      "┣████████████████▌   ┫ [82.88%, 184/222, 10:59/13:15, 2.79s/i] "
     ]
    },
    {
     "name": "stdout",
     "output_type": "stream",
     "text": [
      "R(17.912127)\n"
     ]
    },
    {
     "name": "stderr",
     "output_type": "stream",
     "text": [
      "\r",
      "┣████████████████▋   ┫ [83.33%, 185/222, 11:04/13:17, 5.21s/i] "
     ]
    },
    {
     "name": "stdout",
     "output_type": "stream",
     "text": [
      "R(0.4575605)\n"
     ]
    },
    {
     "name": "stderr",
     "output_type": "stream",
     "text": [
      "\r",
      "┣████████████████▊   ┫ [83.78%, 186/222, 11:07/13:16, 2.93s/i] "
     ]
    },
    {
     "name": "stdout",
     "output_type": "stream",
     "text": [
      "R(4.8317413)\n"
     ]
    },
    {
     "name": "stderr",
     "output_type": "stream",
     "text": [
      "\r",
      "┣████████████████▊   ┫ [84.23%, 187/222, 11:10/13:16, 3.23s/i] "
     ]
    },
    {
     "name": "stdout",
     "output_type": "stream",
     "text": [
      "R(0.49492294)\n"
     ]
    },
    {
     "name": "stderr",
     "output_type": "stream",
     "text": [
      "\r",
      "┣████████████████▉   ┫ [84.68%, 188/222, 11:14/13:15, 3.25s/i] "
     ]
    },
    {
     "name": "stdout",
     "output_type": "stream",
     "text": [
      "R(0.45871985)\n"
     ]
    },
    {
     "name": "stderr",
     "output_type": "stream",
     "text": [
      "\r",
      "┣█████████████████   ┫ [85.14%, 189/222, 11:18/13:16, 4.08s/i] "
     ]
    },
    {
     "name": "stdout",
     "output_type": "stream",
     "text": [
      "R(4.1150093)\n"
     ]
    },
    {
     "name": "stderr",
     "output_type": "stream",
     "text": [
      "\r",
      "┣█████████████████   ┫ [85.59%, 190/222, 11:21/13:16, 3.32s/i] "
     ]
    },
    {
     "name": "stdout",
     "output_type": "stream",
     "text": [
      "R(3.1396239)\n"
     ]
    },
    {
     "name": "stderr",
     "output_type": "stream",
     "text": [
      "\r",
      "┣█████████████████▏  ┫ [86.04%, 191/222, 11:24/13:15, 2.87s/i] "
     ]
    },
    {
     "name": "stdout",
     "output_type": "stream",
     "text": [
      "R(4.6474185)\n"
     ]
    },
    {
     "name": "stderr",
     "output_type": "stream",
     "text": [
      "\r",
      "┣█████████████████▎  ┫ [86.49%, 192/222, 11:27/13:14, 3.21s/i] "
     ]
    },
    {
     "name": "stdout",
     "output_type": "stream",
     "text": [
      "R(2.2617607)\n"
     ]
    },
    {
     "name": "stderr",
     "output_type": "stream",
     "text": [
      "\r",
      "┣█████████████████▍  ┫ [86.94%, 193/222, 11:30/13:14, 2.83s/i] "
     ]
    },
    {
     "name": "stdout",
     "output_type": "stream",
     "text": [
      "R(1.2494842)\n"
     ]
    },
    {
     "name": "stderr",
     "output_type": "stream",
     "text": [
      "\r",
      "┣█████████████████▍  ┫ [87.39%, 194/222, 11:34/13:15, 4.46s/i] "
     ]
    },
    {
     "name": "stdout",
     "output_type": "stream",
     "text": [
      "R(1.0863206)\n"
     ]
    },
    {
     "name": "stderr",
     "output_type": "stream",
     "text": [
      "\r",
      "┣█████████████████▌  ┫ [87.84%, 195/222, 11:37/13:14, 2.95s/i] "
     ]
    },
    {
     "name": "stdout",
     "output_type": "stream",
     "text": [
      "R(5.7814984)\n"
     ]
    },
    {
     "name": "stderr",
     "output_type": "stream",
     "text": [
      "\r",
      "┣█████████████████▋  ┫ [88.29%, 196/222, 11:40/13:13, 3.17s/i] "
     ]
    },
    {
     "name": "stdout",
     "output_type": "stream",
     "text": [
      "R(12.382021)\n"
     ]
    },
    {
     "name": "stderr",
     "output_type": "stream",
     "text": [
      "\r",
      "┣█████████████████▋  ┫ [88.74%, 197/222, 11:44/13:14, 3.79s/i] "
     ]
    },
    {
     "name": "stdout",
     "output_type": "stream",
     "text": [
      "R(2.5305028)\n"
     ]
    },
    {
     "name": "stderr",
     "output_type": "stream",
     "text": [
      "\r",
      "┣█████████████████▊  ┫ [89.19%, 198/222, 11:48/13:14, 4.14s/i] "
     ]
    },
    {
     "name": "stdout",
     "output_type": "stream",
     "text": [
      "R(2.569373)\n"
     ]
    },
    {
     "name": "stderr",
     "output_type": "stream",
     "text": [
      "\r",
      "┣█████████████████▉  ┫ [89.64%, 199/222, 11:51/13:13, 2.83s/i] "
     ]
    },
    {
     "name": "stdout",
     "output_type": "stream",
     "text": [
      "R(1.7710711)\n"
     ]
    },
    {
     "name": "stderr",
     "output_type": "stream",
     "text": [
      "\r",
      "┣██████████████████  ┫ [90.09%, 200/222, 11:54/13:13, 3.09s/i] "
     ]
    },
    {
     "name": "stdout",
     "output_type": "stream",
     "text": [
      "R(4.9907393)\n"
     ]
    },
    {
     "name": "stderr",
     "output_type": "stream",
     "text": [
      "\r",
      "┣██████████████████  ┫ [90.54%, 201/222, 11:58/13:13, 3.29s/i] "
     ]
    },
    {
     "name": "stdout",
     "output_type": "stream",
     "text": [
      "R(31.950132)\n"
     ]
    },
    {
     "name": "stderr",
     "output_type": "stream",
     "text": [
      "\r",
      "┣██████████████████▏ ┫ [90.99%, 202/222, 12:02/13:13, 4.35s/i] "
     ]
    },
    {
     "name": "stdout",
     "output_type": "stream",
     "text": [
      "R(1.281261)\n"
     ]
    },
    {
     "name": "stderr",
     "output_type": "stream",
     "text": [
      "\r",
      "┣██████████████████▎ ┫ [91.44%, 203/222, 12:06/13:14, 4.23s/i] "
     ]
    },
    {
     "name": "stdout",
     "output_type": "stream",
     "text": [
      "R(0.6410172)\n"
     ]
    },
    {
     "name": "stderr",
     "output_type": "stream",
     "text": [
      "\r",
      "┣██████████████████▍ ┫ [91.89%, 204/222, 12:09/13:13, 2.57s/i] "
     ]
    },
    {
     "name": "stdout",
     "output_type": "stream",
     "text": [
      "R(16.848776)\n"
     ]
    },
    {
     "name": "stderr",
     "output_type": "stream",
     "text": [
      "\r",
      "┣██████████████████▍ ┫ [92.34%, 205/222, 12:12/13:13, 3.48s/i] "
     ]
    },
    {
     "name": "stdout",
     "output_type": "stream",
     "text": [
      "R(1.9399277)\n"
     ]
    },
    {
     "name": "stderr",
     "output_type": "stream",
     "text": [
      "\r",
      "┣██████████████████▌ ┫ [92.79%, 206/222, 12:15/13:12, 3.01s/i] "
     ]
    },
    {
     "name": "stdout",
     "output_type": "stream",
     "text": [
      "R(0.14283367)\n"
     ]
    },
    {
     "name": "stderr",
     "output_type": "stream",
     "text": [
      "\r",
      "┣██████████████████▋ ┫ [93.24%, 207/222, 12:19/13:13, 4.13s/i] "
     ]
    },
    {
     "name": "stdout",
     "output_type": "stream",
     "text": [
      "R(4.882268)\n"
     ]
    },
    {
     "name": "stderr",
     "output_type": "stream",
     "text": [
      "\r",
      "┣██████████████████▋ ┫ [93.69%, 208/222, 12:23/13:13, 3.42s/i] "
     ]
    },
    {
     "name": "stdout",
     "output_type": "stream",
     "text": [
      "R(0.70874083)\n"
     ]
    },
    {
     "name": "stderr",
     "output_type": "stream",
     "text": [
      "\r",
      "┣██████████████████▊ ┫ [94.14%, 209/222, 12:25/13:12, 2.58s/i] "
     ]
    },
    {
     "name": "stdout",
     "output_type": "stream",
     "text": [
      "R(17.027061)\n"
     ]
    },
    {
     "name": "stderr",
     "output_type": "stream",
     "text": [
      "\r",
      "┣██████████████████▉ ┫ [94.59%, 210/222, 12:29/13:12, 3.59s/i] "
     ]
    },
    {
     "name": "stdout",
     "output_type": "stream",
     "text": [
      "R(1.6769484)\n"
     ]
    },
    {
     "name": "stderr",
     "output_type": "stream",
     "text": [
      "\r",
      "┣███████████████████ ┫ [95.05%, 211/222, 12:32/13:11, 2.88s/i] "
     ]
    },
    {
     "name": "stdout",
     "output_type": "stream",
     "text": [
      "R(9.567207)\n"
     ]
    },
    {
     "name": "stderr",
     "output_type": "stream",
     "text": [
      "\r",
      "┣███████████████████ ┫ [95.50%, 212/222, 12:37/13:12, 4.90s/i] "
     ]
    },
    {
     "name": "stdout",
     "output_type": "stream",
     "text": [
      "R(27.66584)\n"
     ]
    },
    {
     "name": "stderr",
     "output_type": "stream",
     "text": [
      "\r",
      "┣███████████████████▏┫ [95.95%, 213/222, 12:41/13:13, 4.18s/i] "
     ]
    },
    {
     "name": "stdout",
     "output_type": "stream",
     "text": [
      "R(8.803456)\n"
     ]
    },
    {
     "name": "stderr",
     "output_type": "stream",
     "text": [
      "\r",
      "┣███████████████████▎┫ [96.40%, 214/222, 12:44/13:13, 3.40s/i] "
     ]
    },
    {
     "name": "stdout",
     "output_type": "stream",
     "text": [
      "R(10.021969)\n"
     ]
    },
    {
     "name": "stderr",
     "output_type": "stream",
     "text": [
      "\r",
      "┣███████████████████▎┫ [96.85%, 215/222, 12:48/13:13, 4.07s/i] "
     ]
    },
    {
     "name": "stdout",
     "output_type": "stream",
     "text": [
      "R(0.6564266)\n"
     ]
    },
    {
     "name": "stderr",
     "output_type": "stream",
     "text": [
      "\r",
      "┣███████████████████▍┫ [97.30%, 216/222, 12:53/13:14, 4.11s/i] "
     ]
    },
    {
     "name": "stdout",
     "output_type": "stream",
     "text": [
      "R(3.212988)\n"
     ]
    },
    {
     "name": "stderr",
     "output_type": "stream",
     "text": [
      "\r",
      "┣███████████████████▌┫ [97.75%, 217/222, 12:55/13:13, 2.85s/i] "
     ]
    },
    {
     "name": "stdout",
     "output_type": "stream",
     "text": [
      "R(1.2430968)\n"
     ]
    },
    {
     "name": "stderr",
     "output_type": "stream",
     "text": [
      "\r",
      "┣███████████████████▋┫ [98.20%, 218/222, 12:58/13:13, 2.86s/i] "
     ]
    },
    {
     "name": "stdout",
     "output_type": "stream",
     "text": [
      "R(0.6031036)\n"
     ]
    },
    {
     "name": "stderr",
     "output_type": "stream",
     "text": [
      "\r",
      "┣███████████████████▋┫ [98.65%, 219/222, 13:01/13:12, 2.62s/i] "
     ]
    },
    {
     "name": "stdout",
     "output_type": "stream",
     "text": [
      "R(7.3373523)\n"
     ]
    },
    {
     "name": "stderr",
     "output_type": "stream",
     "text": [
      "\r",
      "┣███████████████████▊┫ [99.10%, 220/222, 13:04/13:11, 3.37s/i] "
     ]
    },
    {
     "name": "stdout",
     "output_type": "stream",
     "text": [
      "R(0.77347803)\n"
     ]
    },
    {
     "name": "stderr",
     "output_type": "stream",
     "text": [
      "\r",
      "┣███████████████████▉┫ [99.55%, 221/222, 13:09/13:12, 4.38s/i] "
     ]
    },
    {
     "name": "stdout",
     "output_type": "stream",
     "text": [
      "R(3.1404629)\n"
     ]
    },
    {
     "name": "stderr",
     "output_type": "stream",
     "text": [
      "┣████████████████████┫ [100.00%, 222/222, 13:12/13:12, 3.57s/i] \n"
     ]
    },
    {
     "name": "stdout",
     "output_type": "stream",
     "text": [
      "R(1.4632936)\n"
     ]
    },
    {
     "name": "stderr",
     "output_type": "stream",
     "text": [
      "\r",
      "┣                    ┫ [0.45%, 1/222, 00:03/10:36, 2.86s/i] "
     ]
    },
    {
     "name": "stdout",
     "output_type": "stream",
     "text": [
      "R(18.30431)\n"
     ]
    },
    {
     "name": "stderr",
     "output_type": "stream",
     "text": [
      "\r",
      "┣▏                   ┫ [0.90%, 2/222, 00:07/12:35, 3.94s/i] "
     ]
    },
    {
     "name": "stdout",
     "output_type": "stream",
     "text": [
      "R(1.9024897)\n"
     ]
    },
    {
     "name": "stderr",
     "output_type": "stream",
     "text": [
      "\r",
      "┣▎                   ┫ [1.35%, 3/222, 00:11/13:09, 3.87s/i] "
     ]
    },
    {
     "name": "stdout",
     "output_type": "stream",
     "text": [
      "R(3.3535547)\n"
     ]
    },
    {
     "name": "stderr",
     "output_type": "stream",
     "text": [
      "\r",
      "┣▎                   ┫ [1.80%, 4/222, 00:14/12:51, 3.22s/i] "
     ]
    },
    {
     "name": "stdout",
     "output_type": "stream",
     "text": [
      "R(3.095179)\n"
     ]
    },
    {
     "name": "stderr",
     "output_type": "stream",
     "text": [
      "\r",
      "┣▍                   ┫ [2.25%, 5/222, 00:17/12:32, 3.04s/i] "
     ]
    },
    {
     "name": "stdout",
     "output_type": "stream",
     "text": [
      "R(7.9255166)\n"
     ]
    },
    {
     "name": "stderr",
     "output_type": "stream",
     "text": [
      "\r",
      "┣▌                   ┫ [2.70%, 6/222, 00:20/12:23, 3.16s/i] "
     ]
    },
    {
     "name": "stdout",
     "output_type": "stream",
     "text": [
      "R(12.924063)\n"
     ]
    },
    {
     "name": "stderr",
     "output_type": "stream",
     "text": [
      "\r",
      "┣▋                   ┫ [3.15%, 7/222, 00:24/12:26, 3.44s/i] "
     ]
    },
    {
     "name": "stdout",
     "output_type": "stream",
     "text": [
      "R(1.8913753)\n"
     ]
    },
    {
     "name": "stderr",
     "output_type": "stream",
     "text": [
      "\r",
      "┣▋                   ┫ [3.60%, 8/222, 00:28/13:07, 4.82s/i] "
     ]
    },
    {
     "name": "stdout",
     "output_type": "stream",
     "text": [
      "R(0.87245876)\n"
     ]
    },
    {
     "name": "stderr",
     "output_type": "stream",
     "text": [
      "\r",
      "┣▊                   ┫ [4.05%, 9/222, 00:32/12:58, 3.19s/i] "
     ]
    },
    {
     "name": "stdout",
     "output_type": "stream",
     "text": [
      "R(16.17633)\n"
     ]
    },
    {
     "name": "stderr",
     "output_type": "stream",
     "text": [
      "\r",
      "┣▉                   ┫ [4.50%, 10/222, 00:35/13:06, 3.86s/i] "
     ]
    },
    {
     "name": "stdout",
     "output_type": "stream",
     "text": [
      "R(3.8680842)\n"
     ]
    },
    {
     "name": "stderr",
     "output_type": "stream",
     "text": [
      "\r",
      "┣▉                   ┫ [4.95%, 11/222, 00:39/13:03, 3.41s/i] "
     ]
    },
    {
     "name": "stdout",
     "output_type": "stream",
     "text": [
      "R(0.15047288)\n"
     ]
    },
    {
     "name": "stderr",
     "output_type": "stream",
     "text": [
      "\r",
      "┣█                   ┫ [5.41%, 12/222, 00:42/13:05, 3.65s/i] "
     ]
    },
    {
     "name": "stdout",
     "output_type": "stream",
     "text": [
      "R(2.5784674)\n"
     ]
    },
    {
     "name": "stderr",
     "output_type": "stream",
     "text": [
      "\r",
      "┣█▏                  ┫ [5.86%, 13/222, 00:46/13:01, 3.27s/i] "
     ]
    },
    {
     "name": "stdout",
     "output_type": "stream",
     "text": [
      "R(4.7647195)\n"
     ]
    },
    {
     "name": "stderr",
     "output_type": "stream",
     "text": [
      "\r",
      "┣█▎                  ┫ [6.31%, 14/222, 00:49/12:55, 3.16s/i] "
     ]
    },
    {
     "name": "stdout",
     "output_type": "stream",
     "text": [
      "R(18.211102)\n"
     ]
    },
    {
     "name": "stderr",
     "output_type": "stream",
     "text": [
      "\r",
      "┣█▎                  ┫ [6.76%, 15/222, 00:52/12:52, 3.28s/i] "
     ]
    },
    {
     "name": "stdout",
     "output_type": "stream",
     "text": [
      "R(12.276602)\n"
     ]
    },
    {
     "name": "stderr",
     "output_type": "stream",
     "text": [
      "\r",
      "┣█▍                  ┫ [7.21%, 16/222, 00:56/13:00, 4.03s/i] "
     ]
    },
    {
     "name": "stdout",
     "output_type": "stream",
     "text": [
      "R(0.25060895)\n"
     ]
    },
    {
     "name": "stderr",
     "output_type": "stream",
     "text": [
      "\r",
      "┣█▌                  ┫ [7.66%, 17/222, 01:01/13:10, 4.32s/i] "
     ]
    },
    {
     "name": "stdout",
     "output_type": "stream",
     "text": [
      "R(0.4621724)\n"
     ]
    },
    {
     "name": "stderr",
     "output_type": "stream",
     "text": [
      "\r",
      "┣█▌                  ┫ [8.11%, 18/222, 01:03/13:02, 2.89s/i] "
     ]
    },
    {
     "name": "stdout",
     "output_type": "stream",
     "text": [
      "R(5.0962787)\n"
     ]
    },
    {
     "name": "stderr",
     "output_type": "stream",
     "text": [
      "\r",
      "┣█▋                  ┫ [8.56%, 19/222, 01:07/12:59, 3.26s/i] "
     ]
    },
    {
     "name": "stdout",
     "output_type": "stream",
     "text": [
      "R(15.508948)\n"
     ]
    },
    {
     "name": "stderr",
     "output_type": "stream",
     "text": [
      "\r",
      "┣█▊                  ┫ [9.01%, 20/222, 01:11/13:03, 3.86s/i] "
     ]
    },
    {
     "name": "stdout",
     "output_type": "stream",
     "text": [
      "R(7.4045777)\n"
     ]
    },
    {
     "name": "stderr",
     "output_type": "stream",
     "text": [
      "\r",
      "┣█▉                  ┫ [9.46%, 21/222, 01:15/13:16, 4.74s/i] "
     ]
    },
    {
     "name": "stdout",
     "output_type": "stream",
     "text": [
      "R(0.7285506)\n"
     ]
    },
    {
     "name": "stderr",
     "output_type": "stream",
     "text": [
      "\r",
      "┣█▉                  ┫ [9.91%, 22/222, 01:18/13:10, 3.02s/i] "
     ]
    },
    {
     "name": "stdout",
     "output_type": "stream",
     "text": [
      "R(2.3502681)\n"
     ]
    },
    {
     "name": "stderr",
     "output_type": "stream",
     "text": [
      "\r",
      "┣██                  ┫ [10.36%, 23/222, 01:21/13:06, 3.15s/i] "
     ]
    },
    {
     "name": "stdout",
     "output_type": "stream",
     "text": [
      "R(0.59505224)\n"
     ]
    },
    {
     "name": "stderr",
     "output_type": "stream",
     "text": [
      "\r",
      "┣██▏                 ┫ [10.81%, 24/222, 01:24/12:59, 2.74s/i] "
     ]
    },
    {
     "name": "stdout",
     "output_type": "stream",
     "text": [
      "R(2.1420243)\n"
     ]
    },
    {
     "name": "stderr",
     "output_type": "stream",
     "text": [
      "\r",
      "┣██▎                 ┫ [11.26%, 25/222, 01:27/12:53, 2.93s/i] "
     ]
    },
    {
     "name": "stdout",
     "output_type": "stream",
     "text": [
      "R(16.336962)\n"
     ]
    },
    {
     "name": "stderr",
     "output_type": "stream",
     "text": [
      "\r",
      "┣██▎                 ┫ [11.71%, 26/222, 01:32/13:06, 4.91s/i] "
     ]
    },
    {
     "name": "stdout",
     "output_type": "stream",
     "text": [
      "R(0.7206546)\n"
     ]
    },
    {
     "name": "stderr",
     "output_type": "stream",
     "text": [
      "\r",
      "┣██▍                 ┫ [12.16%, 27/222, 01:35/13:00, 2.87s/i] "
     ]
    },
    {
     "name": "stdout",
     "output_type": "stream",
     "text": [
      "R(5.926149)\n"
     ]
    },
    {
     "name": "stderr",
     "output_type": "stream",
     "text": [
      "\r",
      "┣██▌                 ┫ [12.61%, 28/222, 01:38/12:59, 3.42s/i] "
     ]
    },
    {
     "name": "stdout",
     "output_type": "stream",
     "text": [
      "R(0.99179834)\n"
     ]
    },
    {
     "name": "stderr",
     "output_type": "stream",
     "text": [
      "\r",
      "┣██▌                 ┫ [13.06%, 29/222, 01:41/12:57, 3.18s/i] "
     ]
    },
    {
     "name": "stdout",
     "output_type": "stream",
     "text": [
      "R(30.327332)\n"
     ]
    },
    {
     "name": "stderr",
     "output_type": "stream",
     "text": [
      "\r",
      "┣██▋                 ┫ [13.51%, 30/222, 01:48/13:18, 6.39s/i] "
     ]
    },
    {
     "name": "stdout",
     "output_type": "stream",
     "text": [
      "R(0.5204874)\n"
     ]
    },
    {
     "name": "stderr",
     "output_type": "stream",
     "text": [
      "\r",
      "┣██▊                 ┫ [13.96%, 31/222, 01:50/13:11, 2.51s/i] "
     ]
    },
    {
     "name": "stdout",
     "output_type": "stream",
     "text": [
      "R(7.9756083)\n"
     ]
    },
    {
     "name": "stderr",
     "output_type": "stream",
     "text": [
      "\r",
      "┣██▉                 ┫ [14.41%, 32/222, 01:54/13:11, 3.58s/i] "
     ]
    },
    {
     "name": "stdout",
     "output_type": "stream",
     "text": [
      "R(2.2187543)\n"
     ]
    },
    {
     "name": "stderr",
     "output_type": "stream",
     "text": [
      "\r",
      "┣██▉                 ┫ [14.86%, 33/222, 01:57/13:06, 2.83s/i] "
     ]
    },
    {
     "name": "stdout",
     "output_type": "stream",
     "text": [
      "R(5.005763)\n"
     ]
    },
    {
     "name": "stderr",
     "output_type": "stream",
     "text": [
      "\r",
      "┣███                 ┫ [15.32%, 34/222, 02:00/13:03, 3.17s/i] "
     ]
    },
    {
     "name": "stdout",
     "output_type": "stream",
     "text": [
      "R(0.61157286)\n"
     ]
    },
    {
     "name": "stderr",
     "output_type": "stream",
     "text": [
      "\r",
      "┣███▏                ┫ [15.77%, 35/222, 02:04/13:09, 4.38s/i] "
     ]
    },
    {
     "name": "stdout",
     "output_type": "stream",
     "text": [
      "R(22.036974)\n"
     ]
    },
    {
     "name": "stderr",
     "output_type": "stream",
     "text": [
      "\r",
      "┣███▏                ┫ [16.22%, 36/222, 02:09/13:15, 4.49s/i] "
     ]
    },
    {
     "name": "stdout",
     "output_type": "stream",
     "text": [
      "R(0.9400873)\n"
     ]
    },
    {
     "name": "stderr",
     "output_type": "stream",
     "text": [
      "\r",
      "┣███▎                ┫ [16.67%, 37/222, 02:12/13:11, 3.00s/i] "
     ]
    },
    {
     "name": "stdout",
     "output_type": "stream",
     "text": [
      "R(1.498134)\n"
     ]
    },
    {
     "name": "stderr",
     "output_type": "stream",
     "text": [
      "\r",
      "┣███▍                ┫ [17.12%, 38/222, 02:15/13:08, 2.98s/i] "
     ]
    },
    {
     "name": "stdout",
     "output_type": "stream",
     "text": [
      "R(4.0502067)\n"
     ]
    },
    {
     "name": "stderr",
     "output_type": "stream",
     "text": [
      "\r",
      "┣███▌                ┫ [17.57%, 39/222, 02:19/13:13, 4.47s/i] "
     ]
    },
    {
     "name": "stdout",
     "output_type": "stream",
     "text": [
      "R(10.831516)\n"
     ]
    },
    {
     "name": "stderr",
     "output_type": "stream",
     "text": [
      "\r",
      "┣███▌                ┫ [18.02%, 40/222, 02:23/13:13, 3.54s/i] "
     ]
    },
    {
     "name": "stdout",
     "output_type": "stream",
     "text": [
      "R(3.5881755)\n"
     ]
    },
    {
     "name": "stderr",
     "output_type": "stream",
     "text": [
      "\r",
      "┣███▋                ┫ [18.47%, 41/222, 02:26/13:09, 2.90s/i] "
     ]
    },
    {
     "name": "stdout",
     "output_type": "stream",
     "text": [
      "R(1.8486255)\n"
     ]
    },
    {
     "name": "stderr",
     "output_type": "stream",
     "text": [
      "\r",
      "┣███▊                ┫ [18.92%, 42/222, 02:28/13:04, 2.64s/i] "
     ]
    },
    {
     "name": "stdout",
     "output_type": "stream",
     "text": [
      "R(0.98045284)\n"
     ]
    },
    {
     "name": "stderr",
     "output_type": "stream",
     "text": [
      "\r",
      "┣███▊                ┫ [19.37%, 43/222, 02:32/13:02, 3.16s/i] "
     ]
    },
    {
     "name": "stdout",
     "output_type": "stream",
     "text": [
      "R(0.15945351)\n"
     ]
    },
    {
     "name": "stderr",
     "output_type": "stream",
     "text": [
      "\r",
      "┣███▉                ┫ [19.82%, 44/222, 02:36/13:06, 4.29s/i] "
     ]
    },
    {
     "name": "stdout",
     "output_type": "stream",
     "text": [
      "R(0.19696765)\n"
     ]
    },
    {
     "name": "stderr",
     "output_type": "stream",
     "text": [
      "\r",
      "┣████                ┫ [20.27%, 45/222, 02:39/13:03, 2.86s/i] "
     ]
    },
    {
     "name": "stdout",
     "output_type": "stream",
     "text": [
      "R(4.549604)\n"
     ]
    },
    {
     "name": "stderr",
     "output_type": "stream",
     "text": [
      "\r",
      "┣████▏               ┫ [20.72%, 46/222, 02:42/13:00, 2.93s/i] "
     ]
    },
    {
     "name": "stdout",
     "output_type": "stream",
     "text": [
      "R(0.9310744)\n"
     ]
    },
    {
     "name": "stderr",
     "output_type": "stream",
     "text": [
      "\r",
      "┣████▏               ┫ [21.17%, 47/222, 02:44/12:55, 2.54s/i] "
     ]
    },
    {
     "name": "stdout",
     "output_type": "stream",
     "text": [
      "R(2.5910103)\n"
     ]
    },
    {
     "name": "stderr",
     "output_type": "stream",
     "text": [
      "\r",
      "┣████▎               ┫ [21.62%, 48/222, 02:48/12:59, 4.28s/i] "
     ]
    },
    {
     "name": "stdout",
     "output_type": "stream",
     "text": [
      "R(13.857118)\n"
     ]
    },
    {
     "name": "stderr",
     "output_type": "stream",
     "text": [
      "\r",
      "┣████▍               ┫ [22.07%, 49/222, 02:52/12:58, 3.19s/i] "
     ]
    },
    {
     "name": "stdout",
     "output_type": "stream",
     "text": [
      "R(4.0063715)\n"
     ]
    },
    {
     "name": "stderr",
     "output_type": "stream",
     "text": [
      "\r",
      "┣████▌               ┫ [22.52%, 50/222, 02:55/12:56, 3.25s/i] "
     ]
    },
    {
     "name": "stdout",
     "output_type": "stream",
     "text": [
      "R(15.305272)\n"
     ]
    },
    {
     "name": "stderr",
     "output_type": "stream",
     "text": [
      "\r",
      "┣████▌               ┫ [22.97%, 51/222, 02:58/12:56, 3.50s/i] "
     ]
    },
    {
     "name": "stdout",
     "output_type": "stream",
     "text": [
      "R(7.9238796)\n"
     ]
    },
    {
     "name": "stderr",
     "output_type": "stream",
     "text": [
      "\r",
      "┣████▋               ┫ [23.42%, 52/222, 03:02/12:56, 3.29s/i] "
     ]
    },
    {
     "name": "stdout",
     "output_type": "stream",
     "text": [
      "R(4.865594)\n"
     ]
    },
    {
     "name": "stderr",
     "output_type": "stream",
     "text": [
      "\r",
      "┣████▊               ┫ [23.87%, 53/222, 03:06/13:01, 4.73s/i] "
     ]
    },
    {
     "name": "stdout",
     "output_type": "stream",
     "text": [
      "R(36.95261)\n"
     ]
    },
    {
     "name": "stderr",
     "output_type": "stream",
     "text": [
      "\r",
      "┣████▊               ┫ [24.32%, 54/222, 03:12/13:08, 5.25s/i] "
     ]
    },
    {
     "name": "stdout",
     "output_type": "stream",
     "text": [
      "R(8.159331)\n"
     ]
    },
    {
     "name": "stderr",
     "output_type": "stream",
     "text": [
      "\r",
      "┣████▉               ┫ [24.77%, 55/222, 03:15/13:07, 3.43s/i] "
     ]
    },
    {
     "name": "stdout",
     "output_type": "stream",
     "text": [
      "R(1.639338)\n"
     ]
    },
    {
     "name": "stderr",
     "output_type": "stream",
     "text": [
      "\r",
      "┣█████               ┫ [25.23%, 56/222, 03:18/13:05, 2.94s/i] "
     ]
    },
    {
     "name": "stdout",
     "output_type": "stream",
     "text": [
      "R(1.2426355)\n"
     ]
    },
    {
     "name": "stderr",
     "output_type": "stream",
     "text": [
      "\r",
      "┣█████▏              ┫ [25.68%, 57/222, 03:22/13:08, 4.23s/i] "
     ]
    },
    {
     "name": "stdout",
     "output_type": "stream",
     "text": [
      "R(0.67787755)\n"
     ]
    },
    {
     "name": "stderr",
     "output_type": "stream",
     "text": [
      "\r",
      "┣█████▏              ┫ [26.13%, 58/222, 03:25/13:04, 2.61s/i] "
     ]
    },
    {
     "name": "stdout",
     "output_type": "stream",
     "text": [
      "R(1.8118984)\n"
     ]
    },
    {
     "name": "stderr",
     "output_type": "stream",
     "text": [
      "\r",
      "┣█████▎              ┫ [26.58%, 59/222, 03:28/13:02, 2.98s/i] "
     ]
    },
    {
     "name": "stdout",
     "output_type": "stream",
     "text": [
      "R(3.852925)\n"
     ]
    },
    {
     "name": "stderr",
     "output_type": "stream",
     "text": [
      "\r",
      "┣█████▍              ┫ [27.03%, 60/222, 03:31/13:01, 3.19s/i] "
     ]
    },
    {
     "name": "stdout",
     "output_type": "stream",
     "text": [
      "R(0.68176204)\n"
     ]
    },
    {
     "name": "stderr",
     "output_type": "stream",
     "text": [
      "\r",
      "┣█████▍              ┫ [27.48%, 61/222, 03:34/12:58, 2.79s/i] "
     ]
    },
    {
     "name": "stdout",
     "output_type": "stream",
     "text": [
      "R(1.0468655)\n"
     ]
    },
    {
     "name": "stderr",
     "output_type": "stream",
     "text": [
      "\r",
      "┣█████▌              ┫ [27.93%, 62/222, 03:38/13:01, 4.35s/i] "
     ]
    },
    {
     "name": "stdout",
     "output_type": "stream",
     "text": [
      "R(0.23359437)\n"
     ]
    },
    {
     "name": "stderr",
     "output_type": "stream",
     "text": [
      "\r",
      "┣█████▋              ┫ [28.38%, 63/222, 03:41/12:59, 2.92s/i] "
     ]
    },
    {
     "name": "stdout",
     "output_type": "stream",
     "text": [
      "R(28.897512)\n"
     ]
    },
    {
     "name": "stderr",
     "output_type": "stream",
     "text": [
      "\r",
      "┣█████▊              ┫ [28.83%, 64/222, 03:45/13:02, 4.36s/i] "
     ]
    },
    {
     "name": "stdout",
     "output_type": "stream",
     "text": [
      "R(8.492422)\n"
     ]
    },
    {
     "name": "stderr",
     "output_type": "stream",
     "text": [
      "\r",
      "┣█████▊              ┫ [29.28%, 65/222, 03:49/13:02, 3.63s/i] "
     ]
    },
    {
     "name": "stdout",
     "output_type": "stream",
     "text": [
      "R(0.8815406)\n"
     ]
    },
    {
     "name": "stderr",
     "output_type": "stream",
     "text": [
      "\r",
      "┣█████▉              ┫ [29.73%, 66/222, 03:53/13:04, 4.06s/i] "
     ]
    },
    {
     "name": "stdout",
     "output_type": "stream",
     "text": [
      "R(0.5555532)\n"
     ]
    },
    {
     "name": "stderr",
     "output_type": "stream",
     "text": [
      "\r",
      "┣██████              ┫ [30.18%, 67/222, 03:56/13:02, 2.81s/i] "
     ]
    },
    {
     "name": "stdout",
     "output_type": "stream",
     "text": [
      "R(0.41518953)\n"
     ]
    },
    {
     "name": "stderr",
     "output_type": "stream",
     "text": [
      "\r",
      "┣██████▏             ┫ [30.63%, 68/222, 03:59/12:59, 2.62s/i] "
     ]
    },
    {
     "name": "stdout",
     "output_type": "stream",
     "text": [
      "R(3.738901)\n"
     ]
    },
    {
     "name": "stderr",
     "output_type": "stream",
     "text": [
      "\r",
      "┣██████▏             ┫ [31.08%, 69/222, 04:02/12:58, 3.20s/i] "
     ]
    },
    {
     "name": "stdout",
     "output_type": "stream",
     "text": [
      "R(1.9111866)\n"
     ]
    },
    {
     "name": "stderr",
     "output_type": "stream",
     "text": [
      "\r",
      "┣██████▎             ┫ [31.53%, 70/222, 04:05/12:56, 2.86s/i] "
     ]
    },
    {
     "name": "stdout",
     "output_type": "stream",
     "text": [
      "R(9.547485)\n"
     ]
    },
    {
     "name": "stderr",
     "output_type": "stream",
     "text": [
      "\r",
      "┣██████▍             ┫ [31.98%, 71/222, 04:10/13:01, 5.15s/i] "
     ]
    },
    {
     "name": "stdout",
     "output_type": "stream",
     "text": [
      "R(0.2088665)\n"
     ]
    },
    {
     "name": "stderr",
     "output_type": "stream",
     "text": [
      "\r",
      "┣██████▍             ┫ [32.43%, 72/222, 04:13/12:59, 2.91s/i] "
     ]
    },
    {
     "name": "stdout",
     "output_type": "stream",
     "text": [
      "R(7.4219375)\n"
     ]
    },
    {
     "name": "stderr",
     "output_type": "stream",
     "text": [
      "\r",
      "┣██████▌             ┫ [32.88%, 73/222, 04:16/12:59, 3.37s/i] "
     ]
    },
    {
     "name": "stdout",
     "output_type": "stream",
     "text": [
      "R(26.263979)\n"
     ]
    },
    {
     "name": "stderr",
     "output_type": "stream",
     "text": [
      "\r",
      "┣██████▋             ┫ [33.33%, 74/222, 04:20/12:59, 3.76s/i] "
     ]
    },
    {
     "name": "stdout",
     "output_type": "stream",
     "text": [
      "R(19.20599)\n"
     ]
    },
    {
     "name": "stderr",
     "output_type": "stream",
     "text": [
      "\r",
      "┣██████▊             ┫ [33.78%, 75/222, 04:25/13:04, 5.08s/i] "
     ]
    },
    {
     "name": "stdout",
     "output_type": "stream",
     "text": [
      "R(0.26642412)\n"
     ]
    },
    {
     "name": "stderr",
     "output_type": "stream",
     "text": [
      "\r",
      "┣██████▊             ┫ [34.23%, 76/222, 04:27/13:01, 2.62s/i] "
     ]
    },
    {
     "name": "stdout",
     "output_type": "stream",
     "text": [
      "R(1.8322697)\n"
     ]
    },
    {
     "name": "stderr",
     "output_type": "stream",
     "text": [
      "\r",
      "┣██████▉             ┫ [34.68%, 77/222, 04:30/12:59, 2.67s/i] "
     ]
    },
    {
     "name": "stdout",
     "output_type": "stream",
     "text": [
      "R(25.224604)\n"
     ]
    },
    {
     "name": "stderr",
     "output_type": "stream",
     "text": [
      "\r",
      "┣███████             ┫ [35.14%, 78/222, 04:34/13:00, 3.89s/i] "
     ]
    },
    {
     "name": "stdout",
     "output_type": "stream",
     "text": [
      "R(76.8429)\n"
     ]
    },
    {
     "name": "stderr",
     "output_type": "stream",
     "text": [
      "\r",
      "┣███████             ┫ [35.59%, 79/222, 04:40/13:06, 5.76s/i] "
     ]
    },
    {
     "name": "stdout",
     "output_type": "stream",
     "text": [
      "R(0.7691319)\n"
     ]
    },
    {
     "name": "stderr",
     "output_type": "stream",
     "text": [
      "\r",
      "┣███████▏            ┫ [36.04%, 80/222, 04:44/13:09, 4.38s/i] "
     ]
    },
    {
     "name": "stdout",
     "output_type": "stream",
     "text": [
      "R(6.805776)\n"
     ]
    },
    {
     "name": "stderr",
     "output_type": "stream",
     "text": [
      "\r",
      "┣███████▎            ┫ [36.49%, 81/222, 04:48/13:09, 3.51s/i] "
     ]
    },
    {
     "name": "stdout",
     "output_type": "stream",
     "text": [
      "R(20.890957)\n"
     ]
    },
    {
     "name": "stderr",
     "output_type": "stream",
     "text": [
      "\r",
      "┣███████▍            ┫ [36.94%, 82/222, 04:51/13:08, 3.52s/i] "
     ]
    },
    {
     "name": "stdout",
     "output_type": "stream",
     "text": [
      "R(0.63241434)\n"
     ]
    },
    {
     "name": "stderr",
     "output_type": "stream",
     "text": [
      "\r",
      "┣███████▍            ┫ [37.39%, 83/222, 04:54/13:07, 2.89s/i] "
     ]
    },
    {
     "name": "stdout",
     "output_type": "stream",
     "text": [
      "R(0.9693868)\n"
     ]
    },
    {
     "name": "stderr",
     "output_type": "stream",
     "text": [
      "\r",
      "┣███████▌            ┫ [37.84%, 84/222, 04:58/13:08, 4.02s/i] "
     ]
    },
    {
     "name": "stdout",
     "output_type": "stream",
     "text": [
      "R(34.233887)\n"
     ]
    },
    {
     "name": "stderr",
     "output_type": "stream",
     "text": [
      "\r",
      "┣███████▋            ┫ [38.29%, 85/222, 05:02/13:09, 4.01s/i] "
     ]
    },
    {
     "name": "stdout",
     "output_type": "stream",
     "text": [
      "R(0.34400722)\n"
     ]
    },
    {
     "name": "stderr",
     "output_type": "stream",
     "text": [
      "\r",
      "┣███████▋            ┫ [38.74%, 86/222, 05:05/13:07, 2.67s/i] "
     ]
    },
    {
     "name": "stdout",
     "output_type": "stream",
     "text": [
      "R(0.9795979)\n"
     ]
    },
    {
     "name": "stderr",
     "output_type": "stream",
     "text": [
      "\r",
      "┣███████▊            ┫ [39.19%, 87/222, 05:08/13:05, 3.02s/i] "
     ]
    },
    {
     "name": "stdout",
     "output_type": "stream",
     "text": [
      "R(2.0994158)\n"
     ]
    },
    {
     "name": "stderr",
     "output_type": "stream",
     "text": [
      "\r",
      "┣███████▉            ┫ [39.64%, 88/222, 05:11/13:04, 3.03s/i] "
     ]
    },
    {
     "name": "stdout",
     "output_type": "stream",
     "text": [
      "R(2.0126243)\n"
     ]
    },
    {
     "name": "stderr",
     "output_type": "stream",
     "text": [
      "\r",
      "┣████████            ┫ [40.09%, 89/222, 05:15/13:07, 4.53s/i] "
     ]
    },
    {
     "name": "stdout",
     "output_type": "stream",
     "text": [
      "R(0.7805898)\n"
     ]
    },
    {
     "name": "stderr",
     "output_type": "stream",
     "text": [
      "\r",
      "┣████████            ┫ [40.54%, 90/222, 05:18/13:05, 3.02s/i] "
     ]
    },
    {
     "name": "stdout",
     "output_type": "stream",
     "text": [
      "R(14.696926)\n"
     ]
    },
    {
     "name": "stderr",
     "output_type": "stream",
     "text": [
      "\r",
      "┣████████▏           ┫ [40.99%, 91/222, 05:22/13:05, 3.40s/i] "
     ]
    },
    {
     "name": "stdout",
     "output_type": "stream",
     "text": [
      "R(17.811455)\n"
     ]
    },
    {
     "name": "stderr",
     "output_type": "stream",
     "text": [
      "\r",
      "┣████████▎           ┫ [41.44%, 92/222, 05:25/13:05, 3.40s/i] "
     ]
    },
    {
     "name": "stdout",
     "output_type": "stream",
     "text": [
      "R(0.68673867)\n"
     ]
    },
    {
     "name": "stderr",
     "output_type": "stream",
     "text": [
      "\r",
      "┣████████▍           ┫ [41.89%, 93/222, 05:29/13:06, 3.86s/i] "
     ]
    },
    {
     "name": "stdout",
     "output_type": "stream",
     "text": [
      "R(44.5858)\n"
     ]
    },
    {
     "name": "stderr",
     "output_type": "stream",
     "text": [
      "\r",
      "┣████████▍           ┫ [42.34%, 94/222, 05:35/13:10, 5.64s/i] "
     ]
    },
    {
     "name": "stdout",
     "output_type": "stream",
     "text": [
      "R(1.8033332)\n"
     ]
    },
    {
     "name": "stderr",
     "output_type": "stream",
     "text": [
      "\r",
      "┣████████▌           ┫ [42.79%, 95/222, 05:38/13:09, 2.99s/i] "
     ]
    },
    {
     "name": "stdout",
     "output_type": "stream",
     "text": [
      "R(1.8081988)\n"
     ]
    },
    {
     "name": "stderr",
     "output_type": "stream",
     "text": [
      "\r",
      "┣████████▋           ┫ [43.24%, 96/222, 05:41/13:08, 3.21s/i] "
     ]
    },
    {
     "name": "stdout",
     "output_type": "stream",
     "text": [
      "R(4.903472)\n"
     ]
    },
    {
     "name": "stderr",
     "output_type": "stream",
     "text": [
      "\r",
      "┣████████▋           ┫ [43.69%, 97/222, 05:44/13:08, 3.30s/i] "
     ]
    },
    {
     "name": "stdout",
     "output_type": "stream",
     "text": [
      "R(12.294395)\n"
     ]
    },
    {
     "name": "stderr",
     "output_type": "stream",
     "text": [
      "\r",
      "┣████████▊           ┫ [44.14%, 98/222, 05:49/13:11, 4.94s/i] "
     ]
    },
    {
     "name": "stdout",
     "output_type": "stream",
     "text": [
      "R(1.0817854)\n"
     ]
    },
    {
     "name": "stderr",
     "output_type": "stream",
     "text": [
      "\r",
      "┣████████▉           ┫ [44.59%, 99/222, 05:52/13:09, 2.91s/i] "
     ]
    },
    {
     "name": "stdout",
     "output_type": "stream",
     "text": [
      "R(11.340148)\n"
     ]
    },
    {
     "name": "stderr",
     "output_type": "stream",
     "text": [
      "\r",
      "┣█████████           ┫ [45.05%, 100/222, 05:56/13:11, 4.16s/i] "
     ]
    },
    {
     "name": "stdout",
     "output_type": "stream",
     "text": [
      "R(1.6601248)\n"
     ]
    },
    {
     "name": "stderr",
     "output_type": "stream",
     "text": [
      "\r",
      "┣█████████           ┫ [45.50%, 101/222, 06:00/13:10, 3.34s/i] "
     ]
    },
    {
     "name": "stdout",
     "output_type": "stream",
     "text": [
      "R(1.1149355)\n"
     ]
    },
    {
     "name": "stderr",
     "output_type": "stream",
     "text": [
      "\r",
      "┣█████████▏          ┫ [45.95%, 102/222, 06:03/13:10, 3.63s/i] "
     ]
    },
    {
     "name": "stdout",
     "output_type": "stream",
     "text": [
      "R(0.9453206)\n"
     ]
    },
    {
     "name": "stderr",
     "output_type": "stream",
     "text": [
      "\r",
      "┣█████████▎          ┫ [46.40%, 103/222, 06:06/13:09, 2.82s/i] "
     ]
    },
    {
     "name": "stdout",
     "output_type": "stream",
     "text": [
      "R(3.8824863)\n"
     ]
    },
    {
     "name": "stderr",
     "output_type": "stream",
     "text": [
      "\r",
      "┣█████████▎          ┫ [46.85%, 104/222, 06:09/13:08, 3.21s/i] "
     ]
    },
    {
     "name": "stdout",
     "output_type": "stream",
     "text": [
      "R(1.8039719)\n"
     ]
    },
    {
     "name": "stderr",
     "output_type": "stream",
     "text": [
      "\r",
      "┣█████████▍          ┫ [47.30%, 105/222, 06:12/13:07, 2.87s/i] "
     ]
    },
    {
     "name": "stdout",
     "output_type": "stream",
     "text": [
      "R(1.3289586)\n"
     ]
    },
    {
     "name": "stderr",
     "output_type": "stream",
     "text": [
      "\r",
      "┣█████████▌          ┫ [47.75%, 106/222, 06:15/13:05, 2.84s/i] "
     ]
    },
    {
     "name": "stdout",
     "output_type": "stream",
     "text": [
      "R(4.0406995)\n"
     ]
    },
    {
     "name": "stderr",
     "output_type": "stream",
     "text": [
      "\r",
      "┣█████████▋          ┫ [48.20%, 107/222, 06:19/13:07, 4.49s/i] "
     ]
    },
    {
     "name": "stdout",
     "output_type": "stream",
     "text": [
      "R(0.1569058)\n"
     ]
    },
    {
     "name": "stderr",
     "output_type": "stream",
     "text": [
      "\r",
      "┣█████████▋          ┫ [48.65%, 108/222, 06:22/13:05, 2.71s/i] "
     ]
    },
    {
     "name": "stdout",
     "output_type": "stream",
     "text": [
      "R(11.92851)\n"
     ]
    },
    {
     "name": "stderr",
     "output_type": "stream",
     "text": [
      "\r",
      "┣█████████▊          ┫ [49.10%, 109/222, 06:26/13:05, 3.43s/i] "
     ]
    },
    {
     "name": "stdout",
     "output_type": "stream",
     "text": [
      "R(0.35011545)\n"
     ]
    },
    {
     "name": "stderr",
     "output_type": "stream",
     "text": [
      "\r",
      "┣█████████▉          ┫ [49.55%, 110/222, 06:28/13:03, 2.57s/i] "
     ]
    },
    {
     "name": "stdout",
     "output_type": "stream",
     "text": [
      "R(0.42469898)\n"
     ]
    },
    {
     "name": "stderr",
     "output_type": "stream",
     "text": [
      "\r",
      "┣██████████          ┫ [50.00%, 111/222, 06:32/13:05, 4.20s/i] "
     ]
    },
    {
     "name": "stdout",
     "output_type": "stream",
     "text": [
      "R(6.7039733)\n"
     ]
    },
    {
     "name": "stderr",
     "output_type": "stream",
     "text": [
      "\r",
      "┣██████████          ┫ [50.45%, 112/222, 06:36/13:04, 3.32s/i] "
     ]
    },
    {
     "name": "stdout",
     "output_type": "stream",
     "text": [
      "R(0.4942444)\n"
     ]
    },
    {
     "name": "stderr",
     "output_type": "stream",
     "text": [
      "\r",
      "┣██████████▏         ┫ [50.90%, 113/222, 06:38/13:02, 2.63s/i] "
     ]
    },
    {
     "name": "stdout",
     "output_type": "stream",
     "text": [
      "R(3.8123453)\n"
     ]
    },
    {
     "name": "stderr",
     "output_type": "stream",
     "text": [
      "\r",
      "┣██████████▎         ┫ [51.35%, 114/222, 06:41/13:02, 3.15s/i] "
     ]
    },
    {
     "name": "stdout",
     "output_type": "stream",
     "text": [
      "R(1.1501659)\n"
     ]
    },
    {
     "name": "stderr",
     "output_type": "stream",
     "text": [
      "\r",
      "┣██████████▎         ┫ [51.80%, 115/222, 06:44/13:00, 2.76s/i] "
     ]
    },
    {
     "name": "stdout",
     "output_type": "stream",
     "text": [
      "R(6.922774)\n"
     ]
    },
    {
     "name": "stderr",
     "output_type": "stream",
     "text": [
      "\r",
      "┣██████████▍         ┫ [52.25%, 116/222, 06:49/13:03, 5.11s/i] "
     ]
    },
    {
     "name": "stdout",
     "output_type": "stream",
     "text": [
      "R(1.2785182)\n"
     ]
    },
    {
     "name": "stderr",
     "output_type": "stream",
     "text": [
      "\r",
      "┣██████████▌         ┫ [52.70%, 117/222, 06:52/13:02, 3.07s/i] "
     ]
    },
    {
     "name": "stdout",
     "output_type": "stream",
     "text": [
      "R(1.3725715)\n"
     ]
    },
    {
     "name": "stderr",
     "output_type": "stream",
     "text": [
      "\r",
      "┣██████████▋         ┫ [53.15%, 118/222, 06:55/13:01, 2.94s/i] "
     ]
    },
    {
     "name": "stdout",
     "output_type": "stream",
     "text": [
      "R(5.3535595)\n"
     ]
    },
    {
     "name": "stderr",
     "output_type": "stream",
     "text": [
      "\r",
      "┣██████████▋         ┫ [53.60%, 119/222, 06:59/13:02, 3.61s/i] "
     ]
    },
    {
     "name": "stdout",
     "output_type": "stream",
     "text": [
      "R(1.7596476)\n"
     ]
    },
    {
     "name": "stderr",
     "output_type": "stream",
     "text": [
      "\r",
      "┣██████████▊         ┫ [54.05%, 120/222, 07:02/13:00, 2.88s/i] "
     ]
    },
    {
     "name": "stdout",
     "output_type": "stream",
     "text": [
      "R(0.1380988)\n"
     ]
    },
    {
     "name": "stderr",
     "output_type": "stream",
     "text": [
      "\r",
      "┣██████████▉         ┫ [54.50%, 121/222, 07:06/13:02, 4.22s/i] "
     ]
    },
    {
     "name": "stdout",
     "output_type": "stream",
     "text": [
      "R(13.978158)\n"
     ]
    },
    {
     "name": "stderr",
     "output_type": "stream",
     "text": [
      "\r",
      "┣██████████▉         ┫ [54.95%, 122/222, 07:09/13:01, 3.38s/i] "
     ]
    },
    {
     "name": "stdout",
     "output_type": "stream",
     "text": [
      "R(0.6941178)\n"
     ]
    },
    {
     "name": "stderr",
     "output_type": "stream",
     "text": [
      "\r",
      "┣███████████         ┫ [55.41%, 123/222, 07:12/13:00, 2.80s/i] "
     ]
    },
    {
     "name": "stdout",
     "output_type": "stream",
     "text": [
      "R(1.1423043)\n"
     ]
    },
    {
     "name": "stderr",
     "output_type": "stream",
     "text": [
      "\r",
      "┣███████████▏        ┫ [55.86%, 124/222, 07:15/12:59, 2.87s/i] "
     ]
    },
    {
     "name": "stdout",
     "output_type": "stream",
     "text": [
      "R(0.75844663)\n"
     ]
    },
    {
     "name": "stderr",
     "output_type": "stream",
     "text": [
      "\r",
      "┣███████████▎        ┫ [56.31%, 125/222, 07:18/12:58, 2.75s/i] "
     ]
    },
    {
     "name": "stdout",
     "output_type": "stream",
     "text": [
      "R(0.6558003)\n"
     ]
    },
    {
     "name": "stderr",
     "output_type": "stream",
     "text": [
      "\r",
      "┣███████████▎        ┫ [56.76%, 126/222, 07:22/12:59, 4.06s/i] "
     ]
    },
    {
     "name": "stdout",
     "output_type": "stream",
     "text": [
      "R(1.6062108)\n"
     ]
    },
    {
     "name": "stderr",
     "output_type": "stream",
     "text": [
      "\r",
      "┣███████████▍        ┫ [57.21%, 127/222, 07:25/12:58, 3.07s/i] "
     ]
    },
    {
     "name": "stdout",
     "output_type": "stream",
     "text": [
      "R(1.018895)\n"
     ]
    },
    {
     "name": "stderr",
     "output_type": "stream",
     "text": [
      "\r",
      "┣███████████▌        ┫ [57.66%, 128/222, 07:28/12:56, 2.66s/i] "
     ]
    },
    {
     "name": "stdout",
     "output_type": "stream",
     "text": [
      "R(22.50417)\n"
     ]
    },
    {
     "name": "stderr",
     "output_type": "stream",
     "text": [
      "\r",
      "┣███████████▌        ┫ [58.11%, 129/222, 07:31/12:57, 3.71s/i] "
     ]
    },
    {
     "name": "stdout",
     "output_type": "stream",
     "text": [
      "R(1.4104571)\n"
     ]
    },
    {
     "name": "stderr",
     "output_type": "stream",
     "text": [
      "\r",
      "┣███████████▋        ┫ [58.56%, 130/222, 07:36/12:58, 4.27s/i] "
     ]
    },
    {
     "name": "stdout",
     "output_type": "stream",
     "text": [
      "R(0.43527177)\n"
     ]
    },
    {
     "name": "stderr",
     "output_type": "stream",
     "text": [
      "\r",
      "┣███████████▊        ┫ [59.01%, 131/222, 07:38/12:57, 2.80s/i] "
     ]
    },
    {
     "name": "stdout",
     "output_type": "stream",
     "text": [
      "R(1.8890884)\n"
     ]
    },
    {
     "name": "stderr",
     "output_type": "stream",
     "text": [
      "\r",
      "┣███████████▉        ┫ [59.46%, 132/222, 07:41/12:56, 3.02s/i] "
     ]
    },
    {
     "name": "stdout",
     "output_type": "stream",
     "text": [
      "R(4.8601356)\n"
     ]
    },
    {
     "name": "stderr",
     "output_type": "stream",
     "text": [
      "\r",
      "┣███████████▉        ┫ [59.91%, 133/222, 07:45/12:56, 3.29s/i] "
     ]
    },
    {
     "name": "stdout",
     "output_type": "stream",
     "text": [
      "R(1.2479951)\n"
     ]
    },
    {
     "name": "stderr",
     "output_type": "stream",
     "text": [
      "\r",
      "┣████████████        ┫ [60.36%, 134/222, 07:47/12:54, 2.75s/i] "
     ]
    },
    {
     "name": "stdout",
     "output_type": "stream",
     "text": [
      "R(0.8806358)\n"
     ]
    },
    {
     "name": "stderr",
     "output_type": "stream",
     "text": [
      "\r",
      "┣████████████▏       ┫ [60.81%, 135/222, 07:52/12:56, 4.36s/i] "
     ]
    },
    {
     "name": "stdout",
     "output_type": "stream",
     "text": [
      "R(28.82115)\n"
     ]
    },
    {
     "name": "stderr",
     "output_type": "stream",
     "text": [
      "\r",
      "┣████████████▎       ┫ [61.26%, 136/222, 07:55/12:56, 3.47s/i] "
     ]
    },
    {
     "name": "stdout",
     "output_type": "stream",
     "text": [
      "R(4.259983)\n"
     ]
    },
    {
     "name": "stderr",
     "output_type": "stream",
     "text": [
      "\r",
      "┣████████████▎       ┫ [61.71%, 137/222, 07:58/12:55, 2.91s/i] "
     ]
    },
    {
     "name": "stdout",
     "output_type": "stream",
     "text": [
      "R(0.29443908)\n"
     ]
    },
    {
     "name": "stderr",
     "output_type": "stream",
     "text": [
      "\r",
      "┣████████████▍       ┫ [62.16%, 138/222, 08:01/12:53, 2.50s/i] "
     ]
    },
    {
     "name": "stdout",
     "output_type": "stream",
     "text": [
      "R(1.9032443)\n"
     ]
    },
    {
     "name": "stderr",
     "output_type": "stream",
     "text": [
      "\r",
      "┣████████████▌       ┫ [62.61%, 139/222, 08:04/12:54, 3.77s/i] "
     ]
    },
    {
     "name": "stdout",
     "output_type": "stream",
     "text": [
      "R(2.4707074)\n"
     ]
    },
    {
     "name": "stderr",
     "output_type": "stream",
     "text": [
      "\r",
      "┣████████████▌       ┫ [63.06%, 140/222, 08:07/12:53, 3.03s/i] "
     ]
    },
    {
     "name": "stdout",
     "output_type": "stream",
     "text": [
      "R(2.6419039)\n"
     ]
    },
    {
     "name": "stderr",
     "output_type": "stream",
     "text": [
      "\r",
      "┣████████████▋       ┫ [63.51%, 141/222, 08:11/12:52, 3.04s/i] "
     ]
    },
    {
     "name": "stdout",
     "output_type": "stream",
     "text": [
      "R(0.45378742)\n"
     ]
    },
    {
     "name": "stderr",
     "output_type": "stream",
     "text": [
      "\r",
      "┣████████████▊       ┫ [63.96%, 142/222, 08:13/12:51, 2.74s/i] "
     ]
    },
    {
     "name": "stdout",
     "output_type": "stream",
     "text": [
      "R(4.240153)\n"
     ]
    },
    {
     "name": "stderr",
     "output_type": "stream",
     "text": [
      "\r",
      "┣████████████▉       ┫ [64.41%, 143/222, 08:16/12:51, 3.13s/i] "
     ]
    },
    {
     "name": "stdout",
     "output_type": "stream",
     "text": [
      "R(0.36106637)\n"
     ]
    },
    {
     "name": "stderr",
     "output_type": "stream",
     "text": [
      "\r",
      "┣████████████▉       ┫ [64.86%, 144/222, 08:20/12:51, 3.99s/i] "
     ]
    },
    {
     "name": "stdout",
     "output_type": "stream",
     "text": [
      "R(1.5127921)\n"
     ]
    },
    {
     "name": "stderr",
     "output_type": "stream",
     "text": [
      "\r",
      "┣█████████████       ┫ [65.32%, 145/222, 08:23/12:51, 3.04s/i] "
     ]
    },
    {
     "name": "stdout",
     "output_type": "stream",
     "text": [
      "R(0.30337882)\n"
     ]
    },
    {
     "name": "stderr",
     "output_type": "stream",
     "text": [
      "\r",
      "┣█████████████▏      ┫ [65.77%, 146/222, 08:26/12:50, 2.65s/i] "
     ]
    },
    {
     "name": "stdout",
     "output_type": "stream",
     "text": [
      "R(11.435599)\n"
     ]
    },
    {
     "name": "stderr",
     "output_type": "stream",
     "text": [
      "\r",
      "┣█████████████▏      ┫ [66.22%, 147/222, 08:30/12:49, 3.46s/i] "
     ]
    },
    {
     "name": "stdout",
     "output_type": "stream",
     "text": [
      "R(5.360861)\n"
     ]
    },
    {
     "name": "stderr",
     "output_type": "stream",
     "text": [
      "\r",
      "┣█████████████▎      ┫ [66.67%, 148/222, 08:34/12:51, 4.62s/i] "
     ]
    },
    {
     "name": "stdout",
     "output_type": "stream",
     "text": [
      "R(4.4454446)\n"
     ]
    },
    {
     "name": "stderr",
     "output_type": "stream",
     "text": [
      "\r",
      "┣█████████████▍      ┫ [67.12%, 149/222, 08:37/12:51, 3.14s/i] "
     ]
    },
    {
     "name": "stdout",
     "output_type": "stream",
     "text": [
      "R(1.5420501)\n"
     ]
    },
    {
     "name": "stderr",
     "output_type": "stream",
     "text": [
      "\r",
      "┣█████████████▌      ┫ [67.57%, 150/222, 08:40/12:50, 3.00s/i] "
     ]
    },
    {
     "name": "stdout",
     "output_type": "stream",
     "text": [
      "R(3.1519592)\n"
     ]
    },
    {
     "name": "stderr",
     "output_type": "stream",
     "text": [
      "\r",
      "┣█████████████▌      ┫ [68.02%, 151/222, 08:43/12:49, 3.09s/i] "
     ]
    },
    {
     "name": "stdout",
     "output_type": "stream",
     "text": [
      "R(1.9394577)\n"
     ]
    },
    {
     "name": "stderr",
     "output_type": "stream",
     "text": [
      "\r",
      "┣█████████████▋      ┫ [68.47%, 152/222, 08:46/12:48, 2.75s/i] "
     ]
    },
    {
     "name": "stdout",
     "output_type": "stream",
     "text": [
      "R(4.0464153)\n"
     ]
    },
    {
     "name": "stderr",
     "output_type": "stream",
     "text": [
      "\r",
      "┣█████████████▊      ┫ [68.92%, 153/222, 08:51/12:50, 4.76s/i] "
     ]
    },
    {
     "name": "stdout",
     "output_type": "stream",
     "text": [
      "R(0.39935502)\n"
     ]
    },
    {
     "name": "stderr",
     "output_type": "stream",
     "text": [
      "\r",
      "┣█████████████▊      ┫ [69.37%, 154/222, 08:54/12:49, 2.79s/i] "
     ]
    },
    {
     "name": "stdout",
     "output_type": "stream",
     "text": [
      "R(0.74226624)\n"
     ]
    },
    {
     "name": "stderr",
     "output_type": "stream",
     "text": [
      "\r",
      "┣█████████████▉      ┫ [69.82%, 155/222, 08:56/12:48, 2.78s/i] "
     ]
    },
    {
     "name": "stdout",
     "output_type": "stream",
     "text": [
      "R(0.6104365)\n"
     ]
    },
    {
     "name": "stderr",
     "output_type": "stream",
     "text": [
      "\r",
      "┣██████████████      ┫ [70.27%, 156/222, 08:59/12:47, 2.67s/i] "
     ]
    },
    {
     "name": "stdout",
     "output_type": "stream",
     "text": [
      "R(0.83762)\n"
     ]
    },
    {
     "name": "stderr",
     "output_type": "stream",
     "text": [
      "\r",
      "┣██████████████▏     ┫ [70.72%, 157/222, 09:03/12:48, 3.94s/i] "
     ]
    },
    {
     "name": "stdout",
     "output_type": "stream",
     "text": [
      "R(3.6729329)\n"
     ]
    },
    {
     "name": "stderr",
     "output_type": "stream",
     "text": [
      "\r",
      "┣██████████████▏     ┫ [71.17%, 158/222, 09:06/12:48, 3.25s/i] "
     ]
    },
    {
     "name": "stdout",
     "output_type": "stream",
     "text": [
      "R(1.3829176)\n"
     ]
    },
    {
     "name": "stderr",
     "output_type": "stream",
     "text": [
      "\r",
      "┣██████████████▎     ┫ [71.62%, 159/222, 09:09/12:47, 2.93s/i] "
     ]
    },
    {
     "name": "stdout",
     "output_type": "stream",
     "text": [
      "R(0.633317)\n"
     ]
    },
    {
     "name": "stderr",
     "output_type": "stream",
     "text": [
      "\r",
      "┣██████████████▍     ┫ [72.07%, 160/222, 09:12/12:46, 2.86s/i] "
     ]
    },
    {
     "name": "stdout",
     "output_type": "stream",
     "text": [
      "R(1.0202553)\n"
     ]
    },
    {
     "name": "stderr",
     "output_type": "stream",
     "text": [
      "\r",
      "┣██████████████▌     ┫ [72.52%, 161/222, 09:15/12:46, 3.20s/i] "
     ]
    },
    {
     "name": "stdout",
     "output_type": "stream",
     "text": [
      "R(1.1475921)\n"
     ]
    },
    {
     "name": "stderr",
     "output_type": "stream",
     "text": [
      "\r",
      "┣██████████████▌     ┫ [72.97%, 162/222, 09:20/12:47, 4.53s/i] "
     ]
    },
    {
     "name": "stdout",
     "output_type": "stream",
     "text": [
      "R(7.088587)\n"
     ]
    },
    {
     "name": "stderr",
     "output_type": "stream",
     "text": [
      "\r",
      "┣██████████████▋     ┫ [73.42%, 163/222, 09:23/12:47, 3.12s/i] "
     ]
    },
    {
     "name": "stdout",
     "output_type": "stream",
     "text": [
      "R(2.1671417)\n"
     ]
    },
    {
     "name": "stderr",
     "output_type": "stream",
     "text": [
      "\r",
      "┣██████████████▊     ┫ [73.87%, 164/222, 09:26/12:46, 2.90s/i] "
     ]
    },
    {
     "name": "stdout",
     "output_type": "stream",
     "text": [
      "R(1.6479932)\n"
     ]
    },
    {
     "name": "stderr",
     "output_type": "stream",
     "text": [
      "\r",
      "┣██████████████▊     ┫ [74.32%, 165/222, 09:29/12:45, 2.91s/i] "
     ]
    },
    {
     "name": "stdout",
     "output_type": "stream",
     "text": [
      "R(6.9751916)\n"
     ]
    },
    {
     "name": "stderr",
     "output_type": "stream",
     "text": [
      "\r",
      "┣██████████████▉     ┫ [74.77%, 166/222, 09:32/12:45, 3.30s/i] "
     ]
    },
    {
     "name": "stdout",
     "output_type": "stream",
     "text": [
      "R(10.406883)\n"
     ]
    },
    {
     "name": "stderr",
     "output_type": "stream",
     "text": [
      "\r",
      "┣███████████████     ┫ [75.23%, 167/222, 09:37/12:47, 4.80s/i] "
     ]
    },
    {
     "name": "stdout",
     "output_type": "stream",
     "text": [
      "R(0.49207562)\n"
     ]
    },
    {
     "name": "stderr",
     "output_type": "stream",
     "text": [
      "\r",
      "┣███████████████▏    ┫ [75.68%, 168/222, 09:40/12:46, 2.78s/i] "
     ]
    },
    {
     "name": "stdout",
     "output_type": "stream",
     "text": [
      "R(0.6810869)\n"
     ]
    },
    {
     "name": "stderr",
     "output_type": "stream",
     "text": [
      "\r",
      "┣███████████████▏    ┫ [76.13%, 169/222, 09:42/12:45, 2.64s/i] "
     ]
    },
    {
     "name": "stdout",
     "output_type": "stream",
     "text": [
      "R(4.5991745)\n"
     ]
    },
    {
     "name": "stderr",
     "output_type": "stream",
     "text": [
      "\r",
      "┣███████████████▎    ┫ [76.58%, 170/222, 09:45/12:44, 2.52s/i] "
     ]
    },
    {
     "name": "stdout",
     "output_type": "stream",
     "text": [
      "R(3.3717306)\n"
     ]
    },
    {
     "name": "stderr",
     "output_type": "stream",
     "text": [
      "\r",
      "┣███████████████▍    ┫ [77.03%, 171/222, 09:48/12:43, 2.96s/i] "
     ]
    },
    {
     "name": "stdout",
     "output_type": "stream",
     "text": [
      "R(3.1796155)\n"
     ]
    },
    {
     "name": "stderr",
     "output_type": "stream",
     "text": [
      "\r",
      "┣███████████████▍    ┫ [77.48%, 172/222, 09:52/12:45, 4.68s/i] "
     ]
    },
    {
     "name": "stdout",
     "output_type": "stream",
     "text": [
      "R(20.882769)\n"
     ]
    },
    {
     "name": "stderr",
     "output_type": "stream",
     "text": [
      "\r",
      "┣███████████████▌    ┫ [77.93%, 173/222, 09:56/12:45, 3.92s/i] "
     ]
    },
    {
     "name": "stdout",
     "output_type": "stream",
     "text": [
      "R(1.5963906)\n"
     ]
    },
    {
     "name": "stderr",
     "output_type": "stream",
     "text": [
      "\r",
      "┣███████████████▋    ┫ [78.38%, 174/222, 09:59/12:44, 2.75s/i] "
     ]
    },
    {
     "name": "stdout",
     "output_type": "stream",
     "text": [
      "R(0.9420069)\n"
     ]
    },
    {
     "name": "stderr",
     "output_type": "stream",
     "text": [
      "\r",
      "┣███████████████▊    ┫ [78.83%, 175/222, 10:02/12:44, 2.87s/i] "
     ]
    },
    {
     "name": "stdout",
     "output_type": "stream",
     "text": [
      "R(15.41847)\n"
     ]
    },
    {
     "name": "stderr",
     "output_type": "stream",
     "text": [
      "\r",
      "┣███████████████▊    ┫ [79.28%, 176/222, 10:07/12:45, 4.54s/i] "
     ]
    },
    {
     "name": "stdout",
     "output_type": "stream",
     "text": [
      "R(2.8269303)\n"
     ]
    },
    {
     "name": "stderr",
     "output_type": "stream",
     "text": [
      "\r",
      "┣███████████████▉    ┫ [79.73%, 177/222, 10:09/12:44, 2.84s/i] "
     ]
    },
    {
     "name": "stdout",
     "output_type": "stream",
     "text": [
      "R(5.3881893)\n"
     ]
    },
    {
     "name": "stderr",
     "output_type": "stream",
     "text": [
      "\r",
      "┣████████████████    ┫ [80.18%, 178/222, 10:12/12:44, 3.04s/i] "
     ]
    },
    {
     "name": "stdout",
     "output_type": "stream",
     "text": [
      "R(2.3012493)\n"
     ]
    },
    {
     "name": "stderr",
     "output_type": "stream",
     "text": [
      "\r",
      "┣████████████████▏   ┫ [80.63%, 179/222, 10:15/12:43, 3.02s/i] "
     ]
    },
    {
     "name": "stdout",
     "output_type": "stream",
     "text": [
      "R(0.22863024)\n"
     ]
    },
    {
     "name": "stderr",
     "output_type": "stream",
     "text": [
      "\r",
      "┣████████████████▏   ┫ [81.08%, 180/222, 10:18/12:42, 2.53s/i] "
     ]
    },
    {
     "name": "stdout",
     "output_type": "stream",
     "text": [
      "R(1.3575836)\n"
     ]
    },
    {
     "name": "stderr",
     "output_type": "stream",
     "text": [
      "\r",
      "┣████████████████▎   ┫ [81.53%, 181/222, 10:22/12:43, 4.51s/i] "
     ]
    },
    {
     "name": "stdout",
     "output_type": "stream",
     "text": [
      "R(5.670738)\n"
     ]
    },
    {
     "name": "stderr",
     "output_type": "stream",
     "text": [
      "\r",
      "┣████████████████▍   ┫ [81.98%, 182/222, 10:26/12:43, 3.31s/i] "
     ]
    },
    {
     "name": "stdout",
     "output_type": "stream",
     "text": [
      "R(2.297577)\n"
     ]
    },
    {
     "name": "stderr",
     "output_type": "stream",
     "text": [
      "\r",
      "┣████████████████▍   ┫ [82.43%, 183/222, 10:28/12:42, 2.64s/i] "
     ]
    },
    {
     "name": "stdout",
     "output_type": "stream",
     "text": [
      "R(1.8219507)\n"
     ]
    },
    {
     "name": "stderr",
     "output_type": "stream",
     "text": [
      "\r",
      "┣████████████████▌   ┫ [82.88%, 184/222, 10:31/12:42, 2.75s/i] "
     ]
    },
    {
     "name": "stdout",
     "output_type": "stream",
     "text": [
      "R(0.436642)\n"
     ]
    },
    {
     "name": "stderr",
     "output_type": "stream",
     "text": [
      "\r",
      "┣████████████████▋   ┫ [83.33%, 185/222, 10:35/12:42, 3.68s/i] "
     ]
    },
    {
     "name": "stdout",
     "output_type": "stream",
     "text": [
      "R(2.7883966)\n"
     ]
    },
    {
     "name": "stderr",
     "output_type": "stream",
     "text": [
      "\r",
      "┣████████████████▊   ┫ [83.78%, 186/222, 10:38/12:41, 2.99s/i] "
     ]
    },
    {
     "name": "stdout",
     "output_type": "stream",
     "text": [
      "R(1.497055)\n"
     ]
    },
    {
     "name": "stderr",
     "output_type": "stream",
     "text": [
      "\r",
      "┣████████████████▊   ┫ [84.23%, 187/222, 10:41/12:40, 2.71s/i] "
     ]
    },
    {
     "name": "stdout",
     "output_type": "stream",
     "text": [
      "R(5.5764494)\n"
     ]
    },
    {
     "name": "stderr",
     "output_type": "stream",
     "text": [
      "\r",
      "┣████████████████▉   ┫ [84.68%, 188/222, 10:44/12:40, 3.23s/i] "
     ]
    },
    {
     "name": "stdout",
     "output_type": "stream",
     "text": [
      "R(9.145478)\n"
     ]
    },
    {
     "name": "stderr",
     "output_type": "stream",
     "text": [
      "\r",
      "┣█████████████████   ┫ [85.14%, 189/222, 10:47/12:40, 3.29s/i] "
     ]
    },
    {
     "name": "stdout",
     "output_type": "stream",
     "text": [
      "R(1.5946115)\n"
     ]
    },
    {
     "name": "stderr",
     "output_type": "stream",
     "text": [
      "\r",
      "┣█████████████████   ┫ [85.59%, 190/222, 10:52/12:41, 4.52s/i] "
     ]
    },
    {
     "name": "stdout",
     "output_type": "stream",
     "text": [
      "R(7.197529)\n"
     ]
    },
    {
     "name": "stderr",
     "output_type": "stream",
     "text": [
      "\r",
      "┣█████████████████▏  ┫ [86.04%, 191/222, 10:55/12:41, 3.40s/i] "
     ]
    },
    {
     "name": "stdout",
     "output_type": "stream",
     "text": [
      "R(9.019001)\n"
     ]
    },
    {
     "name": "stderr",
     "output_type": "stream",
     "text": [
      "\r",
      "┣█████████████████▎  ┫ [86.49%, 192/222, 10:58/12:41, 3.01s/i] "
     ]
    },
    {
     "name": "stdout",
     "output_type": "stream",
     "text": [
      "R(4.3271375)\n"
     ]
    },
    {
     "name": "stderr",
     "output_type": "stream",
     "text": [
      "\r",
      "┣█████████████████▍  ┫ [86.94%, 193/222, 11:01/12:40, 2.91s/i] "
     ]
    },
    {
     "name": "stdout",
     "output_type": "stream",
     "text": [
      "R(40.713238)\n"
     ]
    },
    {
     "name": "stderr",
     "output_type": "stream",
     "text": [
      "\r",
      "┣█████████████████▍  ┫ [87.39%, 194/222, 11:07/12:43, 6.11s/i] "
     ]
    },
    {
     "name": "stdout",
     "output_type": "stream",
     "text": [
      "R(6.2897134)\n"
     ]
    },
    {
     "name": "stderr",
     "output_type": "stream",
     "text": [
      "\r",
      "┣█████████████████▌  ┫ [87.84%, 195/222, 11:10/12:43, 3.30s/i] "
     ]
    },
    {
     "name": "stdout",
     "output_type": "stream",
     "text": [
      "R(48.752415)\n"
     ]
    },
    {
     "name": "stderr",
     "output_type": "stream",
     "text": [
      "\r",
      "┣█████████████████▋  ┫ [88.29%, 196/222, 11:15/12:45, 5.10s/i] "
     ]
    },
    {
     "name": "stdout",
     "output_type": "stream",
     "text": [
      "R(6.4114566)\n"
     ]
    },
    {
     "name": "stderr",
     "output_type": "stream",
     "text": [
      "\r",
      "┣█████████████████▋  ┫ [88.74%, 197/222, 11:19/12:45, 3.34s/i] "
     ]
    },
    {
     "name": "stdout",
     "output_type": "stream",
     "text": [
      "R(7.159324)\n"
     ]
    },
    {
     "name": "stderr",
     "output_type": "stream",
     "text": [
      "\r",
      "┣█████████████████▊  ┫ [89.19%, 198/222, 11:22/12:45, 3.37s/i] "
     ]
    },
    {
     "name": "stdout",
     "output_type": "stream",
     "text": [
      "R(0.8144726)\n"
     ]
    },
    {
     "name": "stderr",
     "output_type": "stream",
     "text": [
      "\r",
      "┣█████████████████▉  ┫ [89.64%, 199/222, 11:25/12:44, 2.87s/i] "
     ]
    },
    {
     "name": "stdout",
     "output_type": "stream",
     "text": [
      "R(14.818023)\n"
     ]
    },
    {
     "name": "stderr",
     "output_type": "stream",
     "text": [
      "\r",
      "┣██████████████████  ┫ [90.09%, 200/222, 11:30/12:46, 5.05s/i] "
     ]
    },
    {
     "name": "stdout",
     "output_type": "stream",
     "text": [
      "R(2.67688)\n"
     ]
    },
    {
     "name": "stderr",
     "output_type": "stream",
     "text": [
      "\r",
      "┣██████████████████  ┫ [90.54%, 201/222, 11:33/12:46, 3.16s/i] "
     ]
    },
    {
     "name": "stdout",
     "output_type": "stream",
     "text": [
      "R(4.3806124)\n"
     ]
    },
    {
     "name": "stderr",
     "output_type": "stream",
     "text": [
      "\r",
      "┣██████████████████▏ ┫ [90.99%, 202/222, 11:36/12:45, 2.86s/i] "
     ]
    },
    {
     "name": "stdout",
     "output_type": "stream",
     "text": [
      "R(3.110958)\n"
     ]
    },
    {
     "name": "stderr",
     "output_type": "stream",
     "text": [
      "\r",
      "┣██████████████████▎ ┫ [91.44%, 203/222, 11:39/12:44, 2.90s/i] "
     ]
    },
    {
     "name": "stdout",
     "output_type": "stream",
     "text": [
      "R(5.5408444)\n"
     ]
    },
    {
     "name": "stderr",
     "output_type": "stream",
     "text": [
      "\r",
      "┣██████████████████▍ ┫ [91.89%, 204/222, 11:43/12:45, 4.33s/i] "
     ]
    },
    {
     "name": "stdout",
     "output_type": "stream",
     "text": [
      "R(0.61139315)\n"
     ]
    },
    {
     "name": "stderr",
     "output_type": "stream",
     "text": [
      "\r",
      "┣██████████████████▍ ┫ [92.34%, 205/222, 11:46/12:45, 2.66s/i] "
     ]
    },
    {
     "name": "stdout",
     "output_type": "stream",
     "text": [
      "R(0.8580212)\n"
     ]
    },
    {
     "name": "stderr",
     "output_type": "stream",
     "text": [
      "\r",
      "┣██████████████████▌ ┫ [92.79%, 206/222, 11:49/12:44, 2.76s/i] "
     ]
    },
    {
     "name": "stdout",
     "output_type": "stream",
     "text": [
      "R(2.0611458)\n"
     ]
    },
    {
     "name": "stderr",
     "output_type": "stream",
     "text": [
      "\r",
      "┣██████████████████▋ ┫ [93.24%, 207/222, 11:51/12:43, 2.77s/i] "
     ]
    },
    {
     "name": "stdout",
     "output_type": "stream",
     "text": [
      "R(4.3921666)\n"
     ]
    },
    {
     "name": "stderr",
     "output_type": "stream",
     "text": [
      "\r",
      "┣██████████████████▋ ┫ [93.69%, 208/222, 11:54/12:43, 3.00s/i] "
     ]
    },
    {
     "name": "stdout",
     "output_type": "stream",
     "text": [
      "R(1.08452)\n"
     ]
    },
    {
     "name": "stderr",
     "output_type": "stream",
     "text": [
      "\r",
      "┣██████████████████▊ ┫ [94.14%, 209/222, 11:59/12:44, 4.35s/i] "
     ]
    },
    {
     "name": "stdout",
     "output_type": "stream",
     "text": [
      "R(0.19919659)\n"
     ]
    },
    {
     "name": "stderr",
     "output_type": "stream",
     "text": [
      "\r",
      "┣██████████████████▉ ┫ [94.59%, 210/222, 12:02/12:43, 2.84s/i] "
     ]
    },
    {
     "name": "stdout",
     "output_type": "stream",
     "text": [
      "R(3.5894005)\n"
     ]
    },
    {
     "name": "stderr",
     "output_type": "stream",
     "text": [
      "\r",
      "┣███████████████████ ┫ [95.05%, 211/222, 12:04/12:42, 2.64s/i] "
     ]
    },
    {
     "name": "stdout",
     "output_type": "stream",
     "text": [
      "R(0.8429909)\n"
     ]
    },
    {
     "name": "stderr",
     "output_type": "stream",
     "text": [
      "\r",
      "┣███████████████████ ┫ [95.50%, 212/222, 12:07/12:41, 2.86s/i] "
     ]
    },
    {
     "name": "stdout",
     "output_type": "stream",
     "text": [
      "R(0.4941735)\n"
     ]
    },
    {
     "name": "stderr",
     "output_type": "stream",
     "text": [
      "\r",
      "┣███████████████████▏┫ [95.95%, 213/222, 12:11/12:42, 4.05s/i] "
     ]
    },
    {
     "name": "stdout",
     "output_type": "stream",
     "text": [
      "R(1.4527005)\n"
     ]
    },
    {
     "name": "stderr",
     "output_type": "stream",
     "text": [
      "\r",
      "┣███████████████████▎┫ [96.40%, 214/222, 12:14/12:41, 2.67s/i] "
     ]
    },
    {
     "name": "stdout",
     "output_type": "stream",
     "text": [
      "R(3.582523)\n"
     ]
    },
    {
     "name": "stderr",
     "output_type": "stream",
     "text": [
      "\r",
      "┣███████████████████▎┫ [96.85%, 215/222, 12:17/12:41, 2.97s/i] "
     ]
    },
    {
     "name": "stdout",
     "output_type": "stream",
     "text": [
      "R(1.6001565)\n"
     ]
    },
    {
     "name": "stderr",
     "output_type": "stream",
     "text": [
      "\r",
      "┣███████████████████▍┫ [97.30%, 216/222, 12:20/12:40, 2.91s/i] "
     ]
    },
    {
     "name": "stdout",
     "output_type": "stream",
     "text": [
      "R(3.7905746)\n"
     ]
    },
    {
     "name": "stderr",
     "output_type": "stream",
     "text": [
      "\r",
      "┣███████████████████▌┫ [97.75%, 217/222, 12:23/12:40, 2.85s/i] "
     ]
    },
    {
     "name": "stdout",
     "output_type": "stream",
     "text": [
      "R(22.117489)\n"
     ]
    },
    {
     "name": "stderr",
     "output_type": "stream",
     "text": [
      "\r",
      "┣███████████████████▋┫ [98.20%, 218/222, 12:29/12:42, 5.94s/i] "
     ]
    },
    {
     "name": "stdout",
     "output_type": "stream",
     "text": [
      "R(4.7917175)\n"
     ]
    },
    {
     "name": "stderr",
     "output_type": "stream",
     "text": [
      "\r",
      "┣███████████████████▋┫ [98.65%, 219/222, 12:32/12:42, 2.97s/i] "
     ]
    },
    {
     "name": "stdout",
     "output_type": "stream",
     "text": [
      "R(1.6025348)\n"
     ]
    },
    {
     "name": "stderr",
     "output_type": "stream",
     "text": [
      "\r",
      "┣███████████████████▊┫ [99.10%, 220/222, 12:34/12:41, 2.91s/i] "
     ]
    },
    {
     "name": "stdout",
     "output_type": "stream",
     "text": [
      "R(0.743313)\n"
     ]
    },
    {
     "name": "stderr",
     "output_type": "stream",
     "text": [
      "\r",
      "┣███████████████████▉┫ [99.55%, 221/222, 12:37/12:41, 2.89s/i] "
     ]
    },
    {
     "name": "stdout",
     "output_type": "stream",
     "text": [
      "R(3.4461966)\n"
     ]
    },
    {
     "name": "stderr",
     "output_type": "stream",
     "text": [
      "┣████████████████████┫ [100.00%, 222/222, 12:41/12:41, 3.43s/i] \n"
     ]
    },
    {
     "name": "stdout",
     "output_type": "stream",
     "text": [
      "R(1.7697793)\n"
     ]
    },
    {
     "name": "stderr",
     "output_type": "stream",
     "text": [
      "\r",
      "┣                    ┫ [0.45%, 1/222, 00:05/16:49, 4.55s/i] "
     ]
    },
    {
     "name": "stdout",
     "output_type": "stream",
     "text": [
      "R(2.1108294)\n"
     ]
    },
    {
     "name": "stderr",
     "output_type": "stream",
     "text": [
      "\r",
      "┣▏                   ┫ [0.90%, 2/222, 00:07/13:51, 2.94s/i] "
     ]
    },
    {
     "name": "stdout",
     "output_type": "stream",
     "text": [
      "R(0.5286962)\n"
     ]
    },
    {
     "name": "stderr",
     "output_type": "stream",
     "text": [
      "\r",
      "┣▎                   ┫ [1.35%, 3/222, 00:10/12:37, 2.75s/i] "
     ]
    },
    {
     "name": "stdout",
     "output_type": "stream",
     "text": [
      "R(0.25539854)\n"
     ]
    },
    {
     "name": "stderr",
     "output_type": "stream",
     "text": [
      "\r",
      "┣▎                   ┫ [1.80%, 4/222, 00:13/12:03, 2.79s/i] "
     ]
    },
    {
     "name": "stdout",
     "output_type": "stream",
     "text": [
      "R(9.287716)\n"
     ]
    },
    {
     "name": "stderr",
     "output_type": "stream",
     "text": [
      "\r",
      "┣▍                   ┫ [2.25%, 5/222, 00:16/11:59, 3.18s/i] "
     ]
    },
    {
     "name": "stdout",
     "output_type": "stream",
     "text": [
      "R(12.901599)\n"
     ]
    },
    {
     "name": "stderr",
     "output_type": "stream",
     "text": [
      "\r",
      "┣▌                   ┫ [2.70%, 6/222, 00:21/13:09, 5.13s/i] "
     ]
    },
    {
     "name": "stdout",
     "output_type": "stream",
     "text": [
      "R(2.3979983)\n"
     ]
    },
    {
     "name": "stderr",
     "output_type": "stream",
     "text": [
      "\r",
      "┣▋                   ┫ [3.15%, 7/222, 00:24/12:47, 2.85s/i] "
     ]
    },
    {
     "name": "stdout",
     "output_type": "stream",
     "text": [
      "R(0.6150431)\n"
     ]
    },
    {
     "name": "stderr",
     "output_type": "stream",
     "text": [
      "\r",
      "┣▋                   ┫ [3.60%, 8/222, 00:27/12:27, 2.72s/i] "
     ]
    },
    {
     "name": "stdout",
     "output_type": "stream",
     "text": [
      "R(1.0825105)\n"
     ]
    },
    {
     "name": "stderr",
     "output_type": "stream",
     "text": [
      "\r",
      "┣▊                   ┫ [4.05%, 9/222, 00:30/12:17, 2.97s/i] "
     ]
    },
    {
     "name": "stdout",
     "output_type": "stream",
     "text": [
      "R(3.7425368)\n"
     ]
    },
    {
     "name": "stderr",
     "output_type": "stream",
     "text": [
      "\r",
      "┣▉                   ┫ [4.50%, 10/222, 00:34/12:31, 3.96s/i] "
     ]
    },
    {
     "name": "stdout",
     "output_type": "stream",
     "text": [
      "R(6.6040583)\n"
     ]
    },
    {
     "name": "stderr",
     "output_type": "stream",
     "text": [
      "\r",
      "┣▉                   ┫ [4.95%, 11/222, 00:37/12:32, 3.40s/i] "
     ]
    },
    {
     "name": "stdout",
     "output_type": "stream",
     "text": [
      "R(0.17719866)\n"
     ]
    },
    {
     "name": "stderr",
     "output_type": "stream",
     "text": [
      "\r",
      "┣█                   ┫ [5.41%, 12/222, 00:40/12:13, 2.37s/i] "
     ]
    },
    {
     "name": "stdout",
     "output_type": "stream",
     "text": [
      "R(1.7228109)\n"
     ]
    },
    {
     "name": "stderr",
     "output_type": "stream",
     "text": [
      "\r",
      "┣█▏                  ┫ [5.86%, 13/222, 00:42/12:04, 2.80s/i] "
     ]
    },
    {
     "name": "stdout",
     "output_type": "stream",
     "text": [
      "R(0.26978642)\n"
     ]
    },
    {
     "name": "stderr",
     "output_type": "stream",
     "text": [
      "\r",
      "┣█▎                  ┫ [6.31%, 14/222, 00:45/11:58, 2.86s/i] "
     ]
    },
    {
     "name": "stdout",
     "output_type": "stream",
     "text": [
      "R(0.20260167)\n"
     ]
    },
    {
     "name": "stderr",
     "output_type": "stream",
     "text": [
      "\r",
      "┣█▎                  ┫ [6.76%, 15/222, 00:49/12:07, 3.85s/i] "
     ]
    },
    {
     "name": "stdout",
     "output_type": "stream",
     "text": [
      "R(2.0380015)\n"
     ]
    },
    {
     "name": "stderr",
     "output_type": "stream",
     "text": [
      "\r",
      "┣█▍                  ┫ [7.21%, 16/222, 00:52/12:02, 2.90s/i] "
     ]
    },
    {
     "name": "stdout",
     "output_type": "stream",
     "text": [
      "R(0.5345217)\n"
     ]
    },
    {
     "name": "stderr",
     "output_type": "stream",
     "text": [
      "\r",
      "┣█▌                  ┫ [7.66%, 17/222, 00:55/11:57, 2.91s/i] "
     ]
    },
    {
     "name": "stdout",
     "output_type": "stream",
     "text": [
      "R(0.38125664)\n"
     ]
    },
    {
     "name": "stderr",
     "output_type": "stream",
     "text": [
      "\r",
      "┣█▌                  ┫ [8.11%, 18/222, 00:58/11:52, 2.77s/i] "
     ]
    },
    {
     "name": "stdout",
     "output_type": "stream",
     "text": [
      "R(2.2322695)\n"
     ]
    },
    {
     "name": "stderr",
     "output_type": "stream",
     "text": [
      "\r",
      "┣█▋                  ┫ [8.56%, 19/222, 01:01/11:51, 3.12s/i] "
     ]
    },
    {
     "name": "stdout",
     "output_type": "stream",
     "text": [
      "R(17.68214)\n"
     ]
    },
    {
     "name": "stderr",
     "output_type": "stream",
     "text": [
      "\r",
      "┣█▊                  ┫ [9.01%, 20/222, 01:06/12:14, 5.28s/i] "
     ]
    },
    {
     "name": "stdout",
     "output_type": "stream",
     "text": [
      "R(1.6801285)\n"
     ]
    },
    {
     "name": "stderr",
     "output_type": "stream",
     "text": [
      "\r",
      "┣█▉                  ┫ [9.46%, 21/222, 01:09/12:13, 3.26s/i] "
     ]
    },
    {
     "name": "stdout",
     "output_type": "stream",
     "text": [
      "R(0.08612441)\n"
     ]
    },
    {
     "name": "stderr",
     "output_type": "stream",
     "text": [
      "\r",
      "┣█▉                  ┫ [9.91%, 22/222, 01:12/12:08, 2.73s/i] "
     ]
    },
    {
     "name": "stdout",
     "output_type": "stream",
     "text": [
      "R(13.370375)\n"
     ]
    },
    {
     "name": "stderr",
     "output_type": "stream",
     "text": [
      "\r",
      "┣██                  ┫ [10.36%, 23/222, 01:15/12:08, 3.33s/i] "
     ]
    },
    {
     "name": "stdout",
     "output_type": "stream",
     "text": [
      "R(1.095447)\n"
     ]
    },
    {
     "name": "stderr",
     "output_type": "stream",
     "text": [
      "\r",
      "┣██▏                 ┫ [10.81%, 24/222, 01:18/12:05, 2.96s/i] "
     ]
    },
    {
     "name": "stdout",
     "output_type": "stream",
     "text": [
      "R(0.41186664)\n"
     ]
    },
    {
     "name": "stderr",
     "output_type": "stream",
     "text": [
      "\r",
      "┣██▎                 ┫ [11.26%, 25/222, 01:23/12:14, 4.29s/i] "
     ]
    },
    {
     "name": "stdout",
     "output_type": "stream",
     "text": [
      "R(7.792706)\n"
     ]
    },
    {
     "name": "stderr",
     "output_type": "stream",
     "text": [
      "\r",
      "┣██▎                 ┫ [11.71%, 26/222, 01:26/12:13, 3.19s/i] "
     ]
    },
    {
     "name": "stdout",
     "output_type": "stream",
     "text": [
      "R(13.053466)\n"
     ]
    },
    {
     "name": "stderr",
     "output_type": "stream",
     "text": [
      "\r",
      "┣██▍                 ┫ [12.16%, 27/222, 01:29/12:13, 3.35s/i] "
     ]
    },
    {
     "name": "stdout",
     "output_type": "stream",
     "text": [
      "R(2.3172026)\n"
     ]
    },
    {
     "name": "stderr",
     "output_type": "stream",
     "text": [
      "\r",
      "┣██▌                 ┫ [12.61%, 28/222, 01:32/12:09, 2.74s/i] "
     ]
    },
    {
     "name": "stdout",
     "output_type": "stream",
     "text": [
      "R(6.592171)\n"
     ]
    },
    {
     "name": "stderr",
     "output_type": "stream",
     "text": [
      "\r",
      "┣██▌                 ┫ [13.06%, 29/222, 01:37/12:19, 4.60s/i] "
     ]
    },
    {
     "name": "stdout",
     "output_type": "stream",
     "text": [
      "R(0.43174163)\n"
     ]
    },
    {
     "name": "stderr",
     "output_type": "stream",
     "text": [
      "\r",
      "┣██▋                 ┫ [13.51%, 30/222, 01:39/12:14, 2.59s/i] "
     ]
    },
    {
     "name": "stdout",
     "output_type": "stream",
     "text": [
      "R(0.88697404)\n"
     ]
    },
    {
     "name": "stderr",
     "output_type": "stream",
     "text": [
      "\r",
      "┣██▊                 ┫ [13.96%, 31/222, 01:42/12:11, 2.89s/i] "
     ]
    },
    {
     "name": "stdout",
     "output_type": "stream",
     "text": [
      "R(8.240593)\n"
     ]
    },
    {
     "name": "stderr",
     "output_type": "stream",
     "text": [
      "\r",
      "┣██▉                 ┫ [14.41%, 32/222, 01:46/12:12, 3.49s/i] "
     ]
    },
    {
     "name": "stdout",
     "output_type": "stream",
     "text": [
      "R(3.9821415)\n"
     ]
    },
    {
     "name": "stderr",
     "output_type": "stream",
     "text": [
      "\r",
      "┣██▉                 ┫ [14.86%, 33/222, 01:49/12:10, 3.04s/i] "
     ]
    },
    {
     "name": "stdout",
     "output_type": "stream",
     "text": [
      "R(26.660215)\n"
     ]
    },
    {
     "name": "stderr",
     "output_type": "stream",
     "text": [
      "\r",
      "┣███                 ┫ [15.32%, 34/222, 01:54/12:24, 5.43s/i] "
     ]
    },
    {
     "name": "stdout",
     "output_type": "stream",
     "text": [
      "R(0.37722534)\n"
     ]
    },
    {
     "name": "stderr",
     "output_type": "stream",
     "text": [
      "\r",
      "┣███▏                ┫ [15.77%, 35/222, 01:57/12:21, 2.90s/i] "
     ]
    },
    {
     "name": "stdout",
     "output_type": "stream",
     "text": [
      "R(13.325075)\n"
     ]
    },
    {
     "name": "stderr",
     "output_type": "stream",
     "text": [
      "\r",
      "┣███▏                ┫ [16.22%, 36/222, 02:01/12:24, 3.68s/i] "
     ]
    },
    {
     "name": "stdout",
     "output_type": "stream",
     "text": [
      "R(5.817151)\n"
     ]
    },
    {
     "name": "stderr",
     "output_type": "stream",
     "text": [
      "\r",
      "┣███▎                ┫ [16.67%, 37/222, 02:04/12:24, 3.35s/i] "
     ]
    },
    {
     "name": "stdout",
     "output_type": "stream",
     "text": [
      "R(1.1822122)\n"
     ]
    },
    {
     "name": "stderr",
     "output_type": "stream",
     "text": [
      "\r",
      "┣███▍                ┫ [17.12%, 38/222, 02:08/12:28, 4.12s/i] "
     ]
    },
    {
     "name": "stdout",
     "output_type": "stream",
     "text": [
      "R(4.4409637)\n"
     ]
    },
    {
     "name": "stderr",
     "output_type": "stream",
     "text": [
      "\r",
      "┣███▌                ┫ [17.57%, 39/222, 02:11/12:26, 2.95s/i] "
     ]
    },
    {
     "name": "stdout",
     "output_type": "stream",
     "text": [
      "R(0.9079768)\n"
     ]
    },
    {
     "name": "stderr",
     "output_type": "stream",
     "text": [
      "\r",
      "┣███▌                ┫ [18.02%, 40/222, 02:14/12:21, 2.60s/i] "
     ]
    },
    {
     "name": "stdout",
     "output_type": "stream",
     "text": [
      "R(0.5241397)\n"
     ]
    },
    {
     "name": "stderr",
     "output_type": "stream",
     "text": [
      "\r",
      "┣███▋                ┫ [18.47%, 41/222, 02:16/12:19, 2.88s/i] "
     ]
    },
    {
     "name": "stdout",
     "output_type": "stream",
     "text": [
      "R(3.753987)\n"
     ]
    },
    {
     "name": "stderr",
     "output_type": "stream",
     "text": [
      "\r",
      "┣███▊                ┫ [18.92%, 42/222, 02:20/12:18, 3.09s/i] "
     ]
    },
    {
     "name": "stdout",
     "output_type": "stream",
     "text": [
      "R(0.6168206)\n"
     ]
    },
    {
     "name": "stderr",
     "output_type": "stream",
     "text": [
      "\r",
      "┣███▊                ┫ [19.37%, 43/222, 02:24/12:22, 4.15s/i] "
     ]
    },
    {
     "name": "stdout",
     "output_type": "stream",
     "text": [
      "R(0.69173986)\n"
     ]
    },
    {
     "name": "stderr",
     "output_type": "stream",
     "text": [
      "\r",
      "┣███▉                ┫ [19.82%, 44/222, 02:27/12:19, 2.80s/i] "
     ]
    },
    {
     "name": "stdout",
     "output_type": "stream",
     "text": [
      "R(22.253952)\n"
     ]
    },
    {
     "name": "stderr",
     "output_type": "stream",
     "text": [
      "\r",
      "┣████                ┫ [20.27%, 45/222, 02:30/12:19, 3.20s/i] "
     ]
    },
    {
     "name": "stdout",
     "output_type": "stream",
     "text": [
      "R(22.137833)\n"
     ]
    },
    {
     "name": "stderr",
     "output_type": "stream",
     "text": [
      "\r",
      "┣████▏               ┫ [20.72%, 46/222, 02:33/12:20, 3.69s/i] "
     ]
    },
    {
     "name": "stdout",
     "output_type": "stream",
     "text": [
      "R(9.669135)\n"
     ]
    },
    {
     "name": "stderr",
     "output_type": "stream",
     "text": [
      "\r",
      "┣████▏               ┫ [21.17%, 47/222, 02:38/12:27, 4.67s/i] "
     ]
    },
    {
     "name": "stdout",
     "output_type": "stream",
     "text": [
      "R(8.998155)\n"
     ]
    },
    {
     "name": "stderr",
     "output_type": "stream",
     "text": [
      "\r",
      "┣████▎               ┫ [21.62%, 48/222, 02:41/12:27, 3.37s/i] "
     ]
    },
    {
     "name": "stdout",
     "output_type": "stream",
     "text": [
      "R(28.509708)\n"
     ]
    },
    {
     "name": "stderr",
     "output_type": "stream",
     "text": [
      "\r",
      "┣████▍               ┫ [22.07%, 49/222, 02:46/12:34, 5.03s/i] "
     ]
    },
    {
     "name": "stdout",
     "output_type": "stream",
     "text": [
      "R(11.33254)\n"
     ]
    },
    {
     "name": "stderr",
     "output_type": "stream",
     "text": [
      "\r",
      "┣████▌               ┫ [22.52%, 50/222, 02:50/12:34, 3.33s/i] "
     ]
    },
    {
     "name": "stdout",
     "output_type": "stream",
     "text": [
      "R(2.0929396)\n"
     ]
    },
    {
     "name": "stderr",
     "output_type": "stream",
     "text": [
      "\r",
      "┣████▌               ┫ [22.97%, 51/222, 02:53/12:31, 2.83s/i] "
     ]
    },
    {
     "name": "stdout",
     "output_type": "stream",
     "text": [
      "R(1.7512677)\n"
     ]
    },
    {
     "name": "stderr",
     "output_type": "stream",
     "text": [
      "\r",
      "┣████▋               ┫ [23.42%, 52/222, 02:57/12:37, 4.65s/i] "
     ]
    },
    {
     "name": "stdout",
     "output_type": "stream",
     "text": [
      "R(48.802055)\n"
     ]
    },
    {
     "name": "stderr",
     "output_type": "stream",
     "text": [
      "\r",
      "┣████▊               ┫ [23.87%, 53/222, 03:02/12:42, 4.68s/i] "
     ]
    },
    {
     "name": "stdout",
     "output_type": "stream",
     "text": [
      "R(0.3729192)\n"
     ]
    },
    {
     "name": "stderr",
     "output_type": "stream",
     "text": [
      "\r",
      "┣████▊               ┫ [24.32%, 54/222, 03:05/12:39, 2.71s/i] "
     ]
    },
    {
     "name": "stdout",
     "output_type": "stream",
     "text": [
      "R(0.26204935)\n"
     ]
    },
    {
     "name": "stderr",
     "output_type": "stream",
     "text": [
      "\r",
      "┣████▉               ┫ [24.77%, 55/222, 03:08/12:37, 2.84s/i] "
     ]
    },
    {
     "name": "stdout",
     "output_type": "stream",
     "text": [
      "R(0.95556843)\n"
     ]
    },
    {
     "name": "stderr",
     "output_type": "stream",
     "text": [
      "\r",
      "┣█████               ┫ [25.23%, 56/222, 03:12/12:39, 4.02s/i] "
     ]
    },
    {
     "name": "stdout",
     "output_type": "stream",
     "text": [
      "R(10.904834)\n"
     ]
    },
    {
     "name": "stderr",
     "output_type": "stream",
     "text": [
      "\r",
      "┣█████▏              ┫ [25.68%, 57/222, 03:15/12:38, 3.01s/i] "
     ]
    },
    {
     "name": "stdout",
     "output_type": "stream",
     "text": [
      "R(29.809399)\n"
     ]
    },
    {
     "name": "stderr",
     "output_type": "stream",
     "text": [
      "\r",
      "┣█████▏              ┫ [26.13%, 58/222, 03:19/12:41, 4.37s/i] "
     ]
    },
    {
     "name": "stdout",
     "output_type": "stream",
     "text": [
      "R(18.757685)\n"
     ]
    },
    {
     "name": "stderr",
     "output_type": "stream",
     "text": [
      "\r",
      "┣█████▎              ┫ [26.58%, 59/222, 03:23/12:42, 3.59s/i] "
     ]
    },
    {
     "name": "stdout",
     "output_type": "stream",
     "text": [
      "R(0.7170935)\n"
     ]
    },
    {
     "name": "stderr",
     "output_type": "stream",
     "text": [
      "\r",
      "┣█████▍              ┫ [27.03%, 60/222, 03:25/12:39, 2.71s/i] "
     ]
    },
    {
     "name": "stdout",
     "output_type": "stream",
     "text": [
      "R(1.2258103)\n"
     ]
    },
    {
     "name": "stderr",
     "output_type": "stream",
     "text": [
      "\r",
      "┣█████▍              ┫ [27.48%, 61/222, 03:30/12:43, 4.33s/i] "
     ]
    },
    {
     "name": "stdout",
     "output_type": "stream",
     "text": [
      "R(3.9260564)\n"
     ]
    },
    {
     "name": "stderr",
     "output_type": "stream",
     "text": [
      "\r",
      "┣█████▌              ┫ [27.93%, 62/222, 03:33/12:42, 3.20s/i] "
     ]
    },
    {
     "name": "stdout",
     "output_type": "stream",
     "text": [
      "R(6.3734064)\n"
     ]
    },
    {
     "name": "stderr",
     "output_type": "stream",
     "text": [
      "\r",
      "┣█████▋              ┫ [28.38%, 63/222, 03:36/12:41, 3.18s/i] "
     ]
    },
    {
     "name": "stdout",
     "output_type": "stream",
     "text": [
      "R(1.1213924)\n"
     ]
    },
    {
     "name": "stderr",
     "output_type": "stream",
     "text": [
      "\r",
      "┣█████▊              ┫ [28.83%, 64/222, 03:38/12:38, 2.49s/i] "
     ]
    },
    {
     "name": "stdout",
     "output_type": "stream",
     "text": [
      "R(6.4810057)\n"
     ]
    },
    {
     "name": "stderr",
     "output_type": "stream",
     "text": [
      "\r",
      "┣█████▊              ┫ [29.28%, 65/222, 03:43/12:42, 4.61s/i] "
     ]
    },
    {
     "name": "stdout",
     "output_type": "stream",
     "text": [
      "R(1.2499378)\n"
     ]
    },
    {
     "name": "stderr",
     "output_type": "stream",
     "text": [
      "\r",
      "┣█████▉              ┫ [29.73%, 66/222, 03:46/12:40, 3.03s/i] "
     ]
    },
    {
     "name": "stdout",
     "output_type": "stream",
     "text": [
      "R(2.276245)\n"
     ]
    },
    {
     "name": "stderr",
     "output_type": "stream",
     "text": [
      "\r",
      "┣██████              ┫ [30.18%, 67/222, 03:49/12:38, 2.74s/i] "
     ]
    },
    {
     "name": "stdout",
     "output_type": "stream",
     "text": [
      "R(1.3576063)\n"
     ]
    },
    {
     "name": "stderr",
     "output_type": "stream",
     "text": [
      "\r",
      "┣██████▏             ┫ [30.63%, 68/222, 03:51/12:35, 2.58s/i] "
     ]
    },
    {
     "name": "stdout",
     "output_type": "stream",
     "text": [
      "R(7.521245)\n"
     ]
    },
    {
     "name": "stderr",
     "output_type": "stream",
     "text": [
      "\r",
      "┣██████▏             ┫ [31.08%, 69/222, 03:55/12:36, 3.54s/i] "
     ]
    },
    {
     "name": "stdout",
     "output_type": "stream",
     "text": [
      "R(0.6342563)\n"
     ]
    },
    {
     "name": "stderr",
     "output_type": "stream",
     "text": [
      "\r",
      "┣██████▎             ┫ [31.53%, 70/222, 03:59/12:39, 4.52s/i] "
     ]
    },
    {
     "name": "stdout",
     "output_type": "stream",
     "text": [
      "R(0.20631194)\n"
     ]
    },
    {
     "name": "stderr",
     "output_type": "stream",
     "text": [
      "\r",
      "┣██████▍             ┫ [31.98%, 71/222, 04:02/12:38, 2.97s/i] "
     ]
    },
    {
     "name": "stdout",
     "output_type": "stream",
     "text": [
      "R(1.0531831)\n"
     ]
    },
    {
     "name": "stderr",
     "output_type": "stream",
     "text": [
      "\r",
      "┣██████▍             ┫ [32.43%, 72/222, 04:05/12:36, 2.94s/i] "
     ]
    },
    {
     "name": "stdout",
     "output_type": "stream",
     "text": [
      "R(2.3153012)\n"
     ]
    },
    {
     "name": "stderr",
     "output_type": "stream",
     "text": [
      "\r",
      "┣██████▌             ┫ [32.88%, 73/222, 04:09/12:36, 3.17s/i] "
     ]
    },
    {
     "name": "stdout",
     "output_type": "stream",
     "text": [
      "R(1.4876839)\n"
     ]
    },
    {
     "name": "stderr",
     "output_type": "stream",
     "text": [
      "\r",
      "┣██████▋             ┫ [33.33%, 74/222, 04:13/12:38, 4.06s/i] "
     ]
    },
    {
     "name": "stdout",
     "output_type": "stream",
     "text": [
      "R(1.7101496)\n"
     ]
    },
    {
     "name": "stderr",
     "output_type": "stream",
     "text": [
      "\r",
      "┣██████▊             ┫ [33.78%, 75/222, 04:16/12:37, 3.03s/i] "
     ]
    },
    {
     "name": "stdout",
     "output_type": "stream",
     "text": [
      "R(49.069576)\n"
     ]
    },
    {
     "name": "stderr",
     "output_type": "stream",
     "text": [
      "\r",
      "┣██████▊             ┫ [34.23%, 76/222, 04:21/12:41, 4.90s/i] "
     ]
    },
    {
     "name": "stdout",
     "output_type": "stream",
     "text": [
      "R(1.6714375)\n"
     ]
    },
    {
     "name": "stderr",
     "output_type": "stream",
     "text": [
      "\r",
      "┣██████▉             ┫ [34.68%, 77/222, 04:24/12:40, 3.03s/i] "
     ]
    },
    {
     "name": "stdout",
     "output_type": "stream",
     "text": [
      "R(2.3529873)\n"
     ]
    },
    {
     "name": "stderr",
     "output_type": "stream",
     "text": [
      "\r",
      "┣███████             ┫ [35.14%, 78/222, 04:26/12:38, 2.95s/i] "
     ]
    },
    {
     "name": "stdout",
     "output_type": "stream",
     "text": [
      "R(1.9714289)\n"
     ]
    },
    {
     "name": "stderr",
     "output_type": "stream",
     "text": [
      "\r",
      "┣███████             ┫ [35.59%, 79/222, 04:31/12:42, 4.69s/i] "
     ]
    },
    {
     "name": "stdout",
     "output_type": "stream",
     "text": [
      "R(0.5529833)\n"
     ]
    },
    {
     "name": "stderr",
     "output_type": "stream",
     "text": [
      "\r",
      "┣███████▏            ┫ [36.04%, 80/222, 04:34/12:40, 2.82s/i] "
     ]
    },
    {
     "name": "stdout",
     "output_type": "stream",
     "text": [
      "R(1.5228254)\n"
     ]
    },
    {
     "name": "stderr",
     "output_type": "stream",
     "text": [
      "\r",
      "┣███████▎            ┫ [36.49%, 81/222, 04:37/12:39, 2.98s/i] "
     ]
    },
    {
     "name": "stdout",
     "output_type": "stream",
     "text": [
      "R(0.29548723)\n"
     ]
    },
    {
     "name": "stderr",
     "output_type": "stream",
     "text": [
      "\r",
      "┣███████▍            ┫ [36.94%, 82/222, 04:40/12:37, 2.61s/i] "
     ]
    },
    {
     "name": "stdout",
     "output_type": "stream",
     "text": [
      "R(6.761586)\n"
     ]
    },
    {
     "name": "stderr",
     "output_type": "stream",
     "text": [
      "\r",
      "┣███████▍            ┫ [37.39%, 83/222, 04:44/12:39, 4.19s/i] "
     ]
    },
    {
     "name": "stdout",
     "output_type": "stream",
     "text": [
      "R(1.9521103)\n"
     ]
    },
    {
     "name": "stderr",
     "output_type": "stream",
     "text": [
      "\r",
      "┣███████▌            ┫ [37.84%, 84/222, 04:47/12:37, 2.81s/i] "
     ]
    },
    {
     "name": "stdout",
     "output_type": "stream",
     "text": [
      "R(1.3883929)\n"
     ]
    },
    {
     "name": "stderr",
     "output_type": "stream",
     "text": [
      "\r",
      "┣███████▋            ┫ [38.29%, 85/222, 04:49/12:35, 2.67s/i] "
     ]
    },
    {
     "name": "stdout",
     "output_type": "stream",
     "text": [
      "R(1.1309093)\n"
     ]
    },
    {
     "name": "stderr",
     "output_type": "stream",
     "text": [
      "\r",
      "┣███████▋            ┫ [38.74%, 86/222, 04:52/12:34, 2.95s/i] "
     ]
    },
    {
     "name": "stdout",
     "output_type": "stream",
     "text": [
      "R(1.5537074)\n"
     ]
    },
    {
     "name": "stderr",
     "output_type": "stream",
     "text": [
      "\r",
      "┣███████▊            ┫ [39.19%, 87/222, 04:55/12:32, 2.62s/i] "
     ]
    },
    {
     "name": "stdout",
     "output_type": "stream",
     "text": [
      "R(6.652783)\n"
     ]
    },
    {
     "name": "stderr",
     "output_type": "stream",
     "text": [
      "\r",
      "┣███████▉            ┫ [39.64%, 88/222, 05:00/12:36, 5.02s/i] "
     ]
    },
    {
     "name": "stdout",
     "output_type": "stream",
     "text": [
      "R(0.6040163)\n"
     ]
    },
    {
     "name": "stderr",
     "output_type": "stream",
     "text": [
      "\r",
      "┣████████            ┫ [40.09%, 89/222, 05:02/12:35, 2.67s/i] "
     ]
    },
    {
     "name": "stdout",
     "output_type": "stream",
     "text": [
      "R(0.7876279)\n"
     ]
    },
    {
     "name": "stderr",
     "output_type": "stream",
     "text": [
      "\r",
      "┣████████            ┫ [40.54%, 90/222, 05:05/12:33, 2.66s/i] "
     ]
    },
    {
     "name": "stdout",
     "output_type": "stream",
     "text": [
      "R(1.4507866)\n"
     ]
    },
    {
     "name": "stderr",
     "output_type": "stream",
     "text": [
      "\r",
      "┣████████▏           ┫ [40.99%, 91/222, 05:08/12:32, 2.99s/i] "
     ]
    },
    {
     "name": "stdout",
     "output_type": "stream",
     "text": [
      "R(7.901439)\n"
     ]
    },
    {
     "name": "stderr",
     "output_type": "stream",
     "text": [
      "\r",
      "┣████████▎           ┫ [41.44%, 92/222, 05:12/12:34, 4.34s/i] "
     ]
    },
    {
     "name": "stdout",
     "output_type": "stream",
     "text": [
      "R(4.9408536)\n"
     ]
    },
    {
     "name": "stderr",
     "output_type": "stream",
     "text": [
      "\r",
      "┣████████▍           ┫ [41.89%, 93/222, 05:16/12:33, 3.15s/i] "
     ]
    },
    {
     "name": "stdout",
     "output_type": "stream",
     "text": [
      "R(2.9191031)\n"
     ]
    },
    {
     "name": "stderr",
     "output_type": "stream",
     "text": [
      "\r",
      "┣████████▍           ┫ [42.34%, 94/222, 05:19/12:33, 2.98s/i] "
     ]
    },
    {
     "name": "stdout",
     "output_type": "stream",
     "text": [
      "R(2.9155357)\n"
     ]
    },
    {
     "name": "stderr",
     "output_type": "stream",
     "text": [
      "\r",
      "┣████████▌           ┫ [42.79%, 95/222, 05:21/12:31, 2.86s/i] "
     ]
    },
    {
     "name": "stdout",
     "output_type": "stream",
     "text": [
      "R(3.0002055)\n"
     ]
    },
    {
     "name": "stderr",
     "output_type": "stream",
     "text": [
      "\r",
      "┣████████▋           ┫ [43.24%, 96/222, 05:25/12:31, 3.13s/i] "
     ]
    },
    {
     "name": "stdout",
     "output_type": "stream",
     "text": [
      "R(2.9376283)\n"
     ]
    },
    {
     "name": "stderr",
     "output_type": "stream",
     "text": [
      "\r",
      "┣████████▋           ┫ [43.69%, 97/222, 05:29/12:34, 4.62s/i] "
     ]
    },
    {
     "name": "stdout",
     "output_type": "stream",
     "text": [
      "R(5.2036223)\n"
     ]
    },
    {
     "name": "stderr",
     "output_type": "stream",
     "text": [
      "\r",
      "┣████████▊           ┫ [44.14%, 98/222, 05:32/12:33, 3.05s/i] "
     ]
    },
    {
     "name": "stdout",
     "output_type": "stream",
     "text": [
      "R(1.9786605)\n"
     ]
    },
    {
     "name": "stderr",
     "output_type": "stream",
     "text": [
      "\r",
      "┣████████▉           ┫ [44.59%, 99/222, 05:35/12:31, 2.44s/i] "
     ]
    },
    {
     "name": "stdout",
     "output_type": "stream",
     "text": [
      "R(0.36554527)\n"
     ]
    },
    {
     "name": "stderr",
     "output_type": "stream",
     "text": [
      "\r",
      "┣█████████           ┫ [45.05%, 100/222, 05:38/12:30, 2.98s/i] "
     ]
    },
    {
     "name": "stdout",
     "output_type": "stream",
     "text": [
      "R(0.2853387)\n"
     ]
    },
    {
     "name": "stderr",
     "output_type": "stream",
     "text": [
      "┣█████████▏          ┫ [45.95%, 102/222, 05:44/12:29, 2.29s/i] "
     ]
    },
    {
     "name": "stdout",
     "output_type": "stream",
     "text": [
      "R(0.5625796)\n",
      "R(0.41378975)\n"
     ]
    },
    {
     "name": "stderr",
     "output_type": "stream",
     "text": [
      "\r",
      "┣█████████▎          ┫ [46.40%, 103/222, 05:47/12:27, 2.49s/i] "
     ]
    },
    {
     "name": "stdout",
     "output_type": "stream",
     "text": [
      "R(3.9341824)\n"
     ]
    },
    {
     "name": "stderr",
     "output_type": "stream",
     "text": [
      "\r",
      "┣█████████▎          ┫ [46.85%, 104/222, 05:50/12:27, 3.09s/i] "
     ]
    },
    {
     "name": "stdout",
     "output_type": "stream",
     "text": [
      "R(45.24469)\n"
     ]
    },
    {
     "name": "stderr",
     "output_type": "stream",
     "text": [
      "\r",
      "┣█████████▍          ┫ [47.30%, 105/222, 05:55/12:31, 5.71s/i] "
     ]
    },
    {
     "name": "stdout",
     "output_type": "stream",
     "text": [
      "R(0.83205676)\n"
     ]
    },
    {
     "name": "stderr",
     "output_type": "stream",
     "text": [
      "\r",
      "┣█████████▌          ┫ [47.75%, 106/222, 06:00/12:34, 4.44s/i] "
     ]
    },
    {
     "name": "stdout",
     "output_type": "stream",
     "text": [
      "R(0.83021283)\n"
     ]
    },
    {
     "name": "stderr",
     "output_type": "stream",
     "text": [
      "\r",
      "┣█████████▋          ┫ [48.20%, 107/222, 06:02/12:32, 2.62s/i] "
     ]
    },
    {
     "name": "stdout",
     "output_type": "stream",
     "text": [
      "R(0.20510434)\n"
     ]
    },
    {
     "name": "stderr",
     "output_type": "stream",
     "text": [
      "\r",
      "┣█████████▋          ┫ [48.65%, 108/222, 06:05/12:30, 2.56s/i] "
     ]
    },
    {
     "name": "stdout",
     "output_type": "stream",
     "text": [
      "R(0.8024567)\n"
     ]
    },
    {
     "name": "stderr",
     "output_type": "stream",
     "text": [
      "\r",
      "┣█████████▊          ┫ [49.10%, 109/222, 06:08/12:30, 2.97s/i] "
     ]
    },
    {
     "name": "stdout",
     "output_type": "stream",
     "text": [
      "R(2.620685)\n"
     ]
    },
    {
     "name": "stderr",
     "output_type": "stream",
     "text": [
      "\r",
      "┣█████████▉          ┫ [49.55%, 110/222, 06:12/12:31, 3.97s/i] "
     ]
    },
    {
     "name": "stdout",
     "output_type": "stream",
     "text": [
      "R(11.232513)\n"
     ]
    },
    {
     "name": "stderr",
     "output_type": "stream",
     "text": [
      "\r",
      "┣██████████          ┫ [50.00%, 111/222, 06:15/12:31, 3.43s/i] "
     ]
    },
    {
     "name": "stdout",
     "output_type": "stream",
     "text": [
      "R(0.5919175)\n"
     ]
    },
    {
     "name": "stderr",
     "output_type": "stream",
     "text": [
      "\r",
      "┣██████████          ┫ [50.45%, 112/222, 06:18/12:29, 2.69s/i] "
     ]
    },
    {
     "name": "stdout",
     "output_type": "stream",
     "text": [
      "R(0.15024967)\n"
     ]
    },
    {
     "name": "stderr",
     "output_type": "stream",
     "text": [
      "\r",
      "┣██████████▏         ┫ [50.90%, 113/222, 06:21/12:28, 2.69s/i] "
     ]
    },
    {
     "name": "stdout",
     "output_type": "stream",
     "text": [
      "R(12.612762)\n"
     ]
    },
    {
     "name": "stderr",
     "output_type": "stream",
     "text": [
      "\r",
      "┣██████████▎         ┫ [51.35%, 114/222, 06:24/12:27, 2.89s/i] "
     ]
    },
    {
     "name": "stdout",
     "output_type": "stream",
     "text": [
      "R(1.4940083)\n"
     ]
    },
    {
     "name": "stderr",
     "output_type": "stream",
     "text": [
      "\r",
      "┣██████████▎         ┫ [51.80%, 115/222, 06:28/12:29, 4.36s/i] "
     ]
    },
    {
     "name": "stdout",
     "output_type": "stream",
     "text": [
      "R(0.30341604)\n"
     ]
    },
    {
     "name": "stderr",
     "output_type": "stream",
     "text": [
      "\r",
      "┣██████████▍         ┫ [52.25%, 116/222, 06:31/12:28, 2.75s/i] "
     ]
    },
    {
     "name": "stdout",
     "output_type": "stream",
     "text": [
      "R(0.2807123)\n"
     ]
    },
    {
     "name": "stderr",
     "output_type": "stream",
     "text": [
      "\r",
      "┣██████████▌         ┫ [52.70%, 117/222, 06:33/12:27, 2.61s/i] "
     ]
    },
    {
     "name": "stdout",
     "output_type": "stream",
     "text": [
      "R(1.0813992)\n"
     ]
    },
    {
     "name": "stderr",
     "output_type": "stream",
     "text": [
      "\r",
      "┣██████████▋         ┫ [53.15%, 118/222, 06:36/12:26, 3.05s/i] "
     ]
    },
    {
     "name": "stdout",
     "output_type": "stream",
     "text": [
      "R(0.52710146)\n"
     ]
    },
    {
     "name": "stderr",
     "output_type": "stream",
     "text": [
      "\r",
      "┣██████████▋         ┫ [53.60%, 119/222, 06:40/12:27, 3.91s/i] "
     ]
    },
    {
     "name": "stdout",
     "output_type": "stream",
     "text": [
      "R(0.6961629)\n"
     ]
    },
    {
     "name": "stderr",
     "output_type": "stream",
     "text": [
      "\r",
      "┣██████████▊         ┫ [54.05%, 120/222, 06:43/12:26, 2.74s/i] "
     ]
    },
    {
     "name": "stdout",
     "output_type": "stream",
     "text": [
      "R(0.57837987)\n"
     ]
    },
    {
     "name": "stderr",
     "output_type": "stream",
     "text": [
      "\r",
      "┣██████████▉         ┫ [54.50%, 121/222, 06:46/12:24, 2.46s/i] "
     ]
    },
    {
     "name": "stdout",
     "output_type": "stream",
     "text": [
      "R(0.28431794)\n"
     ]
    },
    {
     "name": "stderr",
     "output_type": "stream",
     "text": [
      "\r",
      "┣██████████▉         ┫ [54.95%, 122/222, 06:48/12:23, 2.57s/i] "
     ]
    },
    {
     "name": "stdout",
     "output_type": "stream",
     "text": [
      "R(2.0798662)\n"
     ]
    },
    {
     "name": "stderr",
     "output_type": "stream",
     "text": [
      "\r",
      "┣███████████         ┫ [55.41%, 123/222, 06:51/12:22, 3.04s/i] "
     ]
    },
    {
     "name": "stdout",
     "output_type": "stream",
     "text": [
      "R(0.35251614)\n"
     ]
    },
    {
     "name": "stderr",
     "output_type": "stream",
     "text": [
      "\r",
      "┣███████████▏        ┫ [55.86%, 124/222, 06:55/12:24, 4.12s/i] "
     ]
    },
    {
     "name": "stdout",
     "output_type": "stream",
     "text": [
      "R(1.4081581)\n"
     ]
    },
    {
     "name": "stderr",
     "output_type": "stream",
     "text": [
      "\r",
      "┣███████████▎        ┫ [56.31%, 125/222, 06:58/12:23, 2.99s/i] "
     ]
    },
    {
     "name": "stdout",
     "output_type": "stream",
     "text": [
      "R(7.2942443)\n"
     ]
    },
    {
     "name": "stderr",
     "output_type": "stream",
     "text": [
      "\r",
      "┣███████████▎        ┫ [56.76%, 126/222, 07:02/12:23, 3.37s/i] "
     ]
    },
    {
     "name": "stdout",
     "output_type": "stream",
     "text": [
      "R(2.8793714)\n"
     ]
    },
    {
     "name": "stderr",
     "output_type": "stream",
     "text": [
      "\r",
      "┣███████████▍        ┫ [57.21%, 127/222, 07:05/12:22, 3.09s/i] "
     ]
    },
    {
     "name": "stdout",
     "output_type": "stream",
     "text": [
      "R(1.4463893)\n"
     ]
    },
    {
     "name": "stderr",
     "output_type": "stream",
     "text": [
      "\r",
      "┣███████████▌        ┫ [57.66%, 128/222, 07:09/12:24, 4.26s/i] "
     ]
    },
    {
     "name": "stdout",
     "output_type": "stream",
     "text": [
      "R(2.576391)\n"
     ]
    },
    {
     "name": "stderr",
     "output_type": "stream",
     "text": [
      "\r",
      "┣███████████▌        ┫ [58.11%, 129/222, 07:12/12:24, 3.04s/i] "
     ]
    },
    {
     "name": "stdout",
     "output_type": "stream",
     "text": [
      "R(0.56769586)\n"
     ]
    },
    {
     "name": "stderr",
     "output_type": "stream",
     "text": [
      "\r",
      "┣███████████▋        ┫ [58.56%, 130/222, 07:15/12:23, 2.84s/i] "
     ]
    },
    {
     "name": "stdout",
     "output_type": "stream",
     "text": [
      "R(1.04958)\n"
     ]
    },
    {
     "name": "stderr",
     "output_type": "stream",
     "text": [
      "\r",
      "┣███████████▊        ┫ [59.01%, 131/222, 07:18/12:22, 2.95s/i] "
     ]
    },
    {
     "name": "stdout",
     "output_type": "stream",
     "text": [
      "R(0.5415997)\n"
     ]
    },
    {
     "name": "stderr",
     "output_type": "stream",
     "text": [
      "\r",
      "┣███████████▉        ┫ [59.46%, 132/222, 07:20/12:21, 2.57s/i] "
     ]
    },
    {
     "name": "stdout",
     "output_type": "stream",
     "text": [
      "R(0.39418)\n"
     ]
    },
    {
     "name": "stderr",
     "output_type": "stream",
     "text": [
      "\r",
      "┣███████████▉        ┫ [59.91%, 133/222, 07:23/12:20, 2.62s/i] "
     ]
    },
    {
     "name": "stdout",
     "output_type": "stream",
     "text": [
      "R(2.3605669)\n"
     ]
    },
    {
     "name": "stderr",
     "output_type": "stream",
     "text": [
      "\r",
      "┣████████████        ┫ [60.36%, 134/222, 07:28/12:22, 4.59s/i] "
     ]
    },
    {
     "name": "stdout",
     "output_type": "stream",
     "text": [
      "R(1.6889074)\n"
     ]
    },
    {
     "name": "stderr",
     "output_type": "stream",
     "text": [
      "\r",
      "┣████████████▏       ┫ [60.81%, 135/222, 07:31/12:21, 2.93s/i] "
     ]
    },
    {
     "name": "stdout",
     "output_type": "stream",
     "text": [
      "R(22.585913)\n"
     ]
    },
    {
     "name": "stderr",
     "output_type": "stream",
     "text": [
      "\r",
      "┣████████████▎       ┫ [61.26%, 136/222, 07:34/12:22, 3.78s/i] "
     ]
    },
    {
     "name": "stdout",
     "output_type": "stream",
     "text": [
      "R(1.1693658)\n"
     ]
    },
    {
     "name": "stderr",
     "output_type": "stream",
     "text": [
      "\r",
      "┣████████████▎       ┫ [61.71%, 137/222, 07:37/12:21, 2.97s/i] "
     ]
    },
    {
     "name": "stdout",
     "output_type": "stream",
     "text": [
      "R(0.2924782)\n"
     ]
    },
    {
     "name": "stderr",
     "output_type": "stream",
     "text": [
      "\r",
      "┣████████████▍       ┫ [62.16%, 138/222, 07:41/12:22, 3.73s/i] "
     ]
    },
    {
     "name": "stdout",
     "output_type": "stream",
     "text": [
      "R(2.119365)\n"
     ]
    },
    {
     "name": "stderr",
     "output_type": "stream",
     "text": [
      "\r",
      "┣████████████▌       ┫ [62.61%, 139/222, 07:44/12:21, 3.00s/i] "
     ]
    },
    {
     "name": "stdout",
     "output_type": "stream",
     "text": [
      "R(14.6550665)\n"
     ]
    },
    {
     "name": "stderr",
     "output_type": "stream",
     "text": [
      "┣████████████▋       ┫ [63.51%, 141/222, 07:50/12:20, 2.35s/i] "
     ]
    },
    {
     "name": "stdout",
     "output_type": "stream",
     "text": [
      "R(0.9260404)\n",
      "R(4.2191763)\n"
     ]
    },
    {
     "name": "stderr",
     "output_type": "stream",
     "text": [
      "\r",
      "┣████████████▊       ┫ [63.96%, 142/222, 07:53/12:19, 2.72s/i] "
     ]
    },
    {
     "name": "stdout",
     "output_type": "stream",
     "text": [
      "R(3.721617)\n"
     ]
    },
    {
     "name": "stderr",
     "output_type": "stream",
     "text": [
      "\r",
      "┣████████████▉       ┫ [64.41%, 143/222, 07:57/12:21, 4.44s/i] "
     ]
    },
    {
     "name": "stdout",
     "output_type": "stream",
     "text": [
      "R(0.48281053)\n"
     ]
    },
    {
     "name": "stderr",
     "output_type": "stream",
     "text": [
      "\r",
      "┣████████████▉       ┫ [64.86%, 144/222, 08:00/12:20, 2.85s/i] "
     ]
    },
    {
     "name": "stdout",
     "output_type": "stream",
     "text": [
      "R(4.096319)\n"
     ]
    },
    {
     "name": "stderr",
     "output_type": "stream",
     "text": [
      "\r",
      "┣█████████████       ┫ [65.32%, 145/222, 08:03/12:20, 2.85s/i] "
     ]
    },
    {
     "name": "stdout",
     "output_type": "stream",
     "text": [
      "R(1.0889766)\n"
     ]
    },
    {
     "name": "stderr",
     "output_type": "stream",
     "text": [
      "\r",
      "┣█████████████▏      ┫ [65.77%, 146/222, 08:06/12:19, 2.78s/i] "
     ]
    },
    {
     "name": "stdout",
     "output_type": "stream",
     "text": [
      "R(7.925211)\n"
     ]
    },
    {
     "name": "stderr",
     "output_type": "stream",
     "text": [
      "\r",
      "┣█████████████▏      ┫ [66.22%, 147/222, 08:10/12:21, 4.56s/i] "
     ]
    },
    {
     "name": "stdout",
     "output_type": "stream",
     "text": [
      "R(0.6471004)\n"
     ]
    },
    {
     "name": "stderr",
     "output_type": "stream",
     "text": [
      "\r",
      "┣█████████████▎      ┫ [66.67%, 148/222, 08:13/12:19, 2.55s/i] "
     ]
    },
    {
     "name": "stdout",
     "output_type": "stream",
     "text": [
      "R(21.656713)\n"
     ]
    },
    {
     "name": "stderr",
     "output_type": "stream",
     "text": [
      "\r",
      "┣█████████████▍      ┫ [67.12%, 149/222, 08:17/12:20, 4.05s/i] "
     ]
    },
    {
     "name": "stdout",
     "output_type": "stream",
     "text": [
      "R(5.4749846)\n"
     ]
    },
    {
     "name": "stderr",
     "output_type": "stream",
     "text": [
      "\r",
      "┣█████████████▌      ┫ [67.57%, 150/222, 08:20/12:20, 3.08s/i] "
     ]
    },
    {
     "name": "stdout",
     "output_type": "stream",
     "text": [
      "R(2.5484252)\n"
     ]
    },
    {
     "name": "stderr",
     "output_type": "stream",
     "text": [
      "\r",
      "┣█████████████▌      ┫ [68.02%, 151/222, 08:23/12:19, 2.88s/i] "
     ]
    },
    {
     "name": "stdout",
     "output_type": "stream",
     "text": [
      "R(3.4483638)\n"
     ]
    },
    {
     "name": "stderr",
     "output_type": "stream",
     "text": [
      "\r",
      "┣█████████████▋      ┫ [68.47%, 152/222, 08:27/12:21, 4.56s/i] "
     ]
    },
    {
     "name": "stdout",
     "output_type": "stream",
     "text": [
      "R(0.3750304)\n"
     ]
    },
    {
     "name": "stderr",
     "output_type": "stream",
     "text": [
      "\r",
      "┣█████████████▊      ┫ [68.92%, 153/222, 08:30/12:20, 2.55s/i] "
     ]
    },
    {
     "name": "stdout",
     "output_type": "stream",
     "text": [
      "R(8.026864)\n"
     ]
    },
    {
     "name": "stderr",
     "output_type": "stream",
     "text": [
      "\r",
      "┣█████████████▊      ┫ [69.37%, 154/222, 08:33/12:20, 3.45s/i] "
     ]
    },
    {
     "name": "stdout",
     "output_type": "stream",
     "text": [
      "R(0.9600711)\n"
     ]
    },
    {
     "name": "stderr",
     "output_type": "stream",
     "text": [
      "\r",
      "┣█████████████▉      ┫ [69.82%, 155/222, 08:36/12:19, 2.60s/i] "
     ]
    },
    {
     "name": "stdout",
     "output_type": "stream",
     "text": [
      "R(0.5044335)\n"
     ]
    },
    {
     "name": "stderr",
     "output_type": "stream",
     "text": [
      "\r",
      "┣██████████████      ┫ [70.27%, 156/222, 08:39/12:18, 2.83s/i] "
     ]
    },
    {
     "name": "stdout",
     "output_type": "stream",
     "text": [
      "R(6.9225836)\n"
     ]
    },
    {
     "name": "stderr",
     "output_type": "stream",
     "text": [
      "\r",
      "┣██████████████▏     ┫ [70.72%, 157/222, 08:43/12:20, 4.58s/i] "
     ]
    },
    {
     "name": "stdout",
     "output_type": "stream",
     "text": [
      "R(2.2834163)\n"
     ]
    },
    {
     "name": "stderr",
     "output_type": "stream",
     "text": [
      "\r",
      "┣██████████████▏     ┫ [71.17%, 158/222, 08:47/12:20, 3.04s/i] "
     ]
    },
    {
     "name": "stdout",
     "output_type": "stream",
     "text": [
      "R(1.0666206)\n"
     ]
    },
    {
     "name": "stderr",
     "output_type": "stream",
     "text": [
      "\r",
      "┣██████████████▎     ┫ [71.62%, 159/222, 08:49/12:19, 2.84s/i] "
     ]
    },
    {
     "name": "stdout",
     "output_type": "stream",
     "text": [
      "R(0.17484006)\n"
     ]
    },
    {
     "name": "stderr",
     "output_type": "stream",
     "text": [
      "\r",
      "┣██████████████▍     ┫ [72.07%, 160/222, 08:52/12:18, 2.40s/i] "
     ]
    },
    {
     "name": "stdout",
     "output_type": "stream",
     "text": [
      "R(24.092018)\n"
     ]
    },
    {
     "name": "stderr",
     "output_type": "stream",
     "text": [
      "\r",
      "┣██████████████▌     ┫ [72.52%, 161/222, 08:55/12:18, 3.55s/i] "
     ]
    },
    {
     "name": "stdout",
     "output_type": "stream",
     "text": [
      "R(1.7159395)\n"
     ]
    },
    {
     "name": "stderr",
     "output_type": "stream",
     "text": [
      "\r",
      "┣██████████████▌     ┫ [72.97%, 162/222, 09:00/12:20, 4.41s/i] "
     ]
    },
    {
     "name": "stdout",
     "output_type": "stream",
     "text": [
      "R(18.611513)\n"
     ]
    },
    {
     "name": "stderr",
     "output_type": "stream",
     "text": [
      "\r",
      "┣██████████████▋     ┫ [73.42%, 163/222, 09:04/12:21, 4.02s/i] "
     ]
    },
    {
     "name": "stdout",
     "output_type": "stream",
     "text": [
      "R(50.90784)\n"
     ]
    },
    {
     "name": "stderr",
     "output_type": "stream",
     "text": [
      "\r",
      "┣██████████████▊     ┫ [73.87%, 164/222, 09:09/12:23, 5.34s/i] "
     ]
    },
    {
     "name": "stdout",
     "output_type": "stream",
     "text": [
      "R(0.86317414)\n"
     ]
    },
    {
     "name": "stderr",
     "output_type": "stream",
     "text": [
      "\r",
      "┣██████████████▊     ┫ [74.32%, 165/222, 09:12/12:23, 2.88s/i] "
     ]
    },
    {
     "name": "stdout",
     "output_type": "stream",
     "text": [
      "R(2.0786836)\n"
     ]
    },
    {
     "name": "stderr",
     "output_type": "stream",
     "text": [
      "\r",
      "┣██████████████▉     ┫ [74.77%, 166/222, 09:16/12:23, 3.62s/i] "
     ]
    },
    {
     "name": "stdout",
     "output_type": "stream",
     "text": [
      "R(0.9599665)\n"
     ]
    },
    {
     "name": "stderr",
     "output_type": "stream",
     "text": [
      "\r",
      "┣███████████████     ┫ [75.23%, 167/222, 09:19/12:23, 2.96s/i] "
     ]
    },
    {
     "name": "stdout",
     "output_type": "stream",
     "text": [
      "R(0.9878)\n"
     ]
    },
    {
     "name": "stderr",
     "output_type": "stream",
     "text": [
      "\r",
      "┣███████████████▏    ┫ [75.68%, 168/222, 09:21/12:22, 2.79s/i] "
     ]
    },
    {
     "name": "stdout",
     "output_type": "stream",
     "text": [
      "R(9.814455)\n"
     ]
    },
    {
     "name": "stderr",
     "output_type": "stream",
     "text": [
      "\r",
      "┣███████████████▏    ┫ [76.13%, 169/222, 09:25/12:22, 3.42s/i] "
     ]
    },
    {
     "name": "stdout",
     "output_type": "stream",
     "text": [
      "R(28.138308)\n"
     ]
    },
    {
     "name": "stderr",
     "output_type": "stream",
     "text": [
      "\r",
      "┣███████████████▎    ┫ [76.58%, 170/222, 09:30/12:24, 4.92s/i] "
     ]
    },
    {
     "name": "stdout",
     "output_type": "stream",
     "text": [
      "R(0.5242967)\n"
     ]
    },
    {
     "name": "stderr",
     "output_type": "stream",
     "text": [
      "\r",
      "┣███████████████▍    ┫ [77.03%, 171/222, 09:34/12:25, 4.35s/i] "
     ]
    },
    {
     "name": "stdout",
     "output_type": "stream",
     "text": [
      "R(2.7789366)\n"
     ]
    },
    {
     "name": "stderr",
     "output_type": "stream",
     "text": [
      "\r",
      "┣███████████████▍    ┫ [77.48%, 172/222, 09:37/12:25, 2.95s/i] "
     ]
    },
    {
     "name": "stdout",
     "output_type": "stream",
     "text": [
      "R(2.6611657)\n"
     ]
    },
    {
     "name": "stderr",
     "output_type": "stream",
     "text": [
      "\r",
      "┣███████████████▌    ┫ [77.93%, 173/222, 09:40/12:24, 3.14s/i] "
     ]
    },
    {
     "name": "stdout",
     "output_type": "stream",
     "text": [
      "R(21.395712)\n"
     ]
    },
    {
     "name": "stderr",
     "output_type": "stream",
     "text": [
      "\r",
      "┣███████████████▋    ┫ [78.38%, 174/222, 09:45/12:26, 4.60s/i] "
     ]
    },
    {
     "name": "stdout",
     "output_type": "stream",
     "text": [
      "R(2.2022011)\n"
     ]
    },
    {
     "name": "stderr",
     "output_type": "stream",
     "text": [
      "\r",
      "┣███████████████▊    ┫ [78.83%, 175/222, 09:49/12:27, 3.89s/i] "
     ]
    },
    {
     "name": "stdout",
     "output_type": "stream",
     "text": [
      "R(0.69345206)\n"
     ]
    },
    {
     "name": "stderr",
     "output_type": "stream",
     "text": [
      "\r",
      "┣███████████████▊    ┫ [79.28%, 176/222, 09:51/12:26, 2.76s/i] "
     ]
    },
    {
     "name": "stdout",
     "output_type": "stream",
     "text": [
      "R(2.115894)\n"
     ]
    },
    {
     "name": "stderr",
     "output_type": "stream",
     "text": [
      "\r",
      "┣███████████████▉    ┫ [79.73%, 177/222, 09:54/12:25, 2.77s/i] "
     ]
    },
    {
     "name": "stdout",
     "output_type": "stream",
     "text": [
      "R(0.68923503)\n"
     ]
    },
    {
     "name": "stderr",
     "output_type": "stream",
     "text": [
      "\r",
      "┣████████████████    ┫ [80.18%, 178/222, 09:57/12:24, 2.55s/i] "
     ]
    },
    {
     "name": "stdout",
     "output_type": "stream",
     "text": [
      "R(5.829115)\n"
     ]
    },
    {
     "name": "stderr",
     "output_type": "stream",
     "text": [
      "\r",
      "┣████████████████▏   ┫ [80.63%, 179/222, 10:00/12:24, 3.25s/i] "
     ]
    },
    {
     "name": "stdout",
     "output_type": "stream",
     "text": [
      "R(6.89281)\n"
     ]
    },
    {
     "name": "stderr",
     "output_type": "stream",
     "text": [
      "\r",
      "┣████████████████▏   ┫ [81.08%, 180/222, 10:05/12:26, 4.76s/i] "
     ]
    },
    {
     "name": "stdout",
     "output_type": "stream",
     "text": [
      "R(5.5997057)\n"
     ]
    },
    {
     "name": "stderr",
     "output_type": "stream",
     "text": [
      "\r",
      "┣████████████████▎   ┫ [81.53%, 181/222, 10:08/12:25, 3.13s/i] "
     ]
    },
    {
     "name": "stdout",
     "output_type": "stream",
     "text": [
      "R(0.3732289)\n"
     ]
    },
    {
     "name": "stderr",
     "output_type": "stream",
     "text": [
      "\r",
      "┣████████████████▍   ┫ [81.98%, 182/222, 10:10/12:24, 2.35s/i] "
     ]
    },
    {
     "name": "stdout",
     "output_type": "stream",
     "text": [
      "R(0.29182807)\n"
     ]
    },
    {
     "name": "stderr",
     "output_type": "stream",
     "text": [
      "\r",
      "┣████████████████▍   ┫ [82.43%, 183/222, 10:13/12:24, 2.76s/i] "
     ]
    },
    {
     "name": "stdout",
     "output_type": "stream",
     "text": [
      "R(3.2395513)\n"
     ]
    },
    {
     "name": "stderr",
     "output_type": "stream",
     "text": [
      "\r",
      "┣████████████████▌   ┫ [82.88%, 184/222, 10:17/12:24, 3.97s/i] "
     ]
    },
    {
     "name": "stdout",
     "output_type": "stream",
     "text": [
      "R(2.3862922)\n"
     ]
    },
    {
     "name": "stderr",
     "output_type": "stream",
     "text": [
      "\r",
      "┣████████████████▋   ┫ [83.33%, 185/222, 10:20/12:24, 2.85s/i] "
     ]
    },
    {
     "name": "stdout",
     "output_type": "stream",
     "text": [
      "R(1.0374376)\n"
     ]
    },
    {
     "name": "stderr",
     "output_type": "stream",
     "text": [
      "\r",
      "┣████████████████▊   ┫ [83.78%, 186/222, 10:22/12:23, 2.57s/i] "
     ]
    },
    {
     "name": "stdout",
     "output_type": "stream",
     "text": [
      "R(5.1842055)\n"
     ]
    },
    {
     "name": "stderr",
     "output_type": "stream",
     "text": [
      "\r",
      "┣████████████████▊   ┫ [84.23%, 187/222, 10:26/12:23, 3.22s/i] "
     ]
    },
    {
     "name": "stdout",
     "output_type": "stream",
     "text": [
      "R(4.485042)\n"
     ]
    },
    {
     "name": "stderr",
     "output_type": "stream",
     "text": [
      "\r",
      "┣████████████████▉   ┫ [84.68%, 188/222, 10:29/12:22, 3.10s/i] "
     ]
    },
    {
     "name": "stdout",
     "output_type": "stream",
     "text": [
      "R(9.452552)\n"
     ]
    },
    {
     "name": "stderr",
     "output_type": "stream",
     "text": [
      "\r",
      "┣█████████████████   ┫ [85.14%, 189/222, 10:33/12:24, 4.79s/i] "
     ]
    },
    {
     "name": "stdout",
     "output_type": "stream",
     "text": [
      "R(2.5222845)\n"
     ]
    },
    {
     "name": "stderr",
     "output_type": "stream",
     "text": [
      "\r",
      "┣█████████████████   ┫ [85.59%, 190/222, 10:36/12:24, 2.98s/i] "
     ]
    },
    {
     "name": "stdout",
     "output_type": "stream",
     "text": [
      "R(0.51472586)\n"
     ]
    },
    {
     "name": "stderr",
     "output_type": "stream",
     "text": [
      "\r",
      "┣█████████████████▏  ┫ [86.04%, 191/222, 10:39/12:23, 2.65s/i] "
     ]
    },
    {
     "name": "stdout",
     "output_type": "stream",
     "text": [
      "R(0.3558216)\n"
     ]
    },
    {
     "name": "stderr",
     "output_type": "stream",
     "text": [
      "\r",
      "┣█████████████████▎  ┫ [86.49%, 192/222, 10:42/12:22, 2.49s/i] "
     ]
    },
    {
     "name": "stdout",
     "output_type": "stream",
     "text": [
      "R(3.9446669)\n"
     ]
    },
    {
     "name": "stderr",
     "output_type": "stream",
     "text": [
      "\r",
      "┣█████████████████▍  ┫ [86.94%, 193/222, 10:46/12:23, 4.43s/i] "
     ]
    },
    {
     "name": "stdout",
     "output_type": "stream",
     "text": [
      "R(8.8321495)\n"
     ]
    },
    {
     "name": "stderr",
     "output_type": "stream",
     "text": [
      "\r",
      "┣█████████████████▍  ┫ [87.39%, 194/222, 10:49/12:23, 3.03s/i] "
     ]
    },
    {
     "name": "stdout",
     "output_type": "stream",
     "text": [
      "R(2.9136362)\n"
     ]
    },
    {
     "name": "stderr",
     "output_type": "stream",
     "text": [
      "\r",
      "┣█████████████████▌  ┫ [87.84%, 195/222, 10:52/12:22, 3.07s/i] "
     ]
    },
    {
     "name": "stdout",
     "output_type": "stream",
     "text": [
      "R(1.9922149)\n"
     ]
    },
    {
     "name": "stderr",
     "output_type": "stream",
     "text": [
      "\r",
      "┣█████████████████▋  ┫ [88.29%, 196/222, 10:55/12:22, 3.00s/i] "
     ]
    },
    {
     "name": "stdout",
     "output_type": "stream",
     "text": [
      "R(1.2371647)\n"
     ]
    },
    {
     "name": "stderr",
     "output_type": "stream",
     "text": [
      "\r",
      "┣█████████████████▋  ┫ [88.74%, 197/222, 10:58/12:22, 3.17s/i] "
     ]
    },
    {
     "name": "stdout",
     "output_type": "stream",
     "text": [
      "R(3.5660045)\n"
     ]
    },
    {
     "name": "stderr",
     "output_type": "stream",
     "text": [
      "\r",
      "┣█████████████████▊  ┫ [89.19%, 198/222, 11:03/12:23, 4.63s/i] "
     ]
    },
    {
     "name": "stdout",
     "output_type": "stream",
     "text": [
      "R(0.5050891)\n"
     ]
    },
    {
     "name": "stderr",
     "output_type": "stream",
     "text": [
      "\r",
      "┣█████████████████▉  ┫ [89.64%, 199/222, 11:05/12:22, 2.62s/i] "
     ]
    },
    {
     "name": "stdout",
     "output_type": "stream",
     "text": [
      "R(22.333395)\n"
     ]
    },
    {
     "name": "stderr",
     "output_type": "stream",
     "text": [
      "\r",
      "┣██████████████████  ┫ [90.09%, 200/222, 11:09/12:23, 3.75s/i] "
     ]
    },
    {
     "name": "stdout",
     "output_type": "stream",
     "text": [
      "R(17.730059)\n"
     ]
    },
    {
     "name": "stderr",
     "output_type": "stream",
     "text": [
      "\r",
      "┣██████████████████  ┫ [90.54%, 201/222, 11:14/12:24, 4.56s/i] "
     ]
    },
    {
     "name": "stdout",
     "output_type": "stream",
     "text": [
      "R(5.8665566)\n"
     ]
    },
    {
     "name": "stderr",
     "output_type": "stream",
     "text": [
      "\r",
      "┣██████████████████▏ ┫ [90.99%, 202/222, 11:17/12:24, 3.13s/i] "
     ]
    },
    {
     "name": "stdout",
     "output_type": "stream",
     "text": [
      "R(8.368179)\n"
     ]
    },
    {
     "name": "stderr",
     "output_type": "stream",
     "text": [
      "\r",
      "┣██████████████████▎ ┫ [91.44%, 203/222, 11:20/12:24, 3.16s/i] "
     ]
    },
    {
     "name": "stdout",
     "output_type": "stream",
     "text": [
      "R(2.3707886)\n"
     ]
    },
    {
     "name": "stderr",
     "output_type": "stream",
     "text": [
      "\r",
      "┣██████████████████▍ ┫ [91.89%, 204/222, 11:23/12:23, 2.85s/i] "
     ]
    },
    {
     "name": "stdout",
     "output_type": "stream",
     "text": [
      "R(4.412687)\n"
     ]
    },
    {
     "name": "stderr",
     "output_type": "stream",
     "text": [
      "\r",
      "┣██████████████████▍ ┫ [92.34%, 205/222, 11:26/12:23, 3.09s/i] "
     ]
    },
    {
     "name": "stdout",
     "output_type": "stream",
     "text": [
      "R(0.43924582)\n"
     ]
    },
    {
     "name": "stderr",
     "output_type": "stream",
     "text": [
      "\r",
      "┣██████████████████▌ ┫ [92.79%, 206/222, 11:29/12:22, 2.61s/i] "
     ]
    },
    {
     "name": "stdout",
     "output_type": "stream",
     "text": [
      "R(4.6562314)\n"
     ]
    },
    {
     "name": "stderr",
     "output_type": "stream",
     "text": [
      "\r",
      "┣██████████████████▋ ┫ [93.24%, 207/222, 11:33/12:23, 4.42s/i] "
     ]
    },
    {
     "name": "stdout",
     "output_type": "stream",
     "text": [
      "R(1.2526108)\n"
     ]
    },
    {
     "name": "stderr",
     "output_type": "stream",
     "text": [
      "\r",
      "┣██████████████████▋ ┫ [93.69%, 208/222, 11:36/12:23, 2.83s/i] "
     ]
    },
    {
     "name": "stdout",
     "output_type": "stream",
     "text": [
      "R(2.9777982)\n"
     ]
    },
    {
     "name": "stderr",
     "output_type": "stream",
     "text": [
      "\r",
      "┣██████████████████▊ ┫ [94.14%, 209/222, 11:39/12:22, 2.90s/i] "
     ]
    },
    {
     "name": "stdout",
     "output_type": "stream",
     "text": [
      "R(1.1738714)\n"
     ]
    },
    {
     "name": "stderr",
     "output_type": "stream",
     "text": [
      "\r",
      "┣██████████████████▉ ┫ [94.59%, 210/222, 11:42/12:22, 2.74s/i] "
     ]
    },
    {
     "name": "stdout",
     "output_type": "stream",
     "text": [
      "R(6.8161535)\n"
     ]
    },
    {
     "name": "stderr",
     "output_type": "stream",
     "text": [
      "\r",
      "┣███████████████████ ┫ [95.05%, 211/222, 11:46/12:23, 4.49s/i] "
     ]
    },
    {
     "name": "stdout",
     "output_type": "stream",
     "text": [
      "R(2.1449835)\n"
     ]
    },
    {
     "name": "stderr",
     "output_type": "stream",
     "text": [
      "\r",
      "┣███████████████████ ┫ [95.50%, 212/222, 11:49/12:22, 2.81s/i] "
     ]
    },
    {
     "name": "stdout",
     "output_type": "stream",
     "text": [
      "R(0.92209107)\n"
     ]
    },
    {
     "name": "stderr",
     "output_type": "stream",
     "text": [
      "\r",
      "┣███████████████████▏┫ [95.95%, 213/222, 11:52/12:22, 2.69s/i] "
     ]
    },
    {
     "name": "stdout",
     "output_type": "stream",
     "text": [
      "R(0.273828)\n"
     ]
    },
    {
     "name": "stderr",
     "output_type": "stream",
     "text": [
      "\r",
      "┣███████████████████▎┫ [96.40%, 214/222, 11:54/12:21, 2.50s/i] "
     ]
    },
    {
     "name": "stdout",
     "output_type": "stream",
     "text": [
      "R(0.46908352)\n"
     ]
    },
    {
     "name": "stderr",
     "output_type": "stream",
     "text": [
      "\r",
      "┣███████████████████▎┫ [96.85%, 215/222, 11:57/12:20, 2.65s/i] "
     ]
    },
    {
     "name": "stdout",
     "output_type": "stream",
     "text": [
      "R(0.06749968)\n"
     ]
    },
    {
     "name": "stderr",
     "output_type": "stream",
     "text": [
      "\r",
      "┣███████████████████▍┫ [97.30%, 216/222, 12:01/12:21, 4.18s/i] "
     ]
    },
    {
     "name": "stdout",
     "output_type": "stream",
     "text": [
      "R(22.21933)\n"
     ]
    },
    {
     "name": "stderr",
     "output_type": "stream",
     "text": [
      "\r",
      "┣███████████████████▌┫ [97.75%, 217/222, 12:04/12:21, 3.56s/i] "
     ]
    },
    {
     "name": "stdout",
     "output_type": "stream",
     "text": [
      "R(0.37801483)\n"
     ]
    },
    {
     "name": "stderr",
     "output_type": "stream",
     "text": [
      "\r",
      "┣███████████████████▋┫ [98.20%, 218/222, 12:07/12:21, 2.74s/i] "
     ]
    },
    {
     "name": "stdout",
     "output_type": "stream",
     "text": [
      "R(0.19663812)\n"
     ]
    },
    {
     "name": "stderr",
     "output_type": "stream",
     "text": [
      "\r",
      "┣███████████████████▋┫ [98.65%, 219/222, 12:10/12:20, 2.56s/i] "
     ]
    },
    {
     "name": "stdout",
     "output_type": "stream",
     "text": [
      "R(0.84463537)\n"
     ]
    },
    {
     "name": "stderr",
     "output_type": "stream",
     "text": [
      "\r",
      "┣███████████████████▊┫ [99.10%, 220/222, 12:14/12:20, 4.00s/i] "
     ]
    },
    {
     "name": "stdout",
     "output_type": "stream",
     "text": [
      "R(4.1069894)\n"
     ]
    },
    {
     "name": "stderr",
     "output_type": "stream",
     "text": [
      "\r",
      "┣███████████████████▉┫ [99.55%, 221/222, 12:17/12:20, 3.23s/i] "
     ]
    },
    {
     "name": "stdout",
     "output_type": "stream",
     "text": [
      "R(5.8134785)\n"
     ]
    },
    {
     "name": "stderr",
     "output_type": "stream",
     "text": [
      "┣████████████████████┫ [100.00%, 222/222, 12:20/12:20, 3.33s/i] \n"
     ]
    },
    {
     "name": "stdout",
     "output_type": "stream",
     "text": [
      "R(9.424457)\n"
     ]
    },
    {
     "name": "stderr",
     "output_type": "stream",
     "text": [
      "\r",
      "┣                    ┫ [0.45%, 1/222, 00:03/11:10, 3.02s/i] "
     ]
    },
    {
     "name": "stdout",
     "output_type": "stream",
     "text": [
      "R(6.9990253)\n"
     ]
    },
    {
     "name": "stderr",
     "output_type": "stream",
     "text": [
      "\r",
      "┣▏                   ┫ [0.90%, 2/222, 00:06/10:50, 2.83s/i] "
     ]
    },
    {
     "name": "stdout",
     "output_type": "stream",
     "text": [
      "R(0.21034284)\n"
     ]
    },
    {
     "name": "stderr",
     "output_type": "stream",
     "text": [
      "\r",
      "┣▎                   ┫ [1.35%, 3/222, 00:10/12:13, 4.05s/i] "
     ]
    },
    {
     "name": "stdout",
     "output_type": "stream",
     "text": [
      "R(2.0569272)\n"
     ]
    },
    {
     "name": "stderr",
     "output_type": "stream",
     "text": [
      "\r",
      "┣▎                   ┫ [1.80%, 4/222, 00:13/11:52, 2.92s/i] "
     ]
    },
    {
     "name": "stdout",
     "output_type": "stream",
     "text": [
      "R(1.9341589)\n"
     ]
    },
    {
     "name": "stderr",
     "output_type": "stream",
     "text": [
      "\r",
      "┣▍                   ┫ [2.25%, 5/222, 00:16/11:34, 2.80s/i] "
     ]
    },
    {
     "name": "stdout",
     "output_type": "stream",
     "text": [
      "R(0.5567444)\n"
     ]
    },
    {
     "name": "stderr",
     "output_type": "stream",
     "text": [
      "\r",
      "┣▌                   ┫ [2.70%, 6/222, 00:18/11:23, 2.85s/i] "
     ]
    },
    {
     "name": "stdout",
     "output_type": "stream",
     "text": [
      "R(1.8709745)\n"
     ]
    },
    {
     "name": "stderr",
     "output_type": "stream",
     "text": [
      "\r",
      "┣▋                   ┫ [3.15%, 7/222, 00:23/11:58, 4.16s/i] "
     ]
    },
    {
     "name": "stdout",
     "output_type": "stream",
     "text": [
      "R(4.6938977)\n"
     ]
    },
    {
     "name": "stderr",
     "output_type": "stream",
     "text": [
      "\r",
      "┣▋                   ┫ [3.60%, 8/222, 00:26/11:59, 3.28s/i] "
     ]
    },
    {
     "name": "stdout",
     "output_type": "stream",
     "text": [
      "R(2.801204)\n"
     ]
    },
    {
     "name": "stderr",
     "output_type": "stream",
     "text": [
      "\r",
      "┣▊                   ┫ [4.05%, 9/222, 00:29/11:57, 3.16s/i] "
     ]
    },
    {
     "name": "stdout",
     "output_type": "stream",
     "text": [
      "R(20.750105)\n"
     ]
    },
    {
     "name": "stderr",
     "output_type": "stream",
     "text": [
      "\r",
      "┣▉                   ┫ [4.50%, 10/222, 00:33/12:04, 3.52s/i] "
     ]
    },
    {
     "name": "stdout",
     "output_type": "stream",
     "text": [
      "R(7.1821756)\n"
     ]
    },
    {
     "name": "stderr",
     "output_type": "stream",
     "text": [
      "\r",
      "┣▉                   ┫ [4.95%, 11/222, 00:35/11:56, 2.90s/i] "
     ]
    },
    {
     "name": "stdout",
     "output_type": "stream",
     "text": [
      "R(0.6422731)\n"
     ]
    },
    {
     "name": "stderr",
     "output_type": "stream",
     "text": [
      "\r",
      "┣█                   ┫ [5.41%, 12/222, 00:40/12:19, 4.44s/i] "
     ]
    },
    {
     "name": "stdout",
     "output_type": "stream",
     "text": [
      "R(0.29250303)\n"
     ]
    },
    {
     "name": "stderr",
     "output_type": "stream",
     "text": [
      "\r",
      "┣█▏                  ┫ [5.86%, 13/222, 00:43/12:12, 2.93s/i] "
     ]
    },
    {
     "name": "stdout",
     "output_type": "stream",
     "text": [
      "R(41.105186)\n"
     ]
    },
    {
     "name": "stderr",
     "output_type": "stream",
     "text": [
      "\r",
      "┣█▎                  ┫ [6.31%, 14/222, 00:48/12:46, 5.46s/i] "
     ]
    },
    {
     "name": "stdout",
     "output_type": "stream",
     "text": [
      "R(2.1746905)\n"
     ]
    },
    {
     "name": "stderr",
     "output_type": "stream",
     "text": [
      "\r",
      "┣█▎                  ┫ [6.76%, 15/222, 00:51/12:39, 2.98s/i] "
     ]
    },
    {
     "name": "stdout",
     "output_type": "stream",
     "text": [
      "R(12.940332)\n"
     ]
    },
    {
     "name": "stderr",
     "output_type": "stream",
     "text": [
      "\r",
      "┣█▍                  ┫ [7.21%, 16/222, 00:56/12:51, 4.22s/i] "
     ]
    },
    {
     "name": "stdout",
     "output_type": "stream",
     "text": [
      "R(8.756279)\n"
     ]
    },
    {
     "name": "stderr",
     "output_type": "stream",
     "text": [
      "\r",
      "┣█▌                  ┫ [7.66%, 17/222, 00:59/12:47, 3.19s/i] "
     ]
    },
    {
     "name": "stdout",
     "output_type": "stream",
     "text": [
      "R(5.9902997)\n"
     ]
    },
    {
     "name": "stderr",
     "output_type": "stream",
     "text": [
      "\r",
      "┣█▌                  ┫ [8.11%, 18/222, 01:02/12:43, 3.10s/i] "
     ]
    },
    {
     "name": "stdout",
     "output_type": "stream",
     "text": [
      "R(1.8765588)\n"
     ]
    },
    {
     "name": "stderr",
     "output_type": "stream",
     "text": [
      "\r",
      "┣█▋                  ┫ [8.56%, 19/222, 01:05/12:39, 3.09s/i] "
     ]
    },
    {
     "name": "stdout",
     "output_type": "stream",
     "text": [
      "R(0.33317474)\n"
     ]
    },
    {
     "name": "stderr",
     "output_type": "stream",
     "text": [
      "\r",
      "┣█▊                  ┫ [9.01%, 20/222, 01:08/12:30, 2.63s/i] "
     ]
    },
    {
     "name": "stdout",
     "output_type": "stream",
     "text": [
      "R(2.9495254)\n"
     ]
    },
    {
     "name": "stderr",
     "output_type": "stream",
     "text": [
      "\r",
      "┣█▉                  ┫ [9.46%, 21/222, 01:12/12:45, 4.79s/i] "
     ]
    },
    {
     "name": "stdout",
     "output_type": "stream",
     "text": [
      "R(7.2877474)\n"
     ]
    },
    {
     "name": "stderr",
     "output_type": "stream",
     "text": [
      "\r",
      "┣█▉                  ┫ [9.91%, 22/222, 01:15/12:42, 3.15s/i] "
     ]
    },
    {
     "name": "stdout",
     "output_type": "stream",
     "text": [
      "R(14.449884)\n"
     ]
    },
    {
     "name": "stderr",
     "output_type": "stream",
     "text": [
      "\r",
      "┣██                  ┫ [10.36%, 23/222, 01:19/12:43, 3.51s/i] "
     ]
    },
    {
     "name": "stdout",
     "output_type": "stream",
     "text": [
      "R(3.543638)\n"
     ]
    },
    {
     "name": "stderr",
     "output_type": "stream",
     "text": [
      "\r",
      "┣██▏                 ┫ [10.81%, 24/222, 01:22/12:37, 2.82s/i] "
     ]
    },
    {
     "name": "stdout",
     "output_type": "stream",
     "text": [
      "R(0.36738697)\n"
     ]
    },
    {
     "name": "stderr",
     "output_type": "stream",
     "text": [
      "\r",
      "┣██▎                 ┫ [11.26%, 25/222, 01:25/12:39, 3.66s/i] "
     ]
    },
    {
     "name": "stdout",
     "output_type": "stream",
     "text": [
      "R(18.084192)\n"
     ]
    },
    {
     "name": "stderr",
     "output_type": "stream",
     "text": [
      "\r",
      "┣██▎                 ┫ [11.71%, 26/222, 01:29/12:44, 4.00s/i] "
     ]
    },
    {
     "name": "stdout",
     "output_type": "stream",
     "text": [
      "R(1.2942531)\n"
     ]
    },
    {
     "name": "stderr",
     "output_type": "stream",
     "text": [
      "\r",
      "┣██▍                 ┫ [12.16%, 27/222, 01:33/12:41, 3.04s/i] "
     ]
    },
    {
     "name": "stdout",
     "output_type": "stream",
     "text": [
      "R(0.43702567)\n"
     ]
    },
    {
     "name": "stderr",
     "output_type": "stream",
     "text": [
      "\r",
      "┣██▌                 ┫ [12.61%, 28/222, 01:35/12:34, 2.52s/i] "
     ]
    },
    {
     "name": "stdout",
     "output_type": "stream",
     "text": [
      "R(1.2077062)\n"
     ]
    },
    {
     "name": "stderr",
     "output_type": "stream",
     "text": [
      "\r",
      "┣██▌                 ┫ [13.06%, 29/222, 01:38/12:29, 2.78s/i] "
     ]
    },
    {
     "name": "stdout",
     "output_type": "stream",
     "text": [
      "R(0.27138934)\n"
     ]
    },
    {
     "name": "stderr",
     "output_type": "stream",
     "text": [
      "\r",
      "┣██▋                 ┫ [13.51%, 30/222, 01:42/12:34, 4.03s/i] "
     ]
    },
    {
     "name": "stdout",
     "output_type": "stream",
     "text": [
      "R(0.33973065)\n"
     ]
    },
    {
     "name": "stderr",
     "output_type": "stream",
     "text": [
      "\r",
      "┣██▊                 ┫ [13.96%, 31/222, 01:45/12:30, 2.93s/i] "
     ]
    },
    {
     "name": "stdout",
     "output_type": "stream",
     "text": [
      "R(1.9637552)\n"
     ]
    },
    {
     "name": "stderr",
     "output_type": "stream",
     "text": [
      "\r",
      "┣██▉                 ┫ [14.41%, 32/222, 01:48/12:27, 2.94s/i] "
     ]
    },
    {
     "name": "stdout",
     "output_type": "stream",
     "text": [
      "R(6.0601125)\n"
     ]
    },
    {
     "name": "stderr",
     "output_type": "stream",
     "text": [
      "\r",
      "┣██▉                 ┫ [14.86%, 33/222, 01:51/12:29, 3.61s/i] "
     ]
    },
    {
     "name": "stdout",
     "output_type": "stream",
     "text": [
      "R(0.3894523)\n"
     ]
    },
    {
     "name": "stderr",
     "output_type": "stream",
     "text": [
      "\r",
      "┣███                 ┫ [15.32%, 34/222, 01:55/12:30, 3.57s/i] "
     ]
    },
    {
     "name": "stdout",
     "output_type": "stream",
     "text": [
      "R(0.56138986)\n"
     ]
    },
    {
     "name": "stderr",
     "output_type": "stream",
     "text": [
      "\r",
      "┣███▏                ┫ [15.77%, 35/222, 01:58/12:26, 2.77s/i] "
     ]
    },
    {
     "name": "stdout",
     "output_type": "stream",
     "text": [
      "R(5.487523)\n"
     ]
    },
    {
     "name": "stderr",
     "output_type": "stream",
     "text": [
      "\r",
      "┣███▏                ┫ [16.22%, 36/222, 02:01/12:26, 3.28s/i] "
     ]
    },
    {
     "name": "stdout",
     "output_type": "stream",
     "text": [
      "R(8.335963)\n"
     ]
    },
    {
     "name": "stderr",
     "output_type": "stream",
     "text": [
      "\r",
      "┣███▎                ┫ [16.67%, 37/222, 02:04/12:25, 3.19s/i] "
     ]
    },
    {
     "name": "stdout",
     "output_type": "stream",
     "text": [
      "R(2.8038423)\n"
     ]
    },
    {
     "name": "stderr",
     "output_type": "stream",
     "text": [
      "\r",
      "┣███▍                ┫ [17.12%, 38/222, 02:07/12:21, 2.73s/i] "
     ]
    },
    {
     "name": "stdout",
     "output_type": "stream",
     "text": [
      "R(0.48454124)\n"
     ]
    },
    {
     "name": "stderr",
     "output_type": "stream",
     "text": [
      "\r",
      "┣███▌                ┫ [17.57%, 39/222, 02:11/12:27, 4.31s/i] "
     ]
    },
    {
     "name": "stdout",
     "output_type": "stream",
     "text": [
      "R(0.9409881)\n"
     ]
    },
    {
     "name": "stderr",
     "output_type": "stream",
     "text": [
      "\r",
      "┣███▌                ┫ [18.02%, 40/222, 02:14/12:24, 2.85s/i] "
     ]
    },
    {
     "name": "stdout",
     "output_type": "stream",
     "text": [
      "R(0.11711703)\n"
     ]
    },
    {
     "name": "stderr",
     "output_type": "stream",
     "text": [
      "\r",
      "┣███▋                ┫ [18.47%, 41/222, 02:17/12:20, 2.58s/i] "
     ]
    },
    {
     "name": "stdout",
     "output_type": "stream",
     "text": [
      "R(2.8840392)\n"
     ]
    },
    {
     "name": "stderr",
     "output_type": "stream",
     "text": [
      "\r",
      "┣███▊                ┫ [18.92%, 42/222, 02:20/12:19, 3.22s/i] "
     ]
    },
    {
     "name": "stdout",
     "output_type": "stream",
     "text": [
      "R(5.9466906)\n"
     ]
    },
    {
     "name": "stderr",
     "output_type": "stream",
     "text": [
      "\r",
      "┣███▊                ┫ [19.37%, 43/222, 02:24/12:25, 4.37s/i] "
     ]
    },
    {
     "name": "stdout",
     "output_type": "stream",
     "text": [
      "R(17.952583)\n"
     ]
    },
    {
     "name": "stderr",
     "output_type": "stream",
     "text": [
      "\r",
      "┣███▉                ┫ [19.82%, 44/222, 02:27/12:24, 3.26s/i] "
     ]
    },
    {
     "name": "stdout",
     "output_type": "stream",
     "text": [
      "R(2.825433)\n"
     ]
    },
    {
     "name": "stderr",
     "output_type": "stream",
     "text": [
      "\r",
      "┣████                ┫ [20.27%, 45/222, 02:30/12:22, 2.93s/i] "
     ]
    },
    {
     "name": "stdout",
     "output_type": "stream",
     "text": [
      "R(0.39864057)\n"
     ]
    },
    {
     "name": "stderr",
     "output_type": "stream",
     "text": [
      "\r",
      "┣████▏               ┫ [20.72%, 46/222, 02:33/12:20, 3.00s/i] "
     ]
    },
    {
     "name": "stdout",
     "output_type": "stream",
     "text": [
      "R(3.8671732)\n"
     ]
    },
    {
     "name": "stderr",
     "output_type": "stream",
     "text": [
      "\r",
      "┣████▏               ┫ [21.17%, 47/222, 02:37/12:19, 3.14s/i] "
     ]
    },
    {
     "name": "stdout",
     "output_type": "stream",
     "text": [
      "R(3.2143352)\n"
     ]
    },
    {
     "name": "stderr",
     "output_type": "stream",
     "text": [
      "\r",
      "┣████▎               ┫ [21.62%, 48/222, 02:41/12:26, 4.85s/i] "
     ]
    },
    {
     "name": "stdout",
     "output_type": "stream",
     "text": [
      "R(0.1674432)\n"
     ]
    },
    {
     "name": "stderr",
     "output_type": "stream",
     "text": [
      "\r",
      "┣████▍               ┫ [22.07%, 49/222, 02:44/12:24, 2.77s/i] "
     ]
    },
    {
     "name": "stdout",
     "output_type": "stream",
     "text": [
      "R(1.52412)\n"
     ]
    },
    {
     "name": "stderr",
     "output_type": "stream",
     "text": [
      "\r",
      "┣████▌               ┫ [22.52%, 50/222, 02:47/12:21, 2.64s/i] "
     ]
    },
    {
     "name": "stdout",
     "output_type": "stream",
     "text": [
      "R(5.0879416)\n"
     ]
    },
    {
     "name": "stderr",
     "output_type": "stream",
     "text": [
      "\r",
      "┣████▌               ┫ [22.97%, 51/222, 02:50/12:20, 3.27s/i] "
     ]
    },
    {
     "name": "stdout",
     "output_type": "stream",
     "text": [
      "R(23.572178)\n"
     ]
    },
    {
     "name": "stderr",
     "output_type": "stream",
     "text": [
      "\r",
      "┣████▋               ┫ [23.42%, 52/222, 02:55/12:26, 4.68s/i] "
     ]
    },
    {
     "name": "stdout",
     "output_type": "stream",
     "text": [
      "R(5.0640316)\n"
     ]
    },
    {
     "name": "stderr",
     "output_type": "stream",
     "text": [
      "\r",
      "┣████▊               ┫ [23.87%, 53/222, 02:58/12:24, 2.93s/i] "
     ]
    },
    {
     "name": "stdout",
     "output_type": "stream",
     "text": [
      "R(4.6182113)\n"
     ]
    },
    {
     "name": "stderr",
     "output_type": "stream",
     "text": [
      "\r",
      "┣████▊               ┫ [24.32%, 54/222, 03:01/12:24, 3.32s/i] "
     ]
    },
    {
     "name": "stdout",
     "output_type": "stream",
     "text": [
      "R(1.81311)\n"
     ]
    },
    {
     "name": "stderr",
     "output_type": "stream",
     "text": [
      "\r",
      "┣████▉               ┫ [24.77%, 55/222, 03:04/12:21, 2.63s/i] "
     ]
    },
    {
     "name": "stdout",
     "output_type": "stream",
     "text": [
      "R(0.9273715)\n"
     ]
    },
    {
     "name": "stderr",
     "output_type": "stream",
     "text": [
      "\r",
      "┣█████               ┫ [25.23%, 56/222, 03:06/12:19, 2.76s/i] "
     ]
    },
    {
     "name": "stdout",
     "output_type": "stream",
     "text": [
      "R(0.1476016)\n"
     ]
    },
    {
     "name": "stderr",
     "output_type": "stream",
     "text": [
      "\r",
      "┣█████▏              ┫ [25.68%, 57/222, 03:10/12:22, 4.05s/i] "
     ]
    },
    {
     "name": "stdout",
     "output_type": "stream",
     "text": [
      "R(21.763226)\n"
     ]
    },
    {
     "name": "stderr",
     "output_type": "stream",
     "text": [
      "\r",
      "┣█████▏              ┫ [26.13%, 58/222, 03:15/12:28, 5.06s/i] "
     ]
    },
    {
     "name": "stdout",
     "output_type": "stream",
     "text": [
      "R(0.29021686)\n"
     ]
    },
    {
     "name": "stderr",
     "output_type": "stream",
     "text": [
      "\r",
      "┣█████▎              ┫ [26.58%, 59/222, 03:18/12:25, 2.56s/i] "
     ]
    },
    {
     "name": "stdout",
     "output_type": "stream",
     "text": [
      "R(8.951746)\n"
     ]
    },
    {
     "name": "stderr",
     "output_type": "stream",
     "text": [
      "\r",
      "┣█████▍              ┫ [27.03%, 60/222, 03:22/12:26, 3.54s/i] "
     ]
    },
    {
     "name": "stdout",
     "output_type": "stream",
     "text": [
      "R(2.6409366)\n"
     ]
    },
    {
     "name": "stderr",
     "output_type": "stream",
     "text": [
      "\r",
      "┣█████▍              ┫ [27.48%, 61/222, 03:26/12:28, 3.99s/i] "
     ]
    },
    {
     "name": "stdout",
     "output_type": "stream",
     "text": [
      "R(10.787577)\n"
     ]
    },
    {
     "name": "stderr",
     "output_type": "stream",
     "text": [
      "\r",
      "┣█████▌              ┫ [27.93%, 62/222, 03:29/12:28, 3.27s/i] "
     ]
    },
    {
     "name": "stdout",
     "output_type": "stream",
     "text": [
      "R(0.33582035)\n"
     ]
    },
    {
     "name": "stderr",
     "output_type": "stream",
     "text": [
      "\r",
      "┣█████▋              ┫ [28.38%, 63/222, 03:32/12:26, 2.79s/i] "
     ]
    },
    {
     "name": "stdout",
     "output_type": "stream",
     "text": [
      "R(7.819748)\n"
     ]
    },
    {
     "name": "stderr",
     "output_type": "stream",
     "text": [
      "\r",
      "┣█████▊              ┫ [28.83%, 64/222, 03:35/12:26, 3.45s/i] "
     ]
    },
    {
     "name": "stdout",
     "output_type": "stream",
     "text": [
      "R(0.29457837)\n"
     ]
    },
    {
     "name": "stderr",
     "output_type": "stream",
     "text": [
      "\r",
      "┣█████▊              ┫ [29.28%, 65/222, 03:38/12:24, 2.66s/i] "
     ]
    },
    {
     "name": "stdout",
     "output_type": "stream",
     "text": [
      "R(0.5843898)\n"
     ]
    },
    {
     "name": "stderr",
     "output_type": "stream",
     "text": [
      "\r",
      "┣█████▉              ┫ [29.73%, 66/222, 03:42/12:27, 4.31s/i] "
     ]
    },
    {
     "name": "stdout",
     "output_type": "stream",
     "text": [
      "R(1.7406805)\n"
     ]
    },
    {
     "name": "stderr",
     "output_type": "stream",
     "text": [
      "\r",
      "┣██████              ┫ [30.18%, 67/222, 03:45/12:26, 3.11s/i] "
     ]
    },
    {
     "name": "stdout",
     "output_type": "stream",
     "text": [
      "R(1.5426782)\n"
     ]
    },
    {
     "name": "stderr",
     "output_type": "stream",
     "text": [
      "\r",
      "┣██████▏             ┫ [30.63%, 68/222, 03:48/12:25, 3.05s/i] "
     ]
    },
    {
     "name": "stdout",
     "output_type": "stream",
     "text": [
      "R(42.281326)\n"
     ]
    },
    {
     "name": "stderr",
     "output_type": "stream",
     "text": [
      "\r",
      "┣██████▏             ┫ [31.08%, 69/222, 03:54/12:34, 6.01s/i] "
     ]
    },
    {
     "name": "stdout",
     "output_type": "stream",
     "text": [
      "R(0.32778665)\n"
     ]
    },
    {
     "name": "stderr",
     "output_type": "stream",
     "text": [
      "\r",
      "┣██████▎             ┫ [31.53%, 70/222, 03:57/12:31, 2.63s/i] "
     ]
    },
    {
     "name": "stdout",
     "output_type": "stream",
     "text": [
      "R(2.76493)\n"
     ]
    },
    {
     "name": "stderr",
     "output_type": "stream",
     "text": [
      "\r",
      "┣██████▍             ┫ [31.98%, 71/222, 03:59/12:29, 2.53s/i] "
     ]
    },
    {
     "name": "stdout",
     "output_type": "stream",
     "text": [
      "R(0.72716)\n"
     ]
    },
    {
     "name": "stderr",
     "output_type": "stream",
     "text": [
      "\r",
      "┣██████▍             ┫ [32.43%, 72/222, 04:02/12:27, 2.88s/i] "
     ]
    },
    {
     "name": "stdout",
     "output_type": "stream",
     "text": [
      "R(0.6545402)\n"
     ]
    },
    {
     "name": "stderr",
     "output_type": "stream",
     "text": [
      "\r",
      "┣██████▌             ┫ [32.88%, 73/222, 04:05/12:25, 2.77s/i] "
     ]
    },
    {
     "name": "stdout",
     "output_type": "stream",
     "text": [
      "R(2.1268132)\n"
     ]
    },
    {
     "name": "stderr",
     "output_type": "stream",
     "text": [
      "\r",
      "┣██████▋             ┫ [33.33%, 74/222, 04:08/12:25, 3.19s/i] "
     ]
    },
    {
     "name": "stdout",
     "output_type": "stream",
     "text": [
      "R(0.06112865)\n"
     ]
    },
    {
     "name": "stderr",
     "output_type": "stream",
     "text": [
      "\r",
      "┣██████▊             ┫ [33.78%, 75/222, 04:12/12:27, 4.06s/i] "
     ]
    },
    {
     "name": "stdout",
     "output_type": "stream",
     "text": [
      "R(8.441944)\n"
     ]
    },
    {
     "name": "stderr",
     "output_type": "stream",
     "text": [
      "\r",
      "┣██████▊             ┫ [34.23%, 76/222, 04:16/12:27, 3.30s/i] "
     ]
    },
    {
     "name": "stdout",
     "output_type": "stream",
     "text": [
      "R(7.9016128)\n"
     ]
    },
    {
     "name": "stderr",
     "output_type": "stream",
     "text": [
      "\r",
      "┣██████▉             ┫ [34.68%, 77/222, 04:19/12:26, 3.31s/i] "
     ]
    },
    {
     "name": "stdout",
     "output_type": "stream",
     "text": [
      "R(7.1961975)\n"
     ]
    },
    {
     "name": "stderr",
     "output_type": "stream",
     "text": [
      "\r",
      "┣███████             ┫ [35.14%, 78/222, 04:22/12:26, 3.37s/i] "
     ]
    },
    {
     "name": "stdout",
     "output_type": "stream",
     "text": [
      "R(8.6582575)\n"
     ]
    },
    {
     "name": "stderr",
     "output_type": "stream",
     "text": [
      "\r",
      "┣███████             ┫ [35.59%, 79/222, 04:27/12:30, 4.65s/i] "
     ]
    },
    {
     "name": "stdout",
     "output_type": "stream",
     "text": [
      "R(0.85584307)\n"
     ]
    },
    {
     "name": "stderr",
     "output_type": "stream",
     "text": [
      "\r",
      "┣███████▏            ┫ [36.04%, 80/222, 04:30/12:28, 2.67s/i] "
     ]
    },
    {
     "name": "stdout",
     "output_type": "stream",
     "text": [
      "R(2.016704)\n"
     ]
    },
    {
     "name": "stderr",
     "output_type": "stream",
     "text": [
      "\r",
      "┣███████▎            ┫ [36.49%, 81/222, 04:33/12:27, 3.08s/i] "
     ]
    },
    {
     "name": "stdout",
     "output_type": "stream",
     "text": [
      "R(13.03725)\n"
     ]
    },
    {
     "name": "stderr",
     "output_type": "stream",
     "text": [
      "\r",
      "┣███████▍            ┫ [36.94%, 82/222, 04:36/12:28, 3.55s/i] "
     ]
    },
    {
     "name": "stdout",
     "output_type": "stream",
     "text": [
      "R(2.4853468)\n"
     ]
    },
    {
     "name": "stderr",
     "output_type": "stream",
     "text": [
      "\r",
      "┣███████▍            ┫ [37.39%, 83/222, 04:39/12:27, 3.06s/i] "
     ]
    },
    {
     "name": "stdout",
     "output_type": "stream",
     "text": [
      "R(1.5769467)\n"
     ]
    },
    {
     "name": "stderr",
     "output_type": "stream",
     "text": [
      "\r",
      "┣███████▌            ┫ [37.84%, 84/222, 04:44/12:30, 4.35s/i] "
     ]
    },
    {
     "name": "stdout",
     "output_type": "stream",
     "text": [
      "R(0.6262064)\n"
     ]
    },
    {
     "name": "stderr",
     "output_type": "stream",
     "text": [
      "\r",
      "┣███████▋            ┫ [38.29%, 85/222, 04:46/12:28, 2.85s/i] "
     ]
    },
    {
     "name": "stdout",
     "output_type": "stream",
     "text": [
      "R(1.1939166)\n"
     ]
    },
    {
     "name": "stderr",
     "output_type": "stream",
     "text": [
      "\r",
      "┣███████▋            ┫ [38.74%, 86/222, 04:49/12:27, 2.92s/i] "
     ]
    },
    {
     "name": "stdout",
     "output_type": "stream",
     "text": [
      "R(1.8432655)\n"
     ]
    },
    {
     "name": "stderr",
     "output_type": "stream",
     "text": [
      "\r",
      "┣███████▊            ┫ [39.19%, 87/222, 04:52/12:26, 2.93s/i] "
     ]
    },
    {
     "name": "stdout",
     "output_type": "stream",
     "text": [
      "R(0.06744808)\n"
     ]
    },
    {
     "name": "stderr",
     "output_type": "stream",
     "text": [
      "\r",
      "┣███████▉            ┫ [39.64%, 88/222, 04:56/12:28, 4.02s/i] "
     ]
    },
    {
     "name": "stdout",
     "output_type": "stream",
     "text": [
      "R(3.6968904)\n"
     ]
    },
    {
     "name": "stderr",
     "output_type": "stream",
     "text": [
      "\r",
      "┣████████            ┫ [40.09%, 89/222, 04:59/12:27, 2.98s/i] "
     ]
    },
    {
     "name": "stdout",
     "output_type": "stream",
     "text": [
      "R(0.36514625)\n"
     ]
    },
    {
     "name": "stderr",
     "output_type": "stream",
     "text": [
      "\r",
      "┣████████            ┫ [40.54%, 90/222, 05:02/12:25, 2.56s/i] "
     ]
    },
    {
     "name": "stdout",
     "output_type": "stream",
     "text": [
      "R(38.923733)\n"
     ]
    },
    {
     "name": "stderr",
     "output_type": "stream",
     "text": [
      "\r",
      "┣████████▏           ┫ [40.99%, 91/222, 05:07/12:29, 5.05s/i] "
     ]
    },
    {
     "name": "stdout",
     "output_type": "stream",
     "text": [
      "R(0.6827731)\n"
     ]
    },
    {
     "name": "stderr",
     "output_type": "stream",
     "text": [
      "\r",
      "┣████████▎           ┫ [41.44%, 92/222, 05:10/12:28, 2.85s/i] "
     ]
    },
    {
     "name": "stdout",
     "output_type": "stream",
     "text": [
      "R(0.0820146)\n"
     ]
    },
    {
     "name": "stderr",
     "output_type": "stream",
     "text": [
      "\r",
      "┣████████▍           ┫ [41.89%, 93/222, 05:14/12:30, 4.31s/i] "
     ]
    },
    {
     "name": "stdout",
     "output_type": "stream",
     "text": [
      "R(1.8444004)\n"
     ]
    },
    {
     "name": "stderr",
     "output_type": "stream",
     "text": [
      "\r",
      "┣████████▍           ┫ [42.34%, 94/222, 05:17/12:29, 2.95s/i] "
     ]
    },
    {
     "name": "stdout",
     "output_type": "stream",
     "text": [
      "R(0.5237806)\n"
     ]
    },
    {
     "name": "stderr",
     "output_type": "stream",
     "text": [
      "\r",
      "┣████████▌           ┫ [42.79%, 95/222, 05:20/12:27, 2.72s/i] "
     ]
    },
    {
     "name": "stdout",
     "output_type": "stream",
     "text": [
      "R(6.0939827)\n"
     ]
    },
    {
     "name": "stderr",
     "output_type": "stream",
     "text": [
      "\r",
      "┣████████▋           ┫ [43.24%, 96/222, 05:23/12:27, 3.38s/i] "
     ]
    },
    {
     "name": "stdout",
     "output_type": "stream",
     "text": [
      "R(0.9685829)\n"
     ]
    },
    {
     "name": "stderr",
     "output_type": "stream",
     "text": [
      "\r",
      "┣████████▋           ┫ [43.69%, 97/222, 05:27/12:29, 4.17s/i] "
     ]
    },
    {
     "name": "stdout",
     "output_type": "stream",
     "text": [
      "R(2.6083875)\n"
     ]
    },
    {
     "name": "stderr",
     "output_type": "stream",
     "text": [
      "\r",
      "┣████████▊           ┫ [44.14%, 98/222, 05:30/12:29, 3.09s/i] "
     ]
    },
    {
     "name": "stdout",
     "output_type": "stream",
     "text": [
      "R(20.349792)\n"
     ]
    },
    {
     "name": "stderr",
     "output_type": "stream",
     "text": [
      "\r",
      "┣████████▉           ┫ [44.59%, 99/222, 05:34/12:28, 3.30s/i] "
     ]
    },
    {
     "name": "stdout",
     "output_type": "stream",
     "text": [
      "R(1.9246091)\n"
     ]
    },
    {
     "name": "stderr",
     "output_type": "stream",
     "text": [
      "\r",
      "┣█████████           ┫ [45.05%, 100/222, 05:37/12:27, 2.78s/i] "
     ]
    },
    {
     "name": "stdout",
     "output_type": "stream",
     "text": [
      "R(3.0019183)\n"
     ]
    },
    {
     "name": "stderr",
     "output_type": "stream",
     "text": [
      "\r",
      "┣█████████           ┫ [45.50%, 101/222, 05:39/12:26, 2.94s/i] "
     ]
    },
    {
     "name": "stdout",
     "output_type": "stream",
     "text": [
      "R(0.93024606)\n"
     ]
    },
    {
     "name": "stderr",
     "output_type": "stream",
     "text": [
      "\r",
      "┣█████████▏          ┫ [45.95%, 102/222, 05:44/12:28, 4.43s/i] "
     ]
    },
    {
     "name": "stdout",
     "output_type": "stream",
     "text": [
      "R(2.2753267)\n"
     ]
    },
    {
     "name": "stderr",
     "output_type": "stream",
     "text": [
      "\r",
      "┣█████████▎          ┫ [46.40%, 103/222, 05:47/12:28, 3.10s/i] "
     ]
    },
    {
     "name": "stdout",
     "output_type": "stream",
     "text": [
      "R(0.5801874)\n"
     ]
    },
    {
     "name": "stderr",
     "output_type": "stream",
     "text": [
      "\r",
      "┣█████████▎          ┫ [46.85%, 104/222, 05:50/12:26, 2.66s/i] "
     ]
    },
    {
     "name": "stdout",
     "output_type": "stream",
     "text": [
      "R(0.28180468)\n"
     ]
    },
    {
     "name": "stderr",
     "output_type": "stream",
     "text": [
      "\r",
      "┣█████████▍          ┫ [47.30%, 105/222, 05:52/12:25, 2.66s/i] "
     ]
    },
    {
     "name": "stdout",
     "output_type": "stream",
     "text": [
      "R(1.1218013)\n"
     ]
    },
    {
     "name": "stderr",
     "output_type": "stream",
     "text": [
      "\r",
      "┣█████████▌          ┫ [47.75%, 106/222, 05:56/12:26, 4.11s/i] "
     ]
    },
    {
     "name": "stdout",
     "output_type": "stream",
     "text": [
      "R(3.5023644)\n"
     ]
    },
    {
     "name": "stderr",
     "output_type": "stream",
     "text": [
      "\r",
      "┣█████████▋          ┫ [48.20%, 107/222, 05:59/12:25, 2.89s/i] "
     ]
    },
    {
     "name": "stdout",
     "output_type": "stream",
     "text": [
      "R(0.9432123)\n"
     ]
    },
    {
     "name": "stderr",
     "output_type": "stream",
     "text": [
      "\r",
      "┣█████████▋          ┫ [48.65%, 108/222, 06:02/12:24, 2.74s/i] "
     ]
    },
    {
     "name": "stdout",
     "output_type": "stream",
     "text": [
      "R(6.2216835)\n"
     ]
    },
    {
     "name": "stderr",
     "output_type": "stream",
     "text": [
      "\r",
      "┣█████████▊          ┫ [49.10%, 109/222, 06:05/12:24, 3.26s/i] "
     ]
    },
    {
     "name": "stdout",
     "output_type": "stream",
     "text": [
      "R(1.3739821)\n"
     ]
    },
    {
     "name": "stderr",
     "output_type": "stream",
     "text": [
      "\r",
      "┣█████████▉          ┫ [49.55%, 110/222, 06:08/12:23, 2.75s/i] "
     ]
    },
    {
     "name": "stdout",
     "output_type": "stream",
     "text": [
      "R(0.16585736)\n"
     ]
    },
    {
     "name": "stderr",
     "output_type": "stream",
     "text": [
      "\r",
      "┣██████████          ┫ [50.00%, 111/222, 06:12/12:24, 4.17s/i] "
     ]
    },
    {
     "name": "stdout",
     "output_type": "stream",
     "text": [
      "R(0.588737)\n"
     ]
    },
    {
     "name": "stderr",
     "output_type": "stream",
     "text": [
      "\r",
      "┣██████████          ┫ [50.45%, 112/222, 06:15/12:24, 2.95s/i] "
     ]
    },
    {
     "name": "stdout",
     "output_type": "stream",
     "text": [
      "R(10.273819)\n"
     ]
    },
    {
     "name": "stderr",
     "output_type": "stream",
     "text": [
      "\r",
      "┣██████████▏         ┫ [50.90%, 113/222, 06:19/12:25, 3.86s/i] "
     ]
    },
    {
     "name": "stdout",
     "output_type": "stream",
     "text": [
      "R(0.64935595)\n"
     ]
    },
    {
     "name": "stderr",
     "output_type": "stream",
     "text": [
      "\r",
      "┣██████████▎         ┫ [51.35%, 114/222, 06:22/12:24, 2.78s/i] "
     ]
    },
    {
     "name": "stdout",
     "output_type": "stream",
     "text": [
      "R(4.8555317)\n"
     ]
    },
    {
     "name": "stderr",
     "output_type": "stream",
     "text": [
      "\r",
      "┣██████████▎         ┫ [51.80%, 115/222, 06:26/12:26, 4.48s/i] "
     ]
    },
    {
     "name": "stdout",
     "output_type": "stream",
     "text": [
      "R(0.88598394)\n"
     ]
    },
    {
     "name": "stderr",
     "output_type": "stream",
     "text": [
      "\r",
      "┣██████████▍         ┫ [52.25%, 116/222, 06:29/12:24, 2.60s/i] "
     ]
    },
    {
     "name": "stdout",
     "output_type": "stream",
     "text": [
      "R(0.4999262)\n"
     ]
    },
    {
     "name": "stderr",
     "output_type": "stream",
     "text": [
      "\r",
      "┣██████████▌         ┫ [52.70%, 117/222, 06:31/12:22, 2.41s/i] "
     ]
    },
    {
     "name": "stdout",
     "output_type": "stream",
     "text": [
      "R(2.0308511)\n"
     ]
    },
    {
     "name": "stderr",
     "output_type": "stream",
     "text": [
      "\r",
      "┣██████████▋         ┫ [53.15%, 118/222, 06:34/12:21, 2.74s/i] "
     ]
    },
    {
     "name": "stdout",
     "output_type": "stream",
     "text": [
      "R(8.744717)\n"
     ]
    },
    {
     "name": "stderr",
     "output_type": "stream",
     "text": [
      "\r",
      "┣██████████▋         ┫ [53.60%, 119/222, 06:37/12:21, 3.20s/i] "
     ]
    },
    {
     "name": "stdout",
     "output_type": "stream",
     "text": [
      "R(0.19932136)\n"
     ]
    },
    {
     "name": "stderr",
     "output_type": "stream",
     "text": [
      "\r",
      "┣██████████▊         ┫ [54.05%, 120/222, 06:42/12:23, 4.39s/i] "
     ]
    },
    {
     "name": "stdout",
     "output_type": "stream",
     "text": [
      "R(0.51871884)\n"
     ]
    },
    {
     "name": "stderr",
     "output_type": "stream",
     "text": [
      "\r",
      "┣██████████▉         ┫ [54.50%, 121/222, 06:44/12:22, 2.74s/i] "
     ]
    },
    {
     "name": "stdout",
     "output_type": "stream",
     "text": [
      "R(2.7731822)\n"
     ]
    },
    {
     "name": "stderr",
     "output_type": "stream",
     "text": [
      "\r",
      "┣██████████▉         ┫ [54.95%, 122/222, 06:47/12:21, 3.02s/i] "
     ]
    },
    {
     "name": "stdout",
     "output_type": "stream",
     "text": [
      "R(0.8135821)\n"
     ]
    },
    {
     "name": "stderr",
     "output_type": "stream",
     "text": [
      "\r",
      "┣███████████         ┫ [55.41%, 123/222, 06:50/12:21, 2.89s/i] "
     ]
    },
    {
     "name": "stdout",
     "output_type": "stream",
     "text": [
      "R(4.095494)\n"
     ]
    },
    {
     "name": "stderr",
     "output_type": "stream",
     "text": [
      "\r",
      "┣███████████▏        ┫ [55.86%, 124/222, 06:55/12:22, 4.34s/i] "
     ]
    },
    {
     "name": "stdout",
     "output_type": "stream",
     "text": [
      "R(0.6343895)\n"
     ]
    },
    {
     "name": "stderr",
     "output_type": "stream",
     "text": [
      "\r",
      "┣███████████▎        ┫ [56.31%, 125/222, 06:57/12:21, 2.41s/i] "
     ]
    },
    {
     "name": "stdout",
     "output_type": "stream",
     "text": [
      "R(0.86257285)\n"
     ]
    },
    {
     "name": "stderr",
     "output_type": "stream",
     "text": [
      "\r",
      "┣███████████▎        ┫ [56.76%, 126/222, 07:00/12:20, 2.85s/i] "
     ]
    },
    {
     "name": "stdout",
     "output_type": "stream",
     "text": [
      "R(0.32588714)\n"
     ]
    },
    {
     "name": "stderr",
     "output_type": "stream",
     "text": [
      "\r",
      "┣███████████▍        ┫ [57.21%, 127/222, 07:03/12:19, 2.74s/i] "
     ]
    },
    {
     "name": "stdout",
     "output_type": "stream",
     "text": [
      "R(0.8510745)\n"
     ]
    },
    {
     "name": "stderr",
     "output_type": "stream",
     "text": [
      "\r",
      "┣███████████▌        ┫ [57.66%, 128/222, 07:05/12:18, 2.78s/i] "
     ]
    },
    {
     "name": "stdout",
     "output_type": "stream",
     "text": [
      "R(0.37238073)\n"
     ]
    },
    {
     "name": "stderr",
     "output_type": "stream",
     "text": [
      "\r",
      "┣███████████▌        ┫ [58.11%, 129/222, 07:10/12:19, 4.18s/i] "
     ]
    },
    {
     "name": "stdout",
     "output_type": "stream",
     "text": [
      "R(1.3222958)\n"
     ]
    },
    {
     "name": "stderr",
     "output_type": "stream",
     "text": [
      "\r",
      "┣███████████▋        ┫ [58.56%, 130/222, 07:13/12:19, 3.02s/i] "
     ]
    },
    {
     "name": "stdout",
     "output_type": "stream",
     "text": [
      "R(1.2597082)\n"
     ]
    },
    {
     "name": "stderr",
     "output_type": "stream",
     "text": [
      "\r",
      "┣███████████▊        ┫ [59.01%, 131/222, 07:15/12:18, 2.81s/i] "
     ]
    },
    {
     "name": "stdout",
     "output_type": "stream",
     "text": [
      "R(50.606762)\n"
     ]
    },
    {
     "name": "stderr",
     "output_type": "stream",
     "text": [
      "\r",
      "┣███████████▉        ┫ [59.46%, 132/222, 07:21/12:22, 5.73s/i] "
     ]
    },
    {
     "name": "stdout",
     "output_type": "stream",
     "text": [
      "R(10.6343565)\n"
     ]
    },
    {
     "name": "stderr",
     "output_type": "stream",
     "text": [
      "\r",
      "┣███████████▉        ┫ [59.91%, 133/222, 07:26/12:24, 4.45s/i] "
     ]
    },
    {
     "name": "stdout",
     "output_type": "stream",
     "text": [
      "R(0.6170343)\n"
     ]
    },
    {
     "name": "stderr",
     "output_type": "stream",
     "text": [
      "\r",
      "┣████████████        ┫ [60.36%, 134/222, 07:28/12:23, 2.62s/i] "
     ]
    },
    {
     "name": "stdout",
     "output_type": "stream",
     "text": [
      "R(0.06232608)\n"
     ]
    },
    {
     "name": "stderr",
     "output_type": "stream",
     "text": [
      "\r",
      "┣████████████▏       ┫ [60.81%, 135/222, 07:31/12:21, 2.52s/i] "
     ]
    },
    {
     "name": "stdout",
     "output_type": "stream",
     "text": [
      "R(1.7981949)\n"
     ]
    },
    {
     "name": "stderr",
     "output_type": "stream",
     "text": [
      "\r",
      "┣████████████▎       ┫ [61.26%, 136/222, 07:33/12:20, 2.55s/i] "
     ]
    },
    {
     "name": "stdout",
     "output_type": "stream",
     "text": [
      "R(0.22198394)\n"
     ]
    },
    {
     "name": "stderr",
     "output_type": "stream",
     "text": [
      "\r",
      "┣████████████▎       ┫ [61.71%, 137/222, 07:36/12:18, 2.33s/i] "
     ]
    },
    {
     "name": "stdout",
     "output_type": "stream",
     "text": [
      "R(5.6245666)\n"
     ]
    },
    {
     "name": "stderr",
     "output_type": "stream",
     "text": [
      "\r",
      "┣████████████▍       ┫ [62.16%, 138/222, 07:40/12:21, 4.81s/i] "
     ]
    },
    {
     "name": "stdout",
     "output_type": "stream",
     "text": [
      "R(3.5835447)\n"
     ]
    },
    {
     "name": "stderr",
     "output_type": "stream",
     "text": [
      "\r",
      "┣████████████▌       ┫ [62.61%, 139/222, 07:44/12:21, 3.28s/i] "
     ]
    },
    {
     "name": "stdout",
     "output_type": "stream",
     "text": [
      "R(3.0196705)\n"
     ]
    },
    {
     "name": "stderr",
     "output_type": "stream",
     "text": [
      "\r",
      "┣████████████▌       ┫ [63.06%, 140/222, 07:47/12:20, 3.01s/i] "
     ]
    },
    {
     "name": "stdout",
     "output_type": "stream",
     "text": [
      "R(0.9570362)\n"
     ]
    },
    {
     "name": "stderr",
     "output_type": "stream",
     "text": [
      "\r",
      "┣████████████▋       ┫ [63.51%, 141/222, 07:50/12:19, 2.96s/i] "
     ]
    },
    {
     "name": "stdout",
     "output_type": "stream",
     "text": [
      "R(11.847687)\n"
     ]
    },
    {
     "name": "stderr",
     "output_type": "stream",
     "text": [
      "\r",
      "┣████████████▊       ┫ [63.96%, 142/222, 07:54/12:21, 4.58s/i] "
     ]
    },
    {
     "name": "stdout",
     "output_type": "stream",
     "text": [
      "R(0.9879049)\n"
     ]
    },
    {
     "name": "stderr",
     "output_type": "stream",
     "text": [
      "\r",
      "┣████████████▉       ┫ [64.41%, 143/222, 07:57/12:21, 2.75s/i] "
     ]
    },
    {
     "name": "stdout",
     "output_type": "stream",
     "text": [
      "R(1.5641832)\n"
     ]
    },
    {
     "name": "stderr",
     "output_type": "stream",
     "text": [
      "\r",
      "┣████████████▉       ┫ [64.86%, 144/222, 07:59/12:19, 2.37s/i] "
     ]
    },
    {
     "name": "stdout",
     "output_type": "stream",
     "text": [
      "R(5.9293556)\n"
     ]
    },
    {
     "name": "stderr",
     "output_type": "stream",
     "text": [
      "\r",
      "┣█████████████       ┫ [65.32%, 145/222, 08:02/12:19, 3.08s/i] "
     ]
    },
    {
     "name": "stdout",
     "output_type": "stream",
     "text": [
      "R(0.882215)\n"
     ]
    },
    {
     "name": "stderr",
     "output_type": "stream",
     "text": [
      "\r",
      "┣█████████████▏      ┫ [65.77%, 146/222, 08:05/12:18, 2.83s/i] "
     ]
    },
    {
     "name": "stdout",
     "output_type": "stream",
     "text": [
      "R(6.3187)\n"
     ]
    },
    {
     "name": "stderr",
     "output_type": "stream",
     "text": [
      "\r",
      "┣█████████████▏      ┫ [66.22%, 147/222, 08:10/12:20, 4.98s/i] "
     ]
    },
    {
     "name": "stdout",
     "output_type": "stream",
     "text": [
      "R(0.43587092)\n"
     ]
    },
    {
     "name": "stderr",
     "output_type": "stream",
     "text": [
      "\r",
      "┣█████████████▎      ┫ [66.67%, 148/222, 08:13/12:20, 2.76s/i] "
     ]
    },
    {
     "name": "stdout",
     "output_type": "stream",
     "text": [
      "R(0.7966767)\n"
     ]
    },
    {
     "name": "stderr",
     "output_type": "stream",
     "text": [
      "\r",
      "┣█████████████▍      ┫ [67.12%, 149/222, 08:16/12:19, 2.80s/i] "
     ]
    },
    {
     "name": "stdout",
     "output_type": "stream",
     "text": [
      "R(13.584992)\n"
     ]
    },
    {
     "name": "stderr",
     "output_type": "stream",
     "text": [
      "\r",
      "┣█████████████▌      ┫ [67.57%, 150/222, 08:19/12:19, 3.64s/i] "
     ]
    },
    {
     "name": "stdout",
     "output_type": "stream",
     "text": [
      "R(2.5706904)\n"
     ]
    },
    {
     "name": "stderr",
     "output_type": "stream",
     "text": [
      "\r",
      "┣█████████████▌      ┫ [68.02%, 151/222, 08:24/12:20, 4.20s/i] "
     ]
    },
    {
     "name": "stdout",
     "output_type": "stream",
     "text": [
      "R(2.1955335)\n"
     ]
    },
    {
     "name": "stderr",
     "output_type": "stream",
     "text": [
      "\r",
      "┣█████████████▋      ┫ [68.47%, 152/222, 08:27/12:20, 3.11s/i] "
     ]
    },
    {
     "name": "stdout",
     "output_type": "stream",
     "text": [
      "R(1.8575951)\n"
     ]
    },
    {
     "name": "stderr",
     "output_type": "stream",
     "text": [
      "\r",
      "┣█████████████▊      ┫ [68.92%, 153/222, 08:30/12:20, 2.97s/i] "
     ]
    },
    {
     "name": "stdout",
     "output_type": "stream",
     "text": [
      "R(2.587894)\n"
     ]
    },
    {
     "name": "stderr",
     "output_type": "stream",
     "text": [
      "\r",
      "┣█████████████▊      ┫ [69.37%, 154/222, 08:33/12:19, 3.06s/i] "
     ]
    },
    {
     "name": "stdout",
     "output_type": "stream",
     "text": [
      "R(2.1101024)\n"
     ]
    },
    {
     "name": "stderr",
     "output_type": "stream",
     "text": [
      "\r",
      "┣█████████████▉      ┫ [69.82%, 155/222, 08:36/12:19, 3.13s/i] "
     ]
    },
    {
     "name": "stdout",
     "output_type": "stream",
     "text": [
      "R(0.32654935)\n"
     ]
    },
    {
     "name": "stderr",
     "output_type": "stream",
     "text": [
      "\r",
      "┣██████████████      ┫ [70.27%, 156/222, 08:38/12:18, 2.55s/i] "
     ]
    },
    {
     "name": "stdout",
     "output_type": "stream",
     "text": [
      "R(1.6485003)\n"
     ]
    },
    {
     "name": "stderr",
     "output_type": "stream",
     "text": [
      "\r",
      "┣██████████████▏     ┫ [70.72%, 157/222, 08:43/12:19, 4.25s/i] "
     ]
    },
    {
     "name": "stdout",
     "output_type": "stream",
     "text": [
      "R(1.0142932)\n"
     ]
    },
    {
     "name": "stderr",
     "output_type": "stream",
     "text": [
      "\r",
      "┣██████████████▏     ┫ [71.17%, 158/222, 08:46/12:18, 2.85s/i] "
     ]
    },
    {
     "name": "stdout",
     "output_type": "stream",
     "text": [
      "R(0.78951144)\n"
     ]
    },
    {
     "name": "stderr",
     "output_type": "stream",
     "text": [
      "\r",
      "┣██████████████▎     ┫ [71.62%, 159/222, 08:48/12:18, 2.68s/i] "
     ]
    },
    {
     "name": "stdout",
     "output_type": "stream",
     "text": [
      "R(0.91074646)\n"
     ]
    },
    {
     "name": "stderr",
     "output_type": "stream",
     "text": [
      "\r",
      "┣██████████████▍     ┫ [72.07%, 160/222, 08:51/12:17, 3.10s/i] "
     ]
    },
    {
     "name": "stdout",
     "output_type": "stream",
     "text": [
      "R(2.2642744)\n"
     ]
    },
    {
     "name": "stderr",
     "output_type": "stream",
     "text": [
      "\r",
      "┣██████████████▌     ┫ [72.52%, 161/222, 08:56/12:18, 4.20s/i] "
     ]
    },
    {
     "name": "stdout",
     "output_type": "stream",
     "text": [
      "R(2.2390702)\n"
     ]
    },
    {
     "name": "stderr",
     "output_type": "stream",
     "text": [
      "\r",
      "┣██████████████▌     ┫ [72.97%, 162/222, 08:59/12:18, 3.00s/i] "
     ]
    },
    {
     "name": "stdout",
     "output_type": "stream",
     "text": [
      "R(0.34330565)\n"
     ]
    },
    {
     "name": "stderr",
     "output_type": "stream",
     "text": [
      "\r",
      "┣██████████████▋     ┫ [73.42%, 163/222, 09:01/12:17, 2.31s/i] "
     ]
    },
    {
     "name": "stdout",
     "output_type": "stream",
     "text": [
      "R(1.1341394)\n"
     ]
    },
    {
     "name": "stderr",
     "output_type": "stream",
     "text": [
      "\r",
      "┣██████████████▊     ┫ [73.87%, 164/222, 09:04/12:16, 2.97s/i] "
     ]
    },
    {
     "name": "stdout",
     "output_type": "stream",
     "text": [
      "R(0.20576091)\n"
     ]
    },
    {
     "name": "stderr",
     "output_type": "stream",
     "text": [
      "\r",
      "┣██████████████▊     ┫ [74.32%, 165/222, 09:07/12:15, 2.83s/i] "
     ]
    },
    {
     "name": "stdout",
     "output_type": "stream",
     "text": [
      "R(1.8896916)\n"
     ]
    },
    {
     "name": "stderr",
     "output_type": "stream",
     "text": [
      "\r",
      "┣██████████████▉     ┫ [74.77%, 166/222, 09:11/12:17, 4.64s/i] "
     ]
    },
    {
     "name": "stdout",
     "output_type": "stream",
     "text": [
      "R(2.7738175)\n"
     ]
    },
    {
     "name": "stderr",
     "output_type": "stream",
     "text": [
      "\r",
      "┣███████████████     ┫ [75.23%, 167/222, 09:14/12:17, 2.91s/i] "
     ]
    },
    {
     "name": "stdout",
     "output_type": "stream",
     "text": [
      "R(0.9083103)\n"
     ]
    },
    {
     "name": "stderr",
     "output_type": "stream",
     "text": [
      "\r",
      "┣███████████████▏    ┫ [75.68%, 168/222, 09:17/12:16, 2.59s/i] "
     ]
    },
    {
     "name": "stdout",
     "output_type": "stream",
     "text": [
      "R(0.7526852)\n"
     ]
    },
    {
     "name": "stderr",
     "output_type": "stream",
     "text": [
      "\r",
      "┣███████████████▏    ┫ [76.13%, 169/222, 09:19/12:15, 2.49s/i] "
     ]
    },
    {
     "name": "stdout",
     "output_type": "stream",
     "text": [
      "R(12.403418)\n"
     ]
    },
    {
     "name": "stderr",
     "output_type": "stream",
     "text": [
      "\r",
      "┣███████████████▎    ┫ [76.58%, 170/222, 09:25/12:18, 5.48s/i] "
     ]
    },
    {
     "name": "stdout",
     "output_type": "stream",
     "text": [
      "R(2.5042381)\n"
     ]
    },
    {
     "name": "stderr",
     "output_type": "stream",
     "text": [
      "\r",
      "┣███████████████▍    ┫ [77.03%, 171/222, 09:28/12:17, 2.95s/i] "
     ]
    },
    {
     "name": "stdout",
     "output_type": "stream",
     "text": [
      "R(0.32684743)\n"
     ]
    },
    {
     "name": "stderr",
     "output_type": "stream",
     "text": [
      "\r",
      "┣███████████████▍    ┫ [77.48%, 172/222, 09:31/12:16, 2.84s/i] "
     ]
    },
    {
     "name": "stdout",
     "output_type": "stream",
     "text": [
      "R(8.535465)\n"
     ]
    },
    {
     "name": "stderr",
     "output_type": "stream",
     "text": [
      "\r",
      "┣███████████████▌    ┫ [77.93%, 173/222, 09:34/12:16, 3.02s/i] "
     ]
    },
    {
     "name": "stdout",
     "output_type": "stream",
     "text": [
      "R(0.524077)\n"
     ]
    },
    {
     "name": "stderr",
     "output_type": "stream",
     "text": [
      "\r",
      "┣███████████████▋    ┫ [78.38%, 174/222, 09:36/12:15, 2.71s/i] "
     ]
    },
    {
     "name": "stdout",
     "output_type": "stream",
     "text": [
      "R(1.6266223)\n"
     ]
    },
    {
     "name": "stderr",
     "output_type": "stream",
     "text": [
      "\r",
      "┣███████████████▊    ┫ [78.83%, 175/222, 09:39/12:15, 2.78s/i] "
     ]
    },
    {
     "name": "stdout",
     "output_type": "stream",
     "text": [
      "R(0.9274192)\n"
     ]
    },
    {
     "name": "stderr",
     "output_type": "stream",
     "text": [
      "\r",
      "┣███████████████▊    ┫ [79.28%, 176/222, 09:43/12:16, 4.30s/i] "
     ]
    },
    {
     "name": "stdout",
     "output_type": "stream",
     "text": [
      "R(1.0587096)\n"
     ]
    },
    {
     "name": "stderr",
     "output_type": "stream",
     "text": [
      "\r",
      "┣███████████████▉    ┫ [79.73%, 177/222, 09:46/12:15, 2.65s/i] "
     ]
    },
    {
     "name": "stdout",
     "output_type": "stream",
     "text": [
      "R(1.3446326)\n"
     ]
    },
    {
     "name": "stderr",
     "output_type": "stream",
     "text": [
      "\r",
      "┣████████████████    ┫ [80.18%, 178/222, 09:49/12:15, 3.04s/i] "
     ]
    },
    {
     "name": "stdout",
     "output_type": "stream",
     "text": [
      "R(2.4117744)\n"
     ]
    },
    {
     "name": "stderr",
     "output_type": "stream",
     "text": [
      "\r",
      "┣████████████████▏   ┫ [80.63%, 179/222, 09:52/12:14, 3.14s/i] "
     ]
    },
    {
     "name": "stdout",
     "output_type": "stream",
     "text": [
      "R(0.9344857)\n"
     ]
    },
    {
     "name": "stderr",
     "output_type": "stream",
     "text": [
      "\r",
      "┣████████████████▏   ┫ [81.08%, 180/222, 09:56/12:15, 3.88s/i] "
     ]
    },
    {
     "name": "stdout",
     "output_type": "stream",
     "text": [
      "R(0.23942517)\n"
     ]
    },
    {
     "name": "stderr",
     "output_type": "stream",
     "text": [
      "\r",
      "┣████████████████▎   ┫ [81.53%, 181/222, 09:59/12:14, 2.69s/i] "
     ]
    },
    {
     "name": "stdout",
     "output_type": "stream",
     "text": [
      "R(6.839975)\n"
     ]
    },
    {
     "name": "stderr",
     "output_type": "stream",
     "text": [
      "\r",
      "┣████████████████▍   ┫ [81.98%, 182/222, 10:02/12:14, 3.27s/i] "
     ]
    },
    {
     "name": "stdout",
     "output_type": "stream",
     "text": [
      "R(0.2724186)\n"
     ]
    },
    {
     "name": "stderr",
     "output_type": "stream",
     "text": [
      "\r",
      "┣████████████████▍   ┫ [82.43%, 183/222, 10:05/12:14, 2.77s/i] "
     ]
    },
    {
     "name": "stdout",
     "output_type": "stream",
     "text": [
      "R(0.65930897)\n"
     ]
    },
    {
     "name": "stderr",
     "output_type": "stream",
     "text": [
      "\r",
      "┣████████████████▌   ┫ [82.88%, 184/222, 10:08/12:13, 2.92s/i] "
     ]
    },
    {
     "name": "stdout",
     "output_type": "stream",
     "text": [
      "R(0.33662963)\n"
     ]
    },
    {
     "name": "stderr",
     "output_type": "stream",
     "text": [
      "\r",
      "┣████████████████▋   ┫ [83.33%, 185/222, 10:12/12:14, 4.12s/i] "
     ]
    },
    {
     "name": "stdout",
     "output_type": "stream",
     "text": [
      "R(1.3382763)\n"
     ]
    },
    {
     "name": "stderr",
     "output_type": "stream",
     "text": [
      "\r",
      "┣████████████████▊   ┫ [83.78%, 186/222, 10:15/12:14, 2.96s/i] "
     ]
    },
    {
     "name": "stdout",
     "output_type": "stream",
     "text": [
      "R(0.6892543)\n"
     ]
    },
    {
     "name": "stderr",
     "output_type": "stream",
     "text": [
      "\r",
      "┣████████████████▊   ┫ [84.23%, 187/222, 10:17/12:13, 2.67s/i] "
     ]
    },
    {
     "name": "stdout",
     "output_type": "stream",
     "text": [
      "R(1.3944628)\n"
     ]
    },
    {
     "name": "stderr",
     "output_type": "stream",
     "text": [
      "\r",
      "┣████████████████▉   ┫ [84.68%, 188/222, 10:21/12:13, 3.19s/i] "
     ]
    },
    {
     "name": "stdout",
     "output_type": "stream",
     "text": [
      "R(1.2257457)\n"
     ]
    },
    {
     "name": "stderr",
     "output_type": "stream",
     "text": [
      "\r",
      "┣█████████████████   ┫ [85.14%, 189/222, 10:25/12:14, 3.91s/i] "
     ]
    },
    {
     "name": "stdout",
     "output_type": "stream",
     "text": [
      "R(4.7064533)\n"
     ]
    },
    {
     "name": "stderr",
     "output_type": "stream",
     "text": [
      "\r",
      "┣█████████████████   ┫ [85.59%, 190/222, 10:27/12:13, 2.90s/i] "
     ]
    },
    {
     "name": "stdout",
     "output_type": "stream",
     "text": [
      "R(21.803772)\n"
     ]
    },
    {
     "name": "stderr",
     "output_type": "stream",
     "text": [
      "\r",
      "┣█████████████████▏  ┫ [86.04%, 191/222, 10:31/12:14, 3.70s/i] "
     ]
    },
    {
     "name": "stdout",
     "output_type": "stream",
     "text": [
      "R(10.353195)\n"
     ]
    },
    {
     "name": "stderr",
     "output_type": "stream",
     "text": [
      "\r",
      "┣█████████████████▎  ┫ [86.49%, 192/222, 10:34/12:13, 3.14s/i] "
     ]
    },
    {
     "name": "stdout",
     "output_type": "stream",
     "text": [
      "R(0.6380142)\n"
     ]
    },
    {
     "name": "stderr",
     "output_type": "stream",
     "text": [
      "\r",
      "┣█████████████████▍  ┫ [86.94%, 193/222, 10:37/12:13, 2.77s/i] "
     ]
    },
    {
     "name": "stdout",
     "output_type": "stream",
     "text": [
      "R(1.9884003)\n"
     ]
    },
    {
     "name": "stderr",
     "output_type": "stream",
     "text": [
      "\r",
      "┣█████████████████▍  ┫ [87.39%, 194/222, 10:41/12:14, 4.42s/i] "
     ]
    },
    {
     "name": "stdout",
     "output_type": "stream",
     "text": [
      "R(1.2679744)\n"
     ]
    },
    {
     "name": "stderr",
     "output_type": "stream",
     "text": [
      "\r",
      "┣█████████████████▌  ┫ [87.84%, 195/222, 10:44/12:14, 2.88s/i] "
     ]
    },
    {
     "name": "stdout",
     "output_type": "stream",
     "text": [
      "R(0.7721626)\n"
     ]
    },
    {
     "name": "stderr",
     "output_type": "stream",
     "text": [
      "\r",
      "┣█████████████████▋  ┫ [88.29%, 196/222, 10:47/12:13, 2.50s/i] "
     ]
    },
    {
     "name": "stdout",
     "output_type": "stream",
     "text": [
      "R(0.5422799)\n"
     ]
    },
    {
     "name": "stderr",
     "output_type": "stream",
     "text": [
      "\r",
      "┣█████████████████▋  ┫ [88.74%, 197/222, 10:50/12:12, 2.96s/i] "
     ]
    },
    {
     "name": "stdout",
     "output_type": "stream",
     "text": [
      "R(7.2696166)\n"
     ]
    },
    {
     "name": "stderr",
     "output_type": "stream",
     "text": [
      "\r",
      "┣█████████████████▊  ┫ [89.19%, 198/222, 10:55/12:14, 4.68s/i] "
     ]
    },
    {
     "name": "stdout",
     "output_type": "stream",
     "text": [
      "R(5.6119127)\n"
     ]
    },
    {
     "name": "stderr",
     "output_type": "stream",
     "text": [
      "\r",
      "┣█████████████████▉  ┫ [89.64%, 199/222, 10:58/12:14, 3.28s/i] "
     ]
    },
    {
     "name": "stdout",
     "output_type": "stream",
     "text": [
      "R(8.232247)\n"
     ]
    },
    {
     "name": "stderr",
     "output_type": "stream",
     "text": [
      "\r",
      "┣██████████████████  ┫ [90.09%, 200/222, 11:01/12:13, 2.80s/i] "
     ]
    },
    {
     "name": "stdout",
     "output_type": "stream",
     "text": [
      "R(20.16763)\n"
     ]
    },
    {
     "name": "stderr",
     "output_type": "stream",
     "text": [
      "\r",
      "┣██████████████████  ┫ [90.54%, 201/222, 11:05/12:14, 4.29s/i] "
     ]
    },
    {
     "name": "stdout",
     "output_type": "stream",
     "text": [
      "R(0.7113612)\n"
     ]
    },
    {
     "name": "stderr",
     "output_type": "stream",
     "text": [
      "\r",
      "┣██████████████████▏ ┫ [90.99%, 202/222, 11:07/12:13, 2.52s/i] "
     ]
    },
    {
     "name": "stdout",
     "output_type": "stream",
     "text": [
      "R(0.54462355)\n"
     ]
    },
    {
     "name": "stderr",
     "output_type": "stream",
     "text": [
      "\r",
      "┣██████████████████▎ ┫ [91.44%, 203/222, 11:11/12:14, 3.91s/i] "
     ]
    },
    {
     "name": "stdout",
     "output_type": "stream",
     "text": [
      "R(7.7743354)\n"
     ]
    },
    {
     "name": "stderr",
     "output_type": "stream",
     "text": [
      "\r",
      "┣██████████████████▍ ┫ [91.89%, 204/222, 11:15/12:15, 3.71s/i] "
     ]
    },
    {
     "name": "stdout",
     "output_type": "stream",
     "text": [
      "R(0.12551679)\n"
     ]
    },
    {
     "name": "stderr",
     "output_type": "stream",
     "text": [
      "\r",
      "┣██████████████████▍ ┫ [92.34%, 205/222, 11:18/12:14, 2.53s/i] "
     ]
    },
    {
     "name": "stdout",
     "output_type": "stream",
     "text": [
      "R(8.093736)\n"
     ]
    },
    {
     "name": "stderr",
     "output_type": "stream",
     "text": [
      "\r",
      "┣██████████████████▌ ┫ [92.79%, 206/222, 11:21/12:14, 3.50s/i] "
     ]
    },
    {
     "name": "stdout",
     "output_type": "stream",
     "text": [
      "R(1.2765907)\n"
     ]
    },
    {
     "name": "stderr",
     "output_type": "stream",
     "text": [
      "\r",
      "┣██████████████████▋ ┫ [93.24%, 207/222, 11:25/12:15, 4.18s/i] "
     ]
    },
    {
     "name": "stdout",
     "output_type": "stream",
     "text": [
      "R(14.22048)\n"
     ]
    },
    {
     "name": "stderr",
     "output_type": "stream",
     "text": [
      "\r",
      "┣██████████████████▋ ┫ [93.69%, 208/222, 11:29/12:16, 3.89s/i] "
     ]
    },
    {
     "name": "stdout",
     "output_type": "stream",
     "text": [
      "R(0.14958733)\n"
     ]
    },
    {
     "name": "stderr",
     "output_type": "stream",
     "text": [
      "\r",
      "┣██████████████████▊ ┫ [94.14%, 209/222, 11:32/12:15, 2.69s/i] "
     ]
    },
    {
     "name": "stdout",
     "output_type": "stream",
     "text": [
      "R(0.7115313)\n"
     ]
    },
    {
     "name": "stderr",
     "output_type": "stream",
     "text": [
      "\r",
      "┣██████████████████▉ ┫ [94.59%, 210/222, 11:34/12:14, 2.42s/i] "
     ]
    },
    {
     "name": "stdout",
     "output_type": "stream",
     "text": [
      "R(1.3261445)\n"
     ]
    },
    {
     "name": "stderr",
     "output_type": "stream",
     "text": [
      "\r",
      "┣███████████████████ ┫ [95.05%, 211/222, 11:37/12:13, 2.66s/i] "
     ]
    },
    {
     "name": "stdout",
     "output_type": "stream",
     "text": [
      "R(0.36751884)\n"
     ]
    },
    {
     "name": "stderr",
     "output_type": "stream",
     "text": [
      "\r",
      "┣███████████████████ ┫ [95.50%, 212/222, 11:39/12:12, 2.58s/i] "
     ]
    },
    {
     "name": "stdout",
     "output_type": "stream",
     "text": [
      "R(2.468708)\n"
     ]
    },
    {
     "name": "stderr",
     "output_type": "stream",
     "text": [
      "\r",
      "┣███████████████████▏┫ [95.95%, 213/222, 11:44/12:14, 4.39s/i] "
     ]
    },
    {
     "name": "stdout",
     "output_type": "stream",
     "text": [
      "R(3.7583737)\n"
     ]
    },
    {
     "name": "stderr",
     "output_type": "stream",
     "text": [
      "\r",
      "┣███████████████████▎┫ [96.40%, 214/222, 11:47/12:13, 2.97s/i] "
     ]
    },
    {
     "name": "stdout",
     "output_type": "stream",
     "text": [
      "R(1.9954245)\n"
     ]
    },
    {
     "name": "stderr",
     "output_type": "stream",
     "text": [
      "\r",
      "┣███████████████████▎┫ [96.85%, 215/222, 11:49/12:13, 2.62s/i] "
     ]
    },
    {
     "name": "stdout",
     "output_type": "stream",
     "text": [
      "R(26.69384)\n"
     ]
    },
    {
     "name": "stderr",
     "output_type": "stream",
     "text": [
      "\r",
      "┣███████████████████▍┫ [97.30%, 216/222, 11:55/12:14, 5.19s/i] "
     ]
    },
    {
     "name": "stdout",
     "output_type": "stream",
     "text": [
      "R(2.1116962)\n"
     ]
    },
    {
     "name": "stderr",
     "output_type": "stream",
     "text": [
      "\r",
      "┣███████████████████▌┫ [97.75%, 217/222, 11:59/12:15, 3.91s/i] "
     ]
    },
    {
     "name": "stdout",
     "output_type": "stream",
     "text": [
      "R(23.512451)\n"
     ]
    },
    {
     "name": "stderr",
     "output_type": "stream",
     "text": [
      "\r",
      "┣███████████████████▋┫ [98.20%, 218/222, 12:02/12:16, 3.87s/i] "
     ]
    },
    {
     "name": "stdout",
     "output_type": "stream",
     "text": [
      "R(21.590628)\n"
     ]
    },
    {
     "name": "stderr",
     "output_type": "stream",
     "text": [
      "\r",
      "┣███████████████████▋┫ [98.65%, 219/222, 12:06/12:16, 3.63s/i] "
     ]
    },
    {
     "name": "stdout",
     "output_type": "stream",
     "text": [
      "R(22.274214)\n"
     ]
    },
    {
     "name": "stderr",
     "output_type": "stream",
     "text": [
      "\r",
      "┣███████████████████▊┫ [99.10%, 220/222, 12:10/12:17, 4.43s/i] "
     ]
    },
    {
     "name": "stdout",
     "output_type": "stream",
     "text": [
      "R(1.968627)\n"
     ]
    },
    {
     "name": "stderr",
     "output_type": "stream",
     "text": [
      "\r",
      "┣███████████████████▉┫ [99.55%, 221/222, 12:13/12:17, 2.76s/i] "
     ]
    },
    {
     "name": "stdout",
     "output_type": "stream",
     "text": [
      "R(1.2154342)\n"
     ]
    },
    {
     "name": "stderr",
     "output_type": "stream",
     "text": [
      "┣████████████████████┫ [100.00%, 222/222, 12:17/12:17, 3.32s/i] \n"
     ]
    },
    {
     "name": "stdout",
     "output_type": "stream",
     "text": [
      "R(0.7857215)\n"
     ]
    },
    {
     "name": "stderr",
     "output_type": "stream",
     "text": [
      "\r",
      "┣                    ┫ [0.45%, 1/222, 00:03/09:56, 2.68s/i] "
     ]
    },
    {
     "name": "stdout",
     "output_type": "stream",
     "text": [
      "R(1.906316)\n"
     ]
    },
    {
     "name": "stderr",
     "output_type": "stream",
     "text": [
      "\r",
      "┣▏                   ┫ [0.90%, 2/222, 00:06/10:32, 3.01s/i] "
     ]
    },
    {
     "name": "stdout",
     "output_type": "stream",
     "text": [
      "R(0.070360266)\n"
     ]
    },
    {
     "name": "stderr",
     "output_type": "stream",
     "text": [
      "\r",
      "┣▎                   ┫ [1.35%, 3/222, 00:08/10:16, 2.63s/i] "
     ]
    },
    {
     "name": "stdout",
     "output_type": "stream",
     "text": [
      "R(0.6770409)\n"
     ]
    },
    {
     "name": "stderr",
     "output_type": "stream",
     "text": [
      "\r",
      "┣▎                   ┫ [1.80%, 4/222, 00:12/11:07, 3.70s/i] "
     ]
    },
    {
     "name": "stdout",
     "output_type": "stream",
     "text": [
      "R(1.4608158)\n"
     ]
    },
    {
     "name": "stderr",
     "output_type": "stream",
     "text": [
      "\r",
      "┣▍                   ┫ [2.25%, 5/222, 00:15/11:04, 2.94s/i] "
     ]
    },
    {
     "name": "stdout",
     "output_type": "stream",
     "text": [
      "R(2.6455774)\n"
     ]
    },
    {
     "name": "stderr",
     "output_type": "stream",
     "text": [
      "\r",
      "┣▌                   ┫ [2.70%, 6/222, 00:18/11:00, 2.87s/i] "
     ]
    },
    {
     "name": "stdout",
     "output_type": "stream",
     "text": [
      "R(0.12058672)\n"
     ]
    },
    {
     "name": "stderr",
     "output_type": "stream",
     "text": [
      "\r",
      "┣▋                   ┫ [3.15%, 7/222, 00:20/10:46, 2.54s/i] "
     ]
    },
    {
     "name": "stdout",
     "output_type": "stream",
     "text": [
      "R(0.16842982)\n"
     ]
    },
    {
     "name": "stderr",
     "output_type": "stream",
     "text": [
      "┣▋                   ┫ [3.60%, 8/222, 00:23/10:30, 2.33s/i] "
     ]
    },
    {
     "name": "stdout",
     "output_type": "stream",
     "text": [
      "R(7.3512907)\n"
     ]
    },
    {
     "name": "stderr",
     "output_type": "stream",
     "text": [
      "\r",
      "┣▊                   ┫ [4.05%, 9/222, 00:27/11:17, 4.73s/i] "
     ]
    },
    {
     "name": "stdout",
     "output_type": "stream",
     "text": [
      "R(15.901422)\n"
     ]
    },
    {
     "name": "stderr",
     "output_type": "stream",
     "text": [
      "\r",
      "┣▉                   ┫ [4.50%, 10/222, 00:31/11:38, 4.02s/i] "
     ]
    },
    {
     "name": "stdout",
     "output_type": "stream",
     "text": [
      "R(4.1571383)\n"
     ]
    },
    {
     "name": "stderr",
     "output_type": "stream",
     "text": [
      "\r",
      "┣▉                   ┫ [4.95%, 11/222, 00:34/11:35, 2.98s/i] "
     ]
    },
    {
     "name": "stdout",
     "output_type": "stream",
     "text": [
      "R(0.9401645)\n"
     ]
    },
    {
     "name": "stderr",
     "output_type": "stream",
     "text": [
      "\r",
      "┣█                   ┫ [5.41%, 12/222, 00:37/11:33, 3.03s/i] "
     ]
    },
    {
     "name": "stdout",
     "output_type": "stream",
     "text": [
      "R(0.115810126)\n"
     ]
    },
    {
     "name": "stderr",
     "output_type": "stream",
     "text": [
      "\r",
      "┣█▏                  ┫ [5.86%, 13/222, 00:42/11:49, 4.08s/i] "
     ]
    },
    {
     "name": "stdout",
     "output_type": "stream",
     "text": [
      "R(0.96062994)\n"
     ]
    },
    {
     "name": "stderr",
     "output_type": "stream",
     "text": [
      "\r",
      "┣█▎                  ┫ [6.31%, 14/222, 00:44/11:43, 2.81s/i] "
     ]
    },
    {
     "name": "stdout",
     "output_type": "stream",
     "text": [
      "R(0.5710322)\n"
     ]
    },
    {
     "name": "stderr",
     "output_type": "stream",
     "text": [
      "\r",
      "┣█▎                  ┫ [6.76%, 15/222, 00:47/11:38, 2.83s/i] "
     ]
    },
    {
     "name": "stdout",
     "output_type": "stream",
     "text": [
      "R(9.195213)\n"
     ]
    },
    {
     "name": "stderr",
     "output_type": "stream",
     "text": [
      "\r",
      "┣█▍                  ┫ [7.21%, 16/222, 00:51/11:43, 3.46s/i] "
     ]
    },
    {
     "name": "stdout",
     "output_type": "stream",
     "text": [
      "R(0.46909738)\n"
     ]
    },
    {
     "name": "stderr",
     "output_type": "stream",
     "text": [
      "\r",
      "┣█▌                  ┫ [7.66%, 17/222, 00:53/11:37, 2.72s/i] "
     ]
    },
    {
     "name": "stdout",
     "output_type": "stream",
     "text": [
      "R(1.4159852)\n"
     ]
    },
    {
     "name": "stderr",
     "output_type": "stream",
     "text": [
      "\r",
      "┣█▌                  ┫ [8.11%, 18/222, 00:58/11:55, 4.64s/i] "
     ]
    },
    {
     "name": "stdout",
     "output_type": "stream",
     "text": [
      "R(2.2398243)\n"
     ]
    },
    {
     "name": "stderr",
     "output_type": "stream",
     "text": [
      "\r",
      "┣█▋                  ┫ [8.56%, 19/222, 01:01/11:53, 3.00s/i] "
     ]
    },
    {
     "name": "stdout",
     "output_type": "stream",
     "text": [
      "R(0.13132106)\n"
     ]
    },
    {
     "name": "stderr",
     "output_type": "stream",
     "text": [
      "\r",
      "┣█▊                  ┫ [9.01%, 20/222, 01:04/11:46, 2.62s/i] "
     ]
    },
    {
     "name": "stdout",
     "output_type": "stream",
     "text": [
      "R(0.39562908)\n"
     ]
    },
    {
     "name": "stderr",
     "output_type": "stream",
     "text": [
      "\r",
      "┣█▉                  ┫ [9.46%, 21/222, 01:07/11:47, 3.24s/i] "
     ]
    },
    {
     "name": "stdout",
     "output_type": "stream",
     "text": [
      "R(0.2215751)\n"
     ]
    },
    {
     "name": "stderr",
     "output_type": "stream",
     "text": [
      "\r",
      "┣█▉                  ┫ [9.91%, 22/222, 01:11/11:54, 3.89s/i] "
     ]
    },
    {
     "name": "stdout",
     "output_type": "stream",
     "text": [
      "R(1.7192044)\n"
     ]
    },
    {
     "name": "stderr",
     "output_type": "stream",
     "text": [
      "\r",
      "┣██                  ┫ [10.36%, 23/222, 01:13/11:48, 2.56s/i] "
     ]
    },
    {
     "name": "stdout",
     "output_type": "stream",
     "text": [
      "R(0.76785034)\n"
     ]
    },
    {
     "name": "stderr",
     "output_type": "stream",
     "text": [
      "\r",
      "┣██▏                 ┫ [10.81%, 24/222, 01:16/11:45, 2.92s/i] "
     ]
    },
    {
     "name": "stdout",
     "output_type": "stream",
     "text": [
      "R(5.6047215)\n"
     ]
    },
    {
     "name": "stderr",
     "output_type": "stream",
     "text": [
      "\r",
      "┣██▎                 ┫ [11.26%, 25/222, 01:19/11:44, 3.08s/i] "
     ]
    },
    {
     "name": "stdout",
     "output_type": "stream",
     "text": [
      "R(0.21435425)\n"
     ]
    },
    {
     "name": "stderr",
     "output_type": "stream",
     "text": [
      "\r",
      "┣██▎                 ┫ [11.71%, 26/222, 01:22/11:41, 2.75s/i] "
     ]
    },
    {
     "name": "stdout",
     "output_type": "stream",
     "text": [
      "R(0.06298279)\n"
     ]
    },
    {
     "name": "stderr",
     "output_type": "stream",
     "text": [
      "\r",
      "┣██▍                 ┫ [12.16%, 27/222, 01:26/11:51, 4.36s/i] "
     ]
    },
    {
     "name": "stdout",
     "output_type": "stream",
     "text": [
      "R(3.733461)\n"
     ]
    },
    {
     "name": "stderr",
     "output_type": "stream",
     "text": [
      "\r",
      "┣██▌                 ┫ [12.61%, 28/222, 01:30/11:53, 3.53s/i] "
     ]
    },
    {
     "name": "stdout",
     "output_type": "stream",
     "text": [
      "R(15.67172)\n"
     ]
    },
    {
     "name": "stderr",
     "output_type": "stream",
     "text": [
      "\r",
      "┣██▌                 ┫ [13.06%, 29/222, 01:34/11:57, 3.68s/i] "
     ]
    },
    {
     "name": "stdout",
     "output_type": "stream",
     "text": [
      "R(4.211515)\n"
     ]
    },
    {
     "name": "stderr",
     "output_type": "stream",
     "text": [
      "\r",
      "┣██▋                 ┫ [13.51%, 30/222, 01:37/11:56, 3.09s/i] "
     ]
    },
    {
     "name": "stdout",
     "output_type": "stream",
     "text": [
      "R(1.8369426)\n"
     ]
    },
    {
     "name": "stderr",
     "output_type": "stream",
     "text": [
      "\r",
      "┣██▊                 ┫ [13.96%, 31/222, 01:39/11:52, 2.77s/i] "
     ]
    },
    {
     "name": "stdout",
     "output_type": "stream",
     "text": [
      "R(0.47152263)\n"
     ]
    },
    {
     "name": "stderr",
     "output_type": "stream",
     "text": [
      "\r",
      "┣██▉                 ┫ [14.41%, 32/222, 01:43/11:58, 4.00s/i] "
     ]
    },
    {
     "name": "stdout",
     "output_type": "stream",
     "text": [
      "R(0.092052706)\n"
     ]
    },
    {
     "name": "stderr",
     "output_type": "stream",
     "text": [
      "\r",
      "┣██▉                 ┫ [14.86%, 33/222, 01:46/11:55, 2.73s/i] "
     ]
    },
    {
     "name": "stdout",
     "output_type": "stream",
     "text": [
      "R(41.779606)\n"
     ]
    },
    {
     "name": "stderr",
     "output_type": "stream",
     "text": [
      "\r",
      "┣███                 ┫ [15.32%, 34/222, 01:52/12:10, 5.54s/i] "
     ]
    },
    {
     "name": "stdout",
     "output_type": "stream",
     "text": [
      "R(3.018127)\n"
     ]
    },
    {
     "name": "stderr",
     "output_type": "stream",
     "text": [
      "\r",
      "┣███▏                ┫ [15.77%, 35/222, 01:55/12:08, 3.05s/i] "
     ]
    },
    {
     "name": "stdout",
     "output_type": "stream",
     "text": [
      "R(1.2409095)\n"
     ]
    },
    {
     "name": "stderr",
     "output_type": "stream",
     "text": [
      "\r",
      "┣███▏                ┫ [16.22%, 36/222, 01:57/12:04, 2.62s/i] "
     ]
    },
    {
     "name": "stdout",
     "output_type": "stream",
     "text": [
      "R(2.2067387)\n"
     ]
    },
    {
     "name": "stderr",
     "output_type": "stream",
     "text": [
      "\r",
      "┣███▎                ┫ [16.67%, 37/222, 02:02/12:14, 4.84s/i] "
     ]
    },
    {
     "name": "stdout",
     "output_type": "stream",
     "text": [
      "R(1.7612997)\n"
     ]
    },
    {
     "name": "stderr",
     "output_type": "stream",
     "text": [
      "\r",
      "┣███▍                ┫ [17.12%, 38/222, 02:05/12:12, 3.03s/i] "
     ]
    },
    {
     "name": "stdout",
     "output_type": "stream",
     "text": [
      "R(0.9534588)\n"
     ]
    },
    {
     "name": "stderr",
     "output_type": "stream",
     "text": [
      "\r",
      "┣███▌                ┫ [17.57%, 39/222, 02:08/12:09, 2.81s/i] "
     ]
    },
    {
     "name": "stdout",
     "output_type": "stream",
     "text": [
      "R(1.9504522)\n"
     ]
    },
    {
     "name": "stderr",
     "output_type": "stream",
     "text": [
      "\r",
      "┣███▌                ┫ [18.02%, 40/222, 02:11/12:08, 3.09s/i] "
     ]
    },
    {
     "name": "stdout",
     "output_type": "stream",
     "text": [
      "R(0.17976311)\n"
     ]
    },
    {
     "name": "stderr",
     "output_type": "stream",
     "text": [
      "\r",
      "┣███▋                ┫ [18.47%, 41/222, 02:15/12:12, 4.06s/i] "
     ]
    },
    {
     "name": "stdout",
     "output_type": "stream",
     "text": [
      "R(0.17234723)\n"
     ]
    },
    {
     "name": "stderr",
     "output_type": "stream",
     "text": [
      "\r",
      "┣███▊                ┫ [18.92%, 42/222, 02:18/12:08, 2.38s/i] "
     ]
    },
    {
     "name": "stdout",
     "output_type": "stream",
     "text": [
      "R(0.82527316)\n"
     ]
    },
    {
     "name": "stderr",
     "output_type": "stream",
     "text": [
      "\r",
      "┣███▊                ┫ [19.37%, 43/222, 02:21/12:06, 2.95s/i] "
     ]
    },
    {
     "name": "stdout",
     "output_type": "stream",
     "text": [
      "R(4.083755)\n"
     ]
    },
    {
     "name": "stderr",
     "output_type": "stream",
     "text": [
      "\r",
      "┣███▉                ┫ [19.82%, 44/222, 02:23/12:03, 2.80s/i] "
     ]
    },
    {
     "name": "stdout",
     "output_type": "stream",
     "text": [
      "R(1.9510199)\n"
     ]
    },
    {
     "name": "stderr",
     "output_type": "stream",
     "text": [
      "\r",
      "┣████                ┫ [20.27%, 45/222, 02:26/12:01, 2.69s/i] "
     ]
    },
    {
     "name": "stdout",
     "output_type": "stream",
     "text": [
      "R(34.296795)\n"
     ]
    },
    {
     "name": "stderr",
     "output_type": "stream",
     "text": [
      "\r",
      "┣████▏               ┫ [20.72%, 46/222, 02:32/12:11, 5.45s/i] "
     ]
    },
    {
     "name": "stdout",
     "output_type": "stream",
     "text": [
      "R(7.4074845)\n"
     ]
    },
    {
     "name": "stderr",
     "output_type": "stream",
     "text": [
      "\r",
      "┣████▏               ┫ [21.17%, 47/222, 02:35/12:12, 3.44s/i] "
     ]
    },
    {
     "name": "stdout",
     "output_type": "stream",
     "text": [
      "R(5.1674094)\n"
     ]
    },
    {
     "name": "stderr",
     "output_type": "stream",
     "text": [
      "\r",
      "┣████▎               ┫ [21.62%, 48/222, 02:38/12:10, 2.87s/i] "
     ]
    },
    {
     "name": "stdout",
     "output_type": "stream",
     "text": [
      "R(0.23944373)\n"
     ]
    },
    {
     "name": "stderr",
     "output_type": "stream",
     "text": [
      "\r",
      "┣████▍               ┫ [22.07%, 49/222, 02:41/12:09, 2.95s/i] "
     ]
    },
    {
     "name": "stdout",
     "output_type": "stream",
     "text": [
      "R(1.6818033)\n"
     ]
    },
    {
     "name": "stderr",
     "output_type": "stream",
     "text": [
      "\r",
      "┣████▌               ┫ [22.52%, 50/222, 02:45/12:11, 3.94s/i] "
     ]
    },
    {
     "name": "stdout",
     "output_type": "stream",
     "text": [
      "R(1.1599754)\n"
     ]
    },
    {
     "name": "stderr",
     "output_type": "stream",
     "text": [
      "\r",
      "┣████▌               ┫ [22.97%, 51/222, 02:48/12:09, 2.77s/i] "
     ]
    },
    {
     "name": "stdout",
     "output_type": "stream",
     "text": [
      "R(0.4004885)\n"
     ]
    },
    {
     "name": "stderr",
     "output_type": "stream",
     "text": [
      "\r",
      "┣████▋               ┫ [23.42%, 52/222, 02:50/12:07, 2.83s/i] "
     ]
    },
    {
     "name": "stdout",
     "output_type": "stream",
     "text": [
      "R(0.18272324)\n"
     ]
    },
    {
     "name": "stderr",
     "output_type": "stream",
     "text": [
      "\r",
      "┣████▊               ┫ [23.87%, 53/222, 02:53/12:06, 2.87s/i] "
     ]
    },
    {
     "name": "stdout",
     "output_type": "stream",
     "text": [
      "R(0.4911813)\n"
     ]
    },
    {
     "name": "stderr",
     "output_type": "stream",
     "text": [
      "\r",
      "┣████▊               ┫ [24.32%, 54/222, 02:56/12:03, 2.75s/i] "
     ]
    },
    {
     "name": "stdout",
     "output_type": "stream",
     "text": [
      "R(14.63335)\n"
     ]
    },
    {
     "name": "stderr",
     "output_type": "stream",
     "text": [
      "\r",
      "┣████▉               ┫ [24.77%, 55/222, 03:01/12:11, 5.14s/i] "
     ]
    },
    {
     "name": "stdout",
     "output_type": "stream",
     "text": [
      "R(9.765179)\n"
     ]
    },
    {
     "name": "stderr",
     "output_type": "stream",
     "text": [
      "\r",
      "┣█████               ┫ [25.23%, 56/222, 03:04/12:10, 3.06s/i] "
     ]
    },
    {
     "name": "stdout",
     "output_type": "stream",
     "text": [
      "R(2.4994745)\n"
     ]
    },
    {
     "name": "stderr",
     "output_type": "stream",
     "text": [
      "\r",
      "┣█████▏              ┫ [25.68%, 57/222, 03:07/12:09, 2.89s/i] "
     ]
    },
    {
     "name": "stdout",
     "output_type": "stream",
     "text": [
      "R(20.294214)\n"
     ]
    },
    {
     "name": "stderr",
     "output_type": "stream",
     "text": [
      "\r",
      "┣█████▏              ┫ [26.13%, 58/222, 03:11/12:11, 3.97s/i] "
     ]
    },
    {
     "name": "stdout",
     "output_type": "stream",
     "text": [
      "R(3.824356)\n"
     ]
    },
    {
     "name": "stderr",
     "output_type": "stream",
     "text": [
      "\r",
      "┣█████▎              ┫ [26.58%, 59/222, 03:15/12:15, 4.43s/i] "
     ]
    },
    {
     "name": "stdout",
     "output_type": "stream",
     "text": [
      "R(0.43313548)\n"
     ]
    },
    {
     "name": "stderr",
     "output_type": "stream",
     "text": [
      "\r",
      "┣█████▍              ┫ [27.03%, 60/222, 03:18/12:12, 2.41s/i] "
     ]
    },
    {
     "name": "stdout",
     "output_type": "stream",
     "text": [
      "R(2.0781403)\n"
     ]
    },
    {
     "name": "stderr",
     "output_type": "stream",
     "text": [
      "\r",
      "┣█████▍              ┫ [27.48%, 61/222, 03:21/12:11, 2.95s/i] "
     ]
    },
    {
     "name": "stdout",
     "output_type": "stream",
     "text": [
      "R(9.72832)\n"
     ]
    },
    {
     "name": "stderr",
     "output_type": "stream",
     "text": [
      "\r",
      "┣█████▌              ┫ [27.93%, 62/222, 03:25/12:13, 3.89s/i] "
     ]
    },
    {
     "name": "stdout",
     "output_type": "stream",
     "text": [
      "R(3.4804661)\n"
     ]
    },
    {
     "name": "stderr",
     "output_type": "stream",
     "text": [
      "\r",
      "┣█████▋              ┫ [28.38%, 63/222, 03:28/12:11, 2.85s/i] "
     ]
    },
    {
     "name": "stdout",
     "output_type": "stream",
     "text": [
      "R(2.6223586)\n"
     ]
    },
    {
     "name": "stderr",
     "output_type": "stream",
     "text": [
      "\r",
      "┣█████▊              ┫ [28.83%, 64/222, 03:32/12:15, 4.35s/i] "
     ]
    },
    {
     "name": "stdout",
     "output_type": "stream",
     "text": [
      "R(0.24422798)\n"
     ]
    },
    {
     "name": "stderr",
     "output_type": "stream",
     "text": [
      "\r",
      "┣█████▊              ┫ [29.28%, 65/222, 03:35/12:13, 2.62s/i] "
     ]
    },
    {
     "name": "stdout",
     "output_type": "stream",
     "text": [
      "R(1.6083616)\n"
     ]
    },
    {
     "name": "stderr",
     "output_type": "stream",
     "text": [
      "\r",
      "┣█████▉              ┫ [29.73%, 66/222, 03:38/12:12, 3.03s/i] "
     ]
    },
    {
     "name": "stdout",
     "output_type": "stream",
     "text": [
      "R(0.22999811)\n"
     ]
    },
    {
     "name": "stderr",
     "output_type": "stream",
     "text": [
      "\r",
      "┣██████              ┫ [30.18%, 67/222, 03:40/12:09, 2.61s/i] "
     ]
    },
    {
     "name": "stdout",
     "output_type": "stream",
     "text": [
      "R(2.720837)\n"
     ]
    },
    {
     "name": "stderr",
     "output_type": "stream",
     "text": [
      "\r",
      "┣██████▏             ┫ [30.63%, 68/222, 03:44/12:13, 4.29s/i] "
     ]
    },
    {
     "name": "stdout",
     "output_type": "stream",
     "text": [
      "R(0.45854518)\n"
     ]
    },
    {
     "name": "stderr",
     "output_type": "stream",
     "text": [
      "\r",
      "┣██████▏             ┫ [31.08%, 69/222, 03:47/12:11, 2.74s/i] "
     ]
    },
    {
     "name": "stdout",
     "output_type": "stream",
     "text": [
      "R(2.2358725)\n"
     ]
    },
    {
     "name": "stderr",
     "output_type": "stream",
     "text": [
      "\r",
      "┣██████▎             ┫ [31.53%, 70/222, 03:50/12:09, 2.77s/i] "
     ]
    },
    {
     "name": "stdout",
     "output_type": "stream",
     "text": [
      "R(0.2746517)\n"
     ]
    },
    {
     "name": "stderr",
     "output_type": "stream",
     "text": [
      "\r",
      "┣██████▍             ┫ [31.98%, 71/222, 03:53/12:07, 2.66s/i] "
     ]
    },
    {
     "name": "stdout",
     "output_type": "stream",
     "text": [
      "R(0.49491364)\n"
     ]
    },
    {
     "name": "stderr",
     "output_type": "stream",
     "text": [
      "\r",
      "┣██████▍             ┫ [32.43%, 72/222, 03:56/12:06, 2.89s/i] "
     ]
    },
    {
     "name": "stdout",
     "output_type": "stream",
     "text": [
      "R(0.37830058)\n"
     ]
    },
    {
     "name": "stderr",
     "output_type": "stream",
     "text": [
      "\r",
      "┣██████▌             ┫ [32.88%, 73/222, 04:00/12:09, 4.33s/i] "
     ]
    },
    {
     "name": "stdout",
     "output_type": "stream",
     "text": [
      "R(0.37091422)\n"
     ]
    },
    {
     "name": "stderr",
     "output_type": "stream",
     "text": [
      "\r",
      "┣██████▋             ┫ [33.33%, 74/222, 04:03/12:08, 2.70s/i] "
     ]
    },
    {
     "name": "stdout",
     "output_type": "stream",
     "text": [
      "R(2.829344)\n"
     ]
    },
    {
     "name": "stderr",
     "output_type": "stream",
     "text": [
      "\r",
      "┣██████▊             ┫ [33.78%, 75/222, 04:05/12:07, 2.95s/i] "
     ]
    },
    {
     "name": "stdout",
     "output_type": "stream",
     "text": [
      "R(3.9426713)\n"
     ]
    },
    {
     "name": "stderr",
     "output_type": "stream",
     "text": [
      "\r",
      "┣██████▊             ┫ [34.23%, 76/222, 04:09/12:07, 3.24s/i] "
     ]
    },
    {
     "name": "stdout",
     "output_type": "stream",
     "text": [
      "R(0.24867696)\n"
     ]
    },
    {
     "name": "stderr",
     "output_type": "stream",
     "text": [
      "\r",
      "┣██████▉             ┫ [34.68%, 77/222, 04:13/12:09, 4.02s/i] "
     ]
    },
    {
     "name": "stdout",
     "output_type": "stream",
     "text": [
      "R(1.0026859)\n"
     ]
    },
    {
     "name": "stderr",
     "output_type": "stream",
     "text": [
      "\r",
      "┣███████             ┫ [35.14%, 78/222, 04:16/12:07, 2.79s/i] "
     ]
    },
    {
     "name": "stdout",
     "output_type": "stream",
     "text": [
      "R(39.893745)\n"
     ]
    },
    {
     "name": "stderr",
     "output_type": "stream",
     "text": [
      "\r",
      "┣███████             ┫ [35.59%, 79/222, 04:19/12:08, 3.61s/i] "
     ]
    },
    {
     "name": "stdout",
     "output_type": "stream",
     "text": [
      "R(3.9745936)\n"
     ]
    },
    {
     "name": "stderr",
     "output_type": "stream",
     "text": [
      "\r",
      "┣███████▏            ┫ [36.04%, 80/222, 04:23/12:08, 3.35s/i] "
     ]
    },
    {
     "name": "stdout",
     "output_type": "stream",
     "text": [
      "R(4.7727904)\n"
     ]
    },
    {
     "name": "stderr",
     "output_type": "stream",
     "text": [
      "\r",
      "┣███████▎            ┫ [36.49%, 81/222, 04:25/12:07, 2.82s/i] "
     ]
    },
    {
     "name": "stdout",
     "output_type": "stream",
     "text": [
      "R(0.5850648)\n"
     ]
    },
    {
     "name": "stderr",
     "output_type": "stream",
     "text": [
      "\r",
      "┣███████▍            ┫ [36.94%, 82/222, 04:30/12:10, 4.22s/i] "
     ]
    },
    {
     "name": "stdout",
     "output_type": "stream",
     "text": [
      "R(0.5512461)\n"
     ]
    },
    {
     "name": "stderr",
     "output_type": "stream",
     "text": [
      "\r",
      "┣███████▍            ┫ [37.39%, 83/222, 04:32/12:08, 2.71s/i] "
     ]
    },
    {
     "name": "stdout",
     "output_type": "stream",
     "text": [
      "R(2.4459977)\n"
     ]
    },
    {
     "name": "stderr",
     "output_type": "stream",
     "text": [
      "\r",
      "┣███████▌            ┫ [37.84%, 84/222, 04:35/12:07, 3.01s/i] "
     ]
    },
    {
     "name": "stdout",
     "output_type": "stream",
     "text": [
      "R(0.3167039)\n"
     ]
    },
    {
     "name": "stderr",
     "output_type": "stream",
     "text": [
      "\r",
      "┣███████▋            ┫ [38.29%, 85/222, 04:38/12:06, 2.76s/i] "
     ]
    },
    {
     "name": "stdout",
     "output_type": "stream",
     "text": [
      "R(4.0819025)\n"
     ]
    },
    {
     "name": "stderr",
     "output_type": "stream",
     "text": [
      "\r",
      "┣███████▋            ┫ [38.74%, 86/222, 04:43/12:10, 4.63s/i] "
     ]
    },
    {
     "name": "stdout",
     "output_type": "stream",
     "text": [
      "R(0.68870836)\n"
     ]
    },
    {
     "name": "stderr",
     "output_type": "stream",
     "text": [
      "\r",
      "┣███████▊            ┫ [39.19%, 87/222, 04:45/12:08, 2.70s/i] "
     ]
    },
    {
     "name": "stdout",
     "output_type": "stream",
     "text": [
      "R(0.4533293)\n"
     ]
    },
    {
     "name": "stderr",
     "output_type": "stream",
     "text": [
      "\r",
      "┣███████▉            ┫ [39.64%, 88/222, 04:48/12:07, 2.71s/i] "
     ]
    },
    {
     "name": "stdout",
     "output_type": "stream",
     "text": [
      "R(0.087632224)\n"
     ]
    },
    {
     "name": "stderr",
     "output_type": "stream",
     "text": [
      "\r",
      "┣████████            ┫ [40.09%, 89/222, 04:50/12:04, 2.38s/i] "
     ]
    },
    {
     "name": "stdout",
     "output_type": "stream",
     "text": [
      "R(16.616558)\n"
     ]
    },
    {
     "name": "stderr",
     "output_type": "stream",
     "text": [
      "\r",
      "┣████████            ┫ [40.54%, 90/222, 04:55/12:09, 5.00s/i] "
     ]
    },
    {
     "name": "stdout",
     "output_type": "stream",
     "text": [
      "R(0.8180348)\n"
     ]
    },
    {
     "name": "stderr",
     "output_type": "stream",
     "text": [
      "\r",
      "┣████████▏           ┫ [40.99%, 91/222, 04:59/12:10, 3.87s/i] "
     ]
    },
    {
     "name": "stdout",
     "output_type": "stream",
     "text": [
      "R(5.735712)\n"
     ]
    },
    {
     "name": "stderr",
     "output_type": "stream",
     "text": [
      "\r",
      "┣████████▎           ┫ [41.44%, 92/222, 05:03/12:10, 3.27s/i] "
     ]
    },
    {
     "name": "stdout",
     "output_type": "stream",
     "text": [
      "R(9.828823)\n"
     ]
    },
    {
     "name": "stderr",
     "output_type": "stream",
     "text": [
      "\r",
      "┣████████▍           ┫ [41.89%, 93/222, 05:06/12:10, 3.38s/i] "
     ]
    },
    {
     "name": "stdout",
     "output_type": "stream",
     "text": [
      "R(1.1549253)\n"
     ]
    },
    {
     "name": "stderr",
     "output_type": "stream",
     "text": [
      "\r",
      "┣████████▍           ┫ [42.34%, 94/222, 05:09/12:09, 2.78s/i] "
     ]
    },
    {
     "name": "stdout",
     "output_type": "stream",
     "text": [
      "R(0.13443522)\n"
     ]
    },
    {
     "name": "stderr",
     "output_type": "stream",
     "text": [
      "\r",
      "┣████████▌           ┫ [42.79%, 95/222, 05:13/12:10, 3.80s/i] "
     ]
    },
    {
     "name": "stdout",
     "output_type": "stream",
     "text": [
      "R(0.93337)\n"
     ]
    },
    {
     "name": "stderr",
     "output_type": "stream",
     "text": [
      "\r",
      "┣████████▋           ┫ [43.24%, 96/222, 05:15/12:10, 2.94s/i] "
     ]
    },
    {
     "name": "stdout",
     "output_type": "stream",
     "text": [
      "R(3.9024632)\n"
     ]
    },
    {
     "name": "stderr",
     "output_type": "stream",
     "text": [
      "\r",
      "┣████████▋           ┫ [43.69%, 97/222, 05:18/12:09, 2.87s/i] "
     ]
    },
    {
     "name": "stdout",
     "output_type": "stream",
     "text": [
      "R(0.33881518)\n"
     ]
    },
    {
     "name": "stderr",
     "output_type": "stream",
     "text": [
      "\r",
      "┣████████▊           ┫ [44.14%, 98/222, 05:21/12:07, 2.78s/i] "
     ]
    },
    {
     "name": "stdout",
     "output_type": "stream",
     "text": [
      "R(0.8458531)\n"
     ]
    },
    {
     "name": "stderr",
     "output_type": "stream",
     "text": [
      "\r",
      "┣████████▉           ┫ [44.59%, 99/222, 05:24/12:06, 2.52s/i] "
     ]
    },
    {
     "name": "stdout",
     "output_type": "stream",
     "text": [
      "R(9.419594)\n"
     ]
    },
    {
     "name": "stderr",
     "output_type": "stream",
     "text": [
      "\r",
      "┣█████████           ┫ [45.05%, 100/222, 05:28/12:09, 4.70s/i] "
     ]
    },
    {
     "name": "stdout",
     "output_type": "stream",
     "text": [
      "R(7.12094)\n"
     ]
    },
    {
     "name": "stderr",
     "output_type": "stream",
     "text": [
      "\r",
      "┣█████████           ┫ [45.50%, 101/222, 05:32/12:09, 3.26s/i] "
     ]
    },
    {
     "name": "stdout",
     "output_type": "stream",
     "text": [
      "R(1.5354625)\n"
     ]
    },
    {
     "name": "stderr",
     "output_type": "stream",
     "text": [
      "\r",
      "┣█████████▏          ┫ [45.95%, 102/222, 05:34/12:08, 2.83s/i] "
     ]
    },
    {
     "name": "stdout",
     "output_type": "stream",
     "text": [
      "R(0.34004256)\n"
     ]
    },
    {
     "name": "stderr",
     "output_type": "stream",
     "text": [
      "\r",
      "┣█████████▎          ┫ [46.40%, 103/222, 05:37/12:06, 2.35s/i] "
     ]
    },
    {
     "name": "stdout",
     "output_type": "stream",
     "text": [
      "R(5.286509)\n"
     ]
    },
    {
     "name": "stderr",
     "output_type": "stream",
     "text": [
      "\r",
      "┣█████████▎          ┫ [46.85%, 104/222, 05:41/12:09, 4.54s/i] "
     ]
    },
    {
     "name": "stdout",
     "output_type": "stream",
     "text": [
      "R(0.35189638)\n"
     ]
    },
    {
     "name": "stderr",
     "output_type": "stream",
     "text": [
      "\r",
      "┣█████████▍          ┫ [47.30%, 105/222, 05:44/12:08, 2.83s/i] "
     ]
    },
    {
     "name": "stdout",
     "output_type": "stream",
     "text": [
      "R(3.1983056)\n"
     ]
    },
    {
     "name": "stderr",
     "output_type": "stream",
     "text": [
      "\r",
      "┣█████████▌          ┫ [47.75%, 106/222, 05:48/12:08, 3.43s/i] "
     ]
    },
    {
     "name": "stdout",
     "output_type": "stream",
     "text": [
      "R(20.897686)\n"
     ]
    },
    {
     "name": "stderr",
     "output_type": "stream",
     "text": [
      "\r",
      "┣█████████▋          ┫ [48.20%, 107/222, 05:52/12:10, 4.08s/i] "
     ]
    },
    {
     "name": "stdout",
     "output_type": "stream",
     "text": [
      "R(4.0712914)\n"
     ]
    },
    {
     "name": "stderr",
     "output_type": "stream",
     "text": [
      "\r",
      "┣█████████▋          ┫ [48.65%, 108/222, 05:55/12:09, 3.07s/i] "
     ]
    },
    {
     "name": "stdout",
     "output_type": "stream",
     "text": [
      "R(1.0716952)\n"
     ]
    },
    {
     "name": "stderr",
     "output_type": "stream",
     "text": [
      "\r",
      "┣█████████▊          ┫ [49.10%, 109/222, 05:59/12:11, 4.25s/i] "
     ]
    },
    {
     "name": "stdout",
     "output_type": "stream",
     "text": [
      "R(11.492653)\n"
     ]
    },
    {
     "name": "stderr",
     "output_type": "stream",
     "text": [
      "\r",
      "┣█████████▉          ┫ [49.55%, 110/222, 06:02/12:11, 3.31s/i] "
     ]
    },
    {
     "name": "stdout",
     "output_type": "stream",
     "text": [
      "R(3.209688)\n"
     ]
    },
    {
     "name": "stderr",
     "output_type": "stream",
     "text": [
      "\r",
      "┣██████████          ┫ [50.00%, 111/222, 06:05/12:11, 3.11s/i] "
     ]
    },
    {
     "name": "stdout",
     "output_type": "stream",
     "text": [
      "R(0.1847427)\n"
     ]
    },
    {
     "name": "stderr",
     "output_type": "stream",
     "text": [
      "\r",
      "┣██████████          ┫ [50.45%, 112/222, 06:08/12:10, 2.84s/i] "
     ]
    },
    {
     "name": "stdout",
     "output_type": "stream",
     "text": [
      "R(1.8328058)\n"
     ]
    },
    {
     "name": "stderr",
     "output_type": "stream",
     "text": [
      "\r",
      "┣██████████▏         ┫ [50.90%, 113/222, 06:12/12:11, 3.96s/i] "
     ]
    },
    {
     "name": "stdout",
     "output_type": "stream",
     "text": [
      "R(0.7353278)\n"
     ]
    },
    {
     "name": "stderr",
     "output_type": "stream",
     "text": [
      "\r",
      "┣██████████▎         ┫ [51.35%, 114/222, 06:15/12:10, 2.75s/i] "
     ]
    },
    {
     "name": "stdout",
     "output_type": "stream",
     "text": [
      "R(2.582453)\n"
     ]
    },
    {
     "name": "stderr",
     "output_type": "stream",
     "text": [
      "\r",
      "┣██████████▎         ┫ [51.80%, 115/222, 06:18/12:10, 2.99s/i] "
     ]
    },
    {
     "name": "stdout",
     "output_type": "stream",
     "text": [
      "R(4.192327)\n"
     ]
    },
    {
     "name": "stderr",
     "output_type": "stream",
     "text": [
      "\r",
      "┣██████████▍         ┫ [52.25%, 116/222, 06:21/12:09, 2.88s/i] "
     ]
    },
    {
     "name": "stdout",
     "output_type": "stream",
     "text": [
      "R(0.26987737)\n"
     ]
    },
    {
     "name": "stderr",
     "output_type": "stream",
     "text": [
      "\r",
      "┣██████████▌         ┫ [52.70%, 117/222, 06:24/12:08, 2.80s/i] "
     ]
    },
    {
     "name": "stdout",
     "output_type": "stream",
     "text": [
      "R(0.70483)\n"
     ]
    },
    {
     "name": "stderr",
     "output_type": "stream",
     "text": [
      "\r",
      "┣██████████▋         ┫ [53.15%, 118/222, 06:28/12:10, 4.35s/i] "
     ]
    },
    {
     "name": "stdout",
     "output_type": "stream",
     "text": [
      "R(4.273214)\n"
     ]
    },
    {
     "name": "stderr",
     "output_type": "stream",
     "text": [
      "\r",
      "┣██████████▋         ┫ [53.60%, 119/222, 06:31/12:10, 3.35s/i] "
     ]
    },
    {
     "name": "stdout",
     "output_type": "stream",
     "text": [
      "R(0.16658334)\n"
     ]
    },
    {
     "name": "stderr",
     "output_type": "stream",
     "text": [
      "\r",
      "┣██████████▊         ┫ [54.05%, 120/222, 06:34/12:08, 2.44s/i] "
     ]
    },
    {
     "name": "stdout",
     "output_type": "stream",
     "text": [
      "R(0.15600227)\n"
     ]
    },
    {
     "name": "stderr",
     "output_type": "stream",
     "text": [
      "\r",
      "┣██████████▉         ┫ [54.50%, 121/222, 06:37/12:08, 2.78s/i] "
     ]
    },
    {
     "name": "stdout",
     "output_type": "stream",
     "text": [
      "R(1.448837)\n"
     ]
    },
    {
     "name": "stderr",
     "output_type": "stream",
     "text": [
      "\r",
      "┣██████████▉         ┫ [54.95%, 122/222, 06:41/12:10, 4.34s/i] "
     ]
    },
    {
     "name": "stdout",
     "output_type": "stream",
     "text": [
      "R(1.0497113)\n"
     ]
    },
    {
     "name": "stderr",
     "output_type": "stream",
     "text": [
      "\r",
      "┣███████████         ┫ [55.41%, 123/222, 06:44/12:08, 2.72s/i] "
     ]
    },
    {
     "name": "stdout",
     "output_type": "stream",
     "text": [
      "R(0.17943428)\n"
     ]
    },
    {
     "name": "stderr",
     "output_type": "stream",
     "text": [
      "\r",
      "┣███████████▏        ┫ [55.86%, 124/222, 06:46/12:07, 2.59s/i] "
     ]
    },
    {
     "name": "stdout",
     "output_type": "stream",
     "text": [
      "R(3.635222)\n"
     ]
    },
    {
     "name": "stderr",
     "output_type": "stream",
     "text": [
      "\r",
      "┣███████████▎        ┫ [56.31%, 125/222, 06:50/12:07, 3.31s/i] "
     ]
    },
    {
     "name": "stdout",
     "output_type": "stream",
     "text": [
      "R(0.13371761)\n"
     ]
    },
    {
     "name": "stderr",
     "output_type": "stream",
     "text": [
      "\r",
      "┣███████████▎        ┫ [56.76%, 126/222, 06:52/12:06, 2.78s/i] "
     ]
    },
    {
     "name": "stdout",
     "output_type": "stream",
     "text": [
      "R(0.47060028)\n"
     ]
    },
    {
     "name": "stderr",
     "output_type": "stream",
     "text": [
      "\r",
      "┣███████████▍        ┫ [57.21%, 127/222, 06:56/12:08, 4.05s/i] "
     ]
    },
    {
     "name": "stdout",
     "output_type": "stream",
     "text": [
      "R(15.817644)\n"
     ]
    },
    {
     "name": "stderr",
     "output_type": "stream",
     "text": [
      "\r",
      "┣███████████▌        ┫ [57.66%, 128/222, 07:02/12:11, 5.18s/i] "
     ]
    },
    {
     "name": "stdout",
     "output_type": "stream",
     "text": [
      "R(4.756801)\n"
     ]
    },
    {
     "name": "stderr",
     "output_type": "stream",
     "text": [
      "\r",
      "┣███████████▌        ┫ [58.11%, 129/222, 07:05/12:11, 3.17s/i] "
     ]
    },
    {
     "name": "stdout",
     "output_type": "stream",
     "text": [
      "R(0.4711848)\n"
     ]
    },
    {
     "name": "stderr",
     "output_type": "stream",
     "text": [
      "\r",
      "┣███████████▋        ┫ [58.56%, 130/222, 07:07/12:10, 2.73s/i] "
     ]
    },
    {
     "name": "stdout",
     "output_type": "stream",
     "text": [
      "R(0.6589089)\n"
     ]
    },
    {
     "name": "stderr",
     "output_type": "stream",
     "text": [
      "\r",
      "┣███████████▊        ┫ [59.01%, 131/222, 07:12/12:11, 4.22s/i] "
     ]
    },
    {
     "name": "stdout",
     "output_type": "stream",
     "text": [
      "R(1.411583)\n"
     ]
    },
    {
     "name": "stderr",
     "output_type": "stream",
     "text": [
      "\r",
      "┣███████████▉        ┫ [59.46%, 132/222, 07:14/12:10, 2.63s/i] "
     ]
    },
    {
     "name": "stdout",
     "output_type": "stream",
     "text": [
      "R(3.5685425)\n"
     ]
    },
    {
     "name": "stderr",
     "output_type": "stream",
     "text": [
      "\r",
      "┣███████████▉        ┫ [59.91%, 133/222, 07:17/12:10, 2.99s/i] "
     ]
    },
    {
     "name": "stdout",
     "output_type": "stream",
     "text": [
      "R(2.8181767)\n"
     ]
    },
    {
     "name": "stderr",
     "output_type": "stream",
     "text": [
      "\r",
      "┣████████████        ┫ [60.36%, 134/222, 07:20/12:09, 3.06s/i] "
     ]
    },
    {
     "name": "stdout",
     "output_type": "stream",
     "text": [
      "R(5.241535)\n"
     ]
    },
    {
     "name": "stderr",
     "output_type": "stream",
     "text": [
      "\r",
      "┣████████████▏       ┫ [60.81%, 135/222, 07:24/12:10, 3.37s/i] "
     ]
    },
    {
     "name": "stdout",
     "output_type": "stream",
     "text": [
      "R(1.6086745)\n"
     ]
    },
    {
     "name": "stderr",
     "output_type": "stream",
     "text": [
      "\r",
      "┣████████████▎       ┫ [61.26%, 136/222, 07:28/12:12, 4.49s/i] "
     ]
    },
    {
     "name": "stdout",
     "output_type": "stream",
     "text": [
      "R(2.0333323)\n"
     ]
    },
    {
     "name": "stderr",
     "output_type": "stream",
     "text": [
      "\r",
      "┣████████████▎       ┫ [61.71%, 137/222, 07:31/12:11, 3.04s/i] "
     ]
    },
    {
     "name": "stdout",
     "output_type": "stream",
     "text": [
      "R(14.078922)\n"
     ]
    },
    {
     "name": "stderr",
     "output_type": "stream",
     "text": [
      "\r",
      "┣████████████▍       ┫ [62.16%, 138/222, 07:34/12:11, 3.27s/i] "
     ]
    },
    {
     "name": "stdout",
     "output_type": "stream",
     "text": [
      "R(4.5006833)\n"
     ]
    },
    {
     "name": "stderr",
     "output_type": "stream",
     "text": [
      "\r",
      "┣████████████▌       ┫ [62.61%, 139/222, 07:38/12:11, 3.22s/i] "
     ]
    },
    {
     "name": "stdout",
     "output_type": "stream",
     "text": [
      "R(5.5560284)\n"
     ]
    },
    {
     "name": "stderr",
     "output_type": "stream",
     "text": [
      "\r",
      "┣████████████▌       ┫ [63.06%, 140/222, 07:42/12:13, 4.51s/i] "
     ]
    },
    {
     "name": "stdout",
     "output_type": "stream",
     "text": [
      "R(0.23429151)\n"
     ]
    },
    {
     "name": "stderr",
     "output_type": "stream",
     "text": [
      "\r",
      "┣████████████▋       ┫ [63.51%, 141/222, 07:45/12:12, 2.39s/i] "
     ]
    },
    {
     "name": "stdout",
     "output_type": "stream",
     "text": [
      "R(0.52599466)\n"
     ]
    },
    {
     "name": "stderr",
     "output_type": "stream",
     "text": [
      "\r",
      "┣████████████▊       ┫ [63.96%, 142/222, 07:47/12:11, 2.78s/i] "
     ]
    },
    {
     "name": "stdout",
     "output_type": "stream",
     "text": [
      "R(17.34298)\n"
     ]
    },
    {
     "name": "stderr",
     "output_type": "stream",
     "text": [
      "\r",
      "┣████████████▉       ┫ [64.41%, 143/222, 07:52/12:12, 4.42s/i] "
     ]
    },
    {
     "name": "stdout",
     "output_type": "stream",
     "text": [
      "R(1.2887342)\n"
     ]
    },
    {
     "name": "stderr",
     "output_type": "stream",
     "text": [
      "\r",
      "┣████████████▉       ┫ [64.86%, 144/222, 07:55/12:12, 2.85s/i] "
     ]
    },
    {
     "name": "stdout",
     "output_type": "stream",
     "text": [
      "R(0.539779)\n"
     ]
    },
    {
     "name": "stderr",
     "output_type": "stream",
     "text": [
      "\r",
      "┣█████████████       ┫ [65.32%, 145/222, 07:59/12:13, 4.24s/i] "
     ]
    },
    {
     "name": "stdout",
     "output_type": "stream",
     "text": [
      "R(1.3921973)\n"
     ]
    },
    {
     "name": "stderr",
     "output_type": "stream",
     "text": [
      "\r",
      "┣█████████████▏      ┫ [65.77%, 146/222, 08:02/12:12, 2.63s/i] "
     ]
    },
    {
     "name": "stdout",
     "output_type": "stream",
     "text": [
      "R(3.4576614)\n"
     ]
    },
    {
     "name": "stderr",
     "output_type": "stream",
     "text": [
      "\r",
      "┣█████████████▏      ┫ [66.22%, 147/222, 08:05/12:12, 3.12s/i] "
     ]
    },
    {
     "name": "stdout",
     "output_type": "stream",
     "text": [
      "R(1.4407835)\n"
     ]
    },
    {
     "name": "stderr",
     "output_type": "stream",
     "text": [
      "\r",
      "┣█████████████▎      ┫ [66.67%, 148/222, 08:07/12:11, 2.84s/i] "
     ]
    },
    {
     "name": "stdout",
     "output_type": "stream",
     "text": [
      "R(1.6599125)\n"
     ]
    },
    {
     "name": "stderr",
     "output_type": "stream",
     "text": [
      "\r",
      "┣█████████████▍      ┫ [67.12%, 149/222, 08:10/12:11, 2.86s/i] "
     ]
    },
    {
     "name": "stdout",
     "output_type": "stream",
     "text": [
      "R(10.948392)\n"
     ]
    },
    {
     "name": "stderr",
     "output_type": "stream",
     "text": [
      "\r",
      "┣█████████████▌      ┫ [67.57%, 150/222, 08:15/12:13, 5.12s/i] "
     ]
    },
    {
     "name": "stdout",
     "output_type": "stream",
     "text": [
      "R(4.3687186)\n"
     ]
    },
    {
     "name": "stderr",
     "output_type": "stream",
     "text": [
      "\r",
      "┣█████████████▌      ┫ [68.02%, 151/222, 08:19/12:13, 3.16s/i] "
     ]
    },
    {
     "name": "stdout",
     "output_type": "stream",
     "text": [
      "R(1.6516658)\n"
     ]
    },
    {
     "name": "stderr",
     "output_type": "stream",
     "text": [
      "\r",
      "┣█████████████▋      ┫ [68.47%, 152/222, 08:22/12:13, 3.11s/i] "
     ]
    },
    {
     "name": "stdout",
     "output_type": "stream",
     "text": [
      "R(6.0990033)\n"
     ]
    },
    {
     "name": "stderr",
     "output_type": "stream",
     "text": [
      "\r",
      "┣█████████████▊      ┫ [68.92%, 153/222, 08:25/12:13, 3.54s/i] "
     ]
    },
    {
     "name": "stdout",
     "output_type": "stream",
     "text": [
      "R(0.8556929)\n"
     ]
    },
    {
     "name": "stderr",
     "output_type": "stream",
     "text": [
      "\r",
      "┣█████████████▊      ┫ [69.37%, 154/222, 08:28/12:12, 2.71s/i] "
     ]
    },
    {
     "name": "stdout",
     "output_type": "stream",
     "text": [
      "R(0.64725405)\n"
     ]
    },
    {
     "name": "stderr",
     "output_type": "stream",
     "text": [
      "\r",
      "┣█████████████▉      ┫ [69.82%, 155/222, 08:32/12:14, 4.20s/i] "
     ]
    },
    {
     "name": "stdout",
     "output_type": "stream",
     "text": [
      "R(0.4025467)\n"
     ]
    },
    {
     "name": "stderr",
     "output_type": "stream",
     "text": [
      "\r",
      "┣██████████████      ┫ [70.27%, 156/222, 08:35/12:13, 2.77s/i] "
     ]
    },
    {
     "name": "stdout",
     "output_type": "stream",
     "text": [
      "R(16.397446)\n"
     ]
    },
    {
     "name": "stderr",
     "output_type": "stream",
     "text": [
      "\r",
      "┣██████████████▏     ┫ [70.72%, 157/222, 08:38/12:13, 3.51s/i] "
     ]
    },
    {
     "name": "stdout",
     "output_type": "stream",
     "text": [
      "R(4.9014063)\n"
     ]
    },
    {
     "name": "stderr",
     "output_type": "stream",
     "text": [
      "\r",
      "┣██████████████▏     ┫ [71.17%, 158/222, 08:42/12:14, 3.60s/i] "
     ]
    },
    {
     "name": "stdout",
     "output_type": "stream",
     "text": [
      "R(0.52014226)\n"
     ]
    },
    {
     "name": "stderr",
     "output_type": "stream",
     "text": [
      "\r",
      "┣██████████████▎     ┫ [71.62%, 159/222, 08:46/12:14, 3.82s/i] "
     ]
    },
    {
     "name": "stdout",
     "output_type": "stream",
     "text": [
      "R(1.6223851)\n"
     ]
    },
    {
     "name": "stderr",
     "output_type": "stream",
     "text": [
      "\r",
      "┣██████████████▍     ┫ [72.07%, 160/222, 08:49/12:14, 2.94s/i] "
     ]
    },
    {
     "name": "stdout",
     "output_type": "stream",
     "text": [
      "R(0.83975875)\n"
     ]
    },
    {
     "name": "stderr",
     "output_type": "stream",
     "text": [
      "\r",
      "┣██████████████▌     ┫ [72.52%, 161/222, 08:52/12:13, 2.73s/i] "
     ]
    },
    {
     "name": "stdout",
     "output_type": "stream",
     "text": [
      "R(1.1211768)\n"
     ]
    },
    {
     "name": "stderr",
     "output_type": "stream",
     "text": [
      "\r",
      "┣██████████████▌     ┫ [72.97%, 162/222, 08:55/12:13, 3.01s/i] "
     ]
    },
    {
     "name": "stdout",
     "output_type": "stream",
     "text": [
      "R(1.2128866)\n"
     ]
    },
    {
     "name": "stderr",
     "output_type": "stream",
     "text": [
      "\r",
      "┣██████████████▋     ┫ [73.42%, 163/222, 08:57/12:12, 2.88s/i] "
     ]
    },
    {
     "name": "stdout",
     "output_type": "stream",
     "text": [
      "R(0.69259614)\n"
     ]
    },
    {
     "name": "stderr",
     "output_type": "stream",
     "text": [
      "\r",
      "┣██████████████▊     ┫ [73.87%, 164/222, 09:02/12:13, 4.20s/i] "
     ]
    },
    {
     "name": "stdout",
     "output_type": "stream",
     "text": [
      "R(0.14483413)\n"
     ]
    },
    {
     "name": "stderr",
     "output_type": "stream",
     "text": [
      "\r",
      "┣██████████████▊     ┫ [74.32%, 165/222, 09:04/12:12, 2.62s/i] "
     ]
    },
    {
     "name": "stdout",
     "output_type": "stream",
     "text": [
      "R(0.8318277)\n"
     ]
    },
    {
     "name": "stderr",
     "output_type": "stream",
     "text": [
      "\r",
      "┣██████████████▉     ┫ [74.77%, 166/222, 09:07/12:12, 2.82s/i] "
     ]
    },
    {
     "name": "stdout",
     "output_type": "stream",
     "text": [
      "R(2.0201418)\n"
     ]
    },
    {
     "name": "stderr",
     "output_type": "stream",
     "text": [
      "\r",
      "┣███████████████     ┫ [75.23%, 167/222, 09:10/12:12, 3.26s/i] "
     ]
    },
    {
     "name": "stdout",
     "output_type": "stream",
     "text": [
      "R(5.272288)\n"
     ]
    },
    {
     "name": "stderr",
     "output_type": "stream",
     "text": [
      "\r",
      "┣███████████████▏    ┫ [75.68%, 168/222, 09:15/12:13, 4.48s/i] "
     ]
    },
    {
     "name": "stdout",
     "output_type": "stream",
     "text": [
      "R(0.28286162)\n"
     ]
    },
    {
     "name": "stderr",
     "output_type": "stream",
     "text": [
      "\r",
      "┣███████████████▏    ┫ [76.13%, 169/222, 09:18/12:13, 2.84s/i] "
     ]
    },
    {
     "name": "stdout",
     "output_type": "stream",
     "text": [
      "R(0.3545437)\n"
     ]
    },
    {
     "name": "stderr",
     "output_type": "stream",
     "text": [
      "\r",
      "┣███████████████▎    ┫ [76.58%, 170/222, 09:20/12:12, 2.69s/i] "
     ]
    },
    {
     "name": "stdout",
     "output_type": "stream",
     "text": [
      "R(1.3316582)\n"
     ]
    },
    {
     "name": "stderr",
     "output_type": "stream",
     "text": [
      "\r",
      "┣███████████████▍    ┫ [77.03%, 171/222, 09:23/12:11, 2.64s/i] "
     ]
    },
    {
     "name": "stdout",
     "output_type": "stream",
     "text": [
      "R(6.033715)\n"
     ]
    },
    {
     "name": "stderr",
     "output_type": "stream",
     "text": [
      "\r",
      "┣███████████████▍    ┫ [77.48%, 172/222, 09:26/12:11, 3.31s/i] "
     ]
    },
    {
     "name": "stdout",
     "output_type": "stream",
     "text": [
      "R(2.9673767)\n"
     ]
    },
    {
     "name": "stderr",
     "output_type": "stream",
     "text": [
      "\r",
      "┣███████████████▌    ┫ [77.93%, 173/222, 09:31/12:12, 4.37s/i] "
     ]
    },
    {
     "name": "stdout",
     "output_type": "stream",
     "text": [
      "R(0.5867552)\n"
     ]
    },
    {
     "name": "stderr",
     "output_type": "stream",
     "text": [
      "\r",
      "┣███████████████▋    ┫ [78.38%, 174/222, 09:34/12:12, 2.89s/i] "
     ]
    },
    {
     "name": "stdout",
     "output_type": "stream",
     "text": [
      "R(0.2644043)\n"
     ]
    },
    {
     "name": "stderr",
     "output_type": "stream",
     "text": [
      "\r",
      "┣███████████████▊    ┫ [78.83%, 175/222, 09:36/12:11, 2.38s/i] "
     ]
    },
    {
     "name": "stdout",
     "output_type": "stream",
     "text": [
      "R(0.6000505)\n"
     ]
    },
    {
     "name": "stderr",
     "output_type": "stream",
     "text": [
      "\r",
      "┣███████████████▊    ┫ [79.28%, 176/222, 09:39/12:10, 2.76s/i] "
     ]
    },
    {
     "name": "stdout",
     "output_type": "stream",
     "text": [
      "R(1.5548933)\n"
     ]
    },
    {
     "name": "stderr",
     "output_type": "stream",
     "text": [
      "\r",
      "┣███████████████▉    ┫ [79.73%, 177/222, 09:43/12:11, 4.23s/i] "
     ]
    },
    {
     "name": "stdout",
     "output_type": "stream",
     "text": [
      "R(0.07313491)\n"
     ]
    },
    {
     "name": "stderr",
     "output_type": "stream",
     "text": [
      "\r",
      "┣████████████████    ┫ [80.18%, 178/222, 09:45/12:10, 2.33s/i] "
     ]
    },
    {
     "name": "stdout",
     "output_type": "stream",
     "text": [
      "R(2.0573487)\n"
     ]
    },
    {
     "name": "stderr",
     "output_type": "stream",
     "text": [
      "\r",
      "┣████████████████▏   ┫ [80.63%, 179/222, 09:48/12:10, 3.14s/i] "
     ]
    },
    {
     "name": "stdout",
     "output_type": "stream",
     "text": [
      "R(0.8862467)\n"
     ]
    },
    {
     "name": "stderr",
     "output_type": "stream",
     "text": [
      "\r",
      "┣████████████████▏   ┫ [81.08%, 180/222, 09:51/12:09, 2.63s/i] "
     ]
    },
    {
     "name": "stdout",
     "output_type": "stream",
     "text": [
      "R(1.076127)\n"
     ]
    },
    {
     "name": "stderr",
     "output_type": "stream",
     "text": [
      "\r",
      "┣████████████████▎   ┫ [81.53%, 181/222, 09:54/12:08, 2.53s/i] "
     ]
    },
    {
     "name": "stdout",
     "output_type": "stream",
     "text": [
      "R(1.749325)\n"
     ]
    },
    {
     "name": "stderr",
     "output_type": "stream",
     "text": [
      "\r",
      "┣████████████████▍   ┫ [81.98%, 182/222, 09:58/12:09, 4.47s/i] "
     ]
    },
    {
     "name": "stdout",
     "output_type": "stream",
     "text": [
      "R(0.16282071)\n"
     ]
    },
    {
     "name": "stderr",
     "output_type": "stream",
     "text": [
      "\r",
      "┣████████████████▍   ┫ [82.43%, 183/222, 10:01/12:09, 2.63s/i] "
     ]
    },
    {
     "name": "stdout",
     "output_type": "stream",
     "text": [
      "R(0.16285053)\n"
     ]
    },
    {
     "name": "stderr",
     "output_type": "stream",
     "text": [
      "\r",
      "┣████████████████▌   ┫ [82.88%, 184/222, 10:03/12:08, 2.83s/i] "
     ]
    },
    {
     "name": "stdout",
     "output_type": "stream",
     "text": [
      "R(1.0388775)\n"
     ]
    },
    {
     "name": "stderr",
     "output_type": "stream",
     "text": [
      "\r",
      "┣████████████████▋   ┫ [83.33%, 185/222, 10:06/12:08, 2.90s/i] "
     ]
    },
    {
     "name": "stdout",
     "output_type": "stream",
     "text": [
      "R(8.225025)\n"
     ]
    },
    {
     "name": "stderr",
     "output_type": "stream",
     "text": [
      "\r",
      "┣████████████████▊   ┫ [83.78%, 186/222, 10:11/12:09, 4.40s/i] "
     ]
    },
    {
     "name": "stdout",
     "output_type": "stream",
     "text": [
      "R(4.5077505)\n"
     ]
    },
    {
     "name": "stderr",
     "output_type": "stream",
     "text": [
      "\r",
      "┣████████████████▊   ┫ [84.23%, 187/222, 10:14/12:09, 3.14s/i] "
     ]
    },
    {
     "name": "stdout",
     "output_type": "stream",
     "text": [
      "R(39.970833)\n"
     ]
    },
    {
     "name": "stderr",
     "output_type": "stream",
     "text": [
      "\r",
      "┣████████████████▉   ┫ [84.68%, 188/222, 10:19/12:11, 4.89s/i] "
     ]
    },
    {
     "name": "stdout",
     "output_type": "stream",
     "text": [
      "R(38.374863)\n"
     ]
    },
    {
     "name": "stderr",
     "output_type": "stream",
     "text": [
      "\r",
      "┣█████████████████   ┫ [85.14%, 189/222, 10:23/12:12, 4.55s/i] "
     ]
    },
    {
     "name": "stdout",
     "output_type": "stream",
     "text": [
      "R(15.770606)\n"
     ]
    },
    {
     "name": "stderr",
     "output_type": "stream",
     "text": [
      "\r",
      "┣█████████████████   ┫ [85.59%, 190/222, 10:27/12:13, 4.02s/i] "
     ]
    },
    {
     "name": "stdout",
     "output_type": "stream",
     "text": [
      "R(11.665871)\n"
     ]
    },
    {
     "name": "stderr",
     "output_type": "stream",
     "text": [
      "\r",
      "┣█████████████████▏  ┫ [86.04%, 191/222, 10:32/12:15, 4.85s/i] "
     ]
    },
    {
     "name": "stdout",
     "output_type": "stream",
     "text": [
      "R(5.062149)\n"
     ]
    },
    {
     "name": "stderr",
     "output_type": "stream",
     "text": [
      "\r",
      "┣█████████████████▎  ┫ [86.49%, 192/222, 10:35/12:15, 3.11s/i] "
     ]
    },
    {
     "name": "stdout",
     "output_type": "stream",
     "text": [
      "R(2.0734076)\n"
     ]
    },
    {
     "name": "stderr",
     "output_type": "stream",
     "text": [
      "\r",
      "┣█████████████████▍  ┫ [86.94%, 193/222, 10:39/12:14, 3.16s/i] "
     ]
    },
    {
     "name": "stdout",
     "output_type": "stream",
     "text": [
      "R(2.9848561)\n"
     ]
    },
    {
     "name": "stderr",
     "output_type": "stream",
     "text": [
      "\r",
      "┣█████████████████▍  ┫ [87.39%, 194/222, 10:42/12:14, 3.00s/i] "
     ]
    },
    {
     "name": "stdout",
     "output_type": "stream",
     "text": [
      "R(2.3494318)\n"
     ]
    },
    {
     "name": "stderr",
     "output_type": "stream",
     "text": [
      "\r",
      "┣█████████████████▌  ┫ [87.84%, 195/222, 10:46/12:15, 4.25s/i] "
     ]
    },
    {
     "name": "stdout",
     "output_type": "stream",
     "text": [
      "R(0.6523598)\n"
     ]
    },
    {
     "name": "stderr",
     "output_type": "stream",
     "text": [
      "\r",
      "┣█████████████████▋  ┫ [88.29%, 196/222, 10:48/12:15, 2.73s/i] "
     ]
    },
    {
     "name": "stdout",
     "output_type": "stream",
     "text": [
      "R(34.929134)\n"
     ]
    },
    {
     "name": "stderr",
     "output_type": "stream",
     "text": [
      "\r",
      "┣█████████████████▋  ┫ [88.74%, 197/222, 10:54/12:17, 5.44s/i] "
     ]
    },
    {
     "name": "stdout",
     "output_type": "stream",
     "text": [
      "R(0.643802)\n"
     ]
    },
    {
     "name": "stderr",
     "output_type": "stream",
     "text": [
      "\r",
      "┣█████████████████▊  ┫ [89.19%, 198/222, 10:57/12:16, 2.81s/i] "
     ]
    },
    {
     "name": "stdout",
     "output_type": "stream",
     "text": [
      "R(23.151035)\n"
     ]
    },
    {
     "name": "stderr",
     "output_type": "stream",
     "text": [
      "\r",
      "┣█████████████████▉  ┫ [89.64%, 199/222, 11:00/12:16, 3.25s/i] "
     ]
    },
    {
     "name": "stdout",
     "output_type": "stream",
     "text": [
      "R(1.4206994)\n"
     ]
    },
    {
     "name": "stderr",
     "output_type": "stream",
     "text": [
      "\r",
      "┣██████████████████  ┫ [90.09%, 200/222, 11:05/12:18, 4.57s/i] "
     ]
    },
    {
     "name": "stdout",
     "output_type": "stream",
     "text": [
      "R(3.844277)\n"
     ]
    },
    {
     "name": "stderr",
     "output_type": "stream",
     "text": [
      "\r",
      "┣██████████████████  ┫ [90.54%, 201/222, 11:08/12:18, 3.41s/i] "
     ]
    },
    {
     "name": "stdout",
     "output_type": "stream",
     "text": [
      "R(0.14925566)\n"
     ]
    },
    {
     "name": "stderr",
     "output_type": "stream",
     "text": [
      "\r",
      "┣██████████████████▏ ┫ [90.99%, 202/222, 11:10/12:17, 2.51s/i] "
     ]
    },
    {
     "name": "stdout",
     "output_type": "stream",
     "text": [
      "R(0.5784959)\n"
     ]
    },
    {
     "name": "stderr",
     "output_type": "stream",
     "text": [
      "\r",
      "┣██████████████████▎ ┫ [91.44%, 203/222, 11:13/12:16, 2.80s/i] "
     ]
    },
    {
     "name": "stdout",
     "output_type": "stream",
     "text": [
      "R(2.5347514)\n"
     ]
    },
    {
     "name": "stderr",
     "output_type": "stream",
     "text": [
      "\r",
      "┣██████████████████▍ ┫ [91.89%, 204/222, 11:16/12:16, 3.17s/i] "
     ]
    },
    {
     "name": "stdout",
     "output_type": "stream",
     "text": [
      "R(20.127586)\n"
     ]
    },
    {
     "name": "stderr",
     "output_type": "stream",
     "text": [
      "\r",
      "┣██████████████████▍ ┫ [92.34%, 205/222, 11:22/12:19, 5.68s/i] "
     ]
    },
    {
     "name": "stdout",
     "output_type": "stream",
     "text": [
      "R(0.24663785)\n"
     ]
    },
    {
     "name": "stderr",
     "output_type": "stream",
     "text": [
      "\r",
      "┣██████████████████▌ ┫ [92.79%, 206/222, 11:25/12:18, 2.81s/i] "
     ]
    },
    {
     "name": "stdout",
     "output_type": "stream",
     "text": [
      "R(5.7610726)\n"
     ]
    },
    {
     "name": "stderr",
     "output_type": "stream",
     "text": [
      "\r",
      "┣██████████████████▋ ┫ [93.24%, 207/222, 11:28/12:18, 3.35s/i] "
     ]
    },
    {
     "name": "stdout",
     "output_type": "stream",
     "text": [
      "R(3.6660454)\n"
     ]
    },
    {
     "name": "stderr",
     "output_type": "stream",
     "text": [
      "\r",
      "┣██████████████████▋ ┫ [93.69%, 208/222, 11:32/12:18, 3.31s/i] "
     ]
    },
    {
     "name": "stdout",
     "output_type": "stream",
     "text": [
      "R(7.414694)\n"
     ]
    },
    {
     "name": "stderr",
     "output_type": "stream",
     "text": [
      "\r",
      "┣██████████████████▊ ┫ [94.14%, 209/222, 11:35/12:18, 3.46s/i] "
     ]
    },
    {
     "name": "stdout",
     "output_type": "stream",
     "text": [
      "R(1.0759833)\n"
     ]
    },
    {
     "name": "stderr",
     "output_type": "stream",
     "text": [
      "\r",
      "┣██████████████████▉ ┫ [94.59%, 210/222, 11:39/12:19, 4.04s/i] "
     ]
    },
    {
     "name": "stdout",
     "output_type": "stream",
     "text": [
      "R(0.42704076)\n"
     ]
    },
    {
     "name": "stderr",
     "output_type": "stream",
     "text": [
      "\r",
      "┣███████████████████ ┫ [95.05%, 211/222, 11:42/12:18, 2.65s/i] "
     ]
    },
    {
     "name": "stdout",
     "output_type": "stream",
     "text": [
      "R(5.899428)\n"
     ]
    },
    {
     "name": "stderr",
     "output_type": "stream",
     "text": [
      "\r",
      "┣███████████████████ ┫ [95.50%, 212/222, 11:45/12:18, 2.94s/i] "
     ]
    },
    {
     "name": "stdout",
     "output_type": "stream",
     "text": [
      "R(3.3811247)\n"
     ]
    },
    {
     "name": "stderr",
     "output_type": "stream",
     "text": [
      "\r",
      "┣███████████████████▏┫ [95.95%, 213/222, 11:48/12:18, 3.23s/i] "
     ]
    },
    {
     "name": "stdout",
     "output_type": "stream",
     "text": [
      "R(4.5259933)\n"
     ]
    },
    {
     "name": "stderr",
     "output_type": "stream",
     "text": [
      "\r",
      "┣███████████████████▎┫ [96.40%, 214/222, 11:53/12:19, 4.61s/i] "
     ]
    },
    {
     "name": "stdout",
     "output_type": "stream",
     "text": [
      "R(0.1937984)\n"
     ]
    },
    {
     "name": "stderr",
     "output_type": "stream",
     "text": [
      "\r",
      "┣███████████████████▎┫ [96.85%, 215/222, 11:55/12:18, 2.48s/i] "
     ]
    },
    {
     "name": "stdout",
     "output_type": "stream",
     "text": [
      "R(0.086215444)\n"
     ]
    },
    {
     "name": "stderr",
     "output_type": "stream",
     "text": [
      "\r",
      "┣███████████████████▍┫ [97.30%, 216/222, 11:58/12:17, 2.56s/i] "
     ]
    },
    {
     "name": "stdout",
     "output_type": "stream",
     "text": [
      "R(4.269465)\n"
     ]
    },
    {
     "name": "stderr",
     "output_type": "stream",
     "text": [
      "\r",
      "┣███████████████████▌┫ [97.75%, 217/222, 12:00/12:17, 2.64s/i] "
     ]
    },
    {
     "name": "stdout",
     "output_type": "stream",
     "text": [
      "R(0.6235185)\n"
     ]
    },
    {
     "name": "stderr",
     "output_type": "stream",
     "text": [
      "\r",
      "┣███████████████████▋┫ [98.20%, 218/222, 12:03/12:16, 2.82s/i] "
     ]
    },
    {
     "name": "stdout",
     "output_type": "stream",
     "text": [
      "R(10.856325)\n"
     ]
    },
    {
     "name": "stderr",
     "output_type": "stream",
     "text": [
      "\r",
      "┣███████████████████▋┫ [98.65%, 219/222, 12:08/12:18, 5.12s/i] "
     ]
    },
    {
     "name": "stdout",
     "output_type": "stream",
     "text": [
      "R(1.758227)\n"
     ]
    },
    {
     "name": "stderr",
     "output_type": "stream",
     "text": [
      "\r",
      "┣███████████████████▊┫ [99.10%, 220/222, 12:11/12:18, 3.13s/i] "
     ]
    },
    {
     "name": "stdout",
     "output_type": "stream",
     "text": [
      "R(3.9681923)\n"
     ]
    },
    {
     "name": "stderr",
     "output_type": "stream",
     "text": [
      "\r",
      "┣███████████████████▉┫ [99.55%, 221/222, 12:14/12:18, 3.08s/i] "
     ]
    },
    {
     "name": "stdout",
     "output_type": "stream",
     "text": [
      "R(1.6398147)\n"
     ]
    },
    {
     "name": "stderr",
     "output_type": "stream",
     "text": [
      "┣████████████████████┫ [100.00%, 222/222, 12:17/12:17, 3.32s/i] \n"
     ]
    },
    {
     "name": "stdout",
     "output_type": "stream",
     "text": [
      "R(2.2733796)\n"
     ]
    },
    {
     "name": "stderr",
     "output_type": "stream",
     "text": [
      "\r",
      "┣                    ┫ [0.45%, 1/222, 00:04/15:25, 4.17s/i] "
     ]
    },
    {
     "name": "stdout",
     "output_type": "stream",
     "text": [
      "R(2.154516)\n"
     ]
    },
    {
     "name": "stderr",
     "output_type": "stream",
     "text": [
      "\r",
      "┣▏                   ┫ [0.90%, 2/222, 00:07/13:36, 3.18s/i] "
     ]
    },
    {
     "name": "stdout",
     "output_type": "stream",
     "text": [
      "R(2.0295336)\n"
     ]
    },
    {
     "name": "stderr",
     "output_type": "stream",
     "text": [
      "\r",
      "┣▎                   ┫ [1.35%, 3/222, 00:10/12:41, 2.94s/i] "
     ]
    },
    {
     "name": "stdout",
     "output_type": "stream",
     "text": [
      "R(2.9105372)\n"
     ]
    },
    {
     "name": "stderr",
     "output_type": "stream",
     "text": [
      "\r",
      "┣▎                   ┫ [1.80%, 4/222, 00:14/12:38, 3.37s/i] "
     ]
    },
    {
     "name": "stdout",
     "output_type": "stream",
     "text": [
      "R(0.1235392)\n"
     ]
    },
    {
     "name": "stderr",
     "output_type": "stream",
     "text": [
      "\r",
      "┣▍                   ┫ [2.25%, 5/222, 00:16/12:10, 2.79s/i] "
     ]
    },
    {
     "name": "stdout",
     "output_type": "stream",
     "text": [
      "R(0.68575156)\n"
     ]
    },
    {
     "name": "stderr",
     "output_type": "stream",
     "text": [
      "\r",
      "┣▌                   ┫ [2.70%, 6/222, 00:21/12:43, 4.17s/i] "
     ]
    },
    {
     "name": "stdout",
     "output_type": "stream",
     "text": [
      "R(1.2493812)\n"
     ]
    },
    {
     "name": "stderr",
     "output_type": "stream",
     "text": [
      "\r",
      "┣▋                   ┫ [3.15%, 7/222, 00:24/12:29, 3.01s/i] "
     ]
    },
    {
     "name": "stdout",
     "output_type": "stream",
     "text": [
      "R(0.93167126)\n"
     ]
    },
    {
     "name": "stderr",
     "output_type": "stream",
     "text": [
      "\r",
      "┣▋                   ┫ [3.60%, 8/222, 00:26/12:05, 2.49s/i] "
     ]
    },
    {
     "name": "stdout",
     "output_type": "stream",
     "text": [
      "R(0.21245229)\n"
     ]
    },
    {
     "name": "stderr",
     "output_type": "stream",
     "text": [
      "\r",
      "┣▊                   ┫ [4.05%, 9/222, 00:29/11:50, 2.65s/i] "
     ]
    },
    {
     "name": "stdout",
     "output_type": "stream",
     "text": [
      "R(3.7056136)\n"
     ]
    },
    {
     "name": "stderr",
     "output_type": "stream",
     "text": [
      "\r",
      "┣▉                   ┫ [4.50%, 10/222, 00:33/12:21, 4.64s/i] "
     ]
    },
    {
     "name": "stdout",
     "output_type": "stream",
     "text": [
      "R(0.35365254)\n"
     ]
    },
    {
     "name": "stderr",
     "output_type": "stream",
     "text": [
      "\r",
      "┣▉                   ┫ [4.95%, 11/222, 00:36/12:08, 2.67s/i] "
     ]
    },
    {
     "name": "stdout",
     "output_type": "stream",
     "text": [
      "R(0.12693837)\n"
     ]
    },
    {
     "name": "stderr",
     "output_type": "stream",
     "text": [
      "\r",
      "┣█                   ┫ [5.41%, 12/222, 00:39/11:56, 2.63s/i] "
     ]
    },
    {
     "name": "stdout",
     "output_type": "stream",
     "text": [
      "R(0.96221566)\n"
     ]
    },
    {
     "name": "stderr",
     "output_type": "stream",
     "text": [
      "\r",
      "┣█▏                  ┫ [5.86%, 13/222, 00:42/11:51, 2.91s/i] "
     ]
    },
    {
     "name": "stdout",
     "output_type": "stream",
     "text": [
      "R(1.341403)\n"
     ]
    },
    {
     "name": "stderr",
     "output_type": "stream",
     "text": [
      "\r",
      "┣█▎                  ┫ [6.31%, 14/222, 00:44/11:45, 2.82s/i] "
     ]
    },
    {
     "name": "stdout",
     "output_type": "stream",
     "text": [
      "R(0.6346077)\n"
     ]
    },
    {
     "name": "stderr",
     "output_type": "stream",
     "text": [
      "\r",
      "┣█▎                  ┫ [6.76%, 15/222, 00:49/12:05, 4.58s/i] "
     ]
    },
    {
     "name": "stdout",
     "output_type": "stream",
     "text": [
      "R(1.4329687)\n"
     ]
    },
    {
     "name": "stderr",
     "output_type": "stream",
     "text": [
      "\r",
      "┣█▍                  ┫ [7.21%, 16/222, 00:52/12:06, 3.27s/i] "
     ]
    },
    {
     "name": "stdout",
     "output_type": "stream",
     "text": [
      "R(1.2925282)\n"
     ]
    },
    {
     "name": "stderr",
     "output_type": "stream",
     "text": [
      "\r",
      "┣█▌                  ┫ [7.66%, 17/222, 00:55/11:59, 2.76s/i] "
     ]
    },
    {
     "name": "stdout",
     "output_type": "stream",
     "text": [
      "R(12.724175)\n"
     ]
    },
    {
     "name": "stderr",
     "output_type": "stream",
     "text": [
      "\r",
      "┣█▌                  ┫ [8.11%, 18/222, 01:00/12:22, 5.10s/i] "
     ]
    },
    {
     "name": "stdout",
     "output_type": "stream",
     "text": [
      "R(0.14962465)\n"
     ]
    },
    {
     "name": "stderr",
     "output_type": "stream",
     "text": [
      "\r",
      "┣█▋                  ┫ [8.56%, 19/222, 01:04/12:26, 3.71s/i] "
     ]
    },
    {
     "name": "stdout",
     "output_type": "stream",
     "text": [
      "R(0.9604877)\n"
     ]
    },
    {
     "name": "stderr",
     "output_type": "stream",
     "text": [
      "\r",
      "┣█▊                  ┫ [9.01%, 20/222, 01:06/12:17, 2.55s/i] "
     ]
    },
    {
     "name": "stdout",
     "output_type": "stream",
     "text": [
      "R(9.571166)\n"
     ]
    },
    {
     "name": "stderr",
     "output_type": "stream",
     "text": [
      "\r",
      "┣█▉                  ┫ [9.46%, 21/222, 01:10/12:19, 3.52s/i] "
     ]
    },
    {
     "name": "stdout",
     "output_type": "stream",
     "text": [
      "R(0.1073295)\n"
     ]
    },
    {
     "name": "stderr",
     "output_type": "stream",
     "text": [
      "\r",
      "┣█▉                  ┫ [9.91%, 22/222, 01:13/12:13, 2.71s/i] "
     ]
    },
    {
     "name": "stdout",
     "output_type": "stream",
     "text": [
      "R(1.6353946)\n"
     ]
    },
    {
     "name": "stderr",
     "output_type": "stream",
     "text": [
      "\r",
      "┣██                  ┫ [10.36%, 23/222, 01:16/12:12, 3.17s/i] "
     ]
    },
    {
     "name": "stdout",
     "output_type": "stream",
     "text": [
      "R(0.19047627)\n"
     ]
    },
    {
     "name": "stderr",
     "output_type": "stream",
     "text": [
      "\r",
      "┣██▏                 ┫ [10.81%, 24/222, 01:20/12:20, 4.21s/i] "
     ]
    },
    {
     "name": "stdout",
     "output_type": "stream",
     "text": [
      "R(3.8773243)\n"
     ]
    },
    {
     "name": "stderr",
     "output_type": "stream",
     "text": [
      "\r",
      "┣██▎                 ┫ [11.26%, 25/222, 01:23/12:19, 3.19s/i] "
     ]
    },
    {
     "name": "stdout",
     "output_type": "stream",
     "text": [
      "R(1.154344)\n"
     ]
    },
    {
     "name": "stderr",
     "output_type": "stream",
     "text": [
      "\r",
      "┣██▎                 ┫ [11.71%, 26/222, 01:26/12:16, 3.03s/i] "
     ]
    },
    {
     "name": "stdout",
     "output_type": "stream",
     "text": [
      "R(0.80113065)\n"
     ]
    },
    {
     "name": "stderr",
     "output_type": "stream",
     "text": [
      "\r",
      "┣██▍                 ┫ [12.16%, 27/222, 01:29/12:13, 2.95s/i] "
     ]
    },
    {
     "name": "stdout",
     "output_type": "stream",
     "text": [
      "R(0.02879781)\n"
     ]
    },
    {
     "name": "stderr",
     "output_type": "stream",
     "text": [
      "\r",
      "┣██▌                 ┫ [12.61%, 28/222, 01:33/12:18, 3.95s/i] "
     ]
    },
    {
     "name": "stdout",
     "output_type": "stream",
     "text": [
      "R(0.6001285)\n"
     ]
    },
    {
     "name": "stderr",
     "output_type": "stream",
     "text": [
      "\r",
      "┣██▌                 ┫ [13.06%, 29/222, 01:36/12:15, 2.95s/i] "
     ]
    },
    {
     "name": "stdout",
     "output_type": "stream",
     "text": [
      "R(0.20893273)\n"
     ]
    },
    {
     "name": "stderr",
     "output_type": "stream",
     "text": [
      "\r",
      "┣██▋                 ┫ [13.51%, 30/222, 01:39/12:12, 2.83s/i] "
     ]
    },
    {
     "name": "stdout",
     "output_type": "stream",
     "text": [
      "R(0.37923336)\n"
     ]
    },
    {
     "name": "stderr",
     "output_type": "stream",
     "text": [
      "\r",
      "┣██▊                 ┫ [13.96%, 31/222, 01:42/12:09, 2.85s/i] "
     ]
    },
    {
     "name": "stdout",
     "output_type": "stream",
     "text": [
      "R(0.17102183)\n"
     ]
    },
    {
     "name": "stderr",
     "output_type": "stream",
     "text": [
      "\r",
      "┣██▉                 ┫ [14.41%, 32/222, 01:45/12:05, 2.76s/i] "
     ]
    },
    {
     "name": "stdout",
     "output_type": "stream",
     "text": [
      "R(0.4076558)\n"
     ]
    },
    {
     "name": "stderr",
     "output_type": "stream",
     "text": [
      "\r",
      "┣██▉                 ┫ [14.86%, 33/222, 01:49/12:11, 4.20s/i] "
     ]
    },
    {
     "name": "stdout",
     "output_type": "stream",
     "text": [
      "R(14.475786)\n"
     ]
    },
    {
     "name": "stderr",
     "output_type": "stream",
     "text": [
      "\r",
      "┣███                 ┫ [15.32%, 34/222, 01:53/12:16, 4.00s/i] "
     ]
    },
    {
     "name": "stdout",
     "output_type": "stream",
     "text": [
      "R(1.4423193)\n"
     ]
    },
    {
     "name": "stderr",
     "output_type": "stream",
     "text": [
      "\r",
      "┣███▏                ┫ [15.77%, 35/222, 01:56/12:14, 2.94s/i] "
     ]
    },
    {
     "name": "stdout",
     "output_type": "stream",
     "text": [
      "R(1.6909598)\n"
     ]
    },
    {
     "name": "stderr",
     "output_type": "stream",
     "text": [
      "\r",
      "┣███▏                ┫ [16.22%, 36/222, 01:59/12:12, 3.04s/i] "
     ]
    },
    {
     "name": "stdout",
     "output_type": "stream",
     "text": [
      "R(3.4186187)\n"
     ]
    },
    {
     "name": "stderr",
     "output_type": "stream",
     "text": [
      "\r",
      "┣███▎                ┫ [16.67%, 37/222, 02:03/12:19, 4.41s/i] "
     ]
    },
    {
     "name": "stdout",
     "output_type": "stream",
     "text": [
      "R(1.4568684)\n"
     ]
    },
    {
     "name": "stderr",
     "output_type": "stream",
     "text": [
      "\r",
      "┣███▍                ┫ [17.12%, 38/222, 02:06/12:15, 2.68s/i] "
     ]
    },
    {
     "name": "stdout",
     "output_type": "stream",
     "text": [
      "R(0.46520582)\n"
     ]
    },
    {
     "name": "stderr",
     "output_type": "stream",
     "text": [
      "\r",
      "┣███▌                ┫ [17.57%, 39/222, 02:08/12:11, 2.69s/i] "
     ]
    },
    {
     "name": "stdout",
     "output_type": "stream",
     "text": [
      "R(0.41231647)\n"
     ]
    },
    {
     "name": "stderr",
     "output_type": "stream",
     "text": [
      "\r",
      "┣███▌                ┫ [18.02%, 40/222, 02:11/12:09, 2.83s/i] "
     ]
    },
    {
     "name": "stdout",
     "output_type": "stream",
     "text": [
      "R(7.9074883)\n"
     ]
    },
    {
     "name": "stderr",
     "output_type": "stream",
     "text": [
      "\r",
      "┣███▋                ┫ [18.47%, 41/222, 02:15/12:10, 3.52s/i] "
     ]
    },
    {
     "name": "stdout",
     "output_type": "stream",
     "text": [
      "R(0.53636503)\n"
     ]
    },
    {
     "name": "stderr",
     "output_type": "stream",
     "text": [
      "\r",
      "┣███▊                ┫ [18.92%, 42/222, 02:19/12:15, 4.21s/i] "
     ]
    },
    {
     "name": "stdout",
     "output_type": "stream",
     "text": [
      "R(0.051985633)\n"
     ]
    },
    {
     "name": "stderr",
     "output_type": "stream",
     "text": [
      "\r",
      "┣███▊                ┫ [19.37%, 43/222, 02:22/12:11, 2.49s/i] "
     ]
    },
    {
     "name": "stdout",
     "output_type": "stream",
     "text": [
      "R(2.1513898)\n"
     ]
    },
    {
     "name": "stderr",
     "output_type": "stream",
     "text": [
      "\r",
      "┣███▉                ┫ [19.82%, 44/222, 02:25/12:09, 3.03s/i] "
     ]
    },
    {
     "name": "stdout",
     "output_type": "stream",
     "text": [
      "R(1.2759719)\n"
     ]
    },
    {
     "name": "stderr",
     "output_type": "stream",
     "text": [
      "\r",
      "┣████                ┫ [20.27%, 45/222, 02:27/12:07, 2.91s/i] "
     ]
    },
    {
     "name": "stdout",
     "output_type": "stream",
     "text": [
      "R(1.3402119)\n"
     ]
    },
    {
     "name": "stderr",
     "output_type": "stream",
     "text": [
      "\r",
      "┣████▏               ┫ [20.72%, 46/222, 02:32/12:11, 4.06s/i] "
     ]
    },
    {
     "name": "stdout",
     "output_type": "stream",
     "text": [
      "R(2.2502995)\n"
     ]
    },
    {
     "name": "stderr",
     "output_type": "stream",
     "text": [
      "\r",
      "┣████▏               ┫ [21.17%, 47/222, 02:35/12:10, 3.06s/i] "
     ]
    },
    {
     "name": "stdout",
     "output_type": "stream",
     "text": [
      "R(0.2627642)\n"
     ]
    },
    {
     "name": "stderr",
     "output_type": "stream",
     "text": [
      "\r",
      "┣████▎               ┫ [21.62%, 48/222, 02:38/12:09, 2.96s/i] "
     ]
    },
    {
     "name": "stdout",
     "output_type": "stream",
     "text": [
      "R(0.060509436)\n"
     ]
    },
    {
     "name": "stderr",
     "output_type": "stream",
     "text": [
      "\r",
      "┣████▍               ┫ [22.07%, 49/222, 02:40/12:05, 2.59s/i] "
     ]
    },
    {
     "name": "stdout",
     "output_type": "stream",
     "text": [
      "R(3.4636748)\n"
     ]
    },
    {
     "name": "stderr",
     "output_type": "stream",
     "text": [
      "\r",
      "┣████▌               ┫ [22.52%, 50/222, 02:43/12:03, 2.81s/i] "
     ]
    },
    {
     "name": "stdout",
     "output_type": "stream",
     "text": [
      "R(0.15913998)\n"
     ]
    },
    {
     "name": "stderr",
     "output_type": "stream",
     "text": [
      "\r",
      "┣████▌               ┫ [22.97%, 51/222, 02:47/12:08, 4.23s/i] "
     ]
    },
    {
     "name": "stdout",
     "output_type": "stream",
     "text": [
      "R(0.5636763)\n"
     ]
    },
    {
     "name": "stderr",
     "output_type": "stream",
     "text": [
      "\r",
      "┣████▋               ┫ [23.42%, 52/222, 02:50/12:05, 2.74s/i] "
     ]
    },
    {
     "name": "stdout",
     "output_type": "stream",
     "text": [
      "R(23.681871)\n"
     ]
    },
    {
     "name": "stderr",
     "output_type": "stream",
     "text": [
      "\r",
      "┣████▊               ┫ [23.87%, 53/222, 02:54/12:07, 3.66s/i] "
     ]
    },
    {
     "name": "stdout",
     "output_type": "stream",
     "text": [
      "R(4.029065)\n"
     ]
    },
    {
     "name": "stderr",
     "output_type": "stream",
     "text": [
      "\r",
      "┣████▊               ┫ [24.32%, 54/222, 02:57/12:06, 3.14s/i] "
     ]
    },
    {
     "name": "stdout",
     "output_type": "stream",
     "text": [
      "R(4.723928)\n"
     ]
    },
    {
     "name": "stderr",
     "output_type": "stream",
     "text": [
      "\r",
      "┣████▉               ┫ [24.77%, 55/222, 03:01/12:12, 4.55s/i] "
     ]
    },
    {
     "name": "stdout",
     "output_type": "stream",
     "text": [
      "R(0.4457553)\n"
     ]
    },
    {
     "name": "stderr",
     "output_type": "stream",
     "text": [
      "\r",
      "┣█████               ┫ [25.23%, 56/222, 03:04/12:09, 2.65s/i] "
     ]
    },
    {
     "name": "stdout",
     "output_type": "stream",
     "text": [
      "R(23.208778)\n"
     ]
    },
    {
     "name": "stderr",
     "output_type": "stream",
     "text": [
      "\r",
      "┣█████▏              ┫ [25.68%, 57/222, 03:08/12:12, 4.04s/i] "
     ]
    },
    {
     "name": "stdout",
     "output_type": "stream",
     "text": [
      "R(4.292991)\n"
     ]
    },
    {
     "name": "stderr",
     "output_type": "stream",
     "text": [
      "\r",
      "┣█████▏              ┫ [26.13%, 58/222, 03:11/12:11, 3.14s/i] "
     ]
    },
    {
     "name": "stdout",
     "output_type": "stream",
     "text": [
      "R(11.7861595)\n"
     ]
    },
    {
     "name": "stderr",
     "output_type": "stream",
     "text": [
      "\r",
      "┣█████▎              ┫ [26.58%, 59/222, 03:15/12:13, 3.64s/i] "
     ]
    },
    {
     "name": "stdout",
     "output_type": "stream",
     "text": [
      "R(1.1363595)\n"
     ]
    },
    {
     "name": "stderr",
     "output_type": "stream",
     "text": [
      "\r",
      "┣█████▍              ┫ [27.03%, 60/222, 03:19/12:16, 4.19s/i] "
     ]
    },
    {
     "name": "stdout",
     "output_type": "stream",
     "text": [
      "R(1.7485306)\n"
     ]
    },
    {
     "name": "stderr",
     "output_type": "stream",
     "text": [
      "\r",
      "┣█████▍              ┫ [27.48%, 61/222, 03:22/12:15, 2.94s/i] "
     ]
    },
    {
     "name": "stdout",
     "output_type": "stream",
     "text": [
      "R(0.7601567)\n"
     ]
    },
    {
     "name": "stderr",
     "output_type": "stream",
     "text": [
      "\r",
      "┣█████▌              ┫ [27.93%, 62/222, 03:25/12:12, 2.67s/i] "
     ]
    },
    {
     "name": "stdout",
     "output_type": "stream",
     "text": [
      "R(5.0720143)\n"
     ]
    },
    {
     "name": "stderr",
     "output_type": "stream",
     "text": [
      "\r",
      "┣█████▋              ┫ [28.38%, 63/222, 03:28/12:12, 3.13s/i] "
     ]
    },
    {
     "name": "stdout",
     "output_type": "stream",
     "text": [
      "R(2.2178895)\n"
     ]
    },
    {
     "name": "stderr",
     "output_type": "stream",
     "text": [
      "\r",
      "┣█████▊              ┫ [28.83%, 64/222, 03:32/12:15, 4.32s/i] "
     ]
    },
    {
     "name": "stdout",
     "output_type": "stream",
     "text": [
      "R(0.1965358)\n"
     ]
    },
    {
     "name": "stderr",
     "output_type": "stream",
     "text": [
      "\r",
      "┣█████▊              ┫ [29.28%, 65/222, 03:35/12:13, 2.68s/i] "
     ]
    },
    {
     "name": "stdout",
     "output_type": "stream",
     "text": [
      "R(42.180164)\n"
     ]
    },
    {
     "name": "stderr",
     "output_type": "stream",
     "text": [
      "\r",
      "┣█████▉              ┫ [29.73%, 66/222, 03:40/12:21, 5.55s/i] "
     ]
    },
    {
     "name": "stdout",
     "output_type": "stream",
     "text": [
      "R(3.7369587)\n"
     ]
    },
    {
     "name": "stderr",
     "output_type": "stream",
     "text": [
      "\r",
      "┣██████              ┫ [30.18%, 67/222, 03:43/12:19, 2.84s/i] "
     ]
    },
    {
     "name": "stdout",
     "output_type": "stream",
     "text": [
      "R(1.1990247)\n"
     ]
    },
    {
     "name": "stderr",
     "output_type": "stream",
     "text": [
      "\r",
      "┣██████▏             ┫ [30.63%, 68/222, 03:46/12:18, 3.11s/i] "
     ]
    },
    {
     "name": "stdout",
     "output_type": "stream",
     "text": [
      "R(2.0007892)\n"
     ]
    },
    {
     "name": "stderr",
     "output_type": "stream",
     "text": [
      "\r",
      "┣██████▏             ┫ [31.08%, 69/222, 03:51/12:23, 4.83s/i] "
     ]
    },
    {
     "name": "stdout",
     "output_type": "stream",
     "text": [
      "R(0.9951582)\n"
     ]
    },
    {
     "name": "stderr",
     "output_type": "stream",
     "text": [
      "\r",
      "┣██████▎             ┫ [31.53%, 70/222, 03:54/12:21, 2.80s/i] "
     ]
    },
    {
     "name": "stdout",
     "output_type": "stream",
     "text": [
      "R(3.1792927)\n"
     ]
    },
    {
     "name": "stderr",
     "output_type": "stream",
     "text": [
      "\r",
      "┣██████▍             ┫ [31.98%, 71/222, 03:57/12:21, 3.09s/i] "
     ]
    },
    {
     "name": "stdout",
     "output_type": "stream",
     "text": [
      "R(0.43233487)\n"
     ]
    },
    {
     "name": "stderr",
     "output_type": "stream",
     "text": [
      "\r",
      "┣██████▍             ┫ [32.43%, 72/222, 04:00/12:19, 2.85s/i] "
     ]
    },
    {
     "name": "stdout",
     "output_type": "stream",
     "text": [
      "R(4.0565577)\n"
     ]
    },
    {
     "name": "stderr",
     "output_type": "stream",
     "text": [
      "\r",
      "┣██████▌             ┫ [32.88%, 73/222, 04:04/12:23, 4.51s/i] "
     ]
    },
    {
     "name": "stdout",
     "output_type": "stream",
     "text": [
      "R(0.68076336)\n"
     ]
    },
    {
     "name": "stderr",
     "output_type": "stream",
     "text": [
      "\r",
      "┣██████▋             ┫ [33.33%, 74/222, 04:07/12:22, 3.11s/i] "
     ]
    },
    {
     "name": "stdout",
     "output_type": "stream",
     "text": [
      "R(0.5780987)\n"
     ]
    },
    {
     "name": "stderr",
     "output_type": "stream",
     "text": [
      "\r",
      "┣██████▊             ┫ [33.78%, 75/222, 04:10/12:20, 2.79s/i] "
     ]
    },
    {
     "name": "stdout",
     "output_type": "stream",
     "text": [
      "R(14.971817)\n"
     ]
    },
    {
     "name": "stderr",
     "output_type": "stream",
     "text": [
      "\r",
      "┣██████▊             ┫ [34.23%, 76/222, 04:13/12:20, 3.30s/i] "
     ]
    },
    {
     "name": "stdout",
     "output_type": "stream",
     "text": [
      "R(2.6374524)\n"
     ]
    },
    {
     "name": "stderr",
     "output_type": "stream",
     "text": [
      "\r",
      "┣██████▉             ┫ [34.68%, 77/222, 04:17/12:20, 3.18s/i] "
     ]
    },
    {
     "name": "stdout",
     "output_type": "stream",
     "text": [
      "R(2.190686)\n"
     ]
    },
    {
     "name": "stderr",
     "output_type": "stream",
     "text": [
      "\r",
      "┣███████             ┫ [35.14%, 78/222, 04:21/12:23, 4.58s/i] "
     ]
    },
    {
     "name": "stdout",
     "output_type": "stream",
     "text": [
      "R(2.7704027)\n"
     ]
    },
    {
     "name": "stderr",
     "output_type": "stream",
     "text": [
      "\r",
      "┣███████             ┫ [35.59%, 79/222, 04:24/12:22, 2.99s/i] "
     ]
    },
    {
     "name": "stdout",
     "output_type": "stream",
     "text": [
      "R(0.76490575)\n"
     ]
    },
    {
     "name": "stderr",
     "output_type": "stream",
     "text": [
      "\r",
      "┣███████▏            ┫ [36.04%, 80/222, 04:27/12:20, 2.43s/i] "
     ]
    },
    {
     "name": "stdout",
     "output_type": "stream",
     "text": [
      "R(0.047884133)\n"
     ]
    },
    {
     "name": "stderr",
     "output_type": "stream",
     "text": [
      "\r",
      "┣███████▎            ┫ [36.49%, 81/222, 04:29/12:18, 2.61s/i] "
     ]
    },
    {
     "name": "stdout",
     "output_type": "stream",
     "text": [
      "R(1.6368077)\n"
     ]
    },
    {
     "name": "stderr",
     "output_type": "stream",
     "text": [
      "\r",
      "┣███████▍            ┫ [36.94%, 82/222, 04:33/12:20, 4.31s/i] "
     ]
    },
    {
     "name": "stdout",
     "output_type": "stream",
     "text": [
      "R(0.39114496)\n"
     ]
    },
    {
     "name": "stderr",
     "output_type": "stream",
     "text": [
      "\r",
      "┣███████▍            ┫ [37.39%, 83/222, 04:36/12:19, 2.71s/i] "
     ]
    },
    {
     "name": "stdout",
     "output_type": "stream",
     "text": [
      "R(41.64525)\n"
     ]
    },
    {
     "name": "stderr",
     "output_type": "stream",
     "text": [
      "\r",
      "┣███████▌            ┫ [37.84%, 84/222, 04:41/12:22, 4.73s/i] "
     ]
    },
    {
     "name": "stdout",
     "output_type": "stream",
     "text": [
      "R(6.0526066)\n"
     ]
    },
    {
     "name": "stderr",
     "output_type": "stream",
     "text": [
      "\r",
      "┣███████▋            ┫ [38.29%, 85/222, 04:44/12:22, 3.26s/i] "
     ]
    },
    {
     "name": "stdout",
     "output_type": "stream",
     "text": [
      "R(3.098696)\n"
     ]
    },
    {
     "name": "stderr",
     "output_type": "stream",
     "text": [
      "\r",
      "┣███████▋            ┫ [38.74%, 86/222, 04:47/12:22, 3.29s/i] "
     ]
    },
    {
     "name": "stdout",
     "output_type": "stream",
     "text": [
      "R(1.2600656)\n"
     ]
    },
    {
     "name": "stderr",
     "output_type": "stream",
     "text": [
      "\r",
      "┣███████▊            ┫ [39.19%, 87/222, 04:52/12:25, 4.49s/i] "
     ]
    },
    {
     "name": "stdout",
     "output_type": "stream",
     "text": [
      "R(0.55935293)\n"
     ]
    },
    {
     "name": "stderr",
     "output_type": "stream",
     "text": [
      "\r",
      "┣███████▉            ┫ [39.64%, 88/222, 04:54/12:23, 2.49s/i] "
     ]
    },
    {
     "name": "stdout",
     "output_type": "stream",
     "text": [
      "R(0.41495368)\n"
     ]
    },
    {
     "name": "stderr",
     "output_type": "stream",
     "text": [
      "\r",
      "┣████████            ┫ [40.09%, 89/222, 04:57/12:21, 2.77s/i] "
     ]
    },
    {
     "name": "stdout",
     "output_type": "stream",
     "text": [
      "R(0.6910252)\n"
     ]
    },
    {
     "name": "stderr",
     "output_type": "stream",
     "text": [
      "\r",
      "┣████████            ┫ [40.54%, 90/222, 05:00/12:20, 2.85s/i] "
     ]
    },
    {
     "name": "stdout",
     "output_type": "stream",
     "text": [
      "R(1.9938278)\n"
     ]
    },
    {
     "name": "stderr",
     "output_type": "stream",
     "text": [
      "\r",
      "┣████████▏           ┫ [40.99%, 91/222, 05:04/12:23, 4.33s/i] "
     ]
    },
    {
     "name": "stdout",
     "output_type": "stream",
     "text": [
      "R(15.853867)\n"
     ]
    },
    {
     "name": "stderr",
     "output_type": "stream",
     "text": [
      "\r",
      "┣████████▎           ┫ [41.44%, 92/222, 05:08/12:23, 3.57s/i] "
     ]
    },
    {
     "name": "stdout",
     "output_type": "stream",
     "text": [
      "R(5.607111)\n"
     ]
    },
    {
     "name": "stderr",
     "output_type": "stream",
     "text": [
      "\r",
      "┣████████▍           ┫ [41.89%, 93/222, 05:12/12:25, 4.16s/i] "
     ]
    },
    {
     "name": "stdout",
     "output_type": "stream",
     "text": [
      "R(0.24444176)\n"
     ]
    },
    {
     "name": "stderr",
     "output_type": "stream",
     "text": [
      "\r",
      "┣████████▍           ┫ [42.34%, 94/222, 05:15/12:24, 2.75s/i] "
     ]
    },
    {
     "name": "stdout",
     "output_type": "stream",
     "text": [
      "R(1.4883329)\n"
     ]
    },
    {
     "name": "stderr",
     "output_type": "stream",
     "text": [
      "\r",
      "┣████████▌           ┫ [42.79%, 95/222, 05:18/12:23, 3.07s/i] "
     ]
    },
    {
     "name": "stdout",
     "output_type": "stream",
     "text": [
      "R(1.1522009)\n"
     ]
    },
    {
     "name": "stderr",
     "output_type": "stream",
     "text": [
      "\r",
      "┣████████▋           ┫ [43.24%, 96/222, 05:22/12:26, 4.49s/i] "
     ]
    },
    {
     "name": "stdout",
     "output_type": "stream",
     "text": [
      "R(41.425003)\n"
     ]
    },
    {
     "name": "stderr",
     "output_type": "stream",
     "text": [
      "\r",
      "┣████████▋           ┫ [43.69%, 97/222, 05:27/12:29, 4.93s/i] "
     ]
    },
    {
     "name": "stdout",
     "output_type": "stream",
     "text": [
      "R(15.690962)\n"
     ]
    },
    {
     "name": "stderr",
     "output_type": "stream",
     "text": [
      "\r",
      "┣████████▊           ┫ [44.14%, 98/222, 05:31/12:29, 3.40s/i] "
     ]
    },
    {
     "name": "stdout",
     "output_type": "stream",
     "text": [
      "R(0.1290311)\n"
     ]
    },
    {
     "name": "stderr",
     "output_type": "stream",
     "text": [
      "\r",
      "┣████████▉           ┫ [44.59%, 99/222, 05:33/12:28, 2.65s/i] "
     ]
    },
    {
     "name": "stdout",
     "output_type": "stream",
     "text": [
      "R(1.1353896)\n"
     ]
    },
    {
     "name": "stderr",
     "output_type": "stream",
     "text": [
      "\r",
      "┣█████████           ┫ [45.05%, 100/222, 05:37/12:29, 4.03s/i] "
     ]
    },
    {
     "name": "stdout",
     "output_type": "stream",
     "text": [
      "R(18.54307)\n"
     ]
    },
    {
     "name": "stderr",
     "output_type": "stream",
     "text": [
      "\r",
      "┣█████████           ┫ [45.50%, 101/222, 05:41/12:30, 3.85s/i] "
     ]
    },
    {
     "name": "stdout",
     "output_type": "stream",
     "text": [
      "R(0.672879)\n"
     ]
    },
    {
     "name": "stderr",
     "output_type": "stream",
     "text": [
      "\r",
      "┣█████████▏          ┫ [45.95%, 102/222, 05:44/12:29, 2.82s/i] "
     ]
    },
    {
     "name": "stdout",
     "output_type": "stream",
     "text": [
      "R(0.27074578)\n"
     ]
    },
    {
     "name": "stderr",
     "output_type": "stream",
     "text": [
      "\r",
      "┣█████████▎          ┫ [46.40%, 103/222, 05:47/12:27, 2.56s/i] "
     ]
    },
    {
     "name": "stdout",
     "output_type": "stream",
     "text": [
      "R(0.055821773)\n"
     ]
    },
    {
     "name": "stderr",
     "output_type": "stream",
     "text": [
      "┣█████████▎          ┫ [46.85%, 104/222, 05:49/12:26, 2.59s/i] IOPub message rate exceeded.\n",
      "The notebook server will temporarily stop sending output\n",
      "to the client in order to avoid crashing it.\n",
      "To change this limit, set the config variable\n",
      "`--NotebookApp.iopub_msg_rate_limit`.\n",
      "\n",
      "Current values:\n",
      "NotebookApp.iopub_msg_rate_limit=1000.0 (msgs/sec)\n",
      "NotebookApp.rate_limit_window=3.0 (secs)\n",
      "\n"
     ]
    }
   ],
   "source": [
    "    @load  (string(opt[\"data_dir\"]) * \"/map.jld2\") managers\n",
    "    word_manager, form_manager = managers\n",
    "    train_loader = MinibatchLoader( \"train\", true)\n",
    "    \n",
    "    \n",
    "    ##-- model \n",
    "    if !isdir(opt[\"checkpoint_dir\"])\n",
    "        mkdir(opt[\"checkpoint_dir\"])\n",
    "    end\n",
    "    model = L2L(word_manager.vocab_size, form_manager.vocab_size, opt, form_manager, word_manager)\n",
    "\n",
    "    ##-- start training -- rmsprop  adam\n",
    "    step = 0\n",
    "    epoch = 0\n",
    "    optim_state = Dict(\"learningRate\" => opt[\"learning_rate\"], \"alpha\" =>  opt[\"decay_rate\"])\n",
    "\n",
    "    ctrain_loader = collect(train_loader)\n",
    "    for epoch in 1:130\n",
    "\n",
    "        #progress!(sgd(model, ctrain_loader; lr=optim_state[\"learningRate\"],  gclip=5), steps=1) \n",
    "        progress!(rmsprop(model, ctrain_loader; lr=optim_state[\"learningRate\"],rho=0.95,  gclip=5), steps=1)\n",
    "        if epoch >= opt[\"learning_rate_decay_after\"] \n",
    "            for paramtr in Knet.params(model); paramtr.opt.lr = paramtr.opt.lr*opt[\"learning_rate_decay\"]; end\n",
    "            optim_state[\"learningRate\"]=optim_state[\"learningRate\"]*opt[\"learning_rate_decay\"]\n",
    "        end\n",
    "        #shuffle!( ctrain_loader)\n",
    "    end\n",
    "    checkpoint = Dict()\n",
    "    checkpoint[\"lang2logic_model\"] = model\n",
    "    checkpoint[\"opt\"] = opt\n",
    "    checkpoint[\"epoch\"] = epoch\n",
    "    Knet.save(opt[\"checkpoint_dir\"] *\"/model_seq2seq.jld2\", \"checkpoint\", checkpoint)\n",
    "\n",
    "    Knet.save(\"attn-$(Int(time_ns())).jld2\", \"model\", model)"
   ]
  },
  {
   "cell_type": "code",
   "execution_count": null,
   "metadata": {},
   "outputs": [],
   "source": [
    "    for epoch in 1:15\n",
    "\n",
    "        #progress!(sgd(model, ctrain_loader; lr=optim_state[\"learningRate\"],  gclip=5), steps=1) \n",
    "        progress!(rmsprop(model, ctrain_loader; lr=optim_state[\"learningRate\"],rho=0.95,  gclip=5), steps=1)\n",
    "\n",
    "        for paramtr in Knet.params(model); paramtr.opt.lr = paramtr.opt.lr*opt[\"learning_rate_decay\"]; end\n",
    "        optim_state[\"learningRate\"]=optim_state[\"learningRate\"]*opt[\"learning_rate_decay\"]\n",
    "\n",
    "        shuffle!( ctrain_loader)\n",
    "    end"
   ]
  },
  {
   "cell_type": "code",
   "execution_count": 18,
   "metadata": {},
   "outputs": [
    {
     "name": "stdout",
     "output_type": "stream",
     "text": [
      "ACCURACY = 0.6629464285714286\n"
     ]
    },
    {
     "data": {
      "text/plain": [
       "30"
      ]
     },
     "execution_count": 18,
     "metadata": {},
     "output_type": "execute_result"
    }
   ],
   "source": [
    "Random.seed!(123)\n",
    "reference_list = []\n",
    "candidate_list = []\n",
    "@load  (string(opt[\"data_dir\"]) * \"/test.jld2\") data\n",
    "l_model = Knet.load(opt[\"checkpoint_dir\"] *\"/model_seq2seq.jld2\")\n",
    "l_model=l_model[\"checkpoint\"][\"lang2logic_model\"]\n",
    "@load  (string(opt[\"data_dir\"]) * \"/map.jld2\") managers\n",
    "word_manager, form_manager = managers\n",
    "open(\"../output/seq2seq_output.txt\", \"w\") do output\n",
    "    for i in range(1, stop=length(data))\n",
    "        x = data[i]\n",
    "        reference = x[2]\n",
    "        candidate = do_generate(l_model, x[1], word_manager, form_manager)\n",
    "        candidate = [Int(c) for c in candidate]\n",
    "        ref_str = convert_to_string(reference, form_manager)\n",
    "        cand_str = convert_to_string(candidate, form_manager)\n",
    "        push!(reference_list, reference)\n",
    "        push!(candidate_list, candidate)\n",
    "        write(output, string(ref_str) *\"\\n\")                    \n",
    "        write(output, string(cand_str) *\"\\n\") \n",
    "    end\n",
    "    val_acc = compute_tree_accuracy(candidate_list, reference_list, form_manager)\n",
    "    print(\"ACCURACY = \" * string(val_acc) * \"\\n\")\n",
    "    write(output,\"ACCURACY = \" * string(val_acc) *\"\\n\") \n",
    "end\n",
    "\n"
   ]
  },
  {
   "cell_type": "code",
   "execution_count": null,
   "metadata": {},
   "outputs": [],
   "source": []
  }
 ],
 "metadata": {
  "kernelspec": {
   "display_name": "Julia 1.5.4",
   "language": "julia",
   "name": "julia-1.5"
  },
  "language_info": {
   "file_extension": ".jl",
   "mimetype": "application/julia",
   "name": "julia",
   "version": "1.5.4"
  }
 },
 "nbformat": 4,
 "nbformat_minor": 5
}
